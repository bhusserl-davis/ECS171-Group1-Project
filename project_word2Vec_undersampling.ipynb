{
  "cells": [
    {
      "cell_type": "markdown",
      "metadata": {
        "id": "view-in-github",
        "colab_type": "text"
      },
      "source": [
        "<a href=\"https://colab.research.google.com/github/bhusserl-davis/ECS171-Group1-Project/blob/main/project_word2Vec_undersampling.ipynb\" target=\"_parent\"><img src=\"https://colab.research.google.com/assets/colab-badge.svg\" alt=\"Open In Colab\"/></a>"
      ]
    },
    {
      "cell_type": "markdown",
      "metadata": {
        "id": "gntRQBTvsH61"
      },
      "source": [
        "## Imports"
      ]
    },
    {
      "cell_type": "code",
      "execution_count": 1,
      "metadata": {
        "id": "mkDI0UoFsH6_",
        "outputId": "98e24a9c-62f9-4ff6-ce92-7a94fd335a8d",
        "colab": {
          "base_uri": "https://localhost:8080/"
        }
      },
      "outputs": [
        {
          "output_type": "stream",
          "name": "stdout",
          "text": [
            "  Building wheel for sklearn (setup.py) ... \u001b[?25l\u001b[?25hdone\n",
            "\u001b[K     |████████████████████████████████| 371 kB 6.3 MB/s \n",
            "\u001b[K     |████████████████████████████████| 24.2 MB 1.4 MB/s \n",
            "\u001b[?25h"
          ]
        }
      ],
      "source": [
        "# Download Needed Packages\n",
        "import sys\n",
        "!{sys.executable} -m pip install -q pandas\n",
        "!{sys.executable} -m pip install -q nltk\n",
        "!{sys.executable} -m pip install -q sklearn\n",
        "!{sys.executable} -m pip install -q wordcloud==1.8.1\n",
        "!{sys.executable} -m pip install -q gensim==3.8.3\n",
        "!{sys.executable} -m pip install -q keras\n",
        "!{sys.executable} -m pip install -q numpy\n",
        "!{sys.executable} -m pip install -q matplotlib"
      ]
    },
    {
      "cell_type": "code",
      "execution_count": 2,
      "metadata": {
        "id": "XUBwYzkusH7D"
      },
      "outputs": [],
      "source": [
        "# Import needed libraries and download needed data\n",
        "import string\n",
        "import pandas as pd\n",
        "import nltk\n",
        "nltk.download('stopwords', quiet=True)\n",
        "from nltk.corpus import stopwords\n",
        "nltk.download('punkt', quiet=True)\n",
        "from nltk.tokenize import word_tokenize\n",
        "from sklearn.metrics import classification_report\n",
        "from sklearn.model_selection import train_test_split\n",
        "from wordcloud import WordCloud"
      ]
    },
    {
      "cell_type": "markdown",
      "metadata": {
        "id": "duXaTruMsH7F"
      },
      "source": [
        "## Data Exploration"
      ]
    },
    {
      "cell_type": "code",
      "execution_count": 3,
      "metadata": {
        "colab": {
          "base_uri": "https://localhost:8080/",
          "height": 617
        },
        "id": "8RVGvjx5sH7G",
        "outputId": "d5dd08ed-1ecf-4250-ca10-3d856edc641e"
      },
      "outputs": [
        {
          "output_type": "stream",
          "name": "stdout",
          "text": [
            "17880 observations, 18 features\n"
          ]
        },
        {
          "output_type": "display_data",
          "data": {
            "text/plain": [
              "   job_id                                      title            location  \\\n",
              "0       1                           Marketing Intern    US, NY, New York   \n",
              "1       2  Customer Service - Cloud Video Production      NZ, , Auckland   \n",
              "2       3    Commissioning Machinery Assistant (CMA)       US, IA, Wever   \n",
              "3       4          Account Executive - Washington DC  US, DC, Washington   \n",
              "4       5                        Bill Review Manager  US, FL, Fort Worth   \n",
              "\n",
              "  department salary_range                                    company_profile  \\\n",
              "0  Marketing          NaN  We're Food52, and we've created a groundbreaki...   \n",
              "1    Success          NaN  90 Seconds, the worlds Cloud Video Production ...   \n",
              "2        NaN          NaN  Valor Services provides Workforce Solutions th...   \n",
              "3      Sales          NaN  Our passion for improving quality of life thro...   \n",
              "4        NaN          NaN  SpotSource Solutions LLC is a Global Human Cap...   \n",
              "\n",
              "                                         description  \\\n",
              "0  Food52, a fast-growing, James Beard Award-winn...   \n",
              "1  Organised - Focused - Vibrant - Awesome!Do you...   \n",
              "2  Our client, located in Houston, is actively se...   \n",
              "3  THE COMPANY: ESRI – Environmental Systems Rese...   \n",
              "4  JOB TITLE: Itemization Review ManagerLOCATION:...   \n",
              "\n",
              "                                        requirements  \\\n",
              "0  Experience with content management systems a m...   \n",
              "1  What we expect from you:Your key responsibilit...   \n",
              "2  Implement pre-commissioning and commissioning ...   \n",
              "3  EDUCATION: Bachelor’s or Master’s in GIS, busi...   \n",
              "4  QUALIFICATIONS:RN license in the State of Texa...   \n",
              "\n",
              "                                            benefits  telecommuting  \\\n",
              "0                                                NaN              0   \n",
              "1  What you will get from usThrough being part of...              0   \n",
              "2                                                NaN              0   \n",
              "3  Our culture is anything but corporate—we have ...              0   \n",
              "4                              Full Benefits Offered              0   \n",
              "\n",
              "   has_company_logo  has_questions employment_type required_experience  \\\n",
              "0                 1              0           Other          Internship   \n",
              "1                 1              0       Full-time      Not Applicable   \n",
              "2                 1              0             NaN                 NaN   \n",
              "3                 1              0       Full-time    Mid-Senior level   \n",
              "4                 1              1       Full-time    Mid-Senior level   \n",
              "\n",
              "  required_education                   industry              function  \\\n",
              "0                NaN                        NaN             Marketing   \n",
              "1                NaN  Marketing and Advertising      Customer Service   \n",
              "2                NaN                        NaN                   NaN   \n",
              "3  Bachelor's Degree          Computer Software                 Sales   \n",
              "4  Bachelor's Degree     Hospital & Health Care  Health Care Provider   \n",
              "\n",
              "   fraudulent  \n",
              "0           0  \n",
              "1           0  \n",
              "2           0  \n",
              "3           0  \n",
              "4           0  "
            ],
            "text/html": [
              "\n",
              "  <div id=\"df-2453a05c-9302-4e85-8a62-224778342c40\">\n",
              "    <div class=\"colab-df-container\">\n",
              "      <div>\n",
              "<style scoped>\n",
              "    .dataframe tbody tr th:only-of-type {\n",
              "        vertical-align: middle;\n",
              "    }\n",
              "\n",
              "    .dataframe tbody tr th {\n",
              "        vertical-align: top;\n",
              "    }\n",
              "\n",
              "    .dataframe thead th {\n",
              "        text-align: right;\n",
              "    }\n",
              "</style>\n",
              "<table border=\"1\" class=\"dataframe\">\n",
              "  <thead>\n",
              "    <tr style=\"text-align: right;\">\n",
              "      <th></th>\n",
              "      <th>job_id</th>\n",
              "      <th>title</th>\n",
              "      <th>location</th>\n",
              "      <th>department</th>\n",
              "      <th>salary_range</th>\n",
              "      <th>company_profile</th>\n",
              "      <th>description</th>\n",
              "      <th>requirements</th>\n",
              "      <th>benefits</th>\n",
              "      <th>telecommuting</th>\n",
              "      <th>has_company_logo</th>\n",
              "      <th>has_questions</th>\n",
              "      <th>employment_type</th>\n",
              "      <th>required_experience</th>\n",
              "      <th>required_education</th>\n",
              "      <th>industry</th>\n",
              "      <th>function</th>\n",
              "      <th>fraudulent</th>\n",
              "    </tr>\n",
              "  </thead>\n",
              "  <tbody>\n",
              "    <tr>\n",
              "      <th>0</th>\n",
              "      <td>1</td>\n",
              "      <td>Marketing Intern</td>\n",
              "      <td>US, NY, New York</td>\n",
              "      <td>Marketing</td>\n",
              "      <td>NaN</td>\n",
              "      <td>We're Food52, and we've created a groundbreaki...</td>\n",
              "      <td>Food52, a fast-growing, James Beard Award-winn...</td>\n",
              "      <td>Experience with content management systems a m...</td>\n",
              "      <td>NaN</td>\n",
              "      <td>0</td>\n",
              "      <td>1</td>\n",
              "      <td>0</td>\n",
              "      <td>Other</td>\n",
              "      <td>Internship</td>\n",
              "      <td>NaN</td>\n",
              "      <td>NaN</td>\n",
              "      <td>Marketing</td>\n",
              "      <td>0</td>\n",
              "    </tr>\n",
              "    <tr>\n",
              "      <th>1</th>\n",
              "      <td>2</td>\n",
              "      <td>Customer Service - Cloud Video Production</td>\n",
              "      <td>NZ, , Auckland</td>\n",
              "      <td>Success</td>\n",
              "      <td>NaN</td>\n",
              "      <td>90 Seconds, the worlds Cloud Video Production ...</td>\n",
              "      <td>Organised - Focused - Vibrant - Awesome!Do you...</td>\n",
              "      <td>What we expect from you:Your key responsibilit...</td>\n",
              "      <td>What you will get from usThrough being part of...</td>\n",
              "      <td>0</td>\n",
              "      <td>1</td>\n",
              "      <td>0</td>\n",
              "      <td>Full-time</td>\n",
              "      <td>Not Applicable</td>\n",
              "      <td>NaN</td>\n",
              "      <td>Marketing and Advertising</td>\n",
              "      <td>Customer Service</td>\n",
              "      <td>0</td>\n",
              "    </tr>\n",
              "    <tr>\n",
              "      <th>2</th>\n",
              "      <td>3</td>\n",
              "      <td>Commissioning Machinery Assistant (CMA)</td>\n",
              "      <td>US, IA, Wever</td>\n",
              "      <td>NaN</td>\n",
              "      <td>NaN</td>\n",
              "      <td>Valor Services provides Workforce Solutions th...</td>\n",
              "      <td>Our client, located in Houston, is actively se...</td>\n",
              "      <td>Implement pre-commissioning and commissioning ...</td>\n",
              "      <td>NaN</td>\n",
              "      <td>0</td>\n",
              "      <td>1</td>\n",
              "      <td>0</td>\n",
              "      <td>NaN</td>\n",
              "      <td>NaN</td>\n",
              "      <td>NaN</td>\n",
              "      <td>NaN</td>\n",
              "      <td>NaN</td>\n",
              "      <td>0</td>\n",
              "    </tr>\n",
              "    <tr>\n",
              "      <th>3</th>\n",
              "      <td>4</td>\n",
              "      <td>Account Executive - Washington DC</td>\n",
              "      <td>US, DC, Washington</td>\n",
              "      <td>Sales</td>\n",
              "      <td>NaN</td>\n",
              "      <td>Our passion for improving quality of life thro...</td>\n",
              "      <td>THE COMPANY: ESRI – Environmental Systems Rese...</td>\n",
              "      <td>EDUCATION: Bachelor’s or Master’s in GIS, busi...</td>\n",
              "      <td>Our culture is anything but corporate—we have ...</td>\n",
              "      <td>0</td>\n",
              "      <td>1</td>\n",
              "      <td>0</td>\n",
              "      <td>Full-time</td>\n",
              "      <td>Mid-Senior level</td>\n",
              "      <td>Bachelor's Degree</td>\n",
              "      <td>Computer Software</td>\n",
              "      <td>Sales</td>\n",
              "      <td>0</td>\n",
              "    </tr>\n",
              "    <tr>\n",
              "      <th>4</th>\n",
              "      <td>5</td>\n",
              "      <td>Bill Review Manager</td>\n",
              "      <td>US, FL, Fort Worth</td>\n",
              "      <td>NaN</td>\n",
              "      <td>NaN</td>\n",
              "      <td>SpotSource Solutions LLC is a Global Human Cap...</td>\n",
              "      <td>JOB TITLE: Itemization Review ManagerLOCATION:...</td>\n",
              "      <td>QUALIFICATIONS:RN license in the State of Texa...</td>\n",
              "      <td>Full Benefits Offered</td>\n",
              "      <td>0</td>\n",
              "      <td>1</td>\n",
              "      <td>1</td>\n",
              "      <td>Full-time</td>\n",
              "      <td>Mid-Senior level</td>\n",
              "      <td>Bachelor's Degree</td>\n",
              "      <td>Hospital &amp; Health Care</td>\n",
              "      <td>Health Care Provider</td>\n",
              "      <td>0</td>\n",
              "    </tr>\n",
              "  </tbody>\n",
              "</table>\n",
              "</div>\n",
              "      <button class=\"colab-df-convert\" onclick=\"convertToInteractive('df-2453a05c-9302-4e85-8a62-224778342c40')\"\n",
              "              title=\"Convert this dataframe to an interactive table.\"\n",
              "              style=\"display:none;\">\n",
              "        \n",
              "  <svg xmlns=\"http://www.w3.org/2000/svg\" height=\"24px\"viewBox=\"0 0 24 24\"\n",
              "       width=\"24px\">\n",
              "    <path d=\"M0 0h24v24H0V0z\" fill=\"none\"/>\n",
              "    <path d=\"M18.56 5.44l.94 2.06.94-2.06 2.06-.94-2.06-.94-.94-2.06-.94 2.06-2.06.94zm-11 1L8.5 8.5l.94-2.06 2.06-.94-2.06-.94L8.5 2.5l-.94 2.06-2.06.94zm10 10l.94 2.06.94-2.06 2.06-.94-2.06-.94-.94-2.06-.94 2.06-2.06.94z\"/><path d=\"M17.41 7.96l-1.37-1.37c-.4-.4-.92-.59-1.43-.59-.52 0-1.04.2-1.43.59L10.3 9.45l-7.72 7.72c-.78.78-.78 2.05 0 2.83L4 21.41c.39.39.9.59 1.41.59.51 0 1.02-.2 1.41-.59l7.78-7.78 2.81-2.81c.8-.78.8-2.07 0-2.86zM5.41 20L4 18.59l7.72-7.72 1.47 1.35L5.41 20z\"/>\n",
              "  </svg>\n",
              "      </button>\n",
              "      \n",
              "  <style>\n",
              "    .colab-df-container {\n",
              "      display:flex;\n",
              "      flex-wrap:wrap;\n",
              "      gap: 12px;\n",
              "    }\n",
              "\n",
              "    .colab-df-convert {\n",
              "      background-color: #E8F0FE;\n",
              "      border: none;\n",
              "      border-radius: 50%;\n",
              "      cursor: pointer;\n",
              "      display: none;\n",
              "      fill: #1967D2;\n",
              "      height: 32px;\n",
              "      padding: 0 0 0 0;\n",
              "      width: 32px;\n",
              "    }\n",
              "\n",
              "    .colab-df-convert:hover {\n",
              "      background-color: #E2EBFA;\n",
              "      box-shadow: 0px 1px 2px rgba(60, 64, 67, 0.3), 0px 1px 3px 1px rgba(60, 64, 67, 0.15);\n",
              "      fill: #174EA6;\n",
              "    }\n",
              "\n",
              "    [theme=dark] .colab-df-convert {\n",
              "      background-color: #3B4455;\n",
              "      fill: #D2E3FC;\n",
              "    }\n",
              "\n",
              "    [theme=dark] .colab-df-convert:hover {\n",
              "      background-color: #434B5C;\n",
              "      box-shadow: 0px 1px 3px 1px rgba(0, 0, 0, 0.15);\n",
              "      filter: drop-shadow(0px 1px 2px rgba(0, 0, 0, 0.3));\n",
              "      fill: #FFFFFF;\n",
              "    }\n",
              "  </style>\n",
              "\n",
              "      <script>\n",
              "        const buttonEl =\n",
              "          document.querySelector('#df-2453a05c-9302-4e85-8a62-224778342c40 button.colab-df-convert');\n",
              "        buttonEl.style.display =\n",
              "          google.colab.kernel.accessAllowed ? 'block' : 'none';\n",
              "\n",
              "        async function convertToInteractive(key) {\n",
              "          const element = document.querySelector('#df-2453a05c-9302-4e85-8a62-224778342c40');\n",
              "          const dataTable =\n",
              "            await google.colab.kernel.invokeFunction('convertToInteractive',\n",
              "                                                     [key], {});\n",
              "          if (!dataTable) return;\n",
              "\n",
              "          const docLinkHtml = 'Like what you see? Visit the ' +\n",
              "            '<a target=\"_blank\" href=https://colab.research.google.com/notebooks/data_table.ipynb>data table notebook</a>'\n",
              "            + ' to learn more about interactive tables.';\n",
              "          element.innerHTML = '';\n",
              "          dataTable['output_type'] = 'display_data';\n",
              "          await google.colab.output.renderOutput(dataTable, element);\n",
              "          const docLink = document.createElement('div');\n",
              "          docLink.innerHTML = docLinkHtml;\n",
              "          element.appendChild(docLink);\n",
              "        }\n",
              "      </script>\n",
              "    </div>\n",
              "  </div>\n",
              "  "
            ]
          },
          "metadata": {}
        }
      ],
      "source": [
        "# Import Data\n",
        "df = pd.read_csv(\"./fake_job_postings.csv\")\n",
        "print(f'{df.shape[0]} observations, {df.shape[1]} features')\n",
        "display(df.head(5))"
      ]
    },
    {
      "cell_type": "code",
      "execution_count": 4,
      "metadata": {
        "colab": {
          "base_uri": "https://localhost:8080/"
        },
        "id": "YyMeutk0grON",
        "outputId": "a30b1102-1ebc-436c-ac4f-a40cc326b655"
      },
      "outputs": [
        {
          "output_type": "stream",
          "name": "stdout",
          "text": [
            "Column\t\t    NaNs   Type\n",
            "job_id              0      int64\n",
            "title               0      object\n",
            "location            346    object\n",
            "department          11547  object\n",
            "salary_range        15012  object\n",
            "company_profile     3308   object\n",
            "description         1      object\n",
            "requirements        2695   object\n",
            "benefits            7210   object\n",
            "telecommuting       0      int64\n",
            "has_company_logo    0      int64\n",
            "has_questions       0      int64\n",
            "employment_type     3471   object\n",
            "required_experience 7050   object\n",
            "required_education  8105   object\n",
            "industry            4903   object\n",
            "function            6455   object\n",
            "fraudulent          0      int64\n"
          ]
        }
      ],
      "source": [
        "# Print count of NaNs and type of each column\n",
        "print(\"Column\\t\\t    NaNs   Type\")\n",
        "for column in df.columns:\n",
        "    print(f'{column.ljust(20)}{str(df[column].isna().sum()).ljust(7)}{df[column].dtype}')"
      ]
    },
    {
      "cell_type": "code",
      "source": [
        "df['fraudulent'].value_counts().plot.bar()"
      ],
      "metadata": {
        "id": "B0bRggcWwnIe",
        "outputId": "6389c70d-d2aa-4350-9890-28281b10b2d0",
        "colab": {
          "base_uri": "https://localhost:8080/",
          "height": 279
        }
      },
      "execution_count": 5,
      "outputs": [
        {
          "output_type": "execute_result",
          "data": {
            "text/plain": [
              "<matplotlib.axes._subplots.AxesSubplot at 0x7f28cb3f1970>"
            ]
          },
          "metadata": {},
          "execution_count": 5
        },
        {
          "output_type": "display_data",
          "data": {
            "text/plain": [
              "<Figure size 432x288 with 1 Axes>"
            ],
            "image/png": "[encoded data removed]"
          },
          "metadata": {
            "needs_background": "light"
          }
        }
      ]
    },
    {
      "cell_type": "code",
      "source": [
        "df['fraudulent'].value_counts()"
      ],
      "metadata": {
        "id": "5svJQjRFLcsl",
        "outputId": "5e7261e1-fb2d-47ce-9caa-16c132339d29",
        "colab": {
          "base_uri": "https://localhost:8080/"
        }
      },
      "execution_count": 6,
      "outputs": [
        {
          "output_type": "execute_result",
          "data": {
            "text/plain": [
              "0    17014\n",
              "1      866\n",
              "Name: fraudulent, dtype: int64"
            ]
          },
          "metadata": {},
          "execution_count": 6
        }
      ]
    },
    {
      "cell_type": "markdown",
      "source": [
        "### remove NAN Value"
      ],
      "metadata": {
        "id": "A_91xfkSENkX"
      }
    },
    {
      "cell_type": "code",
      "source": [
        "fraudulent_df=df[df.fraudulent==0].dropna()"
      ],
      "metadata": {
        "id": "fUFq26VYMs5t"
      },
      "execution_count": 46,
      "outputs": []
    },
    {
      "cell_type": "code",
      "source": [
        "nonfraudulent_df = df[df.fraudulent==1].dropna(subset=['description'])"
      ],
      "metadata": {
        "id": "8ZQjZLV8N-eN"
      },
      "execution_count": 47,
      "outputs": []
    },
    {
      "cell_type": "code",
      "source": [
        "new_df = pd.concat([fraudulent_df,nonfraudulent_df])"
      ],
      "metadata": {
        "id": "VuZooCcGNH1y"
      },
      "execution_count": 48,
      "outputs": []
    },
    {
      "cell_type": "code",
      "source": [
        "print(f'before drop {df.shape[0]},after drop {new_df.shape[0]} ')"
      ],
      "metadata": {
        "colab": {
          "base_uri": "https://localhost:8080/"
        },
        "id": "6BySs3i3E06G",
        "outputId": "7a4e92f4-03ed-4aef-9c86-48e97842c8ba"
      },
      "execution_count": 49,
      "outputs": [
        {
          "output_type": "stream",
          "name": "stdout",
          "text": [
            "before drop 17880,after drop 1567 \n"
          ]
        }
      ]
    },
    {
      "cell_type": "code",
      "source": [
        "new_df['fraudulent'].value_counts().plot.bar()"
      ],
      "metadata": {
        "colab": {
          "base_uri": "https://localhost:8080/",
          "height": 279
        },
        "id": "CbwVws7dFDiW",
        "outputId": "9b958162-dc1f-425d-9e8e-5a81503c8e83"
      },
      "execution_count": 50,
      "outputs": [
        {
          "output_type": "execute_result",
          "data": {
            "text/plain": [
              "<matplotlib.axes._subplots.AxesSubplot at 0x7f28c9aadf70>"
            ]
          },
          "metadata": {},
          "execution_count": 50
        },
        {
          "output_type": "display_data",
          "data": {
            "text/plain": [
              "<Figure size 432x288 with 1 Axes>"
            ],
            "image/png": "[encoded data removed]"
          },
          "metadata": {
            "needs_background": "light"
          }
        }
      ]
    },
    {
      "cell_type": "code",
      "source": [
        "new_df['fraudulent'].value_counts()"
      ],
      "metadata": {
        "id": "gb7usaqPLi8S",
        "outputId": "33a1c565-0ef0-4bd7-e321-ec1b1ac357cb",
        "colab": {
          "base_uri": "https://localhost:8080/"
        }
      },
      "execution_count": 51,
      "outputs": [
        {
          "output_type": "execute_result",
          "data": {
            "text/plain": [
              "1    865\n",
              "0    702\n",
              "Name: fraudulent, dtype: int64"
            ]
          },
          "metadata": {},
          "execution_count": 51
        }
      ]
    },
    {
      "cell_type": "code",
      "source": [
        "new_df[:10]"
      ],
      "metadata": {
        "colab": {
          "base_uri": "https://localhost:8080/",
          "height": 965
        },
        "id": "ZajWme5HF6GX",
        "outputId": "ad577a09-97cb-4c95-8d19-2375ab74a7c5"
      },
      "execution_count": 52,
      "outputs": [
        {
          "output_type": "execute_result",
          "data": {
            "text/plain": [
              "     job_id                                              title  \\\n",
              "6         7                              Head of Content (m/f)   \n",
              "15       16                         VP of Sales - Vault Dragon   \n",
              "23       24  Vice President, Sales and Sponsorship (Busines...   \n",
              "102     103                            Marketing Administrator   \n",
              "134     135                Senior Business Development Manager   \n",
              "153     154                             Senior Project Manager   \n",
              "160     161                          Field Services Supervisor   \n",
              "179     180                                 Internal Recruiter   \n",
              "197     198                                 Software developer   \n",
              "198     199                  Junior Funding Specialist (Sales)   \n",
              "\n",
              "                       location                      department  \\\n",
              "6                DE, BE, Berlin                      ANDROIDPIT   \n",
              "15            SG, 01, Singapore                           Sales   \n",
              "23             US, CA, Carlsbad              Businessfriend.com   \n",
              "102           GB, WAR, Coventry                     Marketplace   \n",
              "134            GB, , Manchester  Sales and Business Development   \n",
              "153                GB, , London                      Production   \n",
              "160  US, WI, Western Wisconsin                 Field Operations   \n",
              "179             GB, LND, London                Playfair Capital   \n",
              "197              IN, MP, Indore            Software development   \n",
              "198         GB, MAN, Manchester            Business Development   \n",
              "\n",
              "      salary_range                                    company_profile  \\\n",
              "6      20000-28000  Founded in 2009, the Fonpit AG rose with its i...   \n",
              "15   120000-150000  Jungle Ventures is the leading Singapore based...   \n",
              "23   100000-120000  WDM Group is an innovative, forward thinking d...   \n",
              "102    15000-18000  Renewable Energy and Environmental Protection ...   \n",
              "134    70000-90000  MarketInvoice is one of the most high-profile ...   \n",
              "153    28000-45000  Neverbland is a team of designers, developers ...   \n",
              "160    44000-57000  Dairy, food and beverage processors work withi...   \n",
              "179    20000-40000  Playfair Capital is an early stage technology ...   \n",
              "197  360000-600000  Being into the IT domain for over 4 years, Wal...   \n",
              "198    30000-40000  MarketInvoice is one of the most high-profile ...   \n",
              "\n",
              "                                           description  \\\n",
              "6    Your Responsibilities: Manage the English-spea...   \n",
              "15   About Vault Dragon Vault Dragon is Dropbox for...   \n",
              "23   #URL_eda2500ddcedb60957fcd7f5b164e092966f8c4e8...   \n",
              "102  The job is to support the growth of the #URL_9...   \n",
              "134  BACKGROUNDA senior sales and account managemen...   \n",
              "153  Some of us are born with the ability to multi ...   \n",
              "160  W.M. Sprinkman designs, builds and installs st...   \n",
              "179  You will be responsible for hiring across a po...   \n",
              "197  Is coding just a task for you, or something to...   \n",
              "198  BACKGROUNDA sales and account management role ...   \n",
              "\n",
              "                                          requirements  \\\n",
              "6    Your Know-How:                                ...   \n",
              "15   Key Superpowers3-5 years of high-pressure sale...   \n",
              "23   Job Requirements:A reputation as a \"go-getter\"...   \n",
              "102  Computer literateAble to work with HTML, altho...   \n",
              "134  5-10 years sales experience in B2B solution sa...   \n",
              "153  2-3 years agency experience in a Producer/Proj...   \n",
              "160  5-7 years of experience in fabrication and/or ...   \n",
              "179  Previous recruitment experience in fast growth...   \n",
              "197                    Min. 1 year in Web Development    \n",
              "198  1-2 years B2B solution sales experience is fav...   \n",
              "\n",
              "                                              benefits  telecommuting  \\\n",
              "6    Your Benefits: Being part of a fast-growing co...              0   \n",
              "15   Basic: SGD 120,000Equity negotiable for a rock...              0   \n",
              "23   Businessfriend will offer a competitive six fi...              0   \n",
              "102  For a suitably motivated and success orientate...              1   \n",
              "134  Based in our Manchester officeCompetitive basi...              0   \n",
              "153  Work in a dynamic, creative environment.Learn ...              0   \n",
              "160  We provide a solid benefits package with healt...              0   \n",
              "179  Work will an awesome group of companies and be...              0   \n",
              "197  In-house product development with a chance to ...              0   \n",
              "198  Based in our Manchester officeFull time basic ...              0   \n",
              "\n",
              "     has_company_logo  has_questions employment_type required_experience  \\\n",
              "6                   1              1       Full-time    Mid-Senior level   \n",
              "15                  1              1       Full-time           Executive   \n",
              "23                  1              0       Full-time           Executive   \n",
              "102                 1              0       Full-time         Entry level   \n",
              "134                 1              0       Full-time    Mid-Senior level   \n",
              "153                 1              1       Full-time    Mid-Senior level   \n",
              "160                 0              0       Full-time           Associate   \n",
              "179                 1              1       Full-time    Mid-Senior level   \n",
              "197                 1              1       Full-time    Mid-Senior level   \n",
              "198                 1              1       Full-time         Entry level   \n",
              "\n",
              "            required_education                              industry  \\\n",
              "6              Master's Degree                          Online Media   \n",
              "15           Bachelor's Degree                   Facilities Services   \n",
              "23                 Unspecified                              Internet   \n",
              "102          Bachelor's Degree                              Internet   \n",
              "134          Bachelor's Degree                    Financial Services   \n",
              "153          Bachelor's Degree                              Internet   \n",
              "160  High School or equivalent  Mechanical or Industrial Engineering   \n",
              "179          Bachelor's Degree   Information Technology and Services   \n",
              "197          Bachelor's Degree   Information Technology and Services   \n",
              "198          Bachelor's Degree                    Financial Services   \n",
              "\n",
              "                   function  fraudulent  \n",
              "6                Management           0  \n",
              "15                    Sales           0  \n",
              "23                    Sales           0  \n",
              "102               Marketing           0  \n",
              "134                   Sales           0  \n",
              "153              Production           0  \n",
              "160           Manufacturing           0  \n",
              "179         Human Resources           0  \n",
              "197  Information Technology           0  \n",
              "198    Business Development           0  "
            ],
            "text/html": [
              "\n",
              "  <div id=\"df-72d93554-5f7c-40fc-885a-1f423c2ccbfb\">\n",
              "    <div class=\"colab-df-container\">\n",
              "      <div>\n",
              "<style scoped>\n",
              "    .dataframe tbody tr th:only-of-type {\n",
              "        vertical-align: middle;\n",
              "    }\n",
              "\n",
              "    .dataframe tbody tr th {\n",
              "        vertical-align: top;\n",
              "    }\n",
              "\n",
              "    .dataframe thead th {\n",
              "        text-align: right;\n",
              "    }\n",
              "</style>\n",
              "<table border=\"1\" class=\"dataframe\">\n",
              "  <thead>\n",
              "    <tr style=\"text-align: right;\">\n",
              "      <th></th>\n",
              "      <th>job_id</th>\n",
              "      <th>title</th>\n",
              "      <th>location</th>\n",
              "      <th>department</th>\n",
              "      <th>salary_range</th>\n",
              "      <th>company_profile</th>\n",
              "      <th>description</th>\n",
              "      <th>requirements</th>\n",
              "      <th>benefits</th>\n",
              "      <th>telecommuting</th>\n",
              "      <th>has_company_logo</th>\n",
              "      <th>has_questions</th>\n",
              "      <th>employment_type</th>\n",
              "      <th>required_experience</th>\n",
              "      <th>required_education</th>\n",
              "      <th>industry</th>\n",
              "      <th>function</th>\n",
              "      <th>fraudulent</th>\n",
              "    </tr>\n",
              "  </thead>\n",
              "  <tbody>\n",
              "    <tr>\n",
              "      <th>6</th>\n",
              "      <td>7</td>\n",
              "      <td>Head of Content (m/f)</td>\n",
              "      <td>DE, BE, Berlin</td>\n",
              "      <td>ANDROIDPIT</td>\n",
              "      <td>20000-28000</td>\n",
              "      <td>Founded in 2009, the Fonpit AG rose with its i...</td>\n",
              "      <td>Your Responsibilities: Manage the English-spea...</td>\n",
              "      <td>Your Know-How:                                ...</td>\n",
              "      <td>Your Benefits: Being part of a fast-growing co...</td>\n",
              "      <td>0</td>\n",
              "      <td>1</td>\n",
              "      <td>1</td>\n",
              "      <td>Full-time</td>\n",
              "      <td>Mid-Senior level</td>\n",
              "      <td>Master's Degree</td>\n",
              "      <td>Online Media</td>\n",
              "      <td>Management</td>\n",
              "      <td>0</td>\n",
              "    </tr>\n",
              "    <tr>\n",
              "      <th>15</th>\n",
              "      <td>16</td>\n",
              "      <td>VP of Sales - Vault Dragon</td>\n",
              "      <td>SG, 01, Singapore</td>\n",
              "      <td>Sales</td>\n",
              "      <td>120000-150000</td>\n",
              "      <td>Jungle Ventures is the leading Singapore based...</td>\n",
              "      <td>About Vault Dragon Vault Dragon is Dropbox for...</td>\n",
              "      <td>Key Superpowers3-5 years of high-pressure sale...</td>\n",
              "      <td>Basic: SGD 120,000Equity negotiable for a rock...</td>\n",
              "      <td>0</td>\n",
              "      <td>1</td>\n",
              "      <td>1</td>\n",
              "      <td>Full-time</td>\n",
              "      <td>Executive</td>\n",
              "      <td>Bachelor's Degree</td>\n",
              "      <td>Facilities Services</td>\n",
              "      <td>Sales</td>\n",
              "      <td>0</td>\n",
              "    </tr>\n",
              "    <tr>\n",
              "      <th>23</th>\n",
              "      <td>24</td>\n",
              "      <td>Vice President, Sales and Sponsorship (Busines...</td>\n",
              "      <td>US, CA, Carlsbad</td>\n",
              "      <td>Businessfriend.com</td>\n",
              "      <td>100000-120000</td>\n",
              "      <td>WDM Group is an innovative, forward thinking d...</td>\n",
              "      <td>#URL_eda2500ddcedb60957fcd7f5b164e092966f8c4e8...</td>\n",
              "      <td>Job Requirements:A reputation as a \"go-getter\"...</td>\n",
              "      <td>Businessfriend will offer a competitive six fi...</td>\n",
              "      <td>0</td>\n",
              "      <td>1</td>\n",
              "      <td>0</td>\n",
              "      <td>Full-time</td>\n",
              "      <td>Executive</td>\n",
              "      <td>Unspecified</td>\n",
              "      <td>Internet</td>\n",
              "      <td>Sales</td>\n",
              "      <td>0</td>\n",
              "    </tr>\n",
              "    <tr>\n",
              "      <th>102</th>\n",
              "      <td>103</td>\n",
              "      <td>Marketing Administrator</td>\n",
              "      <td>GB, WAR, Coventry</td>\n",
              "      <td>Marketplace</td>\n",
              "      <td>15000-18000</td>\n",
              "      <td>Renewable Energy and Environmental Protection ...</td>\n",
              "      <td>The job is to support the growth of the #URL_9...</td>\n",
              "      <td>Computer literateAble to work with HTML, altho...</td>\n",
              "      <td>For a suitably motivated and success orientate...</td>\n",
              "      <td>1</td>\n",
              "      <td>1</td>\n",
              "      <td>0</td>\n",
              "      <td>Full-time</td>\n",
              "      <td>Entry level</td>\n",
              "      <td>Bachelor's Degree</td>\n",
              "      <td>Internet</td>\n",
              "      <td>Marketing</td>\n",
              "      <td>0</td>\n",
              "    </tr>\n",
              "    <tr>\n",
              "      <th>134</th>\n",
              "      <td>135</td>\n",
              "      <td>Senior Business Development Manager</td>\n",
              "      <td>GB, , Manchester</td>\n",
              "      <td>Sales and Business Development</td>\n",
              "      <td>70000-90000</td>\n",
              "      <td>MarketInvoice is one of the most high-profile ...</td>\n",
              "      <td>BACKGROUNDA senior sales and account managemen...</td>\n",
              "      <td>5-10 years sales experience in B2B solution sa...</td>\n",
              "      <td>Based in our Manchester officeCompetitive basi...</td>\n",
              "      <td>0</td>\n",
              "      <td>1</td>\n",
              "      <td>0</td>\n",
              "      <td>Full-time</td>\n",
              "      <td>Mid-Senior level</td>\n",
              "      <td>Bachelor's Degree</td>\n",
              "      <td>Financial Services</td>\n",
              "      <td>Sales</td>\n",
              "      <td>0</td>\n",
              "    </tr>\n",
              "    <tr>\n",
              "      <th>153</th>\n",
              "      <td>154</td>\n",
              "      <td>Senior Project Manager</td>\n",
              "      <td>GB, , London</td>\n",
              "      <td>Production</td>\n",
              "      <td>28000-45000</td>\n",
              "      <td>Neverbland is a team of designers, developers ...</td>\n",
              "      <td>Some of us are born with the ability to multi ...</td>\n",
              "      <td>2-3 years agency experience in a Producer/Proj...</td>\n",
              "      <td>Work in a dynamic, creative environment.Learn ...</td>\n",
              "      <td>0</td>\n",
              "      <td>1</td>\n",
              "      <td>1</td>\n",
              "      <td>Full-time</td>\n",
              "      <td>Mid-Senior level</td>\n",
              "      <td>Bachelor's Degree</td>\n",
              "      <td>Internet</td>\n",
              "      <td>Production</td>\n",
              "      <td>0</td>\n",
              "    </tr>\n",
              "    <tr>\n",
              "      <th>160</th>\n",
              "      <td>161</td>\n",
              "      <td>Field Services Supervisor</td>\n",
              "      <td>US, WI, Western Wisconsin</td>\n",
              "      <td>Field Operations</td>\n",
              "      <td>44000-57000</td>\n",
              "      <td>Dairy, food and beverage processors work withi...</td>\n",
              "      <td>W.M. Sprinkman designs, builds and installs st...</td>\n",
              "      <td>5-7 years of experience in fabrication and/or ...</td>\n",
              "      <td>We provide a solid benefits package with healt...</td>\n",
              "      <td>0</td>\n",
              "      <td>0</td>\n",
              "      <td>0</td>\n",
              "      <td>Full-time</td>\n",
              "      <td>Associate</td>\n",
              "      <td>High School or equivalent</td>\n",
              "      <td>Mechanical or Industrial Engineering</td>\n",
              "      <td>Manufacturing</td>\n",
              "      <td>0</td>\n",
              "    </tr>\n",
              "    <tr>\n",
              "      <th>179</th>\n",
              "      <td>180</td>\n",
              "      <td>Internal Recruiter</td>\n",
              "      <td>GB, LND, London</td>\n",
              "      <td>Playfair Capital</td>\n",
              "      <td>20000-40000</td>\n",
              "      <td>Playfair Capital is an early stage technology ...</td>\n",
              "      <td>You will be responsible for hiring across a po...</td>\n",
              "      <td>Previous recruitment experience in fast growth...</td>\n",
              "      <td>Work will an awesome group of companies and be...</td>\n",
              "      <td>0</td>\n",
              "      <td>1</td>\n",
              "      <td>1</td>\n",
              "      <td>Full-time</td>\n",
              "      <td>Mid-Senior level</td>\n",
              "      <td>Bachelor's Degree</td>\n",
              "      <td>Information Technology and Services</td>\n",
              "      <td>Human Resources</td>\n",
              "      <td>0</td>\n",
              "    </tr>\n",
              "    <tr>\n",
              "      <th>197</th>\n",
              "      <td>198</td>\n",
              "      <td>Software developer</td>\n",
              "      <td>IN, MP, Indore</td>\n",
              "      <td>Software development</td>\n",
              "      <td>360000-600000</td>\n",
              "      <td>Being into the IT domain for over 4 years, Wal...</td>\n",
              "      <td>Is coding just a task for you, or something to...</td>\n",
              "      <td>Min. 1 year in Web Development</td>\n",
              "      <td>In-house product development with a chance to ...</td>\n",
              "      <td>0</td>\n",
              "      <td>1</td>\n",
              "      <td>1</td>\n",
              "      <td>Full-time</td>\n",
              "      <td>Mid-Senior level</td>\n",
              "      <td>Bachelor's Degree</td>\n",
              "      <td>Information Technology and Services</td>\n",
              "      <td>Information Technology</td>\n",
              "      <td>0</td>\n",
              "    </tr>\n",
              "    <tr>\n",
              "      <th>198</th>\n",
              "      <td>199</td>\n",
              "      <td>Junior Funding Specialist (Sales)</td>\n",
              "      <td>GB, MAN, Manchester</td>\n",
              "      <td>Business Development</td>\n",
              "      <td>30000-40000</td>\n",
              "      <td>MarketInvoice is one of the most high-profile ...</td>\n",
              "      <td>BACKGROUNDA sales and account management role ...</td>\n",
              "      <td>1-2 years B2B solution sales experience is fav...</td>\n",
              "      <td>Based in our Manchester officeFull time basic ...</td>\n",
              "      <td>0</td>\n",
              "      <td>1</td>\n",
              "      <td>1</td>\n",
              "      <td>Full-time</td>\n",
              "      <td>Entry level</td>\n",
              "      <td>Bachelor's Degree</td>\n",
              "      <td>Financial Services</td>\n",
              "      <td>Business Development</td>\n",
              "      <td>0</td>\n",
              "    </tr>\n",
              "  </tbody>\n",
              "</table>\n",
              "</div>\n",
              "      <button class=\"colab-df-convert\" onclick=\"convertToInteractive('df-72d93554-5f7c-40fc-885a-1f423c2ccbfb')\"\n",
              "              title=\"Convert this dataframe to an interactive table.\"\n",
              "              style=\"display:none;\">\n",
              "        \n",
              "  <svg xmlns=\"http://www.w3.org/2000/svg\" height=\"24px\"viewBox=\"0 0 24 24\"\n",
              "       width=\"24px\">\n",
              "    <path d=\"M0 0h24v24H0V0z\" fill=\"none\"/>\n",
              "    <path d=\"M18.56 5.44l.94 2.06.94-2.06 2.06-.94-2.06-.94-.94-2.06-.94 2.06-2.06.94zm-11 1L8.5 8.5l.94-2.06 2.06-.94-2.06-.94L8.5 2.5l-.94 2.06-2.06.94zm10 10l.94 2.06.94-2.06 2.06-.94-2.06-.94-.94-2.06-.94 2.06-2.06.94z\"/><path d=\"M17.41 7.96l-1.37-1.37c-.4-.4-.92-.59-1.43-.59-.52 0-1.04.2-1.43.59L10.3 9.45l-7.72 7.72c-.78.78-.78 2.05 0 2.83L4 21.41c.39.39.9.59 1.41.59.51 0 1.02-.2 1.41-.59l7.78-7.78 2.81-2.81c.8-.78.8-2.07 0-2.86zM5.41 20L4 18.59l7.72-7.72 1.47 1.35L5.41 20z\"/>\n",
              "  </svg>\n",
              "      </button>\n",
              "      \n",
              "  <style>\n",
              "    .colab-df-container {\n",
              "      display:flex;\n",
              "      flex-wrap:wrap;\n",
              "      gap: 12px;\n",
              "    }\n",
              "\n",
              "    .colab-df-convert {\n",
              "      background-color: #E8F0FE;\n",
              "      border: none;\n",
              "      border-radius: 50%;\n",
              "      cursor: pointer;\n",
              "      display: none;\n",
              "      fill: #1967D2;\n",
              "      height: 32px;\n",
              "      padding: 0 0 0 0;\n",
              "      width: 32px;\n",
              "    }\n",
              "\n",
              "    .colab-df-convert:hover {\n",
              "      background-color: #E2EBFA;\n",
              "      box-shadow: 0px 1px 2px rgba(60, 64, 67, 0.3), 0px 1px 3px 1px rgba(60, 64, 67, 0.15);\n",
              "      fill: #174EA6;\n",
              "    }\n",
              "\n",
              "    [theme=dark] .colab-df-convert {\n",
              "      background-color: #3B4455;\n",
              "      fill: #D2E3FC;\n",
              "    }\n",
              "\n",
              "    [theme=dark] .colab-df-convert:hover {\n",
              "      background-color: #434B5C;\n",
              "      box-shadow: 0px 1px 3px 1px rgba(0, 0, 0, 0.15);\n",
              "      filter: drop-shadow(0px 1px 2px rgba(0, 0, 0, 0.3));\n",
              "      fill: #FFFFFF;\n",
              "    }\n",
              "  </style>\n",
              "\n",
              "      <script>\n",
              "        const buttonEl =\n",
              "          document.querySelector('#df-72d93554-5f7c-40fc-885a-1f423c2ccbfb button.colab-df-convert');\n",
              "        buttonEl.style.display =\n",
              "          google.colab.kernel.accessAllowed ? 'block' : 'none';\n",
              "\n",
              "        async function convertToInteractive(key) {\n",
              "          const element = document.querySelector('#df-72d93554-5f7c-40fc-885a-1f423c2ccbfb');\n",
              "          const dataTable =\n",
              "            await google.colab.kernel.invokeFunction('convertToInteractive',\n",
              "                                                     [key], {});\n",
              "          if (!dataTable) return;\n",
              "\n",
              "          const docLinkHtml = 'Like what you see? Visit the ' +\n",
              "            '<a target=\"_blank\" href=https://colab.research.google.com/notebooks/data_table.ipynb>data table notebook</a>'\n",
              "            + ' to learn more about interactive tables.';\n",
              "          element.innerHTML = '';\n",
              "          dataTable['output_type'] = 'display_data';\n",
              "          await google.colab.output.renderOutput(dataTable, element);\n",
              "          const docLink = document.createElement('div');\n",
              "          docLink.innerHTML = docLinkHtml;\n",
              "          element.appendChild(docLink);\n",
              "        }\n",
              "      </script>\n",
              "    </div>\n",
              "  </div>\n",
              "  "
            ]
          },
          "metadata": {},
          "execution_count": 52
        }
      ]
    },
    {
      "cell_type": "markdown",
      "metadata": {
        "id": "15sW_btIsH7Q"
      },
      "source": [
        "## Preprocessing"
      ]
    },
    {
      "cell_type": "markdown",
      "source": [
        "### covert string to word token"
      ],
      "metadata": {
        "id": "mB7PDS_jwyvR"
      }
    },
    {
      "cell_type": "code",
      "execution_count": 54,
      "metadata": {
        "colab": {
          "base_uri": "https://localhost:8080/",
          "height": 548
        },
        "id": "JN48DwVxhqxE",
        "outputId": "09a2585c-f287-4d7b-ab4d-1673dd396cc8"
      },
      "outputs": [
        {
          "output_type": "display_data",
          "data": {
            "text/plain": [
              "     job_id                                              title  \\\n",
              "6         7                              head of content (m/f)   \n",
              "15       16                         vp of sales - vault dragon   \n",
              "23       24  vice president, sales and sponsorship (busines...   \n",
              "102     103                            marketing administrator   \n",
              "134     135                senior business development manager   \n",
              "\n",
              "              location                      department   salary_range  \\\n",
              "6       de, be, berlin                      androidpit    20000-28000   \n",
              "15   sg, 01, singapore                           sales  120000-150000   \n",
              "23    us, ca, carlsbad              businessfriend.com  100000-120000   \n",
              "102  gb, war, coventry                     marketplace    15000-18000   \n",
              "134   gb, , manchester  sales and business development    70000-90000   \n",
              "\n",
              "                                       company_profile  \\\n",
              "6    founded in 2009, the fonpit ag rose with its i...   \n",
              "15   jungle ventures is the leading singapore based...   \n",
              "23   wdm group is an innovative, forward thinking d...   \n",
              "102  renewable energy and environmental protection ...   \n",
              "134  marketinvoice is one of the most high-profile ...   \n",
              "\n",
              "                                           description  \\\n",
              "6    your responsibilities: manage the english-spea...   \n",
              "15   about vault dragon vault dragon is dropbox for...   \n",
              "23   #url_eda2500ddcedb60957fcd7f5b164e092966f8c4e8...   \n",
              "102  the job is to support the growth of the #url_9...   \n",
              "134  backgrounda senior sales and account managemen...   \n",
              "\n",
              "                                          requirements  \\\n",
              "6    your know-how:                                ...   \n",
              "15   key superpowers3-5 years of high-pressure sale...   \n",
              "23   job requirements:a reputation as a \"go-getter\"...   \n",
              "102  computer literateable to work with html, altho...   \n",
              "134  5-10 years sales experience in b2b solution sa...   \n",
              "\n",
              "                                              benefits  telecommuting  \\\n",
              "6    your benefits: being part of a fast-growing co...              0   \n",
              "15   basic: sgd 120,000equity negotiable for a rock...              0   \n",
              "23   businessfriend will offer a competitive six fi...              0   \n",
              "102  for a suitably motivated and success orientate...              1   \n",
              "134  based in our manchester officecompetitive basi...              0   \n",
              "\n",
              "     has_company_logo  has_questions employment_type required_experience  \\\n",
              "6                   1              1       full-time    mid-senior level   \n",
              "15                  1              1       full-time           executive   \n",
              "23                  1              0       full-time           executive   \n",
              "102                 1              0       full-time         entry level   \n",
              "134                 1              0       full-time    mid-senior level   \n",
              "\n",
              "    required_education             industry    function  fraudulent  \n",
              "6      master's degree         online media  management           0  \n",
              "15   bachelor's degree  facilities services       sales           0  \n",
              "23         unspecified             internet       sales           0  \n",
              "102  bachelor's degree             internet   marketing           0  \n",
              "134  bachelor's degree   financial services       sales           0  "
            ],
            "text/html": [
              "\n",
              "  <div id=\"df-52a34044-09c7-401f-b199-20dea5f7d0da\">\n",
              "    <div class=\"colab-df-container\">\n",
              "      <div>\n",
              "<style scoped>\n",
              "    .dataframe tbody tr th:only-of-type {\n",
              "        vertical-align: middle;\n",
              "    }\n",
              "\n",
              "    .dataframe tbody tr th {\n",
              "        vertical-align: top;\n",
              "    }\n",
              "\n",
              "    .dataframe thead th {\n",
              "        text-align: right;\n",
              "    }\n",
              "</style>\n",
              "<table border=\"1\" class=\"dataframe\">\n",
              "  <thead>\n",
              "    <tr style=\"text-align: right;\">\n",
              "      <th></th>\n",
              "      <th>job_id</th>\n",
              "      <th>title</th>\n",
              "      <th>location</th>\n",
              "      <th>department</th>\n",
              "      <th>salary_range</th>\n",
              "      <th>company_profile</th>\n",
              "      <th>description</th>\n",
              "      <th>requirements</th>\n",
              "      <th>benefits</th>\n",
              "      <th>telecommuting</th>\n",
              "      <th>has_company_logo</th>\n",
              "      <th>has_questions</th>\n",
              "      <th>employment_type</th>\n",
              "      <th>required_experience</th>\n",
              "      <th>required_education</th>\n",
              "      <th>industry</th>\n",
              "      <th>function</th>\n",
              "      <th>fraudulent</th>\n",
              "    </tr>\n",
              "  </thead>\n",
              "  <tbody>\n",
              "    <tr>\n",
              "      <th>6</th>\n",
              "      <td>7</td>\n",
              "      <td>head of content (m/f)</td>\n",
              "      <td>de, be, berlin</td>\n",
              "      <td>androidpit</td>\n",
              "      <td>20000-28000</td>\n",
              "      <td>founded in 2009, the fonpit ag rose with its i...</td>\n",
              "      <td>your responsibilities: manage the english-spea...</td>\n",
              "      <td>your know-how:                                ...</td>\n",
              "      <td>your benefits: being part of a fast-growing co...</td>\n",
              "      <td>0</td>\n",
              "      <td>1</td>\n",
              "      <td>1</td>\n",
              "      <td>full-time</td>\n",
              "      <td>mid-senior level</td>\n",
              "      <td>master's degree</td>\n",
              "      <td>online media</td>\n",
              "      <td>management</td>\n",
              "      <td>0</td>\n",
              "    </tr>\n",
              "    <tr>\n",
              "      <th>15</th>\n",
              "      <td>16</td>\n",
              "      <td>vp of sales - vault dragon</td>\n",
              "      <td>sg, 01, singapore</td>\n",
              "      <td>sales</td>\n",
              "      <td>120000-150000</td>\n",
              "      <td>jungle ventures is the leading singapore based...</td>\n",
              "      <td>about vault dragon vault dragon is dropbox for...</td>\n",
              "      <td>key superpowers3-5 years of high-pressure sale...</td>\n",
              "      <td>basic: sgd 120,000equity negotiable for a rock...</td>\n",
              "      <td>0</td>\n",
              "      <td>1</td>\n",
              "      <td>1</td>\n",
              "      <td>full-time</td>\n",
              "      <td>executive</td>\n",
              "      <td>bachelor's degree</td>\n",
              "      <td>facilities services</td>\n",
              "      <td>sales</td>\n",
              "      <td>0</td>\n",
              "    </tr>\n",
              "    <tr>\n",
              "      <th>23</th>\n",
              "      <td>24</td>\n",
              "      <td>vice president, sales and sponsorship (busines...</td>\n",
              "      <td>us, ca, carlsbad</td>\n",
              "      <td>businessfriend.com</td>\n",
              "      <td>100000-120000</td>\n",
              "      <td>wdm group is an innovative, forward thinking d...</td>\n",
              "      <td>#url_eda2500ddcedb60957fcd7f5b164e092966f8c4e8...</td>\n",
              "      <td>job requirements:a reputation as a \"go-getter\"...</td>\n",
              "      <td>businessfriend will offer a competitive six fi...</td>\n",
              "      <td>0</td>\n",
              "      <td>1</td>\n",
              "      <td>0</td>\n",
              "      <td>full-time</td>\n",
              "      <td>executive</td>\n",
              "      <td>unspecified</td>\n",
              "      <td>internet</td>\n",
              "      <td>sales</td>\n",
              "      <td>0</td>\n",
              "    </tr>\n",
              "    <tr>\n",
              "      <th>102</th>\n",
              "      <td>103</td>\n",
              "      <td>marketing administrator</td>\n",
              "      <td>gb, war, coventry</td>\n",
              "      <td>marketplace</td>\n",
              "      <td>15000-18000</td>\n",
              "      <td>renewable energy and environmental protection ...</td>\n",
              "      <td>the job is to support the growth of the #url_9...</td>\n",
              "      <td>computer literateable to work with html, altho...</td>\n",
              "      <td>for a suitably motivated and success orientate...</td>\n",
              "      <td>1</td>\n",
              "      <td>1</td>\n",
              "      <td>0</td>\n",
              "      <td>full-time</td>\n",
              "      <td>entry level</td>\n",
              "      <td>bachelor's degree</td>\n",
              "      <td>internet</td>\n",
              "      <td>marketing</td>\n",
              "      <td>0</td>\n",
              "    </tr>\n",
              "    <tr>\n",
              "      <th>134</th>\n",
              "      <td>135</td>\n",
              "      <td>senior business development manager</td>\n",
              "      <td>gb, , manchester</td>\n",
              "      <td>sales and business development</td>\n",
              "      <td>70000-90000</td>\n",
              "      <td>marketinvoice is one of the most high-profile ...</td>\n",
              "      <td>backgrounda senior sales and account managemen...</td>\n",
              "      <td>5-10 years sales experience in b2b solution sa...</td>\n",
              "      <td>based in our manchester officecompetitive basi...</td>\n",
              "      <td>0</td>\n",
              "      <td>1</td>\n",
              "      <td>0</td>\n",
              "      <td>full-time</td>\n",
              "      <td>mid-senior level</td>\n",
              "      <td>bachelor's degree</td>\n",
              "      <td>financial services</td>\n",
              "      <td>sales</td>\n",
              "      <td>0</td>\n",
              "    </tr>\n",
              "  </tbody>\n",
              "</table>\n",
              "</div>\n",
              "      <button class=\"colab-df-convert\" onclick=\"convertToInteractive('df-52a34044-09c7-401f-b199-20dea5f7d0da')\"\n",
              "              title=\"Convert this dataframe to an interactive table.\"\n",
              "              style=\"display:none;\">\n",
              "        \n",
              "  <svg xmlns=\"http://www.w3.org/2000/svg\" height=\"24px\"viewBox=\"0 0 24 24\"\n",
              "       width=\"24px\">\n",
              "    <path d=\"M0 0h24v24H0V0z\" fill=\"none\"/>\n",
              "    <path d=\"M18.56 5.44l.94 2.06.94-2.06 2.06-.94-2.06-.94-.94-2.06-.94 2.06-2.06.94zm-11 1L8.5 8.5l.94-2.06 2.06-.94-2.06-.94L8.5 2.5l-.94 2.06-2.06.94zm10 10l.94 2.06.94-2.06 2.06-.94-2.06-.94-.94-2.06-.94 2.06-2.06.94z\"/><path d=\"M17.41 7.96l-1.37-1.37c-.4-.4-.92-.59-1.43-.59-.52 0-1.04.2-1.43.59L10.3 9.45l-7.72 7.72c-.78.78-.78 2.05 0 2.83L4 21.41c.39.39.9.59 1.41.59.51 0 1.02-.2 1.41-.59l7.78-7.78 2.81-2.81c.8-.78.8-2.07 0-2.86zM5.41 20L4 18.59l7.72-7.72 1.47 1.35L5.41 20z\"/>\n",
              "  </svg>\n",
              "      </button>\n",
              "      \n",
              "  <style>\n",
              "    .colab-df-container {\n",
              "      display:flex;\n",
              "      flex-wrap:wrap;\n",
              "      gap: 12px;\n",
              "    }\n",
              "\n",
              "    .colab-df-convert {\n",
              "      background-color: #E8F0FE;\n",
              "      border: none;\n",
              "      border-radius: 50%;\n",
              "      cursor: pointer;\n",
              "      display: none;\n",
              "      fill: #1967D2;\n",
              "      height: 32px;\n",
              "      padding: 0 0 0 0;\n",
              "      width: 32px;\n",
              "    }\n",
              "\n",
              "    .colab-df-convert:hover {\n",
              "      background-color: #E2EBFA;\n",
              "      box-shadow: 0px 1px 2px rgba(60, 64, 67, 0.3), 0px 1px 3px 1px rgba(60, 64, 67, 0.15);\n",
              "      fill: #174EA6;\n",
              "    }\n",
              "\n",
              "    [theme=dark] .colab-df-convert {\n",
              "      background-color: #3B4455;\n",
              "      fill: #D2E3FC;\n",
              "    }\n",
              "\n",
              "    [theme=dark] .colab-df-convert:hover {\n",
              "      background-color: #434B5C;\n",
              "      box-shadow: 0px 1px 3px 1px rgba(0, 0, 0, 0.15);\n",
              "      filter: drop-shadow(0px 1px 2px rgba(0, 0, 0, 0.3));\n",
              "      fill: #FFFFFF;\n",
              "    }\n",
              "  </style>\n",
              "\n",
              "      <script>\n",
              "        const buttonEl =\n",
              "          document.querySelector('#df-52a34044-09c7-401f-b199-20dea5f7d0da button.colab-df-convert');\n",
              "        buttonEl.style.display =\n",
              "          google.colab.kernel.accessAllowed ? 'block' : 'none';\n",
              "\n",
              "        async function convertToInteractive(key) {\n",
              "          const element = document.querySelector('#df-52a34044-09c7-401f-b199-20dea5f7d0da');\n",
              "          const dataTable =\n",
              "            await google.colab.kernel.invokeFunction('convertToInteractive',\n",
              "                                                     [key], {});\n",
              "          if (!dataTable) return;\n",
              "\n",
              "          const docLinkHtml = 'Like what you see? Visit the ' +\n",
              "            '<a target=\"_blank\" href=https://colab.research.google.com/notebooks/data_table.ipynb>data table notebook</a>'\n",
              "            + ' to learn more about interactive tables.';\n",
              "          element.innerHTML = '';\n",
              "          dataTable['output_type'] = 'display_data';\n",
              "          await google.colab.output.renderOutput(dataTable, element);\n",
              "          const docLink = document.createElement('div');\n",
              "          docLink.innerHTML = docLinkHtml;\n",
              "          element.appendChild(docLink);\n",
              "        }\n",
              "      </script>\n",
              "    </div>\n",
              "  </div>\n",
              "  "
            ]
          },
          "metadata": {}
        }
      ],
      "source": [
        "# Convert Everything to lowercase\n",
        "new_df = new_df.applymap(lambda s: s.lower() if type(s) == str else s)\n",
        "display(new_df.head(5))"
      ]
    },
    {
      "cell_type": "code",
      "execution_count": 55,
      "metadata": {
        "colab": {
          "base_uri": "https://localhost:8080/",
          "height": 548
        },
        "id": "HMDJhqYdh2Js",
        "outputId": "a9a2b543-3609-41e7-b569-f37a8fb8e60e"
      },
      "outputs": [
        {
          "output_type": "display_data",
          "data": {
            "text/plain": [
              "     job_id                                              title  \\\n",
              "6         7                              head of content  m f    \n",
              "15       16                         vp of sales   vault dragon   \n",
              "23       24  vice president  sales and sponsorship  busines...   \n",
              "102     103                            marketing administrator   \n",
              "134     135                senior business development manager   \n",
              "\n",
              "              location                      department   salary_range  \\\n",
              "6       de  be  berlin                      androidpit    20000 28000   \n",
              "15   sg  01  singapore                           sales  120000 150000   \n",
              "23    us  ca  carlsbad              businessfriend com  100000 120000   \n",
              "102  gb  war  coventry                     marketplace    15000 18000   \n",
              "134   gb    manchester  sales and business development    70000 90000   \n",
              "\n",
              "                                       company_profile  \\\n",
              "6    founded in 2009  the fonpit ag rose with its i...   \n",
              "15   jungle ventures is the leading singapore based...   \n",
              "23   wdm group is an innovative  forward thinking d...   \n",
              "102  renewable energy and environmental protection ...   \n",
              "134  marketinvoice is one of the most high profile ...   \n",
              "\n",
              "                                           description  \\\n",
              "6    your responsibilities  manage the english spea...   \n",
              "15   about vault dragon vault dragon is dropbox for...   \n",
              "23    url eda2500ddcedb60957fcd7f5b164e092966f8c4e8...   \n",
              "102  the job is to support the growth of the  url 9...   \n",
              "134  backgrounda senior sales and account managemen...   \n",
              "\n",
              "                                          requirements  \\\n",
              "6    your know how                                 ...   \n",
              "15   key superpowers3 5 years of high pressure sale...   \n",
              "23   job requirements a reputation as a  go getter ...   \n",
              "102  computer literateable to work with html  altho...   \n",
              "134  5 10 years sales experience in b2b solution sa...   \n",
              "\n",
              "                                              benefits  telecommuting  \\\n",
              "6    your benefits  being part of a fast growing co...              0   \n",
              "15   basic  sgd 120 000equity negotiable for a rock...              0   \n",
              "23   businessfriend will offer a competitive six fi...              0   \n",
              "102  for a suitably motivated and success orientate...              1   \n",
              "134  based in our manchester officecompetitive basi...              0   \n",
              "\n",
              "     has_company_logo  has_questions employment_type required_experience  \\\n",
              "6                   1              1       full time    mid senior level   \n",
              "15                  1              1       full time           executive   \n",
              "23                  1              0       full time           executive   \n",
              "102                 1              0       full time         entry level   \n",
              "134                 1              0       full time    mid senior level   \n",
              "\n",
              "    required_education             industry    function  fraudulent  \n",
              "6      master s degree         online media  management           0  \n",
              "15   bachelor s degree  facilities services       sales           0  \n",
              "23         unspecified             internet       sales           0  \n",
              "102  bachelor s degree             internet   marketing           0  \n",
              "134  bachelor s degree   financial services       sales           0  "
            ],
            "text/html": [
              "\n",
              "  <div id=\"df-4ad51505-d9d3-4c79-85ab-ddad6b46f289\">\n",
              "    <div class=\"colab-df-container\">\n",
              "      <div>\n",
              "<style scoped>\n",
              "    .dataframe tbody tr th:only-of-type {\n",
              "        vertical-align: middle;\n",
              "    }\n",
              "\n",
              "    .dataframe tbody tr th {\n",
              "        vertical-align: top;\n",
              "    }\n",
              "\n",
              "    .dataframe thead th {\n",
              "        text-align: right;\n",
              "    }\n",
              "</style>\n",
              "<table border=\"1\" class=\"dataframe\">\n",
              "  <thead>\n",
              "    <tr style=\"text-align: right;\">\n",
              "      <th></th>\n",
              "      <th>job_id</th>\n",
              "      <th>title</th>\n",
              "      <th>location</th>\n",
              "      <th>department</th>\n",
              "      <th>salary_range</th>\n",
              "      <th>company_profile</th>\n",
              "      <th>description</th>\n",
              "      <th>requirements</th>\n",
              "      <th>benefits</th>\n",
              "      <th>telecommuting</th>\n",
              "      <th>has_company_logo</th>\n",
              "      <th>has_questions</th>\n",
              "      <th>employment_type</th>\n",
              "      <th>required_experience</th>\n",
              "      <th>required_education</th>\n",
              "      <th>industry</th>\n",
              "      <th>function</th>\n",
              "      <th>fraudulent</th>\n",
              "    </tr>\n",
              "  </thead>\n",
              "  <tbody>\n",
              "    <tr>\n",
              "      <th>6</th>\n",
              "      <td>7</td>\n",
              "      <td>head of content  m f</td>\n",
              "      <td>de  be  berlin</td>\n",
              "      <td>androidpit</td>\n",
              "      <td>20000 28000</td>\n",
              "      <td>founded in 2009  the fonpit ag rose with its i...</td>\n",
              "      <td>your responsibilities  manage the english spea...</td>\n",
              "      <td>your know how                                 ...</td>\n",
              "      <td>your benefits  being part of a fast growing co...</td>\n",
              "      <td>0</td>\n",
              "      <td>1</td>\n",
              "      <td>1</td>\n",
              "      <td>full time</td>\n",
              "      <td>mid senior level</td>\n",
              "      <td>master s degree</td>\n",
              "      <td>online media</td>\n",
              "      <td>management</td>\n",
              "      <td>0</td>\n",
              "    </tr>\n",
              "    <tr>\n",
              "      <th>15</th>\n",
              "      <td>16</td>\n",
              "      <td>vp of sales   vault dragon</td>\n",
              "      <td>sg  01  singapore</td>\n",
              "      <td>sales</td>\n",
              "      <td>120000 150000</td>\n",
              "      <td>jungle ventures is the leading singapore based...</td>\n",
              "      <td>about vault dragon vault dragon is dropbox for...</td>\n",
              "      <td>key superpowers3 5 years of high pressure sale...</td>\n",
              "      <td>basic  sgd 120 000equity negotiable for a rock...</td>\n",
              "      <td>0</td>\n",
              "      <td>1</td>\n",
              "      <td>1</td>\n",
              "      <td>full time</td>\n",
              "      <td>executive</td>\n",
              "      <td>bachelor s degree</td>\n",
              "      <td>facilities services</td>\n",
              "      <td>sales</td>\n",
              "      <td>0</td>\n",
              "    </tr>\n",
              "    <tr>\n",
              "      <th>23</th>\n",
              "      <td>24</td>\n",
              "      <td>vice president  sales and sponsorship  busines...</td>\n",
              "      <td>us  ca  carlsbad</td>\n",
              "      <td>businessfriend com</td>\n",
              "      <td>100000 120000</td>\n",
              "      <td>wdm group is an innovative  forward thinking d...</td>\n",
              "      <td>url eda2500ddcedb60957fcd7f5b164e092966f8c4e8...</td>\n",
              "      <td>job requirements a reputation as a  go getter ...</td>\n",
              "      <td>businessfriend will offer a competitive six fi...</td>\n",
              "      <td>0</td>\n",
              "      <td>1</td>\n",
              "      <td>0</td>\n",
              "      <td>full time</td>\n",
              "      <td>executive</td>\n",
              "      <td>unspecified</td>\n",
              "      <td>internet</td>\n",
              "      <td>sales</td>\n",
              "      <td>0</td>\n",
              "    </tr>\n",
              "    <tr>\n",
              "      <th>102</th>\n",
              "      <td>103</td>\n",
              "      <td>marketing administrator</td>\n",
              "      <td>gb  war  coventry</td>\n",
              "      <td>marketplace</td>\n",
              "      <td>15000 18000</td>\n",
              "      <td>renewable energy and environmental protection ...</td>\n",
              "      <td>the job is to support the growth of the  url 9...</td>\n",
              "      <td>computer literateable to work with html  altho...</td>\n",
              "      <td>for a suitably motivated and success orientate...</td>\n",
              "      <td>1</td>\n",
              "      <td>1</td>\n",
              "      <td>0</td>\n",
              "      <td>full time</td>\n",
              "      <td>entry level</td>\n",
              "      <td>bachelor s degree</td>\n",
              "      <td>internet</td>\n",
              "      <td>marketing</td>\n",
              "      <td>0</td>\n",
              "    </tr>\n",
              "    <tr>\n",
              "      <th>134</th>\n",
              "      <td>135</td>\n",
              "      <td>senior business development manager</td>\n",
              "      <td>gb    manchester</td>\n",
              "      <td>sales and business development</td>\n",
              "      <td>70000 90000</td>\n",
              "      <td>marketinvoice is one of the most high profile ...</td>\n",
              "      <td>backgrounda senior sales and account managemen...</td>\n",
              "      <td>5 10 years sales experience in b2b solution sa...</td>\n",
              "      <td>based in our manchester officecompetitive basi...</td>\n",
              "      <td>0</td>\n",
              "      <td>1</td>\n",
              "      <td>0</td>\n",
              "      <td>full time</td>\n",
              "      <td>mid senior level</td>\n",
              "      <td>bachelor s degree</td>\n",
              "      <td>financial services</td>\n",
              "      <td>sales</td>\n",
              "      <td>0</td>\n",
              "    </tr>\n",
              "  </tbody>\n",
              "</table>\n",
              "</div>\n",
              "      <button class=\"colab-df-convert\" onclick=\"convertToInteractive('df-4ad51505-d9d3-4c79-85ab-ddad6b46f289')\"\n",
              "              title=\"Convert this dataframe to an interactive table.\"\n",
              "              style=\"display:none;\">\n",
              "        \n",
              "  <svg xmlns=\"http://www.w3.org/2000/svg\" height=\"24px\"viewBox=\"0 0 24 24\"\n",
              "       width=\"24px\">\n",
              "    <path d=\"M0 0h24v24H0V0z\" fill=\"none\"/>\n",
              "    <path d=\"M18.56 5.44l.94 2.06.94-2.06 2.06-.94-2.06-.94-.94-2.06-.94 2.06-2.06.94zm-11 1L8.5 8.5l.94-2.06 2.06-.94-2.06-.94L8.5 2.5l-.94 2.06-2.06.94zm10 10l.94 2.06.94-2.06 2.06-.94-2.06-.94-.94-2.06-.94 2.06-2.06.94z\"/><path d=\"M17.41 7.96l-1.37-1.37c-.4-.4-.92-.59-1.43-.59-.52 0-1.04.2-1.43.59L10.3 9.45l-7.72 7.72c-.78.78-.78 2.05 0 2.83L4 21.41c.39.39.9.59 1.41.59.51 0 1.02-.2 1.41-.59l7.78-7.78 2.81-2.81c.8-.78.8-2.07 0-2.86zM5.41 20L4 18.59l7.72-7.72 1.47 1.35L5.41 20z\"/>\n",
              "  </svg>\n",
              "      </button>\n",
              "      \n",
              "  <style>\n",
              "    .colab-df-container {\n",
              "      display:flex;\n",
              "      flex-wrap:wrap;\n",
              "      gap: 12px;\n",
              "    }\n",
              "\n",
              "    .colab-df-convert {\n",
              "      background-color: #E8F0FE;\n",
              "      border: none;\n",
              "      border-radius: 50%;\n",
              "      cursor: pointer;\n",
              "      display: none;\n",
              "      fill: #1967D2;\n",
              "      height: 32px;\n",
              "      padding: 0 0 0 0;\n",
              "      width: 32px;\n",
              "    }\n",
              "\n",
              "    .colab-df-convert:hover {\n",
              "      background-color: #E2EBFA;\n",
              "      box-shadow: 0px 1px 2px rgba(60, 64, 67, 0.3), 0px 1px 3px 1px rgba(60, 64, 67, 0.15);\n",
              "      fill: #174EA6;\n",
              "    }\n",
              "\n",
              "    [theme=dark] .colab-df-convert {\n",
              "      background-color: #3B4455;\n",
              "      fill: #D2E3FC;\n",
              "    }\n",
              "\n",
              "    [theme=dark] .colab-df-convert:hover {\n",
              "      background-color: #434B5C;\n",
              "      box-shadow: 0px 1px 3px 1px rgba(0, 0, 0, 0.15);\n",
              "      filter: drop-shadow(0px 1px 2px rgba(0, 0, 0, 0.3));\n",
              "      fill: #FFFFFF;\n",
              "    }\n",
              "  </style>\n",
              "\n",
              "      <script>\n",
              "        const buttonEl =\n",
              "          document.querySelector('#df-4ad51505-d9d3-4c79-85ab-ddad6b46f289 button.colab-df-convert');\n",
              "        buttonEl.style.display =\n",
              "          google.colab.kernel.accessAllowed ? 'block' : 'none';\n",
              "\n",
              "        async function convertToInteractive(key) {\n",
              "          const element = document.querySelector('#df-4ad51505-d9d3-4c79-85ab-ddad6b46f289');\n",
              "          const dataTable =\n",
              "            await google.colab.kernel.invokeFunction('convertToInteractive',\n",
              "                                                     [key], {});\n",
              "          if (!dataTable) return;\n",
              "\n",
              "          const docLinkHtml = 'Like what you see? Visit the ' +\n",
              "            '<a target=\"_blank\" href=https://colab.research.google.com/notebooks/data_table.ipynb>data table notebook</a>'\n",
              "            + ' to learn more about interactive tables.';\n",
              "          element.innerHTML = '';\n",
              "          dataTable['output_type'] = 'display_data';\n",
              "          await google.colab.output.renderOutput(dataTable, element);\n",
              "          const docLink = document.createElement('div');\n",
              "          docLink.innerHTML = docLinkHtml;\n",
              "          element.appendChild(docLink);\n",
              "        }\n",
              "      </script>\n",
              "    </div>\n",
              "  </div>\n",
              "  "
            ]
          },
          "metadata": {}
        }
      ],
      "source": [
        "# Remove Punctuation\n",
        "punc_list = list(string.punctuation)\n",
        "def remove_punctuation(text, punct_list):\n",
        "    for punc in punct_list:\n",
        "        if punc in text:\n",
        "            text = text.replace(punc, ' ')\n",
        "    return text\n",
        "\n",
        "new_df = new_df.applymap(lambda s: remove_punctuation(s, punc_list) if type(s) == str else s)\n",
        "display(new_df.head(5))"
      ]
    },
    {
      "cell_type": "code",
      "execution_count": 56,
      "metadata": {
        "colab": {
          "base_uri": "https://localhost:8080/",
          "height": 548
        },
        "id": "-zl9Z_UEh9Mp",
        "outputId": "a509ce7b-c7e6-44bb-97a8-4fd5327f10d0"
      },
      "outputs": [
        {
          "output_type": "display_data",
          "data": {
            "text/plain": [
              "     job_id                                              title  \\\n",
              "6         7                          [head, of, content, m, f]   \n",
              "15       16                     [vp, of, sales, vault, dragon]   \n",
              "23       24  [vice, president, sales, and, sponsorship, bus...   \n",
              "102     103                         [marketing, administrator]   \n",
              "134     135           [senior, business, development, manager]   \n",
              "\n",
              "                location                           department  \\\n",
              "6       [de, be, berlin]                         [androidpit]   \n",
              "15   [sg, 01, singapore]                              [sales]   \n",
              "23    [us, ca, carlsbad]                [businessfriend, com]   \n",
              "102  [gb, war, coventry]                        [marketplace]   \n",
              "134     [gb, manchester]  [sales, and, business, development]   \n",
              "\n",
              "         salary_range                                    company_profile  \\\n",
              "6      [20000, 28000]  [founded, in, 2009, the, fonpit, ag, rose, wit...   \n",
              "15   [120000, 150000]  [jungle, ventures, is, the, leading, singapore...   \n",
              "23   [100000, 120000]  [wdm, group, is, an, innovative, forward, thin...   \n",
              "102    [15000, 18000]  [renewable, energy, and, environmental, protec...   \n",
              "134    [70000, 90000]  [marketinvoice, is, one, of, the, most, high, ...   \n",
              "\n",
              "                                           description  \\\n",
              "6    [your, responsibilities, manage, the, english,...   \n",
              "15   [about, vault, dragon, vault, dragon, is, drop...   \n",
              "23   [url, eda2500ddcedb60957fcd7f5b164e092966f8c4e...   \n",
              "102  [the, job, is, to, support, the, growth, of, t...   \n",
              "134  [backgrounda, senior, sales, and, account, man...   \n",
              "\n",
              "                                          requirements  \\\n",
              "6    [your, know, how, university, or, college, deg...   \n",
              "15   [key, superpowers3, 5, years, of, high, pressu...   \n",
              "23   [job, requirements, a, reputation, as, a, go, ...   \n",
              "102  [computer, literateable, to, work, with, html,...   \n",
              "134  [5, 10, years, sales, experience, in, b2b, sol...   \n",
              "\n",
              "                                              benefits  telecommuting  \\\n",
              "6    [your, benefits, being, part, of, a, fast, gro...              0   \n",
              "15   [basic, sgd, 120, 000equity, negotiable, for, ...              0   \n",
              "23   [businessfriend, will, offer, a, competitive, ...              0   \n",
              "102  [for, a, suitably, motivated, and, success, or...              1   \n",
              "134  [based, in, our, manchester, officecompetitive...              0   \n",
              "\n",
              "     has_company_logo  has_questions employment_type   required_experience  \\\n",
              "6                   1              1    [full, time]  [mid, senior, level]   \n",
              "15                  1              1    [full, time]           [executive]   \n",
              "23                  1              0    [full, time]           [executive]   \n",
              "102                 1              0    [full, time]        [entry, level]   \n",
              "134                 1              0    [full, time]  [mid, senior, level]   \n",
              "\n",
              "        required_education                industry      function  fraudulent  \n",
              "6      [master, s, degree]         [online, media]  [management]           0  \n",
              "15   [bachelor, s, degree]  [facilities, services]       [sales]           0  \n",
              "23           [unspecified]              [internet]       [sales]           0  \n",
              "102  [bachelor, s, degree]              [internet]   [marketing]           0  \n",
              "134  [bachelor, s, degree]   [financial, services]       [sales]           0  "
            ],
            "text/html": [
              "\n",
              "  <div id=\"df-e463ec30-352d-453d-a808-1d0ff09d1b3c\">\n",
              "    <div class=\"colab-df-container\">\n",
              "      <div>\n",
              "<style scoped>\n",
              "    .dataframe tbody tr th:only-of-type {\n",
              "        vertical-align: middle;\n",
              "    }\n",
              "\n",
              "    .dataframe tbody tr th {\n",
              "        vertical-align: top;\n",
              "    }\n",
              "\n",
              "    .dataframe thead th {\n",
              "        text-align: right;\n",
              "    }\n",
              "</style>\n",
              "<table border=\"1\" class=\"dataframe\">\n",
              "  <thead>\n",
              "    <tr style=\"text-align: right;\">\n",
              "      <th></th>\n",
              "      <th>job_id</th>\n",
              "      <th>title</th>\n",
              "      <th>location</th>\n",
              "      <th>department</th>\n",
              "      <th>salary_range</th>\n",
              "      <th>company_profile</th>\n",
              "      <th>description</th>\n",
              "      <th>requirements</th>\n",
              "      <th>benefits</th>\n",
              "      <th>telecommuting</th>\n",
              "      <th>has_company_logo</th>\n",
              "      <th>has_questions</th>\n",
              "      <th>employment_type</th>\n",
              "      <th>required_experience</th>\n",
              "      <th>required_education</th>\n",
              "      <th>industry</th>\n",
              "      <th>function</th>\n",
              "      <th>fraudulent</th>\n",
              "    </tr>\n",
              "  </thead>\n",
              "  <tbody>\n",
              "    <tr>\n",
              "      <th>6</th>\n",
              "      <td>7</td>\n",
              "      <td>[head, of, content, m, f]</td>\n",
              "      <td>[de, be, berlin]</td>\n",
              "      <td>[androidpit]</td>\n",
              "      <td>[20000, 28000]</td>\n",
              "      <td>[founded, in, 2009, the, fonpit, ag, rose, wit...</td>\n",
              "      <td>[your, responsibilities, manage, the, english,...</td>\n",
              "      <td>[your, know, how, university, or, college, deg...</td>\n",
              "      <td>[your, benefits, being, part, of, a, fast, gro...</td>\n",
              "      <td>0</td>\n",
              "      <td>1</td>\n",
              "      <td>1</td>\n",
              "      <td>[full, time]</td>\n",
              "      <td>[mid, senior, level]</td>\n",
              "      <td>[master, s, degree]</td>\n",
              "      <td>[online, media]</td>\n",
              "      <td>[management]</td>\n",
              "      <td>0</td>\n",
              "    </tr>\n",
              "    <tr>\n",
              "      <th>15</th>\n",
              "      <td>16</td>\n",
              "      <td>[vp, of, sales, vault, dragon]</td>\n",
              "      <td>[sg, 01, singapore]</td>\n",
              "      <td>[sales]</td>\n",
              "      <td>[120000, 150000]</td>\n",
              "      <td>[jungle, ventures, is, the, leading, singapore...</td>\n",
              "      <td>[about, vault, dragon, vault, dragon, is, drop...</td>\n",
              "      <td>[key, superpowers3, 5, years, of, high, pressu...</td>\n",
              "      <td>[basic, sgd, 120, 000equity, negotiable, for, ...</td>\n",
              "      <td>0</td>\n",
              "      <td>1</td>\n",
              "      <td>1</td>\n",
              "      <td>[full, time]</td>\n",
              "      <td>[executive]</td>\n",
              "      <td>[bachelor, s, degree]</td>\n",
              "      <td>[facilities, services]</td>\n",
              "      <td>[sales]</td>\n",
              "      <td>0</td>\n",
              "    </tr>\n",
              "    <tr>\n",
              "      <th>23</th>\n",
              "      <td>24</td>\n",
              "      <td>[vice, president, sales, and, sponsorship, bus...</td>\n",
              "      <td>[us, ca, carlsbad]</td>\n",
              "      <td>[businessfriend, com]</td>\n",
              "      <td>[100000, 120000]</td>\n",
              "      <td>[wdm, group, is, an, innovative, forward, thin...</td>\n",
              "      <td>[url, eda2500ddcedb60957fcd7f5b164e092966f8c4e...</td>\n",
              "      <td>[job, requirements, a, reputation, as, a, go, ...</td>\n",
              "      <td>[businessfriend, will, offer, a, competitive, ...</td>\n",
              "      <td>0</td>\n",
              "      <td>1</td>\n",
              "      <td>0</td>\n",
              "      <td>[full, time]</td>\n",
              "      <td>[executive]</td>\n",
              "      <td>[unspecified]</td>\n",
              "      <td>[internet]</td>\n",
              "      <td>[sales]</td>\n",
              "      <td>0</td>\n",
              "    </tr>\n",
              "    <tr>\n",
              "      <th>102</th>\n",
              "      <td>103</td>\n",
              "      <td>[marketing, administrator]</td>\n",
              "      <td>[gb, war, coventry]</td>\n",
              "      <td>[marketplace]</td>\n",
              "      <td>[15000, 18000]</td>\n",
              "      <td>[renewable, energy, and, environmental, protec...</td>\n",
              "      <td>[the, job, is, to, support, the, growth, of, t...</td>\n",
              "      <td>[computer, literateable, to, work, with, html,...</td>\n",
              "      <td>[for, a, suitably, motivated, and, success, or...</td>\n",
              "      <td>1</td>\n",
              "      <td>1</td>\n",
              "      <td>0</td>\n",
              "      <td>[full, time]</td>\n",
              "      <td>[entry, level]</td>\n",
              "      <td>[bachelor, s, degree]</td>\n",
              "      <td>[internet]</td>\n",
              "      <td>[marketing]</td>\n",
              "      <td>0</td>\n",
              "    </tr>\n",
              "    <tr>\n",
              "      <th>134</th>\n",
              "      <td>135</td>\n",
              "      <td>[senior, business, development, manager]</td>\n",
              "      <td>[gb, manchester]</td>\n",
              "      <td>[sales, and, business, development]</td>\n",
              "      <td>[70000, 90000]</td>\n",
              "      <td>[marketinvoice, is, one, of, the, most, high, ...</td>\n",
              "      <td>[backgrounda, senior, sales, and, account, man...</td>\n",
              "      <td>[5, 10, years, sales, experience, in, b2b, sol...</td>\n",
              "      <td>[based, in, our, manchester, officecompetitive...</td>\n",
              "      <td>0</td>\n",
              "      <td>1</td>\n",
              "      <td>0</td>\n",
              "      <td>[full, time]</td>\n",
              "      <td>[mid, senior, level]</td>\n",
              "      <td>[bachelor, s, degree]</td>\n",
              "      <td>[financial, services]</td>\n",
              "      <td>[sales]</td>\n",
              "      <td>0</td>\n",
              "    </tr>\n",
              "  </tbody>\n",
              "</table>\n",
              "</div>\n",
              "      <button class=\"colab-df-convert\" onclick=\"convertToInteractive('df-e463ec30-352d-453d-a808-1d0ff09d1b3c')\"\n",
              "              title=\"Convert this dataframe to an interactive table.\"\n",
              "              style=\"display:none;\">\n",
              "        \n",
              "  <svg xmlns=\"http://www.w3.org/2000/svg\" height=\"24px\"viewBox=\"0 0 24 24\"\n",
              "       width=\"24px\">\n",
              "    <path d=\"M0 0h24v24H0V0z\" fill=\"none\"/>\n",
              "    <path d=\"M18.56 5.44l.94 2.06.94-2.06 2.06-.94-2.06-.94-.94-2.06-.94 2.06-2.06.94zm-11 1L8.5 8.5l.94-2.06 2.06-.94-2.06-.94L8.5 2.5l-.94 2.06-2.06.94zm10 10l.94 2.06.94-2.06 2.06-.94-2.06-.94-.94-2.06-.94 2.06-2.06.94z\"/><path d=\"M17.41 7.96l-1.37-1.37c-.4-.4-.92-.59-1.43-.59-.52 0-1.04.2-1.43.59L10.3 9.45l-7.72 7.72c-.78.78-.78 2.05 0 2.83L4 21.41c.39.39.9.59 1.41.59.51 0 1.02-.2 1.41-.59l7.78-7.78 2.81-2.81c.8-.78.8-2.07 0-2.86zM5.41 20L4 18.59l7.72-7.72 1.47 1.35L5.41 20z\"/>\n",
              "  </svg>\n",
              "      </button>\n",
              "      \n",
              "  <style>\n",
              "    .colab-df-container {\n",
              "      display:flex;\n",
              "      flex-wrap:wrap;\n",
              "      gap: 12px;\n",
              "    }\n",
              "\n",
              "    .colab-df-convert {\n",
              "      background-color: #E8F0FE;\n",
              "      border: none;\n",
              "      border-radius: 50%;\n",
              "      cursor: pointer;\n",
              "      display: none;\n",
              "      fill: #1967D2;\n",
              "      height: 32px;\n",
              "      padding: 0 0 0 0;\n",
              "      width: 32px;\n",
              "    }\n",
              "\n",
              "    .colab-df-convert:hover {\n",
              "      background-color: #E2EBFA;\n",
              "      box-shadow: 0px 1px 2px rgba(60, 64, 67, 0.3), 0px 1px 3px 1px rgba(60, 64, 67, 0.15);\n",
              "      fill: #174EA6;\n",
              "    }\n",
              "\n",
              "    [theme=dark] .colab-df-convert {\n",
              "      background-color: #3B4455;\n",
              "      fill: #D2E3FC;\n",
              "    }\n",
              "\n",
              "    [theme=dark] .colab-df-convert:hover {\n",
              "      background-color: #434B5C;\n",
              "      box-shadow: 0px 1px 3px 1px rgba(0, 0, 0, 0.15);\n",
              "      filter: drop-shadow(0px 1px 2px rgba(0, 0, 0, 0.3));\n",
              "      fill: #FFFFFF;\n",
              "    }\n",
              "  </style>\n",
              "\n",
              "      <script>\n",
              "        const buttonEl =\n",
              "          document.querySelector('#df-e463ec30-352d-453d-a808-1d0ff09d1b3c button.colab-df-convert');\n",
              "        buttonEl.style.display =\n",
              "          google.colab.kernel.accessAllowed ? 'block' : 'none';\n",
              "\n",
              "        async function convertToInteractive(key) {\n",
              "          const element = document.querySelector('#df-e463ec30-352d-453d-a808-1d0ff09d1b3c');\n",
              "          const dataTable =\n",
              "            await google.colab.kernel.invokeFunction('convertToInteractive',\n",
              "                                                     [key], {});\n",
              "          if (!dataTable) return;\n",
              "\n",
              "          const docLinkHtml = 'Like what you see? Visit the ' +\n",
              "            '<a target=\"_blank\" href=https://colab.research.google.com/notebooks/data_table.ipynb>data table notebook</a>'\n",
              "            + ' to learn more about interactive tables.';\n",
              "          element.innerHTML = '';\n",
              "          dataTable['output_type'] = 'display_data';\n",
              "          await google.colab.output.renderOutput(dataTable, element);\n",
              "          const docLink = document.createElement('div');\n",
              "          docLink.innerHTML = docLinkHtml;\n",
              "          element.appendChild(docLink);\n",
              "        }\n",
              "      </script>\n",
              "    </div>\n",
              "  </div>\n",
              "  "
            ]
          },
          "metadata": {}
        }
      ],
      "source": [
        "# Tokenize each text column\n",
        "token_df = new_df.copy()\n",
        "for column in new_df.columns:\n",
        "    token_df[column] = new_df[column].apply(lambda s: word_tokenize(s) if type(s) == str else s)\n",
        "display(token_df.head(5))"
      ]
    },
    {
      "cell_type": "code",
      "source": [
        "for i in token_df['description']:\n",
        "  for j in i:\n",
        "    if(type(j)==float):\n",
        "      print(\"a\")"
      ],
      "metadata": {
        "id": "wO3BS3pkPACd"
      },
      "execution_count": 58,
      "outputs": []
    },
    {
      "cell_type": "markdown",
      "source": [
        "### tokenizer "
      ],
      "metadata": {
        "id": "AILw9JOa5438"
      }
    },
    {
      "cell_type": "code",
      "execution_count": 36,
      "metadata": {
        "id": "1I2njQ_SoAMj"
      },
      "outputs": [],
      "source": [
        "from keras.preprocessing.text import Tokenizer\n",
        "from keras.utils import pad_sequences\n",
        "from keras.models import Sequential\n",
        "from keras.layers import Dense, Embedding, LSTM, Conv1D, MaxPool1D\n",
        "from sklearn.model_selection import train_test_split\n",
        "from sklearn.metrics import classification_report, accuracy_score"
      ]
    },
    {
      "cell_type": "code",
      "execution_count": 59,
      "metadata": {
        "id": "KJpGeXjnn3Cb"
      },
      "outputs": [],
      "source": [
        "tokenizer = Tokenizer()\n",
        "tokenizer.fit_on_texts(token_df['description'])\n",
        "\n",
        "X = tokenizer.texts_to_sequences(token_df['description'])"
      ]
    },
    {
      "cell_type": "code",
      "execution_count": 60,
      "metadata": {
        "colab": {
          "base_uri": "https://localhost:8080/"
        },
        "id": "ujcQnLiTou0k",
        "outputId": "38e6da2b-9116-4ebd-8754-6393b5029378"
      },
      "outputs": [
        {
          "output_type": "execute_result",
          "data": {
            "text/plain": [
              "[32, 87, 128, 3, 728, 2302, 1946, 19, 1, 173]"
            ]
          },
          "metadata": {},
          "execution_count": 60
        }
      ],
      "source": [
        "X[0][:10]"
      ]
    },
    {
      "cell_type": "code",
      "execution_count": 61,
      "metadata": {
        "colab": {
          "base_uri": "https://localhost:8080/"
        },
        "id": "eMtBEjyCo0UR",
        "outputId": "4ff968da-ba29-443a-87d2-a259337c44f1"
      },
      "outputs": [
        {
          "output_type": "stream",
          "name": "stdout",
          "text": [
            "and -> 1\n",
            "to -> 2\n",
            "the -> 3\n",
            "of -> 4\n",
            "a -> 5\n",
            "in -> 6\n",
            "for -> 7\n",
            "with -> 8\n",
            "you -> 9\n",
            "we -> 10\n"
          ]
        }
      ],
      "source": [
        "word_index = tokenizer.word_index\n",
        "for word, num in word_index.items():\n",
        "    print(f\"{word} -> {num}\")\n",
        "    if num == 10:\n",
        "        break    "
      ]
    },
    {
      "cell_type": "code",
      "execution_count": 62,
      "metadata": {
        "colab": {
          "base_uri": "https://localhost:8080/",
          "height": 265
        },
        "id": "6DH_pb9Co2H7",
        "outputId": "27c900a2-1a3c-4209-dd6f-a72990f42e34"
      },
      "outputs": [
        {
          "output_type": "display_data",
          "data": {
            "text/plain": [
              "<Figure size 432x288 with 1 Axes>"
            ],
            "image/png": "[encoded data removed]"
          },
          "metadata": {
            "needs_background": "light"
          }
        }
      ],
      "source": [
        "import matplotlib.pyplot as plt\n",
        "plt.hist([len(x) for x in X], bins=500)\n",
        "plt.show()"
      ]
    },
    {
      "cell_type": "code",
      "execution_count": 63,
      "metadata": {
        "colab": {
          "base_uri": "https://localhost:8080/"
        },
        "id": "poDO1hGlo5pA",
        "outputId": "a04db926-762d-49e4-c882-af30ef3da752"
      },
      "outputs": [
        {
          "output_type": "execute_result",
          "data": {
            "text/plain": [
              "1557"
            ]
          },
          "metadata": {},
          "execution_count": 63
        }
      ],
      "source": [
        "import numpy as np\n",
        "nos = np.array([len(x) for x in X])\n",
        "len(nos[nos  < 700])\n"
      ]
    },
    {
      "cell_type": "code",
      "execution_count": 64,
      "metadata": {
        "id": "U1op4Orbo9Ez"
      },
      "outputs": [],
      "source": [
        "#Lets keep all descriptions to 700, add padding to descriptions with less than 700 words and truncating long ones\n",
        "maxlen = 700 \n",
        "\n",
        "#Making all descriptions of size maxlen defined above\n",
        "X = pad_sequences(X, maxlen=maxlen)"
      ]
    },
    {
      "cell_type": "code",
      "execution_count": 65,
      "metadata": {
        "colab": {
          "base_uri": "https://localhost:8080/"
        },
        "id": "2lrU_nBMpBJY",
        "outputId": "4b054d16-7c5c-45b8-91dc-aa240084fe79"
      },
      "outputs": [
        {
          "output_type": "execute_result",
          "data": {
            "text/plain": [
              "700"
            ]
          },
          "metadata": {},
          "execution_count": 65
        }
      ],
      "source": [
        "#all descriptions has 700 words (in numerical form now). If they had less words, they have been padded with 0\n",
        "# 0 is not associated to any word, as mapping of words started from 1\n",
        "# 0 will also be used later, if unknows word is encountered in test set\n",
        "len(X[0])"
      ]
    },
    {
      "cell_type": "code",
      "execution_count": 66,
      "metadata": {
        "id": "anrg5N5tpHfj"
      },
      "outputs": [],
      "source": [
        "# Adding 1 because of reserved 0 index\n",
        "# Embedding Layer creates one more vector for \"UNKNOWN\" words, or padded words (0s). This Vector is filled with zeros.\n",
        "# Thus our vocab size inceeases by 1\n",
        "vocab_size = len(tokenizer.word_index) + 1"
      ]
    },
    {
      "cell_type": "code",
      "source": [
        "y = new_df['fraudulent']"
      ],
      "metadata": {
        "id": "zVJwgGMD-_Vt"
      },
      "execution_count": 67,
      "outputs": []
    },
    {
      "cell_type": "code",
      "source": [
        "print(len(X))\n",
        "print(len(y))"
      ],
      "metadata": {
        "colab": {
          "base_uri": "https://localhost:8080/"
        },
        "id": "PuTeDXj8GVpR",
        "outputId": "f913ec85-ef95-43ed-fe10-891bd850bca9"
      },
      "execution_count": 68,
      "outputs": [
        {
          "output_type": "stream",
          "name": "stdout",
          "text": [
            "1567\n",
            "1567\n"
          ]
        }
      ]
    },
    {
      "cell_type": "code",
      "source": [
        "X_train, X_test, y_train, y_test = train_test_split(X, y,random_state=42)"
      ],
      "metadata": {
        "id": "qVJFp664_BQg"
      },
      "execution_count": 104,
      "outputs": []
    },
    {
      "cell_type": "markdown",
      "source": [
        "## Model Training"
      ],
      "metadata": {
        "id": "ClgnzAl25lfR"
      }
    },
    {
      "cell_type": "markdown",
      "source": [
        "### model with no embedding layer"
      ],
      "metadata": {
        "id": "MHW90M8qA5s8"
      }
    },
    {
      "cell_type": "code",
      "source": [
        "#Defining Neural Network\n",
        "model = Sequential()\n",
        "#Non-trainable embeddidng layer\n",
        "#LSTM \n",
        "model.add(LSTM(units=128,input_shape=(700, 1)))\n",
        "model.add(Dense(1, activation='sigmoid'))\n",
        "model.compile(optimizer='adam', loss='binary_crossentropy', metrics=['acc'])\n"
      ],
      "metadata": {
        "id": "Uf4B9u6b-iIj"
      },
      "execution_count": 134,
      "outputs": []
    },
    {
      "cell_type": "code",
      "source": [
        "model.summary()"
      ],
      "metadata": {
        "colab": {
          "base_uri": "https://localhost:8080/"
        },
        "id": "EFOBTX2t-xzK",
        "outputId": "04e8d9d5-c073-4577-8a75-0d4672a399e9"
      },
      "execution_count": 135,
      "outputs": [
        {
          "output_type": "stream",
          "name": "stdout",
          "text": [
            "Model: \"sequential_5\"\n",
            "_________________________________________________________________\n",
            " Layer (type)                Output Shape              Param #   \n",
            "=================================================================\n",
            " lstm_5 (LSTM)               (None, 128)               66560     \n",
            "                                                                 \n",
            " dense_5 (Dense)             (None, 1)                 129       \n",
            "                                                                 \n",
            "=================================================================\n",
            "Total params: 66,689\n",
            "Trainable params: 66,689\n",
            "Non-trainable params: 0\n",
            "_________________________________________________________________\n"
          ]
        }
      ]
    },
    {
      "cell_type": "code",
      "source": [
        "model.fit(X_train, y_train, validation_split=0.3, epochs=6)"
      ],
      "metadata": {
        "colab": {
          "base_uri": "https://localhost:8080/"
        },
        "id": "r_xfsYuc-zr9",
        "outputId": "045802a4-db16-4120-c940-2884c0aad09f"
      },
      "execution_count": 136,
      "outputs": [
        {
          "output_type": "stream",
          "name": "stdout",
          "text": [
            "Epoch 1/6\n",
            "26/26 [==============================] - 3s 60ms/step - loss: 0.6938 - acc: 0.4830 - val_loss: 0.6772 - val_acc: 0.5779\n",
            "Epoch 2/6\n",
            "26/26 [==============================] - 1s 40ms/step - loss: 0.6636 - acc: 0.5827 - val_loss: 0.6725 - val_acc: 0.5354\n",
            "Epoch 3/6\n",
            "26/26 [==============================] - 1s 40ms/step - loss: 0.6440 - acc: 0.6131 - val_loss: 0.6549 - val_acc: 0.5552\n",
            "Epoch 4/6\n",
            "26/26 [==============================] - 1s 40ms/step - loss: 0.6070 - acc: 0.6837 - val_loss: 0.6341 - val_acc: 0.6771\n",
            "Epoch 5/6\n",
            "26/26 [==============================] - 1s 40ms/step - loss: 0.5836 - acc: 0.6934 - val_loss: 0.6114 - val_acc: 0.6941\n",
            "Epoch 6/6\n",
            "26/26 [==============================] - 1s 40ms/step - loss: 0.5655 - acc: 0.7092 - val_loss: 0.6203 - val_acc: 0.6941\n"
          ]
        },
        {
          "output_type": "execute_result",
          "data": {
            "text/plain": [
              "<keras.callbacks.History at 0x7f27ee08cf40>"
            ]
          },
          "metadata": {},
          "execution_count": 136
        }
      ]
    },
    {
      "cell_type": "code",
      "source": [
        "y_pred = (model.predict(X_test) >= 0.5).astype(\"int\")"
      ],
      "metadata": {
        "colab": {
          "base_uri": "https://localhost:8080/"
        },
        "id": "Zc6XbQwb-12I",
        "outputId": "a2cb881d-a575-4998-a660-edb596636257"
      },
      "execution_count": 137,
      "outputs": [
        {
          "output_type": "stream",
          "name": "stdout",
          "text": [
            "13/13 [==============================] - 1s 15ms/step\n"
          ]
        }
      ]
    },
    {
      "cell_type": "code",
      "source": [
        "print(classification_report(y_test, y_pred))"
      ],
      "metadata": {
        "colab": {
          "base_uri": "https://localhost:8080/"
        },
        "id": "qwBysA1I-5hS",
        "outputId": "0a019596-d7b7-4032-b02e-86fbd1bfb7d9"
      },
      "execution_count": 138,
      "outputs": [
        {
          "output_type": "stream",
          "name": "stdout",
          "text": [
            "              precision    recall  f1-score   support\n",
            "\n",
            "           0       0.65      0.50      0.57       175\n",
            "           1       0.66      0.78      0.72       217\n",
            "\n",
            "    accuracy                           0.66       392\n",
            "   macro avg       0.66      0.64      0.64       392\n",
            "weighted avg       0.66      0.66      0.65       392\n",
            "\n"
          ]
        }
      ]
    },
    {
      "cell_type": "code",
      "source": [
        "model.fit(X_train, y_train, validation_split=0.3, epochs=60)"
      ],
      "metadata": {
        "id": "JFYQ34sQQc2k",
        "outputId": "85aa3c07-018a-46fd-c50a-97b8066feb26",
        "colab": {
          "base_uri": "https://localhost:8080/"
        }
      },
      "execution_count": 139,
      "outputs": [
        {
          "output_type": "stream",
          "name": "stdout",
          "text": [
            "Epoch 1/60\n",
            "26/26 [==============================] - 1s 42ms/step - loss: 0.5645 - acc: 0.7251 - val_loss: 0.5874 - val_acc: 0.7139\n",
            "Epoch 2/60\n",
            "26/26 [==============================] - 1s 39ms/step - loss: 0.5443 - acc: 0.7311 - val_loss: 0.5808 - val_acc: 0.7224\n",
            "Epoch 3/60\n",
            "26/26 [==============================] - 1s 40ms/step - loss: 0.5373 - acc: 0.7360 - val_loss: 0.5909 - val_acc: 0.7195\n",
            "Epoch 4/60\n",
            "26/26 [==============================] - 1s 40ms/step - loss: 0.5358 - acc: 0.7299 - val_loss: 0.5653 - val_acc: 0.7309\n",
            "Epoch 5/60\n",
            "26/26 [==============================] - 1s 40ms/step - loss: 0.5255 - acc: 0.7348 - val_loss: 0.6209 - val_acc: 0.6572\n",
            "Epoch 6/60\n",
            "26/26 [==============================] - 1s 40ms/step - loss: 0.5119 - acc: 0.7384 - val_loss: 0.5614 - val_acc: 0.7054\n",
            "Epoch 7/60\n",
            "26/26 [==============================] - 1s 40ms/step - loss: 0.5021 - acc: 0.7409 - val_loss: 0.5534 - val_acc: 0.7167\n",
            "Epoch 8/60\n",
            "26/26 [==============================] - 1s 45ms/step - loss: 0.4864 - acc: 0.7749 - val_loss: 0.5262 - val_acc: 0.7337\n",
            "Epoch 9/60\n",
            "26/26 [==============================] - 1s 40ms/step - loss: 0.4949 - acc: 0.7664 - val_loss: 0.5467 - val_acc: 0.7564\n",
            "Epoch 10/60\n",
            "26/26 [==============================] - 1s 40ms/step - loss: 0.4653 - acc: 0.7883 - val_loss: 0.5290 - val_acc: 0.7507\n",
            "Epoch 11/60\n",
            "26/26 [==============================] - 1s 41ms/step - loss: 0.4710 - acc: 0.7956 - val_loss: 0.5083 - val_acc: 0.7620\n",
            "Epoch 12/60\n",
            "26/26 [==============================] - 1s 41ms/step - loss: 0.4544 - acc: 0.7932 - val_loss: 0.5193 - val_acc: 0.7450\n",
            "Epoch 13/60\n",
            "26/26 [==============================] - 1s 40ms/step - loss: 0.5064 - acc: 0.7445 - val_loss: 0.5326 - val_acc: 0.7422\n",
            "Epoch 14/60\n",
            "26/26 [==============================] - 1s 41ms/step - loss: 0.4343 - acc: 0.8029 - val_loss: 0.4911 - val_acc: 0.7649\n",
            "Epoch 15/60\n",
            "26/26 [==============================] - 1s 39ms/step - loss: 0.4170 - acc: 0.8309 - val_loss: 0.4777 - val_acc: 0.7790\n",
            "Epoch 16/60\n",
            "26/26 [==============================] - 1s 40ms/step - loss: 0.4256 - acc: 0.8260 - val_loss: 0.5320 - val_acc: 0.7592\n",
            "Epoch 17/60\n",
            "26/26 [==============================] - 1s 39ms/step - loss: 0.3999 - acc: 0.8333 - val_loss: 0.5012 - val_acc: 0.7649\n",
            "Epoch 18/60\n",
            "26/26 [==============================] - 1s 40ms/step - loss: 0.3967 - acc: 0.8285 - val_loss: 0.4722 - val_acc: 0.7819\n",
            "Epoch 19/60\n",
            "26/26 [==============================] - 1s 40ms/step - loss: 0.3841 - acc: 0.8455 - val_loss: 0.4592 - val_acc: 0.8045\n",
            "Epoch 20/60\n",
            "26/26 [==============================] - 1s 45ms/step - loss: 0.3865 - acc: 0.8467 - val_loss: 0.4819 - val_acc: 0.7819\n",
            "Epoch 21/60\n",
            "26/26 [==============================] - 1s 41ms/step - loss: 0.3574 - acc: 0.8625 - val_loss: 0.4796 - val_acc: 0.7790\n",
            "Epoch 22/60\n",
            "26/26 [==============================] - 1s 45ms/step - loss: 0.3714 - acc: 0.8370 - val_loss: 0.4650 - val_acc: 0.8045\n",
            "Epoch 23/60\n",
            "26/26 [==============================] - 1s 40ms/step - loss: 0.3507 - acc: 0.8662 - val_loss: 0.4942 - val_acc: 0.7960\n",
            "Epoch 24/60\n",
            "26/26 [==============================] - 1s 40ms/step - loss: 0.3391 - acc: 0.8674 - val_loss: 0.6225 - val_acc: 0.7365\n",
            "Epoch 25/60\n",
            "26/26 [==============================] - 1s 40ms/step - loss: 0.3545 - acc: 0.8540 - val_loss: 0.4702 - val_acc: 0.7790\n",
            "Epoch 26/60\n",
            "26/26 [==============================] - 1s 41ms/step - loss: 0.3398 - acc: 0.8589 - val_loss: 0.4372 - val_acc: 0.8130\n",
            "Epoch 27/60\n",
            "26/26 [==============================] - 1s 40ms/step - loss: 0.3000 - acc: 0.8820 - val_loss: 0.4716 - val_acc: 0.7989\n",
            "Epoch 28/60\n",
            "26/26 [==============================] - 1s 40ms/step - loss: 0.3443 - acc: 0.8479 - val_loss: 0.4315 - val_acc: 0.8102\n",
            "Epoch 29/60\n",
            "26/26 [==============================] - 1s 40ms/step - loss: 0.3177 - acc: 0.8662 - val_loss: 0.5186 - val_acc: 0.7875\n",
            "Epoch 30/60\n",
            "26/26 [==============================] - 1s 40ms/step - loss: 0.3061 - acc: 0.8723 - val_loss: 0.4417 - val_acc: 0.8045\n",
            "Epoch 31/60\n",
            "26/26 [==============================] - 1s 39ms/step - loss: 0.2912 - acc: 0.8917 - val_loss: 0.4382 - val_acc: 0.8102\n",
            "Epoch 32/60\n",
            "26/26 [==============================] - 1s 39ms/step - loss: 0.2900 - acc: 0.8954 - val_loss: 0.4301 - val_acc: 0.8244\n",
            "Epoch 33/60\n",
            "26/26 [==============================] - 1s 41ms/step - loss: 0.2674 - acc: 0.9063 - val_loss: 0.4419 - val_acc: 0.8045\n",
            "Epoch 34/60\n",
            "26/26 [==============================] - 1s 40ms/step - loss: 0.2472 - acc: 0.9124 - val_loss: 0.4609 - val_acc: 0.8102\n",
            "Epoch 35/60\n",
            "26/26 [==============================] - 1s 39ms/step - loss: 0.2709 - acc: 0.8978 - val_loss: 0.4624 - val_acc: 0.8074\n",
            "Epoch 36/60\n",
            "26/26 [==============================] - 1s 41ms/step - loss: 0.2799 - acc: 0.8893 - val_loss: 0.4349 - val_acc: 0.8244\n",
            "Epoch 37/60\n",
            "26/26 [==============================] - 1s 42ms/step - loss: 0.2464 - acc: 0.9100 - val_loss: 0.4327 - val_acc: 0.8272\n",
            "Epoch 38/60\n",
            "26/26 [==============================] - 1s 40ms/step - loss: 0.2344 - acc: 0.9185 - val_loss: 0.4089 - val_acc: 0.8357\n",
            "Epoch 39/60\n",
            "26/26 [==============================] - 1s 39ms/step - loss: 0.1982 - acc: 0.9307 - val_loss: 0.4199 - val_acc: 0.8414\n",
            "Epoch 40/60\n",
            "26/26 [==============================] - 1s 39ms/step - loss: 0.1839 - acc: 0.9392 - val_loss: 0.3898 - val_acc: 0.8357\n",
            "Epoch 41/60\n",
            "26/26 [==============================] - 1s 40ms/step - loss: 0.1780 - acc: 0.9416 - val_loss: 0.4278 - val_acc: 0.8300\n",
            "Epoch 42/60\n",
            "26/26 [==============================] - 1s 39ms/step - loss: 0.1769 - acc: 0.9319 - val_loss: 0.4167 - val_acc: 0.8527\n",
            "Epoch 43/60\n",
            "26/26 [==============================] - 1s 39ms/step - loss: 0.1859 - acc: 0.9343 - val_loss: 0.3821 - val_acc: 0.8329\n",
            "Epoch 44/60\n",
            "26/26 [==============================] - 1s 39ms/step - loss: 0.1671 - acc: 0.9453 - val_loss: 0.4055 - val_acc: 0.8640\n",
            "Epoch 45/60\n",
            "26/26 [==============================] - 1s 40ms/step - loss: 0.1476 - acc: 0.9562 - val_loss: 0.4305 - val_acc: 0.8300\n",
            "Epoch 46/60\n",
            "26/26 [==============================] - 1s 41ms/step - loss: 0.1566 - acc: 0.9477 - val_loss: 0.4285 - val_acc: 0.8357\n",
            "Epoch 47/60\n",
            "26/26 [==============================] - 1s 40ms/step - loss: 0.1309 - acc: 0.9513 - val_loss: 0.4089 - val_acc: 0.8527\n",
            "Epoch 48/60\n",
            "26/26 [==============================] - 1s 41ms/step - loss: 0.1420 - acc: 0.9465 - val_loss: 0.4150 - val_acc: 0.8527\n",
            "Epoch 49/60\n",
            "26/26 [==============================] - 1s 40ms/step - loss: 0.2111 - acc: 0.9148 - val_loss: 0.4408 - val_acc: 0.8244\n",
            "Epoch 50/60\n",
            "26/26 [==============================] - 1s 40ms/step - loss: 0.1454 - acc: 0.9513 - val_loss: 0.4751 - val_acc: 0.8300\n",
            "Epoch 51/60\n",
            "26/26 [==============================] - 1s 42ms/step - loss: 0.1243 - acc: 0.9611 - val_loss: 0.4190 - val_acc: 0.8442\n",
            "Epoch 52/60\n",
            "26/26 [==============================] - 1s 41ms/step - loss: 0.0981 - acc: 0.9659 - val_loss: 0.4226 - val_acc: 0.8385\n",
            "Epoch 53/60\n",
            "26/26 [==============================] - 1s 40ms/step - loss: 0.0946 - acc: 0.9720 - val_loss: 0.4183 - val_acc: 0.8612\n",
            "Epoch 54/60\n",
            "26/26 [==============================] - 1s 40ms/step - loss: 0.0800 - acc: 0.9793 - val_loss: 0.4299 - val_acc: 0.8385\n",
            "Epoch 55/60\n",
            "26/26 [==============================] - 1s 40ms/step - loss: 0.0718 - acc: 0.9805 - val_loss: 0.4332 - val_acc: 0.8385\n",
            "Epoch 56/60\n",
            "26/26 [==============================] - 1s 40ms/step - loss: 0.0720 - acc: 0.9793 - val_loss: 0.4504 - val_acc: 0.8527\n",
            "Epoch 57/60\n",
            "26/26 [==============================] - 1s 41ms/step - loss: 0.0697 - acc: 0.9818 - val_loss: 0.4409 - val_acc: 0.8442\n",
            "Epoch 58/60\n",
            "26/26 [==============================] - 1s 40ms/step - loss: 0.0702 - acc: 0.9818 - val_loss: 0.7612 - val_acc: 0.7904\n",
            "Epoch 59/60\n",
            "26/26 [==============================] - 1s 40ms/step - loss: 0.2892 - acc: 0.8942 - val_loss: 0.4758 - val_acc: 0.7960\n",
            "Epoch 60/60\n",
            "26/26 [==============================] - 1s 40ms/step - loss: 0.1586 - acc: 0.9428 - val_loss: 0.4522 - val_acc: 0.8187\n"
          ]
        },
        {
          "output_type": "execute_result",
          "data": {
            "text/plain": [
              "<keras.callbacks.History at 0x7f27da0d0670>"
            ]
          },
          "metadata": {},
          "execution_count": 139
        }
      ]
    },
    {
      "cell_type": "code",
      "source": [
        "y_pred = (model.predict(X_test) >= 0.5).astype(\"int\")"
      ],
      "metadata": {
        "id": "18DGgElNQdR5",
        "outputId": "845a85b1-56ae-469c-8cda-bda10204187b",
        "colab": {
          "base_uri": "https://localhost:8080/"
        }
      },
      "execution_count": 140,
      "outputs": [
        {
          "output_type": "stream",
          "name": "stdout",
          "text": [
            "13/13 [==============================] - 0s 20ms/step\n"
          ]
        }
      ]
    },
    {
      "cell_type": "code",
      "source": [
        "print(classification_report(y_test, y_pred))"
      ],
      "metadata": {
        "id": "YZX44gUcQfCz",
        "outputId": "435dead6-1a0e-48ac-a167-9df00c9fc619",
        "colab": {
          "base_uri": "https://localhost:8080/"
        }
      },
      "execution_count": 141,
      "outputs": [
        {
          "output_type": "stream",
          "name": "stdout",
          "text": [
            "              precision    recall  f1-score   support\n",
            "\n",
            "           0       0.77      0.79      0.78       175\n",
            "           1       0.83      0.81      0.82       217\n",
            "\n",
            "    accuracy                           0.80       392\n",
            "   macro avg       0.80      0.80      0.80       392\n",
            "weighted avg       0.80      0.80      0.80       392\n",
            "\n"
          ]
        }
      ]
    },
    {
      "cell_type": "markdown",
      "source": [
        "### model with word2Vec embedding layer"
      ],
      "metadata": {
        "id": "dbxj69bwBD5X"
      }
    },
    {
      "cell_type": "code",
      "source": [
        "EMBEDDING_DIM = 100"
      ],
      "metadata": {
        "id": "w5PZaepOeKER"
      },
      "execution_count": 142,
      "outputs": []
    },
    {
      "cell_type": "markdown",
      "source": [
        "#### word2vec"
      ],
      "metadata": {
        "id": "xyl5l88R6LFb"
      }
    },
    {
      "cell_type": "code",
      "execution_count": 143,
      "metadata": {
        "id": "2Miwj-OX6LFc"
      },
      "outputs": [],
      "source": [
        "import gensim"
      ]
    },
    {
      "cell_type": "code",
      "execution_count": 144,
      "metadata": {
        "id": "5-YvXYn-6LFd"
      },
      "outputs": [],
      "source": [
        "sentence = token_df['description']"
      ]
    },
    {
      "cell_type": "code",
      "execution_count": 145,
      "metadata": {
        "colab": {
          "base_uri": "https://localhost:8080/"
        },
        "outputId": "d148ea9b-f858-42aa-d679-7daef34feec7",
        "id": "NT9wCqIa6LFd"
      },
      "outputs": [
        {
          "output_type": "stream",
          "name": "stdout",
          "text": [
            "<class 'pandas.core.series.Series'>\n",
            "(1567,)\n",
            "6        [your, responsibilities, manage, the, english,...\n",
            "15       [about, vault, dragon, vault, dragon, is, drop...\n",
            "23       [url, eda2500ddcedb60957fcd7f5b164e092966f8c4e...\n",
            "102      [the, job, is, to, support, the, growth, of, t...\n",
            "134      [backgrounda, senior, sales, and, account, man...\n",
            "                               ...                        \n",
            "17827    [student, positions, part, time, and, full, ti...\n",
            "17828    [learn, to, earn, an, executive, level, income...\n",
            "17829    [infullmobile, sp, z, o, o, is, a, mobile, sof...\n",
            "17830    [job, descriptionwe, are, seeking, a, full, ti...\n",
            "17831    [earn, 500, to, 1000, a, week, as, a, mover, m...\n",
            "Name: description, Length: 1567, dtype: object\n"
          ]
        }
      ],
      "source": [
        "print(type(sentence))\n",
        "print(sentence.shape)\n",
        "print(sentence)"
      ]
    },
    {
      "cell_type": "code",
      "execution_count": 146,
      "metadata": {
        "colab": {
          "base_uri": "https://localhost:8080/"
        },
        "outputId": "b9bd058f-eaeb-45c2-8383-deb4b8be81ce",
        "id": "zWZ-zxly6LFf"
      },
      "outputs": [
        {
          "output_type": "execute_result",
          "data": {
            "text/plain": [
              "False"
            ]
          },
          "metadata": {},
          "execution_count": 146
        }
      ],
      "source": [
        "'reproducing' in sentence[6]"
      ]
    },
    {
      "cell_type": "code",
      "execution_count": 147,
      "metadata": {
        "id": "Bcel78Bt6LFf"
      },
      "outputs": [],
      "source": [
        "# initialize a model\n",
        "w2v_model = gensim.models.Word2Vec(sentence, size=100, min_count=1)"
      ]
    },
    {
      "cell_type": "code",
      "execution_count": 148,
      "metadata": {
        "id": "BiUEDogJ6LFh"
      },
      "outputs": [],
      "source": [
        "def most_similar(w2v_model, words, topn=10):\n",
        "    similar_df = pd.DataFrame()\n",
        "    for word in words:\n",
        "        try:\n",
        "            similar_words = pd.DataFrame(w2v_model.wv.most_similar(word, topn=topn), columns=[word, 'cos'])\n",
        "            similar_df = pd.concat([similar_df, similar_words], axis=1)\n",
        "        except:\n",
        "            print(word, \"not found in Word2Vec model!\")\n",
        "    return similar_df"
      ]
    },
    {
      "cell_type": "code",
      "execution_count": 149,
      "metadata": {
        "colab": {
          "base_uri": "https://localhost:8080/",
          "height": 363
        },
        "outputId": "e5faba28-3e86-4af0-d0cf-5fb13089632b",
        "id": "Ay6-6o5z6LFh"
      },
      "outputs": [
        {
          "output_type": "execute_result",
          "data": {
            "text/plain": [
              "             our       cos                  title       cos            client  \\\n",
              "0      ambitious  0.929268                  joint  0.998162           quality   \n",
              "1        depends  0.927506              convallis  0.997101  issuesmonitoring   \n",
              "2         values  0.919902                  fraud  0.996860            design   \n",
              "3           that  0.911363  manufacturinglocation  0.996624        csidentity   \n",
              "4  extraordinary  0.903319                     de  0.996493       achievement   \n",
              "5   dramatically  0.901855                   lake  0.996416   systemsgenerate   \n",
              "6            add  0.897570              correctly  0.996413        management   \n",
              "7        growing  0.891330                 portal  0.996299             staff   \n",
              "8  distinctively  0.886941               mountain  0.996059         educating   \n",
              "9        devoted  0.886784                animals  0.995950           roadmap   \n",
              "\n",
              "        cos     company       cos  \n",
              "0  0.959400     growing  0.942921  \n",
              "1  0.957963     leading  0.934518  \n",
              "2  0.946005  futureaker  0.926371  \n",
              "3  0.943543     fastest  0.926301  \n",
              "4  0.942206    steadily  0.915746  \n",
              "5  0.941372      values  0.912757  \n",
              "6  0.939554      global  0.907678  \n",
              "7  0.939334    industry  0.907162  \n",
              "8  0.938282     kingdom  0.904441  \n",
              "9  0.937976       stage  0.903599  "
            ],
            "text/html": [
              "\n",
              "  <div id=\"df-928dbfcc-3a79-4794-bb7d-f701968752c2\">\n",
              "    <div class=\"colab-df-container\">\n",
              "      <div>\n",
              "<style scoped>\n",
              "    .dataframe tbody tr th:only-of-type {\n",
              "        vertical-align: middle;\n",
              "    }\n",
              "\n",
              "    .dataframe tbody tr th {\n",
              "        vertical-align: top;\n",
              "    }\n",
              "\n",
              "    .dataframe thead th {\n",
              "        text-align: right;\n",
              "    }\n",
              "</style>\n",
              "<table border=\"1\" class=\"dataframe\">\n",
              "  <thead>\n",
              "    <tr style=\"text-align: right;\">\n",
              "      <th></th>\n",
              "      <th>our</th>\n",
              "      <th>cos</th>\n",
              "      <th>title</th>\n",
              "      <th>cos</th>\n",
              "      <th>client</th>\n",
              "      <th>cos</th>\n",
              "      <th>company</th>\n",
              "      <th>cos</th>\n",
              "    </tr>\n",
              "  </thead>\n",
              "  <tbody>\n",
              "    <tr>\n",
              "      <th>0</th>\n",
              "      <td>ambitious</td>\n",
              "      <td>0.929268</td>\n",
              "      <td>joint</td>\n",
              "      <td>0.998162</td>\n",
              "      <td>quality</td>\n",
              "      <td>0.959400</td>\n",
              "      <td>growing</td>\n",
              "      <td>0.942921</td>\n",
              "    </tr>\n",
              "    <tr>\n",
              "      <th>1</th>\n",
              "      <td>depends</td>\n",
              "      <td>0.927506</td>\n",
              "      <td>convallis</td>\n",
              "      <td>0.997101</td>\n",
              "      <td>issuesmonitoring</td>\n",
              "      <td>0.957963</td>\n",
              "      <td>leading</td>\n",
              "      <td>0.934518</td>\n",
              "    </tr>\n",
              "    <tr>\n",
              "      <th>2</th>\n",
              "      <td>values</td>\n",
              "      <td>0.919902</td>\n",
              "      <td>fraud</td>\n",
              "      <td>0.996860</td>\n",
              "      <td>design</td>\n",
              "      <td>0.946005</td>\n",
              "      <td>futureaker</td>\n",
              "      <td>0.926371</td>\n",
              "    </tr>\n",
              "    <tr>\n",
              "      <th>3</th>\n",
              "      <td>that</td>\n",
              "      <td>0.911363</td>\n",
              "      <td>manufacturinglocation</td>\n",
              "      <td>0.996624</td>\n",
              "      <td>csidentity</td>\n",
              "      <td>0.943543</td>\n",
              "      <td>fastest</td>\n",
              "      <td>0.926301</td>\n",
              "    </tr>\n",
              "    <tr>\n",
              "      <th>4</th>\n",
              "      <td>extraordinary</td>\n",
              "      <td>0.903319</td>\n",
              "      <td>de</td>\n",
              "      <td>0.996493</td>\n",
              "      <td>achievement</td>\n",
              "      <td>0.942206</td>\n",
              "      <td>steadily</td>\n",
              "      <td>0.915746</td>\n",
              "    </tr>\n",
              "    <tr>\n",
              "      <th>5</th>\n",
              "      <td>dramatically</td>\n",
              "      <td>0.901855</td>\n",
              "      <td>lake</td>\n",
              "      <td>0.996416</td>\n",
              "      <td>systemsgenerate</td>\n",
              "      <td>0.941372</td>\n",
              "      <td>values</td>\n",
              "      <td>0.912757</td>\n",
              "    </tr>\n",
              "    <tr>\n",
              "      <th>6</th>\n",
              "      <td>add</td>\n",
              "      <td>0.897570</td>\n",
              "      <td>correctly</td>\n",
              "      <td>0.996413</td>\n",
              "      <td>management</td>\n",
              "      <td>0.939554</td>\n",
              "      <td>global</td>\n",
              "      <td>0.907678</td>\n",
              "    </tr>\n",
              "    <tr>\n",
              "      <th>7</th>\n",
              "      <td>growing</td>\n",
              "      <td>0.891330</td>\n",
              "      <td>portal</td>\n",
              "      <td>0.996299</td>\n",
              "      <td>staff</td>\n",
              "      <td>0.939334</td>\n",
              "      <td>industry</td>\n",
              "      <td>0.907162</td>\n",
              "    </tr>\n",
              "    <tr>\n",
              "      <th>8</th>\n",
              "      <td>distinctively</td>\n",
              "      <td>0.886941</td>\n",
              "      <td>mountain</td>\n",
              "      <td>0.996059</td>\n",
              "      <td>educating</td>\n",
              "      <td>0.938282</td>\n",
              "      <td>kingdom</td>\n",
              "      <td>0.904441</td>\n",
              "    </tr>\n",
              "    <tr>\n",
              "      <th>9</th>\n",
              "      <td>devoted</td>\n",
              "      <td>0.886784</td>\n",
              "      <td>animals</td>\n",
              "      <td>0.995950</td>\n",
              "      <td>roadmap</td>\n",
              "      <td>0.937976</td>\n",
              "      <td>stage</td>\n",
              "      <td>0.903599</td>\n",
              "    </tr>\n",
              "  </tbody>\n",
              "</table>\n",
              "</div>\n",
              "      <button class=\"colab-df-convert\" onclick=\"convertToInteractive('df-928dbfcc-3a79-4794-bb7d-f701968752c2')\"\n",
              "              title=\"Convert this dataframe to an interactive table.\"\n",
              "              style=\"display:none;\">\n",
              "        \n",
              "  <svg xmlns=\"http://www.w3.org/2000/svg\" height=\"24px\"viewBox=\"0 0 24 24\"\n",
              "       width=\"24px\">\n",
              "    <path d=\"M0 0h24v24H0V0z\" fill=\"none\"/>\n",
              "    <path d=\"M18.56 5.44l.94 2.06.94-2.06 2.06-.94-2.06-.94-.94-2.06-.94 2.06-2.06.94zm-11 1L8.5 8.5l.94-2.06 2.06-.94-2.06-.94L8.5 2.5l-.94 2.06-2.06.94zm10 10l.94 2.06.94-2.06 2.06-.94-2.06-.94-.94-2.06-.94 2.06-2.06.94z\"/><path d=\"M17.41 7.96l-1.37-1.37c-.4-.4-.92-.59-1.43-.59-.52 0-1.04.2-1.43.59L10.3 9.45l-7.72 7.72c-.78.78-.78 2.05 0 2.83L4 21.41c.39.39.9.59 1.41.59.51 0 1.02-.2 1.41-.59l7.78-7.78 2.81-2.81c.8-.78.8-2.07 0-2.86zM5.41 20L4 18.59l7.72-7.72 1.47 1.35L5.41 20z\"/>\n",
              "  </svg>\n",
              "      </button>\n",
              "      \n",
              "  <style>\n",
              "    .colab-df-container {\n",
              "      display:flex;\n",
              "      flex-wrap:wrap;\n",
              "      gap: 12px;\n",
              "    }\n",
              "\n",
              "    .colab-df-convert {\n",
              "      background-color: #E8F0FE;\n",
              "      border: none;\n",
              "      border-radius: 50%;\n",
              "      cursor: pointer;\n",
              "      display: none;\n",
              "      fill: #1967D2;\n",
              "      height: 32px;\n",
              "      padding: 0 0 0 0;\n",
              "      width: 32px;\n",
              "    }\n",
              "\n",
              "    .colab-df-convert:hover {\n",
              "      background-color: #E2EBFA;\n",
              "      box-shadow: 0px 1px 2px rgba(60, 64, 67, 0.3), 0px 1px 3px 1px rgba(60, 64, 67, 0.15);\n",
              "      fill: #174EA6;\n",
              "    }\n",
              "\n",
              "    [theme=dark] .colab-df-convert {\n",
              "      background-color: #3B4455;\n",
              "      fill: #D2E3FC;\n",
              "    }\n",
              "\n",
              "    [theme=dark] .colab-df-convert:hover {\n",
              "      background-color: #434B5C;\n",
              "      box-shadow: 0px 1px 3px 1px rgba(0, 0, 0, 0.15);\n",
              "      filter: drop-shadow(0px 1px 2px rgba(0, 0, 0, 0.3));\n",
              "      fill: #FFFFFF;\n",
              "    }\n",
              "  </style>\n",
              "\n",
              "      <script>\n",
              "        const buttonEl =\n",
              "          document.querySelector('#df-928dbfcc-3a79-4794-bb7d-f701968752c2 button.colab-df-convert');\n",
              "        buttonEl.style.display =\n",
              "          google.colab.kernel.accessAllowed ? 'block' : 'none';\n",
              "\n",
              "        async function convertToInteractive(key) {\n",
              "          const element = document.querySelector('#df-928dbfcc-3a79-4794-bb7d-f701968752c2');\n",
              "          const dataTable =\n",
              "            await google.colab.kernel.invokeFunction('convertToInteractive',\n",
              "                                                     [key], {});\n",
              "          if (!dataTable) return;\n",
              "\n",
              "          const docLinkHtml = 'Like what you see? Visit the ' +\n",
              "            '<a target=\"_blank\" href=https://colab.research.google.com/notebooks/data_table.ipynb>data table notebook</a>'\n",
              "            + ' to learn more about interactive tables.';\n",
              "          element.innerHTML = '';\n",
              "          dataTable['output_type'] = 'display_data';\n",
              "          await google.colab.output.renderOutput(dataTable, element);\n",
              "          const docLink = document.createElement('div');\n",
              "          docLink.innerHTML = docLinkHtml;\n",
              "          element.appendChild(docLink);\n",
              "        }\n",
              "      </script>\n",
              "    </div>\n",
              "  </div>\n",
              "  "
            ]
          },
          "metadata": {},
          "execution_count": 149
        }
      ],
      "source": [
        "most_similar(w2v_model,['our','title','client','company'])"
      ]
    },
    {
      "cell_type": "markdown",
      "source": [
        "#### create embedding_vectors"
      ],
      "metadata": {
        "id": "xfQKHgMp77ke"
      }
    },
    {
      "cell_type": "code",
      "execution_count": 150,
      "metadata": {
        "id": "S6g-8dSwpMdx"
      },
      "outputs": [],
      "source": [
        "# Function to create weight matrix from word2vec gensim model\n",
        "def get_weight_matrix(model, vocab):\n",
        "    # total vocabulary size plus 0 for unknown words\n",
        "    vocab_size = len(vocab) + 1\n",
        "    # define weight matrix dimensions with all 0\n",
        "    weight_matrix = np.zeros((vocab_size, EMBEDDING_DIM))\n",
        "    # step vocab, store vectors using the Tokenizer's integer mapping\n",
        "    for word, i in vocab.items():\n",
        "        weight_matrix[i] = model.wv[word]\n",
        "    return weight_matrix"
      ]
    },
    {
      "cell_type": "code",
      "execution_count": 151,
      "metadata": {
        "id": "vdqUrGHKpOaa"
      },
      "outputs": [],
      "source": [
        "#Getting embedding vectors from word2vec and usings it as weights of non-trainable keras embedding layer\n",
        "embedding_vectors = get_weight_matrix(w2v_model, word_index)"
      ]
    },
    {
      "cell_type": "code",
      "execution_count": 152,
      "metadata": {
        "colab": {
          "base_uri": "https://localhost:8080/"
        },
        "id": "QRPVMZUcooGP",
        "outputId": "49df53ec-227b-434f-83f6-39d495a8c22a"
      },
      "outputs": [
        {
          "output_type": "execute_result",
          "data": {
            "text/plain": [
              "array([ 1.0084366 ,  0.2683335 ,  0.4710974 ,  0.2692264 ,  0.9780768 ,\n",
              "        0.4044948 ,  0.221668  , -0.9130973 ,  0.6235458 , -0.38803297,\n",
              "       -0.28511143, -0.9108157 ,  0.47152597, -0.06143813, -0.15075608,\n",
              "        0.18671605, -0.9330511 , -0.46520784, -0.499566  ,  0.2057163 ,\n",
              "        0.37993816,  0.20509598,  0.81189203, -0.35030136, -0.40027922,\n",
              "        0.6603605 , -0.77710325,  0.61181575, -0.44135308, -0.09530825,\n",
              "       -0.5579255 , -0.46259832, -0.69477034,  0.1992088 ,  0.32436103,\n",
              "        0.36515474,  0.66503453,  0.12621291,  0.05088066,  0.37401205,\n",
              "        0.24816939,  0.15668795, -0.17409444, -0.06004843,  0.17227948,\n",
              "       -0.76423126,  0.0054582 ,  0.20705894, -1.1357648 ,  0.19347195,\n",
              "       -1.1428972 ,  0.01358908,  0.5306754 , -0.2803867 ,  0.14902316,\n",
              "       -0.4400412 , -0.22007118,  0.5626526 ,  0.22105414,  0.02172532,\n",
              "        0.7905312 ,  1.0281991 , -0.10070426,  0.15782157,  0.34047607,\n",
              "        0.55622137,  0.43773526,  0.21502449, -0.5336409 ,  0.11139558,\n",
              "       -1.0051143 ,  0.88504845, -0.87981576, -0.9792369 ,  0.5139292 ,\n",
              "        0.51526916,  0.23353088, -0.16144712, -0.22049738, -0.86208445,\n",
              "        0.7005203 , -0.0574645 , -0.97142285,  0.17825022, -0.06004916,\n",
              "       -1.2061589 ,  0.1499975 , -0.06704491, -1.0704435 , -0.00487617,\n",
              "        0.26402026, -1.1176382 ,  0.8508079 , -0.9622291 ,  0.19711934,\n",
              "        0.23570178,  0.6342978 ,  0.68821067,  0.33122453, -0.752538  ],\n",
              "      dtype=float32)"
            ]
          },
          "metadata": {},
          "execution_count": 152
        }
      ],
      "source": [
        "w2v_model.wv['and']"
      ]
    },
    {
      "cell_type": "code",
      "execution_count": 153,
      "metadata": {
        "colab": {
          "base_uri": "https://localhost:8080/"
        },
        "id": "XVEbzMhZnaey",
        "outputId": "8d5ae8f5-b925-4af0-f77f-fe35ef926a7a"
      },
      "outputs": [
        {
          "output_type": "execute_result",
          "data": {
            "text/plain": [
              "array([ 1.00843656,  0.26833349,  0.47109741,  0.2692264 ,  0.97807682,\n",
              "        0.40449479,  0.221668  , -0.91309732,  0.62354583, -0.38803297,\n",
              "       -0.28511143, -0.91081572,  0.47152597, -0.06143813, -0.15075608,\n",
              "        0.18671605, -0.93305111, -0.46520784, -0.49956599,  0.2057163 ,\n",
              "        0.37993816,  0.20509598,  0.81189203, -0.35030136, -0.40027922,\n",
              "        0.66036052, -0.77710325,  0.61181575, -0.44135308, -0.09530825,\n",
              "       -0.55792552, -0.46259832, -0.69477034,  0.1992088 ,  0.32436103,\n",
              "        0.36515474,  0.66503453,  0.12621291,  0.05088066,  0.37401205,\n",
              "        0.24816939,  0.15668795, -0.17409444, -0.06004843,  0.17227948,\n",
              "       -0.76423126,  0.0054582 ,  0.20705894, -1.13576484,  0.19347195,\n",
              "       -1.14289725,  0.01358908,  0.53067541, -0.28038669,  0.14902316,\n",
              "       -0.44004121, -0.22007118,  0.56265259,  0.22105414,  0.02172532,\n",
              "        0.79053122,  1.02819908, -0.10070426,  0.15782157,  0.34047607,\n",
              "        0.55622137,  0.43773526,  0.21502449, -0.53364092,  0.11139558,\n",
              "       -1.00511432,  0.88504845, -0.87981576, -0.9792369 ,  0.51392919,\n",
              "        0.51526916,  0.23353088, -0.16144712, -0.22049738, -0.86208445,\n",
              "        0.70052028, -0.0574645 , -0.97142285,  0.17825022, -0.06004916,\n",
              "       -1.20615888,  0.1499975 , -0.06704491, -1.07044351, -0.00487617,\n",
              "        0.26402026, -1.11763823,  0.85080791, -0.96222907,  0.19711934,\n",
              "        0.23570178,  0.63429779,  0.68821067,  0.33122453, -0.75253803])"
            ]
          },
          "metadata": {},
          "execution_count": 153
        }
      ],
      "source": [
        "embedding_vectors[1][:100]"
      ]
    },
    {
      "cell_type": "code",
      "source": [
        "embedding_vectors[1].size"
      ],
      "metadata": {
        "colab": {
          "base_uri": "https://localhost:8080/"
        },
        "id": "h7uUZzyH2CQT",
        "outputId": "90115aa6-0a16-475f-9f35-157c839605f2"
      },
      "execution_count": 154,
      "outputs": [
        {
          "output_type": "execute_result",
          "data": {
            "text/plain": [
              "100"
            ]
          },
          "metadata": {},
          "execution_count": 154
        }
      ]
    },
    {
      "cell_type": "markdown",
      "source": [
        "#### add embedding into model"
      ],
      "metadata": {
        "id": "g8Rnmk4b8Uj-"
      }
    },
    {
      "cell_type": "code",
      "execution_count": 155,
      "metadata": {
        "id": "ybHc2FaQx72k"
      },
      "outputs": [],
      "source": [
        "#Defining Neural Network\n",
        "model = Sequential()\n",
        "#Non-trainable embeddidng layer\n",
        "model.add(Embedding(vocab_size, output_dim=EMBEDDING_DIM, weights=[embedding_vectors], input_length=maxlen, trainable=False))\n",
        "#LSTM \n",
        "model.add(LSTM(units=128))\n",
        "model.add(Dense(1, activation='sigmoid'))\n",
        "model.compile(optimizer='adam', loss='binary_crossentropy', metrics=['acc'])\n"
      ]
    },
    {
      "cell_type": "code",
      "execution_count": 156,
      "metadata": {
        "colab": {
          "base_uri": "https://localhost:8080/"
        },
        "id": "XQjZIk2iyFJA",
        "outputId": "6598d5d5-dcf1-4a2b-d48b-a749dd393d5d"
      },
      "outputs": [
        {
          "output_type": "stream",
          "name": "stdout",
          "text": [
            "Model: \"sequential_6\"\n",
            "_________________________________________________________________\n",
            " Layer (type)                Output Shape              Param #   \n",
            "=================================================================\n",
            " embedding_2 (Embedding)     (None, 700, 100)          1321100   \n",
            "                                                                 \n",
            " lstm_6 (LSTM)               (None, 128)               117248    \n",
            "                                                                 \n",
            " dense_6 (Dense)             (None, 1)                 129       \n",
            "                                                                 \n",
            "=================================================================\n",
            "Total params: 1,438,477\n",
            "Trainable params: 117,377\n",
            "Non-trainable params: 1,321,100\n",
            "_________________________________________________________________\n"
          ]
        }
      ],
      "source": [
        "model.summary()"
      ]
    },
    {
      "cell_type": "code",
      "execution_count": 157,
      "metadata": {
        "colab": {
          "base_uri": "https://localhost:8080/"
        },
        "id": "uBAjmlXByXMF",
        "outputId": "5c5b511c-f914-4e51-b687-bd9fd254f125"
      },
      "outputs": [
        {
          "output_type": "stream",
          "name": "stdout",
          "text": [
            "Epoch 1/6\n",
            "26/26 [==============================] - 4s 63ms/step - loss: 0.6632 - acc: 0.5791 - val_loss: 0.5999 - val_acc: 0.6544\n",
            "Epoch 2/6\n",
            "26/26 [==============================] - 1s 43ms/step - loss: 0.6050 - acc: 0.6642 - val_loss: 0.5842 - val_acc: 0.7054\n",
            "Epoch 3/6\n",
            "26/26 [==============================] - 1s 44ms/step - loss: 0.5700 - acc: 0.6886 - val_loss: 0.5763 - val_acc: 0.6771\n",
            "Epoch 4/6\n",
            "26/26 [==============================] - 1s 43ms/step - loss: 0.5873 - acc: 0.6910 - val_loss: 0.6383 - val_acc: 0.6402\n",
            "Epoch 5/6\n",
            "26/26 [==============================] - 1s 42ms/step - loss: 0.5499 - acc: 0.7129 - val_loss: 0.5231 - val_acc: 0.7167\n",
            "Epoch 6/6\n",
            "26/26 [==============================] - 1s 43ms/step - loss: 0.4957 - acc: 0.7652 - val_loss: 0.5420 - val_acc: 0.7110\n"
          ]
        },
        {
          "output_type": "execute_result",
          "data": {
            "text/plain": [
              "<keras.callbacks.History at 0x7f27ef372640>"
            ]
          },
          "metadata": {},
          "execution_count": 157
        }
      ],
      "source": [
        "model.fit(X_train, y_train, validation_split=0.3, epochs=6)"
      ]
    },
    {
      "cell_type": "code",
      "execution_count": 158,
      "metadata": {
        "colab": {
          "base_uri": "https://localhost:8080/"
        },
        "id": "wENCZWEXysix",
        "outputId": "a9e1c390-dfed-49ac-96e5-fc49576cc9e8"
      },
      "outputs": [
        {
          "output_type": "stream",
          "name": "stdout",
          "text": [
            "13/13 [==============================] - 1s 15ms/step\n"
          ]
        }
      ],
      "source": [
        "y_pred = (model.predict(X_test) >= 0.5).astype(\"int\")"
      ]
    },
    {
      "cell_type": "code",
      "execution_count": 159,
      "metadata": {
        "colab": {
          "base_uri": "https://localhost:8080/"
        },
        "id": "nFZW7M7kyuUM",
        "outputId": "92a6946c-d957-4462-f061-982ee87f74c1"
      },
      "outputs": [
        {
          "output_type": "stream",
          "name": "stdout",
          "text": [
            "              precision    recall  f1-score   support\n",
            "\n",
            "           0       0.69      0.77      0.73       175\n",
            "           1       0.79      0.71      0.75       217\n",
            "\n",
            "    accuracy                           0.74       392\n",
            "   macro avg       0.74      0.74      0.74       392\n",
            "weighted avg       0.75      0.74      0.74       392\n",
            "\n"
          ]
        }
      ],
      "source": [
        "print(classification_report(y_test, y_pred))"
      ]
    },
    {
      "cell_type": "code",
      "source": [
        "model.fit(X_train, y_train, validation_split=0.3, epochs=60)"
      ],
      "metadata": {
        "id": "hnlbpIr1P7dh",
        "outputId": "efceb913-1001-443c-b44d-1c850ca34fe8",
        "colab": {
          "base_uri": "https://localhost:8080/"
        }
      },
      "execution_count": 160,
      "outputs": [
        {
          "output_type": "stream",
          "name": "stdout",
          "text": [
            "Epoch 1/60\n",
            "26/26 [==============================] - 1s 45ms/step - loss: 0.4894 - acc: 0.7786 - val_loss: 0.5728 - val_acc: 0.7025\n",
            "Epoch 2/60\n",
            "26/26 [==============================] - 1s 42ms/step - loss: 0.5113 - acc: 0.7409 - val_loss: 0.5100 - val_acc: 0.7224\n",
            "Epoch 3/60\n",
            "26/26 [==============================] - 1s 42ms/step - loss: 0.4944 - acc: 0.7591 - val_loss: 0.5257 - val_acc: 0.7507\n",
            "Epoch 4/60\n",
            "26/26 [==============================] - 1s 43ms/step - loss: 0.4705 - acc: 0.7944 - val_loss: 0.4897 - val_acc: 0.7790\n",
            "Epoch 5/60\n",
            "26/26 [==============================] - 1s 43ms/step - loss: 0.4388 - acc: 0.8187 - val_loss: 0.5187 - val_acc: 0.7394\n",
            "Epoch 6/60\n",
            "26/26 [==============================] - 1s 48ms/step - loss: 0.4909 - acc: 0.7275 - val_loss: 0.4920 - val_acc: 0.7309\n",
            "Epoch 7/60\n",
            "26/26 [==============================] - 1s 43ms/step - loss: 0.4409 - acc: 0.8005 - val_loss: 0.4713 - val_acc: 0.7450\n",
            "Epoch 8/60\n",
            "26/26 [==============================] - 1s 43ms/step - loss: 0.4510 - acc: 0.7908 - val_loss: 0.4987 - val_acc: 0.7450\n",
            "Epoch 9/60\n",
            "26/26 [==============================] - 1s 43ms/step - loss: 0.4273 - acc: 0.8139 - val_loss: 0.5915 - val_acc: 0.7224\n",
            "Epoch 10/60\n",
            "26/26 [==============================] - 1s 44ms/step - loss: 0.5723 - acc: 0.6898 - val_loss: 0.5338 - val_acc: 0.7224\n",
            "Epoch 11/60\n",
            "26/26 [==============================] - 1s 43ms/step - loss: 0.4889 - acc: 0.7640 - val_loss: 0.4833 - val_acc: 0.7422\n",
            "Epoch 12/60\n",
            "26/26 [==============================] - 1s 42ms/step - loss: 0.4797 - acc: 0.7689 - val_loss: 0.4953 - val_acc: 0.7082\n",
            "Epoch 13/60\n",
            "26/26 [==============================] - 1s 42ms/step - loss: 0.5025 - acc: 0.7689 - val_loss: 0.5848 - val_acc: 0.6827\n",
            "Epoch 14/60\n",
            "26/26 [==============================] - 1s 43ms/step - loss: 0.4198 - acc: 0.8187 - val_loss: 0.5146 - val_acc: 0.7450\n",
            "Epoch 15/60\n",
            "26/26 [==============================] - 1s 44ms/step - loss: 0.3954 - acc: 0.8212 - val_loss: 0.5032 - val_acc: 0.7422\n",
            "Epoch 16/60\n",
            "26/26 [==============================] - 1s 42ms/step - loss: 0.3708 - acc: 0.8443 - val_loss: 0.5071 - val_acc: 0.7677\n",
            "Epoch 17/60\n",
            "26/26 [==============================] - 1s 42ms/step - loss: 0.3475 - acc: 0.8358 - val_loss: 0.4745 - val_acc: 0.7734\n",
            "Epoch 18/60\n",
            "26/26 [==============================] - 1s 42ms/step - loss: 0.3458 - acc: 0.8431 - val_loss: 0.4731 - val_acc: 0.7649\n",
            "Epoch 19/60\n",
            "26/26 [==============================] - 1s 46ms/step - loss: 0.3356 - acc: 0.8491 - val_loss: 0.4979 - val_acc: 0.7677\n",
            "Epoch 20/60\n",
            "26/26 [==============================] - 1s 43ms/step - loss: 0.2765 - acc: 0.8832 - val_loss: 0.4768 - val_acc: 0.7875\n",
            "Epoch 21/60\n",
            "26/26 [==============================] - 1s 43ms/step - loss: 0.3706 - acc: 0.8273 - val_loss: 0.4709 - val_acc: 0.7790\n",
            "Epoch 22/60\n",
            "26/26 [==============================] - 1s 43ms/step - loss: 0.3221 - acc: 0.8601 - val_loss: 0.4942 - val_acc: 0.7620\n",
            "Epoch 23/60\n",
            "26/26 [==============================] - 1s 42ms/step - loss: 0.2974 - acc: 0.8710 - val_loss: 0.5178 - val_acc: 0.7847\n",
            "Epoch 24/60\n",
            "26/26 [==============================] - 1s 44ms/step - loss: 0.2453 - acc: 0.8966 - val_loss: 0.4910 - val_acc: 0.7904\n",
            "Epoch 25/60\n",
            "26/26 [==============================] - 1s 44ms/step - loss: 0.2145 - acc: 0.9136 - val_loss: 0.5437 - val_acc: 0.7904\n",
            "Epoch 26/60\n",
            "26/26 [==============================] - 1s 49ms/step - loss: 0.1807 - acc: 0.9294 - val_loss: 0.5294 - val_acc: 0.8017\n",
            "Epoch 27/60\n",
            "26/26 [==============================] - 1s 43ms/step - loss: 0.2579 - acc: 0.8820 - val_loss: 0.5703 - val_acc: 0.7507\n",
            "Epoch 28/60\n",
            "26/26 [==============================] - 1s 43ms/step - loss: 0.2825 - acc: 0.8881 - val_loss: 0.5447 - val_acc: 0.7649\n",
            "Epoch 29/60\n",
            "26/26 [==============================] - 1s 42ms/step - loss: 0.1933 - acc: 0.9307 - val_loss: 0.5580 - val_acc: 0.7734\n",
            "Epoch 30/60\n",
            "26/26 [==============================] - 1s 42ms/step - loss: 0.1822 - acc: 0.9367 - val_loss: 0.6199 - val_acc: 0.7932\n",
            "Epoch 31/60\n",
            "26/26 [==============================] - 1s 42ms/step - loss: 0.1357 - acc: 0.9611 - val_loss: 0.5445 - val_acc: 0.7989\n",
            "Epoch 32/60\n",
            "26/26 [==============================] - 1s 42ms/step - loss: 0.1087 - acc: 0.9672 - val_loss: 0.6452 - val_acc: 0.7847\n",
            "Epoch 33/60\n",
            "26/26 [==============================] - 1s 43ms/step - loss: 0.0952 - acc: 0.9720 - val_loss: 0.6328 - val_acc: 0.7847\n",
            "Epoch 34/60\n",
            "26/26 [==============================] - 1s 42ms/step - loss: 0.0763 - acc: 0.9781 - val_loss: 0.6584 - val_acc: 0.7932\n",
            "Epoch 35/60\n",
            "26/26 [==============================] - 1s 42ms/step - loss: 0.0523 - acc: 0.9915 - val_loss: 0.6891 - val_acc: 0.7790\n",
            "Epoch 36/60\n",
            "26/26 [==============================] - 1s 42ms/step - loss: 0.0412 - acc: 0.9915 - val_loss: 0.8254 - val_acc: 0.7847\n",
            "Epoch 37/60\n",
            "26/26 [==============================] - 1s 43ms/step - loss: 0.0440 - acc: 0.9915 - val_loss: 0.7473 - val_acc: 0.7790\n",
            "Epoch 38/60\n",
            "26/26 [==============================] - 1s 42ms/step - loss: 0.0764 - acc: 0.9720 - val_loss: 0.7234 - val_acc: 0.7762\n",
            "Epoch 39/60\n",
            "26/26 [==============================] - 1s 41ms/step - loss: 0.0503 - acc: 0.9842 - val_loss: 0.8466 - val_acc: 0.7847\n",
            "Epoch 40/60\n",
            "26/26 [==============================] - 1s 42ms/step - loss: 0.0336 - acc: 0.9939 - val_loss: 0.7976 - val_acc: 0.7960\n",
            "Epoch 41/60\n",
            "26/26 [==============================] - 1s 42ms/step - loss: 0.0374 - acc: 0.9927 - val_loss: 0.8036 - val_acc: 0.7932\n",
            "Epoch 42/60\n",
            "26/26 [==============================] - 1s 43ms/step - loss: 0.0254 - acc: 0.9976 - val_loss: 0.8144 - val_acc: 0.7790\n",
            "Epoch 43/60\n",
            "26/26 [==============================] - 1s 42ms/step - loss: 0.0143 - acc: 1.0000 - val_loss: 0.8784 - val_acc: 0.7734\n",
            "Epoch 44/60\n",
            "26/26 [==============================] - 1s 42ms/step - loss: 0.0089 - acc: 1.0000 - val_loss: 0.8782 - val_acc: 0.7790\n",
            "Epoch 45/60\n",
            "26/26 [==============================] - 1s 42ms/step - loss: 0.0060 - acc: 1.0000 - val_loss: 0.8967 - val_acc: 0.7847\n",
            "Epoch 46/60\n",
            "26/26 [==============================] - 1s 42ms/step - loss: 0.0044 - acc: 1.0000 - val_loss: 0.9361 - val_acc: 0.7762\n",
            "Epoch 47/60\n",
            "26/26 [==============================] - 1s 43ms/step - loss: 0.0037 - acc: 1.0000 - val_loss: 0.9539 - val_acc: 0.7762\n",
            "Epoch 48/60\n",
            "26/26 [==============================] - 1s 43ms/step - loss: 0.0031 - acc: 1.0000 - val_loss: 0.9850 - val_acc: 0.7790\n",
            "Epoch 49/60\n",
            "26/26 [==============================] - 1s 42ms/step - loss: 0.0042 - acc: 1.0000 - val_loss: 0.9703 - val_acc: 0.7790\n",
            "Epoch 50/60\n",
            "26/26 [==============================] - 1s 42ms/step - loss: 0.0167 - acc: 0.9976 - val_loss: 0.8656 - val_acc: 0.7762\n",
            "Epoch 51/60\n",
            "26/26 [==============================] - 1s 42ms/step - loss: 0.0260 - acc: 0.9964 - val_loss: 0.8067 - val_acc: 0.7819\n",
            "Epoch 52/60\n",
            "26/26 [==============================] - 1s 43ms/step - loss: 0.0380 - acc: 0.9866 - val_loss: 0.9079 - val_acc: 0.7790\n",
            "Epoch 53/60\n",
            "26/26 [==============================] - 1s 43ms/step - loss: 0.1566 - acc: 0.9294 - val_loss: 0.7286 - val_acc: 0.7705\n",
            "Epoch 54/60\n",
            "26/26 [==============================] - 1s 43ms/step - loss: 0.0637 - acc: 0.9818 - val_loss: 0.8839 - val_acc: 0.7960\n",
            "Epoch 55/60\n",
            "26/26 [==============================] - 1s 42ms/step - loss: 0.0488 - acc: 0.9854 - val_loss: 0.7121 - val_acc: 0.7904\n",
            "Epoch 56/60\n",
            "26/26 [==============================] - 1s 42ms/step - loss: 0.0316 - acc: 0.9951 - val_loss: 0.8375 - val_acc: 0.7790\n",
            "Epoch 57/60\n",
            "26/26 [==============================] - 1s 42ms/step - loss: 0.0149 - acc: 0.9976 - val_loss: 0.9014 - val_acc: 0.7819\n",
            "Epoch 58/60\n",
            "26/26 [==============================] - 1s 42ms/step - loss: 0.0081 - acc: 1.0000 - val_loss: 0.9190 - val_acc: 0.7875\n",
            "Epoch 59/60\n",
            "26/26 [==============================] - 1s 42ms/step - loss: 0.0053 - acc: 1.0000 - val_loss: 0.9413 - val_acc: 0.7904\n",
            "Epoch 60/60\n",
            "26/26 [==============================] - 1s 42ms/step - loss: 0.0043 - acc: 1.0000 - val_loss: 0.9668 - val_acc: 0.7847\n"
          ]
        },
        {
          "output_type": "execute_result",
          "data": {
            "text/plain": [
              "<keras.callbacks.History at 0x7f27c8136310>"
            ]
          },
          "metadata": {},
          "execution_count": 160
        }
      ]
    },
    {
      "cell_type": "code",
      "source": [
        "y_pred = (model.predict(X_test) >= 0.5).astype(\"int\")"
      ],
      "metadata": {
        "id": "Ku-q5a5FQKgv",
        "outputId": "acbc9b5a-9158-494d-ebc8-218a2fe98d42",
        "colab": {
          "base_uri": "https://localhost:8080/"
        }
      },
      "execution_count": 161,
      "outputs": [
        {
          "output_type": "stream",
          "name": "stdout",
          "text": [
            "13/13 [==============================] - 0s 15ms/step\n"
          ]
        }
      ]
    },
    {
      "cell_type": "code",
      "source": [
        "print(classification_report(y_test, y_pred))"
      ],
      "metadata": {
        "id": "uy-ve1NVQM6Y",
        "outputId": "2ab45ff2-7e8e-4f98-c2e0-59670760ab28",
        "colab": {
          "base_uri": "https://localhost:8080/"
        }
      },
      "execution_count": 162,
      "outputs": [
        {
          "output_type": "stream",
          "name": "stdout",
          "text": [
            "              precision    recall  f1-score   support\n",
            "\n",
            "           0       0.73      0.79      0.76       175\n",
            "           1       0.82      0.76      0.79       217\n",
            "\n",
            "    accuracy                           0.77       392\n",
            "   macro avg       0.77      0.77      0.77       392\n",
            "weighted avg       0.78      0.77      0.77       392\n",
            "\n"
          ]
        }
      ]
    }
  ],
  "metadata": {
    "accelerator": "GPU",
    "colab": {
      "provenance": [],
      "include_colab_link": true
    },
    "gpuClass": "standard",
    "kernelspec": {
      "display_name": "Python 3.9.1 64-bit",
      "language": "python",
      "name": "python3"
    },
    "language_info": {
      "codemirror_mode": {
        "name": "ipython",
        "version": 3
      },
      "file_extension": ".py",
      "mimetype": "text/x-python",
      "name": "python",
      "nbconvert_exporter": "python",
      "pygments_lexer": "ipython3",
      "version": "3.9.1"
    },
    "vscode": {
      "interpreter": {
        "hash": "ad459153494ef8bf9bfb381956f48d86a83e0450934ceb6b8440ac5a2424102d"
      }
    }
  },
  "nbformat": 4,
  "nbformat_minor": 0
}