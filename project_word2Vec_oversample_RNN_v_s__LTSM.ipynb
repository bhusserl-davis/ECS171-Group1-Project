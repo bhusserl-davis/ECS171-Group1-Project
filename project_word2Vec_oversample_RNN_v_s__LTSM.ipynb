{
  "cells": [
    {
      "cell_type": "markdown",
      "metadata": {
        "id": "view-in-github",
        "colab_type": "text"
      },
      "source": [
        "<a href=\"https://colab.research.google.com/github/bhusserl-davis/ECS171-Group1-Project/blob/main/project_word2Vec_oversample_RNN_v_s__LTSM.ipynb\" target=\"_parent\"><img src=\"https://colab.research.google.com/assets/colab-badge.svg\" alt=\"Open In Colab\"/></a>"
      ]
    },
    {
      "cell_type": "markdown",
      "metadata": {
        "id": "gntRQBTvsH61"
      },
      "source": [
        "## Imports"
      ]
    },
    {
      "cell_type": "code",
      "execution_count": 1,
      "metadata": {
        "colab": {
          "base_uri": "https://localhost:8080/"
        },
        "id": "mkDI0UoFsH6_",
        "outputId": "5392d449-1b22-44cc-d1dc-a49ae318c79b"
      },
      "outputs": [
        {
          "output_type": "stream",
          "name": "stdout",
          "text": [
            "  Building wheel for sklearn (setup.py) ... \u001b[?25l\u001b[?25hdone\n",
            "\u001b[K     |████████████████████████████████| 371 kB 15.9 MB/s \n",
            "\u001b[K     |████████████████████████████████| 24.2 MB 1.4 MB/s \n",
            "\u001b[?25h"
          ]
        }
      ],
      "source": [
        "# Download Needed Packages\n",
        "import sys\n",
        "!{sys.executable} -m pip install -q pandas\n",
        "!{sys.executable} -m pip install -q nltk\n",
        "!{sys.executable} -m pip install -q sklearn\n",
        "!{sys.executable} -m pip install -q wordcloud==1.8.1\n",
        "!{sys.executable} -m pip install -q gensim==3.8.3\n",
        "!{sys.executable} -m pip install -q keras\n",
        "!{sys.executable} -m pip install -q numpy\n",
        "!{sys.executable} -m pip install -q matplotlib"
      ]
    },
    {
      "cell_type": "code",
      "execution_count": 2,
      "metadata": {
        "id": "XUBwYzkusH7D"
      },
      "outputs": [],
      "source": [
        "# Import needed libraries and download needed data\n",
        "import string\n",
        "import pandas as pd\n",
        "import nltk\n",
        "nltk.download('stopwords', quiet=True)\n",
        "from nltk.corpus import stopwords\n",
        "nltk.download('punkt', quiet=True)\n",
        "from nltk.tokenize import word_tokenize\n",
        "from sklearn.metrics import classification_report\n",
        "from sklearn.model_selection import train_test_split\n",
        "from wordcloud import WordCloud"
      ]
    },
    {
      "cell_type": "markdown",
      "metadata": {
        "id": "duXaTruMsH7F"
      },
      "source": [
        "## Data Exploration"
      ]
    },
    {
      "cell_type": "code",
      "execution_count": 4,
      "metadata": {
        "colab": {
          "base_uri": "https://localhost:8080/",
          "height": 0
        },
        "id": "8RVGvjx5sH7G",
        "outputId": "55e46903-9681-440b-d61d-579bde10965c"
      },
      "outputs": [
        {
          "output_type": "stream",
          "name": "stdout",
          "text": [
            "17880 observations, 18 features\n"
          ]
        },
        {
          "output_type": "display_data",
          "data": {
            "text/plain": [
              "   job_id                                      title            location  \\\n",
              "0       1                           Marketing Intern    US, NY, New York   \n",
              "1       2  Customer Service - Cloud Video Production      NZ, , Auckland   \n",
              "2       3    Commissioning Machinery Assistant (CMA)       US, IA, Wever   \n",
              "3       4          Account Executive - Washington DC  US, DC, Washington   \n",
              "4       5                        Bill Review Manager  US, FL, Fort Worth   \n",
              "\n",
              "  department salary_range                                    company_profile  \\\n",
              "0  Marketing          NaN  We're Food52, and we've created a groundbreaki...   \n",
              "1    Success          NaN  90 Seconds, the worlds Cloud Video Production ...   \n",
              "2        NaN          NaN  Valor Services provides Workforce Solutions th...   \n",
              "3      Sales          NaN  Our passion for improving quality of life thro...   \n",
              "4        NaN          NaN  SpotSource Solutions LLC is a Global Human Cap...   \n",
              "\n",
              "                                         description  \\\n",
              "0  Food52, a fast-growing, James Beard Award-winn...   \n",
              "1  Organised - Focused - Vibrant - Awesome!Do you...   \n",
              "2  Our client, located in Houston, is actively se...   \n",
              "3  THE COMPANY: ESRI – Environmental Systems Rese...   \n",
              "4  JOB TITLE: Itemization Review ManagerLOCATION:...   \n",
              "\n",
              "                                        requirements  \\\n",
              "0  Experience with content management systems a m...   \n",
              "1  What we expect from you:Your key responsibilit...   \n",
              "2  Implement pre-commissioning and commissioning ...   \n",
              "3  EDUCATION: Bachelor’s or Master’s in GIS, busi...   \n",
              "4  QUALIFICATIONS:RN license in the State of Texa...   \n",
              "\n",
              "                                            benefits  telecommuting  \\\n",
              "0                                                NaN              0   \n",
              "1  What you will get from usThrough being part of...              0   \n",
              "2                                                NaN              0   \n",
              "3  Our culture is anything but corporate—we have ...              0   \n",
              "4                              Full Benefits Offered              0   \n",
              "\n",
              "   has_company_logo  has_questions employment_type required_experience  \\\n",
              "0                 1              0           Other          Internship   \n",
              "1                 1              0       Full-time      Not Applicable   \n",
              "2                 1              0             NaN                 NaN   \n",
              "3                 1              0       Full-time    Mid-Senior level   \n",
              "4                 1              1       Full-time    Mid-Senior level   \n",
              "\n",
              "  required_education                   industry              function  \\\n",
              "0                NaN                        NaN             Marketing   \n",
              "1                NaN  Marketing and Advertising      Customer Service   \n",
              "2                NaN                        NaN                   NaN   \n",
              "3  Bachelor's Degree          Computer Software                 Sales   \n",
              "4  Bachelor's Degree     Hospital & Health Care  Health Care Provider   \n",
              "\n",
              "   fraudulent  \n",
              "0           0  \n",
              "1           0  \n",
              "2           0  \n",
              "3           0  \n",
              "4           0  "
            ],
            "text/html": [
              "\n",
              "  <div id=\"df-fa366c52-8615-4159-9fe4-52f824ec8207\">\n",
              "    <div class=\"colab-df-container\">\n",
              "      <div>\n",
              "<style scoped>\n",
              "    .dataframe tbody tr th:only-of-type {\n",
              "        vertical-align: middle;\n",
              "    }\n",
              "\n",
              "    .dataframe tbody tr th {\n",
              "        vertical-align: top;\n",
              "    }\n",
              "\n",
              "    .dataframe thead th {\n",
              "        text-align: right;\n",
              "    }\n",
              "</style>\n",
              "<table border=\"1\" class=\"dataframe\">\n",
              "  <thead>\n",
              "    <tr style=\"text-align: right;\">\n",
              "      <th></th>\n",
              "      <th>job_id</th>\n",
              "      <th>title</th>\n",
              "      <th>location</th>\n",
              "      <th>department</th>\n",
              "      <th>salary_range</th>\n",
              "      <th>company_profile</th>\n",
              "      <th>description</th>\n",
              "      <th>requirements</th>\n",
              "      <th>benefits</th>\n",
              "      <th>telecommuting</th>\n",
              "      <th>has_company_logo</th>\n",
              "      <th>has_questions</th>\n",
              "      <th>employment_type</th>\n",
              "      <th>required_experience</th>\n",
              "      <th>required_education</th>\n",
              "      <th>industry</th>\n",
              "      <th>function</th>\n",
              "      <th>fraudulent</th>\n",
              "    </tr>\n",
              "  </thead>\n",
              "  <tbody>\n",
              "    <tr>\n",
              "      <th>0</th>\n",
              "      <td>1</td>\n",
              "      <td>Marketing Intern</td>\n",
              "      <td>US, NY, New York</td>\n",
              "      <td>Marketing</td>\n",
              "      <td>NaN</td>\n",
              "      <td>We're Food52, and we've created a groundbreaki...</td>\n",
              "      <td>Food52, a fast-growing, James Beard Award-winn...</td>\n",
              "      <td>Experience with content management systems a m...</td>\n",
              "      <td>NaN</td>\n",
              "      <td>0</td>\n",
              "      <td>1</td>\n",
              "      <td>0</td>\n",
              "      <td>Other</td>\n",
              "      <td>Internship</td>\n",
              "      <td>NaN</td>\n",
              "      <td>NaN</td>\n",
              "      <td>Marketing</td>\n",
              "      <td>0</td>\n",
              "    </tr>\n",
              "    <tr>\n",
              "      <th>1</th>\n",
              "      <td>2</td>\n",
              "      <td>Customer Service - Cloud Video Production</td>\n",
              "      <td>NZ, , Auckland</td>\n",
              "      <td>Success</td>\n",
              "      <td>NaN</td>\n",
              "      <td>90 Seconds, the worlds Cloud Video Production ...</td>\n",
              "      <td>Organised - Focused - Vibrant - Awesome!Do you...</td>\n",
              "      <td>What we expect from you:Your key responsibilit...</td>\n",
              "      <td>What you will get from usThrough being part of...</td>\n",
              "      <td>0</td>\n",
              "      <td>1</td>\n",
              "      <td>0</td>\n",
              "      <td>Full-time</td>\n",
              "      <td>Not Applicable</td>\n",
              "      <td>NaN</td>\n",
              "      <td>Marketing and Advertising</td>\n",
              "      <td>Customer Service</td>\n",
              "      <td>0</td>\n",
              "    </tr>\n",
              "    <tr>\n",
              "      <th>2</th>\n",
              "      <td>3</td>\n",
              "      <td>Commissioning Machinery Assistant (CMA)</td>\n",
              "      <td>US, IA, Wever</td>\n",
              "      <td>NaN</td>\n",
              "      <td>NaN</td>\n",
              "      <td>Valor Services provides Workforce Solutions th...</td>\n",
              "      <td>Our client, located in Houston, is actively se...</td>\n",
              "      <td>Implement pre-commissioning and commissioning ...</td>\n",
              "      <td>NaN</td>\n",
              "      <td>0</td>\n",
              "      <td>1</td>\n",
              "      <td>0</td>\n",
              "      <td>NaN</td>\n",
              "      <td>NaN</td>\n",
              "      <td>NaN</td>\n",
              "      <td>NaN</td>\n",
              "      <td>NaN</td>\n",
              "      <td>0</td>\n",
              "    </tr>\n",
              "    <tr>\n",
              "      <th>3</th>\n",
              "      <td>4</td>\n",
              "      <td>Account Executive - Washington DC</td>\n",
              "      <td>US, DC, Washington</td>\n",
              "      <td>Sales</td>\n",
              "      <td>NaN</td>\n",
              "      <td>Our passion for improving quality of life thro...</td>\n",
              "      <td>THE COMPANY: ESRI – Environmental Systems Rese...</td>\n",
              "      <td>EDUCATION: Bachelor’s or Master’s in GIS, busi...</td>\n",
              "      <td>Our culture is anything but corporate—we have ...</td>\n",
              "      <td>0</td>\n",
              "      <td>1</td>\n",
              "      <td>0</td>\n",
              "      <td>Full-time</td>\n",
              "      <td>Mid-Senior level</td>\n",
              "      <td>Bachelor's Degree</td>\n",
              "      <td>Computer Software</td>\n",
              "      <td>Sales</td>\n",
              "      <td>0</td>\n",
              "    </tr>\n",
              "    <tr>\n",
              "      <th>4</th>\n",
              "      <td>5</td>\n",
              "      <td>Bill Review Manager</td>\n",
              "      <td>US, FL, Fort Worth</td>\n",
              "      <td>NaN</td>\n",
              "      <td>NaN</td>\n",
              "      <td>SpotSource Solutions LLC is a Global Human Cap...</td>\n",
              "      <td>JOB TITLE: Itemization Review ManagerLOCATION:...</td>\n",
              "      <td>QUALIFICATIONS:RN license in the State of Texa...</td>\n",
              "      <td>Full Benefits Offered</td>\n",
              "      <td>0</td>\n",
              "      <td>1</td>\n",
              "      <td>1</td>\n",
              "      <td>Full-time</td>\n",
              "      <td>Mid-Senior level</td>\n",
              "      <td>Bachelor's Degree</td>\n",
              "      <td>Hospital &amp; Health Care</td>\n",
              "      <td>Health Care Provider</td>\n",
              "      <td>0</td>\n",
              "    </tr>\n",
              "  </tbody>\n",
              "</table>\n",
              "</div>\n",
              "      <button class=\"colab-df-convert\" onclick=\"convertToInteractive('df-fa366c52-8615-4159-9fe4-52f824ec8207')\"\n",
              "              title=\"Convert this dataframe to an interactive table.\"\n",
              "              style=\"display:none;\">\n",
              "        \n",
              "  <svg xmlns=\"http://www.w3.org/2000/svg\" height=\"24px\"viewBox=\"0 0 24 24\"\n",
              "       width=\"24px\">\n",
              "    <path d=\"M0 0h24v24H0V0z\" fill=\"none\"/>\n",
              "    <path d=\"M18.56 5.44l.94 2.06.94-2.06 2.06-.94-2.06-.94-.94-2.06-.94 2.06-2.06.94zm-11 1L8.5 8.5l.94-2.06 2.06-.94-2.06-.94L8.5 2.5l-.94 2.06-2.06.94zm10 10l.94 2.06.94-2.06 2.06-.94-2.06-.94-.94-2.06-.94 2.06-2.06.94z\"/><path d=\"M17.41 7.96l-1.37-1.37c-.4-.4-.92-.59-1.43-.59-.52 0-1.04.2-1.43.59L10.3 9.45l-7.72 7.72c-.78.78-.78 2.05 0 2.83L4 21.41c.39.39.9.59 1.41.59.51 0 1.02-.2 1.41-.59l7.78-7.78 2.81-2.81c.8-.78.8-2.07 0-2.86zM5.41 20L4 18.59l7.72-7.72 1.47 1.35L5.41 20z\"/>\n",
              "  </svg>\n",
              "      </button>\n",
              "      \n",
              "  <style>\n",
              "    .colab-df-container {\n",
              "      display:flex;\n",
              "      flex-wrap:wrap;\n",
              "      gap: 12px;\n",
              "    }\n",
              "\n",
              "    .colab-df-convert {\n",
              "      background-color: #E8F0FE;\n",
              "      border: none;\n",
              "      border-radius: 50%;\n",
              "      cursor: pointer;\n",
              "      display: none;\n",
              "      fill: #1967D2;\n",
              "      height: 32px;\n",
              "      padding: 0 0 0 0;\n",
              "      width: 32px;\n",
              "    }\n",
              "\n",
              "    .colab-df-convert:hover {\n",
              "      background-color: #E2EBFA;\n",
              "      box-shadow: 0px 1px 2px rgba(60, 64, 67, 0.3), 0px 1px 3px 1px rgba(60, 64, 67, 0.15);\n",
              "      fill: #174EA6;\n",
              "    }\n",
              "\n",
              "    [theme=dark] .colab-df-convert {\n",
              "      background-color: #3B4455;\n",
              "      fill: #D2E3FC;\n",
              "    }\n",
              "\n",
              "    [theme=dark] .colab-df-convert:hover {\n",
              "      background-color: #434B5C;\n",
              "      box-shadow: 0px 1px 3px 1px rgba(0, 0, 0, 0.15);\n",
              "      filter: drop-shadow(0px 1px 2px rgba(0, 0, 0, 0.3));\n",
              "      fill: #FFFFFF;\n",
              "    }\n",
              "  </style>\n",
              "\n",
              "      <script>\n",
              "        const buttonEl =\n",
              "          document.querySelector('#df-fa366c52-8615-4159-9fe4-52f824ec8207 button.colab-df-convert');\n",
              "        buttonEl.style.display =\n",
              "          google.colab.kernel.accessAllowed ? 'block' : 'none';\n",
              "\n",
              "        async function convertToInteractive(key) {\n",
              "          const element = document.querySelector('#df-fa366c52-8615-4159-9fe4-52f824ec8207');\n",
              "          const dataTable =\n",
              "            await google.colab.kernel.invokeFunction('convertToInteractive',\n",
              "                                                     [key], {});\n",
              "          if (!dataTable) return;\n",
              "\n",
              "          const docLinkHtml = 'Like what you see? Visit the ' +\n",
              "            '<a target=\"_blank\" href=https://colab.research.google.com/notebooks/data_table.ipynb>data table notebook</a>'\n",
              "            + ' to learn more about interactive tables.';\n",
              "          element.innerHTML = '';\n",
              "          dataTable['output_type'] = 'display_data';\n",
              "          await google.colab.output.renderOutput(dataTable, element);\n",
              "          const docLink = document.createElement('div');\n",
              "          docLink.innerHTML = docLinkHtml;\n",
              "          element.appendChild(docLink);\n",
              "        }\n",
              "      </script>\n",
              "    </div>\n",
              "  </div>\n",
              "  "
            ]
          },
          "metadata": {}
        }
      ],
      "source": [
        "# Import Data\n",
        "df = pd.read_csv(\"./fake_job_postings.csv\")\n",
        "print(f'{df.shape[0]} observations, {df.shape[1]} features')\n",
        "display(df.head(5))"
      ]
    },
    {
      "cell_type": "code",
      "execution_count": 5,
      "metadata": {
        "colab": {
          "base_uri": "https://localhost:8080/"
        },
        "id": "YyMeutk0grON",
        "outputId": "7629b9a8-e908-4769-f6d9-f67d6e7d4c96"
      },
      "outputs": [
        {
          "output_type": "stream",
          "name": "stdout",
          "text": [
            "Column\t\t    NaNs   Type\n",
            "job_id              0      int64\n",
            "title               0      object\n",
            "location            346    object\n",
            "department          11547  object\n",
            "salary_range        15012  object\n",
            "company_profile     3308   object\n",
            "description         1      object\n",
            "requirements        2695   object\n",
            "benefits            7210   object\n",
            "telecommuting       0      int64\n",
            "has_company_logo    0      int64\n",
            "has_questions       0      int64\n",
            "employment_type     3471   object\n",
            "required_experience 7050   object\n",
            "required_education  8105   object\n",
            "industry            4903   object\n",
            "function            6455   object\n",
            "fraudulent          0      int64\n"
          ]
        }
      ],
      "source": [
        "# Print count of NaNs and type of each column\n",
        "print(\"Column\\t\\t    NaNs   Type\")\n",
        "for column in df.columns:\n",
        "    print(f'{column.ljust(20)}{str(df[column].isna().sum()).ljust(7)}{df[column].dtype}')"
      ]
    },
    {
      "cell_type": "code",
      "execution_count": 6,
      "metadata": {
        "colab": {
          "base_uri": "https://localhost:8080/"
        },
        "id": "VOXcRkmhgwrZ",
        "outputId": "fa323394-8a50-4832-ba57-9563c8321136"
      },
      "outputs": [
        {
          "output_type": "stream",
          "name": "stdout",
          "text": [
            "Column\t\t       NaNs\n",
            "job_id                 0\n",
            "title                  0\n",
            "location               0\n",
            "department             0\n",
            "salary_range           0\n",
            "company_profile        0\n",
            "description            0\n",
            "requirements           0\n",
            "benefits               0\n",
            "telecommuting          0\n",
            "has_company_logo       0\n",
            "has_questions          0\n",
            "employment_type        0\n",
            "required_experience    0\n",
            "required_education     0\n",
            "industry               0\n",
            "function               0\n",
            "fraudulent             0\n",
            "dtype: int64\n"
          ]
        }
      ],
      "source": [
        "#Replacing NAN Values\n",
        "new_df = df.copy()\n",
        "NAN_Cols=[\n",
        "    \"location\",\"department\",\"salary_range\",\n",
        "    \"company_profile\",\"description\",\"requirements\",\n",
        "    \"benefits\",\"employment_type\",\"required_experience\",\n",
        "    \"required_experience\",\"required_education\",\"industry\",\"function\"\n",
        "]\n",
        "print(\"Column\\t\\t       NaNs\")\n",
        "for i in NAN_Cols:\n",
        "    new_df[i].fillna(\"\",inplace=True)\n",
        "print(new_df.isnull().sum())"
      ]
    },
    {
      "cell_type": "code",
      "execution_count": 7,
      "metadata": {
        "colab": {
          "base_uri": "https://localhost:8080/"
        },
        "id": "87mjUtgkg6ek",
        "outputId": "9140f001-56f6-4a52-a9e6-c1eedb428287"
      },
      "outputs": [
        {
          "output_type": "stream",
          "name": "stdout",
          "text": [
            "job_id: [    1     2     3 ... 17878 17879 17880]\n",
            "telecommuting: [0 1]\n",
            "has_company_logo: [1 0]\n",
            "has_questions: [0 1]\n",
            "fraudulent: [0 1]\n"
          ]
        }
      ],
      "source": [
        "# Get numeric columns unique values\n",
        "numeric_atts = ['job_id', 'telecommuting', 'has_company_logo', 'has_questions', 'fraudulent']\n",
        "for column in numeric_atts:\n",
        "    print(f'{column}: {new_df[column].unique()}')"
      ]
    },
    {
      "cell_type": "code",
      "execution_count": 8,
      "metadata": {
        "colab": {
          "base_uri": "https://localhost:8080/",
          "height": 0
        },
        "id": "7s618PyahBU2",
        "outputId": "8bf1f750-46d8-4543-e0b1-df640e33ad30"
      },
      "outputs": [
        {
          "output_type": "execute_result",
          "data": {
            "text/plain": [
              "   job_id                                      title            location  \\\n",
              "0       1                           Marketing Intern    US, NY, New York   \n",
              "1       2  Customer Service - Cloud Video Production      NZ, , Auckland   \n",
              "2       3    Commissioning Machinery Assistant (CMA)       US, IA, Wever   \n",
              "3       4          Account Executive - Washington DC  US, DC, Washington   \n",
              "4       5                        Bill Review Manager  US, FL, Fort Worth   \n",
              "\n",
              "  department salary_range                                    company_profile  \\\n",
              "0  Marketing               We're Food52, and we've created a groundbreaki...   \n",
              "1    Success               90 Seconds, the worlds Cloud Video Production ...   \n",
              "2                          Valor Services provides Workforce Solutions th...   \n",
              "3      Sales               Our passion for improving quality of life thro...   \n",
              "4                          SpotSource Solutions LLC is a Global Human Cap...   \n",
              "\n",
              "                                         description  \\\n",
              "0  Food52, a fast-growing, James Beard Award-winn...   \n",
              "1  Organised - Focused - Vibrant - Awesome!Do you...   \n",
              "2  Our client, located in Houston, is actively se...   \n",
              "3  THE COMPANY: ESRI – Environmental Systems Rese...   \n",
              "4  JOB TITLE: Itemization Review ManagerLOCATION:...   \n",
              "\n",
              "                                        requirements  \\\n",
              "0  Experience with content management systems a m...   \n",
              "1  What we expect from you:Your key responsibilit...   \n",
              "2  Implement pre-commissioning and commissioning ...   \n",
              "3  EDUCATION: Bachelor’s or Master’s in GIS, busi...   \n",
              "4  QUALIFICATIONS:RN license in the State of Texa...   \n",
              "\n",
              "                                            benefits  telecommuting  \\\n",
              "0                                                                 0   \n",
              "1  What you will get from usThrough being part of...              0   \n",
              "2                                                                 0   \n",
              "3  Our culture is anything but corporate—we have ...              0   \n",
              "4                              Full Benefits Offered              0   \n",
              "\n",
              "   has_company_logo  has_questions employment_type required_experience  \\\n",
              "0                 1              0           Other          Internship   \n",
              "1                 1              0       Full-time      Not Applicable   \n",
              "2                 1              0                                       \n",
              "3                 1              0       Full-time    Mid-Senior level   \n",
              "4                 1              1       Full-time    Mid-Senior level   \n",
              "\n",
              "  required_education                   industry              function  \\\n",
              "0                                                           Marketing   \n",
              "1                     Marketing and Advertising      Customer Service   \n",
              "2                                                                       \n",
              "3  Bachelor's Degree          Computer Software                 Sales   \n",
              "4  Bachelor's Degree     Hospital & Health Care  Health Care Provider   \n",
              "\n",
              "   fraudulent  \n",
              "0           0  \n",
              "1           0  \n",
              "2           0  \n",
              "3           0  \n",
              "4           0  "
            ],
            "text/html": [
              "\n",
              "  <div id=\"df-4e678b6c-13a9-4f1b-8016-95f4d92ec9d4\">\n",
              "    <div class=\"colab-df-container\">\n",
              "      <div>\n",
              "<style scoped>\n",
              "    .dataframe tbody tr th:only-of-type {\n",
              "        vertical-align: middle;\n",
              "    }\n",
              "\n",
              "    .dataframe tbody tr th {\n",
              "        vertical-align: top;\n",
              "    }\n",
              "\n",
              "    .dataframe thead th {\n",
              "        text-align: right;\n",
              "    }\n",
              "</style>\n",
              "<table border=\"1\" class=\"dataframe\">\n",
              "  <thead>\n",
              "    <tr style=\"text-align: right;\">\n",
              "      <th></th>\n",
              "      <th>job_id</th>\n",
              "      <th>title</th>\n",
              "      <th>location</th>\n",
              "      <th>department</th>\n",
              "      <th>salary_range</th>\n",
              "      <th>company_profile</th>\n",
              "      <th>description</th>\n",
              "      <th>requirements</th>\n",
              "      <th>benefits</th>\n",
              "      <th>telecommuting</th>\n",
              "      <th>has_company_logo</th>\n",
              "      <th>has_questions</th>\n",
              "      <th>employment_type</th>\n",
              "      <th>required_experience</th>\n",
              "      <th>required_education</th>\n",
              "      <th>industry</th>\n",
              "      <th>function</th>\n",
              "      <th>fraudulent</th>\n",
              "    </tr>\n",
              "  </thead>\n",
              "  <tbody>\n",
              "    <tr>\n",
              "      <th>0</th>\n",
              "      <td>1</td>\n",
              "      <td>Marketing Intern</td>\n",
              "      <td>US, NY, New York</td>\n",
              "      <td>Marketing</td>\n",
              "      <td></td>\n",
              "      <td>We're Food52, and we've created a groundbreaki...</td>\n",
              "      <td>Food52, a fast-growing, James Beard Award-winn...</td>\n",
              "      <td>Experience with content management systems a m...</td>\n",
              "      <td></td>\n",
              "      <td>0</td>\n",
              "      <td>1</td>\n",
              "      <td>0</td>\n",
              "      <td>Other</td>\n",
              "      <td>Internship</td>\n",
              "      <td></td>\n",
              "      <td></td>\n",
              "      <td>Marketing</td>\n",
              "      <td>0</td>\n",
              "    </tr>\n",
              "    <tr>\n",
              "      <th>1</th>\n",
              "      <td>2</td>\n",
              "      <td>Customer Service - Cloud Video Production</td>\n",
              "      <td>NZ, , Auckland</td>\n",
              "      <td>Success</td>\n",
              "      <td></td>\n",
              "      <td>90 Seconds, the worlds Cloud Video Production ...</td>\n",
              "      <td>Organised - Focused - Vibrant - Awesome!Do you...</td>\n",
              "      <td>What we expect from you:Your key responsibilit...</td>\n",
              "      <td>What you will get from usThrough being part of...</td>\n",
              "      <td>0</td>\n",
              "      <td>1</td>\n",
              "      <td>0</td>\n",
              "      <td>Full-time</td>\n",
              "      <td>Not Applicable</td>\n",
              "      <td></td>\n",
              "      <td>Marketing and Advertising</td>\n",
              "      <td>Customer Service</td>\n",
              "      <td>0</td>\n",
              "    </tr>\n",
              "    <tr>\n",
              "      <th>2</th>\n",
              "      <td>3</td>\n",
              "      <td>Commissioning Machinery Assistant (CMA)</td>\n",
              "      <td>US, IA, Wever</td>\n",
              "      <td></td>\n",
              "      <td></td>\n",
              "      <td>Valor Services provides Workforce Solutions th...</td>\n",
              "      <td>Our client, located in Houston, is actively se...</td>\n",
              "      <td>Implement pre-commissioning and commissioning ...</td>\n",
              "      <td></td>\n",
              "      <td>0</td>\n",
              "      <td>1</td>\n",
              "      <td>0</td>\n",
              "      <td></td>\n",
              "      <td></td>\n",
              "      <td></td>\n",
              "      <td></td>\n",
              "      <td></td>\n",
              "      <td>0</td>\n",
              "    </tr>\n",
              "    <tr>\n",
              "      <th>3</th>\n",
              "      <td>4</td>\n",
              "      <td>Account Executive - Washington DC</td>\n",
              "      <td>US, DC, Washington</td>\n",
              "      <td>Sales</td>\n",
              "      <td></td>\n",
              "      <td>Our passion for improving quality of life thro...</td>\n",
              "      <td>THE COMPANY: ESRI – Environmental Systems Rese...</td>\n",
              "      <td>EDUCATION: Bachelor’s or Master’s in GIS, busi...</td>\n",
              "      <td>Our culture is anything but corporate—we have ...</td>\n",
              "      <td>0</td>\n",
              "      <td>1</td>\n",
              "      <td>0</td>\n",
              "      <td>Full-time</td>\n",
              "      <td>Mid-Senior level</td>\n",
              "      <td>Bachelor's Degree</td>\n",
              "      <td>Computer Software</td>\n",
              "      <td>Sales</td>\n",
              "      <td>0</td>\n",
              "    </tr>\n",
              "    <tr>\n",
              "      <th>4</th>\n",
              "      <td>5</td>\n",
              "      <td>Bill Review Manager</td>\n",
              "      <td>US, FL, Fort Worth</td>\n",
              "      <td></td>\n",
              "      <td></td>\n",
              "      <td>SpotSource Solutions LLC is a Global Human Cap...</td>\n",
              "      <td>JOB TITLE: Itemization Review ManagerLOCATION:...</td>\n",
              "      <td>QUALIFICATIONS:RN license in the State of Texa...</td>\n",
              "      <td>Full Benefits Offered</td>\n",
              "      <td>0</td>\n",
              "      <td>1</td>\n",
              "      <td>1</td>\n",
              "      <td>Full-time</td>\n",
              "      <td>Mid-Senior level</td>\n",
              "      <td>Bachelor's Degree</td>\n",
              "      <td>Hospital &amp; Health Care</td>\n",
              "      <td>Health Care Provider</td>\n",
              "      <td>0</td>\n",
              "    </tr>\n",
              "  </tbody>\n",
              "</table>\n",
              "</div>\n",
              "      <button class=\"colab-df-convert\" onclick=\"convertToInteractive('df-4e678b6c-13a9-4f1b-8016-95f4d92ec9d4')\"\n",
              "              title=\"Convert this dataframe to an interactive table.\"\n",
              "              style=\"display:none;\">\n",
              "        \n",
              "  <svg xmlns=\"http://www.w3.org/2000/svg\" height=\"24px\"viewBox=\"0 0 24 24\"\n",
              "       width=\"24px\">\n",
              "    <path d=\"M0 0h24v24H0V0z\" fill=\"none\"/>\n",
              "    <path d=\"M18.56 5.44l.94 2.06.94-2.06 2.06-.94-2.06-.94-.94-2.06-.94 2.06-2.06.94zm-11 1L8.5 8.5l.94-2.06 2.06-.94-2.06-.94L8.5 2.5l-.94 2.06-2.06.94zm10 10l.94 2.06.94-2.06 2.06-.94-2.06-.94-.94-2.06-.94 2.06-2.06.94z\"/><path d=\"M17.41 7.96l-1.37-1.37c-.4-.4-.92-.59-1.43-.59-.52 0-1.04.2-1.43.59L10.3 9.45l-7.72 7.72c-.78.78-.78 2.05 0 2.83L4 21.41c.39.39.9.59 1.41.59.51 0 1.02-.2 1.41-.59l7.78-7.78 2.81-2.81c.8-.78.8-2.07 0-2.86zM5.41 20L4 18.59l7.72-7.72 1.47 1.35L5.41 20z\"/>\n",
              "  </svg>\n",
              "      </button>\n",
              "      \n",
              "  <style>\n",
              "    .colab-df-container {\n",
              "      display:flex;\n",
              "      flex-wrap:wrap;\n",
              "      gap: 12px;\n",
              "    }\n",
              "\n",
              "    .colab-df-convert {\n",
              "      background-color: #E8F0FE;\n",
              "      border: none;\n",
              "      border-radius: 50%;\n",
              "      cursor: pointer;\n",
              "      display: none;\n",
              "      fill: #1967D2;\n",
              "      height: 32px;\n",
              "      padding: 0 0 0 0;\n",
              "      width: 32px;\n",
              "    }\n",
              "\n",
              "    .colab-df-convert:hover {\n",
              "      background-color: #E2EBFA;\n",
              "      box-shadow: 0px 1px 2px rgba(60, 64, 67, 0.3), 0px 1px 3px 1px rgba(60, 64, 67, 0.15);\n",
              "      fill: #174EA6;\n",
              "    }\n",
              "\n",
              "    [theme=dark] .colab-df-convert {\n",
              "      background-color: #3B4455;\n",
              "      fill: #D2E3FC;\n",
              "    }\n",
              "\n",
              "    [theme=dark] .colab-df-convert:hover {\n",
              "      background-color: #434B5C;\n",
              "      box-shadow: 0px 1px 3px 1px rgba(0, 0, 0, 0.15);\n",
              "      filter: drop-shadow(0px 1px 2px rgba(0, 0, 0, 0.3));\n",
              "      fill: #FFFFFF;\n",
              "    }\n",
              "  </style>\n",
              "\n",
              "      <script>\n",
              "        const buttonEl =\n",
              "          document.querySelector('#df-4e678b6c-13a9-4f1b-8016-95f4d92ec9d4 button.colab-df-convert');\n",
              "        buttonEl.style.display =\n",
              "          google.colab.kernel.accessAllowed ? 'block' : 'none';\n",
              "\n",
              "        async function convertToInteractive(key) {\n",
              "          const element = document.querySelector('#df-4e678b6c-13a9-4f1b-8016-95f4d92ec9d4');\n",
              "          const dataTable =\n",
              "            await google.colab.kernel.invokeFunction('convertToInteractive',\n",
              "                                                     [key], {});\n",
              "          if (!dataTable) return;\n",
              "\n",
              "          const docLinkHtml = 'Like what you see? Visit the ' +\n",
              "            '<a target=\"_blank\" href=https://colab.research.google.com/notebooks/data_table.ipynb>data table notebook</a>'\n",
              "            + ' to learn more about interactive tables.';\n",
              "          element.innerHTML = '';\n",
              "          dataTable['output_type'] = 'display_data';\n",
              "          await google.colab.output.renderOutput(dataTable, element);\n",
              "          const docLink = document.createElement('div');\n",
              "          docLink.innerHTML = docLinkHtml;\n",
              "          element.appendChild(docLink);\n",
              "        }\n",
              "      </script>\n",
              "    </div>\n",
              "  </div>\n",
              "  "
            ]
          },
          "metadata": {},
          "execution_count": 8
        }
      ],
      "source": [
        "new_df[:5]"
      ]
    },
    {
      "cell_type": "code",
      "execution_count": 9,
      "metadata": {
        "colab": {
          "base_uri": "https://localhost:8080/",
          "height": 0
        },
        "id": "B0bRggcWwnIe",
        "outputId": "ae5e59b6-1782-406f-e83f-0329da943653"
      },
      "outputs": [
        {
          "output_type": "execute_result",
          "data": {
            "text/plain": [
              "<matplotlib.axes._subplots.AxesSubplot at 0x7fd906d2d7c0>"
            ]
          },
          "metadata": {},
          "execution_count": 9
        },
        {
          "output_type": "display_data",
          "data": {
            "text/plain": [
              "<Figure size 432x288 with 1 Axes>"
            ],
            "image/png": "[encoded data removed]"
          },
          "metadata": {
            "needs_background": "light"
          }
        }
      ],
      "source": [
        "new_df['fraudulent'].value_counts().plot.bar()"
      ]
    },
    {
      "cell_type": "markdown",
      "metadata": {
        "id": "15sW_btIsH7Q"
      },
      "source": [
        "## Preprocessing"
      ]
    },
    {
      "cell_type": "markdown",
      "metadata": {
        "id": "mB7PDS_jwyvR"
      },
      "source": [
        "### covert string to word token"
      ]
    },
    {
      "cell_type": "code",
      "execution_count": 10,
      "metadata": {
        "colab": {
          "base_uri": "https://localhost:8080/",
          "height": 617
        },
        "id": "JN48DwVxhqxE",
        "outputId": "6c030166-63fb-48da-b689-8eb3c309c66f"
      },
      "outputs": [
        {
          "output_type": "display_data",
          "data": {
            "text/plain": [
              "   job_id                                      title            location  \\\n",
              "0       1                           marketing intern    us, ny, new york   \n",
              "1       2  customer service - cloud video production      nz, , auckland   \n",
              "2       3    commissioning machinery assistant (cma)       us, ia, wever   \n",
              "3       4          account executive - washington dc  us, dc, washington   \n",
              "4       5                        bill review manager  us, fl, fort worth   \n",
              "\n",
              "  department salary_range                                    company_profile  \\\n",
              "0  marketing               we're food52, and we've created a groundbreaki...   \n",
              "1    success               90 seconds, the worlds cloud video production ...   \n",
              "2                          valor services provides workforce solutions th...   \n",
              "3      sales               our passion for improving quality of life thro...   \n",
              "4                          spotsource solutions llc is a global human cap...   \n",
              "\n",
              "                                         description  \\\n",
              "0  food52, a fast-growing, james beard award-winn...   \n",
              "1  organised - focused - vibrant - awesome!do you...   \n",
              "2  our client, located in houston, is actively se...   \n",
              "3  the company: esri – environmental systems rese...   \n",
              "4  job title: itemization review managerlocation:...   \n",
              "\n",
              "                                        requirements  \\\n",
              "0  experience with content management systems a m...   \n",
              "1  what we expect from you:your key responsibilit...   \n",
              "2  implement pre-commissioning and commissioning ...   \n",
              "3  education: bachelor’s or master’s in gis, busi...   \n",
              "4  qualifications:rn license in the state of texa...   \n",
              "\n",
              "                                            benefits  telecommuting  \\\n",
              "0                                                                 0   \n",
              "1  what you will get from usthrough being part of...              0   \n",
              "2                                                                 0   \n",
              "3  our culture is anything but corporate—we have ...              0   \n",
              "4                              full benefits offered              0   \n",
              "\n",
              "   has_company_logo  has_questions employment_type required_experience  \\\n",
              "0                 1              0           other          internship   \n",
              "1                 1              0       full-time      not applicable   \n",
              "2                 1              0                                       \n",
              "3                 1              0       full-time    mid-senior level   \n",
              "4                 1              1       full-time    mid-senior level   \n",
              "\n",
              "  required_education                   industry              function  \\\n",
              "0                                                           marketing   \n",
              "1                     marketing and advertising      customer service   \n",
              "2                                                                       \n",
              "3  bachelor's degree          computer software                 sales   \n",
              "4  bachelor's degree     hospital & health care  health care provider   \n",
              "\n",
              "   fraudulent  \n",
              "0           0  \n",
              "1           0  \n",
              "2           0  \n",
              "3           0  \n",
              "4           0  "
            ],
            "text/html": [
              "\n",
              "  <div id=\"df-c9edd055-da5b-46a7-84ff-c25e0f7cd5ab\">\n",
              "    <div class=\"colab-df-container\">\n",
              "      <div>\n",
              "<style scoped>\n",
              "    .dataframe tbody tr th:only-of-type {\n",
              "        vertical-align: middle;\n",
              "    }\n",
              "\n",
              "    .dataframe tbody tr th {\n",
              "        vertical-align: top;\n",
              "    }\n",
              "\n",
              "    .dataframe thead th {\n",
              "        text-align: right;\n",
              "    }\n",
              "</style>\n",
              "<table border=\"1\" class=\"dataframe\">\n",
              "  <thead>\n",
              "    <tr style=\"text-align: right;\">\n",
              "      <th></th>\n",
              "      <th>job_id</th>\n",
              "      <th>title</th>\n",
              "      <th>location</th>\n",
              "      <th>department</th>\n",
              "      <th>salary_range</th>\n",
              "      <th>company_profile</th>\n",
              "      <th>description</th>\n",
              "      <th>requirements</th>\n",
              "      <th>benefits</th>\n",
              "      <th>telecommuting</th>\n",
              "      <th>has_company_logo</th>\n",
              "      <th>has_questions</th>\n",
              "      <th>employment_type</th>\n",
              "      <th>required_experience</th>\n",
              "      <th>required_education</th>\n",
              "      <th>industry</th>\n",
              "      <th>function</th>\n",
              "      <th>fraudulent</th>\n",
              "    </tr>\n",
              "  </thead>\n",
              "  <tbody>\n",
              "    <tr>\n",
              "      <th>0</th>\n",
              "      <td>1</td>\n",
              "      <td>marketing intern</td>\n",
              "      <td>us, ny, new york</td>\n",
              "      <td>marketing</td>\n",
              "      <td></td>\n",
              "      <td>we're food52, and we've created a groundbreaki...</td>\n",
              "      <td>food52, a fast-growing, james beard award-winn...</td>\n",
              "      <td>experience with content management systems a m...</td>\n",
              "      <td></td>\n",
              "      <td>0</td>\n",
              "      <td>1</td>\n",
              "      <td>0</td>\n",
              "      <td>other</td>\n",
              "      <td>internship</td>\n",
              "      <td></td>\n",
              "      <td></td>\n",
              "      <td>marketing</td>\n",
              "      <td>0</td>\n",
              "    </tr>\n",
              "    <tr>\n",
              "      <th>1</th>\n",
              "      <td>2</td>\n",
              "      <td>customer service - cloud video production</td>\n",
              "      <td>nz, , auckland</td>\n",
              "      <td>success</td>\n",
              "      <td></td>\n",
              "      <td>90 seconds, the worlds cloud video production ...</td>\n",
              "      <td>organised - focused - vibrant - awesome!do you...</td>\n",
              "      <td>what we expect from you:your key responsibilit...</td>\n",
              "      <td>what you will get from usthrough being part of...</td>\n",
              "      <td>0</td>\n",
              "      <td>1</td>\n",
              "      <td>0</td>\n",
              "      <td>full-time</td>\n",
              "      <td>not applicable</td>\n",
              "      <td></td>\n",
              "      <td>marketing and advertising</td>\n",
              "      <td>customer service</td>\n",
              "      <td>0</td>\n",
              "    </tr>\n",
              "    <tr>\n",
              "      <th>2</th>\n",
              "      <td>3</td>\n",
              "      <td>commissioning machinery assistant (cma)</td>\n",
              "      <td>us, ia, wever</td>\n",
              "      <td></td>\n",
              "      <td></td>\n",
              "      <td>valor services provides workforce solutions th...</td>\n",
              "      <td>our client, located in houston, is actively se...</td>\n",
              "      <td>implement pre-commissioning and commissioning ...</td>\n",
              "      <td></td>\n",
              "      <td>0</td>\n",
              "      <td>1</td>\n",
              "      <td>0</td>\n",
              "      <td></td>\n",
              "      <td></td>\n",
              "      <td></td>\n",
              "      <td></td>\n",
              "      <td></td>\n",
              "      <td>0</td>\n",
              "    </tr>\n",
              "    <tr>\n",
              "      <th>3</th>\n",
              "      <td>4</td>\n",
              "      <td>account executive - washington dc</td>\n",
              "      <td>us, dc, washington</td>\n",
              "      <td>sales</td>\n",
              "      <td></td>\n",
              "      <td>our passion for improving quality of life thro...</td>\n",
              "      <td>the company: esri – environmental systems rese...</td>\n",
              "      <td>education: bachelor’s or master’s in gis, busi...</td>\n",
              "      <td>our culture is anything but corporate—we have ...</td>\n",
              "      <td>0</td>\n",
              "      <td>1</td>\n",
              "      <td>0</td>\n",
              "      <td>full-time</td>\n",
              "      <td>mid-senior level</td>\n",
              "      <td>bachelor's degree</td>\n",
              "      <td>computer software</td>\n",
              "      <td>sales</td>\n",
              "      <td>0</td>\n",
              "    </tr>\n",
              "    <tr>\n",
              "      <th>4</th>\n",
              "      <td>5</td>\n",
              "      <td>bill review manager</td>\n",
              "      <td>us, fl, fort worth</td>\n",
              "      <td></td>\n",
              "      <td></td>\n",
              "      <td>spotsource solutions llc is a global human cap...</td>\n",
              "      <td>job title: itemization review managerlocation:...</td>\n",
              "      <td>qualifications:rn license in the state of texa...</td>\n",
              "      <td>full benefits offered</td>\n",
              "      <td>0</td>\n",
              "      <td>1</td>\n",
              "      <td>1</td>\n",
              "      <td>full-time</td>\n",
              "      <td>mid-senior level</td>\n",
              "      <td>bachelor's degree</td>\n",
              "      <td>hospital &amp; health care</td>\n",
              "      <td>health care provider</td>\n",
              "      <td>0</td>\n",
              "    </tr>\n",
              "  </tbody>\n",
              "</table>\n",
              "</div>\n",
              "      <button class=\"colab-df-convert\" onclick=\"convertToInteractive('df-c9edd055-da5b-46a7-84ff-c25e0f7cd5ab')\"\n",
              "              title=\"Convert this dataframe to an interactive table.\"\n",
              "              style=\"display:none;\">\n",
              "        \n",
              "  <svg xmlns=\"http://www.w3.org/2000/svg\" height=\"24px\"viewBox=\"0 0 24 24\"\n",
              "       width=\"24px\">\n",
              "    <path d=\"M0 0h24v24H0V0z\" fill=\"none\"/>\n",
              "    <path d=\"M18.56 5.44l.94 2.06.94-2.06 2.06-.94-2.06-.94-.94-2.06-.94 2.06-2.06.94zm-11 1L8.5 8.5l.94-2.06 2.06-.94-2.06-.94L8.5 2.5l-.94 2.06-2.06.94zm10 10l.94 2.06.94-2.06 2.06-.94-2.06-.94-.94-2.06-.94 2.06-2.06.94z\"/><path d=\"M17.41 7.96l-1.37-1.37c-.4-.4-.92-.59-1.43-.59-.52 0-1.04.2-1.43.59L10.3 9.45l-7.72 7.72c-.78.78-.78 2.05 0 2.83L4 21.41c.39.39.9.59 1.41.59.51 0 1.02-.2 1.41-.59l7.78-7.78 2.81-2.81c.8-.78.8-2.07 0-2.86zM5.41 20L4 18.59l7.72-7.72 1.47 1.35L5.41 20z\"/>\n",
              "  </svg>\n",
              "      </button>\n",
              "      \n",
              "  <style>\n",
              "    .colab-df-container {\n",
              "      display:flex;\n",
              "      flex-wrap:wrap;\n",
              "      gap: 12px;\n",
              "    }\n",
              "\n",
              "    .colab-df-convert {\n",
              "      background-color: #E8F0FE;\n",
              "      border: none;\n",
              "      border-radius: 50%;\n",
              "      cursor: pointer;\n",
              "      display: none;\n",
              "      fill: #1967D2;\n",
              "      height: 32px;\n",
              "      padding: 0 0 0 0;\n",
              "      width: 32px;\n",
              "    }\n",
              "\n",
              "    .colab-df-convert:hover {\n",
              "      background-color: #E2EBFA;\n",
              "      box-shadow: 0px 1px 2px rgba(60, 64, 67, 0.3), 0px 1px 3px 1px rgba(60, 64, 67, 0.15);\n",
              "      fill: #174EA6;\n",
              "    }\n",
              "\n",
              "    [theme=dark] .colab-df-convert {\n",
              "      background-color: #3B4455;\n",
              "      fill: #D2E3FC;\n",
              "    }\n",
              "\n",
              "    [theme=dark] .colab-df-convert:hover {\n",
              "      background-color: #434B5C;\n",
              "      box-shadow: 0px 1px 3px 1px rgba(0, 0, 0, 0.15);\n",
              "      filter: drop-shadow(0px 1px 2px rgba(0, 0, 0, 0.3));\n",
              "      fill: #FFFFFF;\n",
              "    }\n",
              "  </style>\n",
              "\n",
              "      <script>\n",
              "        const buttonEl =\n",
              "          document.querySelector('#df-c9edd055-da5b-46a7-84ff-c25e0f7cd5ab button.colab-df-convert');\n",
              "        buttonEl.style.display =\n",
              "          google.colab.kernel.accessAllowed ? 'block' : 'none';\n",
              "\n",
              "        async function convertToInteractive(key) {\n",
              "          const element = document.querySelector('#df-c9edd055-da5b-46a7-84ff-c25e0f7cd5ab');\n",
              "          const dataTable =\n",
              "            await google.colab.kernel.invokeFunction('convertToInteractive',\n",
              "                                                     [key], {});\n",
              "          if (!dataTable) return;\n",
              "\n",
              "          const docLinkHtml = 'Like what you see? Visit the ' +\n",
              "            '<a target=\"_blank\" href=https://colab.research.google.com/notebooks/data_table.ipynb>data table notebook</a>'\n",
              "            + ' to learn more about interactive tables.';\n",
              "          element.innerHTML = '';\n",
              "          dataTable['output_type'] = 'display_data';\n",
              "          await google.colab.output.renderOutput(dataTable, element);\n",
              "          const docLink = document.createElement('div');\n",
              "          docLink.innerHTML = docLinkHtml;\n",
              "          element.appendChild(docLink);\n",
              "        }\n",
              "      </script>\n",
              "    </div>\n",
              "  </div>\n",
              "  "
            ]
          },
          "metadata": {}
        }
      ],
      "source": [
        "# Convert Everything to lowercase\n",
        "new_df = new_df.applymap(lambda s: s.lower() if type(s) == str else s)\n",
        "display(new_df.head(5))"
      ]
    },
    {
      "cell_type": "code",
      "execution_count": 11,
      "metadata": {
        "colab": {
          "base_uri": "https://localhost:8080/",
          "height": 652
        },
        "id": "HMDJhqYdh2Js",
        "outputId": "33c929e9-1a99-49f5-8060-984630669e2e"
      },
      "outputs": [
        {
          "output_type": "display_data",
          "data": {
            "text/plain": [
              "   job_id                                      title            location  \\\n",
              "0       1                           marketing intern    us  ny  new york   \n",
              "1       2  customer service   cloud video production      nz    auckland   \n",
              "2       3    commissioning machinery assistant  cma        us  ia  wever   \n",
              "3       4          account executive   washington dc  us  dc  washington   \n",
              "4       5                        bill review manager  us  fl  fort worth   \n",
              "\n",
              "  department salary_range                                    company_profile  \\\n",
              "0  marketing               we re food52  and we ve created a groundbreaki...   \n",
              "1    success               90 seconds  the worlds cloud video production ...   \n",
              "2                          valor services provides workforce solutions th...   \n",
              "3      sales               our passion for improving quality of life thro...   \n",
              "4                          spotsource solutions llc is a global human cap...   \n",
              "\n",
              "                                         description  \\\n",
              "0  food52  a fast growing  james beard award winn...   \n",
              "1  organised   focused   vibrant   awesome do you...   \n",
              "2  our client  located in houston  is actively se...   \n",
              "3  the company  esri – environmental systems rese...   \n",
              "4  job title  itemization review managerlocation ...   \n",
              "\n",
              "                                        requirements  \\\n",
              "0  experience with content management systems a m...   \n",
              "1  what we expect from you your key responsibilit...   \n",
              "2  implement pre commissioning and commissioning ...   \n",
              "3  education  bachelor’s or master’s in gis  busi...   \n",
              "4  qualifications rn license in the state of texa...   \n",
              "\n",
              "                                            benefits  telecommuting  \\\n",
              "0                                                                 0   \n",
              "1  what you will get from usthrough being part of...              0   \n",
              "2                                                                 0   \n",
              "3  our culture is anything but corporate—we have ...              0   \n",
              "4                              full benefits offered              0   \n",
              "\n",
              "   has_company_logo  has_questions employment_type required_experience  \\\n",
              "0                 1              0           other          internship   \n",
              "1                 1              0       full time      not applicable   \n",
              "2                 1              0                                       \n",
              "3                 1              0       full time    mid senior level   \n",
              "4                 1              1       full time    mid senior level   \n",
              "\n",
              "  required_education                   industry              function  \\\n",
              "0                                                           marketing   \n",
              "1                     marketing and advertising      customer service   \n",
              "2                                                                       \n",
              "3  bachelor s degree          computer software                 sales   \n",
              "4  bachelor s degree     hospital   health care  health care provider   \n",
              "\n",
              "   fraudulent  \n",
              "0           0  \n",
              "1           0  \n",
              "2           0  \n",
              "3           0  \n",
              "4           0  "
            ],
            "text/html": [
              "\n",
              "  <div id=\"df-ff3d8ed2-5280-4fe9-be13-3d22defc4e78\">\n",
              "    <div class=\"colab-df-container\">\n",
              "      <div>\n",
              "<style scoped>\n",
              "    .dataframe tbody tr th:only-of-type {\n",
              "        vertical-align: middle;\n",
              "    }\n",
              "\n",
              "    .dataframe tbody tr th {\n",
              "        vertical-align: top;\n",
              "    }\n",
              "\n",
              "    .dataframe thead th {\n",
              "        text-align: right;\n",
              "    }\n",
              "</style>\n",
              "<table border=\"1\" class=\"dataframe\">\n",
              "  <thead>\n",
              "    <tr style=\"text-align: right;\">\n",
              "      <th></th>\n",
              "      <th>job_id</th>\n",
              "      <th>title</th>\n",
              "      <th>location</th>\n",
              "      <th>department</th>\n",
              "      <th>salary_range</th>\n",
              "      <th>company_profile</th>\n",
              "      <th>description</th>\n",
              "      <th>requirements</th>\n",
              "      <th>benefits</th>\n",
              "      <th>telecommuting</th>\n",
              "      <th>has_company_logo</th>\n",
              "      <th>has_questions</th>\n",
              "      <th>employment_type</th>\n",
              "      <th>required_experience</th>\n",
              "      <th>required_education</th>\n",
              "      <th>industry</th>\n",
              "      <th>function</th>\n",
              "      <th>fraudulent</th>\n",
              "    </tr>\n",
              "  </thead>\n",
              "  <tbody>\n",
              "    <tr>\n",
              "      <th>0</th>\n",
              "      <td>1</td>\n",
              "      <td>marketing intern</td>\n",
              "      <td>us  ny  new york</td>\n",
              "      <td>marketing</td>\n",
              "      <td></td>\n",
              "      <td>we re food52  and we ve created a groundbreaki...</td>\n",
              "      <td>food52  a fast growing  james beard award winn...</td>\n",
              "      <td>experience with content management systems a m...</td>\n",
              "      <td></td>\n",
              "      <td>0</td>\n",
              "      <td>1</td>\n",
              "      <td>0</td>\n",
              "      <td>other</td>\n",
              "      <td>internship</td>\n",
              "      <td></td>\n",
              "      <td></td>\n",
              "      <td>marketing</td>\n",
              "      <td>0</td>\n",
              "    </tr>\n",
              "    <tr>\n",
              "      <th>1</th>\n",
              "      <td>2</td>\n",
              "      <td>customer service   cloud video production</td>\n",
              "      <td>nz    auckland</td>\n",
              "      <td>success</td>\n",
              "      <td></td>\n",
              "      <td>90 seconds  the worlds cloud video production ...</td>\n",
              "      <td>organised   focused   vibrant   awesome do you...</td>\n",
              "      <td>what we expect from you your key responsibilit...</td>\n",
              "      <td>what you will get from usthrough being part of...</td>\n",
              "      <td>0</td>\n",
              "      <td>1</td>\n",
              "      <td>0</td>\n",
              "      <td>full time</td>\n",
              "      <td>not applicable</td>\n",
              "      <td></td>\n",
              "      <td>marketing and advertising</td>\n",
              "      <td>customer service</td>\n",
              "      <td>0</td>\n",
              "    </tr>\n",
              "    <tr>\n",
              "      <th>2</th>\n",
              "      <td>3</td>\n",
              "      <td>commissioning machinery assistant  cma</td>\n",
              "      <td>us  ia  wever</td>\n",
              "      <td></td>\n",
              "      <td></td>\n",
              "      <td>valor services provides workforce solutions th...</td>\n",
              "      <td>our client  located in houston  is actively se...</td>\n",
              "      <td>implement pre commissioning and commissioning ...</td>\n",
              "      <td></td>\n",
              "      <td>0</td>\n",
              "      <td>1</td>\n",
              "      <td>0</td>\n",
              "      <td></td>\n",
              "      <td></td>\n",
              "      <td></td>\n",
              "      <td></td>\n",
              "      <td></td>\n",
              "      <td>0</td>\n",
              "    </tr>\n",
              "    <tr>\n",
              "      <th>3</th>\n",
              "      <td>4</td>\n",
              "      <td>account executive   washington dc</td>\n",
              "      <td>us  dc  washington</td>\n",
              "      <td>sales</td>\n",
              "      <td></td>\n",
              "      <td>our passion for improving quality of life thro...</td>\n",
              "      <td>the company  esri – environmental systems rese...</td>\n",
              "      <td>education  bachelor’s or master’s in gis  busi...</td>\n",
              "      <td>our culture is anything but corporate—we have ...</td>\n",
              "      <td>0</td>\n",
              "      <td>1</td>\n",
              "      <td>0</td>\n",
              "      <td>full time</td>\n",
              "      <td>mid senior level</td>\n",
              "      <td>bachelor s degree</td>\n",
              "      <td>computer software</td>\n",
              "      <td>sales</td>\n",
              "      <td>0</td>\n",
              "    </tr>\n",
              "    <tr>\n",
              "      <th>4</th>\n",
              "      <td>5</td>\n",
              "      <td>bill review manager</td>\n",
              "      <td>us  fl  fort worth</td>\n",
              "      <td></td>\n",
              "      <td></td>\n",
              "      <td>spotsource solutions llc is a global human cap...</td>\n",
              "      <td>job title  itemization review managerlocation ...</td>\n",
              "      <td>qualifications rn license in the state of texa...</td>\n",
              "      <td>full benefits offered</td>\n",
              "      <td>0</td>\n",
              "      <td>1</td>\n",
              "      <td>1</td>\n",
              "      <td>full time</td>\n",
              "      <td>mid senior level</td>\n",
              "      <td>bachelor s degree</td>\n",
              "      <td>hospital   health care</td>\n",
              "      <td>health care provider</td>\n",
              "      <td>0</td>\n",
              "    </tr>\n",
              "  </tbody>\n",
              "</table>\n",
              "</div>\n",
              "      <button class=\"colab-df-convert\" onclick=\"convertToInteractive('df-ff3d8ed2-5280-4fe9-be13-3d22defc4e78')\"\n",
              "              title=\"Convert this dataframe to an interactive table.\"\n",
              "              style=\"display:none;\">\n",
              "        \n",
              "  <svg xmlns=\"http://www.w3.org/2000/svg\" height=\"24px\"viewBox=\"0 0 24 24\"\n",
              "       width=\"24px\">\n",
              "    <path d=\"M0 0h24v24H0V0z\" fill=\"none\"/>\n",
              "    <path d=\"M18.56 5.44l.94 2.06.94-2.06 2.06-.94-2.06-.94-.94-2.06-.94 2.06-2.06.94zm-11 1L8.5 8.5l.94-2.06 2.06-.94-2.06-.94L8.5 2.5l-.94 2.06-2.06.94zm10 10l.94 2.06.94-2.06 2.06-.94-2.06-.94-.94-2.06-.94 2.06-2.06.94z\"/><path d=\"M17.41 7.96l-1.37-1.37c-.4-.4-.92-.59-1.43-.59-.52 0-1.04.2-1.43.59L10.3 9.45l-7.72 7.72c-.78.78-.78 2.05 0 2.83L4 21.41c.39.39.9.59 1.41.59.51 0 1.02-.2 1.41-.59l7.78-7.78 2.81-2.81c.8-.78.8-2.07 0-2.86zM5.41 20L4 18.59l7.72-7.72 1.47 1.35L5.41 20z\"/>\n",
              "  </svg>\n",
              "      </button>\n",
              "      \n",
              "  <style>\n",
              "    .colab-df-container {\n",
              "      display:flex;\n",
              "      flex-wrap:wrap;\n",
              "      gap: 12px;\n",
              "    }\n",
              "\n",
              "    .colab-df-convert {\n",
              "      background-color: #E8F0FE;\n",
              "      border: none;\n",
              "      border-radius: 50%;\n",
              "      cursor: pointer;\n",
              "      display: none;\n",
              "      fill: #1967D2;\n",
              "      height: 32px;\n",
              "      padding: 0 0 0 0;\n",
              "      width: 32px;\n",
              "    }\n",
              "\n",
              "    .colab-df-convert:hover {\n",
              "      background-color: #E2EBFA;\n",
              "      box-shadow: 0px 1px 2px rgba(60, 64, 67, 0.3), 0px 1px 3px 1px rgba(60, 64, 67, 0.15);\n",
              "      fill: #174EA6;\n",
              "    }\n",
              "\n",
              "    [theme=dark] .colab-df-convert {\n",
              "      background-color: #3B4455;\n",
              "      fill: #D2E3FC;\n",
              "    }\n",
              "\n",
              "    [theme=dark] .colab-df-convert:hover {\n",
              "      background-color: #434B5C;\n",
              "      box-shadow: 0px 1px 3px 1px rgba(0, 0, 0, 0.15);\n",
              "      filter: drop-shadow(0px 1px 2px rgba(0, 0, 0, 0.3));\n",
              "      fill: #FFFFFF;\n",
              "    }\n",
              "  </style>\n",
              "\n",
              "      <script>\n",
              "        const buttonEl =\n",
              "          document.querySelector('#df-ff3d8ed2-5280-4fe9-be13-3d22defc4e78 button.colab-df-convert');\n",
              "        buttonEl.style.display =\n",
              "          google.colab.kernel.accessAllowed ? 'block' : 'none';\n",
              "\n",
              "        async function convertToInteractive(key) {\n",
              "          const element = document.querySelector('#df-ff3d8ed2-5280-4fe9-be13-3d22defc4e78');\n",
              "          const dataTable =\n",
              "            await google.colab.kernel.invokeFunction('convertToInteractive',\n",
              "                                                     [key], {});\n",
              "          if (!dataTable) return;\n",
              "\n",
              "          const docLinkHtml = 'Like what you see? Visit the ' +\n",
              "            '<a target=\"_blank\" href=https://colab.research.google.com/notebooks/data_table.ipynb>data table notebook</a>'\n",
              "            + ' to learn more about interactive tables.';\n",
              "          element.innerHTML = '';\n",
              "          dataTable['output_type'] = 'display_data';\n",
              "          await google.colab.output.renderOutput(dataTable, element);\n",
              "          const docLink = document.createElement('div');\n",
              "          docLink.innerHTML = docLinkHtml;\n",
              "          element.appendChild(docLink);\n",
              "        }\n",
              "      </script>\n",
              "    </div>\n",
              "  </div>\n",
              "  "
            ]
          },
          "metadata": {}
        }
      ],
      "source": [
        "# Remove Punctuation\n",
        "punc_list = list(string.punctuation)\n",
        "def remove_punctuation(text, punct_list):\n",
        "    for punc in punct_list:\n",
        "        if punc in text:\n",
        "            text = text.replace(punc, ' ')\n",
        "    return text\n",
        "\n",
        "new_df = new_df.applymap(lambda s: remove_punctuation(s, punc_list) if type(s) == str else s)\n",
        "display(new_df.head(5))"
      ]
    },
    {
      "cell_type": "code",
      "execution_count": 12,
      "metadata": {
        "colab": {
          "base_uri": "https://localhost:8080/",
          "height": 600
        },
        "id": "-zl9Z_UEh9Mp",
        "outputId": "927ce840-0c51-42c2-ebfd-ba6a6a43c927"
      },
      "outputs": [
        {
          "output_type": "display_data",
          "data": {
            "text/plain": [
              "   job_id                                          title  \\\n",
              "0       1                            [marketing, intern]   \n",
              "1       2  [customer, service, cloud, video, production]   \n",
              "2       3     [commissioning, machinery, assistant, cma]   \n",
              "3       4           [account, executive, washington, dc]   \n",
              "4       5                        [bill, review, manager]   \n",
              "\n",
              "                location   department salary_range  \\\n",
              "0    [us, ny, new, york]  [marketing]           []   \n",
              "1         [nz, auckland]    [success]           []   \n",
              "2        [us, ia, wever]           []           []   \n",
              "3   [us, dc, washington]      [sales]           []   \n",
              "4  [us, fl, fort, worth]           []           []   \n",
              "\n",
              "                                     company_profile  \\\n",
              "0  [we, re, food52, and, we, ve, created, a, grou...   \n",
              "1  [90, seconds, the, worlds, cloud, video, produ...   \n",
              "2  [valor, services, provides, workforce, solutio...   \n",
              "3  [our, passion, for, improving, quality, of, li...   \n",
              "4  [spotsource, solutions, llc, is, a, global, hu...   \n",
              "\n",
              "                                         description  \\\n",
              "0  [food52, a, fast, growing, james, beard, award...   \n",
              "1  [organised, focused, vibrant, awesome, do, you...   \n",
              "2  [our, client, located, in, houston, is, active...   \n",
              "3  [the, company, esri, –, environmental, systems...   \n",
              "4  [job, title, itemization, review, managerlocat...   \n",
              "\n",
              "                                        requirements  \\\n",
              "0  [experience, with, content, management, system...   \n",
              "1  [what, we, expect, from, you, your, key, respo...   \n",
              "2  [implement, pre, commissioning, and, commissio...   \n",
              "3  [education, bachelor, ’, s, or, master, ’, s, ...   \n",
              "4  [qualifications, rn, license, in, the, state, ...   \n",
              "\n",
              "                                            benefits  telecommuting  \\\n",
              "0                                                 []              0   \n",
              "1  [what, you, will, get, from, usthrough, being,...              0   \n",
              "2                                                 []              0   \n",
              "3  [our, culture, is, anything, but, corporate—we...              0   \n",
              "4                          [full, benefits, offered]              0   \n",
              "\n",
              "   has_company_logo  has_questions employment_type   required_experience  \\\n",
              "0                 1              0         [other]          [internship]   \n",
              "1                 1              0    [full, time]     [not, applicable]   \n",
              "2                 1              0              []                    []   \n",
              "3                 1              0    [full, time]  [mid, senior, level]   \n",
              "4                 1              1    [full, time]  [mid, senior, level]   \n",
              "\n",
              "      required_education                       industry  \\\n",
              "0                     []                             []   \n",
              "1                     []  [marketing, and, advertising]   \n",
              "2                     []                             []   \n",
              "3  [bachelor, s, degree]           [computer, software]   \n",
              "4  [bachelor, s, degree]       [hospital, health, care]   \n",
              "\n",
              "                   function  fraudulent  \n",
              "0               [marketing]           0  \n",
              "1       [customer, service]           0  \n",
              "2                        []           0  \n",
              "3                   [sales]           0  \n",
              "4  [health, care, provider]           0  "
            ],
            "text/html": [
              "\n",
              "  <div id=\"df-2f0bbb5b-2f56-4afa-8475-6ffd29c77618\">\n",
              "    <div class=\"colab-df-container\">\n",
              "      <div>\n",
              "<style scoped>\n",
              "    .dataframe tbody tr th:only-of-type {\n",
              "        vertical-align: middle;\n",
              "    }\n",
              "\n",
              "    .dataframe tbody tr th {\n",
              "        vertical-align: top;\n",
              "    }\n",
              "\n",
              "    .dataframe thead th {\n",
              "        text-align: right;\n",
              "    }\n",
              "</style>\n",
              "<table border=\"1\" class=\"dataframe\">\n",
              "  <thead>\n",
              "    <tr style=\"text-align: right;\">\n",
              "      <th></th>\n",
              "      <th>job_id</th>\n",
              "      <th>title</th>\n",
              "      <th>location</th>\n",
              "      <th>department</th>\n",
              "      <th>salary_range</th>\n",
              "      <th>company_profile</th>\n",
              "      <th>description</th>\n",
              "      <th>requirements</th>\n",
              "      <th>benefits</th>\n",
              "      <th>telecommuting</th>\n",
              "      <th>has_company_logo</th>\n",
              "      <th>has_questions</th>\n",
              "      <th>employment_type</th>\n",
              "      <th>required_experience</th>\n",
              "      <th>required_education</th>\n",
              "      <th>industry</th>\n",
              "      <th>function</th>\n",
              "      <th>fraudulent</th>\n",
              "    </tr>\n",
              "  </thead>\n",
              "  <tbody>\n",
              "    <tr>\n",
              "      <th>0</th>\n",
              "      <td>1</td>\n",
              "      <td>[marketing, intern]</td>\n",
              "      <td>[us, ny, new, york]</td>\n",
              "      <td>[marketing]</td>\n",
              "      <td>[]</td>\n",
              "      <td>[we, re, food52, and, we, ve, created, a, grou...</td>\n",
              "      <td>[food52, a, fast, growing, james, beard, award...</td>\n",
              "      <td>[experience, with, content, management, system...</td>\n",
              "      <td>[]</td>\n",
              "      <td>0</td>\n",
              "      <td>1</td>\n",
              "      <td>0</td>\n",
              "      <td>[other]</td>\n",
              "      <td>[internship]</td>\n",
              "      <td>[]</td>\n",
              "      <td>[]</td>\n",
              "      <td>[marketing]</td>\n",
              "      <td>0</td>\n",
              "    </tr>\n",
              "    <tr>\n",
              "      <th>1</th>\n",
              "      <td>2</td>\n",
              "      <td>[customer, service, cloud, video, production]</td>\n",
              "      <td>[nz, auckland]</td>\n",
              "      <td>[success]</td>\n",
              "      <td>[]</td>\n",
              "      <td>[90, seconds, the, worlds, cloud, video, produ...</td>\n",
              "      <td>[organised, focused, vibrant, awesome, do, you...</td>\n",
              "      <td>[what, we, expect, from, you, your, key, respo...</td>\n",
              "      <td>[what, you, will, get, from, usthrough, being,...</td>\n",
              "      <td>0</td>\n",
              "      <td>1</td>\n",
              "      <td>0</td>\n",
              "      <td>[full, time]</td>\n",
              "      <td>[not, applicable]</td>\n",
              "      <td>[]</td>\n",
              "      <td>[marketing, and, advertising]</td>\n",
              "      <td>[customer, service]</td>\n",
              "      <td>0</td>\n",
              "    </tr>\n",
              "    <tr>\n",
              "      <th>2</th>\n",
              "      <td>3</td>\n",
              "      <td>[commissioning, machinery, assistant, cma]</td>\n",
              "      <td>[us, ia, wever]</td>\n",
              "      <td>[]</td>\n",
              "      <td>[]</td>\n",
              "      <td>[valor, services, provides, workforce, solutio...</td>\n",
              "      <td>[our, client, located, in, houston, is, active...</td>\n",
              "      <td>[implement, pre, commissioning, and, commissio...</td>\n",
              "      <td>[]</td>\n",
              "      <td>0</td>\n",
              "      <td>1</td>\n",
              "      <td>0</td>\n",
              "      <td>[]</td>\n",
              "      <td>[]</td>\n",
              "      <td>[]</td>\n",
              "      <td>[]</td>\n",
              "      <td>[]</td>\n",
              "      <td>0</td>\n",
              "    </tr>\n",
              "    <tr>\n",
              "      <th>3</th>\n",
              "      <td>4</td>\n",
              "      <td>[account, executive, washington, dc]</td>\n",
              "      <td>[us, dc, washington]</td>\n",
              "      <td>[sales]</td>\n",
              "      <td>[]</td>\n",
              "      <td>[our, passion, for, improving, quality, of, li...</td>\n",
              "      <td>[the, company, esri, –, environmental, systems...</td>\n",
              "      <td>[education, bachelor, ’, s, or, master, ’, s, ...</td>\n",
              "      <td>[our, culture, is, anything, but, corporate—we...</td>\n",
              "      <td>0</td>\n",
              "      <td>1</td>\n",
              "      <td>0</td>\n",
              "      <td>[full, time]</td>\n",
              "      <td>[mid, senior, level]</td>\n",
              "      <td>[bachelor, s, degree]</td>\n",
              "      <td>[computer, software]</td>\n",
              "      <td>[sales]</td>\n",
              "      <td>0</td>\n",
              "    </tr>\n",
              "    <tr>\n",
              "      <th>4</th>\n",
              "      <td>5</td>\n",
              "      <td>[bill, review, manager]</td>\n",
              "      <td>[us, fl, fort, worth]</td>\n",
              "      <td>[]</td>\n",
              "      <td>[]</td>\n",
              "      <td>[spotsource, solutions, llc, is, a, global, hu...</td>\n",
              "      <td>[job, title, itemization, review, managerlocat...</td>\n",
              "      <td>[qualifications, rn, license, in, the, state, ...</td>\n",
              "      <td>[full, benefits, offered]</td>\n",
              "      <td>0</td>\n",
              "      <td>1</td>\n",
              "      <td>1</td>\n",
              "      <td>[full, time]</td>\n",
              "      <td>[mid, senior, level]</td>\n",
              "      <td>[bachelor, s, degree]</td>\n",
              "      <td>[hospital, health, care]</td>\n",
              "      <td>[health, care, provider]</td>\n",
              "      <td>0</td>\n",
              "    </tr>\n",
              "  </tbody>\n",
              "</table>\n",
              "</div>\n",
              "      <button class=\"colab-df-convert\" onclick=\"convertToInteractive('df-2f0bbb5b-2f56-4afa-8475-6ffd29c77618')\"\n",
              "              title=\"Convert this dataframe to an interactive table.\"\n",
              "              style=\"display:none;\">\n",
              "        \n",
              "  <svg xmlns=\"http://www.w3.org/2000/svg\" height=\"24px\"viewBox=\"0 0 24 24\"\n",
              "       width=\"24px\">\n",
              "    <path d=\"M0 0h24v24H0V0z\" fill=\"none\"/>\n",
              "    <path d=\"M18.56 5.44l.94 2.06.94-2.06 2.06-.94-2.06-.94-.94-2.06-.94 2.06-2.06.94zm-11 1L8.5 8.5l.94-2.06 2.06-.94-2.06-.94L8.5 2.5l-.94 2.06-2.06.94zm10 10l.94 2.06.94-2.06 2.06-.94-2.06-.94-.94-2.06-.94 2.06-2.06.94z\"/><path d=\"M17.41 7.96l-1.37-1.37c-.4-.4-.92-.59-1.43-.59-.52 0-1.04.2-1.43.59L10.3 9.45l-7.72 7.72c-.78.78-.78 2.05 0 2.83L4 21.41c.39.39.9.59 1.41.59.51 0 1.02-.2 1.41-.59l7.78-7.78 2.81-2.81c.8-.78.8-2.07 0-2.86zM5.41 20L4 18.59l7.72-7.72 1.47 1.35L5.41 20z\"/>\n",
              "  </svg>\n",
              "      </button>\n",
              "      \n",
              "  <style>\n",
              "    .colab-df-container {\n",
              "      display:flex;\n",
              "      flex-wrap:wrap;\n",
              "      gap: 12px;\n",
              "    }\n",
              "\n",
              "    .colab-df-convert {\n",
              "      background-color: #E8F0FE;\n",
              "      border: none;\n",
              "      border-radius: 50%;\n",
              "      cursor: pointer;\n",
              "      display: none;\n",
              "      fill: #1967D2;\n",
              "      height: 32px;\n",
              "      padding: 0 0 0 0;\n",
              "      width: 32px;\n",
              "    }\n",
              "\n",
              "    .colab-df-convert:hover {\n",
              "      background-color: #E2EBFA;\n",
              "      box-shadow: 0px 1px 2px rgba(60, 64, 67, 0.3), 0px 1px 3px 1px rgba(60, 64, 67, 0.15);\n",
              "      fill: #174EA6;\n",
              "    }\n",
              "\n",
              "    [theme=dark] .colab-df-convert {\n",
              "      background-color: #3B4455;\n",
              "      fill: #D2E3FC;\n",
              "    }\n",
              "\n",
              "    [theme=dark] .colab-df-convert:hover {\n",
              "      background-color: #434B5C;\n",
              "      box-shadow: 0px 1px 3px 1px rgba(0, 0, 0, 0.15);\n",
              "      filter: drop-shadow(0px 1px 2px rgba(0, 0, 0, 0.3));\n",
              "      fill: #FFFFFF;\n",
              "    }\n",
              "  </style>\n",
              "\n",
              "      <script>\n",
              "        const buttonEl =\n",
              "          document.querySelector('#df-2f0bbb5b-2f56-4afa-8475-6ffd29c77618 button.colab-df-convert');\n",
              "        buttonEl.style.display =\n",
              "          google.colab.kernel.accessAllowed ? 'block' : 'none';\n",
              "\n",
              "        async function convertToInteractive(key) {\n",
              "          const element = document.querySelector('#df-2f0bbb5b-2f56-4afa-8475-6ffd29c77618');\n",
              "          const dataTable =\n",
              "            await google.colab.kernel.invokeFunction('convertToInteractive',\n",
              "                                                     [key], {});\n",
              "          if (!dataTable) return;\n",
              "\n",
              "          const docLinkHtml = 'Like what you see? Visit the ' +\n",
              "            '<a target=\"_blank\" href=https://colab.research.google.com/notebooks/data_table.ipynb>data table notebook</a>'\n",
              "            + ' to learn more about interactive tables.';\n",
              "          element.innerHTML = '';\n",
              "          dataTable['output_type'] = 'display_data';\n",
              "          await google.colab.output.renderOutput(dataTable, element);\n",
              "          const docLink = document.createElement('div');\n",
              "          docLink.innerHTML = docLinkHtml;\n",
              "          element.appendChild(docLink);\n",
              "        }\n",
              "      </script>\n",
              "    </div>\n",
              "  </div>\n",
              "  "
            ]
          },
          "metadata": {}
        }
      ],
      "source": [
        "# Tokenize each text column\n",
        "token_df = new_df.copy()\n",
        "for column in new_df.columns:\n",
        "    token_df[column] = new_df[column].apply(lambda s: word_tokenize(s) if type(s) == str else s)\n",
        "display(token_df.head(5))"
      ]
    },
    {
      "cell_type": "markdown",
      "metadata": {
        "id": "AILw9JOa5438"
      },
      "source": [
        "### tokenizer "
      ]
    },
    {
      "cell_type": "code",
      "execution_count": 53,
      "metadata": {
        "id": "1I2njQ_SoAMj"
      },
      "outputs": [],
      "source": [
        "from keras.preprocessing.text import Tokenizer\n",
        "from keras.utils import pad_sequences\n",
        "from keras.models import Sequential\n",
        "from keras.layers import Dense, Embedding, LSTM, Conv1D, MaxPool1D, SimpleRNN\n",
        "from sklearn.model_selection import train_test_split\n",
        "from sklearn.metrics import classification_report, accuracy_score"
      ]
    },
    {
      "cell_type": "code",
      "execution_count": 14,
      "metadata": {
        "id": "KJpGeXjnn3Cb"
      },
      "outputs": [],
      "source": [
        "tokenizer = Tokenizer()\n",
        "tokenizer.fit_on_texts(token_df['description'])\n",
        "\n",
        "X = tokenizer.texts_to_sequences(token_df['description'])"
      ]
    },
    {
      "cell_type": "code",
      "execution_count": 15,
      "metadata": {
        "colab": {
          "base_uri": "https://localhost:8080/"
        },
        "id": "ujcQnLiTou0k",
        "outputId": "a0a92419-5890-41d5-d035-8e4b1560b9c6"
      },
      "outputs": [
        {
          "output_type": "execute_result",
          "data": {
            "text/plain": [
              "[3025, 5, 149, 96, 5426, 7320, 808, 759, 173, 547]"
            ]
          },
          "metadata": {},
          "execution_count": 15
        }
      ],
      "source": [
        "X[0][:10]"
      ]
    },
    {
      "cell_type": "code",
      "execution_count": 16,
      "metadata": {
        "colab": {
          "base_uri": "https://localhost:8080/"
        },
        "id": "eMtBEjyCo0UR",
        "outputId": "5cc3d75d-f569-4f9f-9a8a-a93f9fdec176"
      },
      "outputs": [
        {
          "output_type": "stream",
          "name": "stdout",
          "text": [
            "and -> 1\n",
            "the -> 2\n",
            "to -> 3\n",
            "of -> 4\n",
            "a -> 5\n",
            "in -> 6\n",
            "for -> 7\n",
            "with -> 8\n",
            "you -> 9\n",
            "our -> 10\n"
          ]
        }
      ],
      "source": [
        "word_index = tokenizer.word_index\n",
        "for word, num in word_index.items():\n",
        "    print(f\"{word} -> {num}\")\n",
        "    if num == 10:\n",
        "        break    "
      ]
    },
    {
      "cell_type": "code",
      "execution_count": 17,
      "metadata": {
        "colab": {
          "base_uri": "https://localhost:8080/",
          "height": 265
        },
        "id": "6DH_pb9Co2H7",
        "outputId": "01c91e6c-03bd-40be-e6c7-fa2e742f5654"
      },
      "outputs": [
        {
          "output_type": "display_data",
          "data": {
            "text/plain": [
              "<Figure size 432x288 with 1 Axes>"
            ],
            "image/png": "[encoded data removed]"
          },
          "metadata": {
            "needs_background": "light"
          }
        }
      ],
      "source": [
        "import matplotlib.pyplot as plt\n",
        "plt.hist([len(x) for x in X], bins=500)\n",
        "plt.show()"
      ]
    },
    {
      "cell_type": "code",
      "execution_count": 18,
      "metadata": {
        "colab": {
          "base_uri": "https://localhost:8080/"
        },
        "id": "poDO1hGlo5pA",
        "outputId": "0a71fb9c-36d8-4321-a132-9736b737440b"
      },
      "outputs": [
        {
          "output_type": "execute_result",
          "data": {
            "text/plain": [
              "17772"
            ]
          },
          "metadata": {},
          "execution_count": 18
        }
      ],
      "source": [
        "import numpy as np\n",
        "nos = np.array([len(x) for x in X])\n",
        "len(nos[nos  < 700])\n"
      ]
    },
    {
      "cell_type": "code",
      "execution_count": 19,
      "metadata": {
        "id": "U1op4Orbo9Ez"
      },
      "outputs": [],
      "source": [
        "#Lets keep all descriptions to 700, add padding to descriptions with less than 700 words and truncating long ones\n",
        "maxlen = 700 \n",
        "\n",
        "#Making all descriptions of size maxlen defined above\n",
        "X = pad_sequences(X, maxlen=maxlen)"
      ]
    },
    {
      "cell_type": "code",
      "execution_count": 20,
      "metadata": {
        "colab": {
          "base_uri": "https://localhost:8080/"
        },
        "id": "2lrU_nBMpBJY",
        "outputId": "8980cdb8-8183-46e4-8cf7-39c53437639b"
      },
      "outputs": [
        {
          "output_type": "execute_result",
          "data": {
            "text/plain": [
              "700"
            ]
          },
          "metadata": {},
          "execution_count": 20
        }
      ],
      "source": [
        "#all descriptions has 700 words (in numerical form now). If they had less words, they have been padded with 0\n",
        "# 0 is not associated to any word, as mapping of words started from 1\n",
        "# 0 will also be used later, if unknows word is encountered in test set\n",
        "len(X[0])"
      ]
    },
    {
      "cell_type": "code",
      "execution_count": 21,
      "metadata": {
        "id": "anrg5N5tpHfj"
      },
      "outputs": [],
      "source": [
        "# Adding 1 because of reserved 0 index\n",
        "# Embedding Layer creates one more vector for \"UNKNOWN\" words, or padded words (0s). This Vector is filled with zeros.\n",
        "# Thus our vocab size inceeases by 1\n",
        "vocab_size = len(tokenizer.word_index) + 1"
      ]
    },
    {
      "cell_type": "code",
      "execution_count": 22,
      "metadata": {
        "id": "zVJwgGMD-_Vt"
      },
      "outputs": [],
      "source": [
        "y = df['fraudulent']"
      ]
    },
    {
      "cell_type": "markdown",
      "metadata": {
        "id": "h-P0pUyzwvU6"
      },
      "source": [
        "### oversample"
      ]
    },
    {
      "cell_type": "code",
      "execution_count": 23,
      "metadata": {
        "id": "SvZkpfoOxPH8"
      },
      "outputs": [],
      "source": [
        "from imblearn.over_sampling import RandomOverSampler"
      ]
    },
    {
      "cell_type": "code",
      "execution_count": 24,
      "metadata": {
        "id": "9wM-e7Cnw8cq"
      },
      "outputs": [],
      "source": [
        "oversample = RandomOverSampler(sampling_strategy='minority')"
      ]
    },
    {
      "cell_type": "code",
      "execution_count": 25,
      "metadata": {
        "colab": {
          "base_uri": "https://localhost:8080/",
          "height": 0
        },
        "id": "TBez8HEky-4g",
        "outputId": "6de975aa-7019-4311-93e0-b6cfc3a91581"
      },
      "outputs": [
        {
          "output_type": "execute_result",
          "data": {
            "text/plain": [
              "<matplotlib.axes._subplots.AxesSubplot at 0x7fd890e6ed30>"
            ]
          },
          "metadata": {},
          "execution_count": 25
        },
        {
          "output_type": "display_data",
          "data": {
            "text/plain": [
              "<Figure size 432x288 with 1 Axes>"
            ],
            "image/png": "[encoded data removed]"
          },
          "metadata": {
            "needs_background": "light"
          }
        }
      ],
      "source": [
        "y.value_counts().plot.bar()"
      ]
    },
    {
      "cell_type": "code",
      "execution_count": 26,
      "metadata": {
        "id": "qVJFp664_BQg"
      },
      "outputs": [],
      "source": [
        "X_train, X_test, y_train, y_test = train_test_split(X, y)"
      ]
    },
    {
      "cell_type": "code",
      "execution_count": 27,
      "metadata": {
        "id": "0mODa4qnxQ43"
      },
      "outputs": [],
      "source": [
        "X_train, y_train = oversample.fit_resample(X_train, y_train)"
      ]
    },
    {
      "cell_type": "code",
      "execution_count": 28,
      "metadata": {
        "colab": {
          "base_uri": "https://localhost:8080/",
          "height": 0
        },
        "id": "sgL7tOG5yyHh",
        "outputId": "3c954adb-39d1-4ec9-c8bc-40ddbfd27e10"
      },
      "outputs": [
        {
          "output_type": "execute_result",
          "data": {
            "text/plain": [
              "<matplotlib.axes._subplots.AxesSubplot at 0x7fd890e6e280>"
            ]
          },
          "metadata": {},
          "execution_count": 28
        },
        {
          "output_type": "display_data",
          "data": {
            "text/plain": [
              "<Figure size 432x288 with 1 Axes>"
            ],
            "image/png": "[encoded data removed]"
          },
          "metadata": {
            "needs_background": "light"
          }
        }
      ],
      "source": [
        "y_train.value_counts().plot.bar()"
      ]
    },
    {
      "cell_type": "markdown",
      "metadata": {
        "id": "ClgnzAl25lfR"
      },
      "source": [
        "## Model Training"
      ]
    },
    {
      "cell_type": "markdown",
      "metadata": {
        "id": "MHW90M8qA5s8"
      },
      "source": [
        "### model with no embedding layer"
      ]
    },
    {
      "cell_type": "code",
      "execution_count": null,
      "metadata": {
        "id": "Uf4B9u6b-iIj"
      },
      "outputs": [],
      "source": [
        "#Defining Neural Network\n",
        "model = Sequential()\n",
        "#Non-trainable embeddidng layer\n",
        "#LSTM \n",
        "model.add(LSTM(units=128,input_shape=(700, 1)))\n",
        "model.add(Dense(1, activation='sigmoid'))\n",
        "model.compile(optimizer='adam', loss='binary_crossentropy', metrics=['acc'])\n"
      ]
    },
    {
      "cell_type": "code",
      "execution_count": null,
      "metadata": {
        "colab": {
          "base_uri": "https://localhost:8080/"
        },
        "id": "EFOBTX2t-xzK",
        "outputId": "794d99cb-68b5-4128-d2f7-84038b77b296"
      },
      "outputs": [
        {
          "name": "stdout",
          "output_type": "stream",
          "text": [
            "Model: \"sequential\"\n",
            "_________________________________________________________________\n",
            " Layer (type)                Output Shape              Param #   \n",
            "=================================================================\n",
            " lstm (LSTM)                 (None, 128)               66560     \n",
            "                                                                 \n",
            " dense (Dense)               (None, 1)                 129       \n",
            "                                                                 \n",
            "=================================================================\n",
            "Total params: 66,689\n",
            "Trainable params: 66,689\n",
            "Non-trainable params: 0\n",
            "_________________________________________________________________\n"
          ]
        }
      ],
      "source": [
        "model.summary()"
      ]
    },
    {
      "cell_type": "code",
      "execution_count": null,
      "metadata": {
        "colab": {
          "base_uri": "https://localhost:8080/"
        },
        "id": "r_xfsYuc-zr9",
        "outputId": "b589f1c3-6650-456e-ce17-2cc174953e7e"
      },
      "outputs": [
        {
          "name": "stdout",
          "output_type": "stream",
          "text": [
            "Epoch 1/6\n",
            "558/558 [==============================] - 28s 38ms/step - loss: 0.5727 - acc: 0.7244 - val_loss: 0.9599 - val_acc: 0.1352\n",
            "Epoch 2/6\n",
            "558/558 [==============================] - 21s 38ms/step - loss: 0.5433 - acc: 0.7355 - val_loss: 1.0332 - val_acc: 0.1055\n",
            "Epoch 3/6\n",
            "558/558 [==============================] - 22s 40ms/step - loss: 0.5084 - acc: 0.7564 - val_loss: 0.6318 - val_acc: 0.7098\n",
            "Epoch 4/6\n",
            "558/558 [==============================] - 23s 41ms/step - loss: 0.4374 - acc: 0.7967 - val_loss: 0.9041 - val_acc: 0.4859\n",
            "Epoch 5/6\n",
            "558/558 [==============================] - 21s 38ms/step - loss: 0.3898 - acc: 0.8292 - val_loss: 0.6997 - val_acc: 0.6645\n",
            "Epoch 6/6\n",
            "558/558 [==============================] - 21s 38ms/step - loss: 0.3444 - acc: 0.8544 - val_loss: 0.6345 - val_acc: 0.7034\n"
          ]
        },
        {
          "data": {
            "text/plain": [
              "<keras.callbacks.History at 0x7fc330361640>"
            ]
          },
          "execution_count": 34,
          "metadata": {},
          "output_type": "execute_result"
        }
      ],
      "source": [
        "model.fit(X_train, y_train, validation_split=0.3, epochs=6)"
      ]
    },
    {
      "cell_type": "code",
      "execution_count": null,
      "metadata": {
        "colab": {
          "base_uri": "https://localhost:8080/"
        },
        "id": "Zc6XbQwb-12I",
        "outputId": "9bc57573-5c58-408d-bb65-59770ab9df6f"
      },
      "outputs": [
        {
          "name": "stdout",
          "output_type": "stream",
          "text": [
            "140/140 [==============================] - 2s 14ms/step\n"
          ]
        }
      ],
      "source": [
        "y_pred = (model.predict(X_test) >= 0.5).astype(\"int\")"
      ]
    },
    {
      "cell_type": "code",
      "execution_count": null,
      "metadata": {
        "colab": {
          "base_uri": "https://localhost:8080/"
        },
        "id": "qwBysA1I-5hS",
        "outputId": "c91ca76d-1398-4f2a-e035-43f757be815e"
      },
      "outputs": [
        {
          "name": "stdout",
          "output_type": "stream",
          "text": [
            "              precision    recall  f1-score   support\n",
            "\n",
            "           0       0.98      0.93      0.95      4272\n",
            "           1       0.26      0.51      0.35       198\n",
            "\n",
            "    accuracy                           0.92      4470\n",
            "   macro avg       0.62      0.72      0.65      4470\n",
            "weighted avg       0.94      0.92      0.93      4470\n",
            "\n"
          ]
        }
      ],
      "source": [
        "print(classification_report(y_test, y_pred))"
      ]
    },
    {
      "cell_type": "markdown",
      "metadata": {
        "id": "dbxj69bwBD5X"
      },
      "source": [
        "### model with word2Vec embedding layer"
      ]
    },
    {
      "cell_type": "code",
      "execution_count": 29,
      "metadata": {
        "id": "w5PZaepOeKER"
      },
      "outputs": [],
      "source": [
        "EMBEDDING_DIM = 100"
      ]
    },
    {
      "cell_type": "markdown",
      "metadata": {
        "id": "xyl5l88R6LFb"
      },
      "source": [
        "#### word2vec"
      ]
    },
    {
      "cell_type": "code",
      "execution_count": 30,
      "metadata": {
        "id": "2Miwj-OX6LFc"
      },
      "outputs": [],
      "source": [
        "import gensim"
      ]
    },
    {
      "cell_type": "code",
      "execution_count": 31,
      "metadata": {
        "id": "5-YvXYn-6LFd"
      },
      "outputs": [],
      "source": [
        "sentence = token_df['description']"
      ]
    },
    {
      "cell_type": "code",
      "execution_count": 32,
      "metadata": {
        "colab": {
          "base_uri": "https://localhost:8080/"
        },
        "id": "NT9wCqIa6LFd",
        "outputId": "c5cff6f4-da52-40f4-fb7c-15a7d4cacf24"
      },
      "outputs": [
        {
          "output_type": "stream",
          "name": "stdout",
          "text": [
            "<class 'pandas.core.series.Series'>\n",
            "(17880,)\n",
            "0        [food52, a, fast, growing, james, beard, award...\n",
            "1        [organised, focused, vibrant, awesome, do, you...\n",
            "2        [our, client, located, in, houston, is, active...\n",
            "3        [the, company, esri, –, environmental, systems...\n",
            "4        [job, title, itemization, review, managerlocat...\n",
            "                               ...                        \n",
            "17875    [just, in, case, this, is, the, first, time, y...\n",
            "17876    [the, payroll, accountant, will, focus, primar...\n",
            "17877    [experienced, project, cost, control, staff, e...\n",
            "17878    [nemsia, studios, is, looking, for, an, experi...\n",
            "17879    [who, are, we, vend, is, an, award, winning, w...\n",
            "Name: description, Length: 17880, dtype: object\n"
          ]
        }
      ],
      "source": [
        "print(type(sentence))\n",
        "print(sentence.shape)\n",
        "print(sentence)"
      ]
    },
    {
      "cell_type": "code",
      "execution_count": 33,
      "metadata": {
        "colab": {
          "base_uri": "https://localhost:8080/"
        },
        "id": "YoFarlOR6LFe",
        "outputId": "7d05533f-60d6-4a59-eb3e-d34f8c1465a9"
      },
      "outputs": [
        {
          "output_type": "execute_result",
          "data": {
            "text/plain": [
              "['organised', 'focused', 'vibrant', 'awesome', 'do']"
            ]
          },
          "metadata": {},
          "execution_count": 33
        }
      ],
      "source": [
        "sentence[1][:5]"
      ]
    },
    {
      "cell_type": "code",
      "execution_count": 34,
      "metadata": {
        "colab": {
          "base_uri": "https://localhost:8080/"
        },
        "id": "zWZ-zxly6LFf",
        "outputId": "74d508ae-5024-4c0b-bd0c-24e1cb5e230d"
      },
      "outputs": [
        {
          "output_type": "execute_result",
          "data": {
            "text/plain": [
              "True"
            ]
          },
          "metadata": {},
          "execution_count": 34
        }
      ],
      "source": [
        "'reproducing' in sentence[0]"
      ]
    },
    {
      "cell_type": "code",
      "execution_count": 35,
      "metadata": {
        "id": "Bcel78Bt6LFf"
      },
      "outputs": [],
      "source": [
        "# initialize a model\n",
        "w2v_model = gensim.models.Word2Vec(sentence, size=100, min_count=1)"
      ]
    },
    {
      "cell_type": "code",
      "execution_count": 36,
      "metadata": {
        "colab": {
          "base_uri": "https://localhost:8080/"
        },
        "id": "2Vfv3pUa6LFg",
        "outputId": "d8a869e3-c303-4c85-b7a7-9ed78b1a7714"
      },
      "outputs": [
        {
          "output_type": "stream",
          "name": "stdout",
          "text": [
            "[-0.00062329  0.0498212   0.08530529 -0.00125262 -0.01489186  0.04034812\n",
            "  0.03812296  0.03571906 -0.06341068 -0.0420344   0.01132633 -0.04271222\n",
            " -0.03024082 -0.036109   -0.03750932  0.01320946  0.02575871  0.0686506\n",
            "  0.06655494  0.06486227 -0.01068479  0.02766676  0.02643735  0.01772205\n",
            " -0.01145937 -0.00095719 -0.04017467  0.07008585 -0.0098391  -0.07565887\n",
            "  0.03428091  0.03498233  0.02872053  0.03321368  0.00490183 -0.00067558\n",
            " -0.02519242  0.02093745  0.03296743 -0.05252251 -0.0607527  -0.00417768\n",
            " -0.03699403 -0.00500933 -0.00663219  0.01455477  0.05356229 -0.02537\n",
            " -0.08610583 -0.0888812  -0.02052267 -0.1078166   0.00723931 -0.05310535\n",
            "  0.05855199 -0.02231228  0.05708353 -0.02434276  0.0276176   0.01733991\n",
            " -0.01073983 -0.03219206 -0.06353445  0.03739585 -0.02180521  0.01912833\n",
            "  0.05018204  0.02616036  0.03640198  0.00782739 -0.02195341 -0.03325364\n",
            "  0.08248302  0.01426963  0.03989118  0.01956808 -0.04609757  0.00938743\n",
            "  0.08777583  0.00449176  0.10819012 -0.04985386 -0.02429663  0.02862748\n",
            "  0.07442554 -0.0021985  -0.0169454   0.01363772 -0.04563374 -0.06237229\n",
            "  0.0241743  -0.11279841  0.10626285 -0.06148292 -0.16401356 -0.06158196\n",
            "  0.04173446  0.02277612 -0.02578465  0.01404049]\n"
          ]
        }
      ],
      "source": [
        "print(w2v_model.wv[\"reproducing\"])"
      ]
    },
    {
      "cell_type": "code",
      "execution_count": 37,
      "metadata": {
        "id": "BiUEDogJ6LFh"
      },
      "outputs": [],
      "source": [
        "def most_similar(w2v_model, words, topn=10):\n",
        "    similar_df = pd.DataFrame()\n",
        "    for word in words:\n",
        "        try:\n",
        "            similar_words = pd.DataFrame(w2v_model.wv.most_similar(word, topn=topn), columns=[word, 'cos'])\n",
        "            similar_df = pd.concat([similar_df, similar_words], axis=1)\n",
        "        except:\n",
        "            print(word, \"not found in Word2Vec model!\")\n",
        "    return similar_df"
      ]
    },
    {
      "cell_type": "code",
      "execution_count": 38,
      "metadata": {
        "colab": {
          "base_uri": "https://localhost:8080/",
          "height": 363
        },
        "id": "Ay6-6o5z6LFh",
        "outputId": "cc8c0efb-2d31-4059-ce15-cd6d834d41f5"
      },
      "outputs": [
        {
          "output_type": "execute_result",
          "data": {
            "text/plain": [
              "                      our       cos                      title       cos  \\\n",
              "0                     its  0.647316     assistantdescriptionan  0.667890   \n",
              "1                     the  0.575469  descriptionadministrative  0.631626   \n",
              "2                   their  0.526456            analystlocation  0.608782   \n",
              "3               cargobarn  0.469371                  shoreland  0.607702   \n",
              "4  reactivationpartnering  0.440518                    summary  0.577561   \n",
              "5                testsyou  0.438143                         jr  0.577309   \n",
              "6                 success  0.424167                description  0.576535   \n",
              "7                  global  0.422468                     escrow  0.561300   \n",
              "8      resultsinteracting  0.419508                  paralegal  0.558223   \n",
              "9                cleanweb  0.402541                          ―  0.552016   \n",
              "\n",
              "          client       cos       company       cos  \n",
              "0       customer  0.683258  organization  0.660439  \n",
              "1        clients  0.631586  organisation  0.626861  \n",
              "2   teamconsumer  0.562217          firm  0.524735  \n",
              "3  customersplan  0.558160        agency  0.511640  \n",
              "4      customers  0.507048    department  0.495721  \n",
              "5    membersplan  0.492424       startup  0.459227  \n",
              "6      strategic  0.492030            uk  0.459029  \n",
              "7        partner  0.480728      industry  0.421131  \n",
              "8         vendor  0.480097         group  0.419480  \n",
              "9       employee  0.475023           csm  0.414177  "
            ],
            "text/html": [
              "\n",
              "  <div id=\"df-23179f51-10e4-4dc2-aaf1-5a71d4150fdd\">\n",
              "    <div class=\"colab-df-container\">\n",
              "      <div>\n",
              "<style scoped>\n",
              "    .dataframe tbody tr th:only-of-type {\n",
              "        vertical-align: middle;\n",
              "    }\n",
              "\n",
              "    .dataframe tbody tr th {\n",
              "        vertical-align: top;\n",
              "    }\n",
              "\n",
              "    .dataframe thead th {\n",
              "        text-align: right;\n",
              "    }\n",
              "</style>\n",
              "<table border=\"1\" class=\"dataframe\">\n",
              "  <thead>\n",
              "    <tr style=\"text-align: right;\">\n",
              "      <th></th>\n",
              "      <th>our</th>\n",
              "      <th>cos</th>\n",
              "      <th>title</th>\n",
              "      <th>cos</th>\n",
              "      <th>client</th>\n",
              "      <th>cos</th>\n",
              "      <th>company</th>\n",
              "      <th>cos</th>\n",
              "    </tr>\n",
              "  </thead>\n",
              "  <tbody>\n",
              "    <tr>\n",
              "      <th>0</th>\n",
              "      <td>its</td>\n",
              "      <td>0.647316</td>\n",
              "      <td>assistantdescriptionan</td>\n",
              "      <td>0.667890</td>\n",
              "      <td>customer</td>\n",
              "      <td>0.683258</td>\n",
              "      <td>organization</td>\n",
              "      <td>0.660439</td>\n",
              "    </tr>\n",
              "    <tr>\n",
              "      <th>1</th>\n",
              "      <td>the</td>\n",
              "      <td>0.575469</td>\n",
              "      <td>descriptionadministrative</td>\n",
              "      <td>0.631626</td>\n",
              "      <td>clients</td>\n",
              "      <td>0.631586</td>\n",
              "      <td>organisation</td>\n",
              "      <td>0.626861</td>\n",
              "    </tr>\n",
              "    <tr>\n",
              "      <th>2</th>\n",
              "      <td>their</td>\n",
              "      <td>0.526456</td>\n",
              "      <td>analystlocation</td>\n",
              "      <td>0.608782</td>\n",
              "      <td>teamconsumer</td>\n",
              "      <td>0.562217</td>\n",
              "      <td>firm</td>\n",
              "      <td>0.524735</td>\n",
              "    </tr>\n",
              "    <tr>\n",
              "      <th>3</th>\n",
              "      <td>cargobarn</td>\n",
              "      <td>0.469371</td>\n",
              "      <td>shoreland</td>\n",
              "      <td>0.607702</td>\n",
              "      <td>customersplan</td>\n",
              "      <td>0.558160</td>\n",
              "      <td>agency</td>\n",
              "      <td>0.511640</td>\n",
              "    </tr>\n",
              "    <tr>\n",
              "      <th>4</th>\n",
              "      <td>reactivationpartnering</td>\n",
              "      <td>0.440518</td>\n",
              "      <td>summary</td>\n",
              "      <td>0.577561</td>\n",
              "      <td>customers</td>\n",
              "      <td>0.507048</td>\n",
              "      <td>department</td>\n",
              "      <td>0.495721</td>\n",
              "    </tr>\n",
              "    <tr>\n",
              "      <th>5</th>\n",
              "      <td>testsyou</td>\n",
              "      <td>0.438143</td>\n",
              "      <td>jr</td>\n",
              "      <td>0.577309</td>\n",
              "      <td>membersplan</td>\n",
              "      <td>0.492424</td>\n",
              "      <td>startup</td>\n",
              "      <td>0.459227</td>\n",
              "    </tr>\n",
              "    <tr>\n",
              "      <th>6</th>\n",
              "      <td>success</td>\n",
              "      <td>0.424167</td>\n",
              "      <td>description</td>\n",
              "      <td>0.576535</td>\n",
              "      <td>strategic</td>\n",
              "      <td>0.492030</td>\n",
              "      <td>uk</td>\n",
              "      <td>0.459029</td>\n",
              "    </tr>\n",
              "    <tr>\n",
              "      <th>7</th>\n",
              "      <td>global</td>\n",
              "      <td>0.422468</td>\n",
              "      <td>escrow</td>\n",
              "      <td>0.561300</td>\n",
              "      <td>partner</td>\n",
              "      <td>0.480728</td>\n",
              "      <td>industry</td>\n",
              "      <td>0.421131</td>\n",
              "    </tr>\n",
              "    <tr>\n",
              "      <th>8</th>\n",
              "      <td>resultsinteracting</td>\n",
              "      <td>0.419508</td>\n",
              "      <td>paralegal</td>\n",
              "      <td>0.558223</td>\n",
              "      <td>vendor</td>\n",
              "      <td>0.480097</td>\n",
              "      <td>group</td>\n",
              "      <td>0.419480</td>\n",
              "    </tr>\n",
              "    <tr>\n",
              "      <th>9</th>\n",
              "      <td>cleanweb</td>\n",
              "      <td>0.402541</td>\n",
              "      <td>―</td>\n",
              "      <td>0.552016</td>\n",
              "      <td>employee</td>\n",
              "      <td>0.475023</td>\n",
              "      <td>csm</td>\n",
              "      <td>0.414177</td>\n",
              "    </tr>\n",
              "  </tbody>\n",
              "</table>\n",
              "</div>\n",
              "      <button class=\"colab-df-convert\" onclick=\"convertToInteractive('df-23179f51-10e4-4dc2-aaf1-5a71d4150fdd')\"\n",
              "              title=\"Convert this dataframe to an interactive table.\"\n",
              "              style=\"display:none;\">\n",
              "        \n",
              "  <svg xmlns=\"http://www.w3.org/2000/svg\" height=\"24px\"viewBox=\"0 0 24 24\"\n",
              "       width=\"24px\">\n",
              "    <path d=\"M0 0h24v24H0V0z\" fill=\"none\"/>\n",
              "    <path d=\"M18.56 5.44l.94 2.06.94-2.06 2.06-.94-2.06-.94-.94-2.06-.94 2.06-2.06.94zm-11 1L8.5 8.5l.94-2.06 2.06-.94-2.06-.94L8.5 2.5l-.94 2.06-2.06.94zm10 10l.94 2.06.94-2.06 2.06-.94-2.06-.94-.94-2.06-.94 2.06-2.06.94z\"/><path d=\"M17.41 7.96l-1.37-1.37c-.4-.4-.92-.59-1.43-.59-.52 0-1.04.2-1.43.59L10.3 9.45l-7.72 7.72c-.78.78-.78 2.05 0 2.83L4 21.41c.39.39.9.59 1.41.59.51 0 1.02-.2 1.41-.59l7.78-7.78 2.81-2.81c.8-.78.8-2.07 0-2.86zM5.41 20L4 18.59l7.72-7.72 1.47 1.35L5.41 20z\"/>\n",
              "  </svg>\n",
              "      </button>\n",
              "      \n",
              "  <style>\n",
              "    .colab-df-container {\n",
              "      display:flex;\n",
              "      flex-wrap:wrap;\n",
              "      gap: 12px;\n",
              "    }\n",
              "\n",
              "    .colab-df-convert {\n",
              "      background-color: #E8F0FE;\n",
              "      border: none;\n",
              "      border-radius: 50%;\n",
              "      cursor: pointer;\n",
              "      display: none;\n",
              "      fill: #1967D2;\n",
              "      height: 32px;\n",
              "      padding: 0 0 0 0;\n",
              "      width: 32px;\n",
              "    }\n",
              "\n",
              "    .colab-df-convert:hover {\n",
              "      background-color: #E2EBFA;\n",
              "      box-shadow: 0px 1px 2px rgba(60, 64, 67, 0.3), 0px 1px 3px 1px rgba(60, 64, 67, 0.15);\n",
              "      fill: #174EA6;\n",
              "    }\n",
              "\n",
              "    [theme=dark] .colab-df-convert {\n",
              "      background-color: #3B4455;\n",
              "      fill: #D2E3FC;\n",
              "    }\n",
              "\n",
              "    [theme=dark] .colab-df-convert:hover {\n",
              "      background-color: #434B5C;\n",
              "      box-shadow: 0px 1px 3px 1px rgba(0, 0, 0, 0.15);\n",
              "      filter: drop-shadow(0px 1px 2px rgba(0, 0, 0, 0.3));\n",
              "      fill: #FFFFFF;\n",
              "    }\n",
              "  </style>\n",
              "\n",
              "      <script>\n",
              "        const buttonEl =\n",
              "          document.querySelector('#df-23179f51-10e4-4dc2-aaf1-5a71d4150fdd button.colab-df-convert');\n",
              "        buttonEl.style.display =\n",
              "          google.colab.kernel.accessAllowed ? 'block' : 'none';\n",
              "\n",
              "        async function convertToInteractive(key) {\n",
              "          const element = document.querySelector('#df-23179f51-10e4-4dc2-aaf1-5a71d4150fdd');\n",
              "          const dataTable =\n",
              "            await google.colab.kernel.invokeFunction('convertToInteractive',\n",
              "                                                     [key], {});\n",
              "          if (!dataTable) return;\n",
              "\n",
              "          const docLinkHtml = 'Like what you see? Visit the ' +\n",
              "            '<a target=\"_blank\" href=https://colab.research.google.com/notebooks/data_table.ipynb>data table notebook</a>'\n",
              "            + ' to learn more about interactive tables.';\n",
              "          element.innerHTML = '';\n",
              "          dataTable['output_type'] = 'display_data';\n",
              "          await google.colab.output.renderOutput(dataTable, element);\n",
              "          const docLink = document.createElement('div');\n",
              "          docLink.innerHTML = docLinkHtml;\n",
              "          element.appendChild(docLink);\n",
              "        }\n",
              "      </script>\n",
              "    </div>\n",
              "  </div>\n",
              "  "
            ]
          },
          "metadata": {},
          "execution_count": 38
        }
      ],
      "source": [
        "most_similar(w2v_model,['our','title','client','company'])"
      ]
    },
    {
      "cell_type": "markdown",
      "metadata": {
        "id": "xfQKHgMp77ke"
      },
      "source": [
        "#### create embedding_vectors"
      ]
    },
    {
      "cell_type": "code",
      "execution_count": 39,
      "metadata": {
        "id": "S6g-8dSwpMdx"
      },
      "outputs": [],
      "source": [
        "# Function to create weight matrix from word2vec gensim model\n",
        "def get_weight_matrix(model, vocab):\n",
        "    # total vocabulary size plus 0 for unknown words\n",
        "    vocab_size = len(vocab) + 1\n",
        "    # define weight matrix dimensions with all 0\n",
        "    weight_matrix = np.zeros((vocab_size, EMBEDDING_DIM))\n",
        "    # step vocab, store vectors using the Tokenizer's integer mapping\n",
        "    for word, i in vocab.items():\n",
        "        weight_matrix[i] = model.wv[word]\n",
        "    return weight_matrix"
      ]
    },
    {
      "cell_type": "code",
      "execution_count": 40,
      "metadata": {
        "colab": {
          "base_uri": "https://localhost:8080/"
        },
        "id": "qKf5oMMgpjxb",
        "outputId": "4c51cbda-2532-4419-9355-553e378be20d"
      },
      "outputs": [
        {
          "output_type": "stream",
          "name": "stdout",
          "text": [
            "<class 'dict'>\n",
            "15409\n"
          ]
        }
      ],
      "source": [
        "print(type(word_index))\n",
        "print(word_index[\"reproducing\"])"
      ]
    },
    {
      "cell_type": "code",
      "execution_count": 41,
      "metadata": {
        "id": "vdqUrGHKpOaa"
      },
      "outputs": [],
      "source": [
        "#Getting embedding vectors from word2vec and usings it as weights of non-trainable keras embedding layer\n",
        "embedding_vectors = get_weight_matrix(w2v_model, word_index)"
      ]
    },
    {
      "cell_type": "code",
      "execution_count": 42,
      "metadata": {
        "colab": {
          "base_uri": "https://localhost:8080/"
        },
        "id": "QRPVMZUcooGP",
        "outputId": "17e215dc-474f-4f25-9466-ba79e85b7e87"
      },
      "outputs": [
        {
          "output_type": "execute_result",
          "data": {
            "text/plain": [
              "array([ 1.1093884 ,  0.92519796, -0.7353275 , -0.7073498 , -1.3840168 ,\n",
              "        0.51579756,  0.17734994, -1.3891793 , -0.06611987,  0.8886675 ,\n",
              "       -0.53825825, -0.52612054,  1.0277138 ,  1.8273603 ,  1.3067213 ,\n",
              "       -1.1652528 ,  1.0488411 ,  1.0230304 ,  0.7986655 ,  0.7438682 ,\n",
              "        0.17770427, -1.1002121 , -0.9038848 , -0.19892673,  0.6156057 ,\n",
              "        0.6356144 , -0.46962327, -0.18428124,  0.15815845, -0.10241646,\n",
              "        2.9565368 ,  0.07031235, -0.81419283, -1.2041827 , -1.1232411 ,\n",
              "        0.34675652, -0.07988142,  1.3514696 ,  0.11408135,  0.6743372 ,\n",
              "        1.8243078 , -0.65693194, -1.0702657 ,  0.8004537 ,  1.1839561 ,\n",
              "       -0.5220152 ,  0.6987609 , -0.612823  , -0.44561833, -0.49618235,\n",
              "       -0.48599806,  0.7307539 ,  0.5528368 , -0.93728465,  0.1997045 ,\n",
              "        1.5242621 ,  2.4989257 ,  0.23858106,  0.29177734,  0.8033563 ,\n",
              "       -0.12028384, -1.0350748 , -0.15074453, -0.8519465 ,  1.2636303 ,\n",
              "        0.20200518, -0.40440446, -0.24812585,  0.9848704 ,  0.26746762,\n",
              "        2.1273472 ,  0.3652984 ,  0.6684529 , -0.9322324 ,  0.581935  ,\n",
              "       -0.5104699 , -0.8620387 , -0.06435682, -0.9892307 ,  0.88499814,\n",
              "        0.52471846,  0.22145915, -0.7118506 ,  0.4300239 ,  0.7422194 ,\n",
              "       -0.36004043, -1.0145965 ,  0.8785093 ,  0.05617242,  0.92842835,\n",
              "       -0.22866066,  0.5682152 , -1.2191311 ,  0.08185615,  1.5254725 ,\n",
              "       -1.03916   ,  1.1234447 , -0.17669503, -0.39390326,  0.6454685 ],\n",
              "      dtype=float32)"
            ]
          },
          "metadata": {},
          "execution_count": 42
        }
      ],
      "source": [
        "w2v_model.wv['and']"
      ]
    },
    {
      "cell_type": "code",
      "execution_count": 43,
      "metadata": {
        "colab": {
          "base_uri": "https://localhost:8080/"
        },
        "id": "XVEbzMhZnaey",
        "outputId": "ee4d5892-9652-4376-976e-7942f7950fe9"
      },
      "outputs": [
        {
          "output_type": "execute_result",
          "data": {
            "text/plain": [
              "array([ 1.10938835,  0.92519796, -0.73532748, -0.70734978, -1.38401675,\n",
              "        0.51579756,  0.17734994, -1.38917935, -0.06611987,  0.88866752,\n",
              "       -0.53825825, -0.52612054,  1.02771378,  1.82736027,  1.30672133,\n",
              "       -1.1652528 ,  1.04884112,  1.0230304 ,  0.79866552,  0.74386817,\n",
              "        0.17770427, -1.1002121 , -0.90388483, -0.19892673,  0.61560571,\n",
              "        0.6356144 , -0.46962327, -0.18428124,  0.15815845, -0.10241646,\n",
              "        2.95653677,  0.07031235, -0.81419283, -1.20418274, -1.12324107,\n",
              "        0.34675652, -0.07988142,  1.35146964,  0.11408135,  0.67433721,\n",
              "        1.8243078 , -0.65693194, -1.07026565,  0.80045372,  1.18395615,\n",
              "       -0.52201521,  0.69876093, -0.61282301, -0.44561833, -0.49618235,\n",
              "       -0.48599806,  0.7307539 ,  0.55283678, -0.93728465,  0.1997045 ,\n",
              "        1.52426207,  2.49892569,  0.23858106,  0.29177734,  0.80335629,\n",
              "       -0.12028384, -1.03507483, -0.15074453, -0.85194647,  1.26363027,\n",
              "        0.20200518, -0.40440446, -0.24812585,  0.98487037,  0.26746762,\n",
              "        2.12734723,  0.36529839,  0.66845292, -0.93223238,  0.58193499,\n",
              "       -0.51046991, -0.86203867, -0.06435682, -0.98923069,  0.88499814,\n",
              "        0.52471846,  0.22145915, -0.71185058,  0.43002391,  0.74221939,\n",
              "       -0.36004043, -1.01459646,  0.87850928,  0.05617242,  0.92842835,\n",
              "       -0.22866066,  0.56821519, -1.21913111,  0.08185615,  1.52547252,\n",
              "       -1.03916001,  1.12344468, -0.17669503, -0.39390326,  0.64546847])"
            ]
          },
          "metadata": {},
          "execution_count": 43
        }
      ],
      "source": [
        "embedding_vectors[1][:100]"
      ]
    },
    {
      "cell_type": "code",
      "execution_count": 44,
      "metadata": {
        "colab": {
          "base_uri": "https://localhost:8080/"
        },
        "id": "h7uUZzyH2CQT",
        "outputId": "bf4b8703-fa07-4622-ca47-83d70ca7ac3c"
      },
      "outputs": [
        {
          "output_type": "execute_result",
          "data": {
            "text/plain": [
              "100"
            ]
          },
          "metadata": {},
          "execution_count": 44
        }
      ],
      "source": [
        "embedding_vectors[1].size"
      ]
    },
    {
      "cell_type": "markdown",
      "source": [
        "#### RNN"
      ],
      "metadata": {
        "id": "pktaHMlXJ89U"
      }
    },
    {
      "cell_type": "code",
      "source": [
        "#Defining Neural Network\n",
        "model = Sequential()\n",
        "#Non-trainable embeddidng layer\n",
        "model.add(Embedding(vocab_size, output_dim=EMBEDDING_DIM, weights=[embedding_vectors], input_length=maxlen, trainable=False))\n",
        "#RNN\n",
        "model.add(SimpleRNN(units=128))\n",
        "model.add(Dense(1, activation='sigmoid'))\n",
        "model.compile(optimizer='adam', loss='binary_crossentropy', metrics=['acc'])\n"
      ],
      "metadata": {
        "id": "_7zS2KviKqtn"
      },
      "execution_count": 54,
      "outputs": []
    },
    {
      "cell_type": "code",
      "source": [
        "model.fit(X_train, y_train, validation_split=0.3, epochs=6)"
      ],
      "metadata": {
        "colab": {
          "base_uri": "https://localhost:8080/"
        },
        "id": "xknNc6aaK061",
        "outputId": "72728aff-c981-4aab-faa0-f72edd8005fb"
      },
      "execution_count": 55,
      "outputs": [
        {
          "output_type": "stream",
          "name": "stdout",
          "text": [
            "Epoch 1/6\n",
            "559/559 [==============================] - 306s 546ms/step - loss: 0.3461 - acc: 0.8475 - val_loss: 0.3048 - val_acc: 0.8770\n",
            "Epoch 2/6\n",
            "559/559 [==============================] - 297s 531ms/step - loss: 0.1293 - acc: 0.9562 - val_loss: 0.0986 - val_acc: 0.9751\n",
            "Epoch 3/6\n",
            "559/559 [==============================] - 293s 525ms/step - loss: 0.0550 - acc: 0.9842 - val_loss: 0.0307 - val_acc: 0.9952\n",
            "Epoch 4/6\n",
            "559/559 [==============================] - 293s 525ms/step - loss: 0.1264 - acc: 0.9631 - val_loss: 0.4338 - val_acc: 0.8158\n",
            "Epoch 5/6\n",
            "559/559 [==============================] - 296s 529ms/step - loss: 0.0909 - acc: 0.9713 - val_loss: 0.0713 - val_acc: 0.9847\n",
            "Epoch 6/6\n",
            "559/559 [==============================] - 300s 538ms/step - loss: 0.0251 - acc: 0.9948 - val_loss: 0.0382 - val_acc: 0.9909\n"
          ]
        },
        {
          "output_type": "execute_result",
          "data": {
            "text/plain": [
              "<keras.callbacks.History at 0x7fd826424190>"
            ]
          },
          "metadata": {},
          "execution_count": 55
        }
      ]
    },
    {
      "cell_type": "code",
      "source": [
        "y_pred = (model.predict(X_test) >= 0.5).astype(\"int\")"
      ],
      "metadata": {
        "colab": {
          "base_uri": "https://localhost:8080/"
        },
        "id": "Y8ZxEO0wSB9A",
        "outputId": "09de6bcd-b4b0-4375-f3ce-0fc02b14bee2"
      },
      "execution_count": 56,
      "outputs": [
        {
          "output_type": "stream",
          "name": "stdout",
          "text": [
            "140/140 [==============================] - 12s 87ms/step\n"
          ]
        }
      ]
    },
    {
      "cell_type": "code",
      "source": [
        "print(classification_report(y_test, y_pred))"
      ],
      "metadata": {
        "colab": {
          "base_uri": "https://localhost:8080/"
        },
        "id": "IuRoJBOCSEBn",
        "outputId": "b51412e6-d38e-4aac-de82-f0313edd407c"
      },
      "execution_count": 57,
      "outputs": [
        {
          "output_type": "stream",
          "name": "stdout",
          "text": [
            "              precision    recall  f1-score   support\n",
            "\n",
            "           0       0.98      0.98      0.98      4254\n",
            "           1       0.68      0.62      0.65       216\n",
            "\n",
            "    accuracy                           0.97      4470\n",
            "   macro avg       0.83      0.80      0.82      4470\n",
            "weighted avg       0.97      0.97      0.97      4470\n",
            "\n"
          ]
        }
      ]
    },
    {
      "cell_type": "markdown",
      "metadata": {
        "id": "g8Rnmk4b8Uj-"
      },
      "source": [
        "#### LSTM model"
      ]
    },
    {
      "cell_type": "code",
      "execution_count": 45,
      "metadata": {
        "id": "ybHc2FaQx72k"
      },
      "outputs": [],
      "source": [
        "#Defining Neural Network\n",
        "model = Sequential()\n",
        "#Non-trainable embeddidng layer\n",
        "model.add(Embedding(vocab_size, output_dim=EMBEDDING_DIM, weights=[embedding_vectors], input_length=maxlen, trainable=False))\n",
        "#LSTM \n",
        "model.add(LSTM(units=128))\n",
        "model.add(Dense(1, activation='sigmoid'))\n",
        "model.compile(optimizer='adam', loss='binary_crossentropy', metrics=['acc'])\n"
      ]
    },
    {
      "cell_type": "code",
      "execution_count": 46,
      "metadata": {
        "colab": {
          "base_uri": "https://localhost:8080/"
        },
        "id": "XQjZIk2iyFJA",
        "outputId": "20245418-1a88-4e7a-fe3a-e102452ecadc"
      },
      "outputs": [
        {
          "output_type": "stream",
          "name": "stdout",
          "text": [
            "Model: \"sequential\"\n",
            "_________________________________________________________________\n",
            " Layer (type)                Output Shape              Param #   \n",
            "=================================================================\n",
            " embedding (Embedding)       (None, 700, 100)          6429900   \n",
            "                                                                 \n",
            " lstm (LSTM)                 (None, 128)               117248    \n",
            "                                                                 \n",
            " dense (Dense)               (None, 1)                 129       \n",
            "                                                                 \n",
            "=================================================================\n",
            "Total params: 6,547,277\n",
            "Trainable params: 117,377\n",
            "Non-trainable params: 6,429,900\n",
            "_________________________________________________________________\n"
          ]
        }
      ],
      "source": [
        "model.summary()"
      ]
    },
    {
      "cell_type": "code",
      "execution_count": 47,
      "metadata": {
        "colab": {
          "base_uri": "https://localhost:8080/"
        },
        "id": "uBAjmlXByXMF",
        "outputId": "efbb08c3-700a-46c1-b357-07d2b33b2615"
      },
      "outputs": [
        {
          "output_type": "stream",
          "name": "stdout",
          "text": [
            "Epoch 1/6\n",
            "559/559 [==============================] - 31s 43ms/step - loss: 0.2816 - acc: 0.8774 - val_loss: 0.2646 - val_acc: 0.8956\n",
            "Epoch 2/6\n",
            "559/559 [==============================] - 24s 43ms/step - loss: 0.1255 - acc: 0.9619 - val_loss: 0.1210 - val_acc: 0.9667\n",
            "Epoch 3/6\n",
            "559/559 [==============================] - 24s 43ms/step - loss: 0.0350 - acc: 0.9899 - val_loss: 0.0255 - val_acc: 0.9966\n",
            "Epoch 4/6\n",
            "559/559 [==============================] - 24s 43ms/step - loss: 0.0356 - acc: 0.9897 - val_loss: 0.1731 - val_acc: 0.9421\n",
            "Epoch 5/6\n",
            "559/559 [==============================] - 24s 43ms/step - loss: 0.0232 - acc: 0.9922 - val_loss: 0.0180 - val_acc: 0.9939\n",
            "Epoch 6/6\n",
            "559/559 [==============================] - 24s 43ms/step - loss: 0.0098 - acc: 0.9973 - val_loss: 0.0166 - val_acc: 0.9946\n"
          ]
        },
        {
          "output_type": "execute_result",
          "data": {
            "text/plain": [
              "<keras.callbacks.History at 0x7fd8264c4100>"
            ]
          },
          "metadata": {},
          "execution_count": 47
        }
      ],
      "source": [
        "model.fit(X_train, y_train, validation_split=0.3, epochs=6)"
      ]
    },
    {
      "cell_type": "code",
      "execution_count": 48,
      "metadata": {
        "colab": {
          "base_uri": "https://localhost:8080/"
        },
        "id": "wENCZWEXysix",
        "outputId": "3551375e-324d-4683-bdaa-f580b23460ee"
      },
      "outputs": [
        {
          "output_type": "stream",
          "name": "stdout",
          "text": [
            "140/140 [==============================] - 3s 16ms/step\n"
          ]
        }
      ],
      "source": [
        "y_pred = (model.predict(X_test) >= 0.5).astype(\"int\")"
      ]
    },
    {
      "cell_type": "code",
      "execution_count": 49,
      "metadata": {
        "colab": {
          "base_uri": "https://localhost:8080/"
        },
        "id": "nFZW7M7kyuUM",
        "outputId": "0dc43027-1eb8-46dc-cf3d-454e268233f5"
      },
      "outputs": [
        {
          "output_type": "stream",
          "name": "stdout",
          "text": [
            "              precision    recall  f1-score   support\n",
            "\n",
            "           0       0.98      0.99      0.99      4254\n",
            "           1       0.84      0.66      0.74       216\n",
            "\n",
            "    accuracy                           0.98      4470\n",
            "   macro avg       0.91      0.83      0.86      4470\n",
            "weighted avg       0.98      0.98      0.98      4470\n",
            "\n"
          ]
        }
      ],
      "source": [
        "print(classification_report(y_test, y_pred))"
      ]
    }
  ],
  "metadata": {
    "accelerator": "GPU",
    "colab": {
      "provenance": [],
      "include_colab_link": true
    },
    "gpuClass": "standard",
    "kernelspec": {
      "display_name": "Python 3.10.7 64-bit",
      "language": "python",
      "name": "python3"
    },
    "language_info": {
      "codemirror_mode": {
        "name": "ipython",
        "version": 3
      },
      "file_extension": ".py",
      "mimetype": "text/x-python",
      "name": "python",
      "nbconvert_exporter": "python",
      "pygments_lexer": "ipython3",
      "version": "3.10.7"
    },
    "vscode": {
      "interpreter": {
        "hash": "2a8dfe095fce2b5e88c64a2c3ee084c8e0e0d70b23e7b95b1cfb538be294c5c8"
      }
    }
  },
  "nbformat": 4,
  "nbformat_minor": 0
}