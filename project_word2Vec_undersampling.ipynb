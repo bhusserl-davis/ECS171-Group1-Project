{
  "cells": [
    {
      "cell_type": "markdown",
      "metadata": {
        "id": "view-in-github",
        "colab_type": "text"
      },
      "source": [
        "<a href=\"https://colab.research.google.com/github/bhusserl-davis/ECS171-Group1-Project/blob/main/project_word2Vec_undersampling.ipynb\" target=\"_parent\"><img src=\"https://colab.research.google.com/assets/colab-badge.svg\" alt=\"Open In Colab\"/></a>"
      ]
    },
    {
      "cell_type": "markdown",
      "metadata": {
        "id": "gntRQBTvsH61"
      },
      "source": [
        "## Imports"
      ]
    },
    {
      "cell_type": "code",
      "execution_count": 1,
      "metadata": {
        "id": "mkDI0UoFsH6_",
        "outputId": "a1cbd859-a0dc-47d8-dc6d-820f84f2cd93",
        "colab": {
          "base_uri": "https://localhost:8080/"
        }
      },
      "outputs": [
        {
          "output_type": "stream",
          "name": "stdout",
          "text": [
            "  Building wheel for sklearn (setup.py) ... \u001b[?25l\u001b[?25hdone\n",
            "\u001b[K     |████████████████████████████████| 371 kB 14.6 MB/s \n",
            "\u001b[K     |████████████████████████████████| 24.2 MB 1.3 MB/s \n",
            "\u001b[?25h"
          ]
        }
      ],
      "source": [
        "# Download Needed Packages\n",
        "import sys\n",
        "!{sys.executable} -m pip install -q pandas\n",
        "!{sys.executable} -m pip install -q nltk\n",
        "!{sys.executable} -m pip install -q sklearn\n",
        "!{sys.executable} -m pip install -q wordcloud==1.8.1\n",
        "!{sys.executable} -m pip install -q gensim==3.8.3\n",
        "!{sys.executable} -m pip install -q keras\n",
        "!{sys.executable} -m pip install -q numpy\n",
        "!{sys.executable} -m pip install -q matplotlib"
      ]
    },
    {
      "cell_type": "code",
      "execution_count": 2,
      "metadata": {
        "id": "XUBwYzkusH7D"
      },
      "outputs": [],
      "source": [
        "# Import needed libraries and download needed data\n",
        "import string\n",
        "import pandas as pd\n",
        "import nltk\n",
        "nltk.download('stopwords', quiet=True)\n",
        "from nltk.corpus import stopwords\n",
        "nltk.download('punkt', quiet=True)\n",
        "from nltk.tokenize import word_tokenize\n",
        "from sklearn.metrics import classification_report\n",
        "from sklearn.model_selection import train_test_split\n",
        "from wordcloud import WordCloud"
      ]
    },
    {
      "cell_type": "markdown",
      "metadata": {
        "id": "duXaTruMsH7F"
      },
      "source": [
        "## Data Exploration"
      ]
    },
    {
      "cell_type": "code",
      "execution_count": 3,
      "metadata": {
        "colab": {
          "base_uri": "https://localhost:8080/",
          "height": 617
        },
        "id": "8RVGvjx5sH7G",
        "outputId": "697a5fae-200d-4aa9-eb07-5e2892fe2730"
      },
      "outputs": [
        {
          "output_type": "stream",
          "name": "stdout",
          "text": [
            "17880 observations, 18 features\n"
          ]
        },
        {
          "output_type": "display_data",
          "data": {
            "text/plain": [
              "   job_id                                      title            location  \\\n",
              "0       1                           Marketing Intern    US, NY, New York   \n",
              "1       2  Customer Service - Cloud Video Production      NZ, , Auckland   \n",
              "2       3    Commissioning Machinery Assistant (CMA)       US, IA, Wever   \n",
              "3       4          Account Executive - Washington DC  US, DC, Washington   \n",
              "4       5                        Bill Review Manager  US, FL, Fort Worth   \n",
              "\n",
              "  department salary_range                                    company_profile  \\\n",
              "0  Marketing          NaN  We're Food52, and we've created a groundbreaki...   \n",
              "1    Success          NaN  90 Seconds, the worlds Cloud Video Production ...   \n",
              "2        NaN          NaN  Valor Services provides Workforce Solutions th...   \n",
              "3      Sales          NaN  Our passion for improving quality of life thro...   \n",
              "4        NaN          NaN  SpotSource Solutions LLC is a Global Human Cap...   \n",
              "\n",
              "                                         description  \\\n",
              "0  Food52, a fast-growing, James Beard Award-winn...   \n",
              "1  Organised - Focused - Vibrant - Awesome!Do you...   \n",
              "2  Our client, located in Houston, is actively se...   \n",
              "3  THE COMPANY: ESRI – Environmental Systems Rese...   \n",
              "4  JOB TITLE: Itemization Review ManagerLOCATION:...   \n",
              "\n",
              "                                        requirements  \\\n",
              "0  Experience with content management systems a m...   \n",
              "1  What we expect from you:Your key responsibilit...   \n",
              "2  Implement pre-commissioning and commissioning ...   \n",
              "3  EDUCATION: Bachelor’s or Master’s in GIS, busi...   \n",
              "4  QUALIFICATIONS:RN license in the State of Texa...   \n",
              "\n",
              "                                            benefits  telecommuting  \\\n",
              "0                                                NaN              0   \n",
              "1  What you will get from usThrough being part of...              0   \n",
              "2                                                NaN              0   \n",
              "3  Our culture is anything but corporate—we have ...              0   \n",
              "4                              Full Benefits Offered              0   \n",
              "\n",
              "   has_company_logo  has_questions employment_type required_experience  \\\n",
              "0                 1              0           Other          Internship   \n",
              "1                 1              0       Full-time      Not Applicable   \n",
              "2                 1              0             NaN                 NaN   \n",
              "3                 1              0       Full-time    Mid-Senior level   \n",
              "4                 1              1       Full-time    Mid-Senior level   \n",
              "\n",
              "  required_education                   industry              function  \\\n",
              "0                NaN                        NaN             Marketing   \n",
              "1                NaN  Marketing and Advertising      Customer Service   \n",
              "2                NaN                        NaN                   NaN   \n",
              "3  Bachelor's Degree          Computer Software                 Sales   \n",
              "4  Bachelor's Degree     Hospital & Health Care  Health Care Provider   \n",
              "\n",
              "   fraudulent  \n",
              "0           0  \n",
              "1           0  \n",
              "2           0  \n",
              "3           0  \n",
              "4           0  "
            ],
            "text/html": [
              "\n",
              "  <div id=\"df-a874f171-0c56-4f56-a975-dfc1b0867296\">\n",
              "    <div class=\"colab-df-container\">\n",
              "      <div>\n",
              "<style scoped>\n",
              "    .dataframe tbody tr th:only-of-type {\n",
              "        vertical-align: middle;\n",
              "    }\n",
              "\n",
              "    .dataframe tbody tr th {\n",
              "        vertical-align: top;\n",
              "    }\n",
              "\n",
              "    .dataframe thead th {\n",
              "        text-align: right;\n",
              "    }\n",
              "</style>\n",
              "<table border=\"1\" class=\"dataframe\">\n",
              "  <thead>\n",
              "    <tr style=\"text-align: right;\">\n",
              "      <th></th>\n",
              "      <th>job_id</th>\n",
              "      <th>title</th>\n",
              "      <th>location</th>\n",
              "      <th>department</th>\n",
              "      <th>salary_range</th>\n",
              "      <th>company_profile</th>\n",
              "      <th>description</th>\n",
              "      <th>requirements</th>\n",
              "      <th>benefits</th>\n",
              "      <th>telecommuting</th>\n",
              "      <th>has_company_logo</th>\n",
              "      <th>has_questions</th>\n",
              "      <th>employment_type</th>\n",
              "      <th>required_experience</th>\n",
              "      <th>required_education</th>\n",
              "      <th>industry</th>\n",
              "      <th>function</th>\n",
              "      <th>fraudulent</th>\n",
              "    </tr>\n",
              "  </thead>\n",
              "  <tbody>\n",
              "    <tr>\n",
              "      <th>0</th>\n",
              "      <td>1</td>\n",
              "      <td>Marketing Intern</td>\n",
              "      <td>US, NY, New York</td>\n",
              "      <td>Marketing</td>\n",
              "      <td>NaN</td>\n",
              "      <td>We're Food52, and we've created a groundbreaki...</td>\n",
              "      <td>Food52, a fast-growing, James Beard Award-winn...</td>\n",
              "      <td>Experience with content management systems a m...</td>\n",
              "      <td>NaN</td>\n",
              "      <td>0</td>\n",
              "      <td>1</td>\n",
              "      <td>0</td>\n",
              "      <td>Other</td>\n",
              "      <td>Internship</td>\n",
              "      <td>NaN</td>\n",
              "      <td>NaN</td>\n",
              "      <td>Marketing</td>\n",
              "      <td>0</td>\n",
              "    </tr>\n",
              "    <tr>\n",
              "      <th>1</th>\n",
              "      <td>2</td>\n",
              "      <td>Customer Service - Cloud Video Production</td>\n",
              "      <td>NZ, , Auckland</td>\n",
              "      <td>Success</td>\n",
              "      <td>NaN</td>\n",
              "      <td>90 Seconds, the worlds Cloud Video Production ...</td>\n",
              "      <td>Organised - Focused - Vibrant - Awesome!Do you...</td>\n",
              "      <td>What we expect from you:Your key responsibilit...</td>\n",
              "      <td>What you will get from usThrough being part of...</td>\n",
              "      <td>0</td>\n",
              "      <td>1</td>\n",
              "      <td>0</td>\n",
              "      <td>Full-time</td>\n",
              "      <td>Not Applicable</td>\n",
              "      <td>NaN</td>\n",
              "      <td>Marketing and Advertising</td>\n",
              "      <td>Customer Service</td>\n",
              "      <td>0</td>\n",
              "    </tr>\n",
              "    <tr>\n",
              "      <th>2</th>\n",
              "      <td>3</td>\n",
              "      <td>Commissioning Machinery Assistant (CMA)</td>\n",
              "      <td>US, IA, Wever</td>\n",
              "      <td>NaN</td>\n",
              "      <td>NaN</td>\n",
              "      <td>Valor Services provides Workforce Solutions th...</td>\n",
              "      <td>Our client, located in Houston, is actively se...</td>\n",
              "      <td>Implement pre-commissioning and commissioning ...</td>\n",
              "      <td>NaN</td>\n",
              "      <td>0</td>\n",
              "      <td>1</td>\n",
              "      <td>0</td>\n",
              "      <td>NaN</td>\n",
              "      <td>NaN</td>\n",
              "      <td>NaN</td>\n",
              "      <td>NaN</td>\n",
              "      <td>NaN</td>\n",
              "      <td>0</td>\n",
              "    </tr>\n",
              "    <tr>\n",
              "      <th>3</th>\n",
              "      <td>4</td>\n",
              "      <td>Account Executive - Washington DC</td>\n",
              "      <td>US, DC, Washington</td>\n",
              "      <td>Sales</td>\n",
              "      <td>NaN</td>\n",
              "      <td>Our passion for improving quality of life thro...</td>\n",
              "      <td>THE COMPANY: ESRI – Environmental Systems Rese...</td>\n",
              "      <td>EDUCATION: Bachelor’s or Master’s in GIS, busi...</td>\n",
              "      <td>Our culture is anything but corporate—we have ...</td>\n",
              "      <td>0</td>\n",
              "      <td>1</td>\n",
              "      <td>0</td>\n",
              "      <td>Full-time</td>\n",
              "      <td>Mid-Senior level</td>\n",
              "      <td>Bachelor's Degree</td>\n",
              "      <td>Computer Software</td>\n",
              "      <td>Sales</td>\n",
              "      <td>0</td>\n",
              "    </tr>\n",
              "    <tr>\n",
              "      <th>4</th>\n",
              "      <td>5</td>\n",
              "      <td>Bill Review Manager</td>\n",
              "      <td>US, FL, Fort Worth</td>\n",
              "      <td>NaN</td>\n",
              "      <td>NaN</td>\n",
              "      <td>SpotSource Solutions LLC is a Global Human Cap...</td>\n",
              "      <td>JOB TITLE: Itemization Review ManagerLOCATION:...</td>\n",
              "      <td>QUALIFICATIONS:RN license in the State of Texa...</td>\n",
              "      <td>Full Benefits Offered</td>\n",
              "      <td>0</td>\n",
              "      <td>1</td>\n",
              "      <td>1</td>\n",
              "      <td>Full-time</td>\n",
              "      <td>Mid-Senior level</td>\n",
              "      <td>Bachelor's Degree</td>\n",
              "      <td>Hospital &amp; Health Care</td>\n",
              "      <td>Health Care Provider</td>\n",
              "      <td>0</td>\n",
              "    </tr>\n",
              "  </tbody>\n",
              "</table>\n",
              "</div>\n",
              "      <button class=\"colab-df-convert\" onclick=\"convertToInteractive('df-a874f171-0c56-4f56-a975-dfc1b0867296')\"\n",
              "              title=\"Convert this dataframe to an interactive table.\"\n",
              "              style=\"display:none;\">\n",
              "        \n",
              "  <svg xmlns=\"http://www.w3.org/2000/svg\" height=\"24px\"viewBox=\"0 0 24 24\"\n",
              "       width=\"24px\">\n",
              "    <path d=\"M0 0h24v24H0V0z\" fill=\"none\"/>\n",
              "    <path d=\"M18.56 5.44l.94 2.06.94-2.06 2.06-.94-2.06-.94-.94-2.06-.94 2.06-2.06.94zm-11 1L8.5 8.5l.94-2.06 2.06-.94-2.06-.94L8.5 2.5l-.94 2.06-2.06.94zm10 10l.94 2.06.94-2.06 2.06-.94-2.06-.94-.94-2.06-.94 2.06-2.06.94z\"/><path d=\"M17.41 7.96l-1.37-1.37c-.4-.4-.92-.59-1.43-.59-.52 0-1.04.2-1.43.59L10.3 9.45l-7.72 7.72c-.78.78-.78 2.05 0 2.83L4 21.41c.39.39.9.59 1.41.59.51 0 1.02-.2 1.41-.59l7.78-7.78 2.81-2.81c.8-.78.8-2.07 0-2.86zM5.41 20L4 18.59l7.72-7.72 1.47 1.35L5.41 20z\"/>\n",
              "  </svg>\n",
              "      </button>\n",
              "      \n",
              "  <style>\n",
              "    .colab-df-container {\n",
              "      display:flex;\n",
              "      flex-wrap:wrap;\n",
              "      gap: 12px;\n",
              "    }\n",
              "\n",
              "    .colab-df-convert {\n",
              "      background-color: #E8F0FE;\n",
              "      border: none;\n",
              "      border-radius: 50%;\n",
              "      cursor: pointer;\n",
              "      display: none;\n",
              "      fill: #1967D2;\n",
              "      height: 32px;\n",
              "      padding: 0 0 0 0;\n",
              "      width: 32px;\n",
              "    }\n",
              "\n",
              "    .colab-df-convert:hover {\n",
              "      background-color: #E2EBFA;\n",
              "      box-shadow: 0px 1px 2px rgba(60, 64, 67, 0.3), 0px 1px 3px 1px rgba(60, 64, 67, 0.15);\n",
              "      fill: #174EA6;\n",
              "    }\n",
              "\n",
              "    [theme=dark] .colab-df-convert {\n",
              "      background-color: #3B4455;\n",
              "      fill: #D2E3FC;\n",
              "    }\n",
              "\n",
              "    [theme=dark] .colab-df-convert:hover {\n",
              "      background-color: #434B5C;\n",
              "      box-shadow: 0px 1px 3px 1px rgba(0, 0, 0, 0.15);\n",
              "      filter: drop-shadow(0px 1px 2px rgba(0, 0, 0, 0.3));\n",
              "      fill: #FFFFFF;\n",
              "    }\n",
              "  </style>\n",
              "\n",
              "      <script>\n",
              "        const buttonEl =\n",
              "          document.querySelector('#df-a874f171-0c56-4f56-a975-dfc1b0867296 button.colab-df-convert');\n",
              "        buttonEl.style.display =\n",
              "          google.colab.kernel.accessAllowed ? 'block' : 'none';\n",
              "\n",
              "        async function convertToInteractive(key) {\n",
              "          const element = document.querySelector('#df-a874f171-0c56-4f56-a975-dfc1b0867296');\n",
              "          const dataTable =\n",
              "            await google.colab.kernel.invokeFunction('convertToInteractive',\n",
              "                                                     [key], {});\n",
              "          if (!dataTable) return;\n",
              "\n",
              "          const docLinkHtml = 'Like what you see? Visit the ' +\n",
              "            '<a target=\"_blank\" href=https://colab.research.google.com/notebooks/data_table.ipynb>data table notebook</a>'\n",
              "            + ' to learn more about interactive tables.';\n",
              "          element.innerHTML = '';\n",
              "          dataTable['output_type'] = 'display_data';\n",
              "          await google.colab.output.renderOutput(dataTable, element);\n",
              "          const docLink = document.createElement('div');\n",
              "          docLink.innerHTML = docLinkHtml;\n",
              "          element.appendChild(docLink);\n",
              "        }\n",
              "      </script>\n",
              "    </div>\n",
              "  </div>\n",
              "  "
            ]
          },
          "metadata": {}
        }
      ],
      "source": [
        "# Import Data\n",
        "df = pd.read_csv(\"./fake_job_postings.csv\")\n",
        "print(f'{df.shape[0]} observations, {df.shape[1]} features')\n",
        "display(df.head(5))"
      ]
    },
    {
      "cell_type": "code",
      "execution_count": 4,
      "metadata": {
        "colab": {
          "base_uri": "https://localhost:8080/"
        },
        "id": "YyMeutk0grON",
        "outputId": "95aa20b3-0285-41cc-a0c5-4cfbf151374e"
      },
      "outputs": [
        {
          "output_type": "stream",
          "name": "stdout",
          "text": [
            "Column\t\t    NaNs   Type\n",
            "job_id              0      int64\n",
            "title               0      object\n",
            "location            346    object\n",
            "department          11547  object\n",
            "salary_range        15012  object\n",
            "company_profile     3308   object\n",
            "description         1      object\n",
            "requirements        2695   object\n",
            "benefits            7210   object\n",
            "telecommuting       0      int64\n",
            "has_company_logo    0      int64\n",
            "has_questions       0      int64\n",
            "employment_type     3471   object\n",
            "required_experience 7050   object\n",
            "required_education  8105   object\n",
            "industry            4903   object\n",
            "function            6455   object\n",
            "fraudulent          0      int64\n"
          ]
        }
      ],
      "source": [
        "# Print count of NaNs and type of each column\n",
        "print(\"Column\\t\\t    NaNs   Type\")\n",
        "for column in df.columns:\n",
        "    print(f'{column.ljust(20)}{str(df[column].isna().sum()).ljust(7)}{df[column].dtype}')"
      ]
    },
    {
      "cell_type": "markdown",
      "source": [
        "### replacesing NAN Value"
      ],
      "metadata": {
        "id": "0PM3n3jfESIj"
      }
    },
    {
      "cell_type": "code",
      "execution_count": 5,
      "metadata": {
        "colab": {
          "base_uri": "https://localhost:8080/"
        },
        "id": "VOXcRkmhgwrZ",
        "outputId": "62daedc6-a12d-4eaa-c668-dc942a20becf"
      },
      "outputs": [
        {
          "output_type": "stream",
          "name": "stdout",
          "text": [
            "Column\t\t       NaNs\n",
            "job_id                 0\n",
            "title                  0\n",
            "location               0\n",
            "department             0\n",
            "salary_range           0\n",
            "company_profile        0\n",
            "description            0\n",
            "requirements           0\n",
            "benefits               0\n",
            "telecommuting          0\n",
            "has_company_logo       0\n",
            "has_questions          0\n",
            "employment_type        0\n",
            "required_experience    0\n",
            "required_education     0\n",
            "industry               0\n",
            "function               0\n",
            "fraudulent             0\n",
            "dtype: int64\n"
          ]
        }
      ],
      "source": [
        "#Replacing NAN Values\n",
        "new_df = df.copy()\n",
        "NAN_Cols=[\n",
        "    \"location\",\"department\",\"salary_range\",\n",
        "    \"company_profile\",\"description\",\"requirements\",\n",
        "    \"benefits\",\"employment_type\",\"required_experience\",\n",
        "    \"required_experience\",\"required_education\",\"industry\",\"function\"\n",
        "]\n",
        "print(\"Column\\t\\t       NaNs\")\n",
        "for i in NAN_Cols:\n",
        "    new_df[i].fillna(\"\",inplace=True)\n",
        "print(new_df.isnull().sum())"
      ]
    },
    {
      "cell_type": "code",
      "execution_count": 6,
      "metadata": {
        "colab": {
          "base_uri": "https://localhost:8080/"
        },
        "id": "87mjUtgkg6ek",
        "outputId": "ecfa5b5a-bcd4-4973-a76d-c218d4b48aec"
      },
      "outputs": [
        {
          "output_type": "stream",
          "name": "stdout",
          "text": [
            "job_id: [    1     2     3 ... 17878 17879 17880]\n",
            "telecommuting: [0 1]\n",
            "has_company_logo: [1 0]\n",
            "has_questions: [0 1]\n",
            "fraudulent: [0 1]\n"
          ]
        }
      ],
      "source": [
        "# Get numeric columns unique values\n",
        "numeric_atts = ['job_id', 'telecommuting', 'has_company_logo', 'has_questions', 'fraudulent']\n",
        "for column in numeric_atts:\n",
        "    print(f'{column}: {new_df[column].unique()}')"
      ]
    },
    {
      "cell_type": "code",
      "execution_count": 7,
      "metadata": {
        "colab": {
          "base_uri": "https://localhost:8080/",
          "height": 600
        },
        "id": "7s618PyahBU2",
        "outputId": "bb582a30-da63-41ef-8c96-c1fc924d9793"
      },
      "outputs": [
        {
          "output_type": "execute_result",
          "data": {
            "text/plain": [
              "   job_id                                      title            location  \\\n",
              "0       1                           Marketing Intern    US, NY, New York   \n",
              "1       2  Customer Service - Cloud Video Production      NZ, , Auckland   \n",
              "2       3    Commissioning Machinery Assistant (CMA)       US, IA, Wever   \n",
              "3       4          Account Executive - Washington DC  US, DC, Washington   \n",
              "4       5                        Bill Review Manager  US, FL, Fort Worth   \n",
              "\n",
              "  department salary_range                                    company_profile  \\\n",
              "0  Marketing               We're Food52, and we've created a groundbreaki...   \n",
              "1    Success               90 Seconds, the worlds Cloud Video Production ...   \n",
              "2                          Valor Services provides Workforce Solutions th...   \n",
              "3      Sales               Our passion for improving quality of life thro...   \n",
              "4                          SpotSource Solutions LLC is a Global Human Cap...   \n",
              "\n",
              "                                         description  \\\n",
              "0  Food52, a fast-growing, James Beard Award-winn...   \n",
              "1  Organised - Focused - Vibrant - Awesome!Do you...   \n",
              "2  Our client, located in Houston, is actively se...   \n",
              "3  THE COMPANY: ESRI – Environmental Systems Rese...   \n",
              "4  JOB TITLE: Itemization Review ManagerLOCATION:...   \n",
              "\n",
              "                                        requirements  \\\n",
              "0  Experience with content management systems a m...   \n",
              "1  What we expect from you:Your key responsibilit...   \n",
              "2  Implement pre-commissioning and commissioning ...   \n",
              "3  EDUCATION: Bachelor’s or Master’s in GIS, busi...   \n",
              "4  QUALIFICATIONS:RN license in the State of Texa...   \n",
              "\n",
              "                                            benefits  telecommuting  \\\n",
              "0                                                                 0   \n",
              "1  What you will get from usThrough being part of...              0   \n",
              "2                                                                 0   \n",
              "3  Our culture is anything but corporate—we have ...              0   \n",
              "4                              Full Benefits Offered              0   \n",
              "\n",
              "   has_company_logo  has_questions employment_type required_experience  \\\n",
              "0                 1              0           Other          Internship   \n",
              "1                 1              0       Full-time      Not Applicable   \n",
              "2                 1              0                                       \n",
              "3                 1              0       Full-time    Mid-Senior level   \n",
              "4                 1              1       Full-time    Mid-Senior level   \n",
              "\n",
              "  required_education                   industry              function  \\\n",
              "0                                                           Marketing   \n",
              "1                     Marketing and Advertising      Customer Service   \n",
              "2                                                                       \n",
              "3  Bachelor's Degree          Computer Software                 Sales   \n",
              "4  Bachelor's Degree     Hospital & Health Care  Health Care Provider   \n",
              "\n",
              "   fraudulent  \n",
              "0           0  \n",
              "1           0  \n",
              "2           0  \n",
              "3           0  \n",
              "4           0  "
            ],
            "text/html": [
              "\n",
              "  <div id=\"df-04f1d2b5-f527-43ff-9c2b-50be17b36e5d\">\n",
              "    <div class=\"colab-df-container\">\n",
              "      <div>\n",
              "<style scoped>\n",
              "    .dataframe tbody tr th:only-of-type {\n",
              "        vertical-align: middle;\n",
              "    }\n",
              "\n",
              "    .dataframe tbody tr th {\n",
              "        vertical-align: top;\n",
              "    }\n",
              "\n",
              "    .dataframe thead th {\n",
              "        text-align: right;\n",
              "    }\n",
              "</style>\n",
              "<table border=\"1\" class=\"dataframe\">\n",
              "  <thead>\n",
              "    <tr style=\"text-align: right;\">\n",
              "      <th></th>\n",
              "      <th>job_id</th>\n",
              "      <th>title</th>\n",
              "      <th>location</th>\n",
              "      <th>department</th>\n",
              "      <th>salary_range</th>\n",
              "      <th>company_profile</th>\n",
              "      <th>description</th>\n",
              "      <th>requirements</th>\n",
              "      <th>benefits</th>\n",
              "      <th>telecommuting</th>\n",
              "      <th>has_company_logo</th>\n",
              "      <th>has_questions</th>\n",
              "      <th>employment_type</th>\n",
              "      <th>required_experience</th>\n",
              "      <th>required_education</th>\n",
              "      <th>industry</th>\n",
              "      <th>function</th>\n",
              "      <th>fraudulent</th>\n",
              "    </tr>\n",
              "  </thead>\n",
              "  <tbody>\n",
              "    <tr>\n",
              "      <th>0</th>\n",
              "      <td>1</td>\n",
              "      <td>Marketing Intern</td>\n",
              "      <td>US, NY, New York</td>\n",
              "      <td>Marketing</td>\n",
              "      <td></td>\n",
              "      <td>We're Food52, and we've created a groundbreaki...</td>\n",
              "      <td>Food52, a fast-growing, James Beard Award-winn...</td>\n",
              "      <td>Experience with content management systems a m...</td>\n",
              "      <td></td>\n",
              "      <td>0</td>\n",
              "      <td>1</td>\n",
              "      <td>0</td>\n",
              "      <td>Other</td>\n",
              "      <td>Internship</td>\n",
              "      <td></td>\n",
              "      <td></td>\n",
              "      <td>Marketing</td>\n",
              "      <td>0</td>\n",
              "    </tr>\n",
              "    <tr>\n",
              "      <th>1</th>\n",
              "      <td>2</td>\n",
              "      <td>Customer Service - Cloud Video Production</td>\n",
              "      <td>NZ, , Auckland</td>\n",
              "      <td>Success</td>\n",
              "      <td></td>\n",
              "      <td>90 Seconds, the worlds Cloud Video Production ...</td>\n",
              "      <td>Organised - Focused - Vibrant - Awesome!Do you...</td>\n",
              "      <td>What we expect from you:Your key responsibilit...</td>\n",
              "      <td>What you will get from usThrough being part of...</td>\n",
              "      <td>0</td>\n",
              "      <td>1</td>\n",
              "      <td>0</td>\n",
              "      <td>Full-time</td>\n",
              "      <td>Not Applicable</td>\n",
              "      <td></td>\n",
              "      <td>Marketing and Advertising</td>\n",
              "      <td>Customer Service</td>\n",
              "      <td>0</td>\n",
              "    </tr>\n",
              "    <tr>\n",
              "      <th>2</th>\n",
              "      <td>3</td>\n",
              "      <td>Commissioning Machinery Assistant (CMA)</td>\n",
              "      <td>US, IA, Wever</td>\n",
              "      <td></td>\n",
              "      <td></td>\n",
              "      <td>Valor Services provides Workforce Solutions th...</td>\n",
              "      <td>Our client, located in Houston, is actively se...</td>\n",
              "      <td>Implement pre-commissioning and commissioning ...</td>\n",
              "      <td></td>\n",
              "      <td>0</td>\n",
              "      <td>1</td>\n",
              "      <td>0</td>\n",
              "      <td></td>\n",
              "      <td></td>\n",
              "      <td></td>\n",
              "      <td></td>\n",
              "      <td></td>\n",
              "      <td>0</td>\n",
              "    </tr>\n",
              "    <tr>\n",
              "      <th>3</th>\n",
              "      <td>4</td>\n",
              "      <td>Account Executive - Washington DC</td>\n",
              "      <td>US, DC, Washington</td>\n",
              "      <td>Sales</td>\n",
              "      <td></td>\n",
              "      <td>Our passion for improving quality of life thro...</td>\n",
              "      <td>THE COMPANY: ESRI – Environmental Systems Rese...</td>\n",
              "      <td>EDUCATION: Bachelor’s or Master’s in GIS, busi...</td>\n",
              "      <td>Our culture is anything but corporate—we have ...</td>\n",
              "      <td>0</td>\n",
              "      <td>1</td>\n",
              "      <td>0</td>\n",
              "      <td>Full-time</td>\n",
              "      <td>Mid-Senior level</td>\n",
              "      <td>Bachelor's Degree</td>\n",
              "      <td>Computer Software</td>\n",
              "      <td>Sales</td>\n",
              "      <td>0</td>\n",
              "    </tr>\n",
              "    <tr>\n",
              "      <th>4</th>\n",
              "      <td>5</td>\n",
              "      <td>Bill Review Manager</td>\n",
              "      <td>US, FL, Fort Worth</td>\n",
              "      <td></td>\n",
              "      <td></td>\n",
              "      <td>SpotSource Solutions LLC is a Global Human Cap...</td>\n",
              "      <td>JOB TITLE: Itemization Review ManagerLOCATION:...</td>\n",
              "      <td>QUALIFICATIONS:RN license in the State of Texa...</td>\n",
              "      <td>Full Benefits Offered</td>\n",
              "      <td>0</td>\n",
              "      <td>1</td>\n",
              "      <td>1</td>\n",
              "      <td>Full-time</td>\n",
              "      <td>Mid-Senior level</td>\n",
              "      <td>Bachelor's Degree</td>\n",
              "      <td>Hospital &amp; Health Care</td>\n",
              "      <td>Health Care Provider</td>\n",
              "      <td>0</td>\n",
              "    </tr>\n",
              "  </tbody>\n",
              "</table>\n",
              "</div>\n",
              "      <button class=\"colab-df-convert\" onclick=\"convertToInteractive('df-04f1d2b5-f527-43ff-9c2b-50be17b36e5d')\"\n",
              "              title=\"Convert this dataframe to an interactive table.\"\n",
              "              style=\"display:none;\">\n",
              "        \n",
              "  <svg xmlns=\"http://www.w3.org/2000/svg\" height=\"24px\"viewBox=\"0 0 24 24\"\n",
              "       width=\"24px\">\n",
              "    <path d=\"M0 0h24v24H0V0z\" fill=\"none\"/>\n",
              "    <path d=\"M18.56 5.44l.94 2.06.94-2.06 2.06-.94-2.06-.94-.94-2.06-.94 2.06-2.06.94zm-11 1L8.5 8.5l.94-2.06 2.06-.94-2.06-.94L8.5 2.5l-.94 2.06-2.06.94zm10 10l.94 2.06.94-2.06 2.06-.94-2.06-.94-.94-2.06-.94 2.06-2.06.94z\"/><path d=\"M17.41 7.96l-1.37-1.37c-.4-.4-.92-.59-1.43-.59-.52 0-1.04.2-1.43.59L10.3 9.45l-7.72 7.72c-.78.78-.78 2.05 0 2.83L4 21.41c.39.39.9.59 1.41.59.51 0 1.02-.2 1.41-.59l7.78-7.78 2.81-2.81c.8-.78.8-2.07 0-2.86zM5.41 20L4 18.59l7.72-7.72 1.47 1.35L5.41 20z\"/>\n",
              "  </svg>\n",
              "      </button>\n",
              "      \n",
              "  <style>\n",
              "    .colab-df-container {\n",
              "      display:flex;\n",
              "      flex-wrap:wrap;\n",
              "      gap: 12px;\n",
              "    }\n",
              "\n",
              "    .colab-df-convert {\n",
              "      background-color: #E8F0FE;\n",
              "      border: none;\n",
              "      border-radius: 50%;\n",
              "      cursor: pointer;\n",
              "      display: none;\n",
              "      fill: #1967D2;\n",
              "      height: 32px;\n",
              "      padding: 0 0 0 0;\n",
              "      width: 32px;\n",
              "    }\n",
              "\n",
              "    .colab-df-convert:hover {\n",
              "      background-color: #E2EBFA;\n",
              "      box-shadow: 0px 1px 2px rgba(60, 64, 67, 0.3), 0px 1px 3px 1px rgba(60, 64, 67, 0.15);\n",
              "      fill: #174EA6;\n",
              "    }\n",
              "\n",
              "    [theme=dark] .colab-df-convert {\n",
              "      background-color: #3B4455;\n",
              "      fill: #D2E3FC;\n",
              "    }\n",
              "\n",
              "    [theme=dark] .colab-df-convert:hover {\n",
              "      background-color: #434B5C;\n",
              "      box-shadow: 0px 1px 3px 1px rgba(0, 0, 0, 0.15);\n",
              "      filter: drop-shadow(0px 1px 2px rgba(0, 0, 0, 0.3));\n",
              "      fill: #FFFFFF;\n",
              "    }\n",
              "  </style>\n",
              "\n",
              "      <script>\n",
              "        const buttonEl =\n",
              "          document.querySelector('#df-04f1d2b5-f527-43ff-9c2b-50be17b36e5d button.colab-df-convert');\n",
              "        buttonEl.style.display =\n",
              "          google.colab.kernel.accessAllowed ? 'block' : 'none';\n",
              "\n",
              "        async function convertToInteractive(key) {\n",
              "          const element = document.querySelector('#df-04f1d2b5-f527-43ff-9c2b-50be17b36e5d');\n",
              "          const dataTable =\n",
              "            await google.colab.kernel.invokeFunction('convertToInteractive',\n",
              "                                                     [key], {});\n",
              "          if (!dataTable) return;\n",
              "\n",
              "          const docLinkHtml = 'Like what you see? Visit the ' +\n",
              "            '<a target=\"_blank\" href=https://colab.research.google.com/notebooks/data_table.ipynb>data table notebook</a>'\n",
              "            + ' to learn more about interactive tables.';\n",
              "          element.innerHTML = '';\n",
              "          dataTable['output_type'] = 'display_data';\n",
              "          await google.colab.output.renderOutput(dataTable, element);\n",
              "          const docLink = document.createElement('div');\n",
              "          docLink.innerHTML = docLinkHtml;\n",
              "          element.appendChild(docLink);\n",
              "        }\n",
              "      </script>\n",
              "    </div>\n",
              "  </div>\n",
              "  "
            ]
          },
          "metadata": {},
          "execution_count": 7
        }
      ],
      "source": [
        "new_df[:5]"
      ]
    },
    {
      "cell_type": "code",
      "source": [
        "new_df['fraudulent'].value_counts().plot.bar()"
      ],
      "metadata": {
        "id": "B0bRggcWwnIe",
        "outputId": "157b1bec-15e6-4bf2-9626-b7e6d113efb4",
        "colab": {
          "base_uri": "https://localhost:8080/",
          "height": 279
        }
      },
      "execution_count": 8,
      "outputs": [
        {
          "output_type": "execute_result",
          "data": {
            "text/plain": [
              "<matplotlib.axes._subplots.AxesSubplot at 0x7ff04c50f6d0>"
            ]
          },
          "metadata": {},
          "execution_count": 8
        },
        {
          "output_type": "display_data",
          "data": {
            "text/plain": [
              "<Figure size 432x288 with 1 Axes>"
            ],
            "image/png": "[encoded data removed]"
          },
          "metadata": {
            "needs_background": "light"
          }
        }
      ]
    },
    {
      "cell_type": "markdown",
      "source": [
        "### remove NAN Value"
      ],
      "metadata": {
        "id": "A_91xfkSENkX"
      }
    },
    {
      "cell_type": "code",
      "source": [
        "new_df = df.copy()"
      ],
      "metadata": {
        "id": "Gg8O_Mr5EXhR"
      },
      "execution_count": 9,
      "outputs": []
    },
    {
      "cell_type": "code",
      "source": [
        "new_df=df.dropna()"
      ],
      "metadata": {
        "id": "6QG1DRXBEc-c"
      },
      "execution_count": 10,
      "outputs": []
    },
    {
      "cell_type": "code",
      "source": [
        "print(f'before drop {df.shape[0]},after drop {new_df.shape[0]} ')"
      ],
      "metadata": {
        "colab": {
          "base_uri": "https://localhost:8080/"
        },
        "id": "6BySs3i3E06G",
        "outputId": "9e098694-41bd-401a-d8c4-3ea695a8e68d"
      },
      "execution_count": 11,
      "outputs": [
        {
          "output_type": "stream",
          "name": "stdout",
          "text": [
            "before drop 17880,after drop 774 \n"
          ]
        }
      ]
    },
    {
      "cell_type": "code",
      "source": [
        "new_df['fraudulent'].value_counts().plot.bar()"
      ],
      "metadata": {
        "colab": {
          "base_uri": "https://localhost:8080/",
          "height": 279
        },
        "id": "CbwVws7dFDiW",
        "outputId": "1d08c507-7906-4dff-9094-9101e469f9b4"
      },
      "execution_count": 12,
      "outputs": [
        {
          "output_type": "execute_result",
          "data": {
            "text/plain": [
              "<matplotlib.axes._subplots.AxesSubplot at 0x7ff04c460370>"
            ]
          },
          "metadata": {},
          "execution_count": 12
        },
        {
          "output_type": "display_data",
          "data": {
            "text/plain": [
              "<Figure size 432x288 with 1 Axes>"
            ],
            "image/png": "[encoded data removed]"
          },
          "metadata": {
            "needs_background": "light"
          }
        }
      ]
    },
    {
      "cell_type": "code",
      "source": [
        "new_df[:10]"
      ],
      "metadata": {
        "colab": {
          "base_uri": "https://localhost:8080/",
          "height": 948
        },
        "id": "ZajWme5HF6GX",
        "outputId": "03524d51-fa26-4167-993c-9d24637d61b9"
      },
      "execution_count": 13,
      "outputs": [
        {
          "output_type": "execute_result",
          "data": {
            "text/plain": [
              "     job_id                                              title  \\\n",
              "6         7                              Head of Content (m/f)   \n",
              "15       16                         VP of Sales - Vault Dragon   \n",
              "23       24  Vice President, Sales and Sponsorship (Busines...   \n",
              "98       99                                    IC&E Technician   \n",
              "102     103                            Marketing Administrator   \n",
              "134     135                Senior Business Development Manager   \n",
              "153     154                             Senior Project Manager   \n",
              "160     161                          Field Services Supervisor   \n",
              "179     180                                 Internal Recruiter   \n",
              "197     198                                 Software developer   \n",
              "\n",
              "                       location                      department  \\\n",
              "6                DE, BE, Berlin                      ANDROIDPIT   \n",
              "15            SG, 01, Singapore                           Sales   \n",
              "23             US, CA, Carlsbad              Businessfriend.com   \n",
              "98            US, , Stocton, CA                    Oil & Energy   \n",
              "102           GB, WAR, Coventry                     Marketplace   \n",
              "134            GB, , Manchester  Sales and Business Development   \n",
              "153                GB, , London                      Production   \n",
              "160  US, WI, Western Wisconsin                 Field Operations   \n",
              "179             GB, LND, London                Playfair Capital   \n",
              "197              IN, MP, Indore            Software development   \n",
              "\n",
              "      salary_range                                    company_profile  \\\n",
              "6      20000-28000  Founded in 2009, the Fonpit AG rose with its i...   \n",
              "15   120000-150000  Jungle Ventures is the leading Singapore based...   \n",
              "23   100000-120000  WDM Group is an innovative, forward thinking d...   \n",
              "98    95000-115000                                                ...   \n",
              "102    15000-18000  Renewable Energy and Environmental Protection ...   \n",
              "134    70000-90000  MarketInvoice is one of the most high-profile ...   \n",
              "153    28000-45000  Neverbland is a team of designers, developers ...   \n",
              "160    44000-57000  Dairy, food and beverage processors work withi...   \n",
              "179    20000-40000  Playfair Capital is an early stage technology ...   \n",
              "197  360000-600000  Being into the IT domain for over 4 years, Wal...   \n",
              "\n",
              "                                           description  \\\n",
              "6    Your Responsibilities: Manage the English-spea...   \n",
              "15   About Vault Dragon Vault Dragon is Dropbox for...   \n",
              "23   #URL_eda2500ddcedb60957fcd7f5b164e092966f8c4e8...   \n",
              "98   IC&amp;E Technician | Bakersfield, CA Mt. Poso...   \n",
              "102  The job is to support the growth of the #URL_9...   \n",
              "134  BACKGROUNDA senior sales and account managemen...   \n",
              "153  Some of us are born with the ability to multi ...   \n",
              "160  W.M. Sprinkman designs, builds and installs st...   \n",
              "179  You will be responsible for hiring across a po...   \n",
              "197  Is coding just a task for you, or something to...   \n",
              "\n",
              "                                          requirements  \\\n",
              "6    Your Know-How:                                ...   \n",
              "15   Key Superpowers3-5 years of high-pressure sale...   \n",
              "23   Job Requirements:A reputation as a \"go-getter\"...   \n",
              "98   QualificationsKnowledge, Skills &amp; Abilitie...   \n",
              "102  Computer literateAble to work with HTML, altho...   \n",
              "134  5-10 years sales experience in B2B solution sa...   \n",
              "153  2-3 years agency experience in a Producer/Proj...   \n",
              "160  5-7 years of experience in fabrication and/or ...   \n",
              "179  Previous recruitment experience in fast growth...   \n",
              "197                    Min. 1 year in Web Development    \n",
              "\n",
              "                                              benefits  telecommuting  \\\n",
              "6    Your Benefits: Being part of a fast-growing co...              0   \n",
              "15   Basic: SGD 120,000Equity negotiable for a rock...              0   \n",
              "23   Businessfriend will offer a competitive six fi...              0   \n",
              "98   BENEFITSWhat is offered:Competitive compensati...              0   \n",
              "102  For a suitably motivated and success orientate...              1   \n",
              "134  Based in our Manchester officeCompetitive basi...              0   \n",
              "153  Work in a dynamic, creative environment.Learn ...              0   \n",
              "160  We provide a solid benefits package with healt...              0   \n",
              "179  Work will an awesome group of companies and be...              0   \n",
              "197  In-house product development with a chance to ...              0   \n",
              "\n",
              "     has_company_logo  has_questions employment_type required_experience  \\\n",
              "6                   1              1       Full-time    Mid-Senior level   \n",
              "15                  1              1       Full-time           Executive   \n",
              "23                  1              0       Full-time           Executive   \n",
              "98                  1              1       Full-time    Mid-Senior level   \n",
              "102                 1              0       Full-time         Entry level   \n",
              "134                 1              0       Full-time    Mid-Senior level   \n",
              "153                 1              1       Full-time    Mid-Senior level   \n",
              "160                 0              0       Full-time           Associate   \n",
              "179                 1              1       Full-time    Mid-Senior level   \n",
              "197                 1              1       Full-time    Mid-Senior level   \n",
              "\n",
              "            required_education                              industry  \\\n",
              "6              Master's Degree                          Online Media   \n",
              "15           Bachelor's Degree                   Facilities Services   \n",
              "23                 Unspecified                              Internet   \n",
              "98   High School or equivalent                          Oil & Energy   \n",
              "102          Bachelor's Degree                              Internet   \n",
              "134          Bachelor's Degree                    Financial Services   \n",
              "153          Bachelor's Degree                              Internet   \n",
              "160  High School or equivalent  Mechanical or Industrial Engineering   \n",
              "179          Bachelor's Degree   Information Technology and Services   \n",
              "197          Bachelor's Degree   Information Technology and Services   \n",
              "\n",
              "                   function  fraudulent  \n",
              "6                Management           0  \n",
              "15                    Sales           0  \n",
              "23                    Sales           0  \n",
              "98                    Other           1  \n",
              "102               Marketing           0  \n",
              "134                   Sales           0  \n",
              "153              Production           0  \n",
              "160           Manufacturing           0  \n",
              "179         Human Resources           0  \n",
              "197  Information Technology           0  "
            ],
            "text/html": [
              "\n",
              "  <div id=\"df-3620e739-c6e8-4ef5-8f4d-6dae3f017260\">\n",
              "    <div class=\"colab-df-container\">\n",
              "      <div>\n",
              "<style scoped>\n",
              "    .dataframe tbody tr th:only-of-type {\n",
              "        vertical-align: middle;\n",
              "    }\n",
              "\n",
              "    .dataframe tbody tr th {\n",
              "        vertical-align: top;\n",
              "    }\n",
              "\n",
              "    .dataframe thead th {\n",
              "        text-align: right;\n",
              "    }\n",
              "</style>\n",
              "<table border=\"1\" class=\"dataframe\">\n",
              "  <thead>\n",
              "    <tr style=\"text-align: right;\">\n",
              "      <th></th>\n",
              "      <th>job_id</th>\n",
              "      <th>title</th>\n",
              "      <th>location</th>\n",
              "      <th>department</th>\n",
              "      <th>salary_range</th>\n",
              "      <th>company_profile</th>\n",
              "      <th>description</th>\n",
              "      <th>requirements</th>\n",
              "      <th>benefits</th>\n",
              "      <th>telecommuting</th>\n",
              "      <th>has_company_logo</th>\n",
              "      <th>has_questions</th>\n",
              "      <th>employment_type</th>\n",
              "      <th>required_experience</th>\n",
              "      <th>required_education</th>\n",
              "      <th>industry</th>\n",
              "      <th>function</th>\n",
              "      <th>fraudulent</th>\n",
              "    </tr>\n",
              "  </thead>\n",
              "  <tbody>\n",
              "    <tr>\n",
              "      <th>6</th>\n",
              "      <td>7</td>\n",
              "      <td>Head of Content (m/f)</td>\n",
              "      <td>DE, BE, Berlin</td>\n",
              "      <td>ANDROIDPIT</td>\n",
              "      <td>20000-28000</td>\n",
              "      <td>Founded in 2009, the Fonpit AG rose with its i...</td>\n",
              "      <td>Your Responsibilities: Manage the English-spea...</td>\n",
              "      <td>Your Know-How:                                ...</td>\n",
              "      <td>Your Benefits: Being part of a fast-growing co...</td>\n",
              "      <td>0</td>\n",
              "      <td>1</td>\n",
              "      <td>1</td>\n",
              "      <td>Full-time</td>\n",
              "      <td>Mid-Senior level</td>\n",
              "      <td>Master's Degree</td>\n",
              "      <td>Online Media</td>\n",
              "      <td>Management</td>\n",
              "      <td>0</td>\n",
              "    </tr>\n",
              "    <tr>\n",
              "      <th>15</th>\n",
              "      <td>16</td>\n",
              "      <td>VP of Sales - Vault Dragon</td>\n",
              "      <td>SG, 01, Singapore</td>\n",
              "      <td>Sales</td>\n",
              "      <td>120000-150000</td>\n",
              "      <td>Jungle Ventures is the leading Singapore based...</td>\n",
              "      <td>About Vault Dragon Vault Dragon is Dropbox for...</td>\n",
              "      <td>Key Superpowers3-5 years of high-pressure sale...</td>\n",
              "      <td>Basic: SGD 120,000Equity negotiable for a rock...</td>\n",
              "      <td>0</td>\n",
              "      <td>1</td>\n",
              "      <td>1</td>\n",
              "      <td>Full-time</td>\n",
              "      <td>Executive</td>\n",
              "      <td>Bachelor's Degree</td>\n",
              "      <td>Facilities Services</td>\n",
              "      <td>Sales</td>\n",
              "      <td>0</td>\n",
              "    </tr>\n",
              "    <tr>\n",
              "      <th>23</th>\n",
              "      <td>24</td>\n",
              "      <td>Vice President, Sales and Sponsorship (Busines...</td>\n",
              "      <td>US, CA, Carlsbad</td>\n",
              "      <td>Businessfriend.com</td>\n",
              "      <td>100000-120000</td>\n",
              "      <td>WDM Group is an innovative, forward thinking d...</td>\n",
              "      <td>#URL_eda2500ddcedb60957fcd7f5b164e092966f8c4e8...</td>\n",
              "      <td>Job Requirements:A reputation as a \"go-getter\"...</td>\n",
              "      <td>Businessfriend will offer a competitive six fi...</td>\n",
              "      <td>0</td>\n",
              "      <td>1</td>\n",
              "      <td>0</td>\n",
              "      <td>Full-time</td>\n",
              "      <td>Executive</td>\n",
              "      <td>Unspecified</td>\n",
              "      <td>Internet</td>\n",
              "      <td>Sales</td>\n",
              "      <td>0</td>\n",
              "    </tr>\n",
              "    <tr>\n",
              "      <th>98</th>\n",
              "      <td>99</td>\n",
              "      <td>IC&amp;E Technician</td>\n",
              "      <td>US, , Stocton, CA</td>\n",
              "      <td>Oil &amp; Energy</td>\n",
              "      <td>95000-115000</td>\n",
              "      <td>...</td>\n",
              "      <td>IC&amp;amp;E Technician | Bakersfield, CA Mt. Poso...</td>\n",
              "      <td>QualificationsKnowledge, Skills &amp;amp; Abilitie...</td>\n",
              "      <td>BENEFITSWhat is offered:Competitive compensati...</td>\n",
              "      <td>0</td>\n",
              "      <td>1</td>\n",
              "      <td>1</td>\n",
              "      <td>Full-time</td>\n",
              "      <td>Mid-Senior level</td>\n",
              "      <td>High School or equivalent</td>\n",
              "      <td>Oil &amp; Energy</td>\n",
              "      <td>Other</td>\n",
              "      <td>1</td>\n",
              "    </tr>\n",
              "    <tr>\n",
              "      <th>102</th>\n",
              "      <td>103</td>\n",
              "      <td>Marketing Administrator</td>\n",
              "      <td>GB, WAR, Coventry</td>\n",
              "      <td>Marketplace</td>\n",
              "      <td>15000-18000</td>\n",
              "      <td>Renewable Energy and Environmental Protection ...</td>\n",
              "      <td>The job is to support the growth of the #URL_9...</td>\n",
              "      <td>Computer literateAble to work with HTML, altho...</td>\n",
              "      <td>For a suitably motivated and success orientate...</td>\n",
              "      <td>1</td>\n",
              "      <td>1</td>\n",
              "      <td>0</td>\n",
              "      <td>Full-time</td>\n",
              "      <td>Entry level</td>\n",
              "      <td>Bachelor's Degree</td>\n",
              "      <td>Internet</td>\n",
              "      <td>Marketing</td>\n",
              "      <td>0</td>\n",
              "    </tr>\n",
              "    <tr>\n",
              "      <th>134</th>\n",
              "      <td>135</td>\n",
              "      <td>Senior Business Development Manager</td>\n",
              "      <td>GB, , Manchester</td>\n",
              "      <td>Sales and Business Development</td>\n",
              "      <td>70000-90000</td>\n",
              "      <td>MarketInvoice is one of the most high-profile ...</td>\n",
              "      <td>BACKGROUNDA senior sales and account managemen...</td>\n",
              "      <td>5-10 years sales experience in B2B solution sa...</td>\n",
              "      <td>Based in our Manchester officeCompetitive basi...</td>\n",
              "      <td>0</td>\n",
              "      <td>1</td>\n",
              "      <td>0</td>\n",
              "      <td>Full-time</td>\n",
              "      <td>Mid-Senior level</td>\n",
              "      <td>Bachelor's Degree</td>\n",
              "      <td>Financial Services</td>\n",
              "      <td>Sales</td>\n",
              "      <td>0</td>\n",
              "    </tr>\n",
              "    <tr>\n",
              "      <th>153</th>\n",
              "      <td>154</td>\n",
              "      <td>Senior Project Manager</td>\n",
              "      <td>GB, , London</td>\n",
              "      <td>Production</td>\n",
              "      <td>28000-45000</td>\n",
              "      <td>Neverbland is a team of designers, developers ...</td>\n",
              "      <td>Some of us are born with the ability to multi ...</td>\n",
              "      <td>2-3 years agency experience in a Producer/Proj...</td>\n",
              "      <td>Work in a dynamic, creative environment.Learn ...</td>\n",
              "      <td>0</td>\n",
              "      <td>1</td>\n",
              "      <td>1</td>\n",
              "      <td>Full-time</td>\n",
              "      <td>Mid-Senior level</td>\n",
              "      <td>Bachelor's Degree</td>\n",
              "      <td>Internet</td>\n",
              "      <td>Production</td>\n",
              "      <td>0</td>\n",
              "    </tr>\n",
              "    <tr>\n",
              "      <th>160</th>\n",
              "      <td>161</td>\n",
              "      <td>Field Services Supervisor</td>\n",
              "      <td>US, WI, Western Wisconsin</td>\n",
              "      <td>Field Operations</td>\n",
              "      <td>44000-57000</td>\n",
              "      <td>Dairy, food and beverage processors work withi...</td>\n",
              "      <td>W.M. Sprinkman designs, builds and installs st...</td>\n",
              "      <td>5-7 years of experience in fabrication and/or ...</td>\n",
              "      <td>We provide a solid benefits package with healt...</td>\n",
              "      <td>0</td>\n",
              "      <td>0</td>\n",
              "      <td>0</td>\n",
              "      <td>Full-time</td>\n",
              "      <td>Associate</td>\n",
              "      <td>High School or equivalent</td>\n",
              "      <td>Mechanical or Industrial Engineering</td>\n",
              "      <td>Manufacturing</td>\n",
              "      <td>0</td>\n",
              "    </tr>\n",
              "    <tr>\n",
              "      <th>179</th>\n",
              "      <td>180</td>\n",
              "      <td>Internal Recruiter</td>\n",
              "      <td>GB, LND, London</td>\n",
              "      <td>Playfair Capital</td>\n",
              "      <td>20000-40000</td>\n",
              "      <td>Playfair Capital is an early stage technology ...</td>\n",
              "      <td>You will be responsible for hiring across a po...</td>\n",
              "      <td>Previous recruitment experience in fast growth...</td>\n",
              "      <td>Work will an awesome group of companies and be...</td>\n",
              "      <td>0</td>\n",
              "      <td>1</td>\n",
              "      <td>1</td>\n",
              "      <td>Full-time</td>\n",
              "      <td>Mid-Senior level</td>\n",
              "      <td>Bachelor's Degree</td>\n",
              "      <td>Information Technology and Services</td>\n",
              "      <td>Human Resources</td>\n",
              "      <td>0</td>\n",
              "    </tr>\n",
              "    <tr>\n",
              "      <th>197</th>\n",
              "      <td>198</td>\n",
              "      <td>Software developer</td>\n",
              "      <td>IN, MP, Indore</td>\n",
              "      <td>Software development</td>\n",
              "      <td>360000-600000</td>\n",
              "      <td>Being into the IT domain for over 4 years, Wal...</td>\n",
              "      <td>Is coding just a task for you, or something to...</td>\n",
              "      <td>Min. 1 year in Web Development</td>\n",
              "      <td>In-house product development with a chance to ...</td>\n",
              "      <td>0</td>\n",
              "      <td>1</td>\n",
              "      <td>1</td>\n",
              "      <td>Full-time</td>\n",
              "      <td>Mid-Senior level</td>\n",
              "      <td>Bachelor's Degree</td>\n",
              "      <td>Information Technology and Services</td>\n",
              "      <td>Information Technology</td>\n",
              "      <td>0</td>\n",
              "    </tr>\n",
              "  </tbody>\n",
              "</table>\n",
              "</div>\n",
              "      <button class=\"colab-df-convert\" onclick=\"convertToInteractive('df-3620e739-c6e8-4ef5-8f4d-6dae3f017260')\"\n",
              "              title=\"Convert this dataframe to an interactive table.\"\n",
              "              style=\"display:none;\">\n",
              "        \n",
              "  <svg xmlns=\"http://www.w3.org/2000/svg\" height=\"24px\"viewBox=\"0 0 24 24\"\n",
              "       width=\"24px\">\n",
              "    <path d=\"M0 0h24v24H0V0z\" fill=\"none\"/>\n",
              "    <path d=\"M18.56 5.44l.94 2.06.94-2.06 2.06-.94-2.06-.94-.94-2.06-.94 2.06-2.06.94zm-11 1L8.5 8.5l.94-2.06 2.06-.94-2.06-.94L8.5 2.5l-.94 2.06-2.06.94zm10 10l.94 2.06.94-2.06 2.06-.94-2.06-.94-.94-2.06-.94 2.06-2.06.94z\"/><path d=\"M17.41 7.96l-1.37-1.37c-.4-.4-.92-.59-1.43-.59-.52 0-1.04.2-1.43.59L10.3 9.45l-7.72 7.72c-.78.78-.78 2.05 0 2.83L4 21.41c.39.39.9.59 1.41.59.51 0 1.02-.2 1.41-.59l7.78-7.78 2.81-2.81c.8-.78.8-2.07 0-2.86zM5.41 20L4 18.59l7.72-7.72 1.47 1.35L5.41 20z\"/>\n",
              "  </svg>\n",
              "      </button>\n",
              "      \n",
              "  <style>\n",
              "    .colab-df-container {\n",
              "      display:flex;\n",
              "      flex-wrap:wrap;\n",
              "      gap: 12px;\n",
              "    }\n",
              "\n",
              "    .colab-df-convert {\n",
              "      background-color: #E8F0FE;\n",
              "      border: none;\n",
              "      border-radius: 50%;\n",
              "      cursor: pointer;\n",
              "      display: none;\n",
              "      fill: #1967D2;\n",
              "      height: 32px;\n",
              "      padding: 0 0 0 0;\n",
              "      width: 32px;\n",
              "    }\n",
              "\n",
              "    .colab-df-convert:hover {\n",
              "      background-color: #E2EBFA;\n",
              "      box-shadow: 0px 1px 2px rgba(60, 64, 67, 0.3), 0px 1px 3px 1px rgba(60, 64, 67, 0.15);\n",
              "      fill: #174EA6;\n",
              "    }\n",
              "\n",
              "    [theme=dark] .colab-df-convert {\n",
              "      background-color: #3B4455;\n",
              "      fill: #D2E3FC;\n",
              "    }\n",
              "\n",
              "    [theme=dark] .colab-df-convert:hover {\n",
              "      background-color: #434B5C;\n",
              "      box-shadow: 0px 1px 3px 1px rgba(0, 0, 0, 0.15);\n",
              "      filter: drop-shadow(0px 1px 2px rgba(0, 0, 0, 0.3));\n",
              "      fill: #FFFFFF;\n",
              "    }\n",
              "  </style>\n",
              "\n",
              "      <script>\n",
              "        const buttonEl =\n",
              "          document.querySelector('#df-3620e739-c6e8-4ef5-8f4d-6dae3f017260 button.colab-df-convert');\n",
              "        buttonEl.style.display =\n",
              "          google.colab.kernel.accessAllowed ? 'block' : 'none';\n",
              "\n",
              "        async function convertToInteractive(key) {\n",
              "          const element = document.querySelector('#df-3620e739-c6e8-4ef5-8f4d-6dae3f017260');\n",
              "          const dataTable =\n",
              "            await google.colab.kernel.invokeFunction('convertToInteractive',\n",
              "                                                     [key], {});\n",
              "          if (!dataTable) return;\n",
              "\n",
              "          const docLinkHtml = 'Like what you see? Visit the ' +\n",
              "            '<a target=\"_blank\" href=https://colab.research.google.com/notebooks/data_table.ipynb>data table notebook</a>'\n",
              "            + ' to learn more about interactive tables.';\n",
              "          element.innerHTML = '';\n",
              "          dataTable['output_type'] = 'display_data';\n",
              "          await google.colab.output.renderOutput(dataTable, element);\n",
              "          const docLink = document.createElement('div');\n",
              "          docLink.innerHTML = docLinkHtml;\n",
              "          element.appendChild(docLink);\n",
              "        }\n",
              "      </script>\n",
              "    </div>\n",
              "  </div>\n",
              "  "
            ]
          },
          "metadata": {},
          "execution_count": 13
        }
      ]
    },
    {
      "cell_type": "markdown",
      "metadata": {
        "id": "15sW_btIsH7Q"
      },
      "source": [
        "## Preprocessing"
      ]
    },
    {
      "cell_type": "markdown",
      "source": [
        "### covert string to word token"
      ],
      "metadata": {
        "id": "mB7PDS_jwyvR"
      }
    },
    {
      "cell_type": "code",
      "execution_count": 14,
      "metadata": {
        "colab": {
          "base_uri": "https://localhost:8080/",
          "height": 531
        },
        "id": "JN48DwVxhqxE",
        "outputId": "2e31e713-54f6-42f5-c961-bb6af84b804b"
      },
      "outputs": [
        {
          "output_type": "display_data",
          "data": {
            "text/plain": [
              "     job_id                                              title  \\\n",
              "6         7                              head of content (m/f)   \n",
              "15       16                         vp of sales - vault dragon   \n",
              "23       24  vice president, sales and sponsorship (busines...   \n",
              "98       99                                    ic&e technician   \n",
              "102     103                            marketing administrator   \n",
              "\n",
              "              location          department   salary_range  \\\n",
              "6       de, be, berlin          androidpit    20000-28000   \n",
              "15   sg, 01, singapore               sales  120000-150000   \n",
              "23    us, ca, carlsbad  businessfriend.com  100000-120000   \n",
              "98   us, , stocton, ca        oil & energy   95000-115000   \n",
              "102  gb, war, coventry         marketplace    15000-18000   \n",
              "\n",
              "                                       company_profile  \\\n",
              "6    founded in 2009, the fonpit ag rose with its i...   \n",
              "15   jungle ventures is the leading singapore based...   \n",
              "23   wdm group is an innovative, forward thinking d...   \n",
              "98                                                 ...   \n",
              "102  renewable energy and environmental protection ...   \n",
              "\n",
              "                                           description  \\\n",
              "6    your responsibilities: manage the english-spea...   \n",
              "15   about vault dragon vault dragon is dropbox for...   \n",
              "23   #url_eda2500ddcedb60957fcd7f5b164e092966f8c4e8...   \n",
              "98   ic&amp;e technician | bakersfield, ca mt. poso...   \n",
              "102  the job is to support the growth of the #url_9...   \n",
              "\n",
              "                                          requirements  \\\n",
              "6    your know-how:                                ...   \n",
              "15   key superpowers3-5 years of high-pressure sale...   \n",
              "23   job requirements:a reputation as a \"go-getter\"...   \n",
              "98   qualificationsknowledge, skills &amp; abilitie...   \n",
              "102  computer literateable to work with html, altho...   \n",
              "\n",
              "                                              benefits  telecommuting  \\\n",
              "6    your benefits: being part of a fast-growing co...              0   \n",
              "15   basic: sgd 120,000equity negotiable for a rock...              0   \n",
              "23   businessfriend will offer a competitive six fi...              0   \n",
              "98   benefitswhat is offered:competitive compensati...              0   \n",
              "102  for a suitably motivated and success orientate...              1   \n",
              "\n",
              "     has_company_logo  has_questions employment_type required_experience  \\\n",
              "6                   1              1       full-time    mid-senior level   \n",
              "15                  1              1       full-time           executive   \n",
              "23                  1              0       full-time           executive   \n",
              "98                  1              1       full-time    mid-senior level   \n",
              "102                 1              0       full-time         entry level   \n",
              "\n",
              "            required_education             industry    function  fraudulent  \n",
              "6              master's degree         online media  management           0  \n",
              "15           bachelor's degree  facilities services       sales           0  \n",
              "23                 unspecified             internet       sales           0  \n",
              "98   high school or equivalent         oil & energy       other           1  \n",
              "102          bachelor's degree             internet   marketing           0  "
            ],
            "text/html": [
              "\n",
              "  <div id=\"df-9b9903b7-c44f-4577-9380-e14e4337339c\">\n",
              "    <div class=\"colab-df-container\">\n",
              "      <div>\n",
              "<style scoped>\n",
              "    .dataframe tbody tr th:only-of-type {\n",
              "        vertical-align: middle;\n",
              "    }\n",
              "\n",
              "    .dataframe tbody tr th {\n",
              "        vertical-align: top;\n",
              "    }\n",
              "\n",
              "    .dataframe thead th {\n",
              "        text-align: right;\n",
              "    }\n",
              "</style>\n",
              "<table border=\"1\" class=\"dataframe\">\n",
              "  <thead>\n",
              "    <tr style=\"text-align: right;\">\n",
              "      <th></th>\n",
              "      <th>job_id</th>\n",
              "      <th>title</th>\n",
              "      <th>location</th>\n",
              "      <th>department</th>\n",
              "      <th>salary_range</th>\n",
              "      <th>company_profile</th>\n",
              "      <th>description</th>\n",
              "      <th>requirements</th>\n",
              "      <th>benefits</th>\n",
              "      <th>telecommuting</th>\n",
              "      <th>has_company_logo</th>\n",
              "      <th>has_questions</th>\n",
              "      <th>employment_type</th>\n",
              "      <th>required_experience</th>\n",
              "      <th>required_education</th>\n",
              "      <th>industry</th>\n",
              "      <th>function</th>\n",
              "      <th>fraudulent</th>\n",
              "    </tr>\n",
              "  </thead>\n",
              "  <tbody>\n",
              "    <tr>\n",
              "      <th>6</th>\n",
              "      <td>7</td>\n",
              "      <td>head of content (m/f)</td>\n",
              "      <td>de, be, berlin</td>\n",
              "      <td>androidpit</td>\n",
              "      <td>20000-28000</td>\n",
              "      <td>founded in 2009, the fonpit ag rose with its i...</td>\n",
              "      <td>your responsibilities: manage the english-spea...</td>\n",
              "      <td>your know-how:                                ...</td>\n",
              "      <td>your benefits: being part of a fast-growing co...</td>\n",
              "      <td>0</td>\n",
              "      <td>1</td>\n",
              "      <td>1</td>\n",
              "      <td>full-time</td>\n",
              "      <td>mid-senior level</td>\n",
              "      <td>master's degree</td>\n",
              "      <td>online media</td>\n",
              "      <td>management</td>\n",
              "      <td>0</td>\n",
              "    </tr>\n",
              "    <tr>\n",
              "      <th>15</th>\n",
              "      <td>16</td>\n",
              "      <td>vp of sales - vault dragon</td>\n",
              "      <td>sg, 01, singapore</td>\n",
              "      <td>sales</td>\n",
              "      <td>120000-150000</td>\n",
              "      <td>jungle ventures is the leading singapore based...</td>\n",
              "      <td>about vault dragon vault dragon is dropbox for...</td>\n",
              "      <td>key superpowers3-5 years of high-pressure sale...</td>\n",
              "      <td>basic: sgd 120,000equity negotiable for a rock...</td>\n",
              "      <td>0</td>\n",
              "      <td>1</td>\n",
              "      <td>1</td>\n",
              "      <td>full-time</td>\n",
              "      <td>executive</td>\n",
              "      <td>bachelor's degree</td>\n",
              "      <td>facilities services</td>\n",
              "      <td>sales</td>\n",
              "      <td>0</td>\n",
              "    </tr>\n",
              "    <tr>\n",
              "      <th>23</th>\n",
              "      <td>24</td>\n",
              "      <td>vice president, sales and sponsorship (busines...</td>\n",
              "      <td>us, ca, carlsbad</td>\n",
              "      <td>businessfriend.com</td>\n",
              "      <td>100000-120000</td>\n",
              "      <td>wdm group is an innovative, forward thinking d...</td>\n",
              "      <td>#url_eda2500ddcedb60957fcd7f5b164e092966f8c4e8...</td>\n",
              "      <td>job requirements:a reputation as a \"go-getter\"...</td>\n",
              "      <td>businessfriend will offer a competitive six fi...</td>\n",
              "      <td>0</td>\n",
              "      <td>1</td>\n",
              "      <td>0</td>\n",
              "      <td>full-time</td>\n",
              "      <td>executive</td>\n",
              "      <td>unspecified</td>\n",
              "      <td>internet</td>\n",
              "      <td>sales</td>\n",
              "      <td>0</td>\n",
              "    </tr>\n",
              "    <tr>\n",
              "      <th>98</th>\n",
              "      <td>99</td>\n",
              "      <td>ic&amp;e technician</td>\n",
              "      <td>us, , stocton, ca</td>\n",
              "      <td>oil &amp; energy</td>\n",
              "      <td>95000-115000</td>\n",
              "      <td>...</td>\n",
              "      <td>ic&amp;amp;e technician | bakersfield, ca mt. poso...</td>\n",
              "      <td>qualificationsknowledge, skills &amp;amp; abilitie...</td>\n",
              "      <td>benefitswhat is offered:competitive compensati...</td>\n",
              "      <td>0</td>\n",
              "      <td>1</td>\n",
              "      <td>1</td>\n",
              "      <td>full-time</td>\n",
              "      <td>mid-senior level</td>\n",
              "      <td>high school or equivalent</td>\n",
              "      <td>oil &amp; energy</td>\n",
              "      <td>other</td>\n",
              "      <td>1</td>\n",
              "    </tr>\n",
              "    <tr>\n",
              "      <th>102</th>\n",
              "      <td>103</td>\n",
              "      <td>marketing administrator</td>\n",
              "      <td>gb, war, coventry</td>\n",
              "      <td>marketplace</td>\n",
              "      <td>15000-18000</td>\n",
              "      <td>renewable energy and environmental protection ...</td>\n",
              "      <td>the job is to support the growth of the #url_9...</td>\n",
              "      <td>computer literateable to work with html, altho...</td>\n",
              "      <td>for a suitably motivated and success orientate...</td>\n",
              "      <td>1</td>\n",
              "      <td>1</td>\n",
              "      <td>0</td>\n",
              "      <td>full-time</td>\n",
              "      <td>entry level</td>\n",
              "      <td>bachelor's degree</td>\n",
              "      <td>internet</td>\n",
              "      <td>marketing</td>\n",
              "      <td>0</td>\n",
              "    </tr>\n",
              "  </tbody>\n",
              "</table>\n",
              "</div>\n",
              "      <button class=\"colab-df-convert\" onclick=\"convertToInteractive('df-9b9903b7-c44f-4577-9380-e14e4337339c')\"\n",
              "              title=\"Convert this dataframe to an interactive table.\"\n",
              "              style=\"display:none;\">\n",
              "        \n",
              "  <svg xmlns=\"http://www.w3.org/2000/svg\" height=\"24px\"viewBox=\"0 0 24 24\"\n",
              "       width=\"24px\">\n",
              "    <path d=\"M0 0h24v24H0V0z\" fill=\"none\"/>\n",
              "    <path d=\"M18.56 5.44l.94 2.06.94-2.06 2.06-.94-2.06-.94-.94-2.06-.94 2.06-2.06.94zm-11 1L8.5 8.5l.94-2.06 2.06-.94-2.06-.94L8.5 2.5l-.94 2.06-2.06.94zm10 10l.94 2.06.94-2.06 2.06-.94-2.06-.94-.94-2.06-.94 2.06-2.06.94z\"/><path d=\"M17.41 7.96l-1.37-1.37c-.4-.4-.92-.59-1.43-.59-.52 0-1.04.2-1.43.59L10.3 9.45l-7.72 7.72c-.78.78-.78 2.05 0 2.83L4 21.41c.39.39.9.59 1.41.59.51 0 1.02-.2 1.41-.59l7.78-7.78 2.81-2.81c.8-.78.8-2.07 0-2.86zM5.41 20L4 18.59l7.72-7.72 1.47 1.35L5.41 20z\"/>\n",
              "  </svg>\n",
              "      </button>\n",
              "      \n",
              "  <style>\n",
              "    .colab-df-container {\n",
              "      display:flex;\n",
              "      flex-wrap:wrap;\n",
              "      gap: 12px;\n",
              "    }\n",
              "\n",
              "    .colab-df-convert {\n",
              "      background-color: #E8F0FE;\n",
              "      border: none;\n",
              "      border-radius: 50%;\n",
              "      cursor: pointer;\n",
              "      display: none;\n",
              "      fill: #1967D2;\n",
              "      height: 32px;\n",
              "      padding: 0 0 0 0;\n",
              "      width: 32px;\n",
              "    }\n",
              "\n",
              "    .colab-df-convert:hover {\n",
              "      background-color: #E2EBFA;\n",
              "      box-shadow: 0px 1px 2px rgba(60, 64, 67, 0.3), 0px 1px 3px 1px rgba(60, 64, 67, 0.15);\n",
              "      fill: #174EA6;\n",
              "    }\n",
              "\n",
              "    [theme=dark] .colab-df-convert {\n",
              "      background-color: #3B4455;\n",
              "      fill: #D2E3FC;\n",
              "    }\n",
              "\n",
              "    [theme=dark] .colab-df-convert:hover {\n",
              "      background-color: #434B5C;\n",
              "      box-shadow: 0px 1px 3px 1px rgba(0, 0, 0, 0.15);\n",
              "      filter: drop-shadow(0px 1px 2px rgba(0, 0, 0, 0.3));\n",
              "      fill: #FFFFFF;\n",
              "    }\n",
              "  </style>\n",
              "\n",
              "      <script>\n",
              "        const buttonEl =\n",
              "          document.querySelector('#df-9b9903b7-c44f-4577-9380-e14e4337339c button.colab-df-convert');\n",
              "        buttonEl.style.display =\n",
              "          google.colab.kernel.accessAllowed ? 'block' : 'none';\n",
              "\n",
              "        async function convertToInteractive(key) {\n",
              "          const element = document.querySelector('#df-9b9903b7-c44f-4577-9380-e14e4337339c');\n",
              "          const dataTable =\n",
              "            await google.colab.kernel.invokeFunction('convertToInteractive',\n",
              "                                                     [key], {});\n",
              "          if (!dataTable) return;\n",
              "\n",
              "          const docLinkHtml = 'Like what you see? Visit the ' +\n",
              "            '<a target=\"_blank\" href=https://colab.research.google.com/notebooks/data_table.ipynb>data table notebook</a>'\n",
              "            + ' to learn more about interactive tables.';\n",
              "          element.innerHTML = '';\n",
              "          dataTable['output_type'] = 'display_data';\n",
              "          await google.colab.output.renderOutput(dataTable, element);\n",
              "          const docLink = document.createElement('div');\n",
              "          docLink.innerHTML = docLinkHtml;\n",
              "          element.appendChild(docLink);\n",
              "        }\n",
              "      </script>\n",
              "    </div>\n",
              "  </div>\n",
              "  "
            ]
          },
          "metadata": {}
        }
      ],
      "source": [
        "# Convert Everything to lowercase\n",
        "new_df = new_df.applymap(lambda s: s.lower() if type(s) == str else s)\n",
        "display(new_df.head(5))"
      ]
    },
    {
      "cell_type": "code",
      "execution_count": 15,
      "metadata": {
        "colab": {
          "base_uri": "https://localhost:8080/",
          "height": 548
        },
        "id": "HMDJhqYdh2Js",
        "outputId": "61c93892-18d6-4655-8012-3b9ef668f549"
      },
      "outputs": [
        {
          "output_type": "display_data",
          "data": {
            "text/plain": [
              "     job_id                                              title  \\\n",
              "6         7                              head of content  m f    \n",
              "15       16                         vp of sales   vault dragon   \n",
              "23       24  vice president  sales and sponsorship  busines...   \n",
              "98       99                                    ic e technician   \n",
              "102     103                            marketing administrator   \n",
              "\n",
              "              location          department   salary_range  \\\n",
              "6       de  be  berlin          androidpit    20000 28000   \n",
              "15   sg  01  singapore               sales  120000 150000   \n",
              "23    us  ca  carlsbad  businessfriend com  100000 120000   \n",
              "98   us    stocton  ca        oil   energy   95000 115000   \n",
              "102  gb  war  coventry         marketplace    15000 18000   \n",
              "\n",
              "                                       company_profile  \\\n",
              "6    founded in 2009  the fonpit ag rose with its i...   \n",
              "15   jungle ventures is the leading singapore based...   \n",
              "23   wdm group is an innovative  forward thinking d...   \n",
              "98                                                 ...   \n",
              "102  renewable energy and environmental protection ...   \n",
              "\n",
              "                                           description  \\\n",
              "6    your responsibilities  manage the english spea...   \n",
              "15   about vault dragon vault dragon is dropbox for...   \n",
              "23    url eda2500ddcedb60957fcd7f5b164e092966f8c4e8...   \n",
              "98   ic amp e technician   bakersfield  ca mt  poso...   \n",
              "102  the job is to support the growth of the  url 9...   \n",
              "\n",
              "                                          requirements  \\\n",
              "6    your know how                                 ...   \n",
              "15   key superpowers3 5 years of high pressure sale...   \n",
              "23   job requirements a reputation as a  go getter ...   \n",
              "98   qualificationsknowledge  skills  amp  abilitie...   \n",
              "102  computer literateable to work with html  altho...   \n",
              "\n",
              "                                              benefits  telecommuting  \\\n",
              "6    your benefits  being part of a fast growing co...              0   \n",
              "15   basic  sgd 120 000equity negotiable for a rock...              0   \n",
              "23   businessfriend will offer a competitive six fi...              0   \n",
              "98   benefitswhat is offered competitive compensati...              0   \n",
              "102  for a suitably motivated and success orientate...              1   \n",
              "\n",
              "     has_company_logo  has_questions employment_type required_experience  \\\n",
              "6                   1              1       full time    mid senior level   \n",
              "15                  1              1       full time           executive   \n",
              "23                  1              0       full time           executive   \n",
              "98                  1              1       full time    mid senior level   \n",
              "102                 1              0       full time         entry level   \n",
              "\n",
              "            required_education             industry    function  fraudulent  \n",
              "6              master s degree         online media  management           0  \n",
              "15           bachelor s degree  facilities services       sales           0  \n",
              "23                 unspecified             internet       sales           0  \n",
              "98   high school or equivalent         oil   energy       other           1  \n",
              "102          bachelor s degree             internet   marketing           0  "
            ],
            "text/html": [
              "\n",
              "  <div id=\"df-89742e62-3e87-4fe8-9309-7a9c509ecb1a\">\n",
              "    <div class=\"colab-df-container\">\n",
              "      <div>\n",
              "<style scoped>\n",
              "    .dataframe tbody tr th:only-of-type {\n",
              "        vertical-align: middle;\n",
              "    }\n",
              "\n",
              "    .dataframe tbody tr th {\n",
              "        vertical-align: top;\n",
              "    }\n",
              "\n",
              "    .dataframe thead th {\n",
              "        text-align: right;\n",
              "    }\n",
              "</style>\n",
              "<table border=\"1\" class=\"dataframe\">\n",
              "  <thead>\n",
              "    <tr style=\"text-align: right;\">\n",
              "      <th></th>\n",
              "      <th>job_id</th>\n",
              "      <th>title</th>\n",
              "      <th>location</th>\n",
              "      <th>department</th>\n",
              "      <th>salary_range</th>\n",
              "      <th>company_profile</th>\n",
              "      <th>description</th>\n",
              "      <th>requirements</th>\n",
              "      <th>benefits</th>\n",
              "      <th>telecommuting</th>\n",
              "      <th>has_company_logo</th>\n",
              "      <th>has_questions</th>\n",
              "      <th>employment_type</th>\n",
              "      <th>required_experience</th>\n",
              "      <th>required_education</th>\n",
              "      <th>industry</th>\n",
              "      <th>function</th>\n",
              "      <th>fraudulent</th>\n",
              "    </tr>\n",
              "  </thead>\n",
              "  <tbody>\n",
              "    <tr>\n",
              "      <th>6</th>\n",
              "      <td>7</td>\n",
              "      <td>head of content  m f</td>\n",
              "      <td>de  be  berlin</td>\n",
              "      <td>androidpit</td>\n",
              "      <td>20000 28000</td>\n",
              "      <td>founded in 2009  the fonpit ag rose with its i...</td>\n",
              "      <td>your responsibilities  manage the english spea...</td>\n",
              "      <td>your know how                                 ...</td>\n",
              "      <td>your benefits  being part of a fast growing co...</td>\n",
              "      <td>0</td>\n",
              "      <td>1</td>\n",
              "      <td>1</td>\n",
              "      <td>full time</td>\n",
              "      <td>mid senior level</td>\n",
              "      <td>master s degree</td>\n",
              "      <td>online media</td>\n",
              "      <td>management</td>\n",
              "      <td>0</td>\n",
              "    </tr>\n",
              "    <tr>\n",
              "      <th>15</th>\n",
              "      <td>16</td>\n",
              "      <td>vp of sales   vault dragon</td>\n",
              "      <td>sg  01  singapore</td>\n",
              "      <td>sales</td>\n",
              "      <td>120000 150000</td>\n",
              "      <td>jungle ventures is the leading singapore based...</td>\n",
              "      <td>about vault dragon vault dragon is dropbox for...</td>\n",
              "      <td>key superpowers3 5 years of high pressure sale...</td>\n",
              "      <td>basic  sgd 120 000equity negotiable for a rock...</td>\n",
              "      <td>0</td>\n",
              "      <td>1</td>\n",
              "      <td>1</td>\n",
              "      <td>full time</td>\n",
              "      <td>executive</td>\n",
              "      <td>bachelor s degree</td>\n",
              "      <td>facilities services</td>\n",
              "      <td>sales</td>\n",
              "      <td>0</td>\n",
              "    </tr>\n",
              "    <tr>\n",
              "      <th>23</th>\n",
              "      <td>24</td>\n",
              "      <td>vice president  sales and sponsorship  busines...</td>\n",
              "      <td>us  ca  carlsbad</td>\n",
              "      <td>businessfriend com</td>\n",
              "      <td>100000 120000</td>\n",
              "      <td>wdm group is an innovative  forward thinking d...</td>\n",
              "      <td>url eda2500ddcedb60957fcd7f5b164e092966f8c4e8...</td>\n",
              "      <td>job requirements a reputation as a  go getter ...</td>\n",
              "      <td>businessfriend will offer a competitive six fi...</td>\n",
              "      <td>0</td>\n",
              "      <td>1</td>\n",
              "      <td>0</td>\n",
              "      <td>full time</td>\n",
              "      <td>executive</td>\n",
              "      <td>unspecified</td>\n",
              "      <td>internet</td>\n",
              "      <td>sales</td>\n",
              "      <td>0</td>\n",
              "    </tr>\n",
              "    <tr>\n",
              "      <th>98</th>\n",
              "      <td>99</td>\n",
              "      <td>ic e technician</td>\n",
              "      <td>us    stocton  ca</td>\n",
              "      <td>oil   energy</td>\n",
              "      <td>95000 115000</td>\n",
              "      <td>...</td>\n",
              "      <td>ic amp e technician   bakersfield  ca mt  poso...</td>\n",
              "      <td>qualificationsknowledge  skills  amp  abilitie...</td>\n",
              "      <td>benefitswhat is offered competitive compensati...</td>\n",
              "      <td>0</td>\n",
              "      <td>1</td>\n",
              "      <td>1</td>\n",
              "      <td>full time</td>\n",
              "      <td>mid senior level</td>\n",
              "      <td>high school or equivalent</td>\n",
              "      <td>oil   energy</td>\n",
              "      <td>other</td>\n",
              "      <td>1</td>\n",
              "    </tr>\n",
              "    <tr>\n",
              "      <th>102</th>\n",
              "      <td>103</td>\n",
              "      <td>marketing administrator</td>\n",
              "      <td>gb  war  coventry</td>\n",
              "      <td>marketplace</td>\n",
              "      <td>15000 18000</td>\n",
              "      <td>renewable energy and environmental protection ...</td>\n",
              "      <td>the job is to support the growth of the  url 9...</td>\n",
              "      <td>computer literateable to work with html  altho...</td>\n",
              "      <td>for a suitably motivated and success orientate...</td>\n",
              "      <td>1</td>\n",
              "      <td>1</td>\n",
              "      <td>0</td>\n",
              "      <td>full time</td>\n",
              "      <td>entry level</td>\n",
              "      <td>bachelor s degree</td>\n",
              "      <td>internet</td>\n",
              "      <td>marketing</td>\n",
              "      <td>0</td>\n",
              "    </tr>\n",
              "  </tbody>\n",
              "</table>\n",
              "</div>\n",
              "      <button class=\"colab-df-convert\" onclick=\"convertToInteractive('df-89742e62-3e87-4fe8-9309-7a9c509ecb1a')\"\n",
              "              title=\"Convert this dataframe to an interactive table.\"\n",
              "              style=\"display:none;\">\n",
              "        \n",
              "  <svg xmlns=\"http://www.w3.org/2000/svg\" height=\"24px\"viewBox=\"0 0 24 24\"\n",
              "       width=\"24px\">\n",
              "    <path d=\"M0 0h24v24H0V0z\" fill=\"none\"/>\n",
              "    <path d=\"M18.56 5.44l.94 2.06.94-2.06 2.06-.94-2.06-.94-.94-2.06-.94 2.06-2.06.94zm-11 1L8.5 8.5l.94-2.06 2.06-.94-2.06-.94L8.5 2.5l-.94 2.06-2.06.94zm10 10l.94 2.06.94-2.06 2.06-.94-2.06-.94-.94-2.06-.94 2.06-2.06.94z\"/><path d=\"M17.41 7.96l-1.37-1.37c-.4-.4-.92-.59-1.43-.59-.52 0-1.04.2-1.43.59L10.3 9.45l-7.72 7.72c-.78.78-.78 2.05 0 2.83L4 21.41c.39.39.9.59 1.41.59.51 0 1.02-.2 1.41-.59l7.78-7.78 2.81-2.81c.8-.78.8-2.07 0-2.86zM5.41 20L4 18.59l7.72-7.72 1.47 1.35L5.41 20z\"/>\n",
              "  </svg>\n",
              "      </button>\n",
              "      \n",
              "  <style>\n",
              "    .colab-df-container {\n",
              "      display:flex;\n",
              "      flex-wrap:wrap;\n",
              "      gap: 12px;\n",
              "    }\n",
              "\n",
              "    .colab-df-convert {\n",
              "      background-color: #E8F0FE;\n",
              "      border: none;\n",
              "      border-radius: 50%;\n",
              "      cursor: pointer;\n",
              "      display: none;\n",
              "      fill: #1967D2;\n",
              "      height: 32px;\n",
              "      padding: 0 0 0 0;\n",
              "      width: 32px;\n",
              "    }\n",
              "\n",
              "    .colab-df-convert:hover {\n",
              "      background-color: #E2EBFA;\n",
              "      box-shadow: 0px 1px 2px rgba(60, 64, 67, 0.3), 0px 1px 3px 1px rgba(60, 64, 67, 0.15);\n",
              "      fill: #174EA6;\n",
              "    }\n",
              "\n",
              "    [theme=dark] .colab-df-convert {\n",
              "      background-color: #3B4455;\n",
              "      fill: #D2E3FC;\n",
              "    }\n",
              "\n",
              "    [theme=dark] .colab-df-convert:hover {\n",
              "      background-color: #434B5C;\n",
              "      box-shadow: 0px 1px 3px 1px rgba(0, 0, 0, 0.15);\n",
              "      filter: drop-shadow(0px 1px 2px rgba(0, 0, 0, 0.3));\n",
              "      fill: #FFFFFF;\n",
              "    }\n",
              "  </style>\n",
              "\n",
              "      <script>\n",
              "        const buttonEl =\n",
              "          document.querySelector('#df-89742e62-3e87-4fe8-9309-7a9c509ecb1a button.colab-df-convert');\n",
              "        buttonEl.style.display =\n",
              "          google.colab.kernel.accessAllowed ? 'block' : 'none';\n",
              "\n",
              "        async function convertToInteractive(key) {\n",
              "          const element = document.querySelector('#df-89742e62-3e87-4fe8-9309-7a9c509ecb1a');\n",
              "          const dataTable =\n",
              "            await google.colab.kernel.invokeFunction('convertToInteractive',\n",
              "                                                     [key], {});\n",
              "          if (!dataTable) return;\n",
              "\n",
              "          const docLinkHtml = 'Like what you see? Visit the ' +\n",
              "            '<a target=\"_blank\" href=https://colab.research.google.com/notebooks/data_table.ipynb>data table notebook</a>'\n",
              "            + ' to learn more about interactive tables.';\n",
              "          element.innerHTML = '';\n",
              "          dataTable['output_type'] = 'display_data';\n",
              "          await google.colab.output.renderOutput(dataTable, element);\n",
              "          const docLink = document.createElement('div');\n",
              "          docLink.innerHTML = docLinkHtml;\n",
              "          element.appendChild(docLink);\n",
              "        }\n",
              "      </script>\n",
              "    </div>\n",
              "  </div>\n",
              "  "
            ]
          },
          "metadata": {}
        }
      ],
      "source": [
        "# Remove Punctuation\n",
        "punc_list = list(string.punctuation)\n",
        "def remove_punctuation(text, punct_list):\n",
        "    for punc in punct_list:\n",
        "        if punc in text:\n",
        "            text = text.replace(punc, ' ')\n",
        "    return text\n",
        "\n",
        "new_df = new_df.applymap(lambda s: remove_punctuation(s, punc_list) if type(s) == str else s)\n",
        "display(new_df.head(5))"
      ]
    },
    {
      "cell_type": "code",
      "execution_count": 16,
      "metadata": {
        "colab": {
          "base_uri": "https://localhost:8080/",
          "height": 531
        },
        "id": "-zl9Z_UEh9Mp",
        "outputId": "b5fffeaf-3915-49ff-a4d5-39f387e3f86f"
      },
      "outputs": [
        {
          "output_type": "display_data",
          "data": {
            "text/plain": [
              "     job_id                                              title  \\\n",
              "6         7                          [head, of, content, m, f]   \n",
              "15       16                     [vp, of, sales, vault, dragon]   \n",
              "23       24  [vice, president, sales, and, sponsorship, bus...   \n",
              "98       99                                [ic, e, technician]   \n",
              "102     103                         [marketing, administrator]   \n",
              "\n",
              "                location             department      salary_range  \\\n",
              "6       [de, be, berlin]           [androidpit]    [20000, 28000]   \n",
              "15   [sg, 01, singapore]                [sales]  [120000, 150000]   \n",
              "23    [us, ca, carlsbad]  [businessfriend, com]  [100000, 120000]   \n",
              "98     [us, stocton, ca]          [oil, energy]   [95000, 115000]   \n",
              "102  [gb, war, coventry]          [marketplace]    [15000, 18000]   \n",
              "\n",
              "                                       company_profile  \\\n",
              "6    [founded, in, 2009, the, fonpit, ag, rose, wit...   \n",
              "15   [jungle, ventures, is, the, leading, singapore...   \n",
              "23   [wdm, group, is, an, innovative, forward, thin...   \n",
              "98   [staffing, amp, recruiting, done, right, for, ...   \n",
              "102  [renewable, energy, and, environmental, protec...   \n",
              "\n",
              "                                           description  \\\n",
              "6    [your, responsibilities, manage, the, english,...   \n",
              "15   [about, vault, dragon, vault, dragon, is, drop...   \n",
              "23   [url, eda2500ddcedb60957fcd7f5b164e092966f8c4e...   \n",
              "98   [ic, amp, e, technician, bakersfield, ca, mt, ...   \n",
              "102  [the, job, is, to, support, the, growth, of, t...   \n",
              "\n",
              "                                          requirements  \\\n",
              "6    [your, know, how, university, or, college, deg...   \n",
              "15   [key, superpowers3, 5, years, of, high, pressu...   \n",
              "23   [job, requirements, a, reputation, as, a, go, ...   \n",
              "98   [qualificationsknowledge, skills, amp, abiliti...   \n",
              "102  [computer, literateable, to, work, with, html,...   \n",
              "\n",
              "                                              benefits  telecommuting  \\\n",
              "6    [your, benefits, being, part, of, a, fast, gro...              0   \n",
              "15   [basic, sgd, 120, 000equity, negotiable, for, ...              0   \n",
              "23   [businessfriend, will, offer, a, competitive, ...              0   \n",
              "98   [benefitswhat, is, offered, competitive, compe...              0   \n",
              "102  [for, a, suitably, motivated, and, success, or...              1   \n",
              "\n",
              "     has_company_logo  has_questions employment_type   required_experience  \\\n",
              "6                   1              1    [full, time]  [mid, senior, level]   \n",
              "15                  1              1    [full, time]           [executive]   \n",
              "23                  1              0    [full, time]           [executive]   \n",
              "98                  1              1    [full, time]  [mid, senior, level]   \n",
              "102                 1              0    [full, time]        [entry, level]   \n",
              "\n",
              "                 required_education                industry      function  \\\n",
              "6               [master, s, degree]         [online, media]  [management]   \n",
              "15            [bachelor, s, degree]  [facilities, services]       [sales]   \n",
              "23                    [unspecified]              [internet]       [sales]   \n",
              "98   [high, school, or, equivalent]           [oil, energy]       [other]   \n",
              "102           [bachelor, s, degree]              [internet]   [marketing]   \n",
              "\n",
              "     fraudulent  \n",
              "6             0  \n",
              "15            0  \n",
              "23            0  \n",
              "98            1  \n",
              "102           0  "
            ],
            "text/html": [
              "\n",
              "  <div id=\"df-6f9e0988-f81a-4c67-b42e-900824885f8e\">\n",
              "    <div class=\"colab-df-container\">\n",
              "      <div>\n",
              "<style scoped>\n",
              "    .dataframe tbody tr th:only-of-type {\n",
              "        vertical-align: middle;\n",
              "    }\n",
              "\n",
              "    .dataframe tbody tr th {\n",
              "        vertical-align: top;\n",
              "    }\n",
              "\n",
              "    .dataframe thead th {\n",
              "        text-align: right;\n",
              "    }\n",
              "</style>\n",
              "<table border=\"1\" class=\"dataframe\">\n",
              "  <thead>\n",
              "    <tr style=\"text-align: right;\">\n",
              "      <th></th>\n",
              "      <th>job_id</th>\n",
              "      <th>title</th>\n",
              "      <th>location</th>\n",
              "      <th>department</th>\n",
              "      <th>salary_range</th>\n",
              "      <th>company_profile</th>\n",
              "      <th>description</th>\n",
              "      <th>requirements</th>\n",
              "      <th>benefits</th>\n",
              "      <th>telecommuting</th>\n",
              "      <th>has_company_logo</th>\n",
              "      <th>has_questions</th>\n",
              "      <th>employment_type</th>\n",
              "      <th>required_experience</th>\n",
              "      <th>required_education</th>\n",
              "      <th>industry</th>\n",
              "      <th>function</th>\n",
              "      <th>fraudulent</th>\n",
              "    </tr>\n",
              "  </thead>\n",
              "  <tbody>\n",
              "    <tr>\n",
              "      <th>6</th>\n",
              "      <td>7</td>\n",
              "      <td>[head, of, content, m, f]</td>\n",
              "      <td>[de, be, berlin]</td>\n",
              "      <td>[androidpit]</td>\n",
              "      <td>[20000, 28000]</td>\n",
              "      <td>[founded, in, 2009, the, fonpit, ag, rose, wit...</td>\n",
              "      <td>[your, responsibilities, manage, the, english,...</td>\n",
              "      <td>[your, know, how, university, or, college, deg...</td>\n",
              "      <td>[your, benefits, being, part, of, a, fast, gro...</td>\n",
              "      <td>0</td>\n",
              "      <td>1</td>\n",
              "      <td>1</td>\n",
              "      <td>[full, time]</td>\n",
              "      <td>[mid, senior, level]</td>\n",
              "      <td>[master, s, degree]</td>\n",
              "      <td>[online, media]</td>\n",
              "      <td>[management]</td>\n",
              "      <td>0</td>\n",
              "    </tr>\n",
              "    <tr>\n",
              "      <th>15</th>\n",
              "      <td>16</td>\n",
              "      <td>[vp, of, sales, vault, dragon]</td>\n",
              "      <td>[sg, 01, singapore]</td>\n",
              "      <td>[sales]</td>\n",
              "      <td>[120000, 150000]</td>\n",
              "      <td>[jungle, ventures, is, the, leading, singapore...</td>\n",
              "      <td>[about, vault, dragon, vault, dragon, is, drop...</td>\n",
              "      <td>[key, superpowers3, 5, years, of, high, pressu...</td>\n",
              "      <td>[basic, sgd, 120, 000equity, negotiable, for, ...</td>\n",
              "      <td>0</td>\n",
              "      <td>1</td>\n",
              "      <td>1</td>\n",
              "      <td>[full, time]</td>\n",
              "      <td>[executive]</td>\n",
              "      <td>[bachelor, s, degree]</td>\n",
              "      <td>[facilities, services]</td>\n",
              "      <td>[sales]</td>\n",
              "      <td>0</td>\n",
              "    </tr>\n",
              "    <tr>\n",
              "      <th>23</th>\n",
              "      <td>24</td>\n",
              "      <td>[vice, president, sales, and, sponsorship, bus...</td>\n",
              "      <td>[us, ca, carlsbad]</td>\n",
              "      <td>[businessfriend, com]</td>\n",
              "      <td>[100000, 120000]</td>\n",
              "      <td>[wdm, group, is, an, innovative, forward, thin...</td>\n",
              "      <td>[url, eda2500ddcedb60957fcd7f5b164e092966f8c4e...</td>\n",
              "      <td>[job, requirements, a, reputation, as, a, go, ...</td>\n",
              "      <td>[businessfriend, will, offer, a, competitive, ...</td>\n",
              "      <td>0</td>\n",
              "      <td>1</td>\n",
              "      <td>0</td>\n",
              "      <td>[full, time]</td>\n",
              "      <td>[executive]</td>\n",
              "      <td>[unspecified]</td>\n",
              "      <td>[internet]</td>\n",
              "      <td>[sales]</td>\n",
              "      <td>0</td>\n",
              "    </tr>\n",
              "    <tr>\n",
              "      <th>98</th>\n",
              "      <td>99</td>\n",
              "      <td>[ic, e, technician]</td>\n",
              "      <td>[us, stocton, ca]</td>\n",
              "      <td>[oil, energy]</td>\n",
              "      <td>[95000, 115000]</td>\n",
              "      <td>[staffing, amp, recruiting, done, right, for, ...</td>\n",
              "      <td>[ic, amp, e, technician, bakersfield, ca, mt, ...</td>\n",
              "      <td>[qualificationsknowledge, skills, amp, abiliti...</td>\n",
              "      <td>[benefitswhat, is, offered, competitive, compe...</td>\n",
              "      <td>0</td>\n",
              "      <td>1</td>\n",
              "      <td>1</td>\n",
              "      <td>[full, time]</td>\n",
              "      <td>[mid, senior, level]</td>\n",
              "      <td>[high, school, or, equivalent]</td>\n",
              "      <td>[oil, energy]</td>\n",
              "      <td>[other]</td>\n",
              "      <td>1</td>\n",
              "    </tr>\n",
              "    <tr>\n",
              "      <th>102</th>\n",
              "      <td>103</td>\n",
              "      <td>[marketing, administrator]</td>\n",
              "      <td>[gb, war, coventry]</td>\n",
              "      <td>[marketplace]</td>\n",
              "      <td>[15000, 18000]</td>\n",
              "      <td>[renewable, energy, and, environmental, protec...</td>\n",
              "      <td>[the, job, is, to, support, the, growth, of, t...</td>\n",
              "      <td>[computer, literateable, to, work, with, html,...</td>\n",
              "      <td>[for, a, suitably, motivated, and, success, or...</td>\n",
              "      <td>1</td>\n",
              "      <td>1</td>\n",
              "      <td>0</td>\n",
              "      <td>[full, time]</td>\n",
              "      <td>[entry, level]</td>\n",
              "      <td>[bachelor, s, degree]</td>\n",
              "      <td>[internet]</td>\n",
              "      <td>[marketing]</td>\n",
              "      <td>0</td>\n",
              "    </tr>\n",
              "  </tbody>\n",
              "</table>\n",
              "</div>\n",
              "      <button class=\"colab-df-convert\" onclick=\"convertToInteractive('df-6f9e0988-f81a-4c67-b42e-900824885f8e')\"\n",
              "              title=\"Convert this dataframe to an interactive table.\"\n",
              "              style=\"display:none;\">\n",
              "        \n",
              "  <svg xmlns=\"http://www.w3.org/2000/svg\" height=\"24px\"viewBox=\"0 0 24 24\"\n",
              "       width=\"24px\">\n",
              "    <path d=\"M0 0h24v24H0V0z\" fill=\"none\"/>\n",
              "    <path d=\"M18.56 5.44l.94 2.06.94-2.06 2.06-.94-2.06-.94-.94-2.06-.94 2.06-2.06.94zm-11 1L8.5 8.5l.94-2.06 2.06-.94-2.06-.94L8.5 2.5l-.94 2.06-2.06.94zm10 10l.94 2.06.94-2.06 2.06-.94-2.06-.94-.94-2.06-.94 2.06-2.06.94z\"/><path d=\"M17.41 7.96l-1.37-1.37c-.4-.4-.92-.59-1.43-.59-.52 0-1.04.2-1.43.59L10.3 9.45l-7.72 7.72c-.78.78-.78 2.05 0 2.83L4 21.41c.39.39.9.59 1.41.59.51 0 1.02-.2 1.41-.59l7.78-7.78 2.81-2.81c.8-.78.8-2.07 0-2.86zM5.41 20L4 18.59l7.72-7.72 1.47 1.35L5.41 20z\"/>\n",
              "  </svg>\n",
              "      </button>\n",
              "      \n",
              "  <style>\n",
              "    .colab-df-container {\n",
              "      display:flex;\n",
              "      flex-wrap:wrap;\n",
              "      gap: 12px;\n",
              "    }\n",
              "\n",
              "    .colab-df-convert {\n",
              "      background-color: #E8F0FE;\n",
              "      border: none;\n",
              "      border-radius: 50%;\n",
              "      cursor: pointer;\n",
              "      display: none;\n",
              "      fill: #1967D2;\n",
              "      height: 32px;\n",
              "      padding: 0 0 0 0;\n",
              "      width: 32px;\n",
              "    }\n",
              "\n",
              "    .colab-df-convert:hover {\n",
              "      background-color: #E2EBFA;\n",
              "      box-shadow: 0px 1px 2px rgba(60, 64, 67, 0.3), 0px 1px 3px 1px rgba(60, 64, 67, 0.15);\n",
              "      fill: #174EA6;\n",
              "    }\n",
              "\n",
              "    [theme=dark] .colab-df-convert {\n",
              "      background-color: #3B4455;\n",
              "      fill: #D2E3FC;\n",
              "    }\n",
              "\n",
              "    [theme=dark] .colab-df-convert:hover {\n",
              "      background-color: #434B5C;\n",
              "      box-shadow: 0px 1px 3px 1px rgba(0, 0, 0, 0.15);\n",
              "      filter: drop-shadow(0px 1px 2px rgba(0, 0, 0, 0.3));\n",
              "      fill: #FFFFFF;\n",
              "    }\n",
              "  </style>\n",
              "\n",
              "      <script>\n",
              "        const buttonEl =\n",
              "          document.querySelector('#df-6f9e0988-f81a-4c67-b42e-900824885f8e button.colab-df-convert');\n",
              "        buttonEl.style.display =\n",
              "          google.colab.kernel.accessAllowed ? 'block' : 'none';\n",
              "\n",
              "        async function convertToInteractive(key) {\n",
              "          const element = document.querySelector('#df-6f9e0988-f81a-4c67-b42e-900824885f8e');\n",
              "          const dataTable =\n",
              "            await google.colab.kernel.invokeFunction('convertToInteractive',\n",
              "                                                     [key], {});\n",
              "          if (!dataTable) return;\n",
              "\n",
              "          const docLinkHtml = 'Like what you see? Visit the ' +\n",
              "            '<a target=\"_blank\" href=https://colab.research.google.com/notebooks/data_table.ipynb>data table notebook</a>'\n",
              "            + ' to learn more about interactive tables.';\n",
              "          element.innerHTML = '';\n",
              "          dataTable['output_type'] = 'display_data';\n",
              "          await google.colab.output.renderOutput(dataTable, element);\n",
              "          const docLink = document.createElement('div');\n",
              "          docLink.innerHTML = docLinkHtml;\n",
              "          element.appendChild(docLink);\n",
              "        }\n",
              "      </script>\n",
              "    </div>\n",
              "  </div>\n",
              "  "
            ]
          },
          "metadata": {}
        }
      ],
      "source": [
        "# Tokenize each text column\n",
        "token_df = new_df.copy()\n",
        "for column in new_df.columns:\n",
        "    token_df[column] = new_df[column].apply(lambda s: word_tokenize(s) if type(s) == str else s)\n",
        "display(token_df.head(5))"
      ]
    },
    {
      "cell_type": "markdown",
      "source": [
        "### tokenizer "
      ],
      "metadata": {
        "id": "AILw9JOa5438"
      }
    },
    {
      "cell_type": "code",
      "execution_count": 17,
      "metadata": {
        "id": "1I2njQ_SoAMj"
      },
      "outputs": [],
      "source": [
        "from keras.preprocessing.text import Tokenizer\n",
        "from keras.utils import pad_sequences\n",
        "from keras.models import Sequential\n",
        "from keras.layers import Dense, Embedding, LSTM, Conv1D, MaxPool1D\n",
        "from sklearn.model_selection import train_test_split\n",
        "from sklearn.metrics import classification_report, accuracy_score"
      ]
    },
    {
      "cell_type": "code",
      "execution_count": 18,
      "metadata": {
        "id": "KJpGeXjnn3Cb"
      },
      "outputs": [],
      "source": [
        "tokenizer = Tokenizer()\n",
        "tokenizer.fit_on_texts(token_df['description'])\n",
        "\n",
        "X = tokenizer.texts_to_sequences(token_df['description'])"
      ]
    },
    {
      "cell_type": "code",
      "execution_count": 19,
      "metadata": {
        "colab": {
          "base_uri": "https://localhost:8080/"
        },
        "id": "ujcQnLiTou0k",
        "outputId": "2dfe1f8f-3b6e-4d19-d69c-5b44ab55d3b5"
      },
      "outputs": [
        {
          "output_type": "execute_result",
          "data": {
            "text/plain": [
              "[30, 110, 131, 3, 1864, 1865, 1282, 18, 1, 138]"
            ]
          },
          "metadata": {},
          "execution_count": 19
        }
      ],
      "source": [
        "X[0][:10]"
      ]
    },
    {
      "cell_type": "code",
      "execution_count": 20,
      "metadata": {
        "colab": {
          "base_uri": "https://localhost:8080/"
        },
        "id": "eMtBEjyCo0UR",
        "outputId": "401f66ce-f434-4bf1-8b79-0c7aa47ab53b"
      },
      "outputs": [
        {
          "output_type": "stream",
          "name": "stdout",
          "text": [
            "and -> 1\n",
            "to -> 2\n",
            "the -> 3\n",
            "of -> 4\n",
            "a -> 5\n",
            "in -> 6\n",
            "for -> 7\n",
            "with -> 8\n",
            "our -> 9\n",
            "you -> 10\n"
          ]
        }
      ],
      "source": [
        "word_index = tokenizer.word_index\n",
        "for word, num in word_index.items():\n",
        "    print(f\"{word} -> {num}\")\n",
        "    if num == 10:\n",
        "        break    "
      ]
    },
    {
      "cell_type": "code",
      "execution_count": 21,
      "metadata": {
        "colab": {
          "base_uri": "https://localhost:8080/",
          "height": 265
        },
        "id": "6DH_pb9Co2H7",
        "outputId": "61a55955-e94c-442a-cfdf-68f815c5cc65"
      },
      "outputs": [
        {
          "output_type": "display_data",
          "data": {
            "text/plain": [
              "<Figure size 432x288 with 1 Axes>"
            ],
            "image/png": "[encoded data removed]"
          },
          "metadata": {
            "needs_background": "light"
          }
        }
      ],
      "source": [
        "import matplotlib.pyplot as plt\n",
        "plt.hist([len(x) for x in X], bins=500)\n",
        "plt.show()"
      ]
    },
    {
      "cell_type": "code",
      "execution_count": 22,
      "metadata": {
        "colab": {
          "base_uri": "https://localhost:8080/"
        },
        "id": "poDO1hGlo5pA",
        "outputId": "a919717b-fd5b-4e4e-a033-c54db97a3f56"
      },
      "outputs": [
        {
          "output_type": "execute_result",
          "data": {
            "text/plain": [
              "771"
            ]
          },
          "metadata": {},
          "execution_count": 22
        }
      ],
      "source": [
        "import numpy as np\n",
        "nos = np.array([len(x) for x in X])\n",
        "len(nos[nos  < 700])\n"
      ]
    },
    {
      "cell_type": "code",
      "execution_count": 23,
      "metadata": {
        "id": "U1op4Orbo9Ez"
      },
      "outputs": [],
      "source": [
        "#Lets keep all descriptions to 700, add padding to descriptions with less than 700 words and truncating long ones\n",
        "maxlen = 700 \n",
        "\n",
        "#Making all descriptions of size maxlen defined above\n",
        "X = pad_sequences(X, maxlen=maxlen)"
      ]
    },
    {
      "cell_type": "code",
      "execution_count": 24,
      "metadata": {
        "colab": {
          "base_uri": "https://localhost:8080/"
        },
        "id": "2lrU_nBMpBJY",
        "outputId": "69607252-9d3e-4753-827d-079c0d6b762a"
      },
      "outputs": [
        {
          "output_type": "execute_result",
          "data": {
            "text/plain": [
              "700"
            ]
          },
          "metadata": {},
          "execution_count": 24
        }
      ],
      "source": [
        "#all descriptions has 700 words (in numerical form now). If they had less words, they have been padded with 0\n",
        "# 0 is not associated to any word, as mapping of words started from 1\n",
        "# 0 will also be used later, if unknows word is encountered in test set\n",
        "len(X[0])"
      ]
    },
    {
      "cell_type": "code",
      "execution_count": 25,
      "metadata": {
        "id": "anrg5N5tpHfj"
      },
      "outputs": [],
      "source": [
        "# Adding 1 because of reserved 0 index\n",
        "# Embedding Layer creates one more vector for \"UNKNOWN\" words, or padded words (0s). This Vector is filled with zeros.\n",
        "# Thus our vocab size inceeases by 1\n",
        "vocab_size = len(tokenizer.word_index) + 1"
      ]
    },
    {
      "cell_type": "code",
      "source": [
        "y = new_df['fraudulent']"
      ],
      "metadata": {
        "id": "zVJwgGMD-_Vt"
      },
      "execution_count": 26,
      "outputs": []
    },
    {
      "cell_type": "code",
      "source": [
        "print(len(X))\n",
        "print(len(y))"
      ],
      "metadata": {
        "colab": {
          "base_uri": "https://localhost:8080/"
        },
        "id": "PuTeDXj8GVpR",
        "outputId": "179e6f4e-2597-45b3-b1c3-89770948cf58"
      },
      "execution_count": 27,
      "outputs": [
        {
          "output_type": "stream",
          "name": "stdout",
          "text": [
            "774\n",
            "774\n"
          ]
        }
      ]
    },
    {
      "cell_type": "markdown",
      "source": [
        "### oversample"
      ],
      "metadata": {
        "id": "h-P0pUyzwvU6"
      }
    },
    {
      "cell_type": "code",
      "source": [
        "from imblearn.over_sampling import RandomOverSampler"
      ],
      "metadata": {
        "id": "SvZkpfoOxPH8"
      },
      "execution_count": 28,
      "outputs": []
    },
    {
      "cell_type": "code",
      "source": [
        "oversample = RandomOverSampler(sampling_strategy='minority')"
      ],
      "metadata": {
        "id": "9wM-e7Cnw8cq"
      },
      "execution_count": 29,
      "outputs": []
    },
    {
      "cell_type": "code",
      "source": [
        "y.value_counts().plot.bar()"
      ],
      "metadata": {
        "id": "TBez8HEky-4g",
        "outputId": "ff640a19-c341-4867-9438-e733c12725e4",
        "colab": {
          "base_uri": "https://localhost:8080/",
          "height": 279
        }
      },
      "execution_count": 30,
      "outputs": [
        {
          "output_type": "execute_result",
          "data": {
            "text/plain": [
              "<matplotlib.axes._subplots.AxesSubplot at 0x7feff3d94bb0>"
            ]
          },
          "metadata": {},
          "execution_count": 30
        },
        {
          "output_type": "display_data",
          "data": {
            "text/plain": [
              "<Figure size 432x288 with 1 Axes>"
            ],
            "image/png": "[encoded data removed]"
          },
          "metadata": {
            "needs_background": "light"
          }
        }
      ]
    },
    {
      "cell_type": "code",
      "source": [
        "X_train, X_test, y_train, y_test = train_test_split(X, y)"
      ],
      "metadata": {
        "id": "qVJFp664_BQg"
      },
      "execution_count": 31,
      "outputs": []
    },
    {
      "cell_type": "code",
      "source": [
        "X_train, y_train = oversample.fit_resample(X_train, y_train)"
      ],
      "metadata": {
        "id": "0mODa4qnxQ43"
      },
      "execution_count": 32,
      "outputs": []
    },
    {
      "cell_type": "code",
      "source": [
        "y_train.value_counts().plot.bar()"
      ],
      "metadata": {
        "id": "sgL7tOG5yyHh",
        "outputId": "b4379782-0567-4429-fbc3-b4d7397ab570",
        "colab": {
          "base_uri": "https://localhost:8080/",
          "height": 279
        }
      },
      "execution_count": 34,
      "outputs": [
        {
          "output_type": "execute_result",
          "data": {
            "text/plain": [
              "<matplotlib.axes._subplots.AxesSubplot at 0x7feff3d78c40>"
            ]
          },
          "metadata": {},
          "execution_count": 34
        },
        {
          "output_type": "display_data",
          "data": {
            "text/plain": [
              "<Figure size 432x288 with 1 Axes>"
            ],
            "image/png": "[encoded data removed]"
          },
          "metadata": {
            "needs_background": "light"
          }
        }
      ]
    },
    {
      "cell_type": "markdown",
      "source": [
        "## Model Training"
      ],
      "metadata": {
        "id": "ClgnzAl25lfR"
      }
    },
    {
      "cell_type": "markdown",
      "source": [
        "### model with no embedding layer"
      ],
      "metadata": {
        "id": "MHW90M8qA5s8"
      }
    },
    {
      "cell_type": "code",
      "source": [
        "#Defining Neural Network\n",
        "model = Sequential()\n",
        "#Non-trainable embeddidng layer\n",
        "#LSTM \n",
        "model.add(LSTM(units=128,input_shape=(700, 1)))\n",
        "model.add(Dense(1, activation='sigmoid'))\n",
        "model.compile(optimizer='adam', loss='binary_crossentropy', metrics=['acc'])\n"
      ],
      "metadata": {
        "id": "Uf4B9u6b-iIj"
      },
      "execution_count": 35,
      "outputs": []
    },
    {
      "cell_type": "code",
      "source": [
        "model.summary()"
      ],
      "metadata": {
        "colab": {
          "base_uri": "https://localhost:8080/"
        },
        "id": "EFOBTX2t-xzK",
        "outputId": "208df766-ffec-4bb9-b267-3ffbe4fed7a4"
      },
      "execution_count": 36,
      "outputs": [
        {
          "output_type": "stream",
          "name": "stdout",
          "text": [
            "Model: \"sequential\"\n",
            "_________________________________________________________________\n",
            " Layer (type)                Output Shape              Param #   \n",
            "=================================================================\n",
            " lstm (LSTM)                 (None, 128)               66560     \n",
            "                                                                 \n",
            " dense (Dense)               (None, 1)                 129       \n",
            "                                                                 \n",
            "=================================================================\n",
            "Total params: 66,689\n",
            "Trainable params: 66,689\n",
            "Non-trainable params: 0\n",
            "_________________________________________________________________\n"
          ]
        }
      ]
    },
    {
      "cell_type": "code",
      "source": [
        "model.fit(X_train, y_train, validation_split=0.3, epochs=6)"
      ],
      "metadata": {
        "colab": {
          "base_uri": "https://localhost:8080/"
        },
        "id": "osgmkV5fMXm2",
        "outputId": "34845880-fee1-4d8f-bacb-3dcbdaa8d43a"
      },
      "execution_count": 37,
      "outputs": [
        {
          "output_type": "stream",
          "name": "stdout",
          "text": [
            "Epoch 1/6\n",
            "24/24 [==============================] - 10s 62ms/step - loss: 0.6342 - acc: 0.6613 - val_loss: 1.3234 - val_acc: 0.0219\n",
            "Epoch 2/6\n",
            "24/24 [==============================] - 1s 41ms/step - loss: 0.5772 - acc: 0.7245 - val_loss: 1.2475 - val_acc: 0.0219\n",
            "Epoch 3/6\n",
            "24/24 [==============================] - 1s 40ms/step - loss: 0.5489 - acc: 0.7245 - val_loss: 1.1213 - val_acc: 0.0219\n",
            "Epoch 4/6\n",
            "24/24 [==============================] - 1s 47ms/step - loss: 0.4844 - acc: 0.7298 - val_loss: 0.7381 - val_acc: 0.4969\n",
            "Epoch 5/6\n",
            "24/24 [==============================] - 1s 40ms/step - loss: 0.4213 - acc: 0.7930 - val_loss: 0.9058 - val_acc: 0.4688\n",
            "Epoch 6/6\n",
            "24/24 [==============================] - 1s 40ms/step - loss: 0.3786 - acc: 0.8118 - val_loss: 0.7218 - val_acc: 0.7156\n"
          ]
        },
        {
          "output_type": "execute_result",
          "data": {
            "text/plain": [
              "<keras.callbacks.History at 0x7feff39c2640>"
            ]
          },
          "metadata": {},
          "execution_count": 37
        }
      ]
    },
    {
      "cell_type": "code",
      "source": [
        "y_pred = (model.predict(X_test) >= 0.5).astype(\"int\")"
      ],
      "metadata": {
        "colab": {
          "base_uri": "https://localhost:8080/"
        },
        "id": "fCQrsEouMgYs",
        "outputId": "c60366b3-e257-4550-dfb6-4a7496354cde"
      },
      "execution_count": 38,
      "outputs": [
        {
          "output_type": "stream",
          "name": "stdout",
          "text": [
            "7/7 [==============================] - 0s 14ms/step\n"
          ]
        }
      ]
    },
    {
      "cell_type": "code",
      "source": [
        "print(classification_report(y_test, y_pred))"
      ],
      "metadata": {
        "colab": {
          "base_uri": "https://localhost:8080/"
        },
        "id": "gDEWEHEuMcBa",
        "outputId": "118a0d00-8518-4701-e32d-c062489cadeb"
      },
      "execution_count": 39,
      "outputs": [
        {
          "output_type": "stream",
          "name": "stdout",
          "text": [
            "              precision    recall  f1-score   support\n",
            "\n",
            "           0       0.96      0.88      0.92       170\n",
            "           1       0.46      0.71      0.56        24\n",
            "\n",
            "    accuracy                           0.86       194\n",
            "   macro avg       0.71      0.80      0.74       194\n",
            "weighted avg       0.89      0.86      0.87       194\n",
            "\n"
          ]
        }
      ]
    },
    {
      "cell_type": "code",
      "source": [
        "model.fit(X_train, y_train, validation_split=0.3, epochs=60)"
      ],
      "metadata": {
        "colab": {
          "base_uri": "https://localhost:8080/"
        },
        "id": "r_xfsYuc-zr9",
        "outputId": "95cf46ea-0f3c-46fe-c488-8e802f3eb4c8"
      },
      "execution_count": 67,
      "outputs": [
        {
          "output_type": "stream",
          "name": "stdout",
          "text": [
            "Epoch 1/60\n",
            "24/24 [==============================] - 1s 48ms/step - loss: 0.0026 - acc: 1.0000 - val_loss: 0.0052 - val_acc: 1.0000\n",
            "Epoch 2/60\n",
            "24/24 [==============================] - 1s 45ms/step - loss: 0.0023 - acc: 1.0000 - val_loss: 0.0047 - val_acc: 1.0000\n",
            "Epoch 3/60\n",
            "24/24 [==============================] - 1s 45ms/step - loss: 0.0020 - acc: 1.0000 - val_loss: 0.0041 - val_acc: 1.0000\n",
            "Epoch 4/60\n",
            "24/24 [==============================] - 1s 43ms/step - loss: 0.0019 - acc: 1.0000 - val_loss: 0.0038 - val_acc: 1.0000\n",
            "Epoch 5/60\n",
            "24/24 [==============================] - 1s 43ms/step - loss: 0.0017 - acc: 1.0000 - val_loss: 0.0035 - val_acc: 1.0000\n",
            "Epoch 6/60\n",
            "24/24 [==============================] - 1s 44ms/step - loss: 0.0016 - acc: 1.0000 - val_loss: 0.0034 - val_acc: 1.0000\n",
            "Epoch 7/60\n",
            "24/24 [==============================] - 1s 45ms/step - loss: 0.0015 - acc: 1.0000 - val_loss: 0.0031 - val_acc: 1.0000\n",
            "Epoch 8/60\n",
            "24/24 [==============================] - 1s 44ms/step - loss: 0.0014 - acc: 1.0000 - val_loss: 0.0029 - val_acc: 1.0000\n",
            "Epoch 9/60\n",
            "24/24 [==============================] - 1s 44ms/step - loss: 0.0013 - acc: 1.0000 - val_loss: 0.0027 - val_acc: 1.0000\n",
            "Epoch 10/60\n",
            "24/24 [==============================] - 1s 46ms/step - loss: 0.0013 - acc: 1.0000 - val_loss: 0.0026 - val_acc: 1.0000\n",
            "Epoch 11/60\n",
            "24/24 [==============================] - 1s 44ms/step - loss: 0.0012 - acc: 1.0000 - val_loss: 0.0025 - val_acc: 1.0000\n",
            "Epoch 12/60\n",
            "24/24 [==============================] - 1s 44ms/step - loss: 0.0011 - acc: 1.0000 - val_loss: 0.0023 - val_acc: 1.0000\n",
            "Epoch 13/60\n",
            "24/24 [==============================] - 1s 45ms/step - loss: 0.0011 - acc: 1.0000 - val_loss: 0.0021 - val_acc: 1.0000\n",
            "Epoch 14/60\n",
            "24/24 [==============================] - 1s 43ms/step - loss: 0.0010 - acc: 1.0000 - val_loss: 0.0023 - val_acc: 1.0000\n",
            "Epoch 15/60\n",
            "24/24 [==============================] - 1s 44ms/step - loss: 9.8317e-04 - acc: 1.0000 - val_loss: 0.0019 - val_acc: 1.0000\n",
            "Epoch 16/60\n",
            "24/24 [==============================] - 1s 46ms/step - loss: 9.3745e-04 - acc: 1.0000 - val_loss: 0.0019 - val_acc: 1.0000\n",
            "Epoch 17/60\n",
            "24/24 [==============================] - 1s 44ms/step - loss: 8.9049e-04 - acc: 1.0000 - val_loss: 0.0018 - val_acc: 1.0000\n",
            "Epoch 18/60\n",
            "24/24 [==============================] - 1s 43ms/step - loss: 8.5914e-04 - acc: 1.0000 - val_loss: 0.0017 - val_acc: 1.0000\n",
            "Epoch 19/60\n",
            "24/24 [==============================] - 1s 44ms/step - loss: 8.1745e-04 - acc: 1.0000 - val_loss: 0.0017 - val_acc: 1.0000\n",
            "Epoch 20/60\n",
            "24/24 [==============================] - 1s 43ms/step - loss: 7.8930e-04 - acc: 1.0000 - val_loss: 0.0016 - val_acc: 1.0000\n",
            "Epoch 21/60\n",
            "24/24 [==============================] - 1s 45ms/step - loss: 7.5798e-04 - acc: 1.0000 - val_loss: 0.0015 - val_acc: 1.0000\n",
            "Epoch 22/60\n",
            "24/24 [==============================] - 1s 44ms/step - loss: 7.3400e-04 - acc: 1.0000 - val_loss: 0.0015 - val_acc: 1.0000\n",
            "Epoch 23/60\n",
            "24/24 [==============================] - 1s 44ms/step - loss: 7.0672e-04 - acc: 1.0000 - val_loss: 0.0015 - val_acc: 1.0000\n",
            "Epoch 24/60\n",
            "24/24 [==============================] - 1s 44ms/step - loss: 6.7765e-04 - acc: 1.0000 - val_loss: 0.0014 - val_acc: 1.0000\n",
            "Epoch 25/60\n",
            "24/24 [==============================] - 1s 50ms/step - loss: 6.5138e-04 - acc: 1.0000 - val_loss: 0.0014 - val_acc: 1.0000\n",
            "Epoch 26/60\n",
            "24/24 [==============================] - 1s 44ms/step - loss: 6.3001e-04 - acc: 1.0000 - val_loss: 0.0013 - val_acc: 1.0000\n",
            "Epoch 27/60\n",
            "24/24 [==============================] - 1s 44ms/step - loss: 6.1275e-04 - acc: 1.0000 - val_loss: 0.0013 - val_acc: 1.0000\n",
            "Epoch 28/60\n",
            "24/24 [==============================] - 1s 43ms/step - loss: 5.8678e-04 - acc: 1.0000 - val_loss: 0.0012 - val_acc: 1.0000\n",
            "Epoch 29/60\n",
            "24/24 [==============================] - 1s 46ms/step - loss: 5.6571e-04 - acc: 1.0000 - val_loss: 0.0012 - val_acc: 1.0000\n",
            "Epoch 30/60\n",
            "24/24 [==============================] - 1s 44ms/step - loss: 5.4499e-04 - acc: 1.0000 - val_loss: 0.0012 - val_acc: 1.0000\n",
            "Epoch 31/60\n",
            "24/24 [==============================] - 1s 45ms/step - loss: 5.2540e-04 - acc: 1.0000 - val_loss: 0.0011 - val_acc: 1.0000\n",
            "Epoch 32/60\n",
            "24/24 [==============================] - 1s 43ms/step - loss: 5.0809e-04 - acc: 1.0000 - val_loss: 0.0011 - val_acc: 1.0000\n",
            "Epoch 33/60\n",
            "24/24 [==============================] - 1s 45ms/step - loss: 4.9425e-04 - acc: 1.0000 - val_loss: 0.0010 - val_acc: 1.0000\n",
            "Epoch 34/60\n",
            "24/24 [==============================] - 1s 44ms/step - loss: 4.7432e-04 - acc: 1.0000 - val_loss: 9.7433e-04 - val_acc: 1.0000\n",
            "Epoch 35/60\n",
            "24/24 [==============================] - 1s 44ms/step - loss: 4.5790e-04 - acc: 1.0000 - val_loss: 9.6730e-04 - val_acc: 1.0000\n",
            "Epoch 36/60\n",
            "24/24 [==============================] - 1s 43ms/step - loss: 4.4338e-04 - acc: 1.0000 - val_loss: 9.4046e-04 - val_acc: 1.0000\n",
            "Epoch 37/60\n",
            "24/24 [==============================] - 1s 44ms/step - loss: 4.3066e-04 - acc: 1.0000 - val_loss: 8.9665e-04 - val_acc: 1.0000\n",
            "Epoch 38/60\n",
            "24/24 [==============================] - 1s 44ms/step - loss: 4.1720e-04 - acc: 1.0000 - val_loss: 8.8826e-04 - val_acc: 1.0000\n",
            "Epoch 39/60\n",
            "24/24 [==============================] - 1s 44ms/step - loss: 4.0518e-04 - acc: 1.0000 - val_loss: 8.5685e-04 - val_acc: 1.0000\n",
            "Epoch 40/60\n",
            "24/24 [==============================] - 1s 44ms/step - loss: 3.9478e-04 - acc: 1.0000 - val_loss: 8.2010e-04 - val_acc: 1.0000\n",
            "Epoch 41/60\n",
            "24/24 [==============================] - 1s 44ms/step - loss: 3.8038e-04 - acc: 1.0000 - val_loss: 8.1843e-04 - val_acc: 1.0000\n",
            "Epoch 42/60\n",
            "24/24 [==============================] - 1s 44ms/step - loss: 3.6842e-04 - acc: 1.0000 - val_loss: 7.7171e-04 - val_acc: 1.0000\n",
            "Epoch 43/60\n",
            "24/24 [==============================] - 1s 44ms/step - loss: 3.5851e-04 - acc: 1.0000 - val_loss: 7.7328e-04 - val_acc: 1.0000\n",
            "Epoch 44/60\n",
            "24/24 [==============================] - 1s 44ms/step - loss: 3.4873e-04 - acc: 1.0000 - val_loss: 7.3446e-04 - val_acc: 1.0000\n",
            "Epoch 45/60\n",
            "24/24 [==============================] - 1s 45ms/step - loss: 3.3994e-04 - acc: 1.0000 - val_loss: 7.1945e-04 - val_acc: 1.0000\n",
            "Epoch 46/60\n",
            "24/24 [==============================] - 1s 44ms/step - loss: 3.3749e-04 - acc: 1.0000 - val_loss: 7.4382e-04 - val_acc: 1.0000\n",
            "Epoch 47/60\n",
            "24/24 [==============================] - 1s 44ms/step - loss: 3.2318e-04 - acc: 1.0000 - val_loss: 6.6316e-04 - val_acc: 1.0000\n",
            "Epoch 48/60\n",
            "24/24 [==============================] - 1s 51ms/step - loss: 3.1491e-04 - acc: 1.0000 - val_loss: 6.6071e-04 - val_acc: 1.0000\n",
            "Epoch 49/60\n",
            "24/24 [==============================] - 1s 45ms/step - loss: 3.0661e-04 - acc: 1.0000 - val_loss: 6.2394e-04 - val_acc: 1.0000\n",
            "Epoch 50/60\n",
            "24/24 [==============================] - 1s 44ms/step - loss: 2.9470e-04 - acc: 1.0000 - val_loss: 6.3110e-04 - val_acc: 1.0000\n",
            "Epoch 51/60\n",
            "24/24 [==============================] - 1s 44ms/step - loss: 2.8811e-04 - acc: 1.0000 - val_loss: 6.1811e-04 - val_acc: 1.0000\n",
            "Epoch 52/60\n",
            "24/24 [==============================] - 1s 44ms/step - loss: 2.8041e-04 - acc: 1.0000 - val_loss: 5.9829e-04 - val_acc: 1.0000\n",
            "Epoch 53/60\n",
            "24/24 [==============================] - 1s 44ms/step - loss: 2.7467e-04 - acc: 1.0000 - val_loss: 5.8407e-04 - val_acc: 1.0000\n",
            "Epoch 54/60\n",
            "24/24 [==============================] - 1s 44ms/step - loss: 2.6729e-04 - acc: 1.0000 - val_loss: 5.6657e-04 - val_acc: 1.0000\n",
            "Epoch 55/60\n",
            "24/24 [==============================] - 1s 43ms/step - loss: 2.6054e-04 - acc: 1.0000 - val_loss: 5.5109e-04 - val_acc: 1.0000\n",
            "Epoch 56/60\n",
            "24/24 [==============================] - 1s 44ms/step - loss: 2.5462e-04 - acc: 1.0000 - val_loss: 5.3449e-04 - val_acc: 1.0000\n",
            "Epoch 57/60\n",
            "24/24 [==============================] - 1s 45ms/step - loss: 2.4895e-04 - acc: 1.0000 - val_loss: 5.2191e-04 - val_acc: 1.0000\n",
            "Epoch 58/60\n",
            "24/24 [==============================] - 1s 44ms/step - loss: 2.4412e-04 - acc: 1.0000 - val_loss: 5.2634e-04 - val_acc: 1.0000\n",
            "Epoch 59/60\n",
            "24/24 [==============================] - 1s 45ms/step - loss: 2.3883e-04 - acc: 1.0000 - val_loss: 4.9436e-04 - val_acc: 1.0000\n",
            "Epoch 60/60\n",
            "24/24 [==============================] - 1s 44ms/step - loss: 2.3349e-04 - acc: 1.0000 - val_loss: 4.9943e-04 - val_acc: 1.0000\n"
          ]
        },
        {
          "output_type": "execute_result",
          "data": {
            "text/plain": [
              "<keras.callbacks.History at 0x7fef76eb19a0>"
            ]
          },
          "metadata": {},
          "execution_count": 67
        }
      ]
    },
    {
      "cell_type": "code",
      "source": [
        "y_pred = (model.predict(X_test) >= 0.5).astype(\"int\")"
      ],
      "metadata": {
        "colab": {
          "base_uri": "https://localhost:8080/"
        },
        "id": "Zc6XbQwb-12I",
        "outputId": "c2262b91-a252-4a90-c516-250e52969d4c"
      },
      "execution_count": 65,
      "outputs": [
        {
          "output_type": "stream",
          "name": "stdout",
          "text": [
            "7/7 [==============================] - 0s 20ms/step\n"
          ]
        }
      ]
    },
    {
      "cell_type": "code",
      "source": [
        "print(classification_report(y_test, y_pred))"
      ],
      "metadata": {
        "colab": {
          "base_uri": "https://localhost:8080/"
        },
        "id": "qwBysA1I-5hS",
        "outputId": "019a66b1-f572-4d9d-fd1e-99a5622d2813"
      },
      "execution_count": 66,
      "outputs": [
        {
          "output_type": "stream",
          "name": "stdout",
          "text": [
            "              precision    recall  f1-score   support\n",
            "\n",
            "           0       0.97      0.95      0.96       170\n",
            "           1       0.70      0.79      0.75        24\n",
            "\n",
            "    accuracy                           0.93       194\n",
            "   macro avg       0.84      0.87      0.85       194\n",
            "weighted avg       0.94      0.93      0.93       194\n",
            "\n"
          ]
        }
      ]
    },
    {
      "cell_type": "markdown",
      "source": [
        "### model with word2Vec embedding layer"
      ],
      "metadata": {
        "id": "dbxj69bwBD5X"
      }
    },
    {
      "cell_type": "code",
      "source": [
        "EMBEDDING_DIM = 100"
      ],
      "metadata": {
        "id": "w5PZaepOeKER"
      },
      "execution_count": 43,
      "outputs": []
    },
    {
      "cell_type": "markdown",
      "source": [
        "#### word2vec"
      ],
      "metadata": {
        "id": "xyl5l88R6LFb"
      }
    },
    {
      "cell_type": "code",
      "execution_count": 44,
      "metadata": {
        "id": "2Miwj-OX6LFc"
      },
      "outputs": [],
      "source": [
        "import gensim"
      ]
    },
    {
      "cell_type": "code",
      "execution_count": 45,
      "metadata": {
        "id": "5-YvXYn-6LFd"
      },
      "outputs": [],
      "source": [
        "sentence = token_df['description']"
      ]
    },
    {
      "cell_type": "code",
      "execution_count": 46,
      "metadata": {
        "colab": {
          "base_uri": "https://localhost:8080/"
        },
        "outputId": "51ae085f-2206-43d2-e926-a381a42dda74",
        "id": "NT9wCqIa6LFd"
      },
      "outputs": [
        {
          "output_type": "stream",
          "name": "stdout",
          "text": [
            "<class 'pandas.core.series.Series'>\n",
            "(774,)\n",
            "6        [your, responsibilities, manage, the, english,...\n",
            "15       [about, vault, dragon, vault, dragon, is, drop...\n",
            "23       [url, eda2500ddcedb60957fcd7f5b164e092966f8c4e...\n",
            "98       [ic, amp, e, technician, bakersfield, ca, mt, ...\n",
            "102      [the, job, is, to, support, the, growth, of, t...\n",
            "                               ...                        \n",
            "17734    [we, are, seeking, a, candidate, whose, core, ...\n",
            "17759    [we, are, seeking, a, candidate, whose, core, ...\n",
            "17813    [we, are, seeking, a, candidate, whose, core, ...\n",
            "17849    [balanced, labs, exists, to, improve, the, liv...\n",
            "17865    [avenuestory, is, looking, for, a, curious, am...\n",
            "Name: description, Length: 774, dtype: object\n"
          ]
        }
      ],
      "source": [
        "print(type(sentence))\n",
        "print(sentence.shape)\n",
        "print(sentence)"
      ]
    },
    {
      "cell_type": "code",
      "execution_count": 47,
      "metadata": {
        "colab": {
          "base_uri": "https://localhost:8080/"
        },
        "outputId": "2b6a2b41-c5a1-4b8d-e3b2-bde68ebff94c",
        "id": "zWZ-zxly6LFf"
      },
      "outputs": [
        {
          "output_type": "execute_result",
          "data": {
            "text/plain": [
              "False"
            ]
          },
          "metadata": {},
          "execution_count": 47
        }
      ],
      "source": [
        "'reproducing' in sentence[6]"
      ]
    },
    {
      "cell_type": "code",
      "execution_count": 48,
      "metadata": {
        "id": "Bcel78Bt6LFf"
      },
      "outputs": [],
      "source": [
        "# initialize a model\n",
        "w2v_model = gensim.models.Word2Vec(sentence, size=100, min_count=1)"
      ]
    },
    {
      "cell_type": "code",
      "execution_count": 49,
      "metadata": {
        "id": "BiUEDogJ6LFh"
      },
      "outputs": [],
      "source": [
        "def most_similar(w2v_model, words, topn=10):\n",
        "    similar_df = pd.DataFrame()\n",
        "    for word in words:\n",
        "        try:\n",
        "            similar_words = pd.DataFrame(w2v_model.wv.most_similar(word, topn=topn), columns=[word, 'cos'])\n",
        "            similar_df = pd.concat([similar_df, similar_words], axis=1)\n",
        "        except:\n",
        "            print(word, \"not found in Word2Vec model!\")\n",
        "    return similar_df"
      ]
    },
    {
      "cell_type": "code",
      "execution_count": 50,
      "metadata": {
        "colab": {
          "base_uri": "https://localhost:8080/",
          "height": 0
        },
        "outputId": "fc61ee78-7afb-403a-a5bc-04a6cee19557",
        "id": "Ay6-6o5z6LFh"
      },
      "outputs": [
        {
          "output_type": "execute_result",
          "data": {
            "text/plain": [
              "            our       cos        title       cos     client       cos  \\\n",
              "0       success  0.998160      summary  0.999644    product  0.999024   \n",
              "1       rapidly  0.997701          out  0.999626        amp  0.998494   \n",
              "2  professional  0.997471  description  0.999602     social  0.998428   \n",
              "3    technology  0.997025        those  0.999596   hardware  0.998317   \n",
              "4    developers  0.996898        hours  0.999541      media  0.998295   \n",
              "5     positions  0.996592    dedicated  0.999512  including  0.998063   \n",
              "6       awesome  0.996589      created  0.999484     design  0.997997   \n",
              "7        driven  0.996582       office  0.999473  marketing  0.997703   \n",
              "8     employees  0.996551          set  0.999461    through  0.997654   \n",
              "9    revolution  0.996543        focus  0.999423   discover  0.997590   \n",
              "\n",
              "    company       cos  \n",
              "0    values  0.997908  \n",
              "1  progress  0.997015  \n",
              "2      five  0.994460  \n",
              "3       sme  0.993263  \n",
              "4     world  0.993018  \n",
              "5        go  0.992845  \n",
              "6   version  0.992690  \n",
              "7   blippar  0.991669  \n",
              "8       ngo  0.990675  \n",
              "9   biggest  0.990452  "
            ],
            "text/html": [
              "\n",
              "  <div id=\"df-3a92cd0a-6990-4ab1-8eed-817607f5f12f\">\n",
              "    <div class=\"colab-df-container\">\n",
              "      <div>\n",
              "<style scoped>\n",
              "    .dataframe tbody tr th:only-of-type {\n",
              "        vertical-align: middle;\n",
              "    }\n",
              "\n",
              "    .dataframe tbody tr th {\n",
              "        vertical-align: top;\n",
              "    }\n",
              "\n",
              "    .dataframe thead th {\n",
              "        text-align: right;\n",
              "    }\n",
              "</style>\n",
              "<table border=\"1\" class=\"dataframe\">\n",
              "  <thead>\n",
              "    <tr style=\"text-align: right;\">\n",
              "      <th></th>\n",
              "      <th>our</th>\n",
              "      <th>cos</th>\n",
              "      <th>title</th>\n",
              "      <th>cos</th>\n",
              "      <th>client</th>\n",
              "      <th>cos</th>\n",
              "      <th>company</th>\n",
              "      <th>cos</th>\n",
              "    </tr>\n",
              "  </thead>\n",
              "  <tbody>\n",
              "    <tr>\n",
              "      <th>0</th>\n",
              "      <td>success</td>\n",
              "      <td>0.998160</td>\n",
              "      <td>summary</td>\n",
              "      <td>0.999644</td>\n",
              "      <td>product</td>\n",
              "      <td>0.999024</td>\n",
              "      <td>values</td>\n",
              "      <td>0.997908</td>\n",
              "    </tr>\n",
              "    <tr>\n",
              "      <th>1</th>\n",
              "      <td>rapidly</td>\n",
              "      <td>0.997701</td>\n",
              "      <td>out</td>\n",
              "      <td>0.999626</td>\n",
              "      <td>amp</td>\n",
              "      <td>0.998494</td>\n",
              "      <td>progress</td>\n",
              "      <td>0.997015</td>\n",
              "    </tr>\n",
              "    <tr>\n",
              "      <th>2</th>\n",
              "      <td>professional</td>\n",
              "      <td>0.997471</td>\n",
              "      <td>description</td>\n",
              "      <td>0.999602</td>\n",
              "      <td>social</td>\n",
              "      <td>0.998428</td>\n",
              "      <td>five</td>\n",
              "      <td>0.994460</td>\n",
              "    </tr>\n",
              "    <tr>\n",
              "      <th>3</th>\n",
              "      <td>technology</td>\n",
              "      <td>0.997025</td>\n",
              "      <td>those</td>\n",
              "      <td>0.999596</td>\n",
              "      <td>hardware</td>\n",
              "      <td>0.998317</td>\n",
              "      <td>sme</td>\n",
              "      <td>0.993263</td>\n",
              "    </tr>\n",
              "    <tr>\n",
              "      <th>4</th>\n",
              "      <td>developers</td>\n",
              "      <td>0.996898</td>\n",
              "      <td>hours</td>\n",
              "      <td>0.999541</td>\n",
              "      <td>media</td>\n",
              "      <td>0.998295</td>\n",
              "      <td>world</td>\n",
              "      <td>0.993018</td>\n",
              "    </tr>\n",
              "    <tr>\n",
              "      <th>5</th>\n",
              "      <td>positions</td>\n",
              "      <td>0.996592</td>\n",
              "      <td>dedicated</td>\n",
              "      <td>0.999512</td>\n",
              "      <td>including</td>\n",
              "      <td>0.998063</td>\n",
              "      <td>go</td>\n",
              "      <td>0.992845</td>\n",
              "    </tr>\n",
              "    <tr>\n",
              "      <th>6</th>\n",
              "      <td>awesome</td>\n",
              "      <td>0.996589</td>\n",
              "      <td>created</td>\n",
              "      <td>0.999484</td>\n",
              "      <td>design</td>\n",
              "      <td>0.997997</td>\n",
              "      <td>version</td>\n",
              "      <td>0.992690</td>\n",
              "    </tr>\n",
              "    <tr>\n",
              "      <th>7</th>\n",
              "      <td>driven</td>\n",
              "      <td>0.996582</td>\n",
              "      <td>office</td>\n",
              "      <td>0.999473</td>\n",
              "      <td>marketing</td>\n",
              "      <td>0.997703</td>\n",
              "      <td>blippar</td>\n",
              "      <td>0.991669</td>\n",
              "    </tr>\n",
              "    <tr>\n",
              "      <th>8</th>\n",
              "      <td>employees</td>\n",
              "      <td>0.996551</td>\n",
              "      <td>set</td>\n",
              "      <td>0.999461</td>\n",
              "      <td>through</td>\n",
              "      <td>0.997654</td>\n",
              "      <td>ngo</td>\n",
              "      <td>0.990675</td>\n",
              "    </tr>\n",
              "    <tr>\n",
              "      <th>9</th>\n",
              "      <td>revolution</td>\n",
              "      <td>0.996543</td>\n",
              "      <td>focus</td>\n",
              "      <td>0.999423</td>\n",
              "      <td>discover</td>\n",
              "      <td>0.997590</td>\n",
              "      <td>biggest</td>\n",
              "      <td>0.990452</td>\n",
              "    </tr>\n",
              "  </tbody>\n",
              "</table>\n",
              "</div>\n",
              "      <button class=\"colab-df-convert\" onclick=\"convertToInteractive('df-3a92cd0a-6990-4ab1-8eed-817607f5f12f')\"\n",
              "              title=\"Convert this dataframe to an interactive table.\"\n",
              "              style=\"display:none;\">\n",
              "        \n",
              "  <svg xmlns=\"http://www.w3.org/2000/svg\" height=\"24px\"viewBox=\"0 0 24 24\"\n",
              "       width=\"24px\">\n",
              "    <path d=\"M0 0h24v24H0V0z\" fill=\"none\"/>\n",
              "    <path d=\"M18.56 5.44l.94 2.06.94-2.06 2.06-.94-2.06-.94-.94-2.06-.94 2.06-2.06.94zm-11 1L8.5 8.5l.94-2.06 2.06-.94-2.06-.94L8.5 2.5l-.94 2.06-2.06.94zm10 10l.94 2.06.94-2.06 2.06-.94-2.06-.94-.94-2.06-.94 2.06-2.06.94z\"/><path d=\"M17.41 7.96l-1.37-1.37c-.4-.4-.92-.59-1.43-.59-.52 0-1.04.2-1.43.59L10.3 9.45l-7.72 7.72c-.78.78-.78 2.05 0 2.83L4 21.41c.39.39.9.59 1.41.59.51 0 1.02-.2 1.41-.59l7.78-7.78 2.81-2.81c.8-.78.8-2.07 0-2.86zM5.41 20L4 18.59l7.72-7.72 1.47 1.35L5.41 20z\"/>\n",
              "  </svg>\n",
              "      </button>\n",
              "      \n",
              "  <style>\n",
              "    .colab-df-container {\n",
              "      display:flex;\n",
              "      flex-wrap:wrap;\n",
              "      gap: 12px;\n",
              "    }\n",
              "\n",
              "    .colab-df-convert {\n",
              "      background-color: #E8F0FE;\n",
              "      border: none;\n",
              "      border-radius: 50%;\n",
              "      cursor: pointer;\n",
              "      display: none;\n",
              "      fill: #1967D2;\n",
              "      height: 32px;\n",
              "      padding: 0 0 0 0;\n",
              "      width: 32px;\n",
              "    }\n",
              "\n",
              "    .colab-df-convert:hover {\n",
              "      background-color: #E2EBFA;\n",
              "      box-shadow: 0px 1px 2px rgba(60, 64, 67, 0.3), 0px 1px 3px 1px rgba(60, 64, 67, 0.15);\n",
              "      fill: #174EA6;\n",
              "    }\n",
              "\n",
              "    [theme=dark] .colab-df-convert {\n",
              "      background-color: #3B4455;\n",
              "      fill: #D2E3FC;\n",
              "    }\n",
              "\n",
              "    [theme=dark] .colab-df-convert:hover {\n",
              "      background-color: #434B5C;\n",
              "      box-shadow: 0px 1px 3px 1px rgba(0, 0, 0, 0.15);\n",
              "      filter: drop-shadow(0px 1px 2px rgba(0, 0, 0, 0.3));\n",
              "      fill: #FFFFFF;\n",
              "    }\n",
              "  </style>\n",
              "\n",
              "      <script>\n",
              "        const buttonEl =\n",
              "          document.querySelector('#df-3a92cd0a-6990-4ab1-8eed-817607f5f12f button.colab-df-convert');\n",
              "        buttonEl.style.display =\n",
              "          google.colab.kernel.accessAllowed ? 'block' : 'none';\n",
              "\n",
              "        async function convertToInteractive(key) {\n",
              "          const element = document.querySelector('#df-3a92cd0a-6990-4ab1-8eed-817607f5f12f');\n",
              "          const dataTable =\n",
              "            await google.colab.kernel.invokeFunction('convertToInteractive',\n",
              "                                                     [key], {});\n",
              "          if (!dataTable) return;\n",
              "\n",
              "          const docLinkHtml = 'Like what you see? Visit the ' +\n",
              "            '<a target=\"_blank\" href=https://colab.research.google.com/notebooks/data_table.ipynb>data table notebook</a>'\n",
              "            + ' to learn more about interactive tables.';\n",
              "          element.innerHTML = '';\n",
              "          dataTable['output_type'] = 'display_data';\n",
              "          await google.colab.output.renderOutput(dataTable, element);\n",
              "          const docLink = document.createElement('div');\n",
              "          docLink.innerHTML = docLinkHtml;\n",
              "          element.appendChild(docLink);\n",
              "        }\n",
              "      </script>\n",
              "    </div>\n",
              "  </div>\n",
              "  "
            ]
          },
          "metadata": {},
          "execution_count": 50
        }
      ],
      "source": [
        "most_similar(w2v_model,['our','title','client','company'])"
      ]
    },
    {
      "cell_type": "markdown",
      "source": [
        "#### create embedding_vectors"
      ],
      "metadata": {
        "id": "xfQKHgMp77ke"
      }
    },
    {
      "cell_type": "code",
      "execution_count": 51,
      "metadata": {
        "id": "S6g-8dSwpMdx"
      },
      "outputs": [],
      "source": [
        "# Function to create weight matrix from word2vec gensim model\n",
        "def get_weight_matrix(model, vocab):\n",
        "    # total vocabulary size plus 0 for unknown words\n",
        "    vocab_size = len(vocab) + 1\n",
        "    # define weight matrix dimensions with all 0\n",
        "    weight_matrix = np.zeros((vocab_size, EMBEDDING_DIM))\n",
        "    # step vocab, store vectors using the Tokenizer's integer mapping\n",
        "    for word, i in vocab.items():\n",
        "        weight_matrix[i] = model.wv[word]\n",
        "    return weight_matrix"
      ]
    },
    {
      "cell_type": "code",
      "execution_count": 52,
      "metadata": {
        "id": "vdqUrGHKpOaa"
      },
      "outputs": [],
      "source": [
        "#Getting embedding vectors from word2vec and usings it as weights of non-trainable keras embedding layer\n",
        "embedding_vectors = get_weight_matrix(w2v_model, word_index)"
      ]
    },
    {
      "cell_type": "code",
      "execution_count": 53,
      "metadata": {
        "colab": {
          "base_uri": "https://localhost:8080/"
        },
        "id": "QRPVMZUcooGP",
        "outputId": "58eac57c-2ad4-406f-d3c4-e1b875558dbc"
      },
      "outputs": [
        {
          "output_type": "execute_result",
          "data": {
            "text/plain": [
              "array([ 4.56880242e-01,  2.04346150e-01, -3.55284512e-01, -3.70565861e-01,\n",
              "       -1.42675948e+00,  2.99992472e-01,  2.57125705e-01,  9.17536139e-01,\n",
              "       -6.21291995e-01,  1.53362572e-01, -1.45871326e-01, -6.49181306e-01,\n",
              "       -9.77707282e-02, -5.67785144e-01, -7.16879129e-01, -6.74359426e-02,\n",
              "        8.90764967e-02,  1.82797992e+00, -1.97023213e+00, -1.24822712e+00,\n",
              "       -5.72410405e-01, -2.20801741e-01, -6.36132538e-01,  6.26513362e-01,\n",
              "       -7.63006151e-01,  6.30112961e-02, -7.71759525e-02,  1.07777745e-01,\n",
              "       -1.49716198e-01, -7.04007030e-01,  1.68781137e+00, -2.18061790e-01,\n",
              "       -3.67514968e-01,  4.49742854e-01,  5.41391730e-01, -8.52854177e-02,\n",
              "        5.93395114e-01,  1.62854046e-01,  1.62861515e-02, -4.38025683e-01,\n",
              "       -4.36772674e-01,  1.32931876e+00, -5.07462800e-01,  3.94048184e-01,\n",
              "       -5.56362391e-01, -1.02190085e-01,  1.40455282e+00,  1.11105394e+00,\n",
              "       -1.04443634e+00,  3.86399180e-01, -6.60520852e-01, -9.72135589e-02,\n",
              "        1.59158081e-01, -1.25650823e-01, -5.45848489e-01,  8.26267004e-01,\n",
              "        2.57702619e-01,  4.18666691e-01,  1.18318772e+00,  7.37072468e-01,\n",
              "       -8.50650549e-01, -1.98789939e-01,  4.19233471e-01, -1.17538385e-01,\n",
              "       -1.60964543e-03,  4.41820264e-01, -6.07967675e-01, -8.11699331e-01,\n",
              "       -9.87545252e-01, -2.28874907e-02,  3.19845736e-01,  1.02643423e-01,\n",
              "       -6.86372638e-01,  1.34785756e-01,  5.56802988e-01,  5.53701162e-01,\n",
              "       -5.59465766e-01, -2.70281404e-01,  6.80726409e-01,  2.17670232e-01,\n",
              "        1.57781303e-01, -1.12484491e+00, -1.42122321e-02, -8.23540837e-02,\n",
              "        7.76488125e-01,  5.35937428e-01, -3.18524390e-02, -5.08525014e-01,\n",
              "       -9.13336724e-02, -3.27897578e-01,  7.66382217e-01, -5.23645937e-01,\n",
              "        9.20240462e-01,  2.26924360e-01,  1.16103083e-01, -9.86954689e-01,\n",
              "        2.76748538e-01, -3.74406636e-01,  8.56610239e-01, -9.62599158e-01],\n",
              "      dtype=float32)"
            ]
          },
          "metadata": {},
          "execution_count": 53
        }
      ],
      "source": [
        "w2v_model.wv['and']"
      ]
    },
    {
      "cell_type": "code",
      "execution_count": 54,
      "metadata": {
        "colab": {
          "base_uri": "https://localhost:8080/"
        },
        "id": "XVEbzMhZnaey",
        "outputId": "f95b8147-bc2d-40ae-f508-7a257f2846a1"
      },
      "outputs": [
        {
          "output_type": "execute_result",
          "data": {
            "text/plain": [
              "array([ 4.56880242e-01,  2.04346150e-01, -3.55284512e-01, -3.70565861e-01,\n",
              "       -1.42675948e+00,  2.99992472e-01,  2.57125705e-01,  9.17536139e-01,\n",
              "       -6.21291995e-01,  1.53362572e-01, -1.45871326e-01, -6.49181306e-01,\n",
              "       -9.77707282e-02, -5.67785144e-01, -7.16879129e-01, -6.74359426e-02,\n",
              "        8.90764967e-02,  1.82797992e+00, -1.97023213e+00, -1.24822712e+00,\n",
              "       -5.72410405e-01, -2.20801741e-01, -6.36132538e-01,  6.26513362e-01,\n",
              "       -7.63006151e-01,  6.30112961e-02, -7.71759525e-02,  1.07777745e-01,\n",
              "       -1.49716198e-01, -7.04007030e-01,  1.68781137e+00, -2.18061790e-01,\n",
              "       -3.67514968e-01,  4.49742854e-01,  5.41391730e-01, -8.52854177e-02,\n",
              "        5.93395114e-01,  1.62854046e-01,  1.62861515e-02, -4.38025683e-01,\n",
              "       -4.36772674e-01,  1.32931876e+00, -5.07462800e-01,  3.94048184e-01,\n",
              "       -5.56362391e-01, -1.02190085e-01,  1.40455282e+00,  1.11105394e+00,\n",
              "       -1.04443634e+00,  3.86399180e-01, -6.60520852e-01, -9.72135589e-02,\n",
              "        1.59158081e-01, -1.25650823e-01, -5.45848489e-01,  8.26267004e-01,\n",
              "        2.57702619e-01,  4.18666691e-01,  1.18318772e+00,  7.37072468e-01,\n",
              "       -8.50650549e-01, -1.98789939e-01,  4.19233471e-01, -1.17538385e-01,\n",
              "       -1.60964543e-03,  4.41820264e-01, -6.07967675e-01, -8.11699331e-01,\n",
              "       -9.87545252e-01, -2.28874907e-02,  3.19845736e-01,  1.02643423e-01,\n",
              "       -6.86372638e-01,  1.34785756e-01,  5.56802988e-01,  5.53701162e-01,\n",
              "       -5.59465766e-01, -2.70281404e-01,  6.80726409e-01,  2.17670232e-01,\n",
              "        1.57781303e-01, -1.12484491e+00, -1.42122321e-02, -8.23540837e-02,\n",
              "        7.76488125e-01,  5.35937428e-01, -3.18524390e-02, -5.08525014e-01,\n",
              "       -9.13336724e-02, -3.27897578e-01,  7.66382217e-01, -5.23645937e-01,\n",
              "        9.20240462e-01,  2.26924360e-01,  1.16103083e-01, -9.86954689e-01,\n",
              "        2.76748538e-01, -3.74406636e-01,  8.56610239e-01, -9.62599158e-01])"
            ]
          },
          "metadata": {},
          "execution_count": 54
        }
      ],
      "source": [
        "embedding_vectors[1][:100]"
      ]
    },
    {
      "cell_type": "code",
      "source": [
        "embedding_vectors[1].size"
      ],
      "metadata": {
        "colab": {
          "base_uri": "https://localhost:8080/"
        },
        "id": "h7uUZzyH2CQT",
        "outputId": "a12daeec-7681-49f2-c51b-383e4bc984c6"
      },
      "execution_count": 55,
      "outputs": [
        {
          "output_type": "execute_result",
          "data": {
            "text/plain": [
              "100"
            ]
          },
          "metadata": {},
          "execution_count": 55
        }
      ]
    },
    {
      "cell_type": "markdown",
      "source": [
        "#### add embedding into model"
      ],
      "metadata": {
        "id": "g8Rnmk4b8Uj-"
      }
    },
    {
      "cell_type": "code",
      "execution_count": 56,
      "metadata": {
        "id": "ybHc2FaQx72k"
      },
      "outputs": [],
      "source": [
        "#Defining Neural Network\n",
        "model = Sequential()\n",
        "#Non-trainable embeddidng layer\n",
        "model.add(Embedding(vocab_size, output_dim=EMBEDDING_DIM, weights=[embedding_vectors], input_length=maxlen, trainable=False))\n",
        "#LSTM \n",
        "model.add(LSTM(units=128))\n",
        "model.add(Dense(1, activation='sigmoid'))\n",
        "model.compile(optimizer='adam', loss='binary_crossentropy', metrics=['acc'])\n"
      ]
    },
    {
      "cell_type": "code",
      "execution_count": 57,
      "metadata": {
        "colab": {
          "base_uri": "https://localhost:8080/"
        },
        "id": "XQjZIk2iyFJA",
        "outputId": "2aaa79c7-c65b-456e-f9ea-6ea7f2852ed9"
      },
      "outputs": [
        {
          "output_type": "stream",
          "name": "stdout",
          "text": [
            "Model: \"sequential_1\"\n",
            "_________________________________________________________________\n",
            " Layer (type)                Output Shape              Param #   \n",
            "=================================================================\n",
            " embedding (Embedding)       (None, 700, 100)          926000    \n",
            "                                                                 \n",
            " lstm_1 (LSTM)               (None, 128)               117248    \n",
            "                                                                 \n",
            " dense_1 (Dense)             (None, 1)                 129       \n",
            "                                                                 \n",
            "=================================================================\n",
            "Total params: 1,043,377\n",
            "Trainable params: 117,377\n",
            "Non-trainable params: 926,000\n",
            "_________________________________________________________________\n"
          ]
        }
      ],
      "source": [
        "model.summary()"
      ]
    },
    {
      "cell_type": "code",
      "source": [
        "model.fit(X_train, y_train, validation_split=0.3, epochs=6)"
      ],
      "metadata": {
        "colab": {
          "base_uri": "https://localhost:8080/"
        },
        "id": "-sa_CIQMMo88",
        "outputId": "dead73a3-1c00-48e8-e7a9-1fe6c8c43f4c"
      },
      "execution_count": 58,
      "outputs": [
        {
          "output_type": "stream",
          "name": "stdout",
          "text": [
            "Epoch 1/6\n",
            "24/24 [==============================] - 3s 66ms/step - loss: 0.6197 - acc: 0.6855 - val_loss: 1.2425 - val_acc: 0.0000e+00\n",
            "Epoch 2/6\n",
            "24/24 [==============================] - 1s 44ms/step - loss: 0.5803 - acc: 0.7151 - val_loss: 1.2400 - val_acc: 0.0000e+00\n",
            "Epoch 3/6\n",
            "24/24 [==============================] - 1s 45ms/step - loss: 0.5747 - acc: 0.7164 - val_loss: 0.9993 - val_acc: 0.0219\n",
            "Epoch 4/6\n",
            "24/24 [==============================] - 1s 43ms/step - loss: 0.5589 - acc: 0.7245 - val_loss: 1.2127 - val_acc: 0.0219\n",
            "Epoch 5/6\n",
            "24/24 [==============================] - 1s 44ms/step - loss: 0.5283 - acc: 0.7406 - val_loss: 1.2448 - val_acc: 0.2469\n",
            "Epoch 6/6\n",
            "24/24 [==============================] - 1s 55ms/step - loss: 0.5704 - acc: 0.7339 - val_loss: 1.5506 - val_acc: 0.0000e+00\n"
          ]
        },
        {
          "output_type": "execute_result",
          "data": {
            "text/plain": [
              "<keras.callbacks.History at 0x7fef84347a00>"
            ]
          },
          "metadata": {},
          "execution_count": 58
        }
      ]
    },
    {
      "cell_type": "code",
      "source": [
        "y_pred = (model.predict(X_test) >= 0.5).astype(\"int\")"
      ],
      "metadata": {
        "colab": {
          "base_uri": "https://localhost:8080/"
        },
        "id": "M-_VAfA9MuBq",
        "outputId": "53f83762-a228-403a-a870-a3097d938dbc"
      },
      "execution_count": 59,
      "outputs": [
        {
          "output_type": "stream",
          "name": "stdout",
          "text": [
            "7/7 [==============================] - 2s 37ms/step\n"
          ]
        }
      ]
    },
    {
      "cell_type": "code",
      "source": [
        "print(classification_report(y_test, y_pred))"
      ],
      "metadata": {
        "colab": {
          "base_uri": "https://localhost:8080/"
        },
        "id": "sgUeh7i5MwVJ",
        "outputId": "137948a8-30c4-4f71-b906-25645082eb02"
      },
      "execution_count": 60,
      "outputs": [
        {
          "output_type": "stream",
          "name": "stdout",
          "text": [
            "              precision    recall  f1-score   support\n",
            "\n",
            "           0       0.88      1.00      0.93       170\n",
            "           1       0.00      0.00      0.00        24\n",
            "\n",
            "    accuracy                           0.88       194\n",
            "   macro avg       0.44      0.50      0.47       194\n",
            "weighted avg       0.77      0.88      0.82       194\n",
            "\n"
          ]
        },
        {
          "output_type": "stream",
          "name": "stderr",
          "text": [
            "/usr/local/lib/python3.8/dist-packages/sklearn/metrics/_classification.py:1318: UndefinedMetricWarning: Precision and F-score are ill-defined and being set to 0.0 in labels with no predicted samples. Use `zero_division` parameter to control this behavior.\n",
            "  _warn_prf(average, modifier, msg_start, len(result))\n",
            "/usr/local/lib/python3.8/dist-packages/sklearn/metrics/_classification.py:1318: UndefinedMetricWarning: Precision and F-score are ill-defined and being set to 0.0 in labels with no predicted samples. Use `zero_division` parameter to control this behavior.\n",
            "  _warn_prf(average, modifier, msg_start, len(result))\n",
            "/usr/local/lib/python3.8/dist-packages/sklearn/metrics/_classification.py:1318: UndefinedMetricWarning: Precision and F-score are ill-defined and being set to 0.0 in labels with no predicted samples. Use `zero_division` parameter to control this behavior.\n",
            "  _warn_prf(average, modifier, msg_start, len(result))\n"
          ]
        }
      ]
    },
    {
      "cell_type": "code",
      "execution_count": 68,
      "metadata": {
        "colab": {
          "base_uri": "https://localhost:8080/"
        },
        "id": "uBAjmlXByXMF",
        "outputId": "389ea972-51f7-414d-d098-9fa3e4ca659e"
      },
      "outputs": [
        {
          "output_type": "stream",
          "name": "stdout",
          "text": [
            "Epoch 1/60\n",
            "24/24 [==============================] - 1s 47ms/step - loss: 2.2983e-04 - acc: 1.0000 - val_loss: 4.8408e-04 - val_acc: 1.0000\n",
            "Epoch 2/60\n",
            "24/24 [==============================] - 1s 44ms/step - loss: 2.2329e-04 - acc: 1.0000 - val_loss: 4.7263e-04 - val_acc: 1.0000\n",
            "Epoch 3/60\n",
            "24/24 [==============================] - 1s 51ms/step - loss: 2.1767e-04 - acc: 1.0000 - val_loss: 4.8154e-04 - val_acc: 1.0000\n",
            "Epoch 4/60\n",
            "24/24 [==============================] - 1s 51ms/step - loss: 2.1220e-04 - acc: 1.0000 - val_loss: 4.4433e-04 - val_acc: 1.0000\n",
            "Epoch 5/60\n",
            "24/24 [==============================] - 1s 44ms/step - loss: 2.0660e-04 - acc: 1.0000 - val_loss: 4.3990e-04 - val_acc: 1.0000\n",
            "Epoch 6/60\n",
            "24/24 [==============================] - 1s 44ms/step - loss: 2.0275e-04 - acc: 1.0000 - val_loss: 4.2005e-04 - val_acc: 1.0000\n",
            "Epoch 7/60\n",
            "24/24 [==============================] - 1s 44ms/step - loss: 1.9872e-04 - acc: 1.0000 - val_loss: 4.1169e-04 - val_acc: 1.0000\n",
            "Epoch 8/60\n",
            "24/24 [==============================] - 1s 44ms/step - loss: 1.9354e-04 - acc: 1.0000 - val_loss: 4.2688e-04 - val_acc: 1.0000\n",
            "Epoch 9/60\n",
            "24/24 [==============================] - 1s 45ms/step - loss: 1.8913e-04 - acc: 1.0000 - val_loss: 4.0708e-04 - val_acc: 1.0000\n",
            "Epoch 10/60\n",
            "24/24 [==============================] - 1s 47ms/step - loss: 1.8511e-04 - acc: 1.0000 - val_loss: 3.9430e-04 - val_acc: 1.0000\n",
            "Epoch 11/60\n",
            "24/24 [==============================] - 1s 44ms/step - loss: 1.8061e-04 - acc: 1.0000 - val_loss: 3.8239e-04 - val_acc: 1.0000\n",
            "Epoch 12/60\n",
            "24/24 [==============================] - 1s 43ms/step - loss: 1.7835e-04 - acc: 1.0000 - val_loss: 3.7571e-04 - val_acc: 1.0000\n",
            "Epoch 13/60\n",
            "24/24 [==============================] - 1s 44ms/step - loss: 1.7390e-04 - acc: 1.0000 - val_loss: 3.6617e-04 - val_acc: 1.0000\n",
            "Epoch 14/60\n",
            "24/24 [==============================] - 1s 44ms/step - loss: 1.6864e-04 - acc: 1.0000 - val_loss: 3.5062e-04 - val_acc: 1.0000\n",
            "Epoch 15/60\n",
            "24/24 [==============================] - 1s 45ms/step - loss: 1.6628e-04 - acc: 1.0000 - val_loss: 3.4931e-04 - val_acc: 1.0000\n",
            "Epoch 16/60\n",
            "24/24 [==============================] - 1s 46ms/step - loss: 1.6357e-04 - acc: 1.0000 - val_loss: 3.3421e-04 - val_acc: 1.0000\n",
            "Epoch 17/60\n",
            "24/24 [==============================] - 1s 44ms/step - loss: 1.6026e-04 - acc: 1.0000 - val_loss: 3.2721e-04 - val_acc: 1.0000\n",
            "Epoch 18/60\n",
            "24/24 [==============================] - 1s 44ms/step - loss: 1.5602e-04 - acc: 1.0000 - val_loss: 3.3264e-04 - val_acc: 1.0000\n",
            "Epoch 19/60\n",
            "24/24 [==============================] - 1s 44ms/step - loss: 1.5248e-04 - acc: 1.0000 - val_loss: 3.2226e-04 - val_acc: 1.0000\n",
            "Epoch 20/60\n",
            "24/24 [==============================] - 1s 45ms/step - loss: 1.4903e-04 - acc: 1.0000 - val_loss: 3.2413e-04 - val_acc: 1.0000\n",
            "Epoch 21/60\n",
            "24/24 [==============================] - 1s 45ms/step - loss: 1.4565e-04 - acc: 1.0000 - val_loss: 3.0439e-04 - val_acc: 1.0000\n",
            "Epoch 22/60\n",
            "24/24 [==============================] - 1s 44ms/step - loss: 1.4278e-04 - acc: 1.0000 - val_loss: 3.0032e-04 - val_acc: 1.0000\n",
            "Epoch 23/60\n",
            "24/24 [==============================] - 1s 45ms/step - loss: 1.3940e-04 - acc: 1.0000 - val_loss: 2.9129e-04 - val_acc: 1.0000\n",
            "Epoch 24/60\n",
            "24/24 [==============================] - 1s 44ms/step - loss: 1.3657e-04 - acc: 1.0000 - val_loss: 2.8239e-04 - val_acc: 1.0000\n",
            "Epoch 25/60\n",
            "24/24 [==============================] - 1s 44ms/step - loss: 1.3391e-04 - acc: 1.0000 - val_loss: 2.7412e-04 - val_acc: 1.0000\n",
            "Epoch 26/60\n",
            "24/24 [==============================] - 1s 44ms/step - loss: 1.3133e-04 - acc: 1.0000 - val_loss: 2.7735e-04 - val_acc: 1.0000\n",
            "Epoch 27/60\n",
            "24/24 [==============================] - 1s 44ms/step - loss: 1.2801e-04 - acc: 1.0000 - val_loss: 2.6882e-04 - val_acc: 1.0000\n",
            "Epoch 28/60\n",
            "24/24 [==============================] - 1s 44ms/step - loss: 1.2681e-04 - acc: 1.0000 - val_loss: 2.6405e-04 - val_acc: 1.0000\n",
            "Epoch 29/60\n",
            "24/24 [==============================] - 1s 45ms/step - loss: 1.2655e-04 - acc: 1.0000 - val_loss: 2.5198e-04 - val_acc: 1.0000\n",
            "Epoch 30/60\n",
            "24/24 [==============================] - 1s 43ms/step - loss: 1.2140e-04 - acc: 1.0000 - val_loss: 2.6549e-04 - val_acc: 1.0000\n",
            "Epoch 31/60\n",
            "24/24 [==============================] - 1s 43ms/step - loss: 1.1864e-04 - acc: 1.0000 - val_loss: 2.4926e-04 - val_acc: 1.0000\n",
            "Epoch 32/60\n",
            "24/24 [==============================] - 1s 43ms/step - loss: 1.1646e-04 - acc: 1.0000 - val_loss: 2.4822e-04 - val_acc: 1.0000\n",
            "Epoch 33/60\n",
            "24/24 [==============================] - 1s 44ms/step - loss: 1.1446e-04 - acc: 1.0000 - val_loss: 2.3129e-04 - val_acc: 1.0000\n",
            "Epoch 34/60\n",
            "24/24 [==============================] - 1s 43ms/step - loss: 1.1320e-04 - acc: 1.0000 - val_loss: 2.4256e-04 - val_acc: 1.0000\n",
            "Epoch 35/60\n",
            "24/24 [==============================] - 1s 44ms/step - loss: 1.0962e-04 - acc: 1.0000 - val_loss: 2.2285e-04 - val_acc: 1.0000\n",
            "Epoch 36/60\n",
            "24/24 [==============================] - 1s 43ms/step - loss: 1.0907e-04 - acc: 1.0000 - val_loss: 2.2528e-04 - val_acc: 1.0000\n",
            "Epoch 37/60\n",
            "24/24 [==============================] - 1s 44ms/step - loss: 1.0616e-04 - acc: 1.0000 - val_loss: 2.2505e-04 - val_acc: 1.0000\n",
            "Epoch 38/60\n",
            "24/24 [==============================] - 1s 45ms/step - loss: 1.0546e-04 - acc: 1.0000 - val_loss: 2.2576e-04 - val_acc: 1.0000\n",
            "Epoch 39/60\n",
            "24/24 [==============================] - 1s 45ms/step - loss: 1.0086e-04 - acc: 1.0000 - val_loss: 2.1429e-04 - val_acc: 1.0000\n",
            "Epoch 40/60\n",
            "24/24 [==============================] - 1s 46ms/step - loss: 9.8497e-05 - acc: 1.0000 - val_loss: 2.0734e-04 - val_acc: 1.0000\n",
            "Epoch 41/60\n",
            "24/24 [==============================] - 1s 45ms/step - loss: 9.6329e-05 - acc: 1.0000 - val_loss: 2.0173e-04 - val_acc: 1.0000\n",
            "Epoch 42/60\n",
            "24/24 [==============================] - 1s 48ms/step - loss: 9.4313e-05 - acc: 1.0000 - val_loss: 2.0192e-04 - val_acc: 1.0000\n",
            "Epoch 43/60\n",
            "24/24 [==============================] - 2s 67ms/step - loss: 9.2701e-05 - acc: 1.0000 - val_loss: 1.9176e-04 - val_acc: 1.0000\n",
            "Epoch 44/60\n",
            "24/24 [==============================] - 2s 65ms/step - loss: 9.1382e-05 - acc: 1.0000 - val_loss: 1.8430e-04 - val_acc: 1.0000\n",
            "Epoch 45/60\n",
            "24/24 [==============================] - 1s 45ms/step - loss: 8.9131e-05 - acc: 1.0000 - val_loss: 1.8359e-04 - val_acc: 1.0000\n",
            "Epoch 46/60\n",
            "24/24 [==============================] - 1s 45ms/step - loss: 8.6952e-05 - acc: 1.0000 - val_loss: 1.8415e-04 - val_acc: 1.0000\n",
            "Epoch 47/60\n",
            "24/24 [==============================] - 1s 44ms/step - loss: 8.5844e-05 - acc: 1.0000 - val_loss: 1.7470e-04 - val_acc: 1.0000\n",
            "Epoch 48/60\n",
            "24/24 [==============================] - 1s 44ms/step - loss: 8.4013e-05 - acc: 1.0000 - val_loss: 1.7531e-04 - val_acc: 1.0000\n",
            "Epoch 49/60\n",
            "24/24 [==============================] - 1s 44ms/step - loss: 8.3138e-05 - acc: 1.0000 - val_loss: 1.6453e-04 - val_acc: 1.0000\n",
            "Epoch 50/60\n",
            "24/24 [==============================] - 1s 45ms/step - loss: 8.0018e-05 - acc: 1.0000 - val_loss: 1.7214e-04 - val_acc: 1.0000\n",
            "Epoch 51/60\n",
            "24/24 [==============================] - 1s 45ms/step - loss: 7.9336e-05 - acc: 1.0000 - val_loss: 1.6425e-04 - val_acc: 1.0000\n",
            "Epoch 52/60\n",
            "24/24 [==============================] - 1s 43ms/step - loss: 7.9273e-05 - acc: 1.0000 - val_loss: 1.6058e-04 - val_acc: 1.0000\n",
            "Epoch 53/60\n",
            "24/24 [==============================] - 1s 43ms/step - loss: 7.7945e-05 - acc: 1.0000 - val_loss: 1.6296e-04 - val_acc: 1.0000\n",
            "Epoch 54/60\n",
            "24/24 [==============================] - 1s 44ms/step - loss: 7.5062e-05 - acc: 1.0000 - val_loss: 1.5807e-04 - val_acc: 1.0000\n",
            "Epoch 55/60\n",
            "24/24 [==============================] - 1s 44ms/step - loss: 7.3301e-05 - acc: 1.0000 - val_loss: 1.4866e-04 - val_acc: 1.0000\n",
            "Epoch 56/60\n",
            "24/24 [==============================] - 1s 45ms/step - loss: 7.1889e-05 - acc: 1.0000 - val_loss: 1.5041e-04 - val_acc: 1.0000\n",
            "Epoch 57/60\n",
            "24/24 [==============================] - 1s 44ms/step - loss: 7.0812e-05 - acc: 1.0000 - val_loss: 1.4914e-04 - val_acc: 1.0000\n",
            "Epoch 58/60\n",
            "24/24 [==============================] - 1s 44ms/step - loss: 6.9160e-05 - acc: 1.0000 - val_loss: 1.4776e-04 - val_acc: 1.0000\n",
            "Epoch 59/60\n",
            "24/24 [==============================] - 1s 45ms/step - loss: 6.9300e-05 - acc: 1.0000 - val_loss: 1.9739e-04 - val_acc: 1.0000\n",
            "Epoch 60/60\n",
            "24/24 [==============================] - 1s 44ms/step - loss: 7.5185e-05 - acc: 1.0000 - val_loss: 1.5675e-04 - val_acc: 1.0000\n"
          ]
        },
        {
          "output_type": "execute_result",
          "data": {
            "text/plain": [
              "<keras.callbacks.History at 0x7fef76f01340>"
            ]
          },
          "metadata": {},
          "execution_count": 68
        }
      ],
      "source": [
        "model.fit(X_train, y_train, validation_split=0.3, epochs=60)"
      ]
    },
    {
      "cell_type": "code",
      "execution_count": 69,
      "metadata": {
        "colab": {
          "base_uri": "https://localhost:8080/"
        },
        "id": "wENCZWEXysix",
        "outputId": "cb996217-270c-48d7-807b-c27ad1cd5bc4"
      },
      "outputs": [
        {
          "output_type": "stream",
          "name": "stdout",
          "text": [
            "7/7 [==============================] - 0s 20ms/step\n"
          ]
        }
      ],
      "source": [
        "y_pred = (model.predict(X_test) >= 0.5).astype(\"int\")"
      ]
    },
    {
      "cell_type": "code",
      "execution_count": 70,
      "metadata": {
        "colab": {
          "base_uri": "https://localhost:8080/"
        },
        "id": "nFZW7M7kyuUM",
        "outputId": "e6fa070b-948b-4088-c6cd-de85f344a885"
      },
      "outputs": [
        {
          "output_type": "stream",
          "name": "stdout",
          "text": [
            "              precision    recall  f1-score   support\n",
            "\n",
            "           0       0.95      0.97      0.96       170\n",
            "           1       0.76      0.67      0.71        24\n",
            "\n",
            "    accuracy                           0.93       194\n",
            "   macro avg       0.86      0.82      0.84       194\n",
            "weighted avg       0.93      0.93      0.93       194\n",
            "\n"
          ]
        }
      ],
      "source": [
        "print(classification_report(y_test, y_pred))"
      ]
    }
  ],
  "metadata": {
    "accelerator": "GPU",
    "colab": {
      "provenance": [],
      "include_colab_link": true
    },
    "gpuClass": "standard",
    "kernelspec": {
      "display_name": "Python 3.9.1 64-bit",
      "language": "python",
      "name": "python3"
    },
    "language_info": {
      "codemirror_mode": {
        "name": "ipython",
        "version": 3
      },
      "file_extension": ".py",
      "mimetype": "text/x-python",
      "name": "python",
      "nbconvert_exporter": "python",
      "pygments_lexer": "ipython3",
      "version": "3.9.1"
    },
    "vscode": {
      "interpreter": {
        "hash": "ad459153494ef8bf9bfb381956f48d86a83e0450934ceb6b8440ac5a2424102d"
      }
    }
  },
  "nbformat": 4,
  "nbformat_minor": 0
}