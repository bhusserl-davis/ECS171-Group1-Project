{
  "cells": [
    {
      "cell_type": "markdown",
      "metadata": {
        "id": "view-in-github",
        "colab_type": "text"
      },
      "source": [
        "<a href=\"https://colab.research.google.com/github/bhusserl-davis/ECS171-Group1-Project/blob/main/project_word2Vec.ipynb\" target=\"_parent\"><img src=\"https://colab.research.google.com/assets/colab-badge.svg\" alt=\"Open In Colab\"/></a>"
      ]
    },
    {
      "cell_type": "markdown",
      "metadata": {
        "id": "gntRQBTvsH61"
      },
      "source": [
        "## Imports"
      ]
    },
    {
      "cell_type": "code",
      "execution_count": 76,
      "metadata": {
        "id": "mkDI0UoFsH6_"
      },
      "outputs": [],
      "source": [
        "# Download Needed Packages\n",
        "import sys\n",
        "!{sys.executable} -m pip install -q pandas\n",
        "!{sys.executable} -m pip install -q nltk\n",
        "!{sys.executable} -m pip install -q sklearn\n",
        "!{sys.executable} -m pip install -q wordcloud==1.8.1\n",
        "!{sys.executable} -m pip install -q gensim==3.8.3\n",
        "!{sys.executable} -m pip install -q keras\n",
        "!{sys.executable} -m pip install -q numpy\n",
        "!{sys.executable} -m pip install -q matplotlib"
      ]
    },
    {
      "cell_type": "code",
      "execution_count": 77,
      "metadata": {
        "id": "XUBwYzkusH7D"
      },
      "outputs": [],
      "source": [
        "# Import needed libraries and download needed data\n",
        "import string\n",
        "import pandas as pd\n",
        "import nltk\n",
        "nltk.download('stopwords', quiet=True)\n",
        "from nltk.corpus import stopwords\n",
        "nltk.download('punkt', quiet=True)\n",
        "from nltk.tokenize import word_tokenize\n",
        "from sklearn.metrics import classification_report\n",
        "from sklearn.model_selection import train_test_split\n",
        "from wordcloud import WordCloud"
      ]
    },
    {
      "cell_type": "markdown",
      "metadata": {
        "id": "duXaTruMsH7F"
      },
      "source": [
        "## Data Exploration"
      ]
    },
    {
      "cell_type": "code",
      "execution_count": 78,
      "metadata": {
        "colab": {
          "base_uri": "https://localhost:8080/",
          "height": 617
        },
        "id": "8RVGvjx5sH7G",
        "outputId": "52671e06-f114-40de-c2df-5d0ebb9537ed"
      },
      "outputs": [
        {
          "output_type": "stream",
          "name": "stdout",
          "text": [
            "17880 observations, 18 features\n"
          ]
        },
        {
          "output_type": "display_data",
          "data": {
            "text/plain": [
              "   job_id                                      title            location  \\\n",
              "0       1                           Marketing Intern    US, NY, New York   \n",
              "1       2  Customer Service - Cloud Video Production      NZ, , Auckland   \n",
              "2       3    Commissioning Machinery Assistant (CMA)       US, IA, Wever   \n",
              "3       4          Account Executive - Washington DC  US, DC, Washington   \n",
              "4       5                        Bill Review Manager  US, FL, Fort Worth   \n",
              "\n",
              "  department salary_range                                    company_profile  \\\n",
              "0  Marketing          NaN  We're Food52, and we've created a groundbreaki...   \n",
              "1    Success          NaN  90 Seconds, the worlds Cloud Video Production ...   \n",
              "2        NaN          NaN  Valor Services provides Workforce Solutions th...   \n",
              "3      Sales          NaN  Our passion for improving quality of life thro...   \n",
              "4        NaN          NaN  SpotSource Solutions LLC is a Global Human Cap...   \n",
              "\n",
              "                                         description  \\\n",
              "0  Food52, a fast-growing, James Beard Award-winn...   \n",
              "1  Organised - Focused - Vibrant - Awesome!Do you...   \n",
              "2  Our client, located in Houston, is actively se...   \n",
              "3  THE COMPANY: ESRI – Environmental Systems Rese...   \n",
              "4  JOB TITLE: Itemization Review ManagerLOCATION:...   \n",
              "\n",
              "                                        requirements  \\\n",
              "0  Experience with content management systems a m...   \n",
              "1  What we expect from you:Your key responsibilit...   \n",
              "2  Implement pre-commissioning and commissioning ...   \n",
              "3  EDUCATION: Bachelor’s or Master’s in GIS, busi...   \n",
              "4  QUALIFICATIONS:RN license in the State of Texa...   \n",
              "\n",
              "                                            benefits  telecommuting  \\\n",
              "0                                                NaN              0   \n",
              "1  What you will get from usThrough being part of...              0   \n",
              "2                                                NaN              0   \n",
              "3  Our culture is anything but corporate—we have ...              0   \n",
              "4                              Full Benefits Offered              0   \n",
              "\n",
              "   has_company_logo  has_questions employment_type required_experience  \\\n",
              "0                 1              0           Other          Internship   \n",
              "1                 1              0       Full-time      Not Applicable   \n",
              "2                 1              0             NaN                 NaN   \n",
              "3                 1              0       Full-time    Mid-Senior level   \n",
              "4                 1              1       Full-time    Mid-Senior level   \n",
              "\n",
              "  required_education                   industry              function  \\\n",
              "0                NaN                        NaN             Marketing   \n",
              "1                NaN  Marketing and Advertising      Customer Service   \n",
              "2                NaN                        NaN                   NaN   \n",
              "3  Bachelor's Degree          Computer Software                 Sales   \n",
              "4  Bachelor's Degree     Hospital & Health Care  Health Care Provider   \n",
              "\n",
              "   fraudulent  \n",
              "0           0  \n",
              "1           0  \n",
              "2           0  \n",
              "3           0  \n",
              "4           0  "
            ],
            "text/html": [
              "\n",
              "  <div id=\"df-2d5fee75-553d-4f16-8305-be318129e8f5\">\n",
              "    <div class=\"colab-df-container\">\n",
              "      <div>\n",
              "<style scoped>\n",
              "    .dataframe tbody tr th:only-of-type {\n",
              "        vertical-align: middle;\n",
              "    }\n",
              "\n",
              "    .dataframe tbody tr th {\n",
              "        vertical-align: top;\n",
              "    }\n",
              "\n",
              "    .dataframe thead th {\n",
              "        text-align: right;\n",
              "    }\n",
              "</style>\n",
              "<table border=\"1\" class=\"dataframe\">\n",
              "  <thead>\n",
              "    <tr style=\"text-align: right;\">\n",
              "      <th></th>\n",
              "      <th>job_id</th>\n",
              "      <th>title</th>\n",
              "      <th>location</th>\n",
              "      <th>department</th>\n",
              "      <th>salary_range</th>\n",
              "      <th>company_profile</th>\n",
              "      <th>description</th>\n",
              "      <th>requirements</th>\n",
              "      <th>benefits</th>\n",
              "      <th>telecommuting</th>\n",
              "      <th>has_company_logo</th>\n",
              "      <th>has_questions</th>\n",
              "      <th>employment_type</th>\n",
              "      <th>required_experience</th>\n",
              "      <th>required_education</th>\n",
              "      <th>industry</th>\n",
              "      <th>function</th>\n",
              "      <th>fraudulent</th>\n",
              "    </tr>\n",
              "  </thead>\n",
              "  <tbody>\n",
              "    <tr>\n",
              "      <th>0</th>\n",
              "      <td>1</td>\n",
              "      <td>Marketing Intern</td>\n",
              "      <td>US, NY, New York</td>\n",
              "      <td>Marketing</td>\n",
              "      <td>NaN</td>\n",
              "      <td>We're Food52, and we've created a groundbreaki...</td>\n",
              "      <td>Food52, a fast-growing, James Beard Award-winn...</td>\n",
              "      <td>Experience with content management systems a m...</td>\n",
              "      <td>NaN</td>\n",
              "      <td>0</td>\n",
              "      <td>1</td>\n",
              "      <td>0</td>\n",
              "      <td>Other</td>\n",
              "      <td>Internship</td>\n",
              "      <td>NaN</td>\n",
              "      <td>NaN</td>\n",
              "      <td>Marketing</td>\n",
              "      <td>0</td>\n",
              "    </tr>\n",
              "    <tr>\n",
              "      <th>1</th>\n",
              "      <td>2</td>\n",
              "      <td>Customer Service - Cloud Video Production</td>\n",
              "      <td>NZ, , Auckland</td>\n",
              "      <td>Success</td>\n",
              "      <td>NaN</td>\n",
              "      <td>90 Seconds, the worlds Cloud Video Production ...</td>\n",
              "      <td>Organised - Focused - Vibrant - Awesome!Do you...</td>\n",
              "      <td>What we expect from you:Your key responsibilit...</td>\n",
              "      <td>What you will get from usThrough being part of...</td>\n",
              "      <td>0</td>\n",
              "      <td>1</td>\n",
              "      <td>0</td>\n",
              "      <td>Full-time</td>\n",
              "      <td>Not Applicable</td>\n",
              "      <td>NaN</td>\n",
              "      <td>Marketing and Advertising</td>\n",
              "      <td>Customer Service</td>\n",
              "      <td>0</td>\n",
              "    </tr>\n",
              "    <tr>\n",
              "      <th>2</th>\n",
              "      <td>3</td>\n",
              "      <td>Commissioning Machinery Assistant (CMA)</td>\n",
              "      <td>US, IA, Wever</td>\n",
              "      <td>NaN</td>\n",
              "      <td>NaN</td>\n",
              "      <td>Valor Services provides Workforce Solutions th...</td>\n",
              "      <td>Our client, located in Houston, is actively se...</td>\n",
              "      <td>Implement pre-commissioning and commissioning ...</td>\n",
              "      <td>NaN</td>\n",
              "      <td>0</td>\n",
              "      <td>1</td>\n",
              "      <td>0</td>\n",
              "      <td>NaN</td>\n",
              "      <td>NaN</td>\n",
              "      <td>NaN</td>\n",
              "      <td>NaN</td>\n",
              "      <td>NaN</td>\n",
              "      <td>0</td>\n",
              "    </tr>\n",
              "    <tr>\n",
              "      <th>3</th>\n",
              "      <td>4</td>\n",
              "      <td>Account Executive - Washington DC</td>\n",
              "      <td>US, DC, Washington</td>\n",
              "      <td>Sales</td>\n",
              "      <td>NaN</td>\n",
              "      <td>Our passion for improving quality of life thro...</td>\n",
              "      <td>THE COMPANY: ESRI – Environmental Systems Rese...</td>\n",
              "      <td>EDUCATION: Bachelor’s or Master’s in GIS, busi...</td>\n",
              "      <td>Our culture is anything but corporate—we have ...</td>\n",
              "      <td>0</td>\n",
              "      <td>1</td>\n",
              "      <td>0</td>\n",
              "      <td>Full-time</td>\n",
              "      <td>Mid-Senior level</td>\n",
              "      <td>Bachelor's Degree</td>\n",
              "      <td>Computer Software</td>\n",
              "      <td>Sales</td>\n",
              "      <td>0</td>\n",
              "    </tr>\n",
              "    <tr>\n",
              "      <th>4</th>\n",
              "      <td>5</td>\n",
              "      <td>Bill Review Manager</td>\n",
              "      <td>US, FL, Fort Worth</td>\n",
              "      <td>NaN</td>\n",
              "      <td>NaN</td>\n",
              "      <td>SpotSource Solutions LLC is a Global Human Cap...</td>\n",
              "      <td>JOB TITLE: Itemization Review ManagerLOCATION:...</td>\n",
              "      <td>QUALIFICATIONS:RN license in the State of Texa...</td>\n",
              "      <td>Full Benefits Offered</td>\n",
              "      <td>0</td>\n",
              "      <td>1</td>\n",
              "      <td>1</td>\n",
              "      <td>Full-time</td>\n",
              "      <td>Mid-Senior level</td>\n",
              "      <td>Bachelor's Degree</td>\n",
              "      <td>Hospital &amp; Health Care</td>\n",
              "      <td>Health Care Provider</td>\n",
              "      <td>0</td>\n",
              "    </tr>\n",
              "  </tbody>\n",
              "</table>\n",
              "</div>\n",
              "      <button class=\"colab-df-convert\" onclick=\"convertToInteractive('df-2d5fee75-553d-4f16-8305-be318129e8f5')\"\n",
              "              title=\"Convert this dataframe to an interactive table.\"\n",
              "              style=\"display:none;\">\n",
              "        \n",
              "  <svg xmlns=\"http://www.w3.org/2000/svg\" height=\"24px\"viewBox=\"0 0 24 24\"\n",
              "       width=\"24px\">\n",
              "    <path d=\"M0 0h24v24H0V0z\" fill=\"none\"/>\n",
              "    <path d=\"M18.56 5.44l.94 2.06.94-2.06 2.06-.94-2.06-.94-.94-2.06-.94 2.06-2.06.94zm-11 1L8.5 8.5l.94-2.06 2.06-.94-2.06-.94L8.5 2.5l-.94 2.06-2.06.94zm10 10l.94 2.06.94-2.06 2.06-.94-2.06-.94-.94-2.06-.94 2.06-2.06.94z\"/><path d=\"M17.41 7.96l-1.37-1.37c-.4-.4-.92-.59-1.43-.59-.52 0-1.04.2-1.43.59L10.3 9.45l-7.72 7.72c-.78.78-.78 2.05 0 2.83L4 21.41c.39.39.9.59 1.41.59.51 0 1.02-.2 1.41-.59l7.78-7.78 2.81-2.81c.8-.78.8-2.07 0-2.86zM5.41 20L4 18.59l7.72-7.72 1.47 1.35L5.41 20z\"/>\n",
              "  </svg>\n",
              "      </button>\n",
              "      \n",
              "  <style>\n",
              "    .colab-df-container {\n",
              "      display:flex;\n",
              "      flex-wrap:wrap;\n",
              "      gap: 12px;\n",
              "    }\n",
              "\n",
              "    .colab-df-convert {\n",
              "      background-color: #E8F0FE;\n",
              "      border: none;\n",
              "      border-radius: 50%;\n",
              "      cursor: pointer;\n",
              "      display: none;\n",
              "      fill: #1967D2;\n",
              "      height: 32px;\n",
              "      padding: 0 0 0 0;\n",
              "      width: 32px;\n",
              "    }\n",
              "\n",
              "    .colab-df-convert:hover {\n",
              "      background-color: #E2EBFA;\n",
              "      box-shadow: 0px 1px 2px rgba(60, 64, 67, 0.3), 0px 1px 3px 1px rgba(60, 64, 67, 0.15);\n",
              "      fill: #174EA6;\n",
              "    }\n",
              "\n",
              "    [theme=dark] .colab-df-convert {\n",
              "      background-color: #3B4455;\n",
              "      fill: #D2E3FC;\n",
              "    }\n",
              "\n",
              "    [theme=dark] .colab-df-convert:hover {\n",
              "      background-color: #434B5C;\n",
              "      box-shadow: 0px 1px 3px 1px rgba(0, 0, 0, 0.15);\n",
              "      filter: drop-shadow(0px 1px 2px rgba(0, 0, 0, 0.3));\n",
              "      fill: #FFFFFF;\n",
              "    }\n",
              "  </style>\n",
              "\n",
              "      <script>\n",
              "        const buttonEl =\n",
              "          document.querySelector('#df-2d5fee75-553d-4f16-8305-be318129e8f5 button.colab-df-convert');\n",
              "        buttonEl.style.display =\n",
              "          google.colab.kernel.accessAllowed ? 'block' : 'none';\n",
              "\n",
              "        async function convertToInteractive(key) {\n",
              "          const element = document.querySelector('#df-2d5fee75-553d-4f16-8305-be318129e8f5');\n",
              "          const dataTable =\n",
              "            await google.colab.kernel.invokeFunction('convertToInteractive',\n",
              "                                                     [key], {});\n",
              "          if (!dataTable) return;\n",
              "\n",
              "          const docLinkHtml = 'Like what you see? Visit the ' +\n",
              "            '<a target=\"_blank\" href=https://colab.research.google.com/notebooks/data_table.ipynb>data table notebook</a>'\n",
              "            + ' to learn more about interactive tables.';\n",
              "          element.innerHTML = '';\n",
              "          dataTable['output_type'] = 'display_data';\n",
              "          await google.colab.output.renderOutput(dataTable, element);\n",
              "          const docLink = document.createElement('div');\n",
              "          docLink.innerHTML = docLinkHtml;\n",
              "          element.appendChild(docLink);\n",
              "        }\n",
              "      </script>\n",
              "    </div>\n",
              "  </div>\n",
              "  "
            ]
          },
          "metadata": {}
        }
      ],
      "source": [
        "# Import Data\n",
        "df = pd.read_csv(\"./fake_job_postings.csv\")\n",
        "print(f'{df.shape[0]} observations, {df.shape[1]} features')\n",
        "display(df.head(5))"
      ]
    },
    {
      "cell_type": "code",
      "execution_count": 79,
      "metadata": {
        "colab": {
          "base_uri": "https://localhost:8080/"
        },
        "id": "YyMeutk0grON",
        "outputId": "a02c56ee-fb92-4175-c9d7-22591ab11b15"
      },
      "outputs": [
        {
          "output_type": "stream",
          "name": "stdout",
          "text": [
            "Column\t\t    NaNs   Type\n",
            "job_id              0      int64\n",
            "title               0      object\n",
            "location            346    object\n",
            "department          11547  object\n",
            "salary_range        15012  object\n",
            "company_profile     3308   object\n",
            "description         1      object\n",
            "requirements        2695   object\n",
            "benefits            7210   object\n",
            "telecommuting       0      int64\n",
            "has_company_logo    0      int64\n",
            "has_questions       0      int64\n",
            "employment_type     3471   object\n",
            "required_experience 7050   object\n",
            "required_education  8105   object\n",
            "industry            4903   object\n",
            "function            6455   object\n",
            "fraudulent          0      int64\n"
          ]
        }
      ],
      "source": [
        "# Print count of NaNs and type of each column\n",
        "print(\"Column\\t\\t    NaNs   Type\")\n",
        "for column in df.columns:\n",
        "    print(f'{column.ljust(20)}{str(df[column].isna().sum()).ljust(7)}{df[column].dtype}')"
      ]
    },
    {
      "cell_type": "code",
      "execution_count": 80,
      "metadata": {
        "colab": {
          "base_uri": "https://localhost:8080/"
        },
        "id": "VOXcRkmhgwrZ",
        "outputId": "7b2e0a85-c399-4bad-a7e2-b40da55ef255"
      },
      "outputs": [
        {
          "output_type": "stream",
          "name": "stdout",
          "text": [
            "Column\t\t       NaNs\n",
            "job_id                 0\n",
            "title                  0\n",
            "location               0\n",
            "department             0\n",
            "salary_range           0\n",
            "company_profile        0\n",
            "description            0\n",
            "requirements           0\n",
            "benefits               0\n",
            "telecommuting          0\n",
            "has_company_logo       0\n",
            "has_questions          0\n",
            "employment_type        0\n",
            "required_experience    0\n",
            "required_education     0\n",
            "industry               0\n",
            "function               0\n",
            "fraudulent             0\n",
            "dtype: int64\n"
          ]
        }
      ],
      "source": [
        "#Replacing NAN Values\n",
        "new_df = df.copy()\n",
        "NAN_Cols=[\n",
        "    \"location\",\"department\",\"salary_range\",\n",
        "    \"company_profile\",\"description\",\"requirements\",\n",
        "    \"benefits\",\"employment_type\",\"required_experience\",\n",
        "    \"required_experience\",\"required_education\",\"industry\",\"function\"\n",
        "]\n",
        "print(\"Column\\t\\t       NaNs\")\n",
        "for i in NAN_Cols:\n",
        "    new_df[i].fillna(\"\",inplace=True)\n",
        "print(new_df.isnull().sum())"
      ]
    },
    {
      "cell_type": "code",
      "execution_count": 81,
      "metadata": {
        "colab": {
          "base_uri": "https://localhost:8080/"
        },
        "id": "87mjUtgkg6ek",
        "outputId": "e3a75644-0c55-431e-e272-be69489c7c8b"
      },
      "outputs": [
        {
          "output_type": "stream",
          "name": "stdout",
          "text": [
            "job_id: [    1     2     3 ... 17878 17879 17880]\n",
            "telecommuting: [0 1]\n",
            "has_company_logo: [1 0]\n",
            "has_questions: [0 1]\n",
            "fraudulent: [0 1]\n"
          ]
        }
      ],
      "source": [
        "# Get numeric columns unique values\n",
        "numeric_atts = ['job_id', 'telecommuting', 'has_company_logo', 'has_questions', 'fraudulent']\n",
        "for column in numeric_atts:\n",
        "    print(f'{column}: {new_df[column].unique()}')"
      ]
    },
    {
      "cell_type": "code",
      "execution_count": 82,
      "metadata": {
        "colab": {
          "base_uri": "https://localhost:8080/",
          "height": 517
        },
        "id": "XAUYnGzdg-pU",
        "outputId": "bc635e50-520a-4c15-efdb-6f71bcda2924"
      },
      "outputs": [
        {
          "output_type": "execute_result",
          "data": {
            "text/plain": [
              "<PIL.Image.Image image mode=RGB size=700x500 at 0x7FEB8662FF40>"
            ],
            "image/png": "[encoded data removed]"
          },
          "metadata": {},
          "execution_count": 82
        }
      ],
      "source": [
        "#Data Visualization\n",
        "#top 300 most used words in the description\n",
        "long_string = ','.join(list(new_df['description'].values))\n",
        "wordcloud = WordCloud(background_color=\"black\", max_words=500, width=700, height=500, contour_width=10, contour_color='green')\n",
        "wordcloud.generate(long_string)\n",
        "wordcloud.to_image()\n"
      ]
    },
    {
      "cell_type": "code",
      "execution_count": 83,
      "metadata": {
        "colab": {
          "base_uri": "https://localhost:8080/",
          "height": 600
        },
        "id": "7s618PyahBU2",
        "outputId": "223ecd6e-2e3e-459b-acf3-efc49de99def"
      },
      "outputs": [
        {
          "output_type": "execute_result",
          "data": {
            "text/plain": [
              "   job_id                                      title            location  \\\n",
              "0       1                           Marketing Intern    US, NY, New York   \n",
              "1       2  Customer Service - Cloud Video Production      NZ, , Auckland   \n",
              "2       3    Commissioning Machinery Assistant (CMA)       US, IA, Wever   \n",
              "3       4          Account Executive - Washington DC  US, DC, Washington   \n",
              "4       5                        Bill Review Manager  US, FL, Fort Worth   \n",
              "\n",
              "  department salary_range                                    company_profile  \\\n",
              "0  Marketing               We're Food52, and we've created a groundbreaki...   \n",
              "1    Success               90 Seconds, the worlds Cloud Video Production ...   \n",
              "2                          Valor Services provides Workforce Solutions th...   \n",
              "3      Sales               Our passion for improving quality of life thro...   \n",
              "4                          SpotSource Solutions LLC is a Global Human Cap...   \n",
              "\n",
              "                                         description  \\\n",
              "0  Food52, a fast-growing, James Beard Award-winn...   \n",
              "1  Organised - Focused - Vibrant - Awesome!Do you...   \n",
              "2  Our client, located in Houston, is actively se...   \n",
              "3  THE COMPANY: ESRI – Environmental Systems Rese...   \n",
              "4  JOB TITLE: Itemization Review ManagerLOCATION:...   \n",
              "\n",
              "                                        requirements  \\\n",
              "0  Experience with content management systems a m...   \n",
              "1  What we expect from you:Your key responsibilit...   \n",
              "2  Implement pre-commissioning and commissioning ...   \n",
              "3  EDUCATION: Bachelor’s or Master’s in GIS, busi...   \n",
              "4  QUALIFICATIONS:RN license in the State of Texa...   \n",
              "\n",
              "                                            benefits  telecommuting  \\\n",
              "0                                                                 0   \n",
              "1  What you will get from usThrough being part of...              0   \n",
              "2                                                                 0   \n",
              "3  Our culture is anything but corporate—we have ...              0   \n",
              "4                              Full Benefits Offered              0   \n",
              "\n",
              "   has_company_logo  has_questions employment_type required_experience  \\\n",
              "0                 1              0           Other          Internship   \n",
              "1                 1              0       Full-time      Not Applicable   \n",
              "2                 1              0                                       \n",
              "3                 1              0       Full-time    Mid-Senior level   \n",
              "4                 1              1       Full-time    Mid-Senior level   \n",
              "\n",
              "  required_education                   industry              function  \\\n",
              "0                                                           Marketing   \n",
              "1                     Marketing and Advertising      Customer Service   \n",
              "2                                                                       \n",
              "3  Bachelor's Degree          Computer Software                 Sales   \n",
              "4  Bachelor's Degree     Hospital & Health Care  Health Care Provider   \n",
              "\n",
              "   fraudulent  \n",
              "0           0  \n",
              "1           0  \n",
              "2           0  \n",
              "3           0  \n",
              "4           0  "
            ],
            "text/html": [
              "\n",
              "  <div id=\"df-29078a50-4ffb-4e19-9f6d-e731a4f327a5\">\n",
              "    <div class=\"colab-df-container\">\n",
              "      <div>\n",
              "<style scoped>\n",
              "    .dataframe tbody tr th:only-of-type {\n",
              "        vertical-align: middle;\n",
              "    }\n",
              "\n",
              "    .dataframe tbody tr th {\n",
              "        vertical-align: top;\n",
              "    }\n",
              "\n",
              "    .dataframe thead th {\n",
              "        text-align: right;\n",
              "    }\n",
              "</style>\n",
              "<table border=\"1\" class=\"dataframe\">\n",
              "  <thead>\n",
              "    <tr style=\"text-align: right;\">\n",
              "      <th></th>\n",
              "      <th>job_id</th>\n",
              "      <th>title</th>\n",
              "      <th>location</th>\n",
              "      <th>department</th>\n",
              "      <th>salary_range</th>\n",
              "      <th>company_profile</th>\n",
              "      <th>description</th>\n",
              "      <th>requirements</th>\n",
              "      <th>benefits</th>\n",
              "      <th>telecommuting</th>\n",
              "      <th>has_company_logo</th>\n",
              "      <th>has_questions</th>\n",
              "      <th>employment_type</th>\n",
              "      <th>required_experience</th>\n",
              "      <th>required_education</th>\n",
              "      <th>industry</th>\n",
              "      <th>function</th>\n",
              "      <th>fraudulent</th>\n",
              "    </tr>\n",
              "  </thead>\n",
              "  <tbody>\n",
              "    <tr>\n",
              "      <th>0</th>\n",
              "      <td>1</td>\n",
              "      <td>Marketing Intern</td>\n",
              "      <td>US, NY, New York</td>\n",
              "      <td>Marketing</td>\n",
              "      <td></td>\n",
              "      <td>We're Food52, and we've created a groundbreaki...</td>\n",
              "      <td>Food52, a fast-growing, James Beard Award-winn...</td>\n",
              "      <td>Experience with content management systems a m...</td>\n",
              "      <td></td>\n",
              "      <td>0</td>\n",
              "      <td>1</td>\n",
              "      <td>0</td>\n",
              "      <td>Other</td>\n",
              "      <td>Internship</td>\n",
              "      <td></td>\n",
              "      <td></td>\n",
              "      <td>Marketing</td>\n",
              "      <td>0</td>\n",
              "    </tr>\n",
              "    <tr>\n",
              "      <th>1</th>\n",
              "      <td>2</td>\n",
              "      <td>Customer Service - Cloud Video Production</td>\n",
              "      <td>NZ, , Auckland</td>\n",
              "      <td>Success</td>\n",
              "      <td></td>\n",
              "      <td>90 Seconds, the worlds Cloud Video Production ...</td>\n",
              "      <td>Organised - Focused - Vibrant - Awesome!Do you...</td>\n",
              "      <td>What we expect from you:Your key responsibilit...</td>\n",
              "      <td>What you will get from usThrough being part of...</td>\n",
              "      <td>0</td>\n",
              "      <td>1</td>\n",
              "      <td>0</td>\n",
              "      <td>Full-time</td>\n",
              "      <td>Not Applicable</td>\n",
              "      <td></td>\n",
              "      <td>Marketing and Advertising</td>\n",
              "      <td>Customer Service</td>\n",
              "      <td>0</td>\n",
              "    </tr>\n",
              "    <tr>\n",
              "      <th>2</th>\n",
              "      <td>3</td>\n",
              "      <td>Commissioning Machinery Assistant (CMA)</td>\n",
              "      <td>US, IA, Wever</td>\n",
              "      <td></td>\n",
              "      <td></td>\n",
              "      <td>Valor Services provides Workforce Solutions th...</td>\n",
              "      <td>Our client, located in Houston, is actively se...</td>\n",
              "      <td>Implement pre-commissioning and commissioning ...</td>\n",
              "      <td></td>\n",
              "      <td>0</td>\n",
              "      <td>1</td>\n",
              "      <td>0</td>\n",
              "      <td></td>\n",
              "      <td></td>\n",
              "      <td></td>\n",
              "      <td></td>\n",
              "      <td></td>\n",
              "      <td>0</td>\n",
              "    </tr>\n",
              "    <tr>\n",
              "      <th>3</th>\n",
              "      <td>4</td>\n",
              "      <td>Account Executive - Washington DC</td>\n",
              "      <td>US, DC, Washington</td>\n",
              "      <td>Sales</td>\n",
              "      <td></td>\n",
              "      <td>Our passion for improving quality of life thro...</td>\n",
              "      <td>THE COMPANY: ESRI – Environmental Systems Rese...</td>\n",
              "      <td>EDUCATION: Bachelor’s or Master’s in GIS, busi...</td>\n",
              "      <td>Our culture is anything but corporate—we have ...</td>\n",
              "      <td>0</td>\n",
              "      <td>1</td>\n",
              "      <td>0</td>\n",
              "      <td>Full-time</td>\n",
              "      <td>Mid-Senior level</td>\n",
              "      <td>Bachelor's Degree</td>\n",
              "      <td>Computer Software</td>\n",
              "      <td>Sales</td>\n",
              "      <td>0</td>\n",
              "    </tr>\n",
              "    <tr>\n",
              "      <th>4</th>\n",
              "      <td>5</td>\n",
              "      <td>Bill Review Manager</td>\n",
              "      <td>US, FL, Fort Worth</td>\n",
              "      <td></td>\n",
              "      <td></td>\n",
              "      <td>SpotSource Solutions LLC is a Global Human Cap...</td>\n",
              "      <td>JOB TITLE: Itemization Review ManagerLOCATION:...</td>\n",
              "      <td>QUALIFICATIONS:RN license in the State of Texa...</td>\n",
              "      <td>Full Benefits Offered</td>\n",
              "      <td>0</td>\n",
              "      <td>1</td>\n",
              "      <td>1</td>\n",
              "      <td>Full-time</td>\n",
              "      <td>Mid-Senior level</td>\n",
              "      <td>Bachelor's Degree</td>\n",
              "      <td>Hospital &amp; Health Care</td>\n",
              "      <td>Health Care Provider</td>\n",
              "      <td>0</td>\n",
              "    </tr>\n",
              "  </tbody>\n",
              "</table>\n",
              "</div>\n",
              "      <button class=\"colab-df-convert\" onclick=\"convertToInteractive('df-29078a50-4ffb-4e19-9f6d-e731a4f327a5')\"\n",
              "              title=\"Convert this dataframe to an interactive table.\"\n",
              "              style=\"display:none;\">\n",
              "        \n",
              "  <svg xmlns=\"http://www.w3.org/2000/svg\" height=\"24px\"viewBox=\"0 0 24 24\"\n",
              "       width=\"24px\">\n",
              "    <path d=\"M0 0h24v24H0V0z\" fill=\"none\"/>\n",
              "    <path d=\"M18.56 5.44l.94 2.06.94-2.06 2.06-.94-2.06-.94-.94-2.06-.94 2.06-2.06.94zm-11 1L8.5 8.5l.94-2.06 2.06-.94-2.06-.94L8.5 2.5l-.94 2.06-2.06.94zm10 10l.94 2.06.94-2.06 2.06-.94-2.06-.94-.94-2.06-.94 2.06-2.06.94z\"/><path d=\"M17.41 7.96l-1.37-1.37c-.4-.4-.92-.59-1.43-.59-.52 0-1.04.2-1.43.59L10.3 9.45l-7.72 7.72c-.78.78-.78 2.05 0 2.83L4 21.41c.39.39.9.59 1.41.59.51 0 1.02-.2 1.41-.59l7.78-7.78 2.81-2.81c.8-.78.8-2.07 0-2.86zM5.41 20L4 18.59l7.72-7.72 1.47 1.35L5.41 20z\"/>\n",
              "  </svg>\n",
              "      </button>\n",
              "      \n",
              "  <style>\n",
              "    .colab-df-container {\n",
              "      display:flex;\n",
              "      flex-wrap:wrap;\n",
              "      gap: 12px;\n",
              "    }\n",
              "\n",
              "    .colab-df-convert {\n",
              "      background-color: #E8F0FE;\n",
              "      border: none;\n",
              "      border-radius: 50%;\n",
              "      cursor: pointer;\n",
              "      display: none;\n",
              "      fill: #1967D2;\n",
              "      height: 32px;\n",
              "      padding: 0 0 0 0;\n",
              "      width: 32px;\n",
              "    }\n",
              "\n",
              "    .colab-df-convert:hover {\n",
              "      background-color: #E2EBFA;\n",
              "      box-shadow: 0px 1px 2px rgba(60, 64, 67, 0.3), 0px 1px 3px 1px rgba(60, 64, 67, 0.15);\n",
              "      fill: #174EA6;\n",
              "    }\n",
              "\n",
              "    [theme=dark] .colab-df-convert {\n",
              "      background-color: #3B4455;\n",
              "      fill: #D2E3FC;\n",
              "    }\n",
              "\n",
              "    [theme=dark] .colab-df-convert:hover {\n",
              "      background-color: #434B5C;\n",
              "      box-shadow: 0px 1px 3px 1px rgba(0, 0, 0, 0.15);\n",
              "      filter: drop-shadow(0px 1px 2px rgba(0, 0, 0, 0.3));\n",
              "      fill: #FFFFFF;\n",
              "    }\n",
              "  </style>\n",
              "\n",
              "      <script>\n",
              "        const buttonEl =\n",
              "          document.querySelector('#df-29078a50-4ffb-4e19-9f6d-e731a4f327a5 button.colab-df-convert');\n",
              "        buttonEl.style.display =\n",
              "          google.colab.kernel.accessAllowed ? 'block' : 'none';\n",
              "\n",
              "        async function convertToInteractive(key) {\n",
              "          const element = document.querySelector('#df-29078a50-4ffb-4e19-9f6d-e731a4f327a5');\n",
              "          const dataTable =\n",
              "            await google.colab.kernel.invokeFunction('convertToInteractive',\n",
              "                                                     [key], {});\n",
              "          if (!dataTable) return;\n",
              "\n",
              "          const docLinkHtml = 'Like what you see? Visit the ' +\n",
              "            '<a target=\"_blank\" href=https://colab.research.google.com/notebooks/data_table.ipynb>data table notebook</a>'\n",
              "            + ' to learn more about interactive tables.';\n",
              "          element.innerHTML = '';\n",
              "          dataTable['output_type'] = 'display_data';\n",
              "          await google.colab.output.renderOutput(dataTable, element);\n",
              "          const docLink = document.createElement('div');\n",
              "          docLink.innerHTML = docLinkHtml;\n",
              "          element.appendChild(docLink);\n",
              "        }\n",
              "      </script>\n",
              "    </div>\n",
              "  </div>\n",
              "  "
            ]
          },
          "metadata": {},
          "execution_count": 83
        }
      ],
      "source": [
        "new_df[:5]"
      ]
    },
    {
      "cell_type": "markdown",
      "metadata": {
        "id": "15sW_btIsH7Q"
      },
      "source": [
        "## Preprocessing"
      ]
    },
    {
      "cell_type": "code",
      "execution_count": 84,
      "metadata": {
        "colab": {
          "base_uri": "https://localhost:8080/",
          "height": 617
        },
        "id": "JN48DwVxhqxE",
        "outputId": "86599819-7295-4b01-8b7f-108d769d9218"
      },
      "outputs": [
        {
          "output_type": "display_data",
          "data": {
            "text/plain": [
              "   job_id                                      title            location  \\\n",
              "0       1                           marketing intern    us, ny, new york   \n",
              "1       2  customer service - cloud video production      nz, , auckland   \n",
              "2       3    commissioning machinery assistant (cma)       us, ia, wever   \n",
              "3       4          account executive - washington dc  us, dc, washington   \n",
              "4       5                        bill review manager  us, fl, fort worth   \n",
              "\n",
              "  department salary_range                                    company_profile  \\\n",
              "0  marketing               we're food52, and we've created a groundbreaki...   \n",
              "1    success               90 seconds, the worlds cloud video production ...   \n",
              "2                          valor services provides workforce solutions th...   \n",
              "3      sales               our passion for improving quality of life thro...   \n",
              "4                          spotsource solutions llc is a global human cap...   \n",
              "\n",
              "                                         description  \\\n",
              "0  food52, a fast-growing, james beard award-winn...   \n",
              "1  organised - focused - vibrant - awesome!do you...   \n",
              "2  our client, located in houston, is actively se...   \n",
              "3  the company: esri – environmental systems rese...   \n",
              "4  job title: itemization review managerlocation:...   \n",
              "\n",
              "                                        requirements  \\\n",
              "0  experience with content management systems a m...   \n",
              "1  what we expect from you:your key responsibilit...   \n",
              "2  implement pre-commissioning and commissioning ...   \n",
              "3  education: bachelor’s or master’s in gis, busi...   \n",
              "4  qualifications:rn license in the state of texa...   \n",
              "\n",
              "                                            benefits  telecommuting  \\\n",
              "0                                                                 0   \n",
              "1  what you will get from usthrough being part of...              0   \n",
              "2                                                                 0   \n",
              "3  our culture is anything but corporate—we have ...              0   \n",
              "4                              full benefits offered              0   \n",
              "\n",
              "   has_company_logo  has_questions employment_type required_experience  \\\n",
              "0                 1              0           other          internship   \n",
              "1                 1              0       full-time      not applicable   \n",
              "2                 1              0                                       \n",
              "3                 1              0       full-time    mid-senior level   \n",
              "4                 1              1       full-time    mid-senior level   \n",
              "\n",
              "  required_education                   industry              function  \\\n",
              "0                                                           marketing   \n",
              "1                     marketing and advertising      customer service   \n",
              "2                                                                       \n",
              "3  bachelor's degree          computer software                 sales   \n",
              "4  bachelor's degree     hospital & health care  health care provider   \n",
              "\n",
              "   fraudulent  \n",
              "0           0  \n",
              "1           0  \n",
              "2           0  \n",
              "3           0  \n",
              "4           0  "
            ],
            "text/html": [
              "\n",
              "  <div id=\"df-9d529785-eee5-4616-ba3f-a121dc9b93bb\">\n",
              "    <div class=\"colab-df-container\">\n",
              "      <div>\n",
              "<style scoped>\n",
              "    .dataframe tbody tr th:only-of-type {\n",
              "        vertical-align: middle;\n",
              "    }\n",
              "\n",
              "    .dataframe tbody tr th {\n",
              "        vertical-align: top;\n",
              "    }\n",
              "\n",
              "    .dataframe thead th {\n",
              "        text-align: right;\n",
              "    }\n",
              "</style>\n",
              "<table border=\"1\" class=\"dataframe\">\n",
              "  <thead>\n",
              "    <tr style=\"text-align: right;\">\n",
              "      <th></th>\n",
              "      <th>job_id</th>\n",
              "      <th>title</th>\n",
              "      <th>location</th>\n",
              "      <th>department</th>\n",
              "      <th>salary_range</th>\n",
              "      <th>company_profile</th>\n",
              "      <th>description</th>\n",
              "      <th>requirements</th>\n",
              "      <th>benefits</th>\n",
              "      <th>telecommuting</th>\n",
              "      <th>has_company_logo</th>\n",
              "      <th>has_questions</th>\n",
              "      <th>employment_type</th>\n",
              "      <th>required_experience</th>\n",
              "      <th>required_education</th>\n",
              "      <th>industry</th>\n",
              "      <th>function</th>\n",
              "      <th>fraudulent</th>\n",
              "    </tr>\n",
              "  </thead>\n",
              "  <tbody>\n",
              "    <tr>\n",
              "      <th>0</th>\n",
              "      <td>1</td>\n",
              "      <td>marketing intern</td>\n",
              "      <td>us, ny, new york</td>\n",
              "      <td>marketing</td>\n",
              "      <td></td>\n",
              "      <td>we're food52, and we've created a groundbreaki...</td>\n",
              "      <td>food52, a fast-growing, james beard award-winn...</td>\n",
              "      <td>experience with content management systems a m...</td>\n",
              "      <td></td>\n",
              "      <td>0</td>\n",
              "      <td>1</td>\n",
              "      <td>0</td>\n",
              "      <td>other</td>\n",
              "      <td>internship</td>\n",
              "      <td></td>\n",
              "      <td></td>\n",
              "      <td>marketing</td>\n",
              "      <td>0</td>\n",
              "    </tr>\n",
              "    <tr>\n",
              "      <th>1</th>\n",
              "      <td>2</td>\n",
              "      <td>customer service - cloud video production</td>\n",
              "      <td>nz, , auckland</td>\n",
              "      <td>success</td>\n",
              "      <td></td>\n",
              "      <td>90 seconds, the worlds cloud video production ...</td>\n",
              "      <td>organised - focused - vibrant - awesome!do you...</td>\n",
              "      <td>what we expect from you:your key responsibilit...</td>\n",
              "      <td>what you will get from usthrough being part of...</td>\n",
              "      <td>0</td>\n",
              "      <td>1</td>\n",
              "      <td>0</td>\n",
              "      <td>full-time</td>\n",
              "      <td>not applicable</td>\n",
              "      <td></td>\n",
              "      <td>marketing and advertising</td>\n",
              "      <td>customer service</td>\n",
              "      <td>0</td>\n",
              "    </tr>\n",
              "    <tr>\n",
              "      <th>2</th>\n",
              "      <td>3</td>\n",
              "      <td>commissioning machinery assistant (cma)</td>\n",
              "      <td>us, ia, wever</td>\n",
              "      <td></td>\n",
              "      <td></td>\n",
              "      <td>valor services provides workforce solutions th...</td>\n",
              "      <td>our client, located in houston, is actively se...</td>\n",
              "      <td>implement pre-commissioning and commissioning ...</td>\n",
              "      <td></td>\n",
              "      <td>0</td>\n",
              "      <td>1</td>\n",
              "      <td>0</td>\n",
              "      <td></td>\n",
              "      <td></td>\n",
              "      <td></td>\n",
              "      <td></td>\n",
              "      <td></td>\n",
              "      <td>0</td>\n",
              "    </tr>\n",
              "    <tr>\n",
              "      <th>3</th>\n",
              "      <td>4</td>\n",
              "      <td>account executive - washington dc</td>\n",
              "      <td>us, dc, washington</td>\n",
              "      <td>sales</td>\n",
              "      <td></td>\n",
              "      <td>our passion for improving quality of life thro...</td>\n",
              "      <td>the company: esri – environmental systems rese...</td>\n",
              "      <td>education: bachelor’s or master’s in gis, busi...</td>\n",
              "      <td>our culture is anything but corporate—we have ...</td>\n",
              "      <td>0</td>\n",
              "      <td>1</td>\n",
              "      <td>0</td>\n",
              "      <td>full-time</td>\n",
              "      <td>mid-senior level</td>\n",
              "      <td>bachelor's degree</td>\n",
              "      <td>computer software</td>\n",
              "      <td>sales</td>\n",
              "      <td>0</td>\n",
              "    </tr>\n",
              "    <tr>\n",
              "      <th>4</th>\n",
              "      <td>5</td>\n",
              "      <td>bill review manager</td>\n",
              "      <td>us, fl, fort worth</td>\n",
              "      <td></td>\n",
              "      <td></td>\n",
              "      <td>spotsource solutions llc is a global human cap...</td>\n",
              "      <td>job title: itemization review managerlocation:...</td>\n",
              "      <td>qualifications:rn license in the state of texa...</td>\n",
              "      <td>full benefits offered</td>\n",
              "      <td>0</td>\n",
              "      <td>1</td>\n",
              "      <td>1</td>\n",
              "      <td>full-time</td>\n",
              "      <td>mid-senior level</td>\n",
              "      <td>bachelor's degree</td>\n",
              "      <td>hospital &amp; health care</td>\n",
              "      <td>health care provider</td>\n",
              "      <td>0</td>\n",
              "    </tr>\n",
              "  </tbody>\n",
              "</table>\n",
              "</div>\n",
              "      <button class=\"colab-df-convert\" onclick=\"convertToInteractive('df-9d529785-eee5-4616-ba3f-a121dc9b93bb')\"\n",
              "              title=\"Convert this dataframe to an interactive table.\"\n",
              "              style=\"display:none;\">\n",
              "        \n",
              "  <svg xmlns=\"http://www.w3.org/2000/svg\" height=\"24px\"viewBox=\"0 0 24 24\"\n",
              "       width=\"24px\">\n",
              "    <path d=\"M0 0h24v24H0V0z\" fill=\"none\"/>\n",
              "    <path d=\"M18.56 5.44l.94 2.06.94-2.06 2.06-.94-2.06-.94-.94-2.06-.94 2.06-2.06.94zm-11 1L8.5 8.5l.94-2.06 2.06-.94-2.06-.94L8.5 2.5l-.94 2.06-2.06.94zm10 10l.94 2.06.94-2.06 2.06-.94-2.06-.94-.94-2.06-.94 2.06-2.06.94z\"/><path d=\"M17.41 7.96l-1.37-1.37c-.4-.4-.92-.59-1.43-.59-.52 0-1.04.2-1.43.59L10.3 9.45l-7.72 7.72c-.78.78-.78 2.05 0 2.83L4 21.41c.39.39.9.59 1.41.59.51 0 1.02-.2 1.41-.59l7.78-7.78 2.81-2.81c.8-.78.8-2.07 0-2.86zM5.41 20L4 18.59l7.72-7.72 1.47 1.35L5.41 20z\"/>\n",
              "  </svg>\n",
              "      </button>\n",
              "      \n",
              "  <style>\n",
              "    .colab-df-container {\n",
              "      display:flex;\n",
              "      flex-wrap:wrap;\n",
              "      gap: 12px;\n",
              "    }\n",
              "\n",
              "    .colab-df-convert {\n",
              "      background-color: #E8F0FE;\n",
              "      border: none;\n",
              "      border-radius: 50%;\n",
              "      cursor: pointer;\n",
              "      display: none;\n",
              "      fill: #1967D2;\n",
              "      height: 32px;\n",
              "      padding: 0 0 0 0;\n",
              "      width: 32px;\n",
              "    }\n",
              "\n",
              "    .colab-df-convert:hover {\n",
              "      background-color: #E2EBFA;\n",
              "      box-shadow: 0px 1px 2px rgba(60, 64, 67, 0.3), 0px 1px 3px 1px rgba(60, 64, 67, 0.15);\n",
              "      fill: #174EA6;\n",
              "    }\n",
              "\n",
              "    [theme=dark] .colab-df-convert {\n",
              "      background-color: #3B4455;\n",
              "      fill: #D2E3FC;\n",
              "    }\n",
              "\n",
              "    [theme=dark] .colab-df-convert:hover {\n",
              "      background-color: #434B5C;\n",
              "      box-shadow: 0px 1px 3px 1px rgba(0, 0, 0, 0.15);\n",
              "      filter: drop-shadow(0px 1px 2px rgba(0, 0, 0, 0.3));\n",
              "      fill: #FFFFFF;\n",
              "    }\n",
              "  </style>\n",
              "\n",
              "      <script>\n",
              "        const buttonEl =\n",
              "          document.querySelector('#df-9d529785-eee5-4616-ba3f-a121dc9b93bb button.colab-df-convert');\n",
              "        buttonEl.style.display =\n",
              "          google.colab.kernel.accessAllowed ? 'block' : 'none';\n",
              "\n",
              "        async function convertToInteractive(key) {\n",
              "          const element = document.querySelector('#df-9d529785-eee5-4616-ba3f-a121dc9b93bb');\n",
              "          const dataTable =\n",
              "            await google.colab.kernel.invokeFunction('convertToInteractive',\n",
              "                                                     [key], {});\n",
              "          if (!dataTable) return;\n",
              "\n",
              "          const docLinkHtml = 'Like what you see? Visit the ' +\n",
              "            '<a target=\"_blank\" href=https://colab.research.google.com/notebooks/data_table.ipynb>data table notebook</a>'\n",
              "            + ' to learn more about interactive tables.';\n",
              "          element.innerHTML = '';\n",
              "          dataTable['output_type'] = 'display_data';\n",
              "          await google.colab.output.renderOutput(dataTable, element);\n",
              "          const docLink = document.createElement('div');\n",
              "          docLink.innerHTML = docLinkHtml;\n",
              "          element.appendChild(docLink);\n",
              "        }\n",
              "      </script>\n",
              "    </div>\n",
              "  </div>\n",
              "  "
            ]
          },
          "metadata": {}
        }
      ],
      "source": [
        "# Convert Everything to lowercase\n",
        "new_df = new_df.applymap(lambda s: s.lower() if type(s) == str else s)\n",
        "display(new_df.head(5))"
      ]
    },
    {
      "cell_type": "code",
      "execution_count": 85,
      "metadata": {
        "colab": {
          "base_uri": "https://localhost:8080/",
          "height": 652
        },
        "id": "HMDJhqYdh2Js",
        "outputId": "00f74daf-9a13-4cb8-b9dc-cfdfe48ef486"
      },
      "outputs": [
        {
          "output_type": "display_data",
          "data": {
            "text/plain": [
              "   job_id                                      title            location  \\\n",
              "0       1                           marketing intern    us  ny  new york   \n",
              "1       2  customer service   cloud video production      nz    auckland   \n",
              "2       3    commissioning machinery assistant  cma        us  ia  wever   \n",
              "3       4          account executive   washington dc  us  dc  washington   \n",
              "4       5                        bill review manager  us  fl  fort worth   \n",
              "\n",
              "  department salary_range                                    company_profile  \\\n",
              "0  marketing               we re food52  and we ve created a groundbreaki...   \n",
              "1    success               90 seconds  the worlds cloud video production ...   \n",
              "2                          valor services provides workforce solutions th...   \n",
              "3      sales               our passion for improving quality of life thro...   \n",
              "4                          spotsource solutions llc is a global human cap...   \n",
              "\n",
              "                                         description  \\\n",
              "0  food52  a fast growing  james beard award winn...   \n",
              "1  organised   focused   vibrant   awesome do you...   \n",
              "2  our client  located in houston  is actively se...   \n",
              "3  the company  esri – environmental systems rese...   \n",
              "4  job title  itemization review managerlocation ...   \n",
              "\n",
              "                                        requirements  \\\n",
              "0  experience with content management systems a m...   \n",
              "1  what we expect from you your key responsibilit...   \n",
              "2  implement pre commissioning and commissioning ...   \n",
              "3  education  bachelor’s or master’s in gis  busi...   \n",
              "4  qualifications rn license in the state of texa...   \n",
              "\n",
              "                                            benefits  telecommuting  \\\n",
              "0                                                                 0   \n",
              "1  what you will get from usthrough being part of...              0   \n",
              "2                                                                 0   \n",
              "3  our culture is anything but corporate—we have ...              0   \n",
              "4                              full benefits offered              0   \n",
              "\n",
              "   has_company_logo  has_questions employment_type required_experience  \\\n",
              "0                 1              0           other          internship   \n",
              "1                 1              0       full time      not applicable   \n",
              "2                 1              0                                       \n",
              "3                 1              0       full time    mid senior level   \n",
              "4                 1              1       full time    mid senior level   \n",
              "\n",
              "  required_education                   industry              function  \\\n",
              "0                                                           marketing   \n",
              "1                     marketing and advertising      customer service   \n",
              "2                                                                       \n",
              "3  bachelor s degree          computer software                 sales   \n",
              "4  bachelor s degree     hospital   health care  health care provider   \n",
              "\n",
              "   fraudulent  \n",
              "0           0  \n",
              "1           0  \n",
              "2           0  \n",
              "3           0  \n",
              "4           0  "
            ],
            "text/html": [
              "\n",
              "  <div id=\"df-4717a542-2974-4d02-b980-f39103d83aab\">\n",
              "    <div class=\"colab-df-container\">\n",
              "      <div>\n",
              "<style scoped>\n",
              "    .dataframe tbody tr th:only-of-type {\n",
              "        vertical-align: middle;\n",
              "    }\n",
              "\n",
              "    .dataframe tbody tr th {\n",
              "        vertical-align: top;\n",
              "    }\n",
              "\n",
              "    .dataframe thead th {\n",
              "        text-align: right;\n",
              "    }\n",
              "</style>\n",
              "<table border=\"1\" class=\"dataframe\">\n",
              "  <thead>\n",
              "    <tr style=\"text-align: right;\">\n",
              "      <th></th>\n",
              "      <th>job_id</th>\n",
              "      <th>title</th>\n",
              "      <th>location</th>\n",
              "      <th>department</th>\n",
              "      <th>salary_range</th>\n",
              "      <th>company_profile</th>\n",
              "      <th>description</th>\n",
              "      <th>requirements</th>\n",
              "      <th>benefits</th>\n",
              "      <th>telecommuting</th>\n",
              "      <th>has_company_logo</th>\n",
              "      <th>has_questions</th>\n",
              "      <th>employment_type</th>\n",
              "      <th>required_experience</th>\n",
              "      <th>required_education</th>\n",
              "      <th>industry</th>\n",
              "      <th>function</th>\n",
              "      <th>fraudulent</th>\n",
              "    </tr>\n",
              "  </thead>\n",
              "  <tbody>\n",
              "    <tr>\n",
              "      <th>0</th>\n",
              "      <td>1</td>\n",
              "      <td>marketing intern</td>\n",
              "      <td>us  ny  new york</td>\n",
              "      <td>marketing</td>\n",
              "      <td></td>\n",
              "      <td>we re food52  and we ve created a groundbreaki...</td>\n",
              "      <td>food52  a fast growing  james beard award winn...</td>\n",
              "      <td>experience with content management systems a m...</td>\n",
              "      <td></td>\n",
              "      <td>0</td>\n",
              "      <td>1</td>\n",
              "      <td>0</td>\n",
              "      <td>other</td>\n",
              "      <td>internship</td>\n",
              "      <td></td>\n",
              "      <td></td>\n",
              "      <td>marketing</td>\n",
              "      <td>0</td>\n",
              "    </tr>\n",
              "    <tr>\n",
              "      <th>1</th>\n",
              "      <td>2</td>\n",
              "      <td>customer service   cloud video production</td>\n",
              "      <td>nz    auckland</td>\n",
              "      <td>success</td>\n",
              "      <td></td>\n",
              "      <td>90 seconds  the worlds cloud video production ...</td>\n",
              "      <td>organised   focused   vibrant   awesome do you...</td>\n",
              "      <td>what we expect from you your key responsibilit...</td>\n",
              "      <td>what you will get from usthrough being part of...</td>\n",
              "      <td>0</td>\n",
              "      <td>1</td>\n",
              "      <td>0</td>\n",
              "      <td>full time</td>\n",
              "      <td>not applicable</td>\n",
              "      <td></td>\n",
              "      <td>marketing and advertising</td>\n",
              "      <td>customer service</td>\n",
              "      <td>0</td>\n",
              "    </tr>\n",
              "    <tr>\n",
              "      <th>2</th>\n",
              "      <td>3</td>\n",
              "      <td>commissioning machinery assistant  cma</td>\n",
              "      <td>us  ia  wever</td>\n",
              "      <td></td>\n",
              "      <td></td>\n",
              "      <td>valor services provides workforce solutions th...</td>\n",
              "      <td>our client  located in houston  is actively se...</td>\n",
              "      <td>implement pre commissioning and commissioning ...</td>\n",
              "      <td></td>\n",
              "      <td>0</td>\n",
              "      <td>1</td>\n",
              "      <td>0</td>\n",
              "      <td></td>\n",
              "      <td></td>\n",
              "      <td></td>\n",
              "      <td></td>\n",
              "      <td></td>\n",
              "      <td>0</td>\n",
              "    </tr>\n",
              "    <tr>\n",
              "      <th>3</th>\n",
              "      <td>4</td>\n",
              "      <td>account executive   washington dc</td>\n",
              "      <td>us  dc  washington</td>\n",
              "      <td>sales</td>\n",
              "      <td></td>\n",
              "      <td>our passion for improving quality of life thro...</td>\n",
              "      <td>the company  esri – environmental systems rese...</td>\n",
              "      <td>education  bachelor’s or master’s in gis  busi...</td>\n",
              "      <td>our culture is anything but corporate—we have ...</td>\n",
              "      <td>0</td>\n",
              "      <td>1</td>\n",
              "      <td>0</td>\n",
              "      <td>full time</td>\n",
              "      <td>mid senior level</td>\n",
              "      <td>bachelor s degree</td>\n",
              "      <td>computer software</td>\n",
              "      <td>sales</td>\n",
              "      <td>0</td>\n",
              "    </tr>\n",
              "    <tr>\n",
              "      <th>4</th>\n",
              "      <td>5</td>\n",
              "      <td>bill review manager</td>\n",
              "      <td>us  fl  fort worth</td>\n",
              "      <td></td>\n",
              "      <td></td>\n",
              "      <td>spotsource solutions llc is a global human cap...</td>\n",
              "      <td>job title  itemization review managerlocation ...</td>\n",
              "      <td>qualifications rn license in the state of texa...</td>\n",
              "      <td>full benefits offered</td>\n",
              "      <td>0</td>\n",
              "      <td>1</td>\n",
              "      <td>1</td>\n",
              "      <td>full time</td>\n",
              "      <td>mid senior level</td>\n",
              "      <td>bachelor s degree</td>\n",
              "      <td>hospital   health care</td>\n",
              "      <td>health care provider</td>\n",
              "      <td>0</td>\n",
              "    </tr>\n",
              "  </tbody>\n",
              "</table>\n",
              "</div>\n",
              "      <button class=\"colab-df-convert\" onclick=\"convertToInteractive('df-4717a542-2974-4d02-b980-f39103d83aab')\"\n",
              "              title=\"Convert this dataframe to an interactive table.\"\n",
              "              style=\"display:none;\">\n",
              "        \n",
              "  <svg xmlns=\"http://www.w3.org/2000/svg\" height=\"24px\"viewBox=\"0 0 24 24\"\n",
              "       width=\"24px\">\n",
              "    <path d=\"M0 0h24v24H0V0z\" fill=\"none\"/>\n",
              "    <path d=\"M18.56 5.44l.94 2.06.94-2.06 2.06-.94-2.06-.94-.94-2.06-.94 2.06-2.06.94zm-11 1L8.5 8.5l.94-2.06 2.06-.94-2.06-.94L8.5 2.5l-.94 2.06-2.06.94zm10 10l.94 2.06.94-2.06 2.06-.94-2.06-.94-.94-2.06-.94 2.06-2.06.94z\"/><path d=\"M17.41 7.96l-1.37-1.37c-.4-.4-.92-.59-1.43-.59-.52 0-1.04.2-1.43.59L10.3 9.45l-7.72 7.72c-.78.78-.78 2.05 0 2.83L4 21.41c.39.39.9.59 1.41.59.51 0 1.02-.2 1.41-.59l7.78-7.78 2.81-2.81c.8-.78.8-2.07 0-2.86zM5.41 20L4 18.59l7.72-7.72 1.47 1.35L5.41 20z\"/>\n",
              "  </svg>\n",
              "      </button>\n",
              "      \n",
              "  <style>\n",
              "    .colab-df-container {\n",
              "      display:flex;\n",
              "      flex-wrap:wrap;\n",
              "      gap: 12px;\n",
              "    }\n",
              "\n",
              "    .colab-df-convert {\n",
              "      background-color: #E8F0FE;\n",
              "      border: none;\n",
              "      border-radius: 50%;\n",
              "      cursor: pointer;\n",
              "      display: none;\n",
              "      fill: #1967D2;\n",
              "      height: 32px;\n",
              "      padding: 0 0 0 0;\n",
              "      width: 32px;\n",
              "    }\n",
              "\n",
              "    .colab-df-convert:hover {\n",
              "      background-color: #E2EBFA;\n",
              "      box-shadow: 0px 1px 2px rgba(60, 64, 67, 0.3), 0px 1px 3px 1px rgba(60, 64, 67, 0.15);\n",
              "      fill: #174EA6;\n",
              "    }\n",
              "\n",
              "    [theme=dark] .colab-df-convert {\n",
              "      background-color: #3B4455;\n",
              "      fill: #D2E3FC;\n",
              "    }\n",
              "\n",
              "    [theme=dark] .colab-df-convert:hover {\n",
              "      background-color: #434B5C;\n",
              "      box-shadow: 0px 1px 3px 1px rgba(0, 0, 0, 0.15);\n",
              "      filter: drop-shadow(0px 1px 2px rgba(0, 0, 0, 0.3));\n",
              "      fill: #FFFFFF;\n",
              "    }\n",
              "  </style>\n",
              "\n",
              "      <script>\n",
              "        const buttonEl =\n",
              "          document.querySelector('#df-4717a542-2974-4d02-b980-f39103d83aab button.colab-df-convert');\n",
              "        buttonEl.style.display =\n",
              "          google.colab.kernel.accessAllowed ? 'block' : 'none';\n",
              "\n",
              "        async function convertToInteractive(key) {\n",
              "          const element = document.querySelector('#df-4717a542-2974-4d02-b980-f39103d83aab');\n",
              "          const dataTable =\n",
              "            await google.colab.kernel.invokeFunction('convertToInteractive',\n",
              "                                                     [key], {});\n",
              "          if (!dataTable) return;\n",
              "\n",
              "          const docLinkHtml = 'Like what you see? Visit the ' +\n",
              "            '<a target=\"_blank\" href=https://colab.research.google.com/notebooks/data_table.ipynb>data table notebook</a>'\n",
              "            + ' to learn more about interactive tables.';\n",
              "          element.innerHTML = '';\n",
              "          dataTable['output_type'] = 'display_data';\n",
              "          await google.colab.output.renderOutput(dataTable, element);\n",
              "          const docLink = document.createElement('div');\n",
              "          docLink.innerHTML = docLinkHtml;\n",
              "          element.appendChild(docLink);\n",
              "        }\n",
              "      </script>\n",
              "    </div>\n",
              "  </div>\n",
              "  "
            ]
          },
          "metadata": {}
        }
      ],
      "source": [
        "# Remove Punctuation\n",
        "punc_list = list(string.punctuation)\n",
        "def remove_punctuation(text, punct_list):\n",
        "    for punc in punct_list:\n",
        "        if punc in text:\n",
        "            text = text.replace(punc, ' ')\n",
        "    return text\n",
        "\n",
        "new_df = new_df.applymap(lambda s: remove_punctuation(s, punc_list) if type(s) == str else s)\n",
        "display(new_df.head(5))"
      ]
    },
    {
      "cell_type": "code",
      "execution_count": 87,
      "metadata": {
        "colab": {
          "base_uri": "https://localhost:8080/",
          "height": 600
        },
        "id": "-zl9Z_UEh9Mp",
        "outputId": "85c77d4b-f867-4dc1-d320-80a0737ed29e"
      },
      "outputs": [
        {
          "output_type": "display_data",
          "data": {
            "text/plain": [
              "   job_id                                          title  \\\n",
              "0       1                            [marketing, intern]   \n",
              "1       2  [customer, service, cloud, video, production]   \n",
              "2       3     [commissioning, machinery, assistant, cma]   \n",
              "3       4           [account, executive, washington, dc]   \n",
              "4       5                        [bill, review, manager]   \n",
              "\n",
              "                location   department salary_range  \\\n",
              "0    [us, ny, new, york]  [marketing]           []   \n",
              "1         [nz, auckland]    [success]           []   \n",
              "2        [us, ia, wever]           []           []   \n",
              "3   [us, dc, washington]      [sales]           []   \n",
              "4  [us, fl, fort, worth]           []           []   \n",
              "\n",
              "                                     company_profile  \\\n",
              "0  [we, re, food52, and, we, ve, created, a, grou...   \n",
              "1  [90, seconds, the, worlds, cloud, video, produ...   \n",
              "2  [valor, services, provides, workforce, solutio...   \n",
              "3  [our, passion, for, improving, quality, of, li...   \n",
              "4  [spotsource, solutions, llc, is, a, global, hu...   \n",
              "\n",
              "                                         description  \\\n",
              "0  [food52, a, fast, growing, james, beard, award...   \n",
              "1  [organised, focused, vibrant, awesome, do, you...   \n",
              "2  [our, client, located, in, houston, is, active...   \n",
              "3  [the, company, esri, –, environmental, systems...   \n",
              "4  [job, title, itemization, review, managerlocat...   \n",
              "\n",
              "                                        requirements  \\\n",
              "0  [experience, with, content, management, system...   \n",
              "1  [what, we, expect, from, you, your, key, respo...   \n",
              "2  [implement, pre, commissioning, and, commissio...   \n",
              "3  [education, bachelor, ’, s, or, master, ’, s, ...   \n",
              "4  [qualifications, rn, license, in, the, state, ...   \n",
              "\n",
              "                                            benefits  telecommuting  \\\n",
              "0                                                 []              0   \n",
              "1  [what, you, will, get, from, usthrough, being,...              0   \n",
              "2                                                 []              0   \n",
              "3  [our, culture, is, anything, but, corporate—we...              0   \n",
              "4                          [full, benefits, offered]              0   \n",
              "\n",
              "   has_company_logo  has_questions employment_type   required_experience  \\\n",
              "0                 1              0         [other]          [internship]   \n",
              "1                 1              0    [full, time]     [not, applicable]   \n",
              "2                 1              0              []                    []   \n",
              "3                 1              0    [full, time]  [mid, senior, level]   \n",
              "4                 1              1    [full, time]  [mid, senior, level]   \n",
              "\n",
              "      required_education                       industry  \\\n",
              "0                     []                             []   \n",
              "1                     []  [marketing, and, advertising]   \n",
              "2                     []                             []   \n",
              "3  [bachelor, s, degree]           [computer, software]   \n",
              "4  [bachelor, s, degree]       [hospital, health, care]   \n",
              "\n",
              "                   function  fraudulent  \n",
              "0               [marketing]           0  \n",
              "1       [customer, service]           0  \n",
              "2                        []           0  \n",
              "3                   [sales]           0  \n",
              "4  [health, care, provider]           0  "
            ],
            "text/html": [
              "\n",
              "  <div id=\"df-d0925ebf-2249-4280-8e3b-c1d7c28e1ace\">\n",
              "    <div class=\"colab-df-container\">\n",
              "      <div>\n",
              "<style scoped>\n",
              "    .dataframe tbody tr th:only-of-type {\n",
              "        vertical-align: middle;\n",
              "    }\n",
              "\n",
              "    .dataframe tbody tr th {\n",
              "        vertical-align: top;\n",
              "    }\n",
              "\n",
              "    .dataframe thead th {\n",
              "        text-align: right;\n",
              "    }\n",
              "</style>\n",
              "<table border=\"1\" class=\"dataframe\">\n",
              "  <thead>\n",
              "    <tr style=\"text-align: right;\">\n",
              "      <th></th>\n",
              "      <th>job_id</th>\n",
              "      <th>title</th>\n",
              "      <th>location</th>\n",
              "      <th>department</th>\n",
              "      <th>salary_range</th>\n",
              "      <th>company_profile</th>\n",
              "      <th>description</th>\n",
              "      <th>requirements</th>\n",
              "      <th>benefits</th>\n",
              "      <th>telecommuting</th>\n",
              "      <th>has_company_logo</th>\n",
              "      <th>has_questions</th>\n",
              "      <th>employment_type</th>\n",
              "      <th>required_experience</th>\n",
              "      <th>required_education</th>\n",
              "      <th>industry</th>\n",
              "      <th>function</th>\n",
              "      <th>fraudulent</th>\n",
              "    </tr>\n",
              "  </thead>\n",
              "  <tbody>\n",
              "    <tr>\n",
              "      <th>0</th>\n",
              "      <td>1</td>\n",
              "      <td>[marketing, intern]</td>\n",
              "      <td>[us, ny, new, york]</td>\n",
              "      <td>[marketing]</td>\n",
              "      <td>[]</td>\n",
              "      <td>[we, re, food52, and, we, ve, created, a, grou...</td>\n",
              "      <td>[food52, a, fast, growing, james, beard, award...</td>\n",
              "      <td>[experience, with, content, management, system...</td>\n",
              "      <td>[]</td>\n",
              "      <td>0</td>\n",
              "      <td>1</td>\n",
              "      <td>0</td>\n",
              "      <td>[other]</td>\n",
              "      <td>[internship]</td>\n",
              "      <td>[]</td>\n",
              "      <td>[]</td>\n",
              "      <td>[marketing]</td>\n",
              "      <td>0</td>\n",
              "    </tr>\n",
              "    <tr>\n",
              "      <th>1</th>\n",
              "      <td>2</td>\n",
              "      <td>[customer, service, cloud, video, production]</td>\n",
              "      <td>[nz, auckland]</td>\n",
              "      <td>[success]</td>\n",
              "      <td>[]</td>\n",
              "      <td>[90, seconds, the, worlds, cloud, video, produ...</td>\n",
              "      <td>[organised, focused, vibrant, awesome, do, you...</td>\n",
              "      <td>[what, we, expect, from, you, your, key, respo...</td>\n",
              "      <td>[what, you, will, get, from, usthrough, being,...</td>\n",
              "      <td>0</td>\n",
              "      <td>1</td>\n",
              "      <td>0</td>\n",
              "      <td>[full, time]</td>\n",
              "      <td>[not, applicable]</td>\n",
              "      <td>[]</td>\n",
              "      <td>[marketing, and, advertising]</td>\n",
              "      <td>[customer, service]</td>\n",
              "      <td>0</td>\n",
              "    </tr>\n",
              "    <tr>\n",
              "      <th>2</th>\n",
              "      <td>3</td>\n",
              "      <td>[commissioning, machinery, assistant, cma]</td>\n",
              "      <td>[us, ia, wever]</td>\n",
              "      <td>[]</td>\n",
              "      <td>[]</td>\n",
              "      <td>[valor, services, provides, workforce, solutio...</td>\n",
              "      <td>[our, client, located, in, houston, is, active...</td>\n",
              "      <td>[implement, pre, commissioning, and, commissio...</td>\n",
              "      <td>[]</td>\n",
              "      <td>0</td>\n",
              "      <td>1</td>\n",
              "      <td>0</td>\n",
              "      <td>[]</td>\n",
              "      <td>[]</td>\n",
              "      <td>[]</td>\n",
              "      <td>[]</td>\n",
              "      <td>[]</td>\n",
              "      <td>0</td>\n",
              "    </tr>\n",
              "    <tr>\n",
              "      <th>3</th>\n",
              "      <td>4</td>\n",
              "      <td>[account, executive, washington, dc]</td>\n",
              "      <td>[us, dc, washington]</td>\n",
              "      <td>[sales]</td>\n",
              "      <td>[]</td>\n",
              "      <td>[our, passion, for, improving, quality, of, li...</td>\n",
              "      <td>[the, company, esri, –, environmental, systems...</td>\n",
              "      <td>[education, bachelor, ’, s, or, master, ’, s, ...</td>\n",
              "      <td>[our, culture, is, anything, but, corporate—we...</td>\n",
              "      <td>0</td>\n",
              "      <td>1</td>\n",
              "      <td>0</td>\n",
              "      <td>[full, time]</td>\n",
              "      <td>[mid, senior, level]</td>\n",
              "      <td>[bachelor, s, degree]</td>\n",
              "      <td>[computer, software]</td>\n",
              "      <td>[sales]</td>\n",
              "      <td>0</td>\n",
              "    </tr>\n",
              "    <tr>\n",
              "      <th>4</th>\n",
              "      <td>5</td>\n",
              "      <td>[bill, review, manager]</td>\n",
              "      <td>[us, fl, fort, worth]</td>\n",
              "      <td>[]</td>\n",
              "      <td>[]</td>\n",
              "      <td>[spotsource, solutions, llc, is, a, global, hu...</td>\n",
              "      <td>[job, title, itemization, review, managerlocat...</td>\n",
              "      <td>[qualifications, rn, license, in, the, state, ...</td>\n",
              "      <td>[full, benefits, offered]</td>\n",
              "      <td>0</td>\n",
              "      <td>1</td>\n",
              "      <td>1</td>\n",
              "      <td>[full, time]</td>\n",
              "      <td>[mid, senior, level]</td>\n",
              "      <td>[bachelor, s, degree]</td>\n",
              "      <td>[hospital, health, care]</td>\n",
              "      <td>[health, care, provider]</td>\n",
              "      <td>0</td>\n",
              "    </tr>\n",
              "  </tbody>\n",
              "</table>\n",
              "</div>\n",
              "      <button class=\"colab-df-convert\" onclick=\"convertToInteractive('df-d0925ebf-2249-4280-8e3b-c1d7c28e1ace')\"\n",
              "              title=\"Convert this dataframe to an interactive table.\"\n",
              "              style=\"display:none;\">\n",
              "        \n",
              "  <svg xmlns=\"http://www.w3.org/2000/svg\" height=\"24px\"viewBox=\"0 0 24 24\"\n",
              "       width=\"24px\">\n",
              "    <path d=\"M0 0h24v24H0V0z\" fill=\"none\"/>\n",
              "    <path d=\"M18.56 5.44l.94 2.06.94-2.06 2.06-.94-2.06-.94-.94-2.06-.94 2.06-2.06.94zm-11 1L8.5 8.5l.94-2.06 2.06-.94-2.06-.94L8.5 2.5l-.94 2.06-2.06.94zm10 10l.94 2.06.94-2.06 2.06-.94-2.06-.94-.94-2.06-.94 2.06-2.06.94z\"/><path d=\"M17.41 7.96l-1.37-1.37c-.4-.4-.92-.59-1.43-.59-.52 0-1.04.2-1.43.59L10.3 9.45l-7.72 7.72c-.78.78-.78 2.05 0 2.83L4 21.41c.39.39.9.59 1.41.59.51 0 1.02-.2 1.41-.59l7.78-7.78 2.81-2.81c.8-.78.8-2.07 0-2.86zM5.41 20L4 18.59l7.72-7.72 1.47 1.35L5.41 20z\"/>\n",
              "  </svg>\n",
              "      </button>\n",
              "      \n",
              "  <style>\n",
              "    .colab-df-container {\n",
              "      display:flex;\n",
              "      flex-wrap:wrap;\n",
              "      gap: 12px;\n",
              "    }\n",
              "\n",
              "    .colab-df-convert {\n",
              "      background-color: #E8F0FE;\n",
              "      border: none;\n",
              "      border-radius: 50%;\n",
              "      cursor: pointer;\n",
              "      display: none;\n",
              "      fill: #1967D2;\n",
              "      height: 32px;\n",
              "      padding: 0 0 0 0;\n",
              "      width: 32px;\n",
              "    }\n",
              "\n",
              "    .colab-df-convert:hover {\n",
              "      background-color: #E2EBFA;\n",
              "      box-shadow: 0px 1px 2px rgba(60, 64, 67, 0.3), 0px 1px 3px 1px rgba(60, 64, 67, 0.15);\n",
              "      fill: #174EA6;\n",
              "    }\n",
              "\n",
              "    [theme=dark] .colab-df-convert {\n",
              "      background-color: #3B4455;\n",
              "      fill: #D2E3FC;\n",
              "    }\n",
              "\n",
              "    [theme=dark] .colab-df-convert:hover {\n",
              "      background-color: #434B5C;\n",
              "      box-shadow: 0px 1px 3px 1px rgba(0, 0, 0, 0.15);\n",
              "      filter: drop-shadow(0px 1px 2px rgba(0, 0, 0, 0.3));\n",
              "      fill: #FFFFFF;\n",
              "    }\n",
              "  </style>\n",
              "\n",
              "      <script>\n",
              "        const buttonEl =\n",
              "          document.querySelector('#df-d0925ebf-2249-4280-8e3b-c1d7c28e1ace button.colab-df-convert');\n",
              "        buttonEl.style.display =\n",
              "          google.colab.kernel.accessAllowed ? 'block' : 'none';\n",
              "\n",
              "        async function convertToInteractive(key) {\n",
              "          const element = document.querySelector('#df-d0925ebf-2249-4280-8e3b-c1d7c28e1ace');\n",
              "          const dataTable =\n",
              "            await google.colab.kernel.invokeFunction('convertToInteractive',\n",
              "                                                     [key], {});\n",
              "          if (!dataTable) return;\n",
              "\n",
              "          const docLinkHtml = 'Like what you see? Visit the ' +\n",
              "            '<a target=\"_blank\" href=https://colab.research.google.com/notebooks/data_table.ipynb>data table notebook</a>'\n",
              "            + ' to learn more about interactive tables.';\n",
              "          element.innerHTML = '';\n",
              "          dataTable['output_type'] = 'display_data';\n",
              "          await google.colab.output.renderOutput(dataTable, element);\n",
              "          const docLink = document.createElement('div');\n",
              "          docLink.innerHTML = docLinkHtml;\n",
              "          element.appendChild(docLink);\n",
              "        }\n",
              "      </script>\n",
              "    </div>\n",
              "  </div>\n",
              "  "
            ]
          },
          "metadata": {}
        }
      ],
      "source": [
        "# Tokenize each text column\n",
        "token_df = new_df.copy()\n",
        "for column in new_df.columns:\n",
        "    token_df[column] = new_df[column].apply(lambda s: word_tokenize(s) if type(s) == str else s)\n",
        "display(token_df.head(5))"
      ]
    },
    {
      "cell_type": "markdown",
      "source": [
        "### tokenizer "
      ],
      "metadata": {
        "id": "AILw9JOa5438"
      }
    },
    {
      "cell_type": "code",
      "execution_count": 88,
      "metadata": {
        "id": "1I2njQ_SoAMj"
      },
      "outputs": [],
      "source": [
        "from keras.preprocessing.text import Tokenizer\n",
        "from keras.utils import pad_sequences\n",
        "from keras.models import Sequential\n",
        "from keras.layers import Dense, Embedding, LSTM, Conv1D, MaxPool1D\n",
        "from sklearn.model_selection import train_test_split\n",
        "from sklearn.metrics import classification_report, accuracy_score"
      ]
    },
    {
      "cell_type": "code",
      "execution_count": 89,
      "metadata": {
        "id": "KJpGeXjnn3Cb"
      },
      "outputs": [],
      "source": [
        "tokenizer = Tokenizer()\n",
        "tokenizer.fit_on_texts(token_df['description'])\n",
        "\n",
        "X = tokenizer.texts_to_sequences(token_df['description'])"
      ]
    },
    {
      "cell_type": "code",
      "execution_count": 90,
      "metadata": {
        "colab": {
          "base_uri": "https://localhost:8080/"
        },
        "id": "ujcQnLiTou0k",
        "outputId": "d38daff0-ab6c-4f8d-9324-886bb47d64b9"
      },
      "outputs": [
        {
          "output_type": "execute_result",
          "data": {
            "text/plain": [
              "[3025, 5, 149, 96, 5426, 7320, 808, 759, 173, 547]"
            ]
          },
          "metadata": {},
          "execution_count": 90
        }
      ],
      "source": [
        "X[0][:10]"
      ]
    },
    {
      "cell_type": "code",
      "execution_count": 91,
      "metadata": {
        "colab": {
          "base_uri": "https://localhost:8080/"
        },
        "id": "eMtBEjyCo0UR",
        "outputId": "626cb0b8-8528-4e12-ce33-62a4ff2e5b73"
      },
      "outputs": [
        {
          "output_type": "stream",
          "name": "stdout",
          "text": [
            "and -> 1\n",
            "the -> 2\n",
            "to -> 3\n",
            "of -> 4\n",
            "a -> 5\n",
            "in -> 6\n",
            "for -> 7\n",
            "with -> 8\n",
            "you -> 9\n",
            "our -> 10\n"
          ]
        }
      ],
      "source": [
        "word_index = tokenizer.word_index\n",
        "for word, num in word_index.items():\n",
        "    print(f\"{word} -> {num}\")\n",
        "    if num == 10:\n",
        "        break    "
      ]
    },
    {
      "cell_type": "code",
      "execution_count": 92,
      "metadata": {
        "colab": {
          "base_uri": "https://localhost:8080/",
          "height": 0
        },
        "id": "6DH_pb9Co2H7",
        "outputId": "18c7df64-0e27-4158-ab8c-931c568e2821"
      },
      "outputs": [
        {
          "output_type": "display_data",
          "data": {
            "text/plain": [
              "<Figure size 432x288 with 1 Axes>"
            ],
            "image/png": "[encoded data removed]"
          },
          "metadata": {
            "needs_background": "light"
          }
        }
      ],
      "source": [
        "import matplotlib.pyplot as plt\n",
        "plt.hist([len(x) for x in X], bins=500)\n",
        "plt.show()"
      ]
    },
    {
      "cell_type": "code",
      "execution_count": 93,
      "metadata": {
        "colab": {
          "base_uri": "https://localhost:8080/"
        },
        "id": "poDO1hGlo5pA",
        "outputId": "359d47d9-6d1f-46af-bd51-71c213007fd9"
      },
      "outputs": [
        {
          "output_type": "execute_result",
          "data": {
            "text/plain": [
              "17772"
            ]
          },
          "metadata": {},
          "execution_count": 93
        }
      ],
      "source": [
        "import numpy as np\n",
        "nos = np.array([len(x) for x in X])\n",
        "len(nos[nos  < 700])\n"
      ]
    },
    {
      "cell_type": "code",
      "execution_count": 94,
      "metadata": {
        "id": "U1op4Orbo9Ez"
      },
      "outputs": [],
      "source": [
        "#Lets keep all descriptions to 700, add padding to descriptions with less than 700 words and truncating long ones\n",
        "maxlen = 700 \n",
        "\n",
        "#Making all descriptions of size maxlen defined above\n",
        "X = pad_sequences(X, maxlen=maxlen)"
      ]
    },
    {
      "cell_type": "code",
      "execution_count": 95,
      "metadata": {
        "colab": {
          "base_uri": "https://localhost:8080/"
        },
        "id": "2lrU_nBMpBJY",
        "outputId": "781ad4bb-a4ff-401a-f456-867c6f5b7d5a"
      },
      "outputs": [
        {
          "output_type": "execute_result",
          "data": {
            "text/plain": [
              "700"
            ]
          },
          "metadata": {},
          "execution_count": 95
        }
      ],
      "source": [
        "#all descriptions has 700 words (in numerical form now). If they had less words, they have been padded with 0\n",
        "# 0 is not associated to any word, as mapping of words started from 1\n",
        "# 0 will also be used later, if unknows word is encountered in test set\n",
        "len(X[0])"
      ]
    },
    {
      "cell_type": "code",
      "execution_count": 96,
      "metadata": {
        "id": "anrg5N5tpHfj"
      },
      "outputs": [],
      "source": [
        "# Adding 1 because of reserved 0 index\n",
        "# Embedding Layer creates one more vector for \"UNKNOWN\" words, or padded words (0s). This Vector is filled with zeros.\n",
        "# Thus our vocab size inceeases by 1\n",
        "vocab_size = len(tokenizer.word_index) + 1"
      ]
    },
    {
      "cell_type": "markdown",
      "source": [
        "## Model Training"
      ],
      "metadata": {
        "id": "ClgnzAl25lfR"
      }
    },
    {
      "cell_type": "markdown",
      "source": [
        "### model with no embedding layer"
      ],
      "metadata": {
        "id": "MHW90M8qA5s8"
      }
    },
    {
      "cell_type": "code",
      "source": [
        "y = df['fraudulent']"
      ],
      "metadata": {
        "id": "zVJwgGMD-_Vt"
      },
      "execution_count": 97,
      "outputs": []
    },
    {
      "cell_type": "code",
      "source": [
        "X_train, X_test, y_train, y_test = train_test_split(X, y)"
      ],
      "metadata": {
        "id": "qVJFp664_BQg"
      },
      "execution_count": 98,
      "outputs": []
    },
    {
      "cell_type": "code",
      "source": [
        "#Defining Neural Network\n",
        "model = Sequential()\n",
        "#Non-trainable embeddidng layer\n",
        "#LSTM \n",
        "model.add(LSTM(units=128,input_shape=(700, 1)))\n",
        "model.add(Dense(1, activation='sigmoid'))\n",
        "model.compile(optimizer='adam', loss='binary_crossentropy', metrics=['acc'])\n"
      ],
      "metadata": {
        "id": "Uf4B9u6b-iIj"
      },
      "execution_count": 99,
      "outputs": []
    },
    {
      "cell_type": "code",
      "source": [
        "model.summary()"
      ],
      "metadata": {
        "id": "EFOBTX2t-xzK",
        "outputId": "e4a94549-aeef-46cd-9a6d-07db90e52a75",
        "colab": {
          "base_uri": "https://localhost:8080/"
        }
      },
      "execution_count": 100,
      "outputs": [
        {
          "output_type": "stream",
          "name": "stdout",
          "text": [
            "Model: \"sequential_4\"\n",
            "_________________________________________________________________\n",
            " Layer (type)                Output Shape              Param #   \n",
            "=================================================================\n",
            " lstm_3 (LSTM)               (None, 128)               66560     \n",
            "                                                                 \n",
            " dense_3 (Dense)             (None, 1)                 129       \n",
            "                                                                 \n",
            "=================================================================\n",
            "Total params: 66,689\n",
            "Trainable params: 66,689\n",
            "Non-trainable params: 0\n",
            "_________________________________________________________________\n"
          ]
        }
      ]
    },
    {
      "cell_type": "code",
      "source": [
        "model.fit(X_train, y_train, validation_split=0.3, epochs=6)"
      ],
      "metadata": {
        "id": "r_xfsYuc-zr9",
        "outputId": "cbb85665-1358-47cd-a276-c6ad2fa04e63",
        "colab": {
          "base_uri": "https://localhost:8080/"
        }
      },
      "execution_count": 101,
      "outputs": [
        {
          "output_type": "stream",
          "name": "stdout",
          "text": [
            "Epoch 1/6\n",
            "294/294 [==============================] - 14s 41ms/step - loss: 0.2072 - acc: 0.9467 - val_loss: 0.2000 - val_acc: 0.9495\n",
            "Epoch 2/6\n",
            "294/294 [==============================] - 12s 39ms/step - loss: 0.1944 - acc: 0.9509 - val_loss: 0.2006 - val_acc: 0.9495\n",
            "Epoch 3/6\n",
            "294/294 [==============================] - 12s 39ms/step - loss: 0.1924 - acc: 0.9515 - val_loss: 0.1977 - val_acc: 0.9498\n",
            "Epoch 4/6\n",
            "294/294 [==============================] - 11s 39ms/step - loss: 0.1925 - acc: 0.9514 - val_loss: 0.1965 - val_acc: 0.9498\n",
            "Epoch 5/6\n",
            "294/294 [==============================] - 11s 39ms/step - loss: 0.1900 - acc: 0.9522 - val_loss: 0.1967 - val_acc: 0.9505\n",
            "Epoch 6/6\n",
            "294/294 [==============================] - 12s 39ms/step - loss: 0.1877 - acc: 0.9527 - val_loss: 0.1977 - val_acc: 0.9495\n"
          ]
        },
        {
          "output_type": "execute_result",
          "data": {
            "text/plain": [
              "<keras.callbacks.History at 0x7fea9bb63f40>"
            ]
          },
          "metadata": {},
          "execution_count": 101
        }
      ]
    },
    {
      "cell_type": "code",
      "source": [
        "y_pred = (model.predict(X_test) >= 0.5).astype(\"int\")"
      ],
      "metadata": {
        "id": "Zc6XbQwb-12I",
        "outputId": "33144283-944f-4c20-a7c5-68b45aad11b9",
        "colab": {
          "base_uri": "https://localhost:8080/"
        }
      },
      "execution_count": 102,
      "outputs": [
        {
          "output_type": "stream",
          "name": "stdout",
          "text": [
            "140/140 [==============================] - 2s 15ms/step\n"
          ]
        }
      ]
    },
    {
      "cell_type": "code",
      "source": [
        "print(classification_report(y_test, y_pred))"
      ],
      "metadata": {
        "id": "qwBysA1I-5hS",
        "outputId": "b04d3bb0-4b96-4f4d-da51-0651b3a5a776",
        "colab": {
          "base_uri": "https://localhost:8080/"
        }
      },
      "execution_count": 103,
      "outputs": [
        {
          "output_type": "stream",
          "name": "stdout",
          "text": [
            "              precision    recall  f1-score   support\n",
            "\n",
            "           0       0.96      1.00      0.98      4271\n",
            "           1       0.00      0.00      0.00       199\n",
            "\n",
            "    accuracy                           0.96      4470\n",
            "   macro avg       0.48      0.50      0.49      4470\n",
            "weighted avg       0.91      0.96      0.93      4470\n",
            "\n"
          ]
        },
        {
          "output_type": "stream",
          "name": "stderr",
          "text": [
            "/usr/local/lib/python3.8/dist-packages/sklearn/metrics/_classification.py:1318: UndefinedMetricWarning: Precision and F-score are ill-defined and being set to 0.0 in labels with no predicted samples. Use `zero_division` parameter to control this behavior.\n",
            "  _warn_prf(average, modifier, msg_start, len(result))\n",
            "/usr/local/lib/python3.8/dist-packages/sklearn/metrics/_classification.py:1318: UndefinedMetricWarning: Precision and F-score are ill-defined and being set to 0.0 in labels with no predicted samples. Use `zero_division` parameter to control this behavior.\n",
            "  _warn_prf(average, modifier, msg_start, len(result))\n",
            "/usr/local/lib/python3.8/dist-packages/sklearn/metrics/_classification.py:1318: UndefinedMetricWarning: Precision and F-score are ill-defined and being set to 0.0 in labels with no predicted samples. Use `zero_division` parameter to control this behavior.\n",
            "  _warn_prf(average, modifier, msg_start, len(result))\n"
          ]
        }
      ]
    },
    {
      "cell_type": "markdown",
      "source": [
        "### model with word2Vec embedding layer"
      ],
      "metadata": {
        "id": "dbxj69bwBD5X"
      }
    },
    {
      "cell_type": "markdown",
      "source": [
        "#### word2vec"
      ],
      "metadata": {
        "id": "xyl5l88R6LFb"
      }
    },
    {
      "cell_type": "code",
      "execution_count": 104,
      "metadata": {
        "id": "2Miwj-OX6LFc"
      },
      "outputs": [],
      "source": [
        "import gensim"
      ]
    },
    {
      "cell_type": "code",
      "execution_count": 105,
      "metadata": {
        "id": "5-YvXYn-6LFd"
      },
      "outputs": [],
      "source": [
        "sentence = token_df['description']"
      ]
    },
    {
      "cell_type": "code",
      "execution_count": 107,
      "metadata": {
        "colab": {
          "base_uri": "https://localhost:8080/"
        },
        "outputId": "11da8729-d125-4930-f089-9fd86e44a219",
        "id": "NT9wCqIa6LFd"
      },
      "outputs": [
        {
          "output_type": "stream",
          "name": "stdout",
          "text": [
            "<class 'pandas.core.series.Series'>\n",
            "(17880,)\n",
            "0        [food52, a, fast, growing, james, beard, award...\n",
            "1        [organised, focused, vibrant, awesome, do, you...\n",
            "2        [our, client, located, in, houston, is, active...\n",
            "3        [the, company, esri, –, environmental, systems...\n",
            "4        [job, title, itemization, review, managerlocat...\n",
            "                               ...                        \n",
            "17875    [just, in, case, this, is, the, first, time, y...\n",
            "17876    [the, payroll, accountant, will, focus, primar...\n",
            "17877    [experienced, project, cost, control, staff, e...\n",
            "17878    [nemsia, studios, is, looking, for, an, experi...\n",
            "17879    [who, are, we, vend, is, an, award, winning, w...\n",
            "Name: description, Length: 17880, dtype: object\n"
          ]
        }
      ],
      "source": [
        "print(type(sentence))\n",
        "print(sentence.shape)\n",
        "print(sentence)"
      ]
    },
    {
      "cell_type": "code",
      "execution_count": 109,
      "metadata": {
        "colab": {
          "base_uri": "https://localhost:8080/"
        },
        "outputId": "0c7c3d69-b97f-40a4-afe7-52725add17c6",
        "id": "YoFarlOR6LFe"
      },
      "outputs": [
        {
          "output_type": "execute_result",
          "data": {
            "text/plain": [
              "['organised', 'focused', 'vibrant', 'awesome', 'do']"
            ]
          },
          "metadata": {},
          "execution_count": 109
        }
      ],
      "source": [
        "sentence[1][:5]"
      ]
    },
    {
      "cell_type": "code",
      "execution_count": 111,
      "metadata": {
        "colab": {
          "base_uri": "https://localhost:8080/"
        },
        "outputId": "fea6c11b-6fef-482d-cb97-ba5b54b9f62d",
        "id": "zWZ-zxly6LFf"
      },
      "outputs": [
        {
          "output_type": "execute_result",
          "data": {
            "text/plain": [
              "True"
            ]
          },
          "metadata": {},
          "execution_count": 111
        }
      ],
      "source": [
        "'reproducing' in sentence[0]"
      ]
    },
    {
      "cell_type": "code",
      "execution_count": 112,
      "metadata": {
        "id": "Bcel78Bt6LFf"
      },
      "outputs": [],
      "source": [
        "# initialize a model\n",
        "w2v_model = gensim.models.Word2Vec(sentence, size=100, min_count=1)"
      ]
    },
    {
      "cell_type": "code",
      "execution_count": 113,
      "metadata": {
        "colab": {
          "base_uri": "https://localhost:8080/"
        },
        "outputId": "be5ecd90-d9db-4fc5-e36c-9dfb5fd7d81e",
        "id": "2Vfv3pUa6LFg"
      },
      "outputs": [
        {
          "output_type": "stream",
          "name": "stdout",
          "text": [
            "[-1.14829153e-01 -5.20103378e-03  2.37272270e-02  4.23290282e-02\n",
            " -9.48205311e-03 -4.29979712e-02 -5.19642942e-02  3.19612734e-02\n",
            " -1.32694287e-04  1.10062115e-01  4.23917286e-02  1.47247892e-02\n",
            "  7.07166642e-03 -2.75252778e-02 -4.67815660e-02 -5.50336903e-04\n",
            "  8.58786032e-02  5.65480292e-02  6.05159402e-02  2.30192896e-02\n",
            " -3.00982222e-02 -8.20752308e-02 -3.75642776e-02 -5.92411682e-02\n",
            " -3.62916552e-02 -2.05821060e-02  7.17645884e-02  2.34439205e-02\n",
            " -2.16546692e-02 -7.60288984e-02 -5.33412322e-02 -7.92706236e-02\n",
            "  4.96880477e-03 -2.38079708e-02  6.28127679e-02 -2.74860840e-02\n",
            "  1.56346411e-02 -1.03364130e-02  2.86977133e-03  3.57531123e-02\n",
            "  1.79851465e-02  1.77796245e-01  5.77252395e-02  8.33817720e-02\n",
            " -3.77433933e-03  8.43827724e-02  4.74192910e-02  6.84420094e-02\n",
            " -1.16557106e-02  4.58113849e-02  6.98133856e-02  2.56964788e-02\n",
            " -5.33522889e-02 -7.49284960e-03 -7.72549445e-03  3.87898646e-02\n",
            "  4.72822674e-02  1.12271443e-01  1.08202109e-02  5.00732800e-03\n",
            "  4.80216332e-02  4.60047275e-02  7.67027512e-02 -7.58443028e-04\n",
            " -2.33210158e-02  2.63043866e-03 -8.09772164e-02 -5.34391180e-02\n",
            "  3.97337563e-02 -3.19404528e-02 -6.61749765e-02  1.76295917e-02\n",
            " -2.50334628e-02  8.02513957e-02  3.48670920e-03  4.98795472e-02\n",
            " -8.52353722e-02 -7.62843713e-02 -9.46615916e-03 -8.51619840e-02\n",
            "  8.08761567e-02  1.21193938e-02  5.56846373e-02 -8.09671581e-02\n",
            "  6.64431276e-03 -2.21183021e-02 -7.90290907e-02  3.72601785e-02\n",
            " -2.34368220e-02  5.46115264e-02 -4.64200079e-02  1.04942098e-02\n",
            "  4.49411990e-03 -1.58171672e-02  4.91023250e-02 -3.54227535e-02\n",
            " -5.18961363e-02  7.99273774e-02  8.90569314e-02  5.25773354e-02]\n"
          ]
        }
      ],
      "source": [
        "print(w2v_model.wv[\"reproducing\"])"
      ]
    },
    {
      "cell_type": "code",
      "execution_count": 114,
      "metadata": {
        "id": "BiUEDogJ6LFh"
      },
      "outputs": [],
      "source": [
        "def most_similar(w2v_model, words, topn=10):\n",
        "    similar_df = pd.DataFrame()\n",
        "    for word in words:\n",
        "        try:\n",
        "            similar_words = pd.DataFrame(w2v_model.wv.most_similar(word, topn=topn), columns=[word, 'cos'])\n",
        "            similar_df = pd.concat([similar_df, similar_words], axis=1)\n",
        "        except:\n",
        "            print(word, \"not found in Word2Vec model!\")\n",
        "    return similar_df"
      ]
    },
    {
      "cell_type": "code",
      "execution_count": 115,
      "metadata": {
        "colab": {
          "base_uri": "https://localhost:8080/",
          "height": 363
        },
        "outputId": "519f3fe4-70a8-4565-8d5a-aada1749631a",
        "id": "Ay6-6o5z6LFh"
      },
      "outputs": [
        {
          "output_type": "execute_result",
          "data": {
            "text/plain": [
              "            our       cos                      title       cos  \\\n",
              "0           its  0.690228     assistantdescriptionan  0.665242   \n",
              "1           the  0.531591  descriptionadministrative  0.628896   \n",
              "2         their  0.511665                         jr  0.624067   \n",
              "3  stabilityown  0.425774        assistantexperience  0.622120   \n",
              "4       helping  0.417128                    summary  0.603391   \n",
              "5        global  0.413919                  paralegal  0.596544   \n",
              "6       success  0.392378           administratorjob  0.584716   \n",
              "7  conversocial  0.391165                       appx  0.572613   \n",
              "8         wider  0.378970                 summarythe  0.570385   \n",
              "9          help  0.371666            loansassistance  0.569357   \n",
              "\n",
              "              client       cos       company       cos  \n",
              "0           customer  0.661953  organization  0.633546  \n",
              "1            clients  0.625667  organisation  0.609217  \n",
              "2   productsmanaging  0.554136          firm  0.540721  \n",
              "3          customers  0.485724    department  0.483133  \n",
              "4  miningparticipate  0.484197        agency  0.483035  \n",
              "5            partner  0.473836      industry  0.471571  \n",
              "6  maintenancemanage  0.473578            uk  0.461457  \n",
              "7          strategic  0.469001       startup  0.446740  \n",
              "8      conversionsto  0.467845   therealreal  0.441154  \n",
              "9       teamconsumer  0.465977     corporate  0.413760  "
            ],
            "text/html": [
              "\n",
              "  <div id=\"df-f8a35451-7ade-40eb-8845-63b12f0fce3e\">\n",
              "    <div class=\"colab-df-container\">\n",
              "      <div>\n",
              "<style scoped>\n",
              "    .dataframe tbody tr th:only-of-type {\n",
              "        vertical-align: middle;\n",
              "    }\n",
              "\n",
              "    .dataframe tbody tr th {\n",
              "        vertical-align: top;\n",
              "    }\n",
              "\n",
              "    .dataframe thead th {\n",
              "        text-align: right;\n",
              "    }\n",
              "</style>\n",
              "<table border=\"1\" class=\"dataframe\">\n",
              "  <thead>\n",
              "    <tr style=\"text-align: right;\">\n",
              "      <th></th>\n",
              "      <th>our</th>\n",
              "      <th>cos</th>\n",
              "      <th>title</th>\n",
              "      <th>cos</th>\n",
              "      <th>client</th>\n",
              "      <th>cos</th>\n",
              "      <th>company</th>\n",
              "      <th>cos</th>\n",
              "    </tr>\n",
              "  </thead>\n",
              "  <tbody>\n",
              "    <tr>\n",
              "      <th>0</th>\n",
              "      <td>its</td>\n",
              "      <td>0.690228</td>\n",
              "      <td>assistantdescriptionan</td>\n",
              "      <td>0.665242</td>\n",
              "      <td>customer</td>\n",
              "      <td>0.661953</td>\n",
              "      <td>organization</td>\n",
              "      <td>0.633546</td>\n",
              "    </tr>\n",
              "    <tr>\n",
              "      <th>1</th>\n",
              "      <td>the</td>\n",
              "      <td>0.531591</td>\n",
              "      <td>descriptionadministrative</td>\n",
              "      <td>0.628896</td>\n",
              "      <td>clients</td>\n",
              "      <td>0.625667</td>\n",
              "      <td>organisation</td>\n",
              "      <td>0.609217</td>\n",
              "    </tr>\n",
              "    <tr>\n",
              "      <th>2</th>\n",
              "      <td>their</td>\n",
              "      <td>0.511665</td>\n",
              "      <td>jr</td>\n",
              "      <td>0.624067</td>\n",
              "      <td>productsmanaging</td>\n",
              "      <td>0.554136</td>\n",
              "      <td>firm</td>\n",
              "      <td>0.540721</td>\n",
              "    </tr>\n",
              "    <tr>\n",
              "      <th>3</th>\n",
              "      <td>stabilityown</td>\n",
              "      <td>0.425774</td>\n",
              "      <td>assistantexperience</td>\n",
              "      <td>0.622120</td>\n",
              "      <td>customers</td>\n",
              "      <td>0.485724</td>\n",
              "      <td>department</td>\n",
              "      <td>0.483133</td>\n",
              "    </tr>\n",
              "    <tr>\n",
              "      <th>4</th>\n",
              "      <td>helping</td>\n",
              "      <td>0.417128</td>\n",
              "      <td>summary</td>\n",
              "      <td>0.603391</td>\n",
              "      <td>miningparticipate</td>\n",
              "      <td>0.484197</td>\n",
              "      <td>agency</td>\n",
              "      <td>0.483035</td>\n",
              "    </tr>\n",
              "    <tr>\n",
              "      <th>5</th>\n",
              "      <td>global</td>\n",
              "      <td>0.413919</td>\n",
              "      <td>paralegal</td>\n",
              "      <td>0.596544</td>\n",
              "      <td>partner</td>\n",
              "      <td>0.473836</td>\n",
              "      <td>industry</td>\n",
              "      <td>0.471571</td>\n",
              "    </tr>\n",
              "    <tr>\n",
              "      <th>6</th>\n",
              "      <td>success</td>\n",
              "      <td>0.392378</td>\n",
              "      <td>administratorjob</td>\n",
              "      <td>0.584716</td>\n",
              "      <td>maintenancemanage</td>\n",
              "      <td>0.473578</td>\n",
              "      <td>uk</td>\n",
              "      <td>0.461457</td>\n",
              "    </tr>\n",
              "    <tr>\n",
              "      <th>7</th>\n",
              "      <td>conversocial</td>\n",
              "      <td>0.391165</td>\n",
              "      <td>appx</td>\n",
              "      <td>0.572613</td>\n",
              "      <td>strategic</td>\n",
              "      <td>0.469001</td>\n",
              "      <td>startup</td>\n",
              "      <td>0.446740</td>\n",
              "    </tr>\n",
              "    <tr>\n",
              "      <th>8</th>\n",
              "      <td>wider</td>\n",
              "      <td>0.378970</td>\n",
              "      <td>summarythe</td>\n",
              "      <td>0.570385</td>\n",
              "      <td>conversionsto</td>\n",
              "      <td>0.467845</td>\n",
              "      <td>therealreal</td>\n",
              "      <td>0.441154</td>\n",
              "    </tr>\n",
              "    <tr>\n",
              "      <th>9</th>\n",
              "      <td>help</td>\n",
              "      <td>0.371666</td>\n",
              "      <td>loansassistance</td>\n",
              "      <td>0.569357</td>\n",
              "      <td>teamconsumer</td>\n",
              "      <td>0.465977</td>\n",
              "      <td>corporate</td>\n",
              "      <td>0.413760</td>\n",
              "    </tr>\n",
              "  </tbody>\n",
              "</table>\n",
              "</div>\n",
              "      <button class=\"colab-df-convert\" onclick=\"convertToInteractive('df-f8a35451-7ade-40eb-8845-63b12f0fce3e')\"\n",
              "              title=\"Convert this dataframe to an interactive table.\"\n",
              "              style=\"display:none;\">\n",
              "        \n",
              "  <svg xmlns=\"http://www.w3.org/2000/svg\" height=\"24px\"viewBox=\"0 0 24 24\"\n",
              "       width=\"24px\">\n",
              "    <path d=\"M0 0h24v24H0V0z\" fill=\"none\"/>\n",
              "    <path d=\"M18.56 5.44l.94 2.06.94-2.06 2.06-.94-2.06-.94-.94-2.06-.94 2.06-2.06.94zm-11 1L8.5 8.5l.94-2.06 2.06-.94-2.06-.94L8.5 2.5l-.94 2.06-2.06.94zm10 10l.94 2.06.94-2.06 2.06-.94-2.06-.94-.94-2.06-.94 2.06-2.06.94z\"/><path d=\"M17.41 7.96l-1.37-1.37c-.4-.4-.92-.59-1.43-.59-.52 0-1.04.2-1.43.59L10.3 9.45l-7.72 7.72c-.78.78-.78 2.05 0 2.83L4 21.41c.39.39.9.59 1.41.59.51 0 1.02-.2 1.41-.59l7.78-7.78 2.81-2.81c.8-.78.8-2.07 0-2.86zM5.41 20L4 18.59l7.72-7.72 1.47 1.35L5.41 20z\"/>\n",
              "  </svg>\n",
              "      </button>\n",
              "      \n",
              "  <style>\n",
              "    .colab-df-container {\n",
              "      display:flex;\n",
              "      flex-wrap:wrap;\n",
              "      gap: 12px;\n",
              "    }\n",
              "\n",
              "    .colab-df-convert {\n",
              "      background-color: #E8F0FE;\n",
              "      border: none;\n",
              "      border-radius: 50%;\n",
              "      cursor: pointer;\n",
              "      display: none;\n",
              "      fill: #1967D2;\n",
              "      height: 32px;\n",
              "      padding: 0 0 0 0;\n",
              "      width: 32px;\n",
              "    }\n",
              "\n",
              "    .colab-df-convert:hover {\n",
              "      background-color: #E2EBFA;\n",
              "      box-shadow: 0px 1px 2px rgba(60, 64, 67, 0.3), 0px 1px 3px 1px rgba(60, 64, 67, 0.15);\n",
              "      fill: #174EA6;\n",
              "    }\n",
              "\n",
              "    [theme=dark] .colab-df-convert {\n",
              "      background-color: #3B4455;\n",
              "      fill: #D2E3FC;\n",
              "    }\n",
              "\n",
              "    [theme=dark] .colab-df-convert:hover {\n",
              "      background-color: #434B5C;\n",
              "      box-shadow: 0px 1px 3px 1px rgba(0, 0, 0, 0.15);\n",
              "      filter: drop-shadow(0px 1px 2px rgba(0, 0, 0, 0.3));\n",
              "      fill: #FFFFFF;\n",
              "    }\n",
              "  </style>\n",
              "\n",
              "      <script>\n",
              "        const buttonEl =\n",
              "          document.querySelector('#df-f8a35451-7ade-40eb-8845-63b12f0fce3e button.colab-df-convert');\n",
              "        buttonEl.style.display =\n",
              "          google.colab.kernel.accessAllowed ? 'block' : 'none';\n",
              "\n",
              "        async function convertToInteractive(key) {\n",
              "          const element = document.querySelector('#df-f8a35451-7ade-40eb-8845-63b12f0fce3e');\n",
              "          const dataTable =\n",
              "            await google.colab.kernel.invokeFunction('convertToInteractive',\n",
              "                                                     [key], {});\n",
              "          if (!dataTable) return;\n",
              "\n",
              "          const docLinkHtml = 'Like what you see? Visit the ' +\n",
              "            '<a target=\"_blank\" href=https://colab.research.google.com/notebooks/data_table.ipynb>data table notebook</a>'\n",
              "            + ' to learn more about interactive tables.';\n",
              "          element.innerHTML = '';\n",
              "          dataTable['output_type'] = 'display_data';\n",
              "          await google.colab.output.renderOutput(dataTable, element);\n",
              "          const docLink = document.createElement('div');\n",
              "          docLink.innerHTML = docLinkHtml;\n",
              "          element.appendChild(docLink);\n",
              "        }\n",
              "      </script>\n",
              "    </div>\n",
              "  </div>\n",
              "  "
            ]
          },
          "metadata": {},
          "execution_count": 115
        }
      ],
      "source": [
        "most_similar(w2v_model,['our','title','client','company'])"
      ]
    },
    {
      "cell_type": "markdown",
      "source": [
        "#### create embedding_vectors"
      ],
      "metadata": {
        "id": "xfQKHgMp77ke"
      }
    },
    {
      "cell_type": "code",
      "execution_count": 116,
      "metadata": {
        "id": "dqMZFWH7yBic"
      },
      "outputs": [],
      "source": [
        "EMBEDDING_DIM = 100"
      ]
    },
    {
      "cell_type": "code",
      "execution_count": 117,
      "metadata": {
        "id": "S6g-8dSwpMdx"
      },
      "outputs": [],
      "source": [
        "# Function to create weight matrix from word2vec gensim model\n",
        "def get_weight_matrix(model, vocab):\n",
        "    # total vocabulary size plus 0 for unknown words\n",
        "    vocab_size = len(vocab) + 1\n",
        "    # define weight matrix dimensions with all 0\n",
        "    weight_matrix = np.zeros((vocab_size, EMBEDDING_DIM))\n",
        "    # step vocab, store vectors using the Tokenizer's integer mapping\n",
        "    for word, i in vocab.items():\n",
        "        weight_matrix[i] = model.wv[word]\n",
        "    return weight_matrix"
      ]
    },
    {
      "cell_type": "code",
      "execution_count": 118,
      "metadata": {
        "colab": {
          "base_uri": "https://localhost:8080/"
        },
        "id": "qKf5oMMgpjxb",
        "outputId": "e0efbd16-08ef-432a-9ad3-cf5ca0e21fe9"
      },
      "outputs": [
        {
          "output_type": "stream",
          "name": "stdout",
          "text": [
            "<class 'dict'>\n",
            "15409\n"
          ]
        }
      ],
      "source": [
        "print(type(word_index))\n",
        "print(word_index[\"reproducing\"])"
      ]
    },
    {
      "cell_type": "code",
      "execution_count": 119,
      "metadata": {
        "id": "vdqUrGHKpOaa"
      },
      "outputs": [],
      "source": [
        "#Getting embedding vectors from word2vec and usings it as weights of non-trainable keras embedding layer\n",
        "embedding_vectors = get_weight_matrix(w2v_model, word_index)"
      ]
    },
    {
      "cell_type": "code",
      "execution_count": 121,
      "metadata": {
        "colab": {
          "base_uri": "https://localhost:8080/"
        },
        "id": "QRPVMZUcooGP",
        "outputId": "9e61b908-96c0-4946-b7d4-58c2ef876c91"
      },
      "outputs": [
        {
          "output_type": "execute_result",
          "data": {
            "text/plain": [
              "array([ 0.28614917, -0.35628885, -0.14744745, -2.2506912 ,  0.7723587 ,\n",
              "        0.5065631 , -0.92912   ,  0.09541595, -0.9829108 ,  1.1561561 ,\n",
              "       -0.2572716 ,  0.23561671,  0.7600232 , -0.5269422 ,  1.3555131 ,\n",
              "       -1.1771916 , -0.8986348 , -0.8345574 , -0.5672802 , -0.74208045,\n",
              "        0.7984117 ,  0.8494129 , -0.28853562,  0.08504646, -0.7123402 ,\n",
              "        2.255768  , -0.09968749, -0.08633236, -0.92461705,  0.1166191 ,\n",
              "        0.4424386 , -0.62364924,  0.65361387, -0.4658756 ,  1.1651576 ,\n",
              "        0.7543261 , -1.709417  ,  0.14704652,  0.9933402 , -0.09734633,\n",
              "        0.5960534 , -0.2749811 , -0.17928767,  2.3585052 , -0.5371359 ,\n",
              "       -0.54042697, -1.0582768 ,  1.1954483 ,  0.9867653 , -0.58861494,\n",
              "        0.22483309, -0.46352246, -1.5752484 ,  0.9194979 , -1.1292897 ,\n",
              "       -0.45311564,  1.0527638 ,  0.5250227 , -0.00930938,  1.3541802 ,\n",
              "        0.21719475,  0.47668853,  0.27756622, -0.28049564, -0.7493445 ,\n",
              "       -0.8123719 , -1.2124025 , -0.67173785, -0.04645823, -0.21179734,\n",
              "        1.1316087 ,  0.1066151 , -0.39933687, -0.3249915 , -0.24446543,\n",
              "       -0.01377943,  0.24778502,  0.5321701 , -1.109028  ,  0.6318931 ,\n",
              "        1.4532974 , -1.0470387 , -0.9215077 , -1.245057  , -1.2478007 ,\n",
              "        0.19832395, -0.37141207, -2.0878103 , -0.16534907,  1.2017908 ,\n",
              "        0.34040934, -0.86932105,  0.80360603, -1.1331475 , -1.1376132 ,\n",
              "        1.4997733 , -1.9359633 , -0.7973112 ,  0.35067695,  0.07279989],\n",
              "      dtype=float32)"
            ]
          },
          "metadata": {},
          "execution_count": 121
        }
      ],
      "source": [
        "w2v_model.wv['and']"
      ]
    },
    {
      "cell_type": "code",
      "execution_count": 122,
      "metadata": {
        "colab": {
          "base_uri": "https://localhost:8080/"
        },
        "id": "XVEbzMhZnaey",
        "outputId": "c9d2f51c-af3b-46a4-930f-262754c34f13"
      },
      "outputs": [
        {
          "output_type": "execute_result",
          "data": {
            "text/plain": [
              "array([ 0.28614917, -0.35628885, -0.14744745, -2.25069118,  0.77235872,\n",
              "        0.50656313, -0.92912   ,  0.09541595, -0.98291081,  1.15615606,\n",
              "       -0.25727159,  0.23561671,  0.76002318, -0.52694219,  1.3555131 ,\n",
              "       -1.17719162, -0.89863479, -0.83455741, -0.56728017, -0.74208045,\n",
              "        0.79841173,  0.84941292, -0.28853562,  0.08504646, -0.71234018,\n",
              "        2.25576806, -0.09968749, -0.08633236, -0.92461705,  0.1166191 ,\n",
              "        0.4424386 , -0.62364924,  0.65361387, -0.4658756 ,  1.16515756,\n",
              "        0.75432611, -1.70941699,  0.14704652,  0.99334019, -0.09734633,\n",
              "        0.59605342, -0.27498111, -0.17928767,  2.35850525, -0.5371359 ,\n",
              "       -0.54042697, -1.05827677,  1.19544828,  0.98676533, -0.58861494,\n",
              "        0.22483309, -0.46352246, -1.57524836,  0.91949791, -1.12928975,\n",
              "       -0.45311564,  1.05276382,  0.52502269, -0.00930938,  1.35418022,\n",
              "        0.21719475,  0.47668853,  0.27756622, -0.28049564, -0.74934453,\n",
              "       -0.81237191, -1.21240246, -0.67173785, -0.04645823, -0.21179734,\n",
              "        1.13160872,  0.1066151 , -0.39933687, -0.32499149, -0.24446543,\n",
              "       -0.01377943,  0.24778502,  0.53217012, -1.10902798,  0.6318931 ,\n",
              "        1.45329738, -1.04703867, -0.92150772, -1.24505699, -1.24780071,\n",
              "        0.19832395, -0.37141207, -2.08781028, -0.16534907,  1.20179081,\n",
              "        0.34040934, -0.86932105,  0.80360603, -1.13314748, -1.13761318,\n",
              "        1.49977326, -1.93596327, -0.79731119,  0.35067695,  0.07279989])"
            ]
          },
          "metadata": {},
          "execution_count": 122
        }
      ],
      "source": [
        "embedding_vectors[1][:100]"
      ]
    },
    {
      "cell_type": "code",
      "source": [
        "embedding_vectors[1].size"
      ],
      "metadata": {
        "colab": {
          "base_uri": "https://localhost:8080/"
        },
        "id": "h7uUZzyH2CQT",
        "outputId": "7a390e99-96a3-41fd-8197-db77e41b125a"
      },
      "execution_count": 123,
      "outputs": [
        {
          "output_type": "execute_result",
          "data": {
            "text/plain": [
              "100"
            ]
          },
          "metadata": {},
          "execution_count": 123
        }
      ]
    },
    {
      "cell_type": "markdown",
      "source": [
        "#### add embedding into model"
      ],
      "metadata": {
        "id": "g8Rnmk4b8Uj-"
      }
    },
    {
      "cell_type": "code",
      "execution_count": 124,
      "metadata": {
        "id": "ybHc2FaQx72k"
      },
      "outputs": [],
      "source": [
        "#Defining Neural Network\n",
        "model = Sequential()\n",
        "#Non-trainable embeddidng layer\n",
        "model.add(Embedding(vocab_size, output_dim=EMBEDDING_DIM, weights=[embedding_vectors], input_length=maxlen, trainable=False))\n",
        "#LSTM \n",
        "model.add(LSTM(units=128))\n",
        "model.add(Dense(1, activation='sigmoid'))\n",
        "model.compile(optimizer='adam', loss='binary_crossentropy', metrics=['acc'])\n"
      ]
    },
    {
      "cell_type": "code",
      "execution_count": 125,
      "metadata": {
        "colab": {
          "base_uri": "https://localhost:8080/"
        },
        "id": "XQjZIk2iyFJA",
        "outputId": "ab6ef8b7-a664-4408-9f51-11992a4d87b8"
      },
      "outputs": [
        {
          "output_type": "stream",
          "name": "stdout",
          "text": [
            "Model: \"sequential_5\"\n",
            "_________________________________________________________________\n",
            " Layer (type)                Output Shape              Param #   \n",
            "=================================================================\n",
            " embedding_1 (Embedding)     (None, 700, 100)          6429900   \n",
            "                                                                 \n",
            " lstm_4 (LSTM)               (None, 128)               117248    \n",
            "                                                                 \n",
            " dense_4 (Dense)             (None, 1)                 129       \n",
            "                                                                 \n",
            "=================================================================\n",
            "Total params: 6,547,277\n",
            "Trainable params: 117,377\n",
            "Non-trainable params: 6,429,900\n",
            "_________________________________________________________________\n"
          ]
        }
      ],
      "source": [
        "model.summary()"
      ]
    },
    {
      "cell_type": "code",
      "execution_count": 126,
      "metadata": {
        "colab": {
          "base_uri": "https://localhost:8080/"
        },
        "id": "uBAjmlXByXMF",
        "outputId": "cf2f3ff7-968b-44e3-94c2-903dee174d64"
      },
      "outputs": [
        {
          "output_type": "stream",
          "name": "stdout",
          "text": [
            "Epoch 1/6\n",
            "294/294 [==============================] - 15s 44ms/step - loss: 0.1863 - acc: 0.9507 - val_loss: 0.1505 - val_acc: 0.9565\n",
            "Epoch 2/6\n",
            "294/294 [==============================] - 12s 42ms/step - loss: 0.1383 - acc: 0.9607 - val_loss: 0.1418 - val_acc: 0.9612\n",
            "Epoch 3/6\n",
            "294/294 [==============================] - 13s 43ms/step - loss: 0.1054 - acc: 0.9664 - val_loss: 0.1247 - val_acc: 0.9657\n",
            "Epoch 4/6\n",
            "294/294 [==============================] - 14s 46ms/step - loss: 0.1439 - acc: 0.9590 - val_loss: 0.1296 - val_acc: 0.9659\n",
            "Epoch 5/6\n",
            "294/294 [==============================] - 12s 42ms/step - loss: 0.0827 - acc: 0.9718 - val_loss: 0.1262 - val_acc: 0.9682\n",
            "Epoch 6/6\n",
            "294/294 [==============================] - 13s 43ms/step - loss: 0.0522 - acc: 0.9832 - val_loss: 0.1316 - val_acc: 0.9664\n"
          ]
        },
        {
          "output_type": "execute_result",
          "data": {
            "text/plain": [
              "<keras.callbacks.History at 0x7febe0f1faf0>"
            ]
          },
          "metadata": {},
          "execution_count": 126
        }
      ],
      "source": [
        "model.fit(X_train, y_train, validation_split=0.3, epochs=6)"
      ]
    },
    {
      "cell_type": "code",
      "execution_count": 127,
      "metadata": {
        "colab": {
          "base_uri": "https://localhost:8080/"
        },
        "id": "wENCZWEXysix",
        "outputId": "2699efe2-06de-4aa7-f86b-c8742b458504"
      },
      "outputs": [
        {
          "output_type": "stream",
          "name": "stdout",
          "text": [
            "140/140 [==============================] - 3s 15ms/step\n"
          ]
        }
      ],
      "source": [
        "y_pred = (model.predict(X_test) >= 0.5).astype(\"int\")"
      ]
    },
    {
      "cell_type": "code",
      "execution_count": 128,
      "metadata": {
        "colab": {
          "base_uri": "https://localhost:8080/"
        },
        "id": "nFZW7M7kyuUM",
        "outputId": "78f5ee58-f46b-4257-b7f5-910367cd98ab"
      },
      "outputs": [
        {
          "output_type": "stream",
          "name": "stdout",
          "text": [
            "              precision    recall  f1-score   support\n",
            "\n",
            "           0       0.98      0.99      0.99      4271\n",
            "           1       0.83      0.57      0.67       199\n",
            "\n",
            "    accuracy                           0.98      4470\n",
            "   macro avg       0.91      0.78      0.83      4470\n",
            "weighted avg       0.97      0.98      0.97      4470\n",
            "\n"
          ]
        }
      ],
      "source": [
        "print(classification_report(y_test, y_pred))"
      ]
    }
  ],
  "metadata": {
    "accelerator": "GPU",
    "colab": {
      "provenance": [],
      "include_colab_link": true
    },
    "gpuClass": "standard",
    "kernelspec": {
      "display_name": "Python 3.9.1 64-bit",
      "language": "python",
      "name": "python3"
    },
    "language_info": {
      "codemirror_mode": {
        "name": "ipython",
        "version": 3
      },
      "file_extension": ".py",
      "mimetype": "text/x-python",
      "name": "python",
      "nbconvert_exporter": "python",
      "pygments_lexer": "ipython3",
      "version": "3.9.1"
    },
    "vscode": {
      "interpreter": {
        "hash": "ad459153494ef8bf9bfb381956f48d86a83e0450934ceb6b8440ac5a2424102d"
      }
    }
  },
  "nbformat": 4,
  "nbformat_minor": 0
}