{
  "cells": [
    {
      "cell_type": "markdown",
      "metadata": {
        "id": "view-in-github",
        "colab_type": "text"
      },
      "source": [
        "<a href=\"https://colab.research.google.com/github/bhusserl-davis/ECS171-Group1-Project/blob/main/project_word2Vec_oversample.ipynb\" target=\"_parent\"><img src=\"https://colab.research.google.com/assets/colab-badge.svg\" alt=\"Open In Colab\"/></a>"
      ]
    },
    {
      "cell_type": "markdown",
      "metadata": {
        "id": "gntRQBTvsH61"
      },
      "source": [
        "## Imports"
      ]
    },
    {
      "cell_type": "code",
      "execution_count": 1,
      "metadata": {
        "id": "mkDI0UoFsH6_",
        "outputId": "2834ff4d-6b52-4950-ae37-c7a02524257b",
        "colab": {
          "base_uri": "https://localhost:8080/"
        }
      },
      "outputs": [
        {
          "output_type": "stream",
          "name": "stdout",
          "text": [
            "  Building wheel for sklearn (setup.py) ... \u001b[?25l\u001b[?25hdone\n",
            "\u001b[K     |████████████████████████████████| 371 kB 11.1 MB/s \n",
            "\u001b[K     |████████████████████████████████| 24.2 MB 1.3 MB/s \n",
            "\u001b[?25h"
          ]
        }
      ],
      "source": [
        "# Download Needed Packages\n",
        "import sys\n",
        "!{sys.executable} -m pip install -q pandas\n",
        "!{sys.executable} -m pip install -q nltk\n",
        "!{sys.executable} -m pip install -q sklearn\n",
        "!{sys.executable} -m pip install -q wordcloud==1.8.1\n",
        "!{sys.executable} -m pip install -q gensim==3.8.3\n",
        "!{sys.executable} -m pip install -q keras\n",
        "!{sys.executable} -m pip install -q numpy\n",
        "!{sys.executable} -m pip install -q matplotlib"
      ]
    },
    {
      "cell_type": "code",
      "execution_count": 2,
      "metadata": {
        "id": "XUBwYzkusH7D"
      },
      "outputs": [],
      "source": [
        "# Import needed libraries and download needed data\n",
        "import string\n",
        "import pandas as pd\n",
        "import nltk\n",
        "nltk.download('stopwords', quiet=True)\n",
        "from nltk.corpus import stopwords\n",
        "nltk.download('punkt', quiet=True)\n",
        "from nltk.tokenize import word_tokenize\n",
        "from sklearn.metrics import classification_report\n",
        "from sklearn.model_selection import train_test_split\n",
        "from wordcloud import WordCloud"
      ]
    },
    {
      "cell_type": "markdown",
      "metadata": {
        "id": "duXaTruMsH7F"
      },
      "source": [
        "## Data Exploration"
      ]
    },
    {
      "cell_type": "code",
      "execution_count": 5,
      "metadata": {
        "colab": {
          "base_uri": "https://localhost:8080/",
          "height": 617
        },
        "id": "8RVGvjx5sH7G",
        "outputId": "9671e3c0-fa74-4df3-cb50-e8934993fef9"
      },
      "outputs": [
        {
          "output_type": "stream",
          "name": "stdout",
          "text": [
            "17880 observations, 18 features\n"
          ]
        },
        {
          "output_type": "display_data",
          "data": {
            "text/plain": [
              "   job_id                                      title            location  \\\n",
              "0       1                           Marketing Intern    US, NY, New York   \n",
              "1       2  Customer Service - Cloud Video Production      NZ, , Auckland   \n",
              "2       3    Commissioning Machinery Assistant (CMA)       US, IA, Wever   \n",
              "3       4          Account Executive - Washington DC  US, DC, Washington   \n",
              "4       5                        Bill Review Manager  US, FL, Fort Worth   \n",
              "\n",
              "  department salary_range                                    company_profile  \\\n",
              "0  Marketing          NaN  We're Food52, and we've created a groundbreaki...   \n",
              "1    Success          NaN  90 Seconds, the worlds Cloud Video Production ...   \n",
              "2        NaN          NaN  Valor Services provides Workforce Solutions th...   \n",
              "3      Sales          NaN  Our passion for improving quality of life thro...   \n",
              "4        NaN          NaN  SpotSource Solutions LLC is a Global Human Cap...   \n",
              "\n",
              "                                         description  \\\n",
              "0  Food52, a fast-growing, James Beard Award-winn...   \n",
              "1  Organised - Focused - Vibrant - Awesome!Do you...   \n",
              "2  Our client, located in Houston, is actively se...   \n",
              "3  THE COMPANY: ESRI – Environmental Systems Rese...   \n",
              "4  JOB TITLE: Itemization Review ManagerLOCATION:...   \n",
              "\n",
              "                                        requirements  \\\n",
              "0  Experience with content management systems a m...   \n",
              "1  What we expect from you:Your key responsibilit...   \n",
              "2  Implement pre-commissioning and commissioning ...   \n",
              "3  EDUCATION: Bachelor’s or Master’s in GIS, busi...   \n",
              "4  QUALIFICATIONS:RN license in the State of Texa...   \n",
              "\n",
              "                                            benefits  telecommuting  \\\n",
              "0                                                NaN              0   \n",
              "1  What you will get from usThrough being part of...              0   \n",
              "2                                                NaN              0   \n",
              "3  Our culture is anything but corporate—we have ...              0   \n",
              "4                              Full Benefits Offered              0   \n",
              "\n",
              "   has_company_logo  has_questions employment_type required_experience  \\\n",
              "0                 1              0           Other          Internship   \n",
              "1                 1              0       Full-time      Not Applicable   \n",
              "2                 1              0             NaN                 NaN   \n",
              "3                 1              0       Full-time    Mid-Senior level   \n",
              "4                 1              1       Full-time    Mid-Senior level   \n",
              "\n",
              "  required_education                   industry              function  \\\n",
              "0                NaN                        NaN             Marketing   \n",
              "1                NaN  Marketing and Advertising      Customer Service   \n",
              "2                NaN                        NaN                   NaN   \n",
              "3  Bachelor's Degree          Computer Software                 Sales   \n",
              "4  Bachelor's Degree     Hospital & Health Care  Health Care Provider   \n",
              "\n",
              "   fraudulent  \n",
              "0           0  \n",
              "1           0  \n",
              "2           0  \n",
              "3           0  \n",
              "4           0  "
            ],
            "text/html": [
              "\n",
              "  <div id=\"df-61a953e4-497d-4362-9b6f-eb6ed2a8700f\">\n",
              "    <div class=\"colab-df-container\">\n",
              "      <div>\n",
              "<style scoped>\n",
              "    .dataframe tbody tr th:only-of-type {\n",
              "        vertical-align: middle;\n",
              "    }\n",
              "\n",
              "    .dataframe tbody tr th {\n",
              "        vertical-align: top;\n",
              "    }\n",
              "\n",
              "    .dataframe thead th {\n",
              "        text-align: right;\n",
              "    }\n",
              "</style>\n",
              "<table border=\"1\" class=\"dataframe\">\n",
              "  <thead>\n",
              "    <tr style=\"text-align: right;\">\n",
              "      <th></th>\n",
              "      <th>job_id</th>\n",
              "      <th>title</th>\n",
              "      <th>location</th>\n",
              "      <th>department</th>\n",
              "      <th>salary_range</th>\n",
              "      <th>company_profile</th>\n",
              "      <th>description</th>\n",
              "      <th>requirements</th>\n",
              "      <th>benefits</th>\n",
              "      <th>telecommuting</th>\n",
              "      <th>has_company_logo</th>\n",
              "      <th>has_questions</th>\n",
              "      <th>employment_type</th>\n",
              "      <th>required_experience</th>\n",
              "      <th>required_education</th>\n",
              "      <th>industry</th>\n",
              "      <th>function</th>\n",
              "      <th>fraudulent</th>\n",
              "    </tr>\n",
              "  </thead>\n",
              "  <tbody>\n",
              "    <tr>\n",
              "      <th>0</th>\n",
              "      <td>1</td>\n",
              "      <td>Marketing Intern</td>\n",
              "      <td>US, NY, New York</td>\n",
              "      <td>Marketing</td>\n",
              "      <td>NaN</td>\n",
              "      <td>We're Food52, and we've created a groundbreaki...</td>\n",
              "      <td>Food52, a fast-growing, James Beard Award-winn...</td>\n",
              "      <td>Experience with content management systems a m...</td>\n",
              "      <td>NaN</td>\n",
              "      <td>0</td>\n",
              "      <td>1</td>\n",
              "      <td>0</td>\n",
              "      <td>Other</td>\n",
              "      <td>Internship</td>\n",
              "      <td>NaN</td>\n",
              "      <td>NaN</td>\n",
              "      <td>Marketing</td>\n",
              "      <td>0</td>\n",
              "    </tr>\n",
              "    <tr>\n",
              "      <th>1</th>\n",
              "      <td>2</td>\n",
              "      <td>Customer Service - Cloud Video Production</td>\n",
              "      <td>NZ, , Auckland</td>\n",
              "      <td>Success</td>\n",
              "      <td>NaN</td>\n",
              "      <td>90 Seconds, the worlds Cloud Video Production ...</td>\n",
              "      <td>Organised - Focused - Vibrant - Awesome!Do you...</td>\n",
              "      <td>What we expect from you:Your key responsibilit...</td>\n",
              "      <td>What you will get from usThrough being part of...</td>\n",
              "      <td>0</td>\n",
              "      <td>1</td>\n",
              "      <td>0</td>\n",
              "      <td>Full-time</td>\n",
              "      <td>Not Applicable</td>\n",
              "      <td>NaN</td>\n",
              "      <td>Marketing and Advertising</td>\n",
              "      <td>Customer Service</td>\n",
              "      <td>0</td>\n",
              "    </tr>\n",
              "    <tr>\n",
              "      <th>2</th>\n",
              "      <td>3</td>\n",
              "      <td>Commissioning Machinery Assistant (CMA)</td>\n",
              "      <td>US, IA, Wever</td>\n",
              "      <td>NaN</td>\n",
              "      <td>NaN</td>\n",
              "      <td>Valor Services provides Workforce Solutions th...</td>\n",
              "      <td>Our client, located in Houston, is actively se...</td>\n",
              "      <td>Implement pre-commissioning and commissioning ...</td>\n",
              "      <td>NaN</td>\n",
              "      <td>0</td>\n",
              "      <td>1</td>\n",
              "      <td>0</td>\n",
              "      <td>NaN</td>\n",
              "      <td>NaN</td>\n",
              "      <td>NaN</td>\n",
              "      <td>NaN</td>\n",
              "      <td>NaN</td>\n",
              "      <td>0</td>\n",
              "    </tr>\n",
              "    <tr>\n",
              "      <th>3</th>\n",
              "      <td>4</td>\n",
              "      <td>Account Executive - Washington DC</td>\n",
              "      <td>US, DC, Washington</td>\n",
              "      <td>Sales</td>\n",
              "      <td>NaN</td>\n",
              "      <td>Our passion for improving quality of life thro...</td>\n",
              "      <td>THE COMPANY: ESRI – Environmental Systems Rese...</td>\n",
              "      <td>EDUCATION: Bachelor’s or Master’s in GIS, busi...</td>\n",
              "      <td>Our culture is anything but corporate—we have ...</td>\n",
              "      <td>0</td>\n",
              "      <td>1</td>\n",
              "      <td>0</td>\n",
              "      <td>Full-time</td>\n",
              "      <td>Mid-Senior level</td>\n",
              "      <td>Bachelor's Degree</td>\n",
              "      <td>Computer Software</td>\n",
              "      <td>Sales</td>\n",
              "      <td>0</td>\n",
              "    </tr>\n",
              "    <tr>\n",
              "      <th>4</th>\n",
              "      <td>5</td>\n",
              "      <td>Bill Review Manager</td>\n",
              "      <td>US, FL, Fort Worth</td>\n",
              "      <td>NaN</td>\n",
              "      <td>NaN</td>\n",
              "      <td>SpotSource Solutions LLC is a Global Human Cap...</td>\n",
              "      <td>JOB TITLE: Itemization Review ManagerLOCATION:...</td>\n",
              "      <td>QUALIFICATIONS:RN license in the State of Texa...</td>\n",
              "      <td>Full Benefits Offered</td>\n",
              "      <td>0</td>\n",
              "      <td>1</td>\n",
              "      <td>1</td>\n",
              "      <td>Full-time</td>\n",
              "      <td>Mid-Senior level</td>\n",
              "      <td>Bachelor's Degree</td>\n",
              "      <td>Hospital &amp; Health Care</td>\n",
              "      <td>Health Care Provider</td>\n",
              "      <td>0</td>\n",
              "    </tr>\n",
              "  </tbody>\n",
              "</table>\n",
              "</div>\n",
              "      <button class=\"colab-df-convert\" onclick=\"convertToInteractive('df-61a953e4-497d-4362-9b6f-eb6ed2a8700f')\"\n",
              "              title=\"Convert this dataframe to an interactive table.\"\n",
              "              style=\"display:none;\">\n",
              "        \n",
              "  <svg xmlns=\"http://www.w3.org/2000/svg\" height=\"24px\"viewBox=\"0 0 24 24\"\n",
              "       width=\"24px\">\n",
              "    <path d=\"M0 0h24v24H0V0z\" fill=\"none\"/>\n",
              "    <path d=\"M18.56 5.44l.94 2.06.94-2.06 2.06-.94-2.06-.94-.94-2.06-.94 2.06-2.06.94zm-11 1L8.5 8.5l.94-2.06 2.06-.94-2.06-.94L8.5 2.5l-.94 2.06-2.06.94zm10 10l.94 2.06.94-2.06 2.06-.94-2.06-.94-.94-2.06-.94 2.06-2.06.94z\"/><path d=\"M17.41 7.96l-1.37-1.37c-.4-.4-.92-.59-1.43-.59-.52 0-1.04.2-1.43.59L10.3 9.45l-7.72 7.72c-.78.78-.78 2.05 0 2.83L4 21.41c.39.39.9.59 1.41.59.51 0 1.02-.2 1.41-.59l7.78-7.78 2.81-2.81c.8-.78.8-2.07 0-2.86zM5.41 20L4 18.59l7.72-7.72 1.47 1.35L5.41 20z\"/>\n",
              "  </svg>\n",
              "      </button>\n",
              "      \n",
              "  <style>\n",
              "    .colab-df-container {\n",
              "      display:flex;\n",
              "      flex-wrap:wrap;\n",
              "      gap: 12px;\n",
              "    }\n",
              "\n",
              "    .colab-df-convert {\n",
              "      background-color: #E8F0FE;\n",
              "      border: none;\n",
              "      border-radius: 50%;\n",
              "      cursor: pointer;\n",
              "      display: none;\n",
              "      fill: #1967D2;\n",
              "      height: 32px;\n",
              "      padding: 0 0 0 0;\n",
              "      width: 32px;\n",
              "    }\n",
              "\n",
              "    .colab-df-convert:hover {\n",
              "      background-color: #E2EBFA;\n",
              "      box-shadow: 0px 1px 2px rgba(60, 64, 67, 0.3), 0px 1px 3px 1px rgba(60, 64, 67, 0.15);\n",
              "      fill: #174EA6;\n",
              "    }\n",
              "\n",
              "    [theme=dark] .colab-df-convert {\n",
              "      background-color: #3B4455;\n",
              "      fill: #D2E3FC;\n",
              "    }\n",
              "\n",
              "    [theme=dark] .colab-df-convert:hover {\n",
              "      background-color: #434B5C;\n",
              "      box-shadow: 0px 1px 3px 1px rgba(0, 0, 0, 0.15);\n",
              "      filter: drop-shadow(0px 1px 2px rgba(0, 0, 0, 0.3));\n",
              "      fill: #FFFFFF;\n",
              "    }\n",
              "  </style>\n",
              "\n",
              "      <script>\n",
              "        const buttonEl =\n",
              "          document.querySelector('#df-61a953e4-497d-4362-9b6f-eb6ed2a8700f button.colab-df-convert');\n",
              "        buttonEl.style.display =\n",
              "          google.colab.kernel.accessAllowed ? 'block' : 'none';\n",
              "\n",
              "        async function convertToInteractive(key) {\n",
              "          const element = document.querySelector('#df-61a953e4-497d-4362-9b6f-eb6ed2a8700f');\n",
              "          const dataTable =\n",
              "            await google.colab.kernel.invokeFunction('convertToInteractive',\n",
              "                                                     [key], {});\n",
              "          if (!dataTable) return;\n",
              "\n",
              "          const docLinkHtml = 'Like what you see? Visit the ' +\n",
              "            '<a target=\"_blank\" href=https://colab.research.google.com/notebooks/data_table.ipynb>data table notebook</a>'\n",
              "            + ' to learn more about interactive tables.';\n",
              "          element.innerHTML = '';\n",
              "          dataTable['output_type'] = 'display_data';\n",
              "          await google.colab.output.renderOutput(dataTable, element);\n",
              "          const docLink = document.createElement('div');\n",
              "          docLink.innerHTML = docLinkHtml;\n",
              "          element.appendChild(docLink);\n",
              "        }\n",
              "      </script>\n",
              "    </div>\n",
              "  </div>\n",
              "  "
            ]
          },
          "metadata": {}
        }
      ],
      "source": [
        "# Import Data\n",
        "df = pd.read_csv(\"./fake_job_postings.csv\")\n",
        "print(f'{df.shape[0]} observations, {df.shape[1]} features')\n",
        "display(df.head(5))"
      ]
    },
    {
      "cell_type": "code",
      "execution_count": 6,
      "metadata": {
        "colab": {
          "base_uri": "https://localhost:8080/"
        },
        "id": "YyMeutk0grON",
        "outputId": "a9615e46-7332-4f67-a653-5252002e15cf"
      },
      "outputs": [
        {
          "output_type": "stream",
          "name": "stdout",
          "text": [
            "Column\t\t    NaNs   Type\n",
            "job_id              0      int64\n",
            "title               0      object\n",
            "location            346    object\n",
            "department          11547  object\n",
            "salary_range        15012  object\n",
            "company_profile     3308   object\n",
            "description         1      object\n",
            "requirements        2695   object\n",
            "benefits            7210   object\n",
            "telecommuting       0      int64\n",
            "has_company_logo    0      int64\n",
            "has_questions       0      int64\n",
            "employment_type     3471   object\n",
            "required_experience 7050   object\n",
            "required_education  8105   object\n",
            "industry            4903   object\n",
            "function            6455   object\n",
            "fraudulent          0      int64\n"
          ]
        }
      ],
      "source": [
        "# Print count of NaNs and type of each column\n",
        "print(\"Column\\t\\t    NaNs   Type\")\n",
        "for column in df.columns:\n",
        "    print(f'{column.ljust(20)}{str(df[column].isna().sum()).ljust(7)}{df[column].dtype}')"
      ]
    },
    {
      "cell_type": "code",
      "execution_count": 7,
      "metadata": {
        "colab": {
          "base_uri": "https://localhost:8080/"
        },
        "id": "VOXcRkmhgwrZ",
        "outputId": "50408720-c646-4bc7-b653-3ceff553f4a2"
      },
      "outputs": [
        {
          "output_type": "stream",
          "name": "stdout",
          "text": [
            "Column\t\t       NaNs\n",
            "job_id                 0\n",
            "title                  0\n",
            "location               0\n",
            "department             0\n",
            "salary_range           0\n",
            "company_profile        0\n",
            "description            0\n",
            "requirements           0\n",
            "benefits               0\n",
            "telecommuting          0\n",
            "has_company_logo       0\n",
            "has_questions          0\n",
            "employment_type        0\n",
            "required_experience    0\n",
            "required_education     0\n",
            "industry               0\n",
            "function               0\n",
            "fraudulent             0\n",
            "dtype: int64\n"
          ]
        }
      ],
      "source": [
        "#Replacing NAN Values\n",
        "new_df = df.copy()\n",
        "NAN_Cols=[\n",
        "    \"location\",\"department\",\"salary_range\",\n",
        "    \"company_profile\",\"description\",\"requirements\",\n",
        "    \"benefits\",\"employment_type\",\"required_experience\",\n",
        "    \"required_experience\",\"required_education\",\"industry\",\"function\"\n",
        "]\n",
        "print(\"Column\\t\\t       NaNs\")\n",
        "for i in NAN_Cols:\n",
        "    new_df[i].fillna(\"\",inplace=True)\n",
        "print(new_df.isnull().sum())"
      ]
    },
    {
      "cell_type": "code",
      "execution_count": 8,
      "metadata": {
        "colab": {
          "base_uri": "https://localhost:8080/"
        },
        "id": "87mjUtgkg6ek",
        "outputId": "ccbafded-f3e7-40a6-d1a2-0b4d6ec4295e"
      },
      "outputs": [
        {
          "output_type": "stream",
          "name": "stdout",
          "text": [
            "job_id: [    1     2     3 ... 17878 17879 17880]\n",
            "telecommuting: [0 1]\n",
            "has_company_logo: [1 0]\n",
            "has_questions: [0 1]\n",
            "fraudulent: [0 1]\n"
          ]
        }
      ],
      "source": [
        "# Get numeric columns unique values\n",
        "numeric_atts = ['job_id', 'telecommuting', 'has_company_logo', 'has_questions', 'fraudulent']\n",
        "for column in numeric_atts:\n",
        "    print(f'{column}: {new_df[column].unique()}')"
      ]
    },
    {
      "cell_type": "code",
      "execution_count": 9,
      "metadata": {
        "colab": {
          "base_uri": "https://localhost:8080/",
          "height": 600
        },
        "id": "7s618PyahBU2",
        "outputId": "abdc6250-d55e-4a40-9ed8-992d29c69d54"
      },
      "outputs": [
        {
          "output_type": "execute_result",
          "data": {
            "text/plain": [
              "   job_id                                      title            location  \\\n",
              "0       1                           Marketing Intern    US, NY, New York   \n",
              "1       2  Customer Service - Cloud Video Production      NZ, , Auckland   \n",
              "2       3    Commissioning Machinery Assistant (CMA)       US, IA, Wever   \n",
              "3       4          Account Executive - Washington DC  US, DC, Washington   \n",
              "4       5                        Bill Review Manager  US, FL, Fort Worth   \n",
              "\n",
              "  department salary_range                                    company_profile  \\\n",
              "0  Marketing               We're Food52, and we've created a groundbreaki...   \n",
              "1    Success               90 Seconds, the worlds Cloud Video Production ...   \n",
              "2                          Valor Services provides Workforce Solutions th...   \n",
              "3      Sales               Our passion for improving quality of life thro...   \n",
              "4                          SpotSource Solutions LLC is a Global Human Cap...   \n",
              "\n",
              "                                         description  \\\n",
              "0  Food52, a fast-growing, James Beard Award-winn...   \n",
              "1  Organised - Focused - Vibrant - Awesome!Do you...   \n",
              "2  Our client, located in Houston, is actively se...   \n",
              "3  THE COMPANY: ESRI – Environmental Systems Rese...   \n",
              "4  JOB TITLE: Itemization Review ManagerLOCATION:...   \n",
              "\n",
              "                                        requirements  \\\n",
              "0  Experience with content management systems a m...   \n",
              "1  What we expect from you:Your key responsibilit...   \n",
              "2  Implement pre-commissioning and commissioning ...   \n",
              "3  EDUCATION: Bachelor’s or Master’s in GIS, busi...   \n",
              "4  QUALIFICATIONS:RN license in the State of Texa...   \n",
              "\n",
              "                                            benefits  telecommuting  \\\n",
              "0                                                                 0   \n",
              "1  What you will get from usThrough being part of...              0   \n",
              "2                                                                 0   \n",
              "3  Our culture is anything but corporate—we have ...              0   \n",
              "4                              Full Benefits Offered              0   \n",
              "\n",
              "   has_company_logo  has_questions employment_type required_experience  \\\n",
              "0                 1              0           Other          Internship   \n",
              "1                 1              0       Full-time      Not Applicable   \n",
              "2                 1              0                                       \n",
              "3                 1              0       Full-time    Mid-Senior level   \n",
              "4                 1              1       Full-time    Mid-Senior level   \n",
              "\n",
              "  required_education                   industry              function  \\\n",
              "0                                                           Marketing   \n",
              "1                     Marketing and Advertising      Customer Service   \n",
              "2                                                                       \n",
              "3  Bachelor's Degree          Computer Software                 Sales   \n",
              "4  Bachelor's Degree     Hospital & Health Care  Health Care Provider   \n",
              "\n",
              "   fraudulent  \n",
              "0           0  \n",
              "1           0  \n",
              "2           0  \n",
              "3           0  \n",
              "4           0  "
            ],
            "text/html": [
              "\n",
              "  <div id=\"df-62cb478e-fd7c-463e-a234-bc6c21776f4c\">\n",
              "    <div class=\"colab-df-container\">\n",
              "      <div>\n",
              "<style scoped>\n",
              "    .dataframe tbody tr th:only-of-type {\n",
              "        vertical-align: middle;\n",
              "    }\n",
              "\n",
              "    .dataframe tbody tr th {\n",
              "        vertical-align: top;\n",
              "    }\n",
              "\n",
              "    .dataframe thead th {\n",
              "        text-align: right;\n",
              "    }\n",
              "</style>\n",
              "<table border=\"1\" class=\"dataframe\">\n",
              "  <thead>\n",
              "    <tr style=\"text-align: right;\">\n",
              "      <th></th>\n",
              "      <th>job_id</th>\n",
              "      <th>title</th>\n",
              "      <th>location</th>\n",
              "      <th>department</th>\n",
              "      <th>salary_range</th>\n",
              "      <th>company_profile</th>\n",
              "      <th>description</th>\n",
              "      <th>requirements</th>\n",
              "      <th>benefits</th>\n",
              "      <th>telecommuting</th>\n",
              "      <th>has_company_logo</th>\n",
              "      <th>has_questions</th>\n",
              "      <th>employment_type</th>\n",
              "      <th>required_experience</th>\n",
              "      <th>required_education</th>\n",
              "      <th>industry</th>\n",
              "      <th>function</th>\n",
              "      <th>fraudulent</th>\n",
              "    </tr>\n",
              "  </thead>\n",
              "  <tbody>\n",
              "    <tr>\n",
              "      <th>0</th>\n",
              "      <td>1</td>\n",
              "      <td>Marketing Intern</td>\n",
              "      <td>US, NY, New York</td>\n",
              "      <td>Marketing</td>\n",
              "      <td></td>\n",
              "      <td>We're Food52, and we've created a groundbreaki...</td>\n",
              "      <td>Food52, a fast-growing, James Beard Award-winn...</td>\n",
              "      <td>Experience with content management systems a m...</td>\n",
              "      <td></td>\n",
              "      <td>0</td>\n",
              "      <td>1</td>\n",
              "      <td>0</td>\n",
              "      <td>Other</td>\n",
              "      <td>Internship</td>\n",
              "      <td></td>\n",
              "      <td></td>\n",
              "      <td>Marketing</td>\n",
              "      <td>0</td>\n",
              "    </tr>\n",
              "    <tr>\n",
              "      <th>1</th>\n",
              "      <td>2</td>\n",
              "      <td>Customer Service - Cloud Video Production</td>\n",
              "      <td>NZ, , Auckland</td>\n",
              "      <td>Success</td>\n",
              "      <td></td>\n",
              "      <td>90 Seconds, the worlds Cloud Video Production ...</td>\n",
              "      <td>Organised - Focused - Vibrant - Awesome!Do you...</td>\n",
              "      <td>What we expect from you:Your key responsibilit...</td>\n",
              "      <td>What you will get from usThrough being part of...</td>\n",
              "      <td>0</td>\n",
              "      <td>1</td>\n",
              "      <td>0</td>\n",
              "      <td>Full-time</td>\n",
              "      <td>Not Applicable</td>\n",
              "      <td></td>\n",
              "      <td>Marketing and Advertising</td>\n",
              "      <td>Customer Service</td>\n",
              "      <td>0</td>\n",
              "    </tr>\n",
              "    <tr>\n",
              "      <th>2</th>\n",
              "      <td>3</td>\n",
              "      <td>Commissioning Machinery Assistant (CMA)</td>\n",
              "      <td>US, IA, Wever</td>\n",
              "      <td></td>\n",
              "      <td></td>\n",
              "      <td>Valor Services provides Workforce Solutions th...</td>\n",
              "      <td>Our client, located in Houston, is actively se...</td>\n",
              "      <td>Implement pre-commissioning and commissioning ...</td>\n",
              "      <td></td>\n",
              "      <td>0</td>\n",
              "      <td>1</td>\n",
              "      <td>0</td>\n",
              "      <td></td>\n",
              "      <td></td>\n",
              "      <td></td>\n",
              "      <td></td>\n",
              "      <td></td>\n",
              "      <td>0</td>\n",
              "    </tr>\n",
              "    <tr>\n",
              "      <th>3</th>\n",
              "      <td>4</td>\n",
              "      <td>Account Executive - Washington DC</td>\n",
              "      <td>US, DC, Washington</td>\n",
              "      <td>Sales</td>\n",
              "      <td></td>\n",
              "      <td>Our passion for improving quality of life thro...</td>\n",
              "      <td>THE COMPANY: ESRI – Environmental Systems Rese...</td>\n",
              "      <td>EDUCATION: Bachelor’s or Master’s in GIS, busi...</td>\n",
              "      <td>Our culture is anything but corporate—we have ...</td>\n",
              "      <td>0</td>\n",
              "      <td>1</td>\n",
              "      <td>0</td>\n",
              "      <td>Full-time</td>\n",
              "      <td>Mid-Senior level</td>\n",
              "      <td>Bachelor's Degree</td>\n",
              "      <td>Computer Software</td>\n",
              "      <td>Sales</td>\n",
              "      <td>0</td>\n",
              "    </tr>\n",
              "    <tr>\n",
              "      <th>4</th>\n",
              "      <td>5</td>\n",
              "      <td>Bill Review Manager</td>\n",
              "      <td>US, FL, Fort Worth</td>\n",
              "      <td></td>\n",
              "      <td></td>\n",
              "      <td>SpotSource Solutions LLC is a Global Human Cap...</td>\n",
              "      <td>JOB TITLE: Itemization Review ManagerLOCATION:...</td>\n",
              "      <td>QUALIFICATIONS:RN license in the State of Texa...</td>\n",
              "      <td>Full Benefits Offered</td>\n",
              "      <td>0</td>\n",
              "      <td>1</td>\n",
              "      <td>1</td>\n",
              "      <td>Full-time</td>\n",
              "      <td>Mid-Senior level</td>\n",
              "      <td>Bachelor's Degree</td>\n",
              "      <td>Hospital &amp; Health Care</td>\n",
              "      <td>Health Care Provider</td>\n",
              "      <td>0</td>\n",
              "    </tr>\n",
              "  </tbody>\n",
              "</table>\n",
              "</div>\n",
              "      <button class=\"colab-df-convert\" onclick=\"convertToInteractive('df-62cb478e-fd7c-463e-a234-bc6c21776f4c')\"\n",
              "              title=\"Convert this dataframe to an interactive table.\"\n",
              "              style=\"display:none;\">\n",
              "        \n",
              "  <svg xmlns=\"http://www.w3.org/2000/svg\" height=\"24px\"viewBox=\"0 0 24 24\"\n",
              "       width=\"24px\">\n",
              "    <path d=\"M0 0h24v24H0V0z\" fill=\"none\"/>\n",
              "    <path d=\"M18.56 5.44l.94 2.06.94-2.06 2.06-.94-2.06-.94-.94-2.06-.94 2.06-2.06.94zm-11 1L8.5 8.5l.94-2.06 2.06-.94-2.06-.94L8.5 2.5l-.94 2.06-2.06.94zm10 10l.94 2.06.94-2.06 2.06-.94-2.06-.94-.94-2.06-.94 2.06-2.06.94z\"/><path d=\"M17.41 7.96l-1.37-1.37c-.4-.4-.92-.59-1.43-.59-.52 0-1.04.2-1.43.59L10.3 9.45l-7.72 7.72c-.78.78-.78 2.05 0 2.83L4 21.41c.39.39.9.59 1.41.59.51 0 1.02-.2 1.41-.59l7.78-7.78 2.81-2.81c.8-.78.8-2.07 0-2.86zM5.41 20L4 18.59l7.72-7.72 1.47 1.35L5.41 20z\"/>\n",
              "  </svg>\n",
              "      </button>\n",
              "      \n",
              "  <style>\n",
              "    .colab-df-container {\n",
              "      display:flex;\n",
              "      flex-wrap:wrap;\n",
              "      gap: 12px;\n",
              "    }\n",
              "\n",
              "    .colab-df-convert {\n",
              "      background-color: #E8F0FE;\n",
              "      border: none;\n",
              "      border-radius: 50%;\n",
              "      cursor: pointer;\n",
              "      display: none;\n",
              "      fill: #1967D2;\n",
              "      height: 32px;\n",
              "      padding: 0 0 0 0;\n",
              "      width: 32px;\n",
              "    }\n",
              "\n",
              "    .colab-df-convert:hover {\n",
              "      background-color: #E2EBFA;\n",
              "      box-shadow: 0px 1px 2px rgba(60, 64, 67, 0.3), 0px 1px 3px 1px rgba(60, 64, 67, 0.15);\n",
              "      fill: #174EA6;\n",
              "    }\n",
              "\n",
              "    [theme=dark] .colab-df-convert {\n",
              "      background-color: #3B4455;\n",
              "      fill: #D2E3FC;\n",
              "    }\n",
              "\n",
              "    [theme=dark] .colab-df-convert:hover {\n",
              "      background-color: #434B5C;\n",
              "      box-shadow: 0px 1px 3px 1px rgba(0, 0, 0, 0.15);\n",
              "      filter: drop-shadow(0px 1px 2px rgba(0, 0, 0, 0.3));\n",
              "      fill: #FFFFFF;\n",
              "    }\n",
              "  </style>\n",
              "\n",
              "      <script>\n",
              "        const buttonEl =\n",
              "          document.querySelector('#df-62cb478e-fd7c-463e-a234-bc6c21776f4c button.colab-df-convert');\n",
              "        buttonEl.style.display =\n",
              "          google.colab.kernel.accessAllowed ? 'block' : 'none';\n",
              "\n",
              "        async function convertToInteractive(key) {\n",
              "          const element = document.querySelector('#df-62cb478e-fd7c-463e-a234-bc6c21776f4c');\n",
              "          const dataTable =\n",
              "            await google.colab.kernel.invokeFunction('convertToInteractive',\n",
              "                                                     [key], {});\n",
              "          if (!dataTable) return;\n",
              "\n",
              "          const docLinkHtml = 'Like what you see? Visit the ' +\n",
              "            '<a target=\"_blank\" href=https://colab.research.google.com/notebooks/data_table.ipynb>data table notebook</a>'\n",
              "            + ' to learn more about interactive tables.';\n",
              "          element.innerHTML = '';\n",
              "          dataTable['output_type'] = 'display_data';\n",
              "          await google.colab.output.renderOutput(dataTable, element);\n",
              "          const docLink = document.createElement('div');\n",
              "          docLink.innerHTML = docLinkHtml;\n",
              "          element.appendChild(docLink);\n",
              "        }\n",
              "      </script>\n",
              "    </div>\n",
              "  </div>\n",
              "  "
            ]
          },
          "metadata": {},
          "execution_count": 9
        }
      ],
      "source": [
        "new_df[:5]"
      ]
    },
    {
      "cell_type": "code",
      "source": [
        "new_df['fraudulent'].value_counts().plot.bar()"
      ],
      "metadata": {
        "id": "B0bRggcWwnIe",
        "outputId": "40c112d8-9dbe-437a-e7e8-698166a871b8",
        "colab": {
          "base_uri": "https://localhost:8080/",
          "height": 279
        }
      },
      "execution_count": 10,
      "outputs": [
        {
          "output_type": "execute_result",
          "data": {
            "text/plain": [
              "<matplotlib.axes._subplots.AxesSubplot at 0x7fc3ba6f65e0>"
            ]
          },
          "metadata": {},
          "execution_count": 10
        },
        {
          "output_type": "display_data",
          "data": {
            "text/plain": [
              "<Figure size 432x288 with 1 Axes>"
            ],
            "image/png": "[encoded data removed]"
          },
          "metadata": {
            "needs_background": "light"
          }
        }
      ]
    },
    {
      "cell_type": "markdown",
      "metadata": {
        "id": "15sW_btIsH7Q"
      },
      "source": [
        "## Preprocessing"
      ]
    },
    {
      "cell_type": "markdown",
      "source": [
        "### covert string to word token"
      ],
      "metadata": {
        "id": "mB7PDS_jwyvR"
      }
    },
    {
      "cell_type": "code",
      "execution_count": 11,
      "metadata": {
        "colab": {
          "base_uri": "https://localhost:8080/",
          "height": 617
        },
        "id": "JN48DwVxhqxE",
        "outputId": "1f050c1c-3131-4be9-dfdc-a6e3c73e7343"
      },
      "outputs": [
        {
          "output_type": "display_data",
          "data": {
            "text/plain": [
              "   job_id                                      title            location  \\\n",
              "0       1                           marketing intern    us, ny, new york   \n",
              "1       2  customer service - cloud video production      nz, , auckland   \n",
              "2       3    commissioning machinery assistant (cma)       us, ia, wever   \n",
              "3       4          account executive - washington dc  us, dc, washington   \n",
              "4       5                        bill review manager  us, fl, fort worth   \n",
              "\n",
              "  department salary_range                                    company_profile  \\\n",
              "0  marketing               we're food52, and we've created a groundbreaki...   \n",
              "1    success               90 seconds, the worlds cloud video production ...   \n",
              "2                          valor services provides workforce solutions th...   \n",
              "3      sales               our passion for improving quality of life thro...   \n",
              "4                          spotsource solutions llc is a global human cap...   \n",
              "\n",
              "                                         description  \\\n",
              "0  food52, a fast-growing, james beard award-winn...   \n",
              "1  organised - focused - vibrant - awesome!do you...   \n",
              "2  our client, located in houston, is actively se...   \n",
              "3  the company: esri – environmental systems rese...   \n",
              "4  job title: itemization review managerlocation:...   \n",
              "\n",
              "                                        requirements  \\\n",
              "0  experience with content management systems a m...   \n",
              "1  what we expect from you:your key responsibilit...   \n",
              "2  implement pre-commissioning and commissioning ...   \n",
              "3  education: bachelor’s or master’s in gis, busi...   \n",
              "4  qualifications:rn license in the state of texa...   \n",
              "\n",
              "                                            benefits  telecommuting  \\\n",
              "0                                                                 0   \n",
              "1  what you will get from usthrough being part of...              0   \n",
              "2                                                                 0   \n",
              "3  our culture is anything but corporate—we have ...              0   \n",
              "4                              full benefits offered              0   \n",
              "\n",
              "   has_company_logo  has_questions employment_type required_experience  \\\n",
              "0                 1              0           other          internship   \n",
              "1                 1              0       full-time      not applicable   \n",
              "2                 1              0                                       \n",
              "3                 1              0       full-time    mid-senior level   \n",
              "4                 1              1       full-time    mid-senior level   \n",
              "\n",
              "  required_education                   industry              function  \\\n",
              "0                                                           marketing   \n",
              "1                     marketing and advertising      customer service   \n",
              "2                                                                       \n",
              "3  bachelor's degree          computer software                 sales   \n",
              "4  bachelor's degree     hospital & health care  health care provider   \n",
              "\n",
              "   fraudulent  \n",
              "0           0  \n",
              "1           0  \n",
              "2           0  \n",
              "3           0  \n",
              "4           0  "
            ],
            "text/html": [
              "\n",
              "  <div id=\"df-c090b1d9-5592-4515-ac3a-560f60976f92\">\n",
              "    <div class=\"colab-df-container\">\n",
              "      <div>\n",
              "<style scoped>\n",
              "    .dataframe tbody tr th:only-of-type {\n",
              "        vertical-align: middle;\n",
              "    }\n",
              "\n",
              "    .dataframe tbody tr th {\n",
              "        vertical-align: top;\n",
              "    }\n",
              "\n",
              "    .dataframe thead th {\n",
              "        text-align: right;\n",
              "    }\n",
              "</style>\n",
              "<table border=\"1\" class=\"dataframe\">\n",
              "  <thead>\n",
              "    <tr style=\"text-align: right;\">\n",
              "      <th></th>\n",
              "      <th>job_id</th>\n",
              "      <th>title</th>\n",
              "      <th>location</th>\n",
              "      <th>department</th>\n",
              "      <th>salary_range</th>\n",
              "      <th>company_profile</th>\n",
              "      <th>description</th>\n",
              "      <th>requirements</th>\n",
              "      <th>benefits</th>\n",
              "      <th>telecommuting</th>\n",
              "      <th>has_company_logo</th>\n",
              "      <th>has_questions</th>\n",
              "      <th>employment_type</th>\n",
              "      <th>required_experience</th>\n",
              "      <th>required_education</th>\n",
              "      <th>industry</th>\n",
              "      <th>function</th>\n",
              "      <th>fraudulent</th>\n",
              "    </tr>\n",
              "  </thead>\n",
              "  <tbody>\n",
              "    <tr>\n",
              "      <th>0</th>\n",
              "      <td>1</td>\n",
              "      <td>marketing intern</td>\n",
              "      <td>us, ny, new york</td>\n",
              "      <td>marketing</td>\n",
              "      <td></td>\n",
              "      <td>we're food52, and we've created a groundbreaki...</td>\n",
              "      <td>food52, a fast-growing, james beard award-winn...</td>\n",
              "      <td>experience with content management systems a m...</td>\n",
              "      <td></td>\n",
              "      <td>0</td>\n",
              "      <td>1</td>\n",
              "      <td>0</td>\n",
              "      <td>other</td>\n",
              "      <td>internship</td>\n",
              "      <td></td>\n",
              "      <td></td>\n",
              "      <td>marketing</td>\n",
              "      <td>0</td>\n",
              "    </tr>\n",
              "    <tr>\n",
              "      <th>1</th>\n",
              "      <td>2</td>\n",
              "      <td>customer service - cloud video production</td>\n",
              "      <td>nz, , auckland</td>\n",
              "      <td>success</td>\n",
              "      <td></td>\n",
              "      <td>90 seconds, the worlds cloud video production ...</td>\n",
              "      <td>organised - focused - vibrant - awesome!do you...</td>\n",
              "      <td>what we expect from you:your key responsibilit...</td>\n",
              "      <td>what you will get from usthrough being part of...</td>\n",
              "      <td>0</td>\n",
              "      <td>1</td>\n",
              "      <td>0</td>\n",
              "      <td>full-time</td>\n",
              "      <td>not applicable</td>\n",
              "      <td></td>\n",
              "      <td>marketing and advertising</td>\n",
              "      <td>customer service</td>\n",
              "      <td>0</td>\n",
              "    </tr>\n",
              "    <tr>\n",
              "      <th>2</th>\n",
              "      <td>3</td>\n",
              "      <td>commissioning machinery assistant (cma)</td>\n",
              "      <td>us, ia, wever</td>\n",
              "      <td></td>\n",
              "      <td></td>\n",
              "      <td>valor services provides workforce solutions th...</td>\n",
              "      <td>our client, located in houston, is actively se...</td>\n",
              "      <td>implement pre-commissioning and commissioning ...</td>\n",
              "      <td></td>\n",
              "      <td>0</td>\n",
              "      <td>1</td>\n",
              "      <td>0</td>\n",
              "      <td></td>\n",
              "      <td></td>\n",
              "      <td></td>\n",
              "      <td></td>\n",
              "      <td></td>\n",
              "      <td>0</td>\n",
              "    </tr>\n",
              "    <tr>\n",
              "      <th>3</th>\n",
              "      <td>4</td>\n",
              "      <td>account executive - washington dc</td>\n",
              "      <td>us, dc, washington</td>\n",
              "      <td>sales</td>\n",
              "      <td></td>\n",
              "      <td>our passion for improving quality of life thro...</td>\n",
              "      <td>the company: esri – environmental systems rese...</td>\n",
              "      <td>education: bachelor’s or master’s in gis, busi...</td>\n",
              "      <td>our culture is anything but corporate—we have ...</td>\n",
              "      <td>0</td>\n",
              "      <td>1</td>\n",
              "      <td>0</td>\n",
              "      <td>full-time</td>\n",
              "      <td>mid-senior level</td>\n",
              "      <td>bachelor's degree</td>\n",
              "      <td>computer software</td>\n",
              "      <td>sales</td>\n",
              "      <td>0</td>\n",
              "    </tr>\n",
              "    <tr>\n",
              "      <th>4</th>\n",
              "      <td>5</td>\n",
              "      <td>bill review manager</td>\n",
              "      <td>us, fl, fort worth</td>\n",
              "      <td></td>\n",
              "      <td></td>\n",
              "      <td>spotsource solutions llc is a global human cap...</td>\n",
              "      <td>job title: itemization review managerlocation:...</td>\n",
              "      <td>qualifications:rn license in the state of texa...</td>\n",
              "      <td>full benefits offered</td>\n",
              "      <td>0</td>\n",
              "      <td>1</td>\n",
              "      <td>1</td>\n",
              "      <td>full-time</td>\n",
              "      <td>mid-senior level</td>\n",
              "      <td>bachelor's degree</td>\n",
              "      <td>hospital &amp; health care</td>\n",
              "      <td>health care provider</td>\n",
              "      <td>0</td>\n",
              "    </tr>\n",
              "  </tbody>\n",
              "</table>\n",
              "</div>\n",
              "      <button class=\"colab-df-convert\" onclick=\"convertToInteractive('df-c090b1d9-5592-4515-ac3a-560f60976f92')\"\n",
              "              title=\"Convert this dataframe to an interactive table.\"\n",
              "              style=\"display:none;\">\n",
              "        \n",
              "  <svg xmlns=\"http://www.w3.org/2000/svg\" height=\"24px\"viewBox=\"0 0 24 24\"\n",
              "       width=\"24px\">\n",
              "    <path d=\"M0 0h24v24H0V0z\" fill=\"none\"/>\n",
              "    <path d=\"M18.56 5.44l.94 2.06.94-2.06 2.06-.94-2.06-.94-.94-2.06-.94 2.06-2.06.94zm-11 1L8.5 8.5l.94-2.06 2.06-.94-2.06-.94L8.5 2.5l-.94 2.06-2.06.94zm10 10l.94 2.06.94-2.06 2.06-.94-2.06-.94-.94-2.06-.94 2.06-2.06.94z\"/><path d=\"M17.41 7.96l-1.37-1.37c-.4-.4-.92-.59-1.43-.59-.52 0-1.04.2-1.43.59L10.3 9.45l-7.72 7.72c-.78.78-.78 2.05 0 2.83L4 21.41c.39.39.9.59 1.41.59.51 0 1.02-.2 1.41-.59l7.78-7.78 2.81-2.81c.8-.78.8-2.07 0-2.86zM5.41 20L4 18.59l7.72-7.72 1.47 1.35L5.41 20z\"/>\n",
              "  </svg>\n",
              "      </button>\n",
              "      \n",
              "  <style>\n",
              "    .colab-df-container {\n",
              "      display:flex;\n",
              "      flex-wrap:wrap;\n",
              "      gap: 12px;\n",
              "    }\n",
              "\n",
              "    .colab-df-convert {\n",
              "      background-color: #E8F0FE;\n",
              "      border: none;\n",
              "      border-radius: 50%;\n",
              "      cursor: pointer;\n",
              "      display: none;\n",
              "      fill: #1967D2;\n",
              "      height: 32px;\n",
              "      padding: 0 0 0 0;\n",
              "      width: 32px;\n",
              "    }\n",
              "\n",
              "    .colab-df-convert:hover {\n",
              "      background-color: #E2EBFA;\n",
              "      box-shadow: 0px 1px 2px rgba(60, 64, 67, 0.3), 0px 1px 3px 1px rgba(60, 64, 67, 0.15);\n",
              "      fill: #174EA6;\n",
              "    }\n",
              "\n",
              "    [theme=dark] .colab-df-convert {\n",
              "      background-color: #3B4455;\n",
              "      fill: #D2E3FC;\n",
              "    }\n",
              "\n",
              "    [theme=dark] .colab-df-convert:hover {\n",
              "      background-color: #434B5C;\n",
              "      box-shadow: 0px 1px 3px 1px rgba(0, 0, 0, 0.15);\n",
              "      filter: drop-shadow(0px 1px 2px rgba(0, 0, 0, 0.3));\n",
              "      fill: #FFFFFF;\n",
              "    }\n",
              "  </style>\n",
              "\n",
              "      <script>\n",
              "        const buttonEl =\n",
              "          document.querySelector('#df-c090b1d9-5592-4515-ac3a-560f60976f92 button.colab-df-convert');\n",
              "        buttonEl.style.display =\n",
              "          google.colab.kernel.accessAllowed ? 'block' : 'none';\n",
              "\n",
              "        async function convertToInteractive(key) {\n",
              "          const element = document.querySelector('#df-c090b1d9-5592-4515-ac3a-560f60976f92');\n",
              "          const dataTable =\n",
              "            await google.colab.kernel.invokeFunction('convertToInteractive',\n",
              "                                                     [key], {});\n",
              "          if (!dataTable) return;\n",
              "\n",
              "          const docLinkHtml = 'Like what you see? Visit the ' +\n",
              "            '<a target=\"_blank\" href=https://colab.research.google.com/notebooks/data_table.ipynb>data table notebook</a>'\n",
              "            + ' to learn more about interactive tables.';\n",
              "          element.innerHTML = '';\n",
              "          dataTable['output_type'] = 'display_data';\n",
              "          await google.colab.output.renderOutput(dataTable, element);\n",
              "          const docLink = document.createElement('div');\n",
              "          docLink.innerHTML = docLinkHtml;\n",
              "          element.appendChild(docLink);\n",
              "        }\n",
              "      </script>\n",
              "    </div>\n",
              "  </div>\n",
              "  "
            ]
          },
          "metadata": {}
        }
      ],
      "source": [
        "# Convert Everything to lowercase\n",
        "new_df = new_df.applymap(lambda s: s.lower() if type(s) == str else s)\n",
        "display(new_df.head(5))"
      ]
    },
    {
      "cell_type": "code",
      "execution_count": 12,
      "metadata": {
        "colab": {
          "base_uri": "https://localhost:8080/",
          "height": 652
        },
        "id": "HMDJhqYdh2Js",
        "outputId": "030df7a5-25f5-4507-a711-4f0cf4074178"
      },
      "outputs": [
        {
          "output_type": "display_data",
          "data": {
            "text/plain": [
              "   job_id                                      title            location  \\\n",
              "0       1                           marketing intern    us  ny  new york   \n",
              "1       2  customer service   cloud video production      nz    auckland   \n",
              "2       3    commissioning machinery assistant  cma        us  ia  wever   \n",
              "3       4          account executive   washington dc  us  dc  washington   \n",
              "4       5                        bill review manager  us  fl  fort worth   \n",
              "\n",
              "  department salary_range                                    company_profile  \\\n",
              "0  marketing               we re food52  and we ve created a groundbreaki...   \n",
              "1    success               90 seconds  the worlds cloud video production ...   \n",
              "2                          valor services provides workforce solutions th...   \n",
              "3      sales               our passion for improving quality of life thro...   \n",
              "4                          spotsource solutions llc is a global human cap...   \n",
              "\n",
              "                                         description  \\\n",
              "0  food52  a fast growing  james beard award winn...   \n",
              "1  organised   focused   vibrant   awesome do you...   \n",
              "2  our client  located in houston  is actively se...   \n",
              "3  the company  esri – environmental systems rese...   \n",
              "4  job title  itemization review managerlocation ...   \n",
              "\n",
              "                                        requirements  \\\n",
              "0  experience with content management systems a m...   \n",
              "1  what we expect from you your key responsibilit...   \n",
              "2  implement pre commissioning and commissioning ...   \n",
              "3  education  bachelor’s or master’s in gis  busi...   \n",
              "4  qualifications rn license in the state of texa...   \n",
              "\n",
              "                                            benefits  telecommuting  \\\n",
              "0                                                                 0   \n",
              "1  what you will get from usthrough being part of...              0   \n",
              "2                                                                 0   \n",
              "3  our culture is anything but corporate—we have ...              0   \n",
              "4                              full benefits offered              0   \n",
              "\n",
              "   has_company_logo  has_questions employment_type required_experience  \\\n",
              "0                 1              0           other          internship   \n",
              "1                 1              0       full time      not applicable   \n",
              "2                 1              0                                       \n",
              "3                 1              0       full time    mid senior level   \n",
              "4                 1              1       full time    mid senior level   \n",
              "\n",
              "  required_education                   industry              function  \\\n",
              "0                                                           marketing   \n",
              "1                     marketing and advertising      customer service   \n",
              "2                                                                       \n",
              "3  bachelor s degree          computer software                 sales   \n",
              "4  bachelor s degree     hospital   health care  health care provider   \n",
              "\n",
              "   fraudulent  \n",
              "0           0  \n",
              "1           0  \n",
              "2           0  \n",
              "3           0  \n",
              "4           0  "
            ],
            "text/html": [
              "\n",
              "  <div id=\"df-94e79c01-4b5c-45e6-839e-09715e490699\">\n",
              "    <div class=\"colab-df-container\">\n",
              "      <div>\n",
              "<style scoped>\n",
              "    .dataframe tbody tr th:only-of-type {\n",
              "        vertical-align: middle;\n",
              "    }\n",
              "\n",
              "    .dataframe tbody tr th {\n",
              "        vertical-align: top;\n",
              "    }\n",
              "\n",
              "    .dataframe thead th {\n",
              "        text-align: right;\n",
              "    }\n",
              "</style>\n",
              "<table border=\"1\" class=\"dataframe\">\n",
              "  <thead>\n",
              "    <tr style=\"text-align: right;\">\n",
              "      <th></th>\n",
              "      <th>job_id</th>\n",
              "      <th>title</th>\n",
              "      <th>location</th>\n",
              "      <th>department</th>\n",
              "      <th>salary_range</th>\n",
              "      <th>company_profile</th>\n",
              "      <th>description</th>\n",
              "      <th>requirements</th>\n",
              "      <th>benefits</th>\n",
              "      <th>telecommuting</th>\n",
              "      <th>has_company_logo</th>\n",
              "      <th>has_questions</th>\n",
              "      <th>employment_type</th>\n",
              "      <th>required_experience</th>\n",
              "      <th>required_education</th>\n",
              "      <th>industry</th>\n",
              "      <th>function</th>\n",
              "      <th>fraudulent</th>\n",
              "    </tr>\n",
              "  </thead>\n",
              "  <tbody>\n",
              "    <tr>\n",
              "      <th>0</th>\n",
              "      <td>1</td>\n",
              "      <td>marketing intern</td>\n",
              "      <td>us  ny  new york</td>\n",
              "      <td>marketing</td>\n",
              "      <td></td>\n",
              "      <td>we re food52  and we ve created a groundbreaki...</td>\n",
              "      <td>food52  a fast growing  james beard award winn...</td>\n",
              "      <td>experience with content management systems a m...</td>\n",
              "      <td></td>\n",
              "      <td>0</td>\n",
              "      <td>1</td>\n",
              "      <td>0</td>\n",
              "      <td>other</td>\n",
              "      <td>internship</td>\n",
              "      <td></td>\n",
              "      <td></td>\n",
              "      <td>marketing</td>\n",
              "      <td>0</td>\n",
              "    </tr>\n",
              "    <tr>\n",
              "      <th>1</th>\n",
              "      <td>2</td>\n",
              "      <td>customer service   cloud video production</td>\n",
              "      <td>nz    auckland</td>\n",
              "      <td>success</td>\n",
              "      <td></td>\n",
              "      <td>90 seconds  the worlds cloud video production ...</td>\n",
              "      <td>organised   focused   vibrant   awesome do you...</td>\n",
              "      <td>what we expect from you your key responsibilit...</td>\n",
              "      <td>what you will get from usthrough being part of...</td>\n",
              "      <td>0</td>\n",
              "      <td>1</td>\n",
              "      <td>0</td>\n",
              "      <td>full time</td>\n",
              "      <td>not applicable</td>\n",
              "      <td></td>\n",
              "      <td>marketing and advertising</td>\n",
              "      <td>customer service</td>\n",
              "      <td>0</td>\n",
              "    </tr>\n",
              "    <tr>\n",
              "      <th>2</th>\n",
              "      <td>3</td>\n",
              "      <td>commissioning machinery assistant  cma</td>\n",
              "      <td>us  ia  wever</td>\n",
              "      <td></td>\n",
              "      <td></td>\n",
              "      <td>valor services provides workforce solutions th...</td>\n",
              "      <td>our client  located in houston  is actively se...</td>\n",
              "      <td>implement pre commissioning and commissioning ...</td>\n",
              "      <td></td>\n",
              "      <td>0</td>\n",
              "      <td>1</td>\n",
              "      <td>0</td>\n",
              "      <td></td>\n",
              "      <td></td>\n",
              "      <td></td>\n",
              "      <td></td>\n",
              "      <td></td>\n",
              "      <td>0</td>\n",
              "    </tr>\n",
              "    <tr>\n",
              "      <th>3</th>\n",
              "      <td>4</td>\n",
              "      <td>account executive   washington dc</td>\n",
              "      <td>us  dc  washington</td>\n",
              "      <td>sales</td>\n",
              "      <td></td>\n",
              "      <td>our passion for improving quality of life thro...</td>\n",
              "      <td>the company  esri – environmental systems rese...</td>\n",
              "      <td>education  bachelor’s or master’s in gis  busi...</td>\n",
              "      <td>our culture is anything but corporate—we have ...</td>\n",
              "      <td>0</td>\n",
              "      <td>1</td>\n",
              "      <td>0</td>\n",
              "      <td>full time</td>\n",
              "      <td>mid senior level</td>\n",
              "      <td>bachelor s degree</td>\n",
              "      <td>computer software</td>\n",
              "      <td>sales</td>\n",
              "      <td>0</td>\n",
              "    </tr>\n",
              "    <tr>\n",
              "      <th>4</th>\n",
              "      <td>5</td>\n",
              "      <td>bill review manager</td>\n",
              "      <td>us  fl  fort worth</td>\n",
              "      <td></td>\n",
              "      <td></td>\n",
              "      <td>spotsource solutions llc is a global human cap...</td>\n",
              "      <td>job title  itemization review managerlocation ...</td>\n",
              "      <td>qualifications rn license in the state of texa...</td>\n",
              "      <td>full benefits offered</td>\n",
              "      <td>0</td>\n",
              "      <td>1</td>\n",
              "      <td>1</td>\n",
              "      <td>full time</td>\n",
              "      <td>mid senior level</td>\n",
              "      <td>bachelor s degree</td>\n",
              "      <td>hospital   health care</td>\n",
              "      <td>health care provider</td>\n",
              "      <td>0</td>\n",
              "    </tr>\n",
              "  </tbody>\n",
              "</table>\n",
              "</div>\n",
              "      <button class=\"colab-df-convert\" onclick=\"convertToInteractive('df-94e79c01-4b5c-45e6-839e-09715e490699')\"\n",
              "              title=\"Convert this dataframe to an interactive table.\"\n",
              "              style=\"display:none;\">\n",
              "        \n",
              "  <svg xmlns=\"http://www.w3.org/2000/svg\" height=\"24px\"viewBox=\"0 0 24 24\"\n",
              "       width=\"24px\">\n",
              "    <path d=\"M0 0h24v24H0V0z\" fill=\"none\"/>\n",
              "    <path d=\"M18.56 5.44l.94 2.06.94-2.06 2.06-.94-2.06-.94-.94-2.06-.94 2.06-2.06.94zm-11 1L8.5 8.5l.94-2.06 2.06-.94-2.06-.94L8.5 2.5l-.94 2.06-2.06.94zm10 10l.94 2.06.94-2.06 2.06-.94-2.06-.94-.94-2.06-.94 2.06-2.06.94z\"/><path d=\"M17.41 7.96l-1.37-1.37c-.4-.4-.92-.59-1.43-.59-.52 0-1.04.2-1.43.59L10.3 9.45l-7.72 7.72c-.78.78-.78 2.05 0 2.83L4 21.41c.39.39.9.59 1.41.59.51 0 1.02-.2 1.41-.59l7.78-7.78 2.81-2.81c.8-.78.8-2.07 0-2.86zM5.41 20L4 18.59l7.72-7.72 1.47 1.35L5.41 20z\"/>\n",
              "  </svg>\n",
              "      </button>\n",
              "      \n",
              "  <style>\n",
              "    .colab-df-container {\n",
              "      display:flex;\n",
              "      flex-wrap:wrap;\n",
              "      gap: 12px;\n",
              "    }\n",
              "\n",
              "    .colab-df-convert {\n",
              "      background-color: #E8F0FE;\n",
              "      border: none;\n",
              "      border-radius: 50%;\n",
              "      cursor: pointer;\n",
              "      display: none;\n",
              "      fill: #1967D2;\n",
              "      height: 32px;\n",
              "      padding: 0 0 0 0;\n",
              "      width: 32px;\n",
              "    }\n",
              "\n",
              "    .colab-df-convert:hover {\n",
              "      background-color: #E2EBFA;\n",
              "      box-shadow: 0px 1px 2px rgba(60, 64, 67, 0.3), 0px 1px 3px 1px rgba(60, 64, 67, 0.15);\n",
              "      fill: #174EA6;\n",
              "    }\n",
              "\n",
              "    [theme=dark] .colab-df-convert {\n",
              "      background-color: #3B4455;\n",
              "      fill: #D2E3FC;\n",
              "    }\n",
              "\n",
              "    [theme=dark] .colab-df-convert:hover {\n",
              "      background-color: #434B5C;\n",
              "      box-shadow: 0px 1px 3px 1px rgba(0, 0, 0, 0.15);\n",
              "      filter: drop-shadow(0px 1px 2px rgba(0, 0, 0, 0.3));\n",
              "      fill: #FFFFFF;\n",
              "    }\n",
              "  </style>\n",
              "\n",
              "      <script>\n",
              "        const buttonEl =\n",
              "          document.querySelector('#df-94e79c01-4b5c-45e6-839e-09715e490699 button.colab-df-convert');\n",
              "        buttonEl.style.display =\n",
              "          google.colab.kernel.accessAllowed ? 'block' : 'none';\n",
              "\n",
              "        async function convertToInteractive(key) {\n",
              "          const element = document.querySelector('#df-94e79c01-4b5c-45e6-839e-09715e490699');\n",
              "          const dataTable =\n",
              "            await google.colab.kernel.invokeFunction('convertToInteractive',\n",
              "                                                     [key], {});\n",
              "          if (!dataTable) return;\n",
              "\n",
              "          const docLinkHtml = 'Like what you see? Visit the ' +\n",
              "            '<a target=\"_blank\" href=https://colab.research.google.com/notebooks/data_table.ipynb>data table notebook</a>'\n",
              "            + ' to learn more about interactive tables.';\n",
              "          element.innerHTML = '';\n",
              "          dataTable['output_type'] = 'display_data';\n",
              "          await google.colab.output.renderOutput(dataTable, element);\n",
              "          const docLink = document.createElement('div');\n",
              "          docLink.innerHTML = docLinkHtml;\n",
              "          element.appendChild(docLink);\n",
              "        }\n",
              "      </script>\n",
              "    </div>\n",
              "  </div>\n",
              "  "
            ]
          },
          "metadata": {}
        }
      ],
      "source": [
        "# Remove Punctuation\n",
        "punc_list = list(string.punctuation)\n",
        "def remove_punctuation(text, punct_list):\n",
        "    for punc in punct_list:\n",
        "        if punc in text:\n",
        "            text = text.replace(punc, ' ')\n",
        "    return text\n",
        "\n",
        "new_df = new_df.applymap(lambda s: remove_punctuation(s, punc_list) if type(s) == str else s)\n",
        "display(new_df.head(5))"
      ]
    },
    {
      "cell_type": "code",
      "execution_count": 13,
      "metadata": {
        "colab": {
          "base_uri": "https://localhost:8080/",
          "height": 600
        },
        "id": "-zl9Z_UEh9Mp",
        "outputId": "7dd92786-e0b4-4867-b03d-0b6a943bb640"
      },
      "outputs": [
        {
          "output_type": "display_data",
          "data": {
            "text/plain": [
              "   job_id                                          title  \\\n",
              "0       1                            [marketing, intern]   \n",
              "1       2  [customer, service, cloud, video, production]   \n",
              "2       3     [commissioning, machinery, assistant, cma]   \n",
              "3       4           [account, executive, washington, dc]   \n",
              "4       5                        [bill, review, manager]   \n",
              "\n",
              "                location   department salary_range  \\\n",
              "0    [us, ny, new, york]  [marketing]           []   \n",
              "1         [nz, auckland]    [success]           []   \n",
              "2        [us, ia, wever]           []           []   \n",
              "3   [us, dc, washington]      [sales]           []   \n",
              "4  [us, fl, fort, worth]           []           []   \n",
              "\n",
              "                                     company_profile  \\\n",
              "0  [we, re, food52, and, we, ve, created, a, grou...   \n",
              "1  [90, seconds, the, worlds, cloud, video, produ...   \n",
              "2  [valor, services, provides, workforce, solutio...   \n",
              "3  [our, passion, for, improving, quality, of, li...   \n",
              "4  [spotsource, solutions, llc, is, a, global, hu...   \n",
              "\n",
              "                                         description  \\\n",
              "0  [food52, a, fast, growing, james, beard, award...   \n",
              "1  [organised, focused, vibrant, awesome, do, you...   \n",
              "2  [our, client, located, in, houston, is, active...   \n",
              "3  [the, company, esri, –, environmental, systems...   \n",
              "4  [job, title, itemization, review, managerlocat...   \n",
              "\n",
              "                                        requirements  \\\n",
              "0  [experience, with, content, management, system...   \n",
              "1  [what, we, expect, from, you, your, key, respo...   \n",
              "2  [implement, pre, commissioning, and, commissio...   \n",
              "3  [education, bachelor, ’, s, or, master, ’, s, ...   \n",
              "4  [qualifications, rn, license, in, the, state, ...   \n",
              "\n",
              "                                            benefits  telecommuting  \\\n",
              "0                                                 []              0   \n",
              "1  [what, you, will, get, from, usthrough, being,...              0   \n",
              "2                                                 []              0   \n",
              "3  [our, culture, is, anything, but, corporate—we...              0   \n",
              "4                          [full, benefits, offered]              0   \n",
              "\n",
              "   has_company_logo  has_questions employment_type   required_experience  \\\n",
              "0                 1              0         [other]          [internship]   \n",
              "1                 1              0    [full, time]     [not, applicable]   \n",
              "2                 1              0              []                    []   \n",
              "3                 1              0    [full, time]  [mid, senior, level]   \n",
              "4                 1              1    [full, time]  [mid, senior, level]   \n",
              "\n",
              "      required_education                       industry  \\\n",
              "0                     []                             []   \n",
              "1                     []  [marketing, and, advertising]   \n",
              "2                     []                             []   \n",
              "3  [bachelor, s, degree]           [computer, software]   \n",
              "4  [bachelor, s, degree]       [hospital, health, care]   \n",
              "\n",
              "                   function  fraudulent  \n",
              "0               [marketing]           0  \n",
              "1       [customer, service]           0  \n",
              "2                        []           0  \n",
              "3                   [sales]           0  \n",
              "4  [health, care, provider]           0  "
            ],
            "text/html": [
              "\n",
              "  <div id=\"df-7b1f7601-ab28-4488-b17f-5b90883eb865\">\n",
              "    <div class=\"colab-df-container\">\n",
              "      <div>\n",
              "<style scoped>\n",
              "    .dataframe tbody tr th:only-of-type {\n",
              "        vertical-align: middle;\n",
              "    }\n",
              "\n",
              "    .dataframe tbody tr th {\n",
              "        vertical-align: top;\n",
              "    }\n",
              "\n",
              "    .dataframe thead th {\n",
              "        text-align: right;\n",
              "    }\n",
              "</style>\n",
              "<table border=\"1\" class=\"dataframe\">\n",
              "  <thead>\n",
              "    <tr style=\"text-align: right;\">\n",
              "      <th></th>\n",
              "      <th>job_id</th>\n",
              "      <th>title</th>\n",
              "      <th>location</th>\n",
              "      <th>department</th>\n",
              "      <th>salary_range</th>\n",
              "      <th>company_profile</th>\n",
              "      <th>description</th>\n",
              "      <th>requirements</th>\n",
              "      <th>benefits</th>\n",
              "      <th>telecommuting</th>\n",
              "      <th>has_company_logo</th>\n",
              "      <th>has_questions</th>\n",
              "      <th>employment_type</th>\n",
              "      <th>required_experience</th>\n",
              "      <th>required_education</th>\n",
              "      <th>industry</th>\n",
              "      <th>function</th>\n",
              "      <th>fraudulent</th>\n",
              "    </tr>\n",
              "  </thead>\n",
              "  <tbody>\n",
              "    <tr>\n",
              "      <th>0</th>\n",
              "      <td>1</td>\n",
              "      <td>[marketing, intern]</td>\n",
              "      <td>[us, ny, new, york]</td>\n",
              "      <td>[marketing]</td>\n",
              "      <td>[]</td>\n",
              "      <td>[we, re, food52, and, we, ve, created, a, grou...</td>\n",
              "      <td>[food52, a, fast, growing, james, beard, award...</td>\n",
              "      <td>[experience, with, content, management, system...</td>\n",
              "      <td>[]</td>\n",
              "      <td>0</td>\n",
              "      <td>1</td>\n",
              "      <td>0</td>\n",
              "      <td>[other]</td>\n",
              "      <td>[internship]</td>\n",
              "      <td>[]</td>\n",
              "      <td>[]</td>\n",
              "      <td>[marketing]</td>\n",
              "      <td>0</td>\n",
              "    </tr>\n",
              "    <tr>\n",
              "      <th>1</th>\n",
              "      <td>2</td>\n",
              "      <td>[customer, service, cloud, video, production]</td>\n",
              "      <td>[nz, auckland]</td>\n",
              "      <td>[success]</td>\n",
              "      <td>[]</td>\n",
              "      <td>[90, seconds, the, worlds, cloud, video, produ...</td>\n",
              "      <td>[organised, focused, vibrant, awesome, do, you...</td>\n",
              "      <td>[what, we, expect, from, you, your, key, respo...</td>\n",
              "      <td>[what, you, will, get, from, usthrough, being,...</td>\n",
              "      <td>0</td>\n",
              "      <td>1</td>\n",
              "      <td>0</td>\n",
              "      <td>[full, time]</td>\n",
              "      <td>[not, applicable]</td>\n",
              "      <td>[]</td>\n",
              "      <td>[marketing, and, advertising]</td>\n",
              "      <td>[customer, service]</td>\n",
              "      <td>0</td>\n",
              "    </tr>\n",
              "    <tr>\n",
              "      <th>2</th>\n",
              "      <td>3</td>\n",
              "      <td>[commissioning, machinery, assistant, cma]</td>\n",
              "      <td>[us, ia, wever]</td>\n",
              "      <td>[]</td>\n",
              "      <td>[]</td>\n",
              "      <td>[valor, services, provides, workforce, solutio...</td>\n",
              "      <td>[our, client, located, in, houston, is, active...</td>\n",
              "      <td>[implement, pre, commissioning, and, commissio...</td>\n",
              "      <td>[]</td>\n",
              "      <td>0</td>\n",
              "      <td>1</td>\n",
              "      <td>0</td>\n",
              "      <td>[]</td>\n",
              "      <td>[]</td>\n",
              "      <td>[]</td>\n",
              "      <td>[]</td>\n",
              "      <td>[]</td>\n",
              "      <td>0</td>\n",
              "    </tr>\n",
              "    <tr>\n",
              "      <th>3</th>\n",
              "      <td>4</td>\n",
              "      <td>[account, executive, washington, dc]</td>\n",
              "      <td>[us, dc, washington]</td>\n",
              "      <td>[sales]</td>\n",
              "      <td>[]</td>\n",
              "      <td>[our, passion, for, improving, quality, of, li...</td>\n",
              "      <td>[the, company, esri, –, environmental, systems...</td>\n",
              "      <td>[education, bachelor, ’, s, or, master, ’, s, ...</td>\n",
              "      <td>[our, culture, is, anything, but, corporate—we...</td>\n",
              "      <td>0</td>\n",
              "      <td>1</td>\n",
              "      <td>0</td>\n",
              "      <td>[full, time]</td>\n",
              "      <td>[mid, senior, level]</td>\n",
              "      <td>[bachelor, s, degree]</td>\n",
              "      <td>[computer, software]</td>\n",
              "      <td>[sales]</td>\n",
              "      <td>0</td>\n",
              "    </tr>\n",
              "    <tr>\n",
              "      <th>4</th>\n",
              "      <td>5</td>\n",
              "      <td>[bill, review, manager]</td>\n",
              "      <td>[us, fl, fort, worth]</td>\n",
              "      <td>[]</td>\n",
              "      <td>[]</td>\n",
              "      <td>[spotsource, solutions, llc, is, a, global, hu...</td>\n",
              "      <td>[job, title, itemization, review, managerlocat...</td>\n",
              "      <td>[qualifications, rn, license, in, the, state, ...</td>\n",
              "      <td>[full, benefits, offered]</td>\n",
              "      <td>0</td>\n",
              "      <td>1</td>\n",
              "      <td>1</td>\n",
              "      <td>[full, time]</td>\n",
              "      <td>[mid, senior, level]</td>\n",
              "      <td>[bachelor, s, degree]</td>\n",
              "      <td>[hospital, health, care]</td>\n",
              "      <td>[health, care, provider]</td>\n",
              "      <td>0</td>\n",
              "    </tr>\n",
              "  </tbody>\n",
              "</table>\n",
              "</div>\n",
              "      <button class=\"colab-df-convert\" onclick=\"convertToInteractive('df-7b1f7601-ab28-4488-b17f-5b90883eb865')\"\n",
              "              title=\"Convert this dataframe to an interactive table.\"\n",
              "              style=\"display:none;\">\n",
              "        \n",
              "  <svg xmlns=\"http://www.w3.org/2000/svg\" height=\"24px\"viewBox=\"0 0 24 24\"\n",
              "       width=\"24px\">\n",
              "    <path d=\"M0 0h24v24H0V0z\" fill=\"none\"/>\n",
              "    <path d=\"M18.56 5.44l.94 2.06.94-2.06 2.06-.94-2.06-.94-.94-2.06-.94 2.06-2.06.94zm-11 1L8.5 8.5l.94-2.06 2.06-.94-2.06-.94L8.5 2.5l-.94 2.06-2.06.94zm10 10l.94 2.06.94-2.06 2.06-.94-2.06-.94-.94-2.06-.94 2.06-2.06.94z\"/><path d=\"M17.41 7.96l-1.37-1.37c-.4-.4-.92-.59-1.43-.59-.52 0-1.04.2-1.43.59L10.3 9.45l-7.72 7.72c-.78.78-.78 2.05 0 2.83L4 21.41c.39.39.9.59 1.41.59.51 0 1.02-.2 1.41-.59l7.78-7.78 2.81-2.81c.8-.78.8-2.07 0-2.86zM5.41 20L4 18.59l7.72-7.72 1.47 1.35L5.41 20z\"/>\n",
              "  </svg>\n",
              "      </button>\n",
              "      \n",
              "  <style>\n",
              "    .colab-df-container {\n",
              "      display:flex;\n",
              "      flex-wrap:wrap;\n",
              "      gap: 12px;\n",
              "    }\n",
              "\n",
              "    .colab-df-convert {\n",
              "      background-color: #E8F0FE;\n",
              "      border: none;\n",
              "      border-radius: 50%;\n",
              "      cursor: pointer;\n",
              "      display: none;\n",
              "      fill: #1967D2;\n",
              "      height: 32px;\n",
              "      padding: 0 0 0 0;\n",
              "      width: 32px;\n",
              "    }\n",
              "\n",
              "    .colab-df-convert:hover {\n",
              "      background-color: #E2EBFA;\n",
              "      box-shadow: 0px 1px 2px rgba(60, 64, 67, 0.3), 0px 1px 3px 1px rgba(60, 64, 67, 0.15);\n",
              "      fill: #174EA6;\n",
              "    }\n",
              "\n",
              "    [theme=dark] .colab-df-convert {\n",
              "      background-color: #3B4455;\n",
              "      fill: #D2E3FC;\n",
              "    }\n",
              "\n",
              "    [theme=dark] .colab-df-convert:hover {\n",
              "      background-color: #434B5C;\n",
              "      box-shadow: 0px 1px 3px 1px rgba(0, 0, 0, 0.15);\n",
              "      filter: drop-shadow(0px 1px 2px rgba(0, 0, 0, 0.3));\n",
              "      fill: #FFFFFF;\n",
              "    }\n",
              "  </style>\n",
              "\n",
              "      <script>\n",
              "        const buttonEl =\n",
              "          document.querySelector('#df-7b1f7601-ab28-4488-b17f-5b90883eb865 button.colab-df-convert');\n",
              "        buttonEl.style.display =\n",
              "          google.colab.kernel.accessAllowed ? 'block' : 'none';\n",
              "\n",
              "        async function convertToInteractive(key) {\n",
              "          const element = document.querySelector('#df-7b1f7601-ab28-4488-b17f-5b90883eb865');\n",
              "          const dataTable =\n",
              "            await google.colab.kernel.invokeFunction('convertToInteractive',\n",
              "                                                     [key], {});\n",
              "          if (!dataTable) return;\n",
              "\n",
              "          const docLinkHtml = 'Like what you see? Visit the ' +\n",
              "            '<a target=\"_blank\" href=https://colab.research.google.com/notebooks/data_table.ipynb>data table notebook</a>'\n",
              "            + ' to learn more about interactive tables.';\n",
              "          element.innerHTML = '';\n",
              "          dataTable['output_type'] = 'display_data';\n",
              "          await google.colab.output.renderOutput(dataTable, element);\n",
              "          const docLink = document.createElement('div');\n",
              "          docLink.innerHTML = docLinkHtml;\n",
              "          element.appendChild(docLink);\n",
              "        }\n",
              "      </script>\n",
              "    </div>\n",
              "  </div>\n",
              "  "
            ]
          },
          "metadata": {}
        }
      ],
      "source": [
        "# Tokenize each text column\n",
        "token_df = new_df.copy()\n",
        "for column in new_df.columns:\n",
        "    token_df[column] = new_df[column].apply(lambda s: word_tokenize(s) if type(s) == str else s)\n",
        "display(token_df.head(5))"
      ]
    },
    {
      "cell_type": "markdown",
      "source": [
        "### tokenizer "
      ],
      "metadata": {
        "id": "AILw9JOa5438"
      }
    },
    {
      "cell_type": "code",
      "execution_count": 14,
      "metadata": {
        "id": "1I2njQ_SoAMj"
      },
      "outputs": [],
      "source": [
        "from keras.preprocessing.text import Tokenizer\n",
        "from keras.utils import pad_sequences\n",
        "from keras.models import Sequential\n",
        "from keras.layers import Dense, Embedding, LSTM, Conv1D, MaxPool1D\n",
        "from sklearn.model_selection import train_test_split\n",
        "from sklearn.metrics import classification_report, accuracy_score"
      ]
    },
    {
      "cell_type": "code",
      "execution_count": 15,
      "metadata": {
        "id": "KJpGeXjnn3Cb"
      },
      "outputs": [],
      "source": [
        "tokenizer = Tokenizer()\n",
        "tokenizer.fit_on_texts(token_df['description'])\n",
        "\n",
        "X = tokenizer.texts_to_sequences(token_df['description'])"
      ]
    },
    {
      "cell_type": "code",
      "execution_count": 16,
      "metadata": {
        "colab": {
          "base_uri": "https://localhost:8080/"
        },
        "id": "ujcQnLiTou0k",
        "outputId": "06fc9b42-4397-4a46-caaa-ef43af74b7ef"
      },
      "outputs": [
        {
          "output_type": "execute_result",
          "data": {
            "text/plain": [
              "[3025, 5, 149, 96, 5426, 7320, 808, 759, 173, 547]"
            ]
          },
          "metadata": {},
          "execution_count": 16
        }
      ],
      "source": [
        "X[0][:10]"
      ]
    },
    {
      "cell_type": "code",
      "execution_count": 17,
      "metadata": {
        "colab": {
          "base_uri": "https://localhost:8080/"
        },
        "id": "eMtBEjyCo0UR",
        "outputId": "4efd6197-35a5-4f4f-bc0e-25bf2b73377c"
      },
      "outputs": [
        {
          "output_type": "stream",
          "name": "stdout",
          "text": [
            "and -> 1\n",
            "the -> 2\n",
            "to -> 3\n",
            "of -> 4\n",
            "a -> 5\n",
            "in -> 6\n",
            "for -> 7\n",
            "with -> 8\n",
            "you -> 9\n",
            "our -> 10\n"
          ]
        }
      ],
      "source": [
        "word_index = tokenizer.word_index\n",
        "for word, num in word_index.items():\n",
        "    print(f\"{word} -> {num}\")\n",
        "    if num == 10:\n",
        "        break    "
      ]
    },
    {
      "cell_type": "code",
      "execution_count": 18,
      "metadata": {
        "colab": {
          "base_uri": "https://localhost:8080/",
          "height": 265
        },
        "id": "6DH_pb9Co2H7",
        "outputId": "eab3c095-a8c0-4b6a-bcd5-0d42fed22779"
      },
      "outputs": [
        {
          "output_type": "display_data",
          "data": {
            "text/plain": [
              "<Figure size 432x288 with 1 Axes>"
            ],
            "image/png": "[encoded data removed]"
          },
          "metadata": {
            "needs_background": "light"
          }
        }
      ],
      "source": [
        "import matplotlib.pyplot as plt\n",
        "plt.hist([len(x) for x in X], bins=500)\n",
        "plt.show()"
      ]
    },
    {
      "cell_type": "code",
      "execution_count": 19,
      "metadata": {
        "colab": {
          "base_uri": "https://localhost:8080/"
        },
        "id": "poDO1hGlo5pA",
        "outputId": "9e537b8b-d220-4b96-86c9-0b94758ac7ad"
      },
      "outputs": [
        {
          "output_type": "execute_result",
          "data": {
            "text/plain": [
              "17772"
            ]
          },
          "metadata": {},
          "execution_count": 19
        }
      ],
      "source": [
        "import numpy as np\n",
        "nos = np.array([len(x) for x in X])\n",
        "len(nos[nos  < 700])\n"
      ]
    },
    {
      "cell_type": "code",
      "execution_count": 20,
      "metadata": {
        "id": "U1op4Orbo9Ez"
      },
      "outputs": [],
      "source": [
        "#Lets keep all descriptions to 700, add padding to descriptions with less than 700 words and truncating long ones\n",
        "maxlen = 700 \n",
        "\n",
        "#Making all descriptions of size maxlen defined above\n",
        "X = pad_sequences(X, maxlen=maxlen)"
      ]
    },
    {
      "cell_type": "code",
      "execution_count": 21,
      "metadata": {
        "colab": {
          "base_uri": "https://localhost:8080/"
        },
        "id": "2lrU_nBMpBJY",
        "outputId": "105d6167-bafb-4073-defa-ba5ee785e454"
      },
      "outputs": [
        {
          "output_type": "execute_result",
          "data": {
            "text/plain": [
              "700"
            ]
          },
          "metadata": {},
          "execution_count": 21
        }
      ],
      "source": [
        "#all descriptions has 700 words (in numerical form now). If they had less words, they have been padded with 0\n",
        "# 0 is not associated to any word, as mapping of words started from 1\n",
        "# 0 will also be used later, if unknows word is encountered in test set\n",
        "len(X[0])"
      ]
    },
    {
      "cell_type": "code",
      "execution_count": 22,
      "metadata": {
        "id": "anrg5N5tpHfj"
      },
      "outputs": [],
      "source": [
        "# Adding 1 because of reserved 0 index\n",
        "# Embedding Layer creates one more vector for \"UNKNOWN\" words, or padded words (0s). This Vector is filled with zeros.\n",
        "# Thus our vocab size inceeases by 1\n",
        "vocab_size = len(tokenizer.word_index) + 1"
      ]
    },
    {
      "cell_type": "code",
      "source": [
        "y = df['fraudulent']"
      ],
      "metadata": {
        "id": "zVJwgGMD-_Vt"
      },
      "execution_count": 23,
      "outputs": []
    },
    {
      "cell_type": "markdown",
      "source": [
        "### oversample"
      ],
      "metadata": {
        "id": "h-P0pUyzwvU6"
      }
    },
    {
      "cell_type": "code",
      "source": [
        "from imblearn.over_sampling import RandomOverSampler"
      ],
      "metadata": {
        "id": "SvZkpfoOxPH8"
      },
      "execution_count": 24,
      "outputs": []
    },
    {
      "cell_type": "code",
      "source": [
        "oversample = RandomOverSampler(sampling_strategy='minority')"
      ],
      "metadata": {
        "id": "9wM-e7Cnw8cq"
      },
      "execution_count": 25,
      "outputs": []
    },
    {
      "cell_type": "code",
      "source": [
        "y.value_counts().plot.bar()"
      ],
      "metadata": {
        "id": "TBez8HEky-4g",
        "outputId": "45b7858e-2bda-4f7a-c8aa-e583541bb866",
        "colab": {
          "base_uri": "https://localhost:8080/",
          "height": 279
        }
      },
      "execution_count": 26,
      "outputs": [
        {
          "output_type": "execute_result",
          "data": {
            "text/plain": [
              "<matplotlib.axes._subplots.AxesSubplot at 0x7fc344c47190>"
            ]
          },
          "metadata": {},
          "execution_count": 26
        },
        {
          "output_type": "display_data",
          "data": {
            "text/plain": [
              "<Figure size 432x288 with 1 Axes>"
            ],
            "image/png": "[encoded data removed]"
          },
          "metadata": {
            "needs_background": "light"
          }
        }
      ]
    },
    {
      "cell_type": "code",
      "source": [
        "X_train, X_test, y_train, y_test = train_test_split(X, y)"
      ],
      "metadata": {
        "id": "qVJFp664_BQg"
      },
      "execution_count": 28,
      "outputs": []
    },
    {
      "cell_type": "code",
      "source": [
        "X_train, y_train = oversample.fit_resample(X_train, y_train)"
      ],
      "metadata": {
        "id": "0mODa4qnxQ43"
      },
      "execution_count": 29,
      "outputs": []
    },
    {
      "cell_type": "code",
      "source": [
        "y_train.value_counts().plot.bar()"
      ],
      "metadata": {
        "id": "sgL7tOG5yyHh",
        "outputId": "e3b9b77e-de43-4fb0-e09b-2a1413d26f83",
        "colab": {
          "base_uri": "https://localhost:8080/",
          "height": 279
        }
      },
      "execution_count": 31,
      "outputs": [
        {
          "output_type": "execute_result",
          "data": {
            "text/plain": [
              "<matplotlib.axes._subplots.AxesSubplot at 0x7fc3440b2700>"
            ]
          },
          "metadata": {},
          "execution_count": 31
        },
        {
          "output_type": "display_data",
          "data": {
            "text/plain": [
              "<Figure size 432x288 with 1 Axes>"
            ],
            "image/png": "[encoded data removed]"
          },
          "metadata": {
            "needs_background": "light"
          }
        }
      ]
    },
    {
      "cell_type": "markdown",
      "source": [
        "## Model Training"
      ],
      "metadata": {
        "id": "ClgnzAl25lfR"
      }
    },
    {
      "cell_type": "markdown",
      "source": [
        "### model with no embedding layer"
      ],
      "metadata": {
        "id": "MHW90M8qA5s8"
      }
    },
    {
      "cell_type": "code",
      "source": [
        "#Defining Neural Network\n",
        "model = Sequential()\n",
        "#Non-trainable embeddidng layer\n",
        "#LSTM \n",
        "model.add(LSTM(units=128,input_shape=(700, 1)))\n",
        "model.add(Dense(1, activation='sigmoid'))\n",
        "model.compile(optimizer='adam', loss='binary_crossentropy', metrics=['acc'])\n"
      ],
      "metadata": {
        "id": "Uf4B9u6b-iIj"
      },
      "execution_count": 32,
      "outputs": []
    },
    {
      "cell_type": "code",
      "source": [
        "model.summary()"
      ],
      "metadata": {
        "colab": {
          "base_uri": "https://localhost:8080/"
        },
        "id": "EFOBTX2t-xzK",
        "outputId": "794d99cb-68b5-4128-d2f7-84038b77b296"
      },
      "execution_count": 33,
      "outputs": [
        {
          "output_type": "stream",
          "name": "stdout",
          "text": [
            "Model: \"sequential\"\n",
            "_________________________________________________________________\n",
            " Layer (type)                Output Shape              Param #   \n",
            "=================================================================\n",
            " lstm (LSTM)                 (None, 128)               66560     \n",
            "                                                                 \n",
            " dense (Dense)               (None, 1)                 129       \n",
            "                                                                 \n",
            "=================================================================\n",
            "Total params: 66,689\n",
            "Trainable params: 66,689\n",
            "Non-trainable params: 0\n",
            "_________________________________________________________________\n"
          ]
        }
      ]
    },
    {
      "cell_type": "code",
      "source": [
        "model.fit(X_train, y_train, validation_split=0.3, epochs=6)"
      ],
      "metadata": {
        "colab": {
          "base_uri": "https://localhost:8080/"
        },
        "id": "r_xfsYuc-zr9",
        "outputId": "b589f1c3-6650-456e-ce17-2cc174953e7e"
      },
      "execution_count": 34,
      "outputs": [
        {
          "output_type": "stream",
          "name": "stdout",
          "text": [
            "Epoch 1/6\n",
            "558/558 [==============================] - 28s 38ms/step - loss: 0.5727 - acc: 0.7244 - val_loss: 0.9599 - val_acc: 0.1352\n",
            "Epoch 2/6\n",
            "558/558 [==============================] - 21s 38ms/step - loss: 0.5433 - acc: 0.7355 - val_loss: 1.0332 - val_acc: 0.1055\n",
            "Epoch 3/6\n",
            "558/558 [==============================] - 22s 40ms/step - loss: 0.5084 - acc: 0.7564 - val_loss: 0.6318 - val_acc: 0.7098\n",
            "Epoch 4/6\n",
            "558/558 [==============================] - 23s 41ms/step - loss: 0.4374 - acc: 0.7967 - val_loss: 0.9041 - val_acc: 0.4859\n",
            "Epoch 5/6\n",
            "558/558 [==============================] - 21s 38ms/step - loss: 0.3898 - acc: 0.8292 - val_loss: 0.6997 - val_acc: 0.6645\n",
            "Epoch 6/6\n",
            "558/558 [==============================] - 21s 38ms/step - loss: 0.3444 - acc: 0.8544 - val_loss: 0.6345 - val_acc: 0.7034\n"
          ]
        },
        {
          "output_type": "execute_result",
          "data": {
            "text/plain": [
              "<keras.callbacks.History at 0x7fc330361640>"
            ]
          },
          "metadata": {},
          "execution_count": 34
        }
      ]
    },
    {
      "cell_type": "code",
      "source": [
        "y_pred = (model.predict(X_test) >= 0.5).astype(\"int\")"
      ],
      "metadata": {
        "colab": {
          "base_uri": "https://localhost:8080/"
        },
        "id": "Zc6XbQwb-12I",
        "outputId": "9bc57573-5c58-408d-bb65-59770ab9df6f"
      },
      "execution_count": 35,
      "outputs": [
        {
          "output_type": "stream",
          "name": "stdout",
          "text": [
            "140/140 [==============================] - 2s 14ms/step\n"
          ]
        }
      ]
    },
    {
      "cell_type": "code",
      "source": [
        "print(classification_report(y_test, y_pred))"
      ],
      "metadata": {
        "colab": {
          "base_uri": "https://localhost:8080/"
        },
        "id": "qwBysA1I-5hS",
        "outputId": "c91ca76d-1398-4f2a-e035-43f757be815e"
      },
      "execution_count": 36,
      "outputs": [
        {
          "output_type": "stream",
          "name": "stdout",
          "text": [
            "              precision    recall  f1-score   support\n",
            "\n",
            "           0       0.98      0.93      0.95      4272\n",
            "           1       0.26      0.51      0.35       198\n",
            "\n",
            "    accuracy                           0.92      4470\n",
            "   macro avg       0.62      0.72      0.65      4470\n",
            "weighted avg       0.94      0.92      0.93      4470\n",
            "\n"
          ]
        }
      ]
    },
    {
      "cell_type": "markdown",
      "source": [
        "### model with word2Vec embedding layer"
      ],
      "metadata": {
        "id": "dbxj69bwBD5X"
      }
    },
    {
      "cell_type": "code",
      "source": [
        "EMBEDDING_DIM = 100"
      ],
      "metadata": {
        "id": "w5PZaepOeKER"
      },
      "execution_count": 37,
      "outputs": []
    },
    {
      "cell_type": "markdown",
      "source": [
        "#### word2vec"
      ],
      "metadata": {
        "id": "xyl5l88R6LFb"
      }
    },
    {
      "cell_type": "code",
      "execution_count": 38,
      "metadata": {
        "id": "2Miwj-OX6LFc"
      },
      "outputs": [],
      "source": [
        "import gensim"
      ]
    },
    {
      "cell_type": "code",
      "execution_count": 39,
      "metadata": {
        "id": "5-YvXYn-6LFd"
      },
      "outputs": [],
      "source": [
        "sentence = token_df['description']"
      ]
    },
    {
      "cell_type": "code",
      "execution_count": 40,
      "metadata": {
        "colab": {
          "base_uri": "https://localhost:8080/"
        },
        "outputId": "4ec6f4a3-59ed-4890-e2f7-e5e27f7aeb7e",
        "id": "NT9wCqIa6LFd"
      },
      "outputs": [
        {
          "output_type": "stream",
          "name": "stdout",
          "text": [
            "<class 'pandas.core.series.Series'>\n",
            "(17880,)\n",
            "0        [food52, a, fast, growing, james, beard, award...\n",
            "1        [organised, focused, vibrant, awesome, do, you...\n",
            "2        [our, client, located, in, houston, is, active...\n",
            "3        [the, company, esri, –, environmental, systems...\n",
            "4        [job, title, itemization, review, managerlocat...\n",
            "                               ...                        \n",
            "17875    [just, in, case, this, is, the, first, time, y...\n",
            "17876    [the, payroll, accountant, will, focus, primar...\n",
            "17877    [experienced, project, cost, control, staff, e...\n",
            "17878    [nemsia, studios, is, looking, for, an, experi...\n",
            "17879    [who, are, we, vend, is, an, award, winning, w...\n",
            "Name: description, Length: 17880, dtype: object\n"
          ]
        }
      ],
      "source": [
        "print(type(sentence))\n",
        "print(sentence.shape)\n",
        "print(sentence)"
      ]
    },
    {
      "cell_type": "code",
      "execution_count": 41,
      "metadata": {
        "colab": {
          "base_uri": "https://localhost:8080/"
        },
        "outputId": "b7b13625-4238-4d01-f480-e652f1539954",
        "id": "YoFarlOR6LFe"
      },
      "outputs": [
        {
          "output_type": "execute_result",
          "data": {
            "text/plain": [
              "['organised', 'focused', 'vibrant', 'awesome', 'do']"
            ]
          },
          "metadata": {},
          "execution_count": 41
        }
      ],
      "source": [
        "sentence[1][:5]"
      ]
    },
    {
      "cell_type": "code",
      "execution_count": 42,
      "metadata": {
        "colab": {
          "base_uri": "https://localhost:8080/"
        },
        "outputId": "30703890-4037-418e-d60d-5d1e9b554b93",
        "id": "zWZ-zxly6LFf"
      },
      "outputs": [
        {
          "output_type": "execute_result",
          "data": {
            "text/plain": [
              "True"
            ]
          },
          "metadata": {},
          "execution_count": 42
        }
      ],
      "source": [
        "'reproducing' in sentence[0]"
      ]
    },
    {
      "cell_type": "code",
      "execution_count": 43,
      "metadata": {
        "id": "Bcel78Bt6LFf"
      },
      "outputs": [],
      "source": [
        "# initialize a model\n",
        "w2v_model = gensim.models.Word2Vec(sentence, size=100, min_count=1)"
      ]
    },
    {
      "cell_type": "code",
      "execution_count": 44,
      "metadata": {
        "colab": {
          "base_uri": "https://localhost:8080/"
        },
        "outputId": "cf157ad6-8ac4-4983-ca5c-6eab2775f3c4",
        "id": "2Vfv3pUa6LFg"
      },
      "outputs": [
        {
          "output_type": "stream",
          "name": "stdout",
          "text": [
            "[-0.00518327  0.08431755  0.05919987  0.06651188  0.06342727  0.00862301\n",
            " -0.01042647  0.00483552  0.10559431 -0.06524717  0.0809669   0.03590101\n",
            " -0.00757676 -0.02561159  0.06845244  0.02619552 -0.05188327  0.06386334\n",
            "  0.02766887 -0.0363299   0.03512274  0.01090013  0.08599228  0.04372822\n",
            "  0.06735161 -0.04808338  0.03828678 -0.05338065  0.03876881  0.04580018\n",
            "  0.01298678  0.06350946 -0.0134605   0.03370958 -0.02006252  0.07883039\n",
            "  0.1095686  -0.00673893  0.0120872   0.00528657 -0.04294407 -0.00238704\n",
            "  0.11330733  0.03873778  0.03230891 -0.10004899  0.00191989  0.05498117\n",
            "  0.01611616  0.03216738 -0.03508328 -0.06782183 -0.03920561 -0.00440549\n",
            " -0.03677589 -0.01087845 -0.00485177 -0.09703573 -0.04761985  0.04507991\n",
            " -0.0011341   0.00911287  0.02464436 -0.05085762  0.08806825 -0.12082963\n",
            " -0.0860632  -0.00464388 -0.08117698 -0.04186025  0.02106732 -0.03596786\n",
            "  0.02714962  0.04855424  0.03848006 -0.04094357  0.02980127 -0.0533108\n",
            " -0.00066304 -0.0442956  -0.00400487  0.04633043  0.02578946 -0.00266854\n",
            " -0.00669967 -0.04874536  0.03334678  0.01666229  0.05456201 -0.01519524\n",
            "  0.08421397 -0.07568096 -0.04767365 -0.04932996  0.0434511   0.04324397\n",
            " -0.00367136 -0.06893072 -0.0607464   0.00872109]\n"
          ]
        }
      ],
      "source": [
        "print(w2v_model.wv[\"reproducing\"])"
      ]
    },
    {
      "cell_type": "code",
      "execution_count": 45,
      "metadata": {
        "id": "BiUEDogJ6LFh"
      },
      "outputs": [],
      "source": [
        "def most_similar(w2v_model, words, topn=10):\n",
        "    similar_df = pd.DataFrame()\n",
        "    for word in words:\n",
        "        try:\n",
        "            similar_words = pd.DataFrame(w2v_model.wv.most_similar(word, topn=topn), columns=[word, 'cos'])\n",
        "            similar_df = pd.concat([similar_df, similar_words], axis=1)\n",
        "        except:\n",
        "            print(word, \"not found in Word2Vec model!\")\n",
        "    return similar_df"
      ]
    },
    {
      "cell_type": "code",
      "execution_count": 46,
      "metadata": {
        "colab": {
          "base_uri": "https://localhost:8080/",
          "height": 407
        },
        "outputId": "27a68106-dc36-4ea8-c245-2b7a5670a0eb",
        "id": "Ay6-6o5z6LFh"
      },
      "outputs": [
        {
          "output_type": "execute_result",
          "data": {
            "text/plain": [
              "              our       cos                        title       cos  \\\n",
              "0             its  0.653942       assistantdescriptionan  0.693247   \n",
              "1           their  0.562470                           jr  0.605125   \n",
              "2             the  0.512380                       titlel  0.589003   \n",
              "3         success  0.413488              loansassistance  0.586425   \n",
              "4          future  0.412833  descriptionresponsibilities  0.585636   \n",
              "5       maximised  0.411236    descriptionadministrative  0.573002   \n",
              "6  revenueeducate  0.408341                      2053job  0.565597   \n",
              "7    linesdevelop  0.408198                     covenant  0.563141   \n",
              "8          global  0.403829                      region2  0.559216   \n",
              "9            your  0.402919               descriptionthe  0.557367   \n",
              "\n",
              "                client       cos       company       cos  \n",
              "0             customer  0.703367  organization  0.625986  \n",
              "1              clients  0.615426  organisation  0.588851  \n",
              "2    miningparticipate  0.493103          firm  0.563182  \n",
              "3       feedbackassist  0.487051        agency  0.485346  \n",
              "4          stakeholder  0.485068    department  0.465083  \n",
              "5              partner  0.481919   capeability  0.463726  \n",
              "6            customers  0.481402       startup  0.452324  \n",
              "7             employee  0.477894      industry  0.449880  \n",
              "8  productscoordinates  0.470277            uk  0.439262  \n",
              "9               zingle  0.465897       rivalry  0.419789  "
            ],
            "text/html": [
              "\n",
              "  <div id=\"df-65832ab7-4f10-4ad2-80c7-35c7944bab29\">\n",
              "    <div class=\"colab-df-container\">\n",
              "      <div>\n",
              "<style scoped>\n",
              "    .dataframe tbody tr th:only-of-type {\n",
              "        vertical-align: middle;\n",
              "    }\n",
              "\n",
              "    .dataframe tbody tr th {\n",
              "        vertical-align: top;\n",
              "    }\n",
              "\n",
              "    .dataframe thead th {\n",
              "        text-align: right;\n",
              "    }\n",
              "</style>\n",
              "<table border=\"1\" class=\"dataframe\">\n",
              "  <thead>\n",
              "    <tr style=\"text-align: right;\">\n",
              "      <th></th>\n",
              "      <th>our</th>\n",
              "      <th>cos</th>\n",
              "      <th>title</th>\n",
              "      <th>cos</th>\n",
              "      <th>client</th>\n",
              "      <th>cos</th>\n",
              "      <th>company</th>\n",
              "      <th>cos</th>\n",
              "    </tr>\n",
              "  </thead>\n",
              "  <tbody>\n",
              "    <tr>\n",
              "      <th>0</th>\n",
              "      <td>its</td>\n",
              "      <td>0.653942</td>\n",
              "      <td>assistantdescriptionan</td>\n",
              "      <td>0.693247</td>\n",
              "      <td>customer</td>\n",
              "      <td>0.703367</td>\n",
              "      <td>organization</td>\n",
              "      <td>0.625986</td>\n",
              "    </tr>\n",
              "    <tr>\n",
              "      <th>1</th>\n",
              "      <td>their</td>\n",
              "      <td>0.562470</td>\n",
              "      <td>jr</td>\n",
              "      <td>0.605125</td>\n",
              "      <td>clients</td>\n",
              "      <td>0.615426</td>\n",
              "      <td>organisation</td>\n",
              "      <td>0.588851</td>\n",
              "    </tr>\n",
              "    <tr>\n",
              "      <th>2</th>\n",
              "      <td>the</td>\n",
              "      <td>0.512380</td>\n",
              "      <td>titlel</td>\n",
              "      <td>0.589003</td>\n",
              "      <td>miningparticipate</td>\n",
              "      <td>0.493103</td>\n",
              "      <td>firm</td>\n",
              "      <td>0.563182</td>\n",
              "    </tr>\n",
              "    <tr>\n",
              "      <th>3</th>\n",
              "      <td>success</td>\n",
              "      <td>0.413488</td>\n",
              "      <td>loansassistance</td>\n",
              "      <td>0.586425</td>\n",
              "      <td>feedbackassist</td>\n",
              "      <td>0.487051</td>\n",
              "      <td>agency</td>\n",
              "      <td>0.485346</td>\n",
              "    </tr>\n",
              "    <tr>\n",
              "      <th>4</th>\n",
              "      <td>future</td>\n",
              "      <td>0.412833</td>\n",
              "      <td>descriptionresponsibilities</td>\n",
              "      <td>0.585636</td>\n",
              "      <td>stakeholder</td>\n",
              "      <td>0.485068</td>\n",
              "      <td>department</td>\n",
              "      <td>0.465083</td>\n",
              "    </tr>\n",
              "    <tr>\n",
              "      <th>5</th>\n",
              "      <td>maximised</td>\n",
              "      <td>0.411236</td>\n",
              "      <td>descriptionadministrative</td>\n",
              "      <td>0.573002</td>\n",
              "      <td>partner</td>\n",
              "      <td>0.481919</td>\n",
              "      <td>capeability</td>\n",
              "      <td>0.463726</td>\n",
              "    </tr>\n",
              "    <tr>\n",
              "      <th>6</th>\n",
              "      <td>revenueeducate</td>\n",
              "      <td>0.408341</td>\n",
              "      <td>2053job</td>\n",
              "      <td>0.565597</td>\n",
              "      <td>customers</td>\n",
              "      <td>0.481402</td>\n",
              "      <td>startup</td>\n",
              "      <td>0.452324</td>\n",
              "    </tr>\n",
              "    <tr>\n",
              "      <th>7</th>\n",
              "      <td>linesdevelop</td>\n",
              "      <td>0.408198</td>\n",
              "      <td>covenant</td>\n",
              "      <td>0.563141</td>\n",
              "      <td>employee</td>\n",
              "      <td>0.477894</td>\n",
              "      <td>industry</td>\n",
              "      <td>0.449880</td>\n",
              "    </tr>\n",
              "    <tr>\n",
              "      <th>8</th>\n",
              "      <td>global</td>\n",
              "      <td>0.403829</td>\n",
              "      <td>region2</td>\n",
              "      <td>0.559216</td>\n",
              "      <td>productscoordinates</td>\n",
              "      <td>0.470277</td>\n",
              "      <td>uk</td>\n",
              "      <td>0.439262</td>\n",
              "    </tr>\n",
              "    <tr>\n",
              "      <th>9</th>\n",
              "      <td>your</td>\n",
              "      <td>0.402919</td>\n",
              "      <td>descriptionthe</td>\n",
              "      <td>0.557367</td>\n",
              "      <td>zingle</td>\n",
              "      <td>0.465897</td>\n",
              "      <td>rivalry</td>\n",
              "      <td>0.419789</td>\n",
              "    </tr>\n",
              "  </tbody>\n",
              "</table>\n",
              "</div>\n",
              "      <button class=\"colab-df-convert\" onclick=\"convertToInteractive('df-65832ab7-4f10-4ad2-80c7-35c7944bab29')\"\n",
              "              title=\"Convert this dataframe to an interactive table.\"\n",
              "              style=\"display:none;\">\n",
              "        \n",
              "  <svg xmlns=\"http://www.w3.org/2000/svg\" height=\"24px\"viewBox=\"0 0 24 24\"\n",
              "       width=\"24px\">\n",
              "    <path d=\"M0 0h24v24H0V0z\" fill=\"none\"/>\n",
              "    <path d=\"M18.56 5.44l.94 2.06.94-2.06 2.06-.94-2.06-.94-.94-2.06-.94 2.06-2.06.94zm-11 1L8.5 8.5l.94-2.06 2.06-.94-2.06-.94L8.5 2.5l-.94 2.06-2.06.94zm10 10l.94 2.06.94-2.06 2.06-.94-2.06-.94-.94-2.06-.94 2.06-2.06.94z\"/><path d=\"M17.41 7.96l-1.37-1.37c-.4-.4-.92-.59-1.43-.59-.52 0-1.04.2-1.43.59L10.3 9.45l-7.72 7.72c-.78.78-.78 2.05 0 2.83L4 21.41c.39.39.9.59 1.41.59.51 0 1.02-.2 1.41-.59l7.78-7.78 2.81-2.81c.8-.78.8-2.07 0-2.86zM5.41 20L4 18.59l7.72-7.72 1.47 1.35L5.41 20z\"/>\n",
              "  </svg>\n",
              "      </button>\n",
              "      \n",
              "  <style>\n",
              "    .colab-df-container {\n",
              "      display:flex;\n",
              "      flex-wrap:wrap;\n",
              "      gap: 12px;\n",
              "    }\n",
              "\n",
              "    .colab-df-convert {\n",
              "      background-color: #E8F0FE;\n",
              "      border: none;\n",
              "      border-radius: 50%;\n",
              "      cursor: pointer;\n",
              "      display: none;\n",
              "      fill: #1967D2;\n",
              "      height: 32px;\n",
              "      padding: 0 0 0 0;\n",
              "      width: 32px;\n",
              "    }\n",
              "\n",
              "    .colab-df-convert:hover {\n",
              "      background-color: #E2EBFA;\n",
              "      box-shadow: 0px 1px 2px rgba(60, 64, 67, 0.3), 0px 1px 3px 1px rgba(60, 64, 67, 0.15);\n",
              "      fill: #174EA6;\n",
              "    }\n",
              "\n",
              "    [theme=dark] .colab-df-convert {\n",
              "      background-color: #3B4455;\n",
              "      fill: #D2E3FC;\n",
              "    }\n",
              "\n",
              "    [theme=dark] .colab-df-convert:hover {\n",
              "      background-color: #434B5C;\n",
              "      box-shadow: 0px 1px 3px 1px rgba(0, 0, 0, 0.15);\n",
              "      filter: drop-shadow(0px 1px 2px rgba(0, 0, 0, 0.3));\n",
              "      fill: #FFFFFF;\n",
              "    }\n",
              "  </style>\n",
              "\n",
              "      <script>\n",
              "        const buttonEl =\n",
              "          document.querySelector('#df-65832ab7-4f10-4ad2-80c7-35c7944bab29 button.colab-df-convert');\n",
              "        buttonEl.style.display =\n",
              "          google.colab.kernel.accessAllowed ? 'block' : 'none';\n",
              "\n",
              "        async function convertToInteractive(key) {\n",
              "          const element = document.querySelector('#df-65832ab7-4f10-4ad2-80c7-35c7944bab29');\n",
              "          const dataTable =\n",
              "            await google.colab.kernel.invokeFunction('convertToInteractive',\n",
              "                                                     [key], {});\n",
              "          if (!dataTable) return;\n",
              "\n",
              "          const docLinkHtml = 'Like what you see? Visit the ' +\n",
              "            '<a target=\"_blank\" href=https://colab.research.google.com/notebooks/data_table.ipynb>data table notebook</a>'\n",
              "            + ' to learn more about interactive tables.';\n",
              "          element.innerHTML = '';\n",
              "          dataTable['output_type'] = 'display_data';\n",
              "          await google.colab.output.renderOutput(dataTable, element);\n",
              "          const docLink = document.createElement('div');\n",
              "          docLink.innerHTML = docLinkHtml;\n",
              "          element.appendChild(docLink);\n",
              "        }\n",
              "      </script>\n",
              "    </div>\n",
              "  </div>\n",
              "  "
            ]
          },
          "metadata": {},
          "execution_count": 46
        }
      ],
      "source": [
        "most_similar(w2v_model,['our','title','client','company'])"
      ]
    },
    {
      "cell_type": "markdown",
      "source": [
        "#### create embedding_vectors"
      ],
      "metadata": {
        "id": "xfQKHgMp77ke"
      }
    },
    {
      "cell_type": "code",
      "execution_count": 47,
      "metadata": {
        "id": "S6g-8dSwpMdx"
      },
      "outputs": [],
      "source": [
        "# Function to create weight matrix from word2vec gensim model\n",
        "def get_weight_matrix(model, vocab):\n",
        "    # total vocabulary size plus 0 for unknown words\n",
        "    vocab_size = len(vocab) + 1\n",
        "    # define weight matrix dimensions with all 0\n",
        "    weight_matrix = np.zeros((vocab_size, EMBEDDING_DIM))\n",
        "    # step vocab, store vectors using the Tokenizer's integer mapping\n",
        "    for word, i in vocab.items():\n",
        "        weight_matrix[i] = model.wv[word]\n",
        "    return weight_matrix"
      ]
    },
    {
      "cell_type": "code",
      "execution_count": 48,
      "metadata": {
        "colab": {
          "base_uri": "https://localhost:8080/"
        },
        "id": "qKf5oMMgpjxb",
        "outputId": "6c3ff969-0779-4719-ce2e-853cdf9866ea"
      },
      "outputs": [
        {
          "output_type": "stream",
          "name": "stdout",
          "text": [
            "<class 'dict'>\n",
            "15409\n"
          ]
        }
      ],
      "source": [
        "print(type(word_index))\n",
        "print(word_index[\"reproducing\"])"
      ]
    },
    {
      "cell_type": "code",
      "execution_count": 49,
      "metadata": {
        "id": "vdqUrGHKpOaa"
      },
      "outputs": [],
      "source": [
        "#Getting embedding vectors from word2vec and usings it as weights of non-trainable keras embedding layer\n",
        "embedding_vectors = get_weight_matrix(w2v_model, word_index)"
      ]
    },
    {
      "cell_type": "code",
      "execution_count": 50,
      "metadata": {
        "colab": {
          "base_uri": "https://localhost:8080/"
        },
        "id": "QRPVMZUcooGP",
        "outputId": "ba0435a0-08e8-4d77-ac50-345d1274658c"
      },
      "outputs": [
        {
          "output_type": "execute_result",
          "data": {
            "text/plain": [
              "array([ 0.33709037,  0.21837068, -0.33391574,  1.2627165 ,  0.6514153 ,\n",
              "        0.36152765,  1.4599174 , -1.06542   ,  0.64897853, -1.5371325 ,\n",
              "        0.7319399 , -0.51465833, -0.01491926, -0.86131203, -1.7058154 ,\n",
              "       -0.2092274 ,  2.405142  , -0.04565348,  0.980847  ,  1.113193  ,\n",
              "        1.036317  , -1.1085527 ,  0.39730045,  0.6283926 , -0.04329399,\n",
              "        1.6851507 , -0.16995636,  2.1664073 ,  0.9062118 ,  1.2524837 ,\n",
              "        0.48509702, -1.0030248 ,  0.9150274 , -0.08380343, -0.12786666,\n",
              "        1.0451108 ,  0.30905408, -0.3230424 , -0.7656318 , -1.1567332 ,\n",
              "       -1.2013814 ,  0.19928929,  0.16113491, -0.6038085 , -0.68635106,\n",
              "        0.93165624,  0.5653366 ,  0.5125067 ,  0.6773274 ,  1.5246422 ,\n",
              "       -0.01218336, -0.647685  ,  0.42711473, -0.39218986, -0.45583194,\n",
              "        0.4193338 ,  1.2359134 ,  2.0094995 ,  0.17261663,  1.5287558 ,\n",
              "       -0.4068945 ,  0.12772286,  0.16280797,  0.65655065,  1.2666543 ,\n",
              "        1.1005689 , -1.1811637 ,  0.82444537,  1.5467927 ,  0.46314225,\n",
              "       -0.09716932, -0.86298025, -1.4816142 , -1.4354968 , -1.0962849 ,\n",
              "        0.74136645, -0.33624953, -0.63107294, -0.5503356 ,  0.10579463,\n",
              "       -0.84283805,  0.29485482,  0.66616875, -0.43540812,  0.8647394 ,\n",
              "        0.5890358 , -0.9322631 , -0.16087511, -1.2489196 , -0.71554387,\n",
              "       -0.63631   ,  0.8019732 , -0.824636  ,  0.02776608, -0.4665465 ,\n",
              "       -0.33770934,  1.0275517 ,  0.71316403, -1.039425  , -0.9117404 ],\n",
              "      dtype=float32)"
            ]
          },
          "metadata": {},
          "execution_count": 50
        }
      ],
      "source": [
        "w2v_model.wv['and']"
      ]
    },
    {
      "cell_type": "code",
      "execution_count": 51,
      "metadata": {
        "colab": {
          "base_uri": "https://localhost:8080/"
        },
        "id": "XVEbzMhZnaey",
        "outputId": "1f5b0145-aea7-4e67-ad40-498ac572c70b"
      },
      "outputs": [
        {
          "output_type": "execute_result",
          "data": {
            "text/plain": [
              "array([ 0.33709037,  0.21837068, -0.33391574,  1.26271653,  0.65141529,\n",
              "        0.36152765,  1.45991743, -1.06542003,  0.64897853, -1.5371325 ,\n",
              "        0.73193991, -0.51465833, -0.01491926, -0.86131203, -1.70581543,\n",
              "       -0.2092274 ,  2.40514207, -0.04565348,  0.980847  ,  1.11319304,\n",
              "        1.03631699, -1.10855269,  0.39730045,  0.62839258, -0.04329399,\n",
              "        1.68515074, -0.16995636,  2.16640735,  0.90621179,  1.25248373,\n",
              "        0.48509702, -1.00302482,  0.91502738, -0.08380343, -0.12786666,\n",
              "        1.04511082,  0.30905408, -0.32304239, -0.76563179, -1.15673316,\n",
              "       -1.20138144,  0.19928929,  0.16113491, -0.60380852, -0.68635106,\n",
              "        0.93165624,  0.56533659,  0.51250672,  0.67732739,  1.52464223,\n",
              "       -0.01218336, -0.64768499,  0.42711473, -0.39218986, -0.45583194,\n",
              "        0.41933379,  1.2359134 ,  2.00949955,  0.17261663,  1.52875578,\n",
              "       -0.40689451,  0.12772286,  0.16280797,  0.65655065,  1.26665425,\n",
              "        1.10056889, -1.18116367,  0.82444537,  1.54679275,  0.46314225,\n",
              "       -0.09716932, -0.86298025, -1.48161423, -1.43549681, -1.09628487,\n",
              "        0.74136645, -0.33624953, -0.63107294, -0.55033559,  0.10579463,\n",
              "       -0.84283805,  0.29485482,  0.66616875, -0.43540812,  0.86473942,\n",
              "        0.58903581, -0.93226308, -0.16087511, -1.24891961, -0.71554387,\n",
              "       -0.63630998,  0.80197322, -0.82463598,  0.02776608, -0.46654651,\n",
              "       -0.33770934,  1.02755165,  0.71316403, -1.03942502, -0.91174042])"
            ]
          },
          "metadata": {},
          "execution_count": 51
        }
      ],
      "source": [
        "embedding_vectors[1][:100]"
      ]
    },
    {
      "cell_type": "code",
      "source": [
        "embedding_vectors[1].size"
      ],
      "metadata": {
        "colab": {
          "base_uri": "https://localhost:8080/"
        },
        "id": "h7uUZzyH2CQT",
        "outputId": "9d09dace-df28-4a19-d561-90e5af51646c"
      },
      "execution_count": 52,
      "outputs": [
        {
          "output_type": "execute_result",
          "data": {
            "text/plain": [
              "100"
            ]
          },
          "metadata": {},
          "execution_count": 52
        }
      ]
    },
    {
      "cell_type": "markdown",
      "source": [
        "#### add embedding into model"
      ],
      "metadata": {
        "id": "g8Rnmk4b8Uj-"
      }
    },
    {
      "cell_type": "code",
      "execution_count": 53,
      "metadata": {
        "id": "ybHc2FaQx72k"
      },
      "outputs": [],
      "source": [
        "#Defining Neural Network\n",
        "model = Sequential()\n",
        "#Non-trainable embeddidng layer\n",
        "model.add(Embedding(vocab_size, output_dim=EMBEDDING_DIM, weights=[embedding_vectors], input_length=maxlen, trainable=False))\n",
        "#LSTM \n",
        "model.add(LSTM(units=128))\n",
        "model.add(Dense(1, activation='sigmoid'))\n",
        "model.compile(optimizer='adam', loss='binary_crossentropy', metrics=['acc'])\n"
      ]
    },
    {
      "cell_type": "code",
      "execution_count": 54,
      "metadata": {
        "colab": {
          "base_uri": "https://localhost:8080/"
        },
        "id": "XQjZIk2iyFJA",
        "outputId": "cb2d9e8f-489d-4316-f462-2a8b36dd5b15"
      },
      "outputs": [
        {
          "output_type": "stream",
          "name": "stdout",
          "text": [
            "Model: \"sequential_1\"\n",
            "_________________________________________________________________\n",
            " Layer (type)                Output Shape              Param #   \n",
            "=================================================================\n",
            " embedding (Embedding)       (None, 700, 100)          6429900   \n",
            "                                                                 \n",
            " lstm_1 (LSTM)               (None, 128)               117248    \n",
            "                                                                 \n",
            " dense_1 (Dense)             (None, 1)                 129       \n",
            "                                                                 \n",
            "=================================================================\n",
            "Total params: 6,547,277\n",
            "Trainable params: 117,377\n",
            "Non-trainable params: 6,429,900\n",
            "_________________________________________________________________\n"
          ]
        }
      ],
      "source": [
        "model.summary()"
      ]
    },
    {
      "cell_type": "code",
      "execution_count": 55,
      "metadata": {
        "colab": {
          "base_uri": "https://localhost:8080/"
        },
        "id": "uBAjmlXByXMF",
        "outputId": "a0bd8e97-0fa8-4eaf-adf0-e97f11af0f85"
      },
      "outputs": [
        {
          "output_type": "stream",
          "name": "stdout",
          "text": [
            "Epoch 1/6\n",
            "558/558 [==============================] - 29s 44ms/step - loss: 0.2962 - acc: 0.8721 - val_loss: 0.4129 - val_acc: 0.8378\n",
            "Epoch 2/6\n",
            "558/558 [==============================] - 23s 41ms/step - loss: 0.0931 - acc: 0.9687 - val_loss: 0.0805 - val_acc: 0.9780\n",
            "Epoch 3/6\n",
            "558/558 [==============================] - 23s 41ms/step - loss: 0.0293 - acc: 0.9920 - val_loss: 0.0930 - val_acc: 0.9643\n",
            "Epoch 4/6\n",
            "558/558 [==============================] - 25s 45ms/step - loss: 0.0215 - acc: 0.9938 - val_loss: 0.0398 - val_acc: 0.9911\n",
            "Epoch 5/6\n",
            "558/558 [==============================] - 23s 41ms/step - loss: 0.0429 - acc: 0.9875 - val_loss: 0.0228 - val_acc: 0.9967\n",
            "Epoch 6/6\n",
            "558/558 [==============================] - 24s 42ms/step - loss: 0.0206 - acc: 0.9952 - val_loss: 0.0231 - val_acc: 0.9963\n"
          ]
        },
        {
          "output_type": "execute_result",
          "data": {
            "text/plain": [
              "<keras.callbacks.History at 0x7fc345ab9a30>"
            ]
          },
          "metadata": {},
          "execution_count": 55
        }
      ],
      "source": [
        "model.fit(X_train, y_train, validation_split=0.3, epochs=6)"
      ]
    },
    {
      "cell_type": "code",
      "execution_count": 56,
      "metadata": {
        "colab": {
          "base_uri": "https://localhost:8080/"
        },
        "id": "wENCZWEXysix",
        "outputId": "aa674cfc-4b03-4499-cf2b-cc8d832d2b72"
      },
      "outputs": [
        {
          "output_type": "stream",
          "name": "stdout",
          "text": [
            "140/140 [==============================] - 2s 14ms/step\n"
          ]
        }
      ],
      "source": [
        "y_pred = (model.predict(X_test) >= 0.5).astype(\"int\")"
      ]
    },
    {
      "cell_type": "code",
      "execution_count": 57,
      "metadata": {
        "colab": {
          "base_uri": "https://localhost:8080/"
        },
        "id": "nFZW7M7kyuUM",
        "outputId": "3f5f9f0a-11b9-4907-a72f-03b398447655"
      },
      "outputs": [
        {
          "output_type": "stream",
          "name": "stdout",
          "text": [
            "              precision    recall  f1-score   support\n",
            "\n",
            "           0       0.98      0.99      0.99      4272\n",
            "           1       0.80      0.60      0.69       198\n",
            "\n",
            "    accuracy                           0.98      4470\n",
            "   macro avg       0.89      0.80      0.84      4470\n",
            "weighted avg       0.97      0.98      0.97      4470\n",
            "\n"
          ]
        }
      ],
      "source": [
        "print(classification_report(y_test, y_pred))"
      ]
    }
  ],
  "metadata": {
    "accelerator": "GPU",
    "colab": {
      "provenance": [],
      "include_colab_link": true
    },
    "gpuClass": "standard",
    "kernelspec": {
      "display_name": "Python 3.9.1 64-bit",
      "language": "python",
      "name": "python3"
    },
    "language_info": {
      "codemirror_mode": {
        "name": "ipython",
        "version": 3
      },
      "file_extension": ".py",
      "mimetype": "text/x-python",
      "name": "python",
      "nbconvert_exporter": "python",
      "pygments_lexer": "ipython3",
      "version": "3.9.1"
    },
    "vscode": {
      "interpreter": {
        "hash": "ad459153494ef8bf9bfb381956f48d86a83e0450934ceb6b8440ac5a2424102d"
      }
    }
  },
  "nbformat": 4,
  "nbformat_minor": 0
}