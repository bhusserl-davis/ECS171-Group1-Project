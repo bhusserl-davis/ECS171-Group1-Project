{
  "cells": [
    {
      "cell_type": "markdown",
      "metadata": {
        "id": "view-in-github",
        "colab_type": "text"
      },
      "source": [
        "<a href=\"https://colab.research.google.com/github/bhusserl-davis/ECS171-Group1-Project/blob/main/project_word2Vec_undersampling.ipynb\" target=\"_parent\"><img src=\"https://colab.research.google.com/assets/colab-badge.svg\" alt=\"Open In Colab\"/></a>"
      ]
    },
    {
      "cell_type": "markdown",
      "metadata": {
        "id": "gntRQBTvsH61"
      },
      "source": [
        "## Imports"
      ]
    },
    {
      "cell_type": "code",
      "execution_count": 1,
      "metadata": {
        "id": "mkDI0UoFsH6_",
        "outputId": "2a291c3f-d6bf-414b-939d-272f2195dc79",
        "colab": {
          "base_uri": "https://localhost:8080/"
        }
      },
      "outputs": [
        {
          "output_type": "stream",
          "name": "stdout",
          "text": [
            "  Building wheel for sklearn (setup.py) ... \u001b[?25l\u001b[?25hdone\n",
            "\u001b[K     |████████████████████████████████| 371 kB 4.3 MB/s \n",
            "\u001b[K     |████████████████████████████████| 24.2 MB 1.2 MB/s \n",
            "\u001b[?25h"
          ]
        }
      ],
      "source": [
        "# Download Needed Packages\n",
        "import sys\n",
        "!{sys.executable} -m pip install -q pandas\n",
        "!{sys.executable} -m pip install -q nltk\n",
        "!{sys.executable} -m pip install -q sklearn\n",
        "!{sys.executable} -m pip install -q wordcloud==1.8.1\n",
        "!{sys.executable} -m pip install -q gensim==3.8.3\n",
        "!{sys.executable} -m pip install -q keras\n",
        "!{sys.executable} -m pip install -q numpy\n",
        "!{sys.executable} -m pip install -q matplotlib"
      ]
    },
    {
      "cell_type": "code",
      "execution_count": 2,
      "metadata": {
        "id": "XUBwYzkusH7D"
      },
      "outputs": [],
      "source": [
        "# Import needed libraries and download needed data\n",
        "import string\n",
        "import pandas as pd\n",
        "import nltk\n",
        "nltk.download('stopwords', quiet=True)\n",
        "from nltk.corpus import stopwords\n",
        "nltk.download('punkt', quiet=True)\n",
        "from nltk.tokenize import word_tokenize\n",
        "from sklearn.metrics import classification_report\n",
        "from sklearn.model_selection import train_test_split\n",
        "from wordcloud import WordCloud"
      ]
    },
    {
      "cell_type": "markdown",
      "metadata": {
        "id": "duXaTruMsH7F"
      },
      "source": [
        "## Data Exploration"
      ]
    },
    {
      "cell_type": "code",
      "execution_count": 5,
      "metadata": {
        "colab": {
          "base_uri": "https://localhost:8080/",
          "height": 617
        },
        "id": "8RVGvjx5sH7G",
        "outputId": "bb0c4297-a1f7-473f-d134-42d9012c69a3"
      },
      "outputs": [
        {
          "output_type": "stream",
          "name": "stdout",
          "text": [
            "17880 observations, 18 features\n"
          ]
        },
        {
          "output_type": "display_data",
          "data": {
            "text/plain": [
              "   job_id                                      title            location  \\\n",
              "0       1                           Marketing Intern    US, NY, New York   \n",
              "1       2  Customer Service - Cloud Video Production      NZ, , Auckland   \n",
              "2       3    Commissioning Machinery Assistant (CMA)       US, IA, Wever   \n",
              "3       4          Account Executive - Washington DC  US, DC, Washington   \n",
              "4       5                        Bill Review Manager  US, FL, Fort Worth   \n",
              "\n",
              "  department salary_range                                    company_profile  \\\n",
              "0  Marketing          NaN  We're Food52, and we've created a groundbreaki...   \n",
              "1    Success          NaN  90 Seconds, the worlds Cloud Video Production ...   \n",
              "2        NaN          NaN  Valor Services provides Workforce Solutions th...   \n",
              "3      Sales          NaN  Our passion for improving quality of life thro...   \n",
              "4        NaN          NaN  SpotSource Solutions LLC is a Global Human Cap...   \n",
              "\n",
              "                                         description  \\\n",
              "0  Food52, a fast-growing, James Beard Award-winn...   \n",
              "1  Organised - Focused - Vibrant - Awesome!Do you...   \n",
              "2  Our client, located in Houston, is actively se...   \n",
              "3  THE COMPANY: ESRI – Environmental Systems Rese...   \n",
              "4  JOB TITLE: Itemization Review ManagerLOCATION:...   \n",
              "\n",
              "                                        requirements  \\\n",
              "0  Experience with content management systems a m...   \n",
              "1  What we expect from you:Your key responsibilit...   \n",
              "2  Implement pre-commissioning and commissioning ...   \n",
              "3  EDUCATION: Bachelor’s or Master’s in GIS, busi...   \n",
              "4  QUALIFICATIONS:RN license in the State of Texa...   \n",
              "\n",
              "                                            benefits  telecommuting  \\\n",
              "0                                                NaN              0   \n",
              "1  What you will get from usThrough being part of...              0   \n",
              "2                                                NaN              0   \n",
              "3  Our culture is anything but corporate—we have ...              0   \n",
              "4                              Full Benefits Offered              0   \n",
              "\n",
              "   has_company_logo  has_questions employment_type required_experience  \\\n",
              "0                 1              0           Other          Internship   \n",
              "1                 1              0       Full-time      Not Applicable   \n",
              "2                 1              0             NaN                 NaN   \n",
              "3                 1              0       Full-time    Mid-Senior level   \n",
              "4                 1              1       Full-time    Mid-Senior level   \n",
              "\n",
              "  required_education                   industry              function  \\\n",
              "0                NaN                        NaN             Marketing   \n",
              "1                NaN  Marketing and Advertising      Customer Service   \n",
              "2                NaN                        NaN                   NaN   \n",
              "3  Bachelor's Degree          Computer Software                 Sales   \n",
              "4  Bachelor's Degree     Hospital & Health Care  Health Care Provider   \n",
              "\n",
              "   fraudulent  \n",
              "0           0  \n",
              "1           0  \n",
              "2           0  \n",
              "3           0  \n",
              "4           0  "
            ],
            "text/html": [
              "\n",
              "  <div id=\"df-0c6cba83-97bc-40e4-95f1-d420d28ea717\">\n",
              "    <div class=\"colab-df-container\">\n",
              "      <div>\n",
              "<style scoped>\n",
              "    .dataframe tbody tr th:only-of-type {\n",
              "        vertical-align: middle;\n",
              "    }\n",
              "\n",
              "    .dataframe tbody tr th {\n",
              "        vertical-align: top;\n",
              "    }\n",
              "\n",
              "    .dataframe thead th {\n",
              "        text-align: right;\n",
              "    }\n",
              "</style>\n",
              "<table border=\"1\" class=\"dataframe\">\n",
              "  <thead>\n",
              "    <tr style=\"text-align: right;\">\n",
              "      <th></th>\n",
              "      <th>job_id</th>\n",
              "      <th>title</th>\n",
              "      <th>location</th>\n",
              "      <th>department</th>\n",
              "      <th>salary_range</th>\n",
              "      <th>company_profile</th>\n",
              "      <th>description</th>\n",
              "      <th>requirements</th>\n",
              "      <th>benefits</th>\n",
              "      <th>telecommuting</th>\n",
              "      <th>has_company_logo</th>\n",
              "      <th>has_questions</th>\n",
              "      <th>employment_type</th>\n",
              "      <th>required_experience</th>\n",
              "      <th>required_education</th>\n",
              "      <th>industry</th>\n",
              "      <th>function</th>\n",
              "      <th>fraudulent</th>\n",
              "    </tr>\n",
              "  </thead>\n",
              "  <tbody>\n",
              "    <tr>\n",
              "      <th>0</th>\n",
              "      <td>1</td>\n",
              "      <td>Marketing Intern</td>\n",
              "      <td>US, NY, New York</td>\n",
              "      <td>Marketing</td>\n",
              "      <td>NaN</td>\n",
              "      <td>We're Food52, and we've created a groundbreaki...</td>\n",
              "      <td>Food52, a fast-growing, James Beard Award-winn...</td>\n",
              "      <td>Experience with content management systems a m...</td>\n",
              "      <td>NaN</td>\n",
              "      <td>0</td>\n",
              "      <td>1</td>\n",
              "      <td>0</td>\n",
              "      <td>Other</td>\n",
              "      <td>Internship</td>\n",
              "      <td>NaN</td>\n",
              "      <td>NaN</td>\n",
              "      <td>Marketing</td>\n",
              "      <td>0</td>\n",
              "    </tr>\n",
              "    <tr>\n",
              "      <th>1</th>\n",
              "      <td>2</td>\n",
              "      <td>Customer Service - Cloud Video Production</td>\n",
              "      <td>NZ, , Auckland</td>\n",
              "      <td>Success</td>\n",
              "      <td>NaN</td>\n",
              "      <td>90 Seconds, the worlds Cloud Video Production ...</td>\n",
              "      <td>Organised - Focused - Vibrant - Awesome!Do you...</td>\n",
              "      <td>What we expect from you:Your key responsibilit...</td>\n",
              "      <td>What you will get from usThrough being part of...</td>\n",
              "      <td>0</td>\n",
              "      <td>1</td>\n",
              "      <td>0</td>\n",
              "      <td>Full-time</td>\n",
              "      <td>Not Applicable</td>\n",
              "      <td>NaN</td>\n",
              "      <td>Marketing and Advertising</td>\n",
              "      <td>Customer Service</td>\n",
              "      <td>0</td>\n",
              "    </tr>\n",
              "    <tr>\n",
              "      <th>2</th>\n",
              "      <td>3</td>\n",
              "      <td>Commissioning Machinery Assistant (CMA)</td>\n",
              "      <td>US, IA, Wever</td>\n",
              "      <td>NaN</td>\n",
              "      <td>NaN</td>\n",
              "      <td>Valor Services provides Workforce Solutions th...</td>\n",
              "      <td>Our client, located in Houston, is actively se...</td>\n",
              "      <td>Implement pre-commissioning and commissioning ...</td>\n",
              "      <td>NaN</td>\n",
              "      <td>0</td>\n",
              "      <td>1</td>\n",
              "      <td>0</td>\n",
              "      <td>NaN</td>\n",
              "      <td>NaN</td>\n",
              "      <td>NaN</td>\n",
              "      <td>NaN</td>\n",
              "      <td>NaN</td>\n",
              "      <td>0</td>\n",
              "    </tr>\n",
              "    <tr>\n",
              "      <th>3</th>\n",
              "      <td>4</td>\n",
              "      <td>Account Executive - Washington DC</td>\n",
              "      <td>US, DC, Washington</td>\n",
              "      <td>Sales</td>\n",
              "      <td>NaN</td>\n",
              "      <td>Our passion for improving quality of life thro...</td>\n",
              "      <td>THE COMPANY: ESRI – Environmental Systems Rese...</td>\n",
              "      <td>EDUCATION: Bachelor’s or Master’s in GIS, busi...</td>\n",
              "      <td>Our culture is anything but corporate—we have ...</td>\n",
              "      <td>0</td>\n",
              "      <td>1</td>\n",
              "      <td>0</td>\n",
              "      <td>Full-time</td>\n",
              "      <td>Mid-Senior level</td>\n",
              "      <td>Bachelor's Degree</td>\n",
              "      <td>Computer Software</td>\n",
              "      <td>Sales</td>\n",
              "      <td>0</td>\n",
              "    </tr>\n",
              "    <tr>\n",
              "      <th>4</th>\n",
              "      <td>5</td>\n",
              "      <td>Bill Review Manager</td>\n",
              "      <td>US, FL, Fort Worth</td>\n",
              "      <td>NaN</td>\n",
              "      <td>NaN</td>\n",
              "      <td>SpotSource Solutions LLC is a Global Human Cap...</td>\n",
              "      <td>JOB TITLE: Itemization Review ManagerLOCATION:...</td>\n",
              "      <td>QUALIFICATIONS:RN license in the State of Texa...</td>\n",
              "      <td>Full Benefits Offered</td>\n",
              "      <td>0</td>\n",
              "      <td>1</td>\n",
              "      <td>1</td>\n",
              "      <td>Full-time</td>\n",
              "      <td>Mid-Senior level</td>\n",
              "      <td>Bachelor's Degree</td>\n",
              "      <td>Hospital &amp; Health Care</td>\n",
              "      <td>Health Care Provider</td>\n",
              "      <td>0</td>\n",
              "    </tr>\n",
              "  </tbody>\n",
              "</table>\n",
              "</div>\n",
              "      <button class=\"colab-df-convert\" onclick=\"convertToInteractive('df-0c6cba83-97bc-40e4-95f1-d420d28ea717')\"\n",
              "              title=\"Convert this dataframe to an interactive table.\"\n",
              "              style=\"display:none;\">\n",
              "        \n",
              "  <svg xmlns=\"http://www.w3.org/2000/svg\" height=\"24px\"viewBox=\"0 0 24 24\"\n",
              "       width=\"24px\">\n",
              "    <path d=\"M0 0h24v24H0V0z\" fill=\"none\"/>\n",
              "    <path d=\"M18.56 5.44l.94 2.06.94-2.06 2.06-.94-2.06-.94-.94-2.06-.94 2.06-2.06.94zm-11 1L8.5 8.5l.94-2.06 2.06-.94-2.06-.94L8.5 2.5l-.94 2.06-2.06.94zm10 10l.94 2.06.94-2.06 2.06-.94-2.06-.94-.94-2.06-.94 2.06-2.06.94z\"/><path d=\"M17.41 7.96l-1.37-1.37c-.4-.4-.92-.59-1.43-.59-.52 0-1.04.2-1.43.59L10.3 9.45l-7.72 7.72c-.78.78-.78 2.05 0 2.83L4 21.41c.39.39.9.59 1.41.59.51 0 1.02-.2 1.41-.59l7.78-7.78 2.81-2.81c.8-.78.8-2.07 0-2.86zM5.41 20L4 18.59l7.72-7.72 1.47 1.35L5.41 20z\"/>\n",
              "  </svg>\n",
              "      </button>\n",
              "      \n",
              "  <style>\n",
              "    .colab-df-container {\n",
              "      display:flex;\n",
              "      flex-wrap:wrap;\n",
              "      gap: 12px;\n",
              "    }\n",
              "\n",
              "    .colab-df-convert {\n",
              "      background-color: #E8F0FE;\n",
              "      border: none;\n",
              "      border-radius: 50%;\n",
              "      cursor: pointer;\n",
              "      display: none;\n",
              "      fill: #1967D2;\n",
              "      height: 32px;\n",
              "      padding: 0 0 0 0;\n",
              "      width: 32px;\n",
              "    }\n",
              "\n",
              "    .colab-df-convert:hover {\n",
              "      background-color: #E2EBFA;\n",
              "      box-shadow: 0px 1px 2px rgba(60, 64, 67, 0.3), 0px 1px 3px 1px rgba(60, 64, 67, 0.15);\n",
              "      fill: #174EA6;\n",
              "    }\n",
              "\n",
              "    [theme=dark] .colab-df-convert {\n",
              "      background-color: #3B4455;\n",
              "      fill: #D2E3FC;\n",
              "    }\n",
              "\n",
              "    [theme=dark] .colab-df-convert:hover {\n",
              "      background-color: #434B5C;\n",
              "      box-shadow: 0px 1px 3px 1px rgba(0, 0, 0, 0.15);\n",
              "      filter: drop-shadow(0px 1px 2px rgba(0, 0, 0, 0.3));\n",
              "      fill: #FFFFFF;\n",
              "    }\n",
              "  </style>\n",
              "\n",
              "      <script>\n",
              "        const buttonEl =\n",
              "          document.querySelector('#df-0c6cba83-97bc-40e4-95f1-d420d28ea717 button.colab-df-convert');\n",
              "        buttonEl.style.display =\n",
              "          google.colab.kernel.accessAllowed ? 'block' : 'none';\n",
              "\n",
              "        async function convertToInteractive(key) {\n",
              "          const element = document.querySelector('#df-0c6cba83-97bc-40e4-95f1-d420d28ea717');\n",
              "          const dataTable =\n",
              "            await google.colab.kernel.invokeFunction('convertToInteractive',\n",
              "                                                     [key], {});\n",
              "          if (!dataTable) return;\n",
              "\n",
              "          const docLinkHtml = 'Like what you see? Visit the ' +\n",
              "            '<a target=\"_blank\" href=https://colab.research.google.com/notebooks/data_table.ipynb>data table notebook</a>'\n",
              "            + ' to learn more about interactive tables.';\n",
              "          element.innerHTML = '';\n",
              "          dataTable['output_type'] = 'display_data';\n",
              "          await google.colab.output.renderOutput(dataTable, element);\n",
              "          const docLink = document.createElement('div');\n",
              "          docLink.innerHTML = docLinkHtml;\n",
              "          element.appendChild(docLink);\n",
              "        }\n",
              "      </script>\n",
              "    </div>\n",
              "  </div>\n",
              "  "
            ]
          },
          "metadata": {}
        }
      ],
      "source": [
        "# Import Data\n",
        "df = pd.read_csv(\"./fake_job_postings.csv\")\n",
        "print(f'{df.shape[0]} observations, {df.shape[1]} features')\n",
        "display(df.head(5))"
      ]
    },
    {
      "cell_type": "code",
      "execution_count": 6,
      "metadata": {
        "colab": {
          "base_uri": "https://localhost:8080/"
        },
        "id": "YyMeutk0grON",
        "outputId": "7e9576fd-9c32-4129-ebe1-c494d8868392"
      },
      "outputs": [
        {
          "output_type": "stream",
          "name": "stdout",
          "text": [
            "Column\t\t    NaNs   Type\n",
            "job_id              0      int64\n",
            "title               0      object\n",
            "location            346    object\n",
            "department          11547  object\n",
            "salary_range        15012  object\n",
            "company_profile     3308   object\n",
            "description         1      object\n",
            "requirements        2695   object\n",
            "benefits            7210   object\n",
            "telecommuting       0      int64\n",
            "has_company_logo    0      int64\n",
            "has_questions       0      int64\n",
            "employment_type     3471   object\n",
            "required_experience 7050   object\n",
            "required_education  8105   object\n",
            "industry            4903   object\n",
            "function            6455   object\n",
            "fraudulent          0      int64\n"
          ]
        }
      ],
      "source": [
        "# Print count of NaNs and type of each column\n",
        "print(\"Column\\t\\t    NaNs   Type\")\n",
        "for column in df.columns:\n",
        "    print(f'{column.ljust(20)}{str(df[column].isna().sum()).ljust(7)}{df[column].dtype}')"
      ]
    },
    {
      "cell_type": "markdown",
      "source": [
        "### replacesing NAN Value"
      ],
      "metadata": {
        "id": "0PM3n3jfESIj"
      }
    },
    {
      "cell_type": "code",
      "execution_count": 7,
      "metadata": {
        "colab": {
          "base_uri": "https://localhost:8080/"
        },
        "id": "VOXcRkmhgwrZ",
        "outputId": "556fa0f5-1a79-471b-f184-c3dd587f0865"
      },
      "outputs": [
        {
          "output_type": "stream",
          "name": "stdout",
          "text": [
            "Column\t\t       NaNs\n",
            "job_id                 0\n",
            "title                  0\n",
            "location               0\n",
            "department             0\n",
            "salary_range           0\n",
            "company_profile        0\n",
            "description            0\n",
            "requirements           0\n",
            "benefits               0\n",
            "telecommuting          0\n",
            "has_company_logo       0\n",
            "has_questions          0\n",
            "employment_type        0\n",
            "required_experience    0\n",
            "required_education     0\n",
            "industry               0\n",
            "function               0\n",
            "fraudulent             0\n",
            "dtype: int64\n"
          ]
        }
      ],
      "source": [
        "#Replacing NAN Values\n",
        "new_df = df.copy()\n",
        "NAN_Cols=[\n",
        "    \"location\",\"department\",\"salary_range\",\n",
        "    \"company_profile\",\"description\",\"requirements\",\n",
        "    \"benefits\",\"employment_type\",\"required_experience\",\n",
        "    \"required_experience\",\"required_education\",\"industry\",\"function\"\n",
        "]\n",
        "print(\"Column\\t\\t       NaNs\")\n",
        "for i in NAN_Cols:\n",
        "    new_df[i].fillna(\"\",inplace=True)\n",
        "print(new_df.isnull().sum())"
      ]
    },
    {
      "cell_type": "code",
      "execution_count": 8,
      "metadata": {
        "colab": {
          "base_uri": "https://localhost:8080/"
        },
        "id": "87mjUtgkg6ek",
        "outputId": "d83a9600-aad4-44d9-96aa-3dc8cbea17c1"
      },
      "outputs": [
        {
          "output_type": "stream",
          "name": "stdout",
          "text": [
            "job_id: [    1     2     3 ... 17878 17879 17880]\n",
            "telecommuting: [0 1]\n",
            "has_company_logo: [1 0]\n",
            "has_questions: [0 1]\n",
            "fraudulent: [0 1]\n"
          ]
        }
      ],
      "source": [
        "# Get numeric columns unique values\n",
        "numeric_atts = ['job_id', 'telecommuting', 'has_company_logo', 'has_questions', 'fraudulent']\n",
        "for column in numeric_atts:\n",
        "    print(f'{column}: {new_df[column].unique()}')"
      ]
    },
    {
      "cell_type": "code",
      "execution_count": 9,
      "metadata": {
        "colab": {
          "base_uri": "https://localhost:8080/",
          "height": 600
        },
        "id": "7s618PyahBU2",
        "outputId": "2ab72209-eb1b-40d6-c386-89403c2cfc4f"
      },
      "outputs": [
        {
          "output_type": "execute_result",
          "data": {
            "text/plain": [
              "   job_id                                      title            location  \\\n",
              "0       1                           Marketing Intern    US, NY, New York   \n",
              "1       2  Customer Service - Cloud Video Production      NZ, , Auckland   \n",
              "2       3    Commissioning Machinery Assistant (CMA)       US, IA, Wever   \n",
              "3       4          Account Executive - Washington DC  US, DC, Washington   \n",
              "4       5                        Bill Review Manager  US, FL, Fort Worth   \n",
              "\n",
              "  department salary_range                                    company_profile  \\\n",
              "0  Marketing               We're Food52, and we've created a groundbreaki...   \n",
              "1    Success               90 Seconds, the worlds Cloud Video Production ...   \n",
              "2                          Valor Services provides Workforce Solutions th...   \n",
              "3      Sales               Our passion for improving quality of life thro...   \n",
              "4                          SpotSource Solutions LLC is a Global Human Cap...   \n",
              "\n",
              "                                         description  \\\n",
              "0  Food52, a fast-growing, James Beard Award-winn...   \n",
              "1  Organised - Focused - Vibrant - Awesome!Do you...   \n",
              "2  Our client, located in Houston, is actively se...   \n",
              "3  THE COMPANY: ESRI – Environmental Systems Rese...   \n",
              "4  JOB TITLE: Itemization Review ManagerLOCATION:...   \n",
              "\n",
              "                                        requirements  \\\n",
              "0  Experience with content management systems a m...   \n",
              "1  What we expect from you:Your key responsibilit...   \n",
              "2  Implement pre-commissioning and commissioning ...   \n",
              "3  EDUCATION: Bachelor’s or Master’s in GIS, busi...   \n",
              "4  QUALIFICATIONS:RN license in the State of Texa...   \n",
              "\n",
              "                                            benefits  telecommuting  \\\n",
              "0                                                                 0   \n",
              "1  What you will get from usThrough being part of...              0   \n",
              "2                                                                 0   \n",
              "3  Our culture is anything but corporate—we have ...              0   \n",
              "4                              Full Benefits Offered              0   \n",
              "\n",
              "   has_company_logo  has_questions employment_type required_experience  \\\n",
              "0                 1              0           Other          Internship   \n",
              "1                 1              0       Full-time      Not Applicable   \n",
              "2                 1              0                                       \n",
              "3                 1              0       Full-time    Mid-Senior level   \n",
              "4                 1              1       Full-time    Mid-Senior level   \n",
              "\n",
              "  required_education                   industry              function  \\\n",
              "0                                                           Marketing   \n",
              "1                     Marketing and Advertising      Customer Service   \n",
              "2                                                                       \n",
              "3  Bachelor's Degree          Computer Software                 Sales   \n",
              "4  Bachelor's Degree     Hospital & Health Care  Health Care Provider   \n",
              "\n",
              "   fraudulent  \n",
              "0           0  \n",
              "1           0  \n",
              "2           0  \n",
              "3           0  \n",
              "4           0  "
            ],
            "text/html": [
              "\n",
              "  <div id=\"df-4b41086a-e4ea-4117-9017-b611308b9324\">\n",
              "    <div class=\"colab-df-container\">\n",
              "      <div>\n",
              "<style scoped>\n",
              "    .dataframe tbody tr th:only-of-type {\n",
              "        vertical-align: middle;\n",
              "    }\n",
              "\n",
              "    .dataframe tbody tr th {\n",
              "        vertical-align: top;\n",
              "    }\n",
              "\n",
              "    .dataframe thead th {\n",
              "        text-align: right;\n",
              "    }\n",
              "</style>\n",
              "<table border=\"1\" class=\"dataframe\">\n",
              "  <thead>\n",
              "    <tr style=\"text-align: right;\">\n",
              "      <th></th>\n",
              "      <th>job_id</th>\n",
              "      <th>title</th>\n",
              "      <th>location</th>\n",
              "      <th>department</th>\n",
              "      <th>salary_range</th>\n",
              "      <th>company_profile</th>\n",
              "      <th>description</th>\n",
              "      <th>requirements</th>\n",
              "      <th>benefits</th>\n",
              "      <th>telecommuting</th>\n",
              "      <th>has_company_logo</th>\n",
              "      <th>has_questions</th>\n",
              "      <th>employment_type</th>\n",
              "      <th>required_experience</th>\n",
              "      <th>required_education</th>\n",
              "      <th>industry</th>\n",
              "      <th>function</th>\n",
              "      <th>fraudulent</th>\n",
              "    </tr>\n",
              "  </thead>\n",
              "  <tbody>\n",
              "    <tr>\n",
              "      <th>0</th>\n",
              "      <td>1</td>\n",
              "      <td>Marketing Intern</td>\n",
              "      <td>US, NY, New York</td>\n",
              "      <td>Marketing</td>\n",
              "      <td></td>\n",
              "      <td>We're Food52, and we've created a groundbreaki...</td>\n",
              "      <td>Food52, a fast-growing, James Beard Award-winn...</td>\n",
              "      <td>Experience with content management systems a m...</td>\n",
              "      <td></td>\n",
              "      <td>0</td>\n",
              "      <td>1</td>\n",
              "      <td>0</td>\n",
              "      <td>Other</td>\n",
              "      <td>Internship</td>\n",
              "      <td></td>\n",
              "      <td></td>\n",
              "      <td>Marketing</td>\n",
              "      <td>0</td>\n",
              "    </tr>\n",
              "    <tr>\n",
              "      <th>1</th>\n",
              "      <td>2</td>\n",
              "      <td>Customer Service - Cloud Video Production</td>\n",
              "      <td>NZ, , Auckland</td>\n",
              "      <td>Success</td>\n",
              "      <td></td>\n",
              "      <td>90 Seconds, the worlds Cloud Video Production ...</td>\n",
              "      <td>Organised - Focused - Vibrant - Awesome!Do you...</td>\n",
              "      <td>What we expect from you:Your key responsibilit...</td>\n",
              "      <td>What you will get from usThrough being part of...</td>\n",
              "      <td>0</td>\n",
              "      <td>1</td>\n",
              "      <td>0</td>\n",
              "      <td>Full-time</td>\n",
              "      <td>Not Applicable</td>\n",
              "      <td></td>\n",
              "      <td>Marketing and Advertising</td>\n",
              "      <td>Customer Service</td>\n",
              "      <td>0</td>\n",
              "    </tr>\n",
              "    <tr>\n",
              "      <th>2</th>\n",
              "      <td>3</td>\n",
              "      <td>Commissioning Machinery Assistant (CMA)</td>\n",
              "      <td>US, IA, Wever</td>\n",
              "      <td></td>\n",
              "      <td></td>\n",
              "      <td>Valor Services provides Workforce Solutions th...</td>\n",
              "      <td>Our client, located in Houston, is actively se...</td>\n",
              "      <td>Implement pre-commissioning and commissioning ...</td>\n",
              "      <td></td>\n",
              "      <td>0</td>\n",
              "      <td>1</td>\n",
              "      <td>0</td>\n",
              "      <td></td>\n",
              "      <td></td>\n",
              "      <td></td>\n",
              "      <td></td>\n",
              "      <td></td>\n",
              "      <td>0</td>\n",
              "    </tr>\n",
              "    <tr>\n",
              "      <th>3</th>\n",
              "      <td>4</td>\n",
              "      <td>Account Executive - Washington DC</td>\n",
              "      <td>US, DC, Washington</td>\n",
              "      <td>Sales</td>\n",
              "      <td></td>\n",
              "      <td>Our passion for improving quality of life thro...</td>\n",
              "      <td>THE COMPANY: ESRI – Environmental Systems Rese...</td>\n",
              "      <td>EDUCATION: Bachelor’s or Master’s in GIS, busi...</td>\n",
              "      <td>Our culture is anything but corporate—we have ...</td>\n",
              "      <td>0</td>\n",
              "      <td>1</td>\n",
              "      <td>0</td>\n",
              "      <td>Full-time</td>\n",
              "      <td>Mid-Senior level</td>\n",
              "      <td>Bachelor's Degree</td>\n",
              "      <td>Computer Software</td>\n",
              "      <td>Sales</td>\n",
              "      <td>0</td>\n",
              "    </tr>\n",
              "    <tr>\n",
              "      <th>4</th>\n",
              "      <td>5</td>\n",
              "      <td>Bill Review Manager</td>\n",
              "      <td>US, FL, Fort Worth</td>\n",
              "      <td></td>\n",
              "      <td></td>\n",
              "      <td>SpotSource Solutions LLC is a Global Human Cap...</td>\n",
              "      <td>JOB TITLE: Itemization Review ManagerLOCATION:...</td>\n",
              "      <td>QUALIFICATIONS:RN license in the State of Texa...</td>\n",
              "      <td>Full Benefits Offered</td>\n",
              "      <td>0</td>\n",
              "      <td>1</td>\n",
              "      <td>1</td>\n",
              "      <td>Full-time</td>\n",
              "      <td>Mid-Senior level</td>\n",
              "      <td>Bachelor's Degree</td>\n",
              "      <td>Hospital &amp; Health Care</td>\n",
              "      <td>Health Care Provider</td>\n",
              "      <td>0</td>\n",
              "    </tr>\n",
              "  </tbody>\n",
              "</table>\n",
              "</div>\n",
              "      <button class=\"colab-df-convert\" onclick=\"convertToInteractive('df-4b41086a-e4ea-4117-9017-b611308b9324')\"\n",
              "              title=\"Convert this dataframe to an interactive table.\"\n",
              "              style=\"display:none;\">\n",
              "        \n",
              "  <svg xmlns=\"http://www.w3.org/2000/svg\" height=\"24px\"viewBox=\"0 0 24 24\"\n",
              "       width=\"24px\">\n",
              "    <path d=\"M0 0h24v24H0V0z\" fill=\"none\"/>\n",
              "    <path d=\"M18.56 5.44l.94 2.06.94-2.06 2.06-.94-2.06-.94-.94-2.06-.94 2.06-2.06.94zm-11 1L8.5 8.5l.94-2.06 2.06-.94-2.06-.94L8.5 2.5l-.94 2.06-2.06.94zm10 10l.94 2.06.94-2.06 2.06-.94-2.06-.94-.94-2.06-.94 2.06-2.06.94z\"/><path d=\"M17.41 7.96l-1.37-1.37c-.4-.4-.92-.59-1.43-.59-.52 0-1.04.2-1.43.59L10.3 9.45l-7.72 7.72c-.78.78-.78 2.05 0 2.83L4 21.41c.39.39.9.59 1.41.59.51 0 1.02-.2 1.41-.59l7.78-7.78 2.81-2.81c.8-.78.8-2.07 0-2.86zM5.41 20L4 18.59l7.72-7.72 1.47 1.35L5.41 20z\"/>\n",
              "  </svg>\n",
              "      </button>\n",
              "      \n",
              "  <style>\n",
              "    .colab-df-container {\n",
              "      display:flex;\n",
              "      flex-wrap:wrap;\n",
              "      gap: 12px;\n",
              "    }\n",
              "\n",
              "    .colab-df-convert {\n",
              "      background-color: #E8F0FE;\n",
              "      border: none;\n",
              "      border-radius: 50%;\n",
              "      cursor: pointer;\n",
              "      display: none;\n",
              "      fill: #1967D2;\n",
              "      height: 32px;\n",
              "      padding: 0 0 0 0;\n",
              "      width: 32px;\n",
              "    }\n",
              "\n",
              "    .colab-df-convert:hover {\n",
              "      background-color: #E2EBFA;\n",
              "      box-shadow: 0px 1px 2px rgba(60, 64, 67, 0.3), 0px 1px 3px 1px rgba(60, 64, 67, 0.15);\n",
              "      fill: #174EA6;\n",
              "    }\n",
              "\n",
              "    [theme=dark] .colab-df-convert {\n",
              "      background-color: #3B4455;\n",
              "      fill: #D2E3FC;\n",
              "    }\n",
              "\n",
              "    [theme=dark] .colab-df-convert:hover {\n",
              "      background-color: #434B5C;\n",
              "      box-shadow: 0px 1px 3px 1px rgba(0, 0, 0, 0.15);\n",
              "      filter: drop-shadow(0px 1px 2px rgba(0, 0, 0, 0.3));\n",
              "      fill: #FFFFFF;\n",
              "    }\n",
              "  </style>\n",
              "\n",
              "      <script>\n",
              "        const buttonEl =\n",
              "          document.querySelector('#df-4b41086a-e4ea-4117-9017-b611308b9324 button.colab-df-convert');\n",
              "        buttonEl.style.display =\n",
              "          google.colab.kernel.accessAllowed ? 'block' : 'none';\n",
              "\n",
              "        async function convertToInteractive(key) {\n",
              "          const element = document.querySelector('#df-4b41086a-e4ea-4117-9017-b611308b9324');\n",
              "          const dataTable =\n",
              "            await google.colab.kernel.invokeFunction('convertToInteractive',\n",
              "                                                     [key], {});\n",
              "          if (!dataTable) return;\n",
              "\n",
              "          const docLinkHtml = 'Like what you see? Visit the ' +\n",
              "            '<a target=\"_blank\" href=https://colab.research.google.com/notebooks/data_table.ipynb>data table notebook</a>'\n",
              "            + ' to learn more about interactive tables.';\n",
              "          element.innerHTML = '';\n",
              "          dataTable['output_type'] = 'display_data';\n",
              "          await google.colab.output.renderOutput(dataTable, element);\n",
              "          const docLink = document.createElement('div');\n",
              "          docLink.innerHTML = docLinkHtml;\n",
              "          element.appendChild(docLink);\n",
              "        }\n",
              "      </script>\n",
              "    </div>\n",
              "  </div>\n",
              "  "
            ]
          },
          "metadata": {},
          "execution_count": 9
        }
      ],
      "source": [
        "new_df[:5]"
      ]
    },
    {
      "cell_type": "code",
      "source": [
        "new_df['fraudulent'].value_counts().plot.bar()"
      ],
      "metadata": {
        "id": "B0bRggcWwnIe",
        "outputId": "8145a16c-6d3c-4c20-a4db-a1bd717e5aca",
        "colab": {
          "base_uri": "https://localhost:8080/",
          "height": 279
        }
      },
      "execution_count": 10,
      "outputs": [
        {
          "output_type": "execute_result",
          "data": {
            "text/plain": [
              "<matplotlib.axes._subplots.AxesSubplot at 0x7fdb78b0b0d0>"
            ]
          },
          "metadata": {},
          "execution_count": 10
        },
        {
          "output_type": "display_data",
          "data": {
            "text/plain": [
              "<Figure size 432x288 with 1 Axes>"
            ],
            "image/png": "[encoded data removed]"
          },
          "metadata": {
            "needs_background": "light"
          }
        }
      ]
    },
    {
      "cell_type": "markdown",
      "source": [
        "### remove NAN Value"
      ],
      "metadata": {
        "id": "A_91xfkSENkX"
      }
    },
    {
      "cell_type": "code",
      "source": [
        "new_df = df.copy()"
      ],
      "metadata": {
        "id": "Gg8O_Mr5EXhR"
      },
      "execution_count": 40,
      "outputs": []
    },
    {
      "cell_type": "code",
      "source": [
        "new_df=df.dropna()"
      ],
      "metadata": {
        "id": "6QG1DRXBEc-c"
      },
      "execution_count": 41,
      "outputs": []
    },
    {
      "cell_type": "code",
      "source": [
        "print(f'before drop {df.shape[0]},after drop {new_df.shape[0]} ')"
      ],
      "metadata": {
        "colab": {
          "base_uri": "https://localhost:8080/"
        },
        "id": "6BySs3i3E06G",
        "outputId": "0e76fa04-8221-44f5-f13d-71e2858b600a"
      },
      "execution_count": 42,
      "outputs": [
        {
          "output_type": "stream",
          "name": "stdout",
          "text": [
            "before drop 17880,after drop 774 \n"
          ]
        }
      ]
    },
    {
      "cell_type": "code",
      "source": [
        "new_df['fraudulent'].value_counts().plot.bar()"
      ],
      "metadata": {
        "colab": {
          "base_uri": "https://localhost:8080/",
          "height": 279
        },
        "id": "CbwVws7dFDiW",
        "outputId": "457f762f-600a-4307-c750-6c1a9f92ca15"
      },
      "execution_count": 43,
      "outputs": [
        {
          "output_type": "execute_result",
          "data": {
            "text/plain": [
              "<matplotlib.axes._subplots.AxesSubplot at 0x7fdb7839fd30>"
            ]
          },
          "metadata": {},
          "execution_count": 43
        },
        {
          "output_type": "display_data",
          "data": {
            "text/plain": [
              "<Figure size 432x288 with 1 Axes>"
            ],
            "image/png": "[encoded data removed]"
          },
          "metadata": {
            "needs_background": "light"
          }
        }
      ]
    },
    {
      "cell_type": "code",
      "source": [
        "new_df[:10]"
      ],
      "metadata": {
        "colab": {
          "base_uri": "https://localhost:8080/",
          "height": 982
        },
        "id": "ZajWme5HF6GX",
        "outputId": "ed6f6f53-6fcc-4fd8-a09b-20dc0c20fe62"
      },
      "execution_count": 39,
      "outputs": [
        {
          "output_type": "execute_result",
          "data": {
            "text/plain": [
              "     job_id                                              title  \\\n",
              "6         7                              head of content  m f    \n",
              "15       16                         vp of sales   vault dragon   \n",
              "23       24  vice president  sales and sponsorship  busines...   \n",
              "98       99                                    ic e technician   \n",
              "102     103                            marketing administrator   \n",
              "134     135                senior business development manager   \n",
              "153     154                             senior project manager   \n",
              "160     161                          field services supervisor   \n",
              "179     180                                 internal recruiter   \n",
              "197     198                                 software developer   \n",
              "\n",
              "                       location                      department  \\\n",
              "6                de  be  berlin                      androidpit   \n",
              "15            sg  01  singapore                           sales   \n",
              "23             us  ca  carlsbad              businessfriend com   \n",
              "98            us    stocton  ca                    oil   energy   \n",
              "102           gb  war  coventry                     marketplace   \n",
              "134            gb    manchester  sales and business development   \n",
              "153                gb    london                      production   \n",
              "160  us  wi  western wisconsin                 field operations   \n",
              "179             gb  lnd  london                playfair capital   \n",
              "197              in  mp  indore            software development   \n",
              "\n",
              "      salary_range                                    company_profile  \\\n",
              "6      20000 28000  founded in 2009  the fonpit ag rose with its i...   \n",
              "15   120000 150000  jungle ventures is the leading singapore based...   \n",
              "23   100000 120000  wdm group is an innovative  forward thinking d...   \n",
              "98    95000 115000                                                ...   \n",
              "102    15000 18000  renewable energy and environmental protection ...   \n",
              "134    70000 90000  marketinvoice is one of the most high profile ...   \n",
              "153    28000 45000  neverbland is a team of designers  developers ...   \n",
              "160    44000 57000  dairy  food and beverage processors work withi...   \n",
              "179    20000 40000  playfair capital is an early stage technology ...   \n",
              "197  360000 600000  being into the it domain for over 4 years  wal...   \n",
              "\n",
              "                                           description  \\\n",
              "6    your responsibilities  manage the english spea...   \n",
              "15   about vault dragon vault dragon is dropbox for...   \n",
              "23    url eda2500ddcedb60957fcd7f5b164e092966f8c4e8...   \n",
              "98   ic amp e technician   bakersfield  ca mt  poso...   \n",
              "102  the job is to support the growth of the  url 9...   \n",
              "134  backgrounda senior sales and account managemen...   \n",
              "153  some of us are born with the ability to multi ...   \n",
              "160  w m  sprinkman designs  builds and installs st...   \n",
              "179  you will be responsible for hiring across a po...   \n",
              "197  is coding just a task for you  or something to...   \n",
              "\n",
              "                                          requirements  \\\n",
              "6    your know how                                 ...   \n",
              "15   key superpowers3 5 years of high pressure sale...   \n",
              "23   job requirements a reputation as a  go getter ...   \n",
              "98   qualificationsknowledge  skills  amp  abilitie...   \n",
              "102  computer literateable to work with html  altho...   \n",
              "134  5 10 years sales experience in b2b solution sa...   \n",
              "153  2 3 years agency experience in a producer proj...   \n",
              "160  5 7 years of experience in fabrication and or ...   \n",
              "179  previous recruitment experience in fast growth...   \n",
              "197                    min  1 year in web development    \n",
              "\n",
              "                                              benefits  telecommuting  \\\n",
              "6    your benefits  being part of a fast growing co...              0   \n",
              "15   basic  sgd 120 000equity negotiable for a rock...              0   \n",
              "23   businessfriend will offer a competitive six fi...              0   \n",
              "98   benefitswhat is offered competitive compensati...              0   \n",
              "102  for a suitably motivated and success orientate...              1   \n",
              "134  based in our manchester officecompetitive basi...              0   \n",
              "153  work in a dynamic  creative environment learn ...              0   \n",
              "160  we provide a solid benefits package with healt...              0   \n",
              "179  work will an awesome group of companies and be...              0   \n",
              "197  in house product development with a chance to ...              0   \n",
              "\n",
              "     has_company_logo  has_questions employment_type required_experience  \\\n",
              "6                   1              1       full time    mid senior level   \n",
              "15                  1              1       full time           executive   \n",
              "23                  1              0       full time           executive   \n",
              "98                  1              1       full time    mid senior level   \n",
              "102                 1              0       full time         entry level   \n",
              "134                 1              0       full time    mid senior level   \n",
              "153                 1              1       full time    mid senior level   \n",
              "160                 0              0       full time           associate   \n",
              "179                 1              1       full time    mid senior level   \n",
              "197                 1              1       full time    mid senior level   \n",
              "\n",
              "            required_education                              industry  \\\n",
              "6              master s degree                          online media   \n",
              "15           bachelor s degree                   facilities services   \n",
              "23                 unspecified                              internet   \n",
              "98   high school or equivalent                          oil   energy   \n",
              "102          bachelor s degree                              internet   \n",
              "134          bachelor s degree                    financial services   \n",
              "153          bachelor s degree                              internet   \n",
              "160  high school or equivalent  mechanical or industrial engineering   \n",
              "179          bachelor s degree   information technology and services   \n",
              "197          bachelor s degree   information technology and services   \n",
              "\n",
              "                   function  fraudulent  \n",
              "6                management           0  \n",
              "15                    sales           0  \n",
              "23                    sales           0  \n",
              "98                    other           1  \n",
              "102               marketing           0  \n",
              "134                   sales           0  \n",
              "153              production           0  \n",
              "160           manufacturing           0  \n",
              "179         human resources           0  \n",
              "197  information technology           0  "
            ],
            "text/html": [
              "\n",
              "  <div id=\"df-5d5398a1-77f2-4ccd-b8c1-295512460bb6\">\n",
              "    <div class=\"colab-df-container\">\n",
              "      <div>\n",
              "<style scoped>\n",
              "    .dataframe tbody tr th:only-of-type {\n",
              "        vertical-align: middle;\n",
              "    }\n",
              "\n",
              "    .dataframe tbody tr th {\n",
              "        vertical-align: top;\n",
              "    }\n",
              "\n",
              "    .dataframe thead th {\n",
              "        text-align: right;\n",
              "    }\n",
              "</style>\n",
              "<table border=\"1\" class=\"dataframe\">\n",
              "  <thead>\n",
              "    <tr style=\"text-align: right;\">\n",
              "      <th></th>\n",
              "      <th>job_id</th>\n",
              "      <th>title</th>\n",
              "      <th>location</th>\n",
              "      <th>department</th>\n",
              "      <th>salary_range</th>\n",
              "      <th>company_profile</th>\n",
              "      <th>description</th>\n",
              "      <th>requirements</th>\n",
              "      <th>benefits</th>\n",
              "      <th>telecommuting</th>\n",
              "      <th>has_company_logo</th>\n",
              "      <th>has_questions</th>\n",
              "      <th>employment_type</th>\n",
              "      <th>required_experience</th>\n",
              "      <th>required_education</th>\n",
              "      <th>industry</th>\n",
              "      <th>function</th>\n",
              "      <th>fraudulent</th>\n",
              "    </tr>\n",
              "  </thead>\n",
              "  <tbody>\n",
              "    <tr>\n",
              "      <th>6</th>\n",
              "      <td>7</td>\n",
              "      <td>head of content  m f</td>\n",
              "      <td>de  be  berlin</td>\n",
              "      <td>androidpit</td>\n",
              "      <td>20000 28000</td>\n",
              "      <td>founded in 2009  the fonpit ag rose with its i...</td>\n",
              "      <td>your responsibilities  manage the english spea...</td>\n",
              "      <td>your know how                                 ...</td>\n",
              "      <td>your benefits  being part of a fast growing co...</td>\n",
              "      <td>0</td>\n",
              "      <td>1</td>\n",
              "      <td>1</td>\n",
              "      <td>full time</td>\n",
              "      <td>mid senior level</td>\n",
              "      <td>master s degree</td>\n",
              "      <td>online media</td>\n",
              "      <td>management</td>\n",
              "      <td>0</td>\n",
              "    </tr>\n",
              "    <tr>\n",
              "      <th>15</th>\n",
              "      <td>16</td>\n",
              "      <td>vp of sales   vault dragon</td>\n",
              "      <td>sg  01  singapore</td>\n",
              "      <td>sales</td>\n",
              "      <td>120000 150000</td>\n",
              "      <td>jungle ventures is the leading singapore based...</td>\n",
              "      <td>about vault dragon vault dragon is dropbox for...</td>\n",
              "      <td>key superpowers3 5 years of high pressure sale...</td>\n",
              "      <td>basic  sgd 120 000equity negotiable for a rock...</td>\n",
              "      <td>0</td>\n",
              "      <td>1</td>\n",
              "      <td>1</td>\n",
              "      <td>full time</td>\n",
              "      <td>executive</td>\n",
              "      <td>bachelor s degree</td>\n",
              "      <td>facilities services</td>\n",
              "      <td>sales</td>\n",
              "      <td>0</td>\n",
              "    </tr>\n",
              "    <tr>\n",
              "      <th>23</th>\n",
              "      <td>24</td>\n",
              "      <td>vice president  sales and sponsorship  busines...</td>\n",
              "      <td>us  ca  carlsbad</td>\n",
              "      <td>businessfriend com</td>\n",
              "      <td>100000 120000</td>\n",
              "      <td>wdm group is an innovative  forward thinking d...</td>\n",
              "      <td>url eda2500ddcedb60957fcd7f5b164e092966f8c4e8...</td>\n",
              "      <td>job requirements a reputation as a  go getter ...</td>\n",
              "      <td>businessfriend will offer a competitive six fi...</td>\n",
              "      <td>0</td>\n",
              "      <td>1</td>\n",
              "      <td>0</td>\n",
              "      <td>full time</td>\n",
              "      <td>executive</td>\n",
              "      <td>unspecified</td>\n",
              "      <td>internet</td>\n",
              "      <td>sales</td>\n",
              "      <td>0</td>\n",
              "    </tr>\n",
              "    <tr>\n",
              "      <th>98</th>\n",
              "      <td>99</td>\n",
              "      <td>ic e technician</td>\n",
              "      <td>us    stocton  ca</td>\n",
              "      <td>oil   energy</td>\n",
              "      <td>95000 115000</td>\n",
              "      <td>...</td>\n",
              "      <td>ic amp e technician   bakersfield  ca mt  poso...</td>\n",
              "      <td>qualificationsknowledge  skills  amp  abilitie...</td>\n",
              "      <td>benefitswhat is offered competitive compensati...</td>\n",
              "      <td>0</td>\n",
              "      <td>1</td>\n",
              "      <td>1</td>\n",
              "      <td>full time</td>\n",
              "      <td>mid senior level</td>\n",
              "      <td>high school or equivalent</td>\n",
              "      <td>oil   energy</td>\n",
              "      <td>other</td>\n",
              "      <td>1</td>\n",
              "    </tr>\n",
              "    <tr>\n",
              "      <th>102</th>\n",
              "      <td>103</td>\n",
              "      <td>marketing administrator</td>\n",
              "      <td>gb  war  coventry</td>\n",
              "      <td>marketplace</td>\n",
              "      <td>15000 18000</td>\n",
              "      <td>renewable energy and environmental protection ...</td>\n",
              "      <td>the job is to support the growth of the  url 9...</td>\n",
              "      <td>computer literateable to work with html  altho...</td>\n",
              "      <td>for a suitably motivated and success orientate...</td>\n",
              "      <td>1</td>\n",
              "      <td>1</td>\n",
              "      <td>0</td>\n",
              "      <td>full time</td>\n",
              "      <td>entry level</td>\n",
              "      <td>bachelor s degree</td>\n",
              "      <td>internet</td>\n",
              "      <td>marketing</td>\n",
              "      <td>0</td>\n",
              "    </tr>\n",
              "    <tr>\n",
              "      <th>134</th>\n",
              "      <td>135</td>\n",
              "      <td>senior business development manager</td>\n",
              "      <td>gb    manchester</td>\n",
              "      <td>sales and business development</td>\n",
              "      <td>70000 90000</td>\n",
              "      <td>marketinvoice is one of the most high profile ...</td>\n",
              "      <td>backgrounda senior sales and account managemen...</td>\n",
              "      <td>5 10 years sales experience in b2b solution sa...</td>\n",
              "      <td>based in our manchester officecompetitive basi...</td>\n",
              "      <td>0</td>\n",
              "      <td>1</td>\n",
              "      <td>0</td>\n",
              "      <td>full time</td>\n",
              "      <td>mid senior level</td>\n",
              "      <td>bachelor s degree</td>\n",
              "      <td>financial services</td>\n",
              "      <td>sales</td>\n",
              "      <td>0</td>\n",
              "    </tr>\n",
              "    <tr>\n",
              "      <th>153</th>\n",
              "      <td>154</td>\n",
              "      <td>senior project manager</td>\n",
              "      <td>gb    london</td>\n",
              "      <td>production</td>\n",
              "      <td>28000 45000</td>\n",
              "      <td>neverbland is a team of designers  developers ...</td>\n",
              "      <td>some of us are born with the ability to multi ...</td>\n",
              "      <td>2 3 years agency experience in a producer proj...</td>\n",
              "      <td>work in a dynamic  creative environment learn ...</td>\n",
              "      <td>0</td>\n",
              "      <td>1</td>\n",
              "      <td>1</td>\n",
              "      <td>full time</td>\n",
              "      <td>mid senior level</td>\n",
              "      <td>bachelor s degree</td>\n",
              "      <td>internet</td>\n",
              "      <td>production</td>\n",
              "      <td>0</td>\n",
              "    </tr>\n",
              "    <tr>\n",
              "      <th>160</th>\n",
              "      <td>161</td>\n",
              "      <td>field services supervisor</td>\n",
              "      <td>us  wi  western wisconsin</td>\n",
              "      <td>field operations</td>\n",
              "      <td>44000 57000</td>\n",
              "      <td>dairy  food and beverage processors work withi...</td>\n",
              "      <td>w m  sprinkman designs  builds and installs st...</td>\n",
              "      <td>5 7 years of experience in fabrication and or ...</td>\n",
              "      <td>we provide a solid benefits package with healt...</td>\n",
              "      <td>0</td>\n",
              "      <td>0</td>\n",
              "      <td>0</td>\n",
              "      <td>full time</td>\n",
              "      <td>associate</td>\n",
              "      <td>high school or equivalent</td>\n",
              "      <td>mechanical or industrial engineering</td>\n",
              "      <td>manufacturing</td>\n",
              "      <td>0</td>\n",
              "    </tr>\n",
              "    <tr>\n",
              "      <th>179</th>\n",
              "      <td>180</td>\n",
              "      <td>internal recruiter</td>\n",
              "      <td>gb  lnd  london</td>\n",
              "      <td>playfair capital</td>\n",
              "      <td>20000 40000</td>\n",
              "      <td>playfair capital is an early stage technology ...</td>\n",
              "      <td>you will be responsible for hiring across a po...</td>\n",
              "      <td>previous recruitment experience in fast growth...</td>\n",
              "      <td>work will an awesome group of companies and be...</td>\n",
              "      <td>0</td>\n",
              "      <td>1</td>\n",
              "      <td>1</td>\n",
              "      <td>full time</td>\n",
              "      <td>mid senior level</td>\n",
              "      <td>bachelor s degree</td>\n",
              "      <td>information technology and services</td>\n",
              "      <td>human resources</td>\n",
              "      <td>0</td>\n",
              "    </tr>\n",
              "    <tr>\n",
              "      <th>197</th>\n",
              "      <td>198</td>\n",
              "      <td>software developer</td>\n",
              "      <td>in  mp  indore</td>\n",
              "      <td>software development</td>\n",
              "      <td>360000 600000</td>\n",
              "      <td>being into the it domain for over 4 years  wal...</td>\n",
              "      <td>is coding just a task for you  or something to...</td>\n",
              "      <td>min  1 year in web development</td>\n",
              "      <td>in house product development with a chance to ...</td>\n",
              "      <td>0</td>\n",
              "      <td>1</td>\n",
              "      <td>1</td>\n",
              "      <td>full time</td>\n",
              "      <td>mid senior level</td>\n",
              "      <td>bachelor s degree</td>\n",
              "      <td>information technology and services</td>\n",
              "      <td>information technology</td>\n",
              "      <td>0</td>\n",
              "    </tr>\n",
              "  </tbody>\n",
              "</table>\n",
              "</div>\n",
              "      <button class=\"colab-df-convert\" onclick=\"convertToInteractive('df-5d5398a1-77f2-4ccd-b8c1-295512460bb6')\"\n",
              "              title=\"Convert this dataframe to an interactive table.\"\n",
              "              style=\"display:none;\">\n",
              "        \n",
              "  <svg xmlns=\"http://www.w3.org/2000/svg\" height=\"24px\"viewBox=\"0 0 24 24\"\n",
              "       width=\"24px\">\n",
              "    <path d=\"M0 0h24v24H0V0z\" fill=\"none\"/>\n",
              "    <path d=\"M18.56 5.44l.94 2.06.94-2.06 2.06-.94-2.06-.94-.94-2.06-.94 2.06-2.06.94zm-11 1L8.5 8.5l.94-2.06 2.06-.94-2.06-.94L8.5 2.5l-.94 2.06-2.06.94zm10 10l.94 2.06.94-2.06 2.06-.94-2.06-.94-.94-2.06-.94 2.06-2.06.94z\"/><path d=\"M17.41 7.96l-1.37-1.37c-.4-.4-.92-.59-1.43-.59-.52 0-1.04.2-1.43.59L10.3 9.45l-7.72 7.72c-.78.78-.78 2.05 0 2.83L4 21.41c.39.39.9.59 1.41.59.51 0 1.02-.2 1.41-.59l7.78-7.78 2.81-2.81c.8-.78.8-2.07 0-2.86zM5.41 20L4 18.59l7.72-7.72 1.47 1.35L5.41 20z\"/>\n",
              "  </svg>\n",
              "      </button>\n",
              "      \n",
              "  <style>\n",
              "    .colab-df-container {\n",
              "      display:flex;\n",
              "      flex-wrap:wrap;\n",
              "      gap: 12px;\n",
              "    }\n",
              "\n",
              "    .colab-df-convert {\n",
              "      background-color: #E8F0FE;\n",
              "      border: none;\n",
              "      border-radius: 50%;\n",
              "      cursor: pointer;\n",
              "      display: none;\n",
              "      fill: #1967D2;\n",
              "      height: 32px;\n",
              "      padding: 0 0 0 0;\n",
              "      width: 32px;\n",
              "    }\n",
              "\n",
              "    .colab-df-convert:hover {\n",
              "      background-color: #E2EBFA;\n",
              "      box-shadow: 0px 1px 2px rgba(60, 64, 67, 0.3), 0px 1px 3px 1px rgba(60, 64, 67, 0.15);\n",
              "      fill: #174EA6;\n",
              "    }\n",
              "\n",
              "    [theme=dark] .colab-df-convert {\n",
              "      background-color: #3B4455;\n",
              "      fill: #D2E3FC;\n",
              "    }\n",
              "\n",
              "    [theme=dark] .colab-df-convert:hover {\n",
              "      background-color: #434B5C;\n",
              "      box-shadow: 0px 1px 3px 1px rgba(0, 0, 0, 0.15);\n",
              "      filter: drop-shadow(0px 1px 2px rgba(0, 0, 0, 0.3));\n",
              "      fill: #FFFFFF;\n",
              "    }\n",
              "  </style>\n",
              "\n",
              "      <script>\n",
              "        const buttonEl =\n",
              "          document.querySelector('#df-5d5398a1-77f2-4ccd-b8c1-295512460bb6 button.colab-df-convert');\n",
              "        buttonEl.style.display =\n",
              "          google.colab.kernel.accessAllowed ? 'block' : 'none';\n",
              "\n",
              "        async function convertToInteractive(key) {\n",
              "          const element = document.querySelector('#df-5d5398a1-77f2-4ccd-b8c1-295512460bb6');\n",
              "          const dataTable =\n",
              "            await google.colab.kernel.invokeFunction('convertToInteractive',\n",
              "                                                     [key], {});\n",
              "          if (!dataTable) return;\n",
              "\n",
              "          const docLinkHtml = 'Like what you see? Visit the ' +\n",
              "            '<a target=\"_blank\" href=https://colab.research.google.com/notebooks/data_table.ipynb>data table notebook</a>'\n",
              "            + ' to learn more about interactive tables.';\n",
              "          element.innerHTML = '';\n",
              "          dataTable['output_type'] = 'display_data';\n",
              "          await google.colab.output.renderOutput(dataTable, element);\n",
              "          const docLink = document.createElement('div');\n",
              "          docLink.innerHTML = docLinkHtml;\n",
              "          element.appendChild(docLink);\n",
              "        }\n",
              "      </script>\n",
              "    </div>\n",
              "  </div>\n",
              "  "
            ]
          },
          "metadata": {},
          "execution_count": 39
        }
      ]
    },
    {
      "cell_type": "markdown",
      "metadata": {
        "id": "15sW_btIsH7Q"
      },
      "source": [
        "## Preprocessing"
      ]
    },
    {
      "cell_type": "markdown",
      "source": [
        "### covert string to word token"
      ],
      "metadata": {
        "id": "mB7PDS_jwyvR"
      }
    },
    {
      "cell_type": "code",
      "execution_count": 58,
      "metadata": {
        "colab": {
          "base_uri": "https://localhost:8080/",
          "height": 530
        },
        "id": "JN48DwVxhqxE",
        "outputId": "2751ba2f-fb32-47a1-95d3-bd9c8e7947d2"
      },
      "outputs": [
        {
          "output_type": "display_data",
          "data": {
            "text/plain": [
              "     job_id                                              title  \\\n",
              "6         7                              head of content (m/f)   \n",
              "15       16                         vp of sales - vault dragon   \n",
              "23       24  vice president, sales and sponsorship (busines...   \n",
              "98       99                                    ic&e technician   \n",
              "102     103                            marketing administrator   \n",
              "\n",
              "              location          department   salary_range  \\\n",
              "6       de, be, berlin          androidpit    20000-28000   \n",
              "15   sg, 01, singapore               sales  120000-150000   \n",
              "23    us, ca, carlsbad  businessfriend.com  100000-120000   \n",
              "98   us, , stocton, ca        oil & energy   95000-115000   \n",
              "102  gb, war, coventry         marketplace    15000-18000   \n",
              "\n",
              "                                       company_profile  \\\n",
              "6    founded in 2009, the fonpit ag rose with its i...   \n",
              "15   jungle ventures is the leading singapore based...   \n",
              "23   wdm group is an innovative, forward thinking d...   \n",
              "98                                                 ...   \n",
              "102  renewable energy and environmental protection ...   \n",
              "\n",
              "                                           description  \\\n",
              "6    your responsibilities: manage the english-spea...   \n",
              "15   about vault dragon vault dragon is dropbox for...   \n",
              "23   #url_eda2500ddcedb60957fcd7f5b164e092966f8c4e8...   \n",
              "98   ic&amp;e technician | bakersfield, ca mt. poso...   \n",
              "102  the job is to support the growth of the #url_9...   \n",
              "\n",
              "                                          requirements  \\\n",
              "6    your know-how:                                ...   \n",
              "15   key superpowers3-5 years of high-pressure sale...   \n",
              "23   job requirements:a reputation as a \"go-getter\"...   \n",
              "98   qualificationsknowledge, skills &amp; abilitie...   \n",
              "102  computer literateable to work with html, altho...   \n",
              "\n",
              "                                              benefits  telecommuting  \\\n",
              "6    your benefits: being part of a fast-growing co...              0   \n",
              "15   basic: sgd 120,000equity negotiable for a rock...              0   \n",
              "23   businessfriend will offer a competitive six fi...              0   \n",
              "98   benefitswhat is offered:competitive compensati...              0   \n",
              "102  for a suitably motivated and success orientate...              1   \n",
              "\n",
              "     has_company_logo  has_questions employment_type required_experience  \\\n",
              "6                   1              1       full-time    mid-senior level   \n",
              "15                  1              1       full-time           executive   \n",
              "23                  1              0       full-time           executive   \n",
              "98                  1              1       full-time    mid-senior level   \n",
              "102                 1              0       full-time         entry level   \n",
              "\n",
              "            required_education             industry    function  fraudulent  \n",
              "6              master's degree         online media  management           0  \n",
              "15           bachelor's degree  facilities services       sales           0  \n",
              "23                 unspecified             internet       sales           0  \n",
              "98   high school or equivalent         oil & energy       other           1  \n",
              "102          bachelor's degree             internet   marketing           0  "
            ],
            "text/html": [
              "\n",
              "  <div id=\"df-2166be3f-1558-4dd7-83b3-da463bafb03f\">\n",
              "    <div class=\"colab-df-container\">\n",
              "      <div>\n",
              "<style scoped>\n",
              "    .dataframe tbody tr th:only-of-type {\n",
              "        vertical-align: middle;\n",
              "    }\n",
              "\n",
              "    .dataframe tbody tr th {\n",
              "        vertical-align: top;\n",
              "    }\n",
              "\n",
              "    .dataframe thead th {\n",
              "        text-align: right;\n",
              "    }\n",
              "</style>\n",
              "<table border=\"1\" class=\"dataframe\">\n",
              "  <thead>\n",
              "    <tr style=\"text-align: right;\">\n",
              "      <th></th>\n",
              "      <th>job_id</th>\n",
              "      <th>title</th>\n",
              "      <th>location</th>\n",
              "      <th>department</th>\n",
              "      <th>salary_range</th>\n",
              "      <th>company_profile</th>\n",
              "      <th>description</th>\n",
              "      <th>requirements</th>\n",
              "      <th>benefits</th>\n",
              "      <th>telecommuting</th>\n",
              "      <th>has_company_logo</th>\n",
              "      <th>has_questions</th>\n",
              "      <th>employment_type</th>\n",
              "      <th>required_experience</th>\n",
              "      <th>required_education</th>\n",
              "      <th>industry</th>\n",
              "      <th>function</th>\n",
              "      <th>fraudulent</th>\n",
              "    </tr>\n",
              "  </thead>\n",
              "  <tbody>\n",
              "    <tr>\n",
              "      <th>6</th>\n",
              "      <td>7</td>\n",
              "      <td>head of content (m/f)</td>\n",
              "      <td>de, be, berlin</td>\n",
              "      <td>androidpit</td>\n",
              "      <td>20000-28000</td>\n",
              "      <td>founded in 2009, the fonpit ag rose with its i...</td>\n",
              "      <td>your responsibilities: manage the english-spea...</td>\n",
              "      <td>your know-how:                                ...</td>\n",
              "      <td>your benefits: being part of a fast-growing co...</td>\n",
              "      <td>0</td>\n",
              "      <td>1</td>\n",
              "      <td>1</td>\n",
              "      <td>full-time</td>\n",
              "      <td>mid-senior level</td>\n",
              "      <td>master's degree</td>\n",
              "      <td>online media</td>\n",
              "      <td>management</td>\n",
              "      <td>0</td>\n",
              "    </tr>\n",
              "    <tr>\n",
              "      <th>15</th>\n",
              "      <td>16</td>\n",
              "      <td>vp of sales - vault dragon</td>\n",
              "      <td>sg, 01, singapore</td>\n",
              "      <td>sales</td>\n",
              "      <td>120000-150000</td>\n",
              "      <td>jungle ventures is the leading singapore based...</td>\n",
              "      <td>about vault dragon vault dragon is dropbox for...</td>\n",
              "      <td>key superpowers3-5 years of high-pressure sale...</td>\n",
              "      <td>basic: sgd 120,000equity negotiable for a rock...</td>\n",
              "      <td>0</td>\n",
              "      <td>1</td>\n",
              "      <td>1</td>\n",
              "      <td>full-time</td>\n",
              "      <td>executive</td>\n",
              "      <td>bachelor's degree</td>\n",
              "      <td>facilities services</td>\n",
              "      <td>sales</td>\n",
              "      <td>0</td>\n",
              "    </tr>\n",
              "    <tr>\n",
              "      <th>23</th>\n",
              "      <td>24</td>\n",
              "      <td>vice president, sales and sponsorship (busines...</td>\n",
              "      <td>us, ca, carlsbad</td>\n",
              "      <td>businessfriend.com</td>\n",
              "      <td>100000-120000</td>\n",
              "      <td>wdm group is an innovative, forward thinking d...</td>\n",
              "      <td>#url_eda2500ddcedb60957fcd7f5b164e092966f8c4e8...</td>\n",
              "      <td>job requirements:a reputation as a \"go-getter\"...</td>\n",
              "      <td>businessfriend will offer a competitive six fi...</td>\n",
              "      <td>0</td>\n",
              "      <td>1</td>\n",
              "      <td>0</td>\n",
              "      <td>full-time</td>\n",
              "      <td>executive</td>\n",
              "      <td>unspecified</td>\n",
              "      <td>internet</td>\n",
              "      <td>sales</td>\n",
              "      <td>0</td>\n",
              "    </tr>\n",
              "    <tr>\n",
              "      <th>98</th>\n",
              "      <td>99</td>\n",
              "      <td>ic&amp;e technician</td>\n",
              "      <td>us, , stocton, ca</td>\n",
              "      <td>oil &amp; energy</td>\n",
              "      <td>95000-115000</td>\n",
              "      <td>...</td>\n",
              "      <td>ic&amp;amp;e technician | bakersfield, ca mt. poso...</td>\n",
              "      <td>qualificationsknowledge, skills &amp;amp; abilitie...</td>\n",
              "      <td>benefitswhat is offered:competitive compensati...</td>\n",
              "      <td>0</td>\n",
              "      <td>1</td>\n",
              "      <td>1</td>\n",
              "      <td>full-time</td>\n",
              "      <td>mid-senior level</td>\n",
              "      <td>high school or equivalent</td>\n",
              "      <td>oil &amp; energy</td>\n",
              "      <td>other</td>\n",
              "      <td>1</td>\n",
              "    </tr>\n",
              "    <tr>\n",
              "      <th>102</th>\n",
              "      <td>103</td>\n",
              "      <td>marketing administrator</td>\n",
              "      <td>gb, war, coventry</td>\n",
              "      <td>marketplace</td>\n",
              "      <td>15000-18000</td>\n",
              "      <td>renewable energy and environmental protection ...</td>\n",
              "      <td>the job is to support the growth of the #url_9...</td>\n",
              "      <td>computer literateable to work with html, altho...</td>\n",
              "      <td>for a suitably motivated and success orientate...</td>\n",
              "      <td>1</td>\n",
              "      <td>1</td>\n",
              "      <td>0</td>\n",
              "      <td>full-time</td>\n",
              "      <td>entry level</td>\n",
              "      <td>bachelor's degree</td>\n",
              "      <td>internet</td>\n",
              "      <td>marketing</td>\n",
              "      <td>0</td>\n",
              "    </tr>\n",
              "  </tbody>\n",
              "</table>\n",
              "</div>\n",
              "      <button class=\"colab-df-convert\" onclick=\"convertToInteractive('df-2166be3f-1558-4dd7-83b3-da463bafb03f')\"\n",
              "              title=\"Convert this dataframe to an interactive table.\"\n",
              "              style=\"display:none;\">\n",
              "        \n",
              "  <svg xmlns=\"http://www.w3.org/2000/svg\" height=\"24px\"viewBox=\"0 0 24 24\"\n",
              "       width=\"24px\">\n",
              "    <path d=\"M0 0h24v24H0V0z\" fill=\"none\"/>\n",
              "    <path d=\"M18.56 5.44l.94 2.06.94-2.06 2.06-.94-2.06-.94-.94-2.06-.94 2.06-2.06.94zm-11 1L8.5 8.5l.94-2.06 2.06-.94-2.06-.94L8.5 2.5l-.94 2.06-2.06.94zm10 10l.94 2.06.94-2.06 2.06-.94-2.06-.94-.94-2.06-.94 2.06-2.06.94z\"/><path d=\"M17.41 7.96l-1.37-1.37c-.4-.4-.92-.59-1.43-.59-.52 0-1.04.2-1.43.59L10.3 9.45l-7.72 7.72c-.78.78-.78 2.05 0 2.83L4 21.41c.39.39.9.59 1.41.59.51 0 1.02-.2 1.41-.59l7.78-7.78 2.81-2.81c.8-.78.8-2.07 0-2.86zM5.41 20L4 18.59l7.72-7.72 1.47 1.35L5.41 20z\"/>\n",
              "  </svg>\n",
              "      </button>\n",
              "      \n",
              "  <style>\n",
              "    .colab-df-container {\n",
              "      display:flex;\n",
              "      flex-wrap:wrap;\n",
              "      gap: 12px;\n",
              "    }\n",
              "\n",
              "    .colab-df-convert {\n",
              "      background-color: #E8F0FE;\n",
              "      border: none;\n",
              "      border-radius: 50%;\n",
              "      cursor: pointer;\n",
              "      display: none;\n",
              "      fill: #1967D2;\n",
              "      height: 32px;\n",
              "      padding: 0 0 0 0;\n",
              "      width: 32px;\n",
              "    }\n",
              "\n",
              "    .colab-df-convert:hover {\n",
              "      background-color: #E2EBFA;\n",
              "      box-shadow: 0px 1px 2px rgba(60, 64, 67, 0.3), 0px 1px 3px 1px rgba(60, 64, 67, 0.15);\n",
              "      fill: #174EA6;\n",
              "    }\n",
              "\n",
              "    [theme=dark] .colab-df-convert {\n",
              "      background-color: #3B4455;\n",
              "      fill: #D2E3FC;\n",
              "    }\n",
              "\n",
              "    [theme=dark] .colab-df-convert:hover {\n",
              "      background-color: #434B5C;\n",
              "      box-shadow: 0px 1px 3px 1px rgba(0, 0, 0, 0.15);\n",
              "      filter: drop-shadow(0px 1px 2px rgba(0, 0, 0, 0.3));\n",
              "      fill: #FFFFFF;\n",
              "    }\n",
              "  </style>\n",
              "\n",
              "      <script>\n",
              "        const buttonEl =\n",
              "          document.querySelector('#df-2166be3f-1558-4dd7-83b3-da463bafb03f button.colab-df-convert');\n",
              "        buttonEl.style.display =\n",
              "          google.colab.kernel.accessAllowed ? 'block' : 'none';\n",
              "\n",
              "        async function convertToInteractive(key) {\n",
              "          const element = document.querySelector('#df-2166be3f-1558-4dd7-83b3-da463bafb03f');\n",
              "          const dataTable =\n",
              "            await google.colab.kernel.invokeFunction('convertToInteractive',\n",
              "                                                     [key], {});\n",
              "          if (!dataTable) return;\n",
              "\n",
              "          const docLinkHtml = 'Like what you see? Visit the ' +\n",
              "            '<a target=\"_blank\" href=https://colab.research.google.com/notebooks/data_table.ipynb>data table notebook</a>'\n",
              "            + ' to learn more about interactive tables.';\n",
              "          element.innerHTML = '';\n",
              "          dataTable['output_type'] = 'display_data';\n",
              "          await google.colab.output.renderOutput(dataTable, element);\n",
              "          const docLink = document.createElement('div');\n",
              "          docLink.innerHTML = docLinkHtml;\n",
              "          element.appendChild(docLink);\n",
              "        }\n",
              "      </script>\n",
              "    </div>\n",
              "  </div>\n",
              "  "
            ]
          },
          "metadata": {}
        }
      ],
      "source": [
        "# Convert Everything to lowercase\n",
        "new_df = new_df.applymap(lambda s: s.lower() if type(s) == str else s)\n",
        "display(new_df.head(5))"
      ]
    },
    {
      "cell_type": "code",
      "execution_count": 59,
      "metadata": {
        "colab": {
          "base_uri": "https://localhost:8080/",
          "height": 548
        },
        "id": "HMDJhqYdh2Js",
        "outputId": "53da1bca-760d-4f14-a5ad-bc46a1d65ee6"
      },
      "outputs": [
        {
          "output_type": "display_data",
          "data": {
            "text/plain": [
              "     job_id                                              title  \\\n",
              "6         7                              head of content  m f    \n",
              "15       16                         vp of sales   vault dragon   \n",
              "23       24  vice president  sales and sponsorship  busines...   \n",
              "98       99                                    ic e technician   \n",
              "102     103                            marketing administrator   \n",
              "\n",
              "              location          department   salary_range  \\\n",
              "6       de  be  berlin          androidpit    20000 28000   \n",
              "15   sg  01  singapore               sales  120000 150000   \n",
              "23    us  ca  carlsbad  businessfriend com  100000 120000   \n",
              "98   us    stocton  ca        oil   energy   95000 115000   \n",
              "102  gb  war  coventry         marketplace    15000 18000   \n",
              "\n",
              "                                       company_profile  \\\n",
              "6    founded in 2009  the fonpit ag rose with its i...   \n",
              "15   jungle ventures is the leading singapore based...   \n",
              "23   wdm group is an innovative  forward thinking d...   \n",
              "98                                                 ...   \n",
              "102  renewable energy and environmental protection ...   \n",
              "\n",
              "                                           description  \\\n",
              "6    your responsibilities  manage the english spea...   \n",
              "15   about vault dragon vault dragon is dropbox for...   \n",
              "23    url eda2500ddcedb60957fcd7f5b164e092966f8c4e8...   \n",
              "98   ic amp e technician   bakersfield  ca mt  poso...   \n",
              "102  the job is to support the growth of the  url 9...   \n",
              "\n",
              "                                          requirements  \\\n",
              "6    your know how                                 ...   \n",
              "15   key superpowers3 5 years of high pressure sale...   \n",
              "23   job requirements a reputation as a  go getter ...   \n",
              "98   qualificationsknowledge  skills  amp  abilitie...   \n",
              "102  computer literateable to work with html  altho...   \n",
              "\n",
              "                                              benefits  telecommuting  \\\n",
              "6    your benefits  being part of a fast growing co...              0   \n",
              "15   basic  sgd 120 000equity negotiable for a rock...              0   \n",
              "23   businessfriend will offer a competitive six fi...              0   \n",
              "98   benefitswhat is offered competitive compensati...              0   \n",
              "102  for a suitably motivated and success orientate...              1   \n",
              "\n",
              "     has_company_logo  has_questions employment_type required_experience  \\\n",
              "6                   1              1       full time    mid senior level   \n",
              "15                  1              1       full time           executive   \n",
              "23                  1              0       full time           executive   \n",
              "98                  1              1       full time    mid senior level   \n",
              "102                 1              0       full time         entry level   \n",
              "\n",
              "            required_education             industry    function  fraudulent  \n",
              "6              master s degree         online media  management           0  \n",
              "15           bachelor s degree  facilities services       sales           0  \n",
              "23                 unspecified             internet       sales           0  \n",
              "98   high school or equivalent         oil   energy       other           1  \n",
              "102          bachelor s degree             internet   marketing           0  "
            ],
            "text/html": [
              "\n",
              "  <div id=\"df-5caf6d44-779e-4e81-84ea-a3416b1367fb\">\n",
              "    <div class=\"colab-df-container\">\n",
              "      <div>\n",
              "<style scoped>\n",
              "    .dataframe tbody tr th:only-of-type {\n",
              "        vertical-align: middle;\n",
              "    }\n",
              "\n",
              "    .dataframe tbody tr th {\n",
              "        vertical-align: top;\n",
              "    }\n",
              "\n",
              "    .dataframe thead th {\n",
              "        text-align: right;\n",
              "    }\n",
              "</style>\n",
              "<table border=\"1\" class=\"dataframe\">\n",
              "  <thead>\n",
              "    <tr style=\"text-align: right;\">\n",
              "      <th></th>\n",
              "      <th>job_id</th>\n",
              "      <th>title</th>\n",
              "      <th>location</th>\n",
              "      <th>department</th>\n",
              "      <th>salary_range</th>\n",
              "      <th>company_profile</th>\n",
              "      <th>description</th>\n",
              "      <th>requirements</th>\n",
              "      <th>benefits</th>\n",
              "      <th>telecommuting</th>\n",
              "      <th>has_company_logo</th>\n",
              "      <th>has_questions</th>\n",
              "      <th>employment_type</th>\n",
              "      <th>required_experience</th>\n",
              "      <th>required_education</th>\n",
              "      <th>industry</th>\n",
              "      <th>function</th>\n",
              "      <th>fraudulent</th>\n",
              "    </tr>\n",
              "  </thead>\n",
              "  <tbody>\n",
              "    <tr>\n",
              "      <th>6</th>\n",
              "      <td>7</td>\n",
              "      <td>head of content  m f</td>\n",
              "      <td>de  be  berlin</td>\n",
              "      <td>androidpit</td>\n",
              "      <td>20000 28000</td>\n",
              "      <td>founded in 2009  the fonpit ag rose with its i...</td>\n",
              "      <td>your responsibilities  manage the english spea...</td>\n",
              "      <td>your know how                                 ...</td>\n",
              "      <td>your benefits  being part of a fast growing co...</td>\n",
              "      <td>0</td>\n",
              "      <td>1</td>\n",
              "      <td>1</td>\n",
              "      <td>full time</td>\n",
              "      <td>mid senior level</td>\n",
              "      <td>master s degree</td>\n",
              "      <td>online media</td>\n",
              "      <td>management</td>\n",
              "      <td>0</td>\n",
              "    </tr>\n",
              "    <tr>\n",
              "      <th>15</th>\n",
              "      <td>16</td>\n",
              "      <td>vp of sales   vault dragon</td>\n",
              "      <td>sg  01  singapore</td>\n",
              "      <td>sales</td>\n",
              "      <td>120000 150000</td>\n",
              "      <td>jungle ventures is the leading singapore based...</td>\n",
              "      <td>about vault dragon vault dragon is dropbox for...</td>\n",
              "      <td>key superpowers3 5 years of high pressure sale...</td>\n",
              "      <td>basic  sgd 120 000equity negotiable for a rock...</td>\n",
              "      <td>0</td>\n",
              "      <td>1</td>\n",
              "      <td>1</td>\n",
              "      <td>full time</td>\n",
              "      <td>executive</td>\n",
              "      <td>bachelor s degree</td>\n",
              "      <td>facilities services</td>\n",
              "      <td>sales</td>\n",
              "      <td>0</td>\n",
              "    </tr>\n",
              "    <tr>\n",
              "      <th>23</th>\n",
              "      <td>24</td>\n",
              "      <td>vice president  sales and sponsorship  busines...</td>\n",
              "      <td>us  ca  carlsbad</td>\n",
              "      <td>businessfriend com</td>\n",
              "      <td>100000 120000</td>\n",
              "      <td>wdm group is an innovative  forward thinking d...</td>\n",
              "      <td>url eda2500ddcedb60957fcd7f5b164e092966f8c4e8...</td>\n",
              "      <td>job requirements a reputation as a  go getter ...</td>\n",
              "      <td>businessfriend will offer a competitive six fi...</td>\n",
              "      <td>0</td>\n",
              "      <td>1</td>\n",
              "      <td>0</td>\n",
              "      <td>full time</td>\n",
              "      <td>executive</td>\n",
              "      <td>unspecified</td>\n",
              "      <td>internet</td>\n",
              "      <td>sales</td>\n",
              "      <td>0</td>\n",
              "    </tr>\n",
              "    <tr>\n",
              "      <th>98</th>\n",
              "      <td>99</td>\n",
              "      <td>ic e technician</td>\n",
              "      <td>us    stocton  ca</td>\n",
              "      <td>oil   energy</td>\n",
              "      <td>95000 115000</td>\n",
              "      <td>...</td>\n",
              "      <td>ic amp e technician   bakersfield  ca mt  poso...</td>\n",
              "      <td>qualificationsknowledge  skills  amp  abilitie...</td>\n",
              "      <td>benefitswhat is offered competitive compensati...</td>\n",
              "      <td>0</td>\n",
              "      <td>1</td>\n",
              "      <td>1</td>\n",
              "      <td>full time</td>\n",
              "      <td>mid senior level</td>\n",
              "      <td>high school or equivalent</td>\n",
              "      <td>oil   energy</td>\n",
              "      <td>other</td>\n",
              "      <td>1</td>\n",
              "    </tr>\n",
              "    <tr>\n",
              "      <th>102</th>\n",
              "      <td>103</td>\n",
              "      <td>marketing administrator</td>\n",
              "      <td>gb  war  coventry</td>\n",
              "      <td>marketplace</td>\n",
              "      <td>15000 18000</td>\n",
              "      <td>renewable energy and environmental protection ...</td>\n",
              "      <td>the job is to support the growth of the  url 9...</td>\n",
              "      <td>computer literateable to work with html  altho...</td>\n",
              "      <td>for a suitably motivated and success orientate...</td>\n",
              "      <td>1</td>\n",
              "      <td>1</td>\n",
              "      <td>0</td>\n",
              "      <td>full time</td>\n",
              "      <td>entry level</td>\n",
              "      <td>bachelor s degree</td>\n",
              "      <td>internet</td>\n",
              "      <td>marketing</td>\n",
              "      <td>0</td>\n",
              "    </tr>\n",
              "  </tbody>\n",
              "</table>\n",
              "</div>\n",
              "      <button class=\"colab-df-convert\" onclick=\"convertToInteractive('df-5caf6d44-779e-4e81-84ea-a3416b1367fb')\"\n",
              "              title=\"Convert this dataframe to an interactive table.\"\n",
              "              style=\"display:none;\">\n",
              "        \n",
              "  <svg xmlns=\"http://www.w3.org/2000/svg\" height=\"24px\"viewBox=\"0 0 24 24\"\n",
              "       width=\"24px\">\n",
              "    <path d=\"M0 0h24v24H0V0z\" fill=\"none\"/>\n",
              "    <path d=\"M18.56 5.44l.94 2.06.94-2.06 2.06-.94-2.06-.94-.94-2.06-.94 2.06-2.06.94zm-11 1L8.5 8.5l.94-2.06 2.06-.94-2.06-.94L8.5 2.5l-.94 2.06-2.06.94zm10 10l.94 2.06.94-2.06 2.06-.94-2.06-.94-.94-2.06-.94 2.06-2.06.94z\"/><path d=\"M17.41 7.96l-1.37-1.37c-.4-.4-.92-.59-1.43-.59-.52 0-1.04.2-1.43.59L10.3 9.45l-7.72 7.72c-.78.78-.78 2.05 0 2.83L4 21.41c.39.39.9.59 1.41.59.51 0 1.02-.2 1.41-.59l7.78-7.78 2.81-2.81c.8-.78.8-2.07 0-2.86zM5.41 20L4 18.59l7.72-7.72 1.47 1.35L5.41 20z\"/>\n",
              "  </svg>\n",
              "      </button>\n",
              "      \n",
              "  <style>\n",
              "    .colab-df-container {\n",
              "      display:flex;\n",
              "      flex-wrap:wrap;\n",
              "      gap: 12px;\n",
              "    }\n",
              "\n",
              "    .colab-df-convert {\n",
              "      background-color: #E8F0FE;\n",
              "      border: none;\n",
              "      border-radius: 50%;\n",
              "      cursor: pointer;\n",
              "      display: none;\n",
              "      fill: #1967D2;\n",
              "      height: 32px;\n",
              "      padding: 0 0 0 0;\n",
              "      width: 32px;\n",
              "    }\n",
              "\n",
              "    .colab-df-convert:hover {\n",
              "      background-color: #E2EBFA;\n",
              "      box-shadow: 0px 1px 2px rgba(60, 64, 67, 0.3), 0px 1px 3px 1px rgba(60, 64, 67, 0.15);\n",
              "      fill: #174EA6;\n",
              "    }\n",
              "\n",
              "    [theme=dark] .colab-df-convert {\n",
              "      background-color: #3B4455;\n",
              "      fill: #D2E3FC;\n",
              "    }\n",
              "\n",
              "    [theme=dark] .colab-df-convert:hover {\n",
              "      background-color: #434B5C;\n",
              "      box-shadow: 0px 1px 3px 1px rgba(0, 0, 0, 0.15);\n",
              "      filter: drop-shadow(0px 1px 2px rgba(0, 0, 0, 0.3));\n",
              "      fill: #FFFFFF;\n",
              "    }\n",
              "  </style>\n",
              "\n",
              "      <script>\n",
              "        const buttonEl =\n",
              "          document.querySelector('#df-5caf6d44-779e-4e81-84ea-a3416b1367fb button.colab-df-convert');\n",
              "        buttonEl.style.display =\n",
              "          google.colab.kernel.accessAllowed ? 'block' : 'none';\n",
              "\n",
              "        async function convertToInteractive(key) {\n",
              "          const element = document.querySelector('#df-5caf6d44-779e-4e81-84ea-a3416b1367fb');\n",
              "          const dataTable =\n",
              "            await google.colab.kernel.invokeFunction('convertToInteractive',\n",
              "                                                     [key], {});\n",
              "          if (!dataTable) return;\n",
              "\n",
              "          const docLinkHtml = 'Like what you see? Visit the ' +\n",
              "            '<a target=\"_blank\" href=https://colab.research.google.com/notebooks/data_table.ipynb>data table notebook</a>'\n",
              "            + ' to learn more about interactive tables.';\n",
              "          element.innerHTML = '';\n",
              "          dataTable['output_type'] = 'display_data';\n",
              "          await google.colab.output.renderOutput(dataTable, element);\n",
              "          const docLink = document.createElement('div');\n",
              "          docLink.innerHTML = docLinkHtml;\n",
              "          element.appendChild(docLink);\n",
              "        }\n",
              "      </script>\n",
              "    </div>\n",
              "  </div>\n",
              "  "
            ]
          },
          "metadata": {}
        }
      ],
      "source": [
        "# Remove Punctuation\n",
        "punc_list = list(string.punctuation)\n",
        "def remove_punctuation(text, punct_list):\n",
        "    for punc in punct_list:\n",
        "        if punc in text:\n",
        "            text = text.replace(punc, ' ')\n",
        "    return text\n",
        "\n",
        "new_df = new_df.applymap(lambda s: remove_punctuation(s, punc_list) if type(s) == str else s)\n",
        "display(new_df.head(5))"
      ]
    },
    {
      "cell_type": "code",
      "execution_count": 60,
      "metadata": {
        "colab": {
          "base_uri": "https://localhost:8080/",
          "height": 530
        },
        "id": "-zl9Z_UEh9Mp",
        "outputId": "c0de61c5-9d11-472e-aebf-fa9bcbdfa3fe"
      },
      "outputs": [
        {
          "output_type": "display_data",
          "data": {
            "text/plain": [
              "     job_id                                              title  \\\n",
              "6         7                          [head, of, content, m, f]   \n",
              "15       16                     [vp, of, sales, vault, dragon]   \n",
              "23       24  [vice, president, sales, and, sponsorship, bus...   \n",
              "98       99                                [ic, e, technician]   \n",
              "102     103                         [marketing, administrator]   \n",
              "\n",
              "                location             department      salary_range  \\\n",
              "6       [de, be, berlin]           [androidpit]    [20000, 28000]   \n",
              "15   [sg, 01, singapore]                [sales]  [120000, 150000]   \n",
              "23    [us, ca, carlsbad]  [businessfriend, com]  [100000, 120000]   \n",
              "98     [us, stocton, ca]          [oil, energy]   [95000, 115000]   \n",
              "102  [gb, war, coventry]          [marketplace]    [15000, 18000]   \n",
              "\n",
              "                                       company_profile  \\\n",
              "6    [founded, in, 2009, the, fonpit, ag, rose, wit...   \n",
              "15   [jungle, ventures, is, the, leading, singapore...   \n",
              "23   [wdm, group, is, an, innovative, forward, thin...   \n",
              "98   [staffing, amp, recruiting, done, right, for, ...   \n",
              "102  [renewable, energy, and, environmental, protec...   \n",
              "\n",
              "                                           description  \\\n",
              "6    [your, responsibilities, manage, the, english,...   \n",
              "15   [about, vault, dragon, vault, dragon, is, drop...   \n",
              "23   [url, eda2500ddcedb60957fcd7f5b164e092966f8c4e...   \n",
              "98   [ic, amp, e, technician, bakersfield, ca, mt, ...   \n",
              "102  [the, job, is, to, support, the, growth, of, t...   \n",
              "\n",
              "                                          requirements  \\\n",
              "6    [your, know, how, university, or, college, deg...   \n",
              "15   [key, superpowers3, 5, years, of, high, pressu...   \n",
              "23   [job, requirements, a, reputation, as, a, go, ...   \n",
              "98   [qualificationsknowledge, skills, amp, abiliti...   \n",
              "102  [computer, literateable, to, work, with, html,...   \n",
              "\n",
              "                                              benefits  telecommuting  \\\n",
              "6    [your, benefits, being, part, of, a, fast, gro...              0   \n",
              "15   [basic, sgd, 120, 000equity, negotiable, for, ...              0   \n",
              "23   [businessfriend, will, offer, a, competitive, ...              0   \n",
              "98   [benefitswhat, is, offered, competitive, compe...              0   \n",
              "102  [for, a, suitably, motivated, and, success, or...              1   \n",
              "\n",
              "     has_company_logo  has_questions employment_type   required_experience  \\\n",
              "6                   1              1    [full, time]  [mid, senior, level]   \n",
              "15                  1              1    [full, time]           [executive]   \n",
              "23                  1              0    [full, time]           [executive]   \n",
              "98                  1              1    [full, time]  [mid, senior, level]   \n",
              "102                 1              0    [full, time]        [entry, level]   \n",
              "\n",
              "                 required_education                industry      function  \\\n",
              "6               [master, s, degree]         [online, media]  [management]   \n",
              "15            [bachelor, s, degree]  [facilities, services]       [sales]   \n",
              "23                    [unspecified]              [internet]       [sales]   \n",
              "98   [high, school, or, equivalent]           [oil, energy]       [other]   \n",
              "102           [bachelor, s, degree]              [internet]   [marketing]   \n",
              "\n",
              "     fraudulent  \n",
              "6             0  \n",
              "15            0  \n",
              "23            0  \n",
              "98            1  \n",
              "102           0  "
            ],
            "text/html": [
              "\n",
              "  <div id=\"df-c1d19ae9-93ee-44e9-8bea-96efc0ac785a\">\n",
              "    <div class=\"colab-df-container\">\n",
              "      <div>\n",
              "<style scoped>\n",
              "    .dataframe tbody tr th:only-of-type {\n",
              "        vertical-align: middle;\n",
              "    }\n",
              "\n",
              "    .dataframe tbody tr th {\n",
              "        vertical-align: top;\n",
              "    }\n",
              "\n",
              "    .dataframe thead th {\n",
              "        text-align: right;\n",
              "    }\n",
              "</style>\n",
              "<table border=\"1\" class=\"dataframe\">\n",
              "  <thead>\n",
              "    <tr style=\"text-align: right;\">\n",
              "      <th></th>\n",
              "      <th>job_id</th>\n",
              "      <th>title</th>\n",
              "      <th>location</th>\n",
              "      <th>department</th>\n",
              "      <th>salary_range</th>\n",
              "      <th>company_profile</th>\n",
              "      <th>description</th>\n",
              "      <th>requirements</th>\n",
              "      <th>benefits</th>\n",
              "      <th>telecommuting</th>\n",
              "      <th>has_company_logo</th>\n",
              "      <th>has_questions</th>\n",
              "      <th>employment_type</th>\n",
              "      <th>required_experience</th>\n",
              "      <th>required_education</th>\n",
              "      <th>industry</th>\n",
              "      <th>function</th>\n",
              "      <th>fraudulent</th>\n",
              "    </tr>\n",
              "  </thead>\n",
              "  <tbody>\n",
              "    <tr>\n",
              "      <th>6</th>\n",
              "      <td>7</td>\n",
              "      <td>[head, of, content, m, f]</td>\n",
              "      <td>[de, be, berlin]</td>\n",
              "      <td>[androidpit]</td>\n",
              "      <td>[20000, 28000]</td>\n",
              "      <td>[founded, in, 2009, the, fonpit, ag, rose, wit...</td>\n",
              "      <td>[your, responsibilities, manage, the, english,...</td>\n",
              "      <td>[your, know, how, university, or, college, deg...</td>\n",
              "      <td>[your, benefits, being, part, of, a, fast, gro...</td>\n",
              "      <td>0</td>\n",
              "      <td>1</td>\n",
              "      <td>1</td>\n",
              "      <td>[full, time]</td>\n",
              "      <td>[mid, senior, level]</td>\n",
              "      <td>[master, s, degree]</td>\n",
              "      <td>[online, media]</td>\n",
              "      <td>[management]</td>\n",
              "      <td>0</td>\n",
              "    </tr>\n",
              "    <tr>\n",
              "      <th>15</th>\n",
              "      <td>16</td>\n",
              "      <td>[vp, of, sales, vault, dragon]</td>\n",
              "      <td>[sg, 01, singapore]</td>\n",
              "      <td>[sales]</td>\n",
              "      <td>[120000, 150000]</td>\n",
              "      <td>[jungle, ventures, is, the, leading, singapore...</td>\n",
              "      <td>[about, vault, dragon, vault, dragon, is, drop...</td>\n",
              "      <td>[key, superpowers3, 5, years, of, high, pressu...</td>\n",
              "      <td>[basic, sgd, 120, 000equity, negotiable, for, ...</td>\n",
              "      <td>0</td>\n",
              "      <td>1</td>\n",
              "      <td>1</td>\n",
              "      <td>[full, time]</td>\n",
              "      <td>[executive]</td>\n",
              "      <td>[bachelor, s, degree]</td>\n",
              "      <td>[facilities, services]</td>\n",
              "      <td>[sales]</td>\n",
              "      <td>0</td>\n",
              "    </tr>\n",
              "    <tr>\n",
              "      <th>23</th>\n",
              "      <td>24</td>\n",
              "      <td>[vice, president, sales, and, sponsorship, bus...</td>\n",
              "      <td>[us, ca, carlsbad]</td>\n",
              "      <td>[businessfriend, com]</td>\n",
              "      <td>[100000, 120000]</td>\n",
              "      <td>[wdm, group, is, an, innovative, forward, thin...</td>\n",
              "      <td>[url, eda2500ddcedb60957fcd7f5b164e092966f8c4e...</td>\n",
              "      <td>[job, requirements, a, reputation, as, a, go, ...</td>\n",
              "      <td>[businessfriend, will, offer, a, competitive, ...</td>\n",
              "      <td>0</td>\n",
              "      <td>1</td>\n",
              "      <td>0</td>\n",
              "      <td>[full, time]</td>\n",
              "      <td>[executive]</td>\n",
              "      <td>[unspecified]</td>\n",
              "      <td>[internet]</td>\n",
              "      <td>[sales]</td>\n",
              "      <td>0</td>\n",
              "    </tr>\n",
              "    <tr>\n",
              "      <th>98</th>\n",
              "      <td>99</td>\n",
              "      <td>[ic, e, technician]</td>\n",
              "      <td>[us, stocton, ca]</td>\n",
              "      <td>[oil, energy]</td>\n",
              "      <td>[95000, 115000]</td>\n",
              "      <td>[staffing, amp, recruiting, done, right, for, ...</td>\n",
              "      <td>[ic, amp, e, technician, bakersfield, ca, mt, ...</td>\n",
              "      <td>[qualificationsknowledge, skills, amp, abiliti...</td>\n",
              "      <td>[benefitswhat, is, offered, competitive, compe...</td>\n",
              "      <td>0</td>\n",
              "      <td>1</td>\n",
              "      <td>1</td>\n",
              "      <td>[full, time]</td>\n",
              "      <td>[mid, senior, level]</td>\n",
              "      <td>[high, school, or, equivalent]</td>\n",
              "      <td>[oil, energy]</td>\n",
              "      <td>[other]</td>\n",
              "      <td>1</td>\n",
              "    </tr>\n",
              "    <tr>\n",
              "      <th>102</th>\n",
              "      <td>103</td>\n",
              "      <td>[marketing, administrator]</td>\n",
              "      <td>[gb, war, coventry]</td>\n",
              "      <td>[marketplace]</td>\n",
              "      <td>[15000, 18000]</td>\n",
              "      <td>[renewable, energy, and, environmental, protec...</td>\n",
              "      <td>[the, job, is, to, support, the, growth, of, t...</td>\n",
              "      <td>[computer, literateable, to, work, with, html,...</td>\n",
              "      <td>[for, a, suitably, motivated, and, success, or...</td>\n",
              "      <td>1</td>\n",
              "      <td>1</td>\n",
              "      <td>0</td>\n",
              "      <td>[full, time]</td>\n",
              "      <td>[entry, level]</td>\n",
              "      <td>[bachelor, s, degree]</td>\n",
              "      <td>[internet]</td>\n",
              "      <td>[marketing]</td>\n",
              "      <td>0</td>\n",
              "    </tr>\n",
              "  </tbody>\n",
              "</table>\n",
              "</div>\n",
              "      <button class=\"colab-df-convert\" onclick=\"convertToInteractive('df-c1d19ae9-93ee-44e9-8bea-96efc0ac785a')\"\n",
              "              title=\"Convert this dataframe to an interactive table.\"\n",
              "              style=\"display:none;\">\n",
              "        \n",
              "  <svg xmlns=\"http://www.w3.org/2000/svg\" height=\"24px\"viewBox=\"0 0 24 24\"\n",
              "       width=\"24px\">\n",
              "    <path d=\"M0 0h24v24H0V0z\" fill=\"none\"/>\n",
              "    <path d=\"M18.56 5.44l.94 2.06.94-2.06 2.06-.94-2.06-.94-.94-2.06-.94 2.06-2.06.94zm-11 1L8.5 8.5l.94-2.06 2.06-.94-2.06-.94L8.5 2.5l-.94 2.06-2.06.94zm10 10l.94 2.06.94-2.06 2.06-.94-2.06-.94-.94-2.06-.94 2.06-2.06.94z\"/><path d=\"M17.41 7.96l-1.37-1.37c-.4-.4-.92-.59-1.43-.59-.52 0-1.04.2-1.43.59L10.3 9.45l-7.72 7.72c-.78.78-.78 2.05 0 2.83L4 21.41c.39.39.9.59 1.41.59.51 0 1.02-.2 1.41-.59l7.78-7.78 2.81-2.81c.8-.78.8-2.07 0-2.86zM5.41 20L4 18.59l7.72-7.72 1.47 1.35L5.41 20z\"/>\n",
              "  </svg>\n",
              "      </button>\n",
              "      \n",
              "  <style>\n",
              "    .colab-df-container {\n",
              "      display:flex;\n",
              "      flex-wrap:wrap;\n",
              "      gap: 12px;\n",
              "    }\n",
              "\n",
              "    .colab-df-convert {\n",
              "      background-color: #E8F0FE;\n",
              "      border: none;\n",
              "      border-radius: 50%;\n",
              "      cursor: pointer;\n",
              "      display: none;\n",
              "      fill: #1967D2;\n",
              "      height: 32px;\n",
              "      padding: 0 0 0 0;\n",
              "      width: 32px;\n",
              "    }\n",
              "\n",
              "    .colab-df-convert:hover {\n",
              "      background-color: #E2EBFA;\n",
              "      box-shadow: 0px 1px 2px rgba(60, 64, 67, 0.3), 0px 1px 3px 1px rgba(60, 64, 67, 0.15);\n",
              "      fill: #174EA6;\n",
              "    }\n",
              "\n",
              "    [theme=dark] .colab-df-convert {\n",
              "      background-color: #3B4455;\n",
              "      fill: #D2E3FC;\n",
              "    }\n",
              "\n",
              "    [theme=dark] .colab-df-convert:hover {\n",
              "      background-color: #434B5C;\n",
              "      box-shadow: 0px 1px 3px 1px rgba(0, 0, 0, 0.15);\n",
              "      filter: drop-shadow(0px 1px 2px rgba(0, 0, 0, 0.3));\n",
              "      fill: #FFFFFF;\n",
              "    }\n",
              "  </style>\n",
              "\n",
              "      <script>\n",
              "        const buttonEl =\n",
              "          document.querySelector('#df-c1d19ae9-93ee-44e9-8bea-96efc0ac785a button.colab-df-convert');\n",
              "        buttonEl.style.display =\n",
              "          google.colab.kernel.accessAllowed ? 'block' : 'none';\n",
              "\n",
              "        async function convertToInteractive(key) {\n",
              "          const element = document.querySelector('#df-c1d19ae9-93ee-44e9-8bea-96efc0ac785a');\n",
              "          const dataTable =\n",
              "            await google.colab.kernel.invokeFunction('convertToInteractive',\n",
              "                                                     [key], {});\n",
              "          if (!dataTable) return;\n",
              "\n",
              "          const docLinkHtml = 'Like what you see? Visit the ' +\n",
              "            '<a target=\"_blank\" href=https://colab.research.google.com/notebooks/data_table.ipynb>data table notebook</a>'\n",
              "            + ' to learn more about interactive tables.';\n",
              "          element.innerHTML = '';\n",
              "          dataTable['output_type'] = 'display_data';\n",
              "          await google.colab.output.renderOutput(dataTable, element);\n",
              "          const docLink = document.createElement('div');\n",
              "          docLink.innerHTML = docLinkHtml;\n",
              "          element.appendChild(docLink);\n",
              "        }\n",
              "      </script>\n",
              "    </div>\n",
              "  </div>\n",
              "  "
            ]
          },
          "metadata": {}
        }
      ],
      "source": [
        "# Tokenize each text column\n",
        "token_df = new_df.copy()\n",
        "for column in new_df.columns:\n",
        "    token_df[column] = new_df[column].apply(lambda s: word_tokenize(s) if type(s) == str else s)\n",
        "display(token_df.head(5))"
      ]
    },
    {
      "cell_type": "markdown",
      "source": [
        "### tokenizer "
      ],
      "metadata": {
        "id": "AILw9JOa5438"
      }
    },
    {
      "cell_type": "code",
      "execution_count": 61,
      "metadata": {
        "id": "1I2njQ_SoAMj"
      },
      "outputs": [],
      "source": [
        "from keras.preprocessing.text import Tokenizer\n",
        "from keras.utils import pad_sequences\n",
        "from keras.models import Sequential\n",
        "from keras.layers import Dense, Embedding, LSTM, Conv1D, MaxPool1D\n",
        "from sklearn.model_selection import train_test_split\n",
        "from sklearn.metrics import classification_report, accuracy_score"
      ]
    },
    {
      "cell_type": "code",
      "execution_count": 62,
      "metadata": {
        "id": "KJpGeXjnn3Cb"
      },
      "outputs": [],
      "source": [
        "tokenizer = Tokenizer()\n",
        "tokenizer.fit_on_texts(token_df['description'])\n",
        "\n",
        "X = tokenizer.texts_to_sequences(token_df['description'])"
      ]
    },
    {
      "cell_type": "code",
      "execution_count": 63,
      "metadata": {
        "colab": {
          "base_uri": "https://localhost:8080/"
        },
        "id": "ujcQnLiTou0k",
        "outputId": "7e110e00-d827-4e80-d7e6-eded8592bf59"
      },
      "outputs": [
        {
          "output_type": "execute_result",
          "data": {
            "text/plain": [
              "[30, 110, 131, 3, 1864, 1865, 1282, 18, 1, 138]"
            ]
          },
          "metadata": {},
          "execution_count": 63
        }
      ],
      "source": [
        "X[0][:10]"
      ]
    },
    {
      "cell_type": "code",
      "execution_count": 64,
      "metadata": {
        "colab": {
          "base_uri": "https://localhost:8080/"
        },
        "id": "eMtBEjyCo0UR",
        "outputId": "b9fc7f90-e99f-4e46-f279-471f47be3199"
      },
      "outputs": [
        {
          "output_type": "stream",
          "name": "stdout",
          "text": [
            "and -> 1\n",
            "to -> 2\n",
            "the -> 3\n",
            "of -> 4\n",
            "a -> 5\n",
            "in -> 6\n",
            "for -> 7\n",
            "with -> 8\n",
            "our -> 9\n",
            "you -> 10\n"
          ]
        }
      ],
      "source": [
        "word_index = tokenizer.word_index\n",
        "for word, num in word_index.items():\n",
        "    print(f\"{word} -> {num}\")\n",
        "    if num == 10:\n",
        "        break    "
      ]
    },
    {
      "cell_type": "code",
      "execution_count": 65,
      "metadata": {
        "colab": {
          "base_uri": "https://localhost:8080/",
          "height": 265
        },
        "id": "6DH_pb9Co2H7",
        "outputId": "ed1a690b-5f04-466e-e3b9-87fcdddffd26"
      },
      "outputs": [
        {
          "output_type": "display_data",
          "data": {
            "text/plain": [
              "<Figure size 432x288 with 1 Axes>"
            ],
            "image/png": "[encoded data removed]"
          },
          "metadata": {
            "needs_background": "light"
          }
        }
      ],
      "source": [
        "import matplotlib.pyplot as plt\n",
        "plt.hist([len(x) for x in X], bins=500)\n",
        "plt.show()"
      ]
    },
    {
      "cell_type": "code",
      "execution_count": 66,
      "metadata": {
        "colab": {
          "base_uri": "https://localhost:8080/"
        },
        "id": "poDO1hGlo5pA",
        "outputId": "0bad1ab7-87e9-4edb-d561-a5142283e3a4"
      },
      "outputs": [
        {
          "output_type": "execute_result",
          "data": {
            "text/plain": [
              "771"
            ]
          },
          "metadata": {},
          "execution_count": 66
        }
      ],
      "source": [
        "import numpy as np\n",
        "nos = np.array([len(x) for x in X])\n",
        "len(nos[nos  < 700])\n"
      ]
    },
    {
      "cell_type": "code",
      "execution_count": 67,
      "metadata": {
        "id": "U1op4Orbo9Ez"
      },
      "outputs": [],
      "source": [
        "#Lets keep all descriptions to 700, add padding to descriptions with less than 700 words and truncating long ones\n",
        "maxlen = 700 \n",
        "\n",
        "#Making all descriptions of size maxlen defined above\n",
        "X = pad_sequences(X, maxlen=maxlen)"
      ]
    },
    {
      "cell_type": "code",
      "execution_count": 68,
      "metadata": {
        "colab": {
          "base_uri": "https://localhost:8080/"
        },
        "id": "2lrU_nBMpBJY",
        "outputId": "1d192d97-c26c-4394-f4bd-e1242be08c1c"
      },
      "outputs": [
        {
          "output_type": "execute_result",
          "data": {
            "text/plain": [
              "700"
            ]
          },
          "metadata": {},
          "execution_count": 68
        }
      ],
      "source": [
        "#all descriptions has 700 words (in numerical form now). If they had less words, they have been padded with 0\n",
        "# 0 is not associated to any word, as mapping of words started from 1\n",
        "# 0 will also be used later, if unknows word is encountered in test set\n",
        "len(X[0])"
      ]
    },
    {
      "cell_type": "code",
      "execution_count": 69,
      "metadata": {
        "id": "anrg5N5tpHfj"
      },
      "outputs": [],
      "source": [
        "# Adding 1 because of reserved 0 index\n",
        "# Embedding Layer creates one more vector for \"UNKNOWN\" words, or padded words (0s). This Vector is filled with zeros.\n",
        "# Thus our vocab size inceeases by 1\n",
        "vocab_size = len(tokenizer.word_index) + 1"
      ]
    },
    {
      "cell_type": "code",
      "source": [
        "y = new_df['fraudulent']"
      ],
      "metadata": {
        "id": "zVJwgGMD-_Vt"
      },
      "execution_count": 70,
      "outputs": []
    },
    {
      "cell_type": "code",
      "source": [
        "print(len(X))\n",
        "print(len(y))"
      ],
      "metadata": {
        "colab": {
          "base_uri": "https://localhost:8080/"
        },
        "id": "PuTeDXj8GVpR",
        "outputId": "0ff10946-6ab5-4c81-9fa4-196e7b92cea5"
      },
      "execution_count": 71,
      "outputs": [
        {
          "output_type": "stream",
          "name": "stdout",
          "text": [
            "774\n",
            "774\n"
          ]
        }
      ]
    },
    {
      "cell_type": "markdown",
      "source": [
        "### oversample"
      ],
      "metadata": {
        "id": "h-P0pUyzwvU6"
      }
    },
    {
      "cell_type": "code",
      "source": [
        "from imblearn.over_sampling import RandomOverSampler"
      ],
      "metadata": {
        "id": "SvZkpfoOxPH8"
      },
      "execution_count": 76,
      "outputs": []
    },
    {
      "cell_type": "code",
      "source": [
        "oversample = RandomOverSampler(sampling_strategy='minority')"
      ],
      "metadata": {
        "id": "9wM-e7Cnw8cq"
      },
      "execution_count": 77,
      "outputs": []
    },
    {
      "cell_type": "code",
      "source": [
        "y.value_counts().plot.bar()"
      ],
      "metadata": {
        "id": "TBez8HEky-4g",
        "outputId": "dd56adc3-e5e7-4dd6-da51-48465ca43ee2",
        "colab": {
          "base_uri": "https://localhost:8080/",
          "height": 279
        }
      },
      "execution_count": 78,
      "outputs": [
        {
          "output_type": "execute_result",
          "data": {
            "text/plain": [
              "<matplotlib.axes._subplots.AxesSubplot at 0x7fdaa0385730>"
            ]
          },
          "metadata": {},
          "execution_count": 78
        },
        {
          "output_type": "display_data",
          "data": {
            "text/plain": [
              "<Figure size 432x288 with 1 Axes>"
            ],
            "image/png": "[encoded data removed]"
          },
          "metadata": {
            "needs_background": "light"
          }
        }
      ]
    },
    {
      "cell_type": "code",
      "source": [
        "X_over, y_over = oversample.fit_resample(X, y)"
      ],
      "metadata": {
        "id": "0mODa4qnxQ43"
      },
      "execution_count": 79,
      "outputs": []
    },
    {
      "cell_type": "code",
      "source": [
        "y_over.value_counts().plot.bar()"
      ],
      "metadata": {
        "id": "sgL7tOG5yyHh",
        "outputId": "98afb8e3-7b89-4c63-e7ff-86fe2319c923",
        "colab": {
          "base_uri": "https://localhost:8080/",
          "height": 279
        }
      },
      "execution_count": 80,
      "outputs": [
        {
          "output_type": "execute_result",
          "data": {
            "text/plain": [
              "<matplotlib.axes._subplots.AxesSubplot at 0x7fdaa05b8b80>"
            ]
          },
          "metadata": {},
          "execution_count": 80
        },
        {
          "output_type": "display_data",
          "data": {
            "text/plain": [
              "<Figure size 432x288 with 1 Axes>"
            ],
            "image/png": "[encoded data removed]"
          },
          "metadata": {
            "needs_background": "light"
          }
        }
      ]
    },
    {
      "cell_type": "code",
      "source": [
        "X_train, X_test, y_train, y_test = train_test_split(X_over, y_over)"
      ],
      "metadata": {
        "id": "qVJFp664_BQg"
      },
      "execution_count": 81,
      "outputs": []
    },
    {
      "cell_type": "markdown",
      "source": [
        "## Model Training"
      ],
      "metadata": {
        "id": "ClgnzAl25lfR"
      }
    },
    {
      "cell_type": "markdown",
      "source": [
        "### model with no embedding layer"
      ],
      "metadata": {
        "id": "MHW90M8qA5s8"
      }
    },
    {
      "cell_type": "code",
      "source": [
        "#Defining Neural Network\n",
        "model = Sequential()\n",
        "#Non-trainable embeddidng layer\n",
        "#LSTM \n",
        "model.add(LSTM(units=128,input_shape=(700, 1)))\n",
        "model.add(Dense(1, activation='sigmoid'))\n",
        "model.compile(optimizer='adam', loss='binary_crossentropy', metrics=['acc'])\n"
      ],
      "metadata": {
        "id": "Uf4B9u6b-iIj"
      },
      "execution_count": 140,
      "outputs": []
    },
    {
      "cell_type": "code",
      "source": [
        "model.summary()"
      ],
      "metadata": {
        "colab": {
          "base_uri": "https://localhost:8080/"
        },
        "id": "EFOBTX2t-xzK",
        "outputId": "8db8c086-9a87-48a2-d968-9b84a92ea8a7"
      },
      "execution_count": 141,
      "outputs": [
        {
          "output_type": "stream",
          "name": "stdout",
          "text": [
            "Model: \"sequential_6\"\n",
            "_________________________________________________________________\n",
            " Layer (type)                Output Shape              Param #   \n",
            "=================================================================\n",
            " lstm_6 (LSTM)               (None, 128)               66560     \n",
            "                                                                 \n",
            " dense_6 (Dense)             (None, 1)                 129       \n",
            "                                                                 \n",
            "=================================================================\n",
            "Total params: 66,689\n",
            "Trainable params: 66,689\n",
            "Non-trainable params: 0\n",
            "_________________________________________________________________\n"
          ]
        }
      ]
    },
    {
      "cell_type": "code",
      "source": [
        "model.fit(X_train, y_train, validation_split=0.3, epochs=6)"
      ],
      "metadata": {
        "colab": {
          "base_uri": "https://localhost:8080/"
        },
        "id": "osgmkV5fMXm2",
        "outputId": "a9c47f45-ee50-4984-adae-2709b8b6cc70"
      },
      "execution_count": 142,
      "outputs": [
        {
          "output_type": "stream",
          "name": "stdout",
          "text": [
            "Epoch 1/6\n",
            "24/24 [==============================] - 3s 58ms/step - loss: 0.7244 - acc: 0.5020 - val_loss: 0.6695 - val_acc: 0.5222\n",
            "Epoch 2/6\n",
            "24/24 [==============================] - 1s 36ms/step - loss: 0.6694 - acc: 0.5604 - val_loss: 0.6341 - val_acc: 0.6614\n",
            "Epoch 3/6\n",
            "24/24 [==============================] - 1s 36ms/step - loss: 0.6437 - acc: 0.5943 - val_loss: 0.5968 - val_acc: 0.6899\n",
            "Epoch 4/6\n",
            "24/24 [==============================] - 1s 36ms/step - loss: 0.5646 - acc: 0.7178 - val_loss: 0.4700 - val_acc: 0.7975\n",
            "Epoch 5/6\n",
            "24/24 [==============================] - 1s 36ms/step - loss: 0.5021 - acc: 0.7571 - val_loss: 0.4640 - val_acc: 0.8070\n",
            "Epoch 6/6\n",
            "24/24 [==============================] - 1s 36ms/step - loss: 0.5098 - acc: 0.7286 - val_loss: 0.5314 - val_acc: 0.7152\n"
          ]
        },
        {
          "output_type": "execute_result",
          "data": {
            "text/plain": [
              "<keras.callbacks.History at 0x7fdaba3cf400>"
            ]
          },
          "metadata": {},
          "execution_count": 142
        }
      ]
    },
    {
      "cell_type": "code",
      "source": [
        "y_pred = (model.predict(X_test) >= 0.5).astype(\"int\")"
      ],
      "metadata": {
        "colab": {
          "base_uri": "https://localhost:8080/"
        },
        "id": "fCQrsEouMgYs",
        "outputId": "fa63199f-b434-4afc-f05f-1392734186dc"
      },
      "execution_count": 143,
      "outputs": [
        {
          "output_type": "stream",
          "name": "stdout",
          "text": [
            "11/11 [==============================] - 1s 21ms/step\n"
          ]
        }
      ]
    },
    {
      "cell_type": "code",
      "source": [
        "print(classification_report(y_test, y_pred))"
      ],
      "metadata": {
        "colab": {
          "base_uri": "https://localhost:8080/"
        },
        "id": "gDEWEHEuMcBa",
        "outputId": "80a9579c-6e46-4626-ed86-099f3c128009"
      },
      "execution_count": 144,
      "outputs": [
        {
          "output_type": "stream",
          "name": "stdout",
          "text": [
            "              precision    recall  f1-score   support\n",
            "\n",
            "           0       0.77      0.79      0.78       177\n",
            "           1       0.78      0.76      0.77       174\n",
            "\n",
            "    accuracy                           0.78       351\n",
            "   macro avg       0.78      0.78      0.78       351\n",
            "weighted avg       0.78      0.78      0.78       351\n",
            "\n"
          ]
        }
      ]
    },
    {
      "cell_type": "code",
      "source": [
        "model.fit(X_train, y_train, validation_split=0.3, epochs=60)"
      ],
      "metadata": {
        "colab": {
          "base_uri": "https://localhost:8080/"
        },
        "id": "r_xfsYuc-zr9",
        "outputId": "55cecaae-9d37-4484-d5b9-41357905e7fd"
      },
      "execution_count": 119,
      "outputs": [
        {
          "output_type": "stream",
          "name": "stdout",
          "text": [
            "Epoch 1/60\n",
            "24/24 [==============================] - 3s 58ms/step - loss: 0.7025 - acc: 0.4953 - val_loss: 0.6612 - val_acc: 0.5791\n",
            "Epoch 2/60\n",
            "24/24 [==============================] - 1s 37ms/step - loss: 0.6602 - acc: 0.5672 - val_loss: 0.6254 - val_acc: 0.5918\n",
            "Epoch 3/60\n",
            "24/24 [==============================] - 1s 36ms/step - loss: 0.6418 - acc: 0.6133 - val_loss: 0.6024 - val_acc: 0.6930\n",
            "Epoch 4/60\n",
            "24/24 [==============================] - 1s 37ms/step - loss: 0.6090 - acc: 0.6404 - val_loss: 0.5635 - val_acc: 0.7468\n",
            "Epoch 5/60\n",
            "24/24 [==============================] - 1s 37ms/step - loss: 0.5400 - acc: 0.7368 - val_loss: 0.4660 - val_acc: 0.7848\n",
            "Epoch 6/60\n",
            "24/24 [==============================] - 1s 37ms/step - loss: 0.4998 - acc: 0.7653 - val_loss: 0.4652 - val_acc: 0.8070\n",
            "Epoch 7/60\n",
            "24/24 [==============================] - 1s 37ms/step - loss: 0.5117 - acc: 0.7313 - val_loss: 0.4469 - val_acc: 0.8006\n",
            "Epoch 8/60\n",
            "24/24 [==============================] - 1s 36ms/step - loss: 0.4173 - acc: 0.8372 - val_loss: 0.3740 - val_acc: 0.8734\n",
            "Epoch 9/60\n",
            "24/24 [==============================] - 1s 37ms/step - loss: 0.4066 - acc: 0.8263 - val_loss: 0.3668 - val_acc: 0.8703\n",
            "Epoch 10/60\n",
            "24/24 [==============================] - 1s 37ms/step - loss: 0.3374 - acc: 0.8779 - val_loss: 0.3209 - val_acc: 0.8734\n",
            "Epoch 11/60\n",
            "24/24 [==============================] - 1s 34ms/step - loss: 0.2962 - acc: 0.8969 - val_loss: 0.3046 - val_acc: 0.8924\n",
            "Epoch 12/60\n",
            "24/24 [==============================] - 1s 36ms/step - loss: 0.2953 - acc: 0.8915 - val_loss: 0.2988 - val_acc: 0.8924\n",
            "Epoch 13/60\n",
            "24/24 [==============================] - 1s 36ms/step - loss: 0.3131 - acc: 0.8833 - val_loss: 0.2981 - val_acc: 0.8924\n",
            "Epoch 14/60\n",
            "24/24 [==============================] - 1s 35ms/step - loss: 0.2573 - acc: 0.9172 - val_loss: 0.2714 - val_acc: 0.9114\n",
            "Epoch 15/60\n",
            "24/24 [==============================] - 1s 36ms/step - loss: 0.2391 - acc: 0.9254 - val_loss: 0.2827 - val_acc: 0.9146\n",
            "Epoch 16/60\n",
            "24/24 [==============================] - 1s 36ms/step - loss: 0.2409 - acc: 0.9145 - val_loss: 0.2441 - val_acc: 0.9051\n",
            "Epoch 17/60\n",
            "24/24 [==============================] - 1s 37ms/step - loss: 0.1953 - acc: 0.9362 - val_loss: 0.2236 - val_acc: 0.9209\n",
            "Epoch 18/60\n",
            "24/24 [==============================] - 1s 36ms/step - loss: 0.2057 - acc: 0.9322 - val_loss: 0.2390 - val_acc: 0.9051\n",
            "Epoch 19/60\n",
            "24/24 [==============================] - 1s 36ms/step - loss: 0.2232 - acc: 0.9213 - val_loss: 0.2759 - val_acc: 0.8924\n",
            "Epoch 20/60\n",
            "24/24 [==============================] - 1s 38ms/step - loss: 0.5057 - acc: 0.7612 - val_loss: 0.4646 - val_acc: 0.8006\n",
            "Epoch 21/60\n",
            "24/24 [==============================] - 1s 34ms/step - loss: 0.4504 - acc: 0.8182 - val_loss: 0.3906 - val_acc: 0.8766\n",
            "Epoch 22/60\n",
            "24/24 [==============================] - 1s 38ms/step - loss: 0.4061 - acc: 0.8290 - val_loss: 0.4736 - val_acc: 0.7595\n",
            "Epoch 23/60\n",
            "24/24 [==============================] - 1s 36ms/step - loss: 0.4037 - acc: 0.8304 - val_loss: 0.3257 - val_acc: 0.8892\n",
            "Epoch 24/60\n",
            "24/24 [==============================] - 1s 36ms/step - loss: 0.4633 - acc: 0.7829 - val_loss: 0.4278 - val_acc: 0.8323\n",
            "Epoch 25/60\n",
            "24/24 [==============================] - 1s 37ms/step - loss: 0.3853 - acc: 0.8480 - val_loss: 0.3580 - val_acc: 0.8544\n",
            "Epoch 26/60\n",
            "24/24 [==============================] - 1s 35ms/step - loss: 0.3467 - acc: 0.8697 - val_loss: 0.3195 - val_acc: 0.8639\n",
            "Epoch 27/60\n",
            "24/24 [==============================] - 1s 36ms/step - loss: 0.3360 - acc: 0.8670 - val_loss: 0.2663 - val_acc: 0.9146\n",
            "Epoch 28/60\n",
            "24/24 [==============================] - 1s 36ms/step - loss: 0.3448 - acc: 0.8602 - val_loss: 0.3219 - val_acc: 0.9019\n",
            "Epoch 29/60\n",
            "24/24 [==============================] - 1s 35ms/step - loss: 0.3230 - acc: 0.8697 - val_loss: 0.3056 - val_acc: 0.8987\n",
            "Epoch 30/60\n",
            "24/24 [==============================] - 1s 36ms/step - loss: 0.3316 - acc: 0.8602 - val_loss: 0.3050 - val_acc: 0.8956\n",
            "Epoch 31/60\n",
            "24/24 [==============================] - 1s 35ms/step - loss: 0.2833 - acc: 0.8942 - val_loss: 0.2720 - val_acc: 0.9051\n",
            "Epoch 32/60\n",
            "24/24 [==============================] - 1s 36ms/step - loss: 0.2978 - acc: 0.8901 - val_loss: 0.3598 - val_acc: 0.8291\n",
            "Epoch 33/60\n",
            "24/24 [==============================] - 1s 36ms/step - loss: 0.2985 - acc: 0.8928 - val_loss: 0.2570 - val_acc: 0.9082\n",
            "Epoch 34/60\n",
            "24/24 [==============================] - 1s 37ms/step - loss: 0.2985 - acc: 0.8752 - val_loss: 0.2590 - val_acc: 0.8892\n",
            "Epoch 35/60\n",
            "24/24 [==============================] - 1s 36ms/step - loss: 0.2705 - acc: 0.9077 - val_loss: 0.2854 - val_acc: 0.8956\n",
            "Epoch 36/60\n",
            "24/24 [==============================] - 1s 36ms/step - loss: 0.2917 - acc: 0.8792 - val_loss: 0.2457 - val_acc: 0.9051\n",
            "Epoch 37/60\n",
            "24/24 [==============================] - 1s 35ms/step - loss: 0.2825 - acc: 0.8942 - val_loss: 0.2313 - val_acc: 0.9241\n",
            "Epoch 38/60\n",
            "24/24 [==============================] - 1s 36ms/step - loss: 0.2713 - acc: 0.9050 - val_loss: 0.2605 - val_acc: 0.9019\n",
            "Epoch 39/60\n",
            "24/24 [==============================] - 1s 36ms/step - loss: 0.2351 - acc: 0.9308 - val_loss: 0.2148 - val_acc: 0.9241\n",
            "Epoch 40/60\n",
            "24/24 [==============================] - 1s 37ms/step - loss: 0.2330 - acc: 0.9227 - val_loss: 0.2277 - val_acc: 0.9051\n",
            "Epoch 41/60\n",
            "24/24 [==============================] - 1s 38ms/step - loss: 0.2295 - acc: 0.9199 - val_loss: 0.2188 - val_acc: 0.9177\n",
            "Epoch 42/60\n",
            "24/24 [==============================] - 1s 36ms/step - loss: 0.2235 - acc: 0.9294 - val_loss: 0.2320 - val_acc: 0.9146\n",
            "Epoch 43/60\n",
            "24/24 [==============================] - 1s 37ms/step - loss: 0.2268 - acc: 0.9227 - val_loss: 0.2418 - val_acc: 0.9082\n",
            "Epoch 44/60\n",
            "24/24 [==============================] - 1s 37ms/step - loss: 0.2307 - acc: 0.9172 - val_loss: 0.2544 - val_acc: 0.9082\n",
            "Epoch 45/60\n",
            "24/24 [==============================] - 1s 36ms/step - loss: 0.2169 - acc: 0.9254 - val_loss: 0.2303 - val_acc: 0.9146\n",
            "Epoch 46/60\n",
            "24/24 [==============================] - 1s 39ms/step - loss: 0.2126 - acc: 0.9335 - val_loss: 0.2916 - val_acc: 0.8544\n",
            "Epoch 47/60\n",
            "24/24 [==============================] - 1s 36ms/step - loss: 0.2142 - acc: 0.9281 - val_loss: 0.2055 - val_acc: 0.9177\n",
            "Epoch 48/60\n",
            "24/24 [==============================] - 1s 37ms/step - loss: 0.2114 - acc: 0.9213 - val_loss: 0.2178 - val_acc: 0.9209\n",
            "Epoch 49/60\n",
            "24/24 [==============================] - 1s 38ms/step - loss: 0.1920 - acc: 0.9403 - val_loss: 0.2271 - val_acc: 0.9272\n",
            "Epoch 50/60\n",
            "24/24 [==============================] - 1s 37ms/step - loss: 0.2011 - acc: 0.9294 - val_loss: 0.1929 - val_acc: 0.9241\n",
            "Epoch 51/60\n",
            "24/24 [==============================] - 1s 37ms/step - loss: 0.2314 - acc: 0.9199 - val_loss: 0.2229 - val_acc: 0.9177\n",
            "Epoch 52/60\n",
            "24/24 [==============================] - 1s 38ms/step - loss: 0.2272 - acc: 0.9172 - val_loss: 0.2066 - val_acc: 0.9241\n",
            "Epoch 53/60\n",
            "24/24 [==============================] - 1s 37ms/step - loss: 0.2039 - acc: 0.9267 - val_loss: 0.1838 - val_acc: 0.9335\n",
            "Epoch 54/60\n",
            "24/24 [==============================] - 1s 36ms/step - loss: 0.1890 - acc: 0.9335 - val_loss: 0.2346 - val_acc: 0.9019\n",
            "Epoch 55/60\n",
            "24/24 [==============================] - 1s 36ms/step - loss: 0.1966 - acc: 0.9281 - val_loss: 0.1764 - val_acc: 0.9241\n",
            "Epoch 56/60\n",
            "24/24 [==============================] - 1s 37ms/step - loss: 0.1853 - acc: 0.9389 - val_loss: 0.1824 - val_acc: 0.9272\n",
            "Epoch 57/60\n",
            "24/24 [==============================] - 1s 37ms/step - loss: 0.1823 - acc: 0.9403 - val_loss: 0.1663 - val_acc: 0.9367\n",
            "Epoch 58/60\n",
            "24/24 [==============================] - 1s 37ms/step - loss: 0.1696 - acc: 0.9417 - val_loss: 0.1862 - val_acc: 0.9241\n",
            "Epoch 59/60\n",
            "24/24 [==============================] - 1s 37ms/step - loss: 0.1795 - acc: 0.9417 - val_loss: 0.1692 - val_acc: 0.9367\n",
            "Epoch 60/60\n",
            "24/24 [==============================] - 1s 37ms/step - loss: 0.1646 - acc: 0.9484 - val_loss: 0.1721 - val_acc: 0.9304\n"
          ]
        },
        {
          "output_type": "execute_result",
          "data": {
            "text/plain": [
              "<keras.callbacks.History at 0x7fda8c0d9190>"
            ]
          },
          "metadata": {},
          "execution_count": 119
        }
      ]
    },
    {
      "cell_type": "code",
      "source": [
        "y_pred = (model.predict(X_test) >= 0.5).astype(\"int\")"
      ],
      "metadata": {
        "colab": {
          "base_uri": "https://localhost:8080/"
        },
        "id": "Zc6XbQwb-12I",
        "outputId": "a4d224f9-34eb-437c-b7c8-17a17fc22fa9"
      },
      "execution_count": 120,
      "outputs": [
        {
          "output_type": "stream",
          "name": "stdout",
          "text": [
            "11/11 [==============================] - 1s 14ms/step\n"
          ]
        }
      ]
    },
    {
      "cell_type": "code",
      "source": [
        "print(classification_report(y_test, y_pred))"
      ],
      "metadata": {
        "colab": {
          "base_uri": "https://localhost:8080/"
        },
        "id": "qwBysA1I-5hS",
        "outputId": "847db535-a05f-49b6-daec-c1dc6c996122"
      },
      "execution_count": 121,
      "outputs": [
        {
          "output_type": "stream",
          "name": "stdout",
          "text": [
            "              precision    recall  f1-score   support\n",
            "\n",
            "           0       0.98      0.88      0.93       177\n",
            "           1       0.89      0.98      0.93       174\n",
            "\n",
            "    accuracy                           0.93       351\n",
            "   macro avg       0.93      0.93      0.93       351\n",
            "weighted avg       0.93      0.93      0.93       351\n",
            "\n"
          ]
        }
      ]
    },
    {
      "cell_type": "markdown",
      "source": [
        "### model with word2Vec embedding layer"
      ],
      "metadata": {
        "id": "dbxj69bwBD5X"
      }
    },
    {
      "cell_type": "code",
      "source": [
        "EMBEDDING_DIM = 100"
      ],
      "metadata": {
        "id": "w5PZaepOeKER"
      },
      "execution_count": 145,
      "outputs": []
    },
    {
      "cell_type": "markdown",
      "source": [
        "#### word2vec"
      ],
      "metadata": {
        "id": "xyl5l88R6LFb"
      }
    },
    {
      "cell_type": "code",
      "execution_count": 146,
      "metadata": {
        "id": "2Miwj-OX6LFc"
      },
      "outputs": [],
      "source": [
        "import gensim"
      ]
    },
    {
      "cell_type": "code",
      "execution_count": 147,
      "metadata": {
        "id": "5-YvXYn-6LFd"
      },
      "outputs": [],
      "source": [
        "sentence = token_df['description']"
      ]
    },
    {
      "cell_type": "code",
      "execution_count": 148,
      "metadata": {
        "colab": {
          "base_uri": "https://localhost:8080/"
        },
        "outputId": "59fe5e3a-c437-4791-c0d2-e118e88cfc56",
        "id": "NT9wCqIa6LFd"
      },
      "outputs": [
        {
          "output_type": "stream",
          "name": "stdout",
          "text": [
            "<class 'pandas.core.series.Series'>\n",
            "(774,)\n",
            "6        [your, responsibilities, manage, the, english,...\n",
            "15       [about, vault, dragon, vault, dragon, is, drop...\n",
            "23       [url, eda2500ddcedb60957fcd7f5b164e092966f8c4e...\n",
            "98       [ic, amp, e, technician, bakersfield, ca, mt, ...\n",
            "102      [the, job, is, to, support, the, growth, of, t...\n",
            "                               ...                        \n",
            "17734    [we, are, seeking, a, candidate, whose, core, ...\n",
            "17759    [we, are, seeking, a, candidate, whose, core, ...\n",
            "17813    [we, are, seeking, a, candidate, whose, core, ...\n",
            "17849    [balanced, labs, exists, to, improve, the, liv...\n",
            "17865    [avenuestory, is, looking, for, a, curious, am...\n",
            "Name: description, Length: 774, dtype: object\n"
          ]
        }
      ],
      "source": [
        "print(type(sentence))\n",
        "print(sentence.shape)\n",
        "print(sentence)"
      ]
    },
    {
      "cell_type": "code",
      "execution_count": 126,
      "metadata": {
        "colab": {
          "base_uri": "https://localhost:8080/"
        },
        "outputId": "e58cada0-3772-48bc-91f1-7ca77deab952",
        "id": "zWZ-zxly6LFf"
      },
      "outputs": [
        {
          "output_type": "execute_result",
          "data": {
            "text/plain": [
              "False"
            ]
          },
          "metadata": {},
          "execution_count": 126
        }
      ],
      "source": [
        "'reproducing' in sentence[6]"
      ]
    },
    {
      "cell_type": "code",
      "execution_count": 127,
      "metadata": {
        "id": "Bcel78Bt6LFf"
      },
      "outputs": [],
      "source": [
        "# initialize a model\n",
        "w2v_model = gensim.models.Word2Vec(sentence, size=100, min_count=1)"
      ]
    },
    {
      "cell_type": "code",
      "execution_count": 128,
      "metadata": {
        "id": "BiUEDogJ6LFh"
      },
      "outputs": [],
      "source": [
        "def most_similar(w2v_model, words, topn=10):\n",
        "    similar_df = pd.DataFrame()\n",
        "    for word in words:\n",
        "        try:\n",
        "            similar_words = pd.DataFrame(w2v_model.wv.most_similar(word, topn=topn), columns=[word, 'cos'])\n",
        "            similar_df = pd.concat([similar_df, similar_words], axis=1)\n",
        "        except:\n",
        "            print(word, \"not found in Word2Vec model!\")\n",
        "    return similar_df"
      ]
    },
    {
      "cell_type": "code",
      "execution_count": 129,
      "metadata": {
        "colab": {
          "base_uri": "https://localhost:8080/",
          "height": 363
        },
        "outputId": "c56aa7a9-a441-440f-e92c-a5adbe9c10a7",
        "id": "Ay6-6o5z6LFh"
      },
      "outputs": [
        {
          "output_type": "execute_result",
          "data": {
            "text/plain": [
              "          our       cos        title       cos        client       cos  \\\n",
              "0     success  0.998137  description  0.999706       product  0.999085   \n",
              "1        wide  0.997347          out  0.999634        design  0.998909   \n",
              "2     promote  0.997134            2  0.999628     including  0.998619   \n",
              "3  technology  0.997115            ”  0.999626     directors  0.998286   \n",
              "4      driven  0.997003         like  0.999564        social  0.998245   \n",
              "5   workforce  0.996917         city  0.999564         teams  0.998180   \n",
              "6       texas  0.996821      without  0.999547     implement  0.998128   \n",
              "7      global  0.996653      created  0.999520   maintenance  0.997955   \n",
              "8     managed  0.996625         week  0.999500     marketing  0.997896   \n",
              "9   ourselves  0.996422        hours  0.999499  coordinating  0.997886   \n",
              "\n",
              "             company       cos  \n",
              "0             values  0.998603  \n",
              "1           progress  0.997057  \n",
              "2               five  0.996551  \n",
              "3            fastest  0.994221  \n",
              "4              world  0.994041  \n",
              "5            biggest  0.993954  \n",
              "6                 go  0.993889  \n",
              "7            meeting  0.993324  \n",
              "8                sme  0.992932  \n",
              "9  telecommunication  0.992368  "
            ],
            "text/html": [
              "\n",
              "  <div id=\"df-9d704c08-4868-4200-90c3-ca1572fd30e6\">\n",
              "    <div class=\"colab-df-container\">\n",
              "      <div>\n",
              "<style scoped>\n",
              "    .dataframe tbody tr th:only-of-type {\n",
              "        vertical-align: middle;\n",
              "    }\n",
              "\n",
              "    .dataframe tbody tr th {\n",
              "        vertical-align: top;\n",
              "    }\n",
              "\n",
              "    .dataframe thead th {\n",
              "        text-align: right;\n",
              "    }\n",
              "</style>\n",
              "<table border=\"1\" class=\"dataframe\">\n",
              "  <thead>\n",
              "    <tr style=\"text-align: right;\">\n",
              "      <th></th>\n",
              "      <th>our</th>\n",
              "      <th>cos</th>\n",
              "      <th>title</th>\n",
              "      <th>cos</th>\n",
              "      <th>client</th>\n",
              "      <th>cos</th>\n",
              "      <th>company</th>\n",
              "      <th>cos</th>\n",
              "    </tr>\n",
              "  </thead>\n",
              "  <tbody>\n",
              "    <tr>\n",
              "      <th>0</th>\n",
              "      <td>success</td>\n",
              "      <td>0.998137</td>\n",
              "      <td>description</td>\n",
              "      <td>0.999706</td>\n",
              "      <td>product</td>\n",
              "      <td>0.999085</td>\n",
              "      <td>values</td>\n",
              "      <td>0.998603</td>\n",
              "    </tr>\n",
              "    <tr>\n",
              "      <th>1</th>\n",
              "      <td>wide</td>\n",
              "      <td>0.997347</td>\n",
              "      <td>out</td>\n",
              "      <td>0.999634</td>\n",
              "      <td>design</td>\n",
              "      <td>0.998909</td>\n",
              "      <td>progress</td>\n",
              "      <td>0.997057</td>\n",
              "    </tr>\n",
              "    <tr>\n",
              "      <th>2</th>\n",
              "      <td>promote</td>\n",
              "      <td>0.997134</td>\n",
              "      <td>2</td>\n",
              "      <td>0.999628</td>\n",
              "      <td>including</td>\n",
              "      <td>0.998619</td>\n",
              "      <td>five</td>\n",
              "      <td>0.996551</td>\n",
              "    </tr>\n",
              "    <tr>\n",
              "      <th>3</th>\n",
              "      <td>technology</td>\n",
              "      <td>0.997115</td>\n",
              "      <td>”</td>\n",
              "      <td>0.999626</td>\n",
              "      <td>directors</td>\n",
              "      <td>0.998286</td>\n",
              "      <td>fastest</td>\n",
              "      <td>0.994221</td>\n",
              "    </tr>\n",
              "    <tr>\n",
              "      <th>4</th>\n",
              "      <td>driven</td>\n",
              "      <td>0.997003</td>\n",
              "      <td>like</td>\n",
              "      <td>0.999564</td>\n",
              "      <td>social</td>\n",
              "      <td>0.998245</td>\n",
              "      <td>world</td>\n",
              "      <td>0.994041</td>\n",
              "    </tr>\n",
              "    <tr>\n",
              "      <th>5</th>\n",
              "      <td>workforce</td>\n",
              "      <td>0.996917</td>\n",
              "      <td>city</td>\n",
              "      <td>0.999564</td>\n",
              "      <td>teams</td>\n",
              "      <td>0.998180</td>\n",
              "      <td>biggest</td>\n",
              "      <td>0.993954</td>\n",
              "    </tr>\n",
              "    <tr>\n",
              "      <th>6</th>\n",
              "      <td>texas</td>\n",
              "      <td>0.996821</td>\n",
              "      <td>without</td>\n",
              "      <td>0.999547</td>\n",
              "      <td>implement</td>\n",
              "      <td>0.998128</td>\n",
              "      <td>go</td>\n",
              "      <td>0.993889</td>\n",
              "    </tr>\n",
              "    <tr>\n",
              "      <th>7</th>\n",
              "      <td>global</td>\n",
              "      <td>0.996653</td>\n",
              "      <td>created</td>\n",
              "      <td>0.999520</td>\n",
              "      <td>maintenance</td>\n",
              "      <td>0.997955</td>\n",
              "      <td>meeting</td>\n",
              "      <td>0.993324</td>\n",
              "    </tr>\n",
              "    <tr>\n",
              "      <th>8</th>\n",
              "      <td>managed</td>\n",
              "      <td>0.996625</td>\n",
              "      <td>week</td>\n",
              "      <td>0.999500</td>\n",
              "      <td>marketing</td>\n",
              "      <td>0.997896</td>\n",
              "      <td>sme</td>\n",
              "      <td>0.992932</td>\n",
              "    </tr>\n",
              "    <tr>\n",
              "      <th>9</th>\n",
              "      <td>ourselves</td>\n",
              "      <td>0.996422</td>\n",
              "      <td>hours</td>\n",
              "      <td>0.999499</td>\n",
              "      <td>coordinating</td>\n",
              "      <td>0.997886</td>\n",
              "      <td>telecommunication</td>\n",
              "      <td>0.992368</td>\n",
              "    </tr>\n",
              "  </tbody>\n",
              "</table>\n",
              "</div>\n",
              "      <button class=\"colab-df-convert\" onclick=\"convertToInteractive('df-9d704c08-4868-4200-90c3-ca1572fd30e6')\"\n",
              "              title=\"Convert this dataframe to an interactive table.\"\n",
              "              style=\"display:none;\">\n",
              "        \n",
              "  <svg xmlns=\"http://www.w3.org/2000/svg\" height=\"24px\"viewBox=\"0 0 24 24\"\n",
              "       width=\"24px\">\n",
              "    <path d=\"M0 0h24v24H0V0z\" fill=\"none\"/>\n",
              "    <path d=\"M18.56 5.44l.94 2.06.94-2.06 2.06-.94-2.06-.94-.94-2.06-.94 2.06-2.06.94zm-11 1L8.5 8.5l.94-2.06 2.06-.94-2.06-.94L8.5 2.5l-.94 2.06-2.06.94zm10 10l.94 2.06.94-2.06 2.06-.94-2.06-.94-.94-2.06-.94 2.06-2.06.94z\"/><path d=\"M17.41 7.96l-1.37-1.37c-.4-.4-.92-.59-1.43-.59-.52 0-1.04.2-1.43.59L10.3 9.45l-7.72 7.72c-.78.78-.78 2.05 0 2.83L4 21.41c.39.39.9.59 1.41.59.51 0 1.02-.2 1.41-.59l7.78-7.78 2.81-2.81c.8-.78.8-2.07 0-2.86zM5.41 20L4 18.59l7.72-7.72 1.47 1.35L5.41 20z\"/>\n",
              "  </svg>\n",
              "      </button>\n",
              "      \n",
              "  <style>\n",
              "    .colab-df-container {\n",
              "      display:flex;\n",
              "      flex-wrap:wrap;\n",
              "      gap: 12px;\n",
              "    }\n",
              "\n",
              "    .colab-df-convert {\n",
              "      background-color: #E8F0FE;\n",
              "      border: none;\n",
              "      border-radius: 50%;\n",
              "      cursor: pointer;\n",
              "      display: none;\n",
              "      fill: #1967D2;\n",
              "      height: 32px;\n",
              "      padding: 0 0 0 0;\n",
              "      width: 32px;\n",
              "    }\n",
              "\n",
              "    .colab-df-convert:hover {\n",
              "      background-color: #E2EBFA;\n",
              "      box-shadow: 0px 1px 2px rgba(60, 64, 67, 0.3), 0px 1px 3px 1px rgba(60, 64, 67, 0.15);\n",
              "      fill: #174EA6;\n",
              "    }\n",
              "\n",
              "    [theme=dark] .colab-df-convert {\n",
              "      background-color: #3B4455;\n",
              "      fill: #D2E3FC;\n",
              "    }\n",
              "\n",
              "    [theme=dark] .colab-df-convert:hover {\n",
              "      background-color: #434B5C;\n",
              "      box-shadow: 0px 1px 3px 1px rgba(0, 0, 0, 0.15);\n",
              "      filter: drop-shadow(0px 1px 2px rgba(0, 0, 0, 0.3));\n",
              "      fill: #FFFFFF;\n",
              "    }\n",
              "  </style>\n",
              "\n",
              "      <script>\n",
              "        const buttonEl =\n",
              "          document.querySelector('#df-9d704c08-4868-4200-90c3-ca1572fd30e6 button.colab-df-convert');\n",
              "        buttonEl.style.display =\n",
              "          google.colab.kernel.accessAllowed ? 'block' : 'none';\n",
              "\n",
              "        async function convertToInteractive(key) {\n",
              "          const element = document.querySelector('#df-9d704c08-4868-4200-90c3-ca1572fd30e6');\n",
              "          const dataTable =\n",
              "            await google.colab.kernel.invokeFunction('convertToInteractive',\n",
              "                                                     [key], {});\n",
              "          if (!dataTable) return;\n",
              "\n",
              "          const docLinkHtml = 'Like what you see? Visit the ' +\n",
              "            '<a target=\"_blank\" href=https://colab.research.google.com/notebooks/data_table.ipynb>data table notebook</a>'\n",
              "            + ' to learn more about interactive tables.';\n",
              "          element.innerHTML = '';\n",
              "          dataTable['output_type'] = 'display_data';\n",
              "          await google.colab.output.renderOutput(dataTable, element);\n",
              "          const docLink = document.createElement('div');\n",
              "          docLink.innerHTML = docLinkHtml;\n",
              "          element.appendChild(docLink);\n",
              "        }\n",
              "      </script>\n",
              "    </div>\n",
              "  </div>\n",
              "  "
            ]
          },
          "metadata": {},
          "execution_count": 129
        }
      ],
      "source": [
        "most_similar(w2v_model,['our','title','client','company'])"
      ]
    },
    {
      "cell_type": "markdown",
      "source": [
        "#### create embedding_vectors"
      ],
      "metadata": {
        "id": "xfQKHgMp77ke"
      }
    },
    {
      "cell_type": "code",
      "execution_count": 130,
      "metadata": {
        "id": "S6g-8dSwpMdx"
      },
      "outputs": [],
      "source": [
        "# Function to create weight matrix from word2vec gensim model\n",
        "def get_weight_matrix(model, vocab):\n",
        "    # total vocabulary size plus 0 for unknown words\n",
        "    vocab_size = len(vocab) + 1\n",
        "    # define weight matrix dimensions with all 0\n",
        "    weight_matrix = np.zeros((vocab_size, EMBEDDING_DIM))\n",
        "    # step vocab, store vectors using the Tokenizer's integer mapping\n",
        "    for word, i in vocab.items():\n",
        "        weight_matrix[i] = model.wv[word]\n",
        "    return weight_matrix"
      ]
    },
    {
      "cell_type": "code",
      "execution_count": 131,
      "metadata": {
        "id": "vdqUrGHKpOaa"
      },
      "outputs": [],
      "source": [
        "#Getting embedding vectors from word2vec and usings it as weights of non-trainable keras embedding layer\n",
        "embedding_vectors = get_weight_matrix(w2v_model, word_index)"
      ]
    },
    {
      "cell_type": "code",
      "execution_count": 132,
      "metadata": {
        "colab": {
          "base_uri": "https://localhost:8080/"
        },
        "id": "QRPVMZUcooGP",
        "outputId": "29b1ffd7-d045-4404-8991-dbe67b42282a"
      },
      "outputs": [
        {
          "output_type": "execute_result",
          "data": {
            "text/plain": [
              "array([-0.26197955, -0.18677932,  0.5665758 ,  0.67552656,  0.05412629,\n",
              "        0.3409619 ,  0.7753356 , -0.6165171 , -0.49477053,  1.2739439 ,\n",
              "       -0.3560663 , -0.21115737, -0.78331995, -1.6574225 ,  1.2139729 ,\n",
              "       -0.53788835,  0.8185324 , -0.53164345,  0.31217414, -0.32603347,\n",
              "        0.4934728 ,  0.6164573 , -0.30568054,  0.35027033,  0.34744367,\n",
              "        0.39905477, -1.0713058 ,  0.8156157 ,  0.2561409 , -0.0648445 ,\n",
              "        0.7132313 ,  0.24865079,  0.53471285, -1.8399243 , -0.7490832 ,\n",
              "        0.31807458, -0.51083165,  0.11654537,  0.76618475, -0.07924983,\n",
              "        0.1910947 , -1.2590166 ,  0.84683985,  0.34290993,  0.5765068 ,\n",
              "       -0.78765476, -0.13076304,  0.04562555, -1.5671508 , -0.7392987 ,\n",
              "        0.13170289, -0.23919456,  1.4216561 , -1.4625709 , -1.253532  ,\n",
              "       -0.16922827, -0.16829509,  0.5334117 ,  0.74227095,  0.33036017,\n",
              "       -0.30011374,  0.43372837,  0.33955044, -0.06377751,  0.45819756,\n",
              "        1.2479783 ,  0.617455  ,  0.17041829, -0.5085885 , -0.10208628,\n",
              "       -0.19295381,  0.7113419 ,  0.08227158,  0.5607146 , -0.7889753 ,\n",
              "       -0.40180156, -0.33666134, -0.17224014,  0.78996646, -0.50303084,\n",
              "        0.488075  ,  0.07817119,  0.34799793, -0.96995544, -0.6097158 ,\n",
              "       -0.24211545, -0.30630586, -0.35053954, -0.35374707,  1.2458166 ,\n",
              "        1.1268877 ,  0.50423557,  0.24969709, -0.07730544, -0.91662073,\n",
              "        0.30795255, -0.48373416,  0.15999697, -0.5715183 , -0.6618498 ],\n",
              "      dtype=float32)"
            ]
          },
          "metadata": {},
          "execution_count": 132
        }
      ],
      "source": [
        "w2v_model.wv['and']"
      ]
    },
    {
      "cell_type": "code",
      "execution_count": 133,
      "metadata": {
        "colab": {
          "base_uri": "https://localhost:8080/"
        },
        "id": "XVEbzMhZnaey",
        "outputId": "820f6f39-67bf-43e2-df9d-5326df048487"
      },
      "outputs": [
        {
          "output_type": "execute_result",
          "data": {
            "text/plain": [
              "array([-0.26197955, -0.18677932,  0.56657583,  0.67552656,  0.05412629,\n",
              "        0.3409619 ,  0.77533561, -0.61651713, -0.49477053,  1.2739439 ,\n",
              "       -0.35606629, -0.21115737, -0.78331995, -1.65742254,  1.21397293,\n",
              "       -0.53788835,  0.81853241, -0.53164345,  0.31217414, -0.32603347,\n",
              "        0.49347281,  0.61645728, -0.30568054,  0.35027033,  0.34744367,\n",
              "        0.39905477, -1.07130575,  0.81561571,  0.25614089, -0.0648445 ,\n",
              "        0.71323133,  0.24865079,  0.53471285, -1.83992434, -0.74908322,\n",
              "        0.31807458, -0.51083165,  0.11654537,  0.76618475, -0.07924983,\n",
              "        0.1910947 , -1.25901663,  0.84683985,  0.34290993,  0.57650679,\n",
              "       -0.78765476, -0.13076304,  0.04562555, -1.56715083, -0.7392987 ,\n",
              "        0.13170289, -0.23919456,  1.42165613, -1.46257091, -1.25353205,\n",
              "       -0.16922827, -0.16829509,  0.53341168,  0.74227095,  0.33036017,\n",
              "       -0.30011374,  0.43372837,  0.33955044, -0.06377751,  0.45819756,\n",
              "        1.24797833,  0.61745501,  0.17041829, -0.50858849, -0.10208628,\n",
              "       -0.19295381,  0.71134192,  0.08227158,  0.5607146 , -0.7889753 ,\n",
              "       -0.40180156, -0.33666134, -0.17224014,  0.78996646, -0.50303084,\n",
              "        0.48807499,  0.07817119,  0.34799793, -0.96995544, -0.60971582,\n",
              "       -0.24211545, -0.30630586, -0.35053954, -0.35374707,  1.24581659,\n",
              "        1.12688768,  0.50423557,  0.24969709, -0.07730544, -0.91662073,\n",
              "        0.30795255, -0.48373416,  0.15999697, -0.5715183 , -0.6618498 ])"
            ]
          },
          "metadata": {},
          "execution_count": 133
        }
      ],
      "source": [
        "embedding_vectors[1][:100]"
      ]
    },
    {
      "cell_type": "code",
      "source": [
        "embedding_vectors[1].size"
      ],
      "metadata": {
        "colab": {
          "base_uri": "https://localhost:8080/"
        },
        "id": "h7uUZzyH2CQT",
        "outputId": "e9fa3f5c-e7a5-4d9e-beb5-5da004fc727c"
      },
      "execution_count": 134,
      "outputs": [
        {
          "output_type": "execute_result",
          "data": {
            "text/plain": [
              "100"
            ]
          },
          "metadata": {},
          "execution_count": 134
        }
      ]
    },
    {
      "cell_type": "markdown",
      "source": [
        "#### add embedding into model"
      ],
      "metadata": {
        "id": "g8Rnmk4b8Uj-"
      }
    },
    {
      "cell_type": "code",
      "execution_count": 149,
      "metadata": {
        "id": "ybHc2FaQx72k"
      },
      "outputs": [],
      "source": [
        "#Defining Neural Network\n",
        "model = Sequential()\n",
        "#Non-trainable embeddidng layer\n",
        "model.add(Embedding(vocab_size, output_dim=EMBEDDING_DIM, weights=[embedding_vectors], input_length=maxlen, trainable=False))\n",
        "#LSTM \n",
        "model.add(LSTM(units=128))\n",
        "model.add(Dense(1, activation='sigmoid'))\n",
        "model.compile(optimizer='adam', loss='binary_crossentropy', metrics=['acc'])\n"
      ]
    },
    {
      "cell_type": "code",
      "execution_count": 150,
      "metadata": {
        "colab": {
          "base_uri": "https://localhost:8080/"
        },
        "id": "XQjZIk2iyFJA",
        "outputId": "6974a707-9f12-433f-9646-6e50133e055e"
      },
      "outputs": [
        {
          "output_type": "stream",
          "name": "stdout",
          "text": [
            "Model: \"sequential_7\"\n",
            "_________________________________________________________________\n",
            " Layer (type)                Output Shape              Param #   \n",
            "=================================================================\n",
            " embedding_2 (Embedding)     (None, 700, 100)          926000    \n",
            "                                                                 \n",
            " lstm_7 (LSTM)               (None, 128)               117248    \n",
            "                                                                 \n",
            " dense_7 (Dense)             (None, 1)                 129       \n",
            "                                                                 \n",
            "=================================================================\n",
            "Total params: 1,043,377\n",
            "Trainable params: 117,377\n",
            "Non-trainable params: 926,000\n",
            "_________________________________________________________________\n"
          ]
        }
      ],
      "source": [
        "model.summary()"
      ]
    },
    {
      "cell_type": "code",
      "source": [
        "model.fit(X_train, y_train, validation_split=0.3, epochs=6)"
      ],
      "metadata": {
        "colab": {
          "base_uri": "https://localhost:8080/"
        },
        "id": "-sa_CIQMMo88",
        "outputId": "5e1e006f-3993-4e07-8ddc-61ad44a7ffe2"
      },
      "execution_count": 151,
      "outputs": [
        {
          "output_type": "stream",
          "name": "stdout",
          "text": [
            "Epoch 1/6\n",
            "24/24 [==============================] - 3s 63ms/step - loss: 0.7071 - acc: 0.5034 - val_loss: 0.6770 - val_acc: 0.5443\n",
            "Epoch 2/6\n",
            "24/24 [==============================] - 1s 41ms/step - loss: 0.6885 - acc: 0.5319 - val_loss: 0.6759 - val_acc: 0.5728\n",
            "Epoch 3/6\n",
            "24/24 [==============================] - 1s 56ms/step - loss: 0.6783 - acc: 0.5563 - val_loss: 0.6797 - val_acc: 0.5443\n",
            "Epoch 4/6\n",
            "24/24 [==============================] - 1s 60ms/step - loss: 0.6830 - acc: 0.5509 - val_loss: 0.6825 - val_acc: 0.5506\n",
            "Epoch 5/6\n",
            "24/24 [==============================] - 1s 40ms/step - loss: 0.6740 - acc: 0.5916 - val_loss: 0.6617 - val_acc: 0.6297\n",
            "Epoch 6/6\n",
            "24/24 [==============================] - 1s 40ms/step - loss: 0.6541 - acc: 0.6282 - val_loss: 0.6271 - val_acc: 0.6709\n"
          ]
        },
        {
          "output_type": "execute_result",
          "data": {
            "text/plain": [
              "<keras.callbacks.History at 0x7fdb770a9130>"
            ]
          },
          "metadata": {},
          "execution_count": 151
        }
      ]
    },
    {
      "cell_type": "code",
      "source": [
        "y_pred = (model.predict(X_test) >= 0.5).astype(\"int\")"
      ],
      "metadata": {
        "colab": {
          "base_uri": "https://localhost:8080/"
        },
        "id": "M-_VAfA9MuBq",
        "outputId": "6cc1fece-1335-4775-fc2b-cfc9d4038743"
      },
      "execution_count": 152,
      "outputs": [
        {
          "output_type": "stream",
          "name": "stdout",
          "text": [
            "11/11 [==============================] - 1s 20ms/step\n"
          ]
        }
      ]
    },
    {
      "cell_type": "code",
      "source": [
        "print(classification_report(y_test, y_pred))"
      ],
      "metadata": {
        "colab": {
          "base_uri": "https://localhost:8080/"
        },
        "id": "sgUeh7i5MwVJ",
        "outputId": "f1f85815-71f6-4646-ea28-178a54b793d3"
      },
      "execution_count": 153,
      "outputs": [
        {
          "output_type": "stream",
          "name": "stdout",
          "text": [
            "              precision    recall  f1-score   support\n",
            "\n",
            "           0       0.62      0.66      0.64       177\n",
            "           1       0.63      0.60      0.61       174\n",
            "\n",
            "    accuracy                           0.63       351\n",
            "   macro avg       0.63      0.63      0.63       351\n",
            "weighted avg       0.63      0.63      0.63       351\n",
            "\n"
          ]
        }
      ]
    },
    {
      "cell_type": "code",
      "execution_count": 137,
      "metadata": {
        "colab": {
          "base_uri": "https://localhost:8080/"
        },
        "id": "uBAjmlXByXMF",
        "outputId": "e2abfb41-6afd-4be3-de01-9bcdf9bde9db"
      },
      "outputs": [
        {
          "output_type": "stream",
          "name": "stdout",
          "text": [
            "Epoch 1/60\n",
            "24/24 [==============================] - 3s 59ms/step - loss: 0.7001 - acc: 0.5047 - val_loss: 0.6874 - val_acc: 0.5222\n",
            "Epoch 2/60\n",
            "24/24 [==============================] - 1s 39ms/step - loss: 0.6872 - acc: 0.5550 - val_loss: 0.6557 - val_acc: 0.6456\n",
            "Epoch 3/60\n",
            "24/24 [==============================] - 1s 37ms/step - loss: 0.6771 - acc: 0.5712 - val_loss: 0.6663 - val_acc: 0.6108\n",
            "Epoch 4/60\n",
            "24/24 [==============================] - 1s 40ms/step - loss: 0.6787 - acc: 0.5699 - val_loss: 0.6538 - val_acc: 0.6614\n",
            "Epoch 5/60\n",
            "24/24 [==============================] - 1s 38ms/step - loss: 0.6720 - acc: 0.5807 - val_loss: 0.6486 - val_acc: 0.6582\n",
            "Epoch 6/60\n",
            "24/24 [==============================] - 1s 39ms/step - loss: 0.6534 - acc: 0.6336 - val_loss: 0.6378 - val_acc: 0.5791\n",
            "Epoch 7/60\n",
            "24/24 [==============================] - 1s 38ms/step - loss: 0.6268 - acc: 0.6377 - val_loss: 0.5707 - val_acc: 0.7278\n",
            "Epoch 8/60\n",
            "24/24 [==============================] - 1s 39ms/step - loss: 0.5915 - acc: 0.6839 - val_loss: 0.5877 - val_acc: 0.6741\n",
            "Epoch 9/60\n",
            "24/24 [==============================] - 1s 41ms/step - loss: 0.5234 - acc: 0.7436 - val_loss: 0.5249 - val_acc: 0.6994\n",
            "Epoch 10/60\n",
            "24/24 [==============================] - 1s 40ms/step - loss: 0.5733 - acc: 0.6961 - val_loss: 0.6292 - val_acc: 0.6361\n",
            "Epoch 11/60\n",
            "24/24 [==============================] - 1s 40ms/step - loss: 0.6366 - acc: 0.6052 - val_loss: 0.6595 - val_acc: 0.5570\n",
            "Epoch 12/60\n",
            "24/24 [==============================] - 1s 38ms/step - loss: 0.6751 - acc: 0.5753 - val_loss: 0.6140 - val_acc: 0.6677\n",
            "Epoch 13/60\n",
            "24/24 [==============================] - 1s 38ms/step - loss: 0.5768 - acc: 0.6879 - val_loss: 0.5789 - val_acc: 0.7152\n",
            "Epoch 14/60\n",
            "24/24 [==============================] - 1s 39ms/step - loss: 0.5487 - acc: 0.7178 - val_loss: 0.5054 - val_acc: 0.7500\n",
            "Epoch 15/60\n",
            "24/24 [==============================] - 1s 38ms/step - loss: 0.4690 - acc: 0.7639 - val_loss: 0.4306 - val_acc: 0.7911\n",
            "Epoch 16/60\n",
            "24/24 [==============================] - 1s 40ms/step - loss: 0.4073 - acc: 0.8060 - val_loss: 0.3982 - val_acc: 0.8354\n",
            "Epoch 17/60\n",
            "24/24 [==============================] - 1s 40ms/step - loss: 0.3568 - acc: 0.8575 - val_loss: 0.6848 - val_acc: 0.6962\n",
            "Epoch 18/60\n",
            "24/24 [==============================] - 1s 38ms/step - loss: 0.4978 - acc: 0.7544 - val_loss: 0.5123 - val_acc: 0.7532\n",
            "Epoch 19/60\n",
            "24/24 [==============================] - 1s 38ms/step - loss: 0.4211 - acc: 0.7910 - val_loss: 0.5668 - val_acc: 0.7152\n",
            "Epoch 20/60\n",
            "24/24 [==============================] - 1s 37ms/step - loss: 0.3795 - acc: 0.8195 - val_loss: 0.4964 - val_acc: 0.7405\n",
            "Epoch 21/60\n",
            "24/24 [==============================] - 1s 39ms/step - loss: 0.4081 - acc: 0.8073 - val_loss: 0.3679 - val_acc: 0.8354\n",
            "Epoch 22/60\n",
            "24/24 [==============================] - 1s 38ms/step - loss: 0.3151 - acc: 0.8765 - val_loss: 0.3293 - val_acc: 0.8608\n",
            "Epoch 23/60\n",
            "24/24 [==============================] - 1s 39ms/step - loss: 0.2559 - acc: 0.9037 - val_loss: 0.3558 - val_acc: 0.8354\n",
            "Epoch 24/60\n",
            "24/24 [==============================] - 1s 38ms/step - loss: 0.2249 - acc: 0.9091 - val_loss: 0.3938 - val_acc: 0.8481\n",
            "Epoch 25/60\n",
            "24/24 [==============================] - 1s 38ms/step - loss: 0.3011 - acc: 0.8711 - val_loss: 0.3187 - val_acc: 0.8671\n",
            "Epoch 26/60\n",
            "24/24 [==============================] - 1s 39ms/step - loss: 0.1940 - acc: 0.9308 - val_loss: 0.3494 - val_acc: 0.8703\n",
            "Epoch 27/60\n",
            "24/24 [==============================] - 1s 38ms/step - loss: 0.1820 - acc: 0.9322 - val_loss: 0.3116 - val_acc: 0.9019\n",
            "Epoch 28/60\n",
            "24/24 [==============================] - 1s 40ms/step - loss: 0.1662 - acc: 0.9417 - val_loss: 0.1953 - val_acc: 0.9272\n",
            "Epoch 29/60\n",
            "24/24 [==============================] - 1s 38ms/step - loss: 0.1179 - acc: 0.9661 - val_loss: 0.1676 - val_acc: 0.9335\n",
            "Epoch 30/60\n",
            "24/24 [==============================] - 1s 37ms/step - loss: 0.1289 - acc: 0.9552 - val_loss: 0.1756 - val_acc: 0.9146\n",
            "Epoch 31/60\n",
            "24/24 [==============================] - 1s 39ms/step - loss: 0.1068 - acc: 0.9552 - val_loss: 0.1716 - val_acc: 0.9462\n",
            "Epoch 32/60\n",
            "24/24 [==============================] - 1s 39ms/step - loss: 0.0765 - acc: 0.9756 - val_loss: 0.2256 - val_acc: 0.8924\n",
            "Epoch 33/60\n",
            "24/24 [==============================] - 1s 39ms/step - loss: 0.0825 - acc: 0.9769 - val_loss: 0.1237 - val_acc: 0.9525\n",
            "Epoch 34/60\n",
            "24/24 [==============================] - 1s 39ms/step - loss: 0.0616 - acc: 0.9796 - val_loss: 0.1193 - val_acc: 0.9557\n",
            "Epoch 35/60\n",
            "24/24 [==============================] - 1s 39ms/step - loss: 0.0569 - acc: 0.9837 - val_loss: 0.0975 - val_acc: 0.9684\n",
            "Epoch 36/60\n",
            "24/24 [==============================] - 1s 39ms/step - loss: 0.0611 - acc: 0.9837 - val_loss: 0.1537 - val_acc: 0.9430\n",
            "Epoch 37/60\n",
            "24/24 [==============================] - 1s 38ms/step - loss: 0.0339 - acc: 0.9932 - val_loss: 0.1378 - val_acc: 0.9589\n",
            "Epoch 38/60\n",
            "24/24 [==============================] - 1s 39ms/step - loss: 0.0308 - acc: 0.9959 - val_loss: 0.1161 - val_acc: 0.9652\n",
            "Epoch 39/60\n",
            "24/24 [==============================] - 1s 39ms/step - loss: 0.0347 - acc: 0.9891 - val_loss: 0.1081 - val_acc: 0.9620\n",
            "Epoch 40/60\n",
            "24/24 [==============================] - 1s 38ms/step - loss: 0.0674 - acc: 0.9796 - val_loss: 0.2046 - val_acc: 0.9209\n",
            "Epoch 41/60\n",
            "24/24 [==============================] - 1s 40ms/step - loss: 0.0484 - acc: 0.9810 - val_loss: 0.1586 - val_acc: 0.9494\n",
            "Epoch 42/60\n",
            "24/24 [==============================] - 1s 38ms/step - loss: 0.0281 - acc: 0.9919 - val_loss: 0.1505 - val_acc: 0.9304\n",
            "Epoch 43/60\n",
            "24/24 [==============================] - 1s 39ms/step - loss: 0.1660 - acc: 0.9308 - val_loss: 0.2176 - val_acc: 0.9430\n",
            "Epoch 44/60\n",
            "24/24 [==============================] - 1s 39ms/step - loss: 0.0756 - acc: 0.9810 - val_loss: 0.4789 - val_acc: 0.8291\n",
            "Epoch 45/60\n",
            "24/24 [==============================] - 1s 39ms/step - loss: 0.6370 - acc: 0.7381 - val_loss: 0.3570 - val_acc: 0.8639\n",
            "Epoch 46/60\n",
            "24/24 [==============================] - 1s 40ms/step - loss: 0.2873 - acc: 0.8915 - val_loss: 0.2412 - val_acc: 0.9114\n",
            "Epoch 47/60\n",
            "24/24 [==============================] - 1s 39ms/step - loss: 0.1289 - acc: 0.9674 - val_loss: 0.1875 - val_acc: 0.9272\n",
            "Epoch 48/60\n",
            "24/24 [==============================] - 1s 40ms/step - loss: 0.0774 - acc: 0.9729 - val_loss: 0.1879 - val_acc: 0.9367\n",
            "Epoch 49/60\n",
            "24/24 [==============================] - 1s 38ms/step - loss: 0.0654 - acc: 0.9824 - val_loss: 0.1370 - val_acc: 0.9494\n",
            "Epoch 50/60\n",
            "24/24 [==============================] - 1s 40ms/step - loss: 0.0425 - acc: 0.9878 - val_loss: 0.1293 - val_acc: 0.9557\n",
            "Epoch 51/60\n",
            "24/24 [==============================] - 1s 40ms/step - loss: 0.0841 - acc: 0.9701 - val_loss: 0.1197 - val_acc: 0.9715\n",
            "Epoch 52/60\n",
            "24/24 [==============================] - 1s 40ms/step - loss: 0.0366 - acc: 0.9932 - val_loss: 0.1123 - val_acc: 0.9715\n",
            "Epoch 53/60\n",
            "24/24 [==============================] - 1s 39ms/step - loss: 0.0177 - acc: 1.0000 - val_loss: 0.1168 - val_acc: 0.9652\n",
            "Epoch 54/60\n",
            "24/24 [==============================] - 1s 39ms/step - loss: 0.0104 - acc: 1.0000 - val_loss: 0.1007 - val_acc: 0.9715\n",
            "Epoch 55/60\n",
            "24/24 [==============================] - 1s 39ms/step - loss: 0.0102 - acc: 1.0000 - val_loss: 0.0956 - val_acc: 0.9715\n",
            "Epoch 56/60\n",
            "24/24 [==============================] - 1s 38ms/step - loss: 0.0077 - acc: 1.0000 - val_loss: 0.0735 - val_acc: 0.9810\n",
            "Epoch 57/60\n",
            "24/24 [==============================] - 1s 38ms/step - loss: 0.0053 - acc: 1.0000 - val_loss: 0.0856 - val_acc: 0.9747\n",
            "Epoch 58/60\n",
            "24/24 [==============================] - 1s 39ms/step - loss: 0.0044 - acc: 1.0000 - val_loss: 0.0756 - val_acc: 0.9747\n",
            "Epoch 59/60\n",
            "24/24 [==============================] - 1s 38ms/step - loss: 0.0037 - acc: 1.0000 - val_loss: 0.0827 - val_acc: 0.9747\n",
            "Epoch 60/60\n",
            "24/24 [==============================] - 1s 39ms/step - loss: 0.0031 - acc: 1.0000 - val_loss: 0.0837 - val_acc: 0.9747\n"
          ]
        },
        {
          "output_type": "execute_result",
          "data": {
            "text/plain": [
              "<keras.callbacks.History at 0x7fdb1ff06340>"
            ]
          },
          "metadata": {},
          "execution_count": 137
        }
      ],
      "source": [
        "model.fit(X_train, y_train, validation_split=0.3, epochs=60)"
      ]
    },
    {
      "cell_type": "code",
      "execution_count": 138,
      "metadata": {
        "colab": {
          "base_uri": "https://localhost:8080/"
        },
        "id": "wENCZWEXysix",
        "outputId": "72d5b222-0801-4434-ca33-76673a08f5ba"
      },
      "outputs": [
        {
          "output_type": "stream",
          "name": "stdout",
          "text": [
            "11/11 [==============================] - 1s 13ms/step\n"
          ]
        }
      ],
      "source": [
        "y_pred = (model.predict(X_test) >= 0.5).astype(\"int\")"
      ]
    },
    {
      "cell_type": "code",
      "execution_count": 139,
      "metadata": {
        "colab": {
          "base_uri": "https://localhost:8080/"
        },
        "id": "nFZW7M7kyuUM",
        "outputId": "352efeee-940c-4851-83a8-fd7de79c0c33"
      },
      "outputs": [
        {
          "output_type": "stream",
          "name": "stdout",
          "text": [
            "              precision    recall  f1-score   support\n",
            "\n",
            "           0       1.00      0.91      0.95       177\n",
            "           1       0.92      1.00      0.96       174\n",
            "\n",
            "    accuracy                           0.95       351\n",
            "   macro avg       0.96      0.95      0.95       351\n",
            "weighted avg       0.96      0.95      0.95       351\n",
            "\n"
          ]
        }
      ],
      "source": [
        "print(classification_report(y_test, y_pred))"
      ]
    }
  ],
  "metadata": {
    "accelerator": "GPU",
    "colab": {
      "provenance": [],
      "include_colab_link": true
    },
    "gpuClass": "standard",
    "kernelspec": {
      "display_name": "Python 3.9.1 64-bit",
      "language": "python",
      "name": "python3"
    },
    "language_info": {
      "codemirror_mode": {
        "name": "ipython",
        "version": 3
      },
      "file_extension": ".py",
      "mimetype": "text/x-python",
      "name": "python",
      "nbconvert_exporter": "python",
      "pygments_lexer": "ipython3",
      "version": "3.9.1"
    },
    "vscode": {
      "interpreter": {
        "hash": "ad459153494ef8bf9bfb381956f48d86a83e0450934ceb6b8440ac5a2424102d"
      }
    }
  },
  "nbformat": 4,
  "nbformat_minor": 0
}