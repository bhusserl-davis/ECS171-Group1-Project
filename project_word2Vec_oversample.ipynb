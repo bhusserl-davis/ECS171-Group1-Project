{
  "cells": [
    {
      "cell_type": "markdown",
      "metadata": {
        "id": "view-in-github",
        "colab_type": "text"
      },
      "source": [
        "<a href=\"https://colab.research.google.com/github/bhusserl-davis/ECS171-Group1-Project/blob/main/project_word2Vec_oversample.ipynb\" target=\"_parent\"><img src=\"https://colab.research.google.com/assets/colab-badge.svg\" alt=\"Open In Colab\"/></a>"
      ]
    },
    {
      "cell_type": "markdown",
      "metadata": {
        "id": "gntRQBTvsH61"
      },
      "source": [
        "## Imports"
      ]
    },
    {
      "cell_type": "code",
      "execution_count": null,
      "metadata": {
        "id": "mkDI0UoFsH6_",
        "outputId": "8ce056c9-0187-42a8-88a3-c4fcc0909841",
        "colab": {
          "base_uri": "https://localhost:8080/"
        }
      },
      "outputs": [
        {
          "output_type": "stream",
          "name": "stdout",
          "text": [
            "  Building wheel for sklearn (setup.py) ... \u001b[?25l\u001b[?25hdone\n",
            "\u001b[K     |████████████████████████████████| 371 kB 35.3 MB/s \n",
            "\u001b[K     |████████████████████████████████| 24.2 MB 1.4 MB/s \n",
            "\u001b[?25h"
          ]
        }
      ],
      "source": [
        "# Download Needed Packages\n",
        "import sys\n",
        "!{sys.executable} -m pip install -q pandas\n",
        "!{sys.executable} -m pip install -q nltk\n",
        "!{sys.executable} -m pip install -q sklearn\n",
        "!{sys.executable} -m pip install -q wordcloud==1.8.1\n",
        "!{sys.executable} -m pip install -q gensim==3.8.3\n",
        "!{sys.executable} -m pip install -q keras\n",
        "!{sys.executable} -m pip install -q numpy\n",
        "!{sys.executable} -m pip install -q matplotlib"
      ]
    },
    {
      "cell_type": "code",
      "execution_count": null,
      "metadata": {
        "id": "XUBwYzkusH7D"
      },
      "outputs": [],
      "source": [
        "# Import needed libraries and download needed data\n",
        "import string\n",
        "import pandas as pd\n",
        "import nltk\n",
        "nltk.download('stopwords', quiet=True)\n",
        "from nltk.corpus import stopwords\n",
        "nltk.download('punkt', quiet=True)\n",
        "from nltk.tokenize import word_tokenize\n",
        "from sklearn.metrics import classification_report\n",
        "from sklearn.model_selection import train_test_split\n",
        "from wordcloud import WordCloud"
      ]
    },
    {
      "cell_type": "markdown",
      "metadata": {
        "id": "duXaTruMsH7F"
      },
      "source": [
        "## Data Exploration"
      ]
    },
    {
      "cell_type": "code",
      "execution_count": null,
      "metadata": {
        "colab": {
          "base_uri": "https://localhost:8080/",
          "height": 617
        },
        "id": "8RVGvjx5sH7G",
        "outputId": "09cce833-9adf-4d0e-9e2f-df1103fab4f6"
      },
      "outputs": [
        {
          "output_type": "stream",
          "name": "stdout",
          "text": [
            "17880 observations, 18 features\n"
          ]
        },
        {
          "output_type": "display_data",
          "data": {
            "text/plain": [
              "   job_id                                      title            location  \\\n",
              "0       1                           Marketing Intern    US, NY, New York   \n",
              "1       2  Customer Service - Cloud Video Production      NZ, , Auckland   \n",
              "2       3    Commissioning Machinery Assistant (CMA)       US, IA, Wever   \n",
              "3       4          Account Executive - Washington DC  US, DC, Washington   \n",
              "4       5                        Bill Review Manager  US, FL, Fort Worth   \n",
              "\n",
              "  department salary_range                                    company_profile  \\\n",
              "0  Marketing          NaN  We're Food52, and we've created a groundbreaki...   \n",
              "1    Success          NaN  90 Seconds, the worlds Cloud Video Production ...   \n",
              "2        NaN          NaN  Valor Services provides Workforce Solutions th...   \n",
              "3      Sales          NaN  Our passion for improving quality of life thro...   \n",
              "4        NaN          NaN  SpotSource Solutions LLC is a Global Human Cap...   \n",
              "\n",
              "                                         description  \\\n",
              "0  Food52, a fast-growing, James Beard Award-winn...   \n",
              "1  Organised - Focused - Vibrant - Awesome!Do you...   \n",
              "2  Our client, located in Houston, is actively se...   \n",
              "3  THE COMPANY: ESRI – Environmental Systems Rese...   \n",
              "4  JOB TITLE: Itemization Review ManagerLOCATION:...   \n",
              "\n",
              "                                        requirements  \\\n",
              "0  Experience with content management systems a m...   \n",
              "1  What we expect from you:Your key responsibilit...   \n",
              "2  Implement pre-commissioning and commissioning ...   \n",
              "3  EDUCATION: Bachelor’s or Master’s in GIS, busi...   \n",
              "4  QUALIFICATIONS:RN license in the State of Texa...   \n",
              "\n",
              "                                            benefits  telecommuting  \\\n",
              "0                                                NaN              0   \n",
              "1  What you will get from usThrough being part of...              0   \n",
              "2                                                NaN              0   \n",
              "3  Our culture is anything but corporate—we have ...              0   \n",
              "4                              Full Benefits Offered              0   \n",
              "\n",
              "   has_company_logo  has_questions employment_type required_experience  \\\n",
              "0                 1              0           Other          Internship   \n",
              "1                 1              0       Full-time      Not Applicable   \n",
              "2                 1              0             NaN                 NaN   \n",
              "3                 1              0       Full-time    Mid-Senior level   \n",
              "4                 1              1       Full-time    Mid-Senior level   \n",
              "\n",
              "  required_education                   industry              function  \\\n",
              "0                NaN                        NaN             Marketing   \n",
              "1                NaN  Marketing and Advertising      Customer Service   \n",
              "2                NaN                        NaN                   NaN   \n",
              "3  Bachelor's Degree          Computer Software                 Sales   \n",
              "4  Bachelor's Degree     Hospital & Health Care  Health Care Provider   \n",
              "\n",
              "   fraudulent  \n",
              "0           0  \n",
              "1           0  \n",
              "2           0  \n",
              "3           0  \n",
              "4           0  "
            ],
            "text/html": [
              "\n",
              "  <div id=\"df-8e66f100-f444-4708-a26e-8fdffcc9c8ce\">\n",
              "    <div class=\"colab-df-container\">\n",
              "      <div>\n",
              "<style scoped>\n",
              "    .dataframe tbody tr th:only-of-type {\n",
              "        vertical-align: middle;\n",
              "    }\n",
              "\n",
              "    .dataframe tbody tr th {\n",
              "        vertical-align: top;\n",
              "    }\n",
              "\n",
              "    .dataframe thead th {\n",
              "        text-align: right;\n",
              "    }\n",
              "</style>\n",
              "<table border=\"1\" class=\"dataframe\">\n",
              "  <thead>\n",
              "    <tr style=\"text-align: right;\">\n",
              "      <th></th>\n",
              "      <th>job_id</th>\n",
              "      <th>title</th>\n",
              "      <th>location</th>\n",
              "      <th>department</th>\n",
              "      <th>salary_range</th>\n",
              "      <th>company_profile</th>\n",
              "      <th>description</th>\n",
              "      <th>requirements</th>\n",
              "      <th>benefits</th>\n",
              "      <th>telecommuting</th>\n",
              "      <th>has_company_logo</th>\n",
              "      <th>has_questions</th>\n",
              "      <th>employment_type</th>\n",
              "      <th>required_experience</th>\n",
              "      <th>required_education</th>\n",
              "      <th>industry</th>\n",
              "      <th>function</th>\n",
              "      <th>fraudulent</th>\n",
              "    </tr>\n",
              "  </thead>\n",
              "  <tbody>\n",
              "    <tr>\n",
              "      <th>0</th>\n",
              "      <td>1</td>\n",
              "      <td>Marketing Intern</td>\n",
              "      <td>US, NY, New York</td>\n",
              "      <td>Marketing</td>\n",
              "      <td>NaN</td>\n",
              "      <td>We're Food52, and we've created a groundbreaki...</td>\n",
              "      <td>Food52, a fast-growing, James Beard Award-winn...</td>\n",
              "      <td>Experience with content management systems a m...</td>\n",
              "      <td>NaN</td>\n",
              "      <td>0</td>\n",
              "      <td>1</td>\n",
              "      <td>0</td>\n",
              "      <td>Other</td>\n",
              "      <td>Internship</td>\n",
              "      <td>NaN</td>\n",
              "      <td>NaN</td>\n",
              "      <td>Marketing</td>\n",
              "      <td>0</td>\n",
              "    </tr>\n",
              "    <tr>\n",
              "      <th>1</th>\n",
              "      <td>2</td>\n",
              "      <td>Customer Service - Cloud Video Production</td>\n",
              "      <td>NZ, , Auckland</td>\n",
              "      <td>Success</td>\n",
              "      <td>NaN</td>\n",
              "      <td>90 Seconds, the worlds Cloud Video Production ...</td>\n",
              "      <td>Organised - Focused - Vibrant - Awesome!Do you...</td>\n",
              "      <td>What we expect from you:Your key responsibilit...</td>\n",
              "      <td>What you will get from usThrough being part of...</td>\n",
              "      <td>0</td>\n",
              "      <td>1</td>\n",
              "      <td>0</td>\n",
              "      <td>Full-time</td>\n",
              "      <td>Not Applicable</td>\n",
              "      <td>NaN</td>\n",
              "      <td>Marketing and Advertising</td>\n",
              "      <td>Customer Service</td>\n",
              "      <td>0</td>\n",
              "    </tr>\n",
              "    <tr>\n",
              "      <th>2</th>\n",
              "      <td>3</td>\n",
              "      <td>Commissioning Machinery Assistant (CMA)</td>\n",
              "      <td>US, IA, Wever</td>\n",
              "      <td>NaN</td>\n",
              "      <td>NaN</td>\n",
              "      <td>Valor Services provides Workforce Solutions th...</td>\n",
              "      <td>Our client, located in Houston, is actively se...</td>\n",
              "      <td>Implement pre-commissioning and commissioning ...</td>\n",
              "      <td>NaN</td>\n",
              "      <td>0</td>\n",
              "      <td>1</td>\n",
              "      <td>0</td>\n",
              "      <td>NaN</td>\n",
              "      <td>NaN</td>\n",
              "      <td>NaN</td>\n",
              "      <td>NaN</td>\n",
              "      <td>NaN</td>\n",
              "      <td>0</td>\n",
              "    </tr>\n",
              "    <tr>\n",
              "      <th>3</th>\n",
              "      <td>4</td>\n",
              "      <td>Account Executive - Washington DC</td>\n",
              "      <td>US, DC, Washington</td>\n",
              "      <td>Sales</td>\n",
              "      <td>NaN</td>\n",
              "      <td>Our passion for improving quality of life thro...</td>\n",
              "      <td>THE COMPANY: ESRI – Environmental Systems Rese...</td>\n",
              "      <td>EDUCATION: Bachelor’s or Master’s in GIS, busi...</td>\n",
              "      <td>Our culture is anything but corporate—we have ...</td>\n",
              "      <td>0</td>\n",
              "      <td>1</td>\n",
              "      <td>0</td>\n",
              "      <td>Full-time</td>\n",
              "      <td>Mid-Senior level</td>\n",
              "      <td>Bachelor's Degree</td>\n",
              "      <td>Computer Software</td>\n",
              "      <td>Sales</td>\n",
              "      <td>0</td>\n",
              "    </tr>\n",
              "    <tr>\n",
              "      <th>4</th>\n",
              "      <td>5</td>\n",
              "      <td>Bill Review Manager</td>\n",
              "      <td>US, FL, Fort Worth</td>\n",
              "      <td>NaN</td>\n",
              "      <td>NaN</td>\n",
              "      <td>SpotSource Solutions LLC is a Global Human Cap...</td>\n",
              "      <td>JOB TITLE: Itemization Review ManagerLOCATION:...</td>\n",
              "      <td>QUALIFICATIONS:RN license in the State of Texa...</td>\n",
              "      <td>Full Benefits Offered</td>\n",
              "      <td>0</td>\n",
              "      <td>1</td>\n",
              "      <td>1</td>\n",
              "      <td>Full-time</td>\n",
              "      <td>Mid-Senior level</td>\n",
              "      <td>Bachelor's Degree</td>\n",
              "      <td>Hospital &amp; Health Care</td>\n",
              "      <td>Health Care Provider</td>\n",
              "      <td>0</td>\n",
              "    </tr>\n",
              "  </tbody>\n",
              "</table>\n",
              "</div>\n",
              "      <button class=\"colab-df-convert\" onclick=\"convertToInteractive('df-8e66f100-f444-4708-a26e-8fdffcc9c8ce')\"\n",
              "              title=\"Convert this dataframe to an interactive table.\"\n",
              "              style=\"display:none;\">\n",
              "        \n",
              "  <svg xmlns=\"http://www.w3.org/2000/svg\" height=\"24px\"viewBox=\"0 0 24 24\"\n",
              "       width=\"24px\">\n",
              "    <path d=\"M0 0h24v24H0V0z\" fill=\"none\"/>\n",
              "    <path d=\"M18.56 5.44l.94 2.06.94-2.06 2.06-.94-2.06-.94-.94-2.06-.94 2.06-2.06.94zm-11 1L8.5 8.5l.94-2.06 2.06-.94-2.06-.94L8.5 2.5l-.94 2.06-2.06.94zm10 10l.94 2.06.94-2.06 2.06-.94-2.06-.94-.94-2.06-.94 2.06-2.06.94z\"/><path d=\"M17.41 7.96l-1.37-1.37c-.4-.4-.92-.59-1.43-.59-.52 0-1.04.2-1.43.59L10.3 9.45l-7.72 7.72c-.78.78-.78 2.05 0 2.83L4 21.41c.39.39.9.59 1.41.59.51 0 1.02-.2 1.41-.59l7.78-7.78 2.81-2.81c.8-.78.8-2.07 0-2.86zM5.41 20L4 18.59l7.72-7.72 1.47 1.35L5.41 20z\"/>\n",
              "  </svg>\n",
              "      </button>\n",
              "      \n",
              "  <style>\n",
              "    .colab-df-container {\n",
              "      display:flex;\n",
              "      flex-wrap:wrap;\n",
              "      gap: 12px;\n",
              "    }\n",
              "\n",
              "    .colab-df-convert {\n",
              "      background-color: #E8F0FE;\n",
              "      border: none;\n",
              "      border-radius: 50%;\n",
              "      cursor: pointer;\n",
              "      display: none;\n",
              "      fill: #1967D2;\n",
              "      height: 32px;\n",
              "      padding: 0 0 0 0;\n",
              "      width: 32px;\n",
              "    }\n",
              "\n",
              "    .colab-df-convert:hover {\n",
              "      background-color: #E2EBFA;\n",
              "      box-shadow: 0px 1px 2px rgba(60, 64, 67, 0.3), 0px 1px 3px 1px rgba(60, 64, 67, 0.15);\n",
              "      fill: #174EA6;\n",
              "    }\n",
              "\n",
              "    [theme=dark] .colab-df-convert {\n",
              "      background-color: #3B4455;\n",
              "      fill: #D2E3FC;\n",
              "    }\n",
              "\n",
              "    [theme=dark] .colab-df-convert:hover {\n",
              "      background-color: #434B5C;\n",
              "      box-shadow: 0px 1px 3px 1px rgba(0, 0, 0, 0.15);\n",
              "      filter: drop-shadow(0px 1px 2px rgba(0, 0, 0, 0.3));\n",
              "      fill: #FFFFFF;\n",
              "    }\n",
              "  </style>\n",
              "\n",
              "      <script>\n",
              "        const buttonEl =\n",
              "          document.querySelector('#df-8e66f100-f444-4708-a26e-8fdffcc9c8ce button.colab-df-convert');\n",
              "        buttonEl.style.display =\n",
              "          google.colab.kernel.accessAllowed ? 'block' : 'none';\n",
              "\n",
              "        async function convertToInteractive(key) {\n",
              "          const element = document.querySelector('#df-8e66f100-f444-4708-a26e-8fdffcc9c8ce');\n",
              "          const dataTable =\n",
              "            await google.colab.kernel.invokeFunction('convertToInteractive',\n",
              "                                                     [key], {});\n",
              "          if (!dataTable) return;\n",
              "\n",
              "          const docLinkHtml = 'Like what you see? Visit the ' +\n",
              "            '<a target=\"_blank\" href=https://colab.research.google.com/notebooks/data_table.ipynb>data table notebook</a>'\n",
              "            + ' to learn more about interactive tables.';\n",
              "          element.innerHTML = '';\n",
              "          dataTable['output_type'] = 'display_data';\n",
              "          await google.colab.output.renderOutput(dataTable, element);\n",
              "          const docLink = document.createElement('div');\n",
              "          docLink.innerHTML = docLinkHtml;\n",
              "          element.appendChild(docLink);\n",
              "        }\n",
              "      </script>\n",
              "    </div>\n",
              "  </div>\n",
              "  "
            ]
          },
          "metadata": {}
        }
      ],
      "source": [
        "# Import Data\n",
        "df = pd.read_csv(\"./fake_job_postings.csv\")\n",
        "print(f'{df.shape[0]} observations, {df.shape[1]} features')\n",
        "display(df.head(5))"
      ]
    },
    {
      "cell_type": "code",
      "execution_count": null,
      "metadata": {
        "colab": {
          "base_uri": "https://localhost:8080/"
        },
        "id": "YyMeutk0grON",
        "outputId": "05726cc4-8099-4b81-cc61-0afff0a52e94"
      },
      "outputs": [
        {
          "output_type": "stream",
          "name": "stdout",
          "text": [
            "Column\t\t    NaNs   Type\n",
            "job_id              0      int64\n",
            "title               0      object\n",
            "location            346    object\n",
            "department          11547  object\n",
            "salary_range        15012  object\n",
            "company_profile     3308   object\n",
            "description         1      object\n",
            "requirements        2695   object\n",
            "benefits            7210   object\n",
            "telecommuting       0      int64\n",
            "has_company_logo    0      int64\n",
            "has_questions       0      int64\n",
            "employment_type     3471   object\n",
            "required_experience 7050   object\n",
            "required_education  8105   object\n",
            "industry            4903   object\n",
            "function            6455   object\n",
            "fraudulent          0      int64\n"
          ]
        }
      ],
      "source": [
        "# Print count of NaNs and type of each column\n",
        "print(\"Column\\t\\t    NaNs   Type\")\n",
        "for column in df.columns:\n",
        "    print(f'{column.ljust(20)}{str(df[column].isna().sum()).ljust(7)}{df[column].dtype}')"
      ]
    },
    {
      "cell_type": "code",
      "execution_count": null,
      "metadata": {
        "colab": {
          "base_uri": "https://localhost:8080/"
        },
        "id": "VOXcRkmhgwrZ",
        "outputId": "72165627-9262-49a1-bcd7-1f500b0c21d9"
      },
      "outputs": [
        {
          "output_type": "stream",
          "name": "stdout",
          "text": [
            "Column\t\t       NaNs\n",
            "job_id                 0\n",
            "title                  0\n",
            "location               0\n",
            "department             0\n",
            "salary_range           0\n",
            "company_profile        0\n",
            "description            0\n",
            "requirements           0\n",
            "benefits               0\n",
            "telecommuting          0\n",
            "has_company_logo       0\n",
            "has_questions          0\n",
            "employment_type        0\n",
            "required_experience    0\n",
            "required_education     0\n",
            "industry               0\n",
            "function               0\n",
            "fraudulent             0\n",
            "dtype: int64\n"
          ]
        }
      ],
      "source": [
        "#Replacing NAN Values\n",
        "new_df = df.copy()\n",
        "NAN_Cols=[\n",
        "    \"location\",\"department\",\"salary_range\",\n",
        "    \"company_profile\",\"description\",\"requirements\",\n",
        "    \"benefits\",\"employment_type\",\"required_experience\",\n",
        "    \"required_experience\",\"required_education\",\"industry\",\"function\"\n",
        "]\n",
        "print(\"Column\\t\\t       NaNs\")\n",
        "for i in NAN_Cols:\n",
        "    new_df[i].fillna(\"\",inplace=True)\n",
        "print(new_df.isnull().sum())"
      ]
    },
    {
      "cell_type": "code",
      "execution_count": null,
      "metadata": {
        "colab": {
          "base_uri": "https://localhost:8080/"
        },
        "id": "87mjUtgkg6ek",
        "outputId": "5035f03e-c8e6-4aa5-ca4c-61986a14527e"
      },
      "outputs": [
        {
          "output_type": "stream",
          "name": "stdout",
          "text": [
            "job_id: [    1     2     3 ... 17878 17879 17880]\n",
            "telecommuting: [0 1]\n",
            "has_company_logo: [1 0]\n",
            "has_questions: [0 1]\n",
            "fraudulent: [0 1]\n"
          ]
        }
      ],
      "source": [
        "# Get numeric columns unique values\n",
        "numeric_atts = ['job_id', 'telecommuting', 'has_company_logo', 'has_questions', 'fraudulent']\n",
        "for column in numeric_atts:\n",
        "    print(f'{column}: {new_df[column].unique()}')"
      ]
    },
    {
      "cell_type": "code",
      "execution_count": null,
      "metadata": {
        "colab": {
          "base_uri": "https://localhost:8080/",
          "height": 600
        },
        "id": "7s618PyahBU2",
        "outputId": "5d8d8b85-4770-4c84-da05-899ee42d3ec3"
      },
      "outputs": [
        {
          "output_type": "execute_result",
          "data": {
            "text/plain": [
              "   job_id                                      title            location  \\\n",
              "0       1                           Marketing Intern    US, NY, New York   \n",
              "1       2  Customer Service - Cloud Video Production      NZ, , Auckland   \n",
              "2       3    Commissioning Machinery Assistant (CMA)       US, IA, Wever   \n",
              "3       4          Account Executive - Washington DC  US, DC, Washington   \n",
              "4       5                        Bill Review Manager  US, FL, Fort Worth   \n",
              "\n",
              "  department salary_range                                    company_profile  \\\n",
              "0  Marketing               We're Food52, and we've created a groundbreaki...   \n",
              "1    Success               90 Seconds, the worlds Cloud Video Production ...   \n",
              "2                          Valor Services provides Workforce Solutions th...   \n",
              "3      Sales               Our passion for improving quality of life thro...   \n",
              "4                          SpotSource Solutions LLC is a Global Human Cap...   \n",
              "\n",
              "                                         description  \\\n",
              "0  Food52, a fast-growing, James Beard Award-winn...   \n",
              "1  Organised - Focused - Vibrant - Awesome!Do you...   \n",
              "2  Our client, located in Houston, is actively se...   \n",
              "3  THE COMPANY: ESRI – Environmental Systems Rese...   \n",
              "4  JOB TITLE: Itemization Review ManagerLOCATION:...   \n",
              "\n",
              "                                        requirements  \\\n",
              "0  Experience with content management systems a m...   \n",
              "1  What we expect from you:Your key responsibilit...   \n",
              "2  Implement pre-commissioning and commissioning ...   \n",
              "3  EDUCATION: Bachelor’s or Master’s in GIS, busi...   \n",
              "4  QUALIFICATIONS:RN license in the State of Texa...   \n",
              "\n",
              "                                            benefits  telecommuting  \\\n",
              "0                                                                 0   \n",
              "1  What you will get from usThrough being part of...              0   \n",
              "2                                                                 0   \n",
              "3  Our culture is anything but corporate—we have ...              0   \n",
              "4                              Full Benefits Offered              0   \n",
              "\n",
              "   has_company_logo  has_questions employment_type required_experience  \\\n",
              "0                 1              0           Other          Internship   \n",
              "1                 1              0       Full-time      Not Applicable   \n",
              "2                 1              0                                       \n",
              "3                 1              0       Full-time    Mid-Senior level   \n",
              "4                 1              1       Full-time    Mid-Senior level   \n",
              "\n",
              "  required_education                   industry              function  \\\n",
              "0                                                           Marketing   \n",
              "1                     Marketing and Advertising      Customer Service   \n",
              "2                                                                       \n",
              "3  Bachelor's Degree          Computer Software                 Sales   \n",
              "4  Bachelor's Degree     Hospital & Health Care  Health Care Provider   \n",
              "\n",
              "   fraudulent  \n",
              "0           0  \n",
              "1           0  \n",
              "2           0  \n",
              "3           0  \n",
              "4           0  "
            ],
            "text/html": [
              "\n",
              "  <div id=\"df-286bf072-5f23-4732-ac0f-c33af9a0fa66\">\n",
              "    <div class=\"colab-df-container\">\n",
              "      <div>\n",
              "<style scoped>\n",
              "    .dataframe tbody tr th:only-of-type {\n",
              "        vertical-align: middle;\n",
              "    }\n",
              "\n",
              "    .dataframe tbody tr th {\n",
              "        vertical-align: top;\n",
              "    }\n",
              "\n",
              "    .dataframe thead th {\n",
              "        text-align: right;\n",
              "    }\n",
              "</style>\n",
              "<table border=\"1\" class=\"dataframe\">\n",
              "  <thead>\n",
              "    <tr style=\"text-align: right;\">\n",
              "      <th></th>\n",
              "      <th>job_id</th>\n",
              "      <th>title</th>\n",
              "      <th>location</th>\n",
              "      <th>department</th>\n",
              "      <th>salary_range</th>\n",
              "      <th>company_profile</th>\n",
              "      <th>description</th>\n",
              "      <th>requirements</th>\n",
              "      <th>benefits</th>\n",
              "      <th>telecommuting</th>\n",
              "      <th>has_company_logo</th>\n",
              "      <th>has_questions</th>\n",
              "      <th>employment_type</th>\n",
              "      <th>required_experience</th>\n",
              "      <th>required_education</th>\n",
              "      <th>industry</th>\n",
              "      <th>function</th>\n",
              "      <th>fraudulent</th>\n",
              "    </tr>\n",
              "  </thead>\n",
              "  <tbody>\n",
              "    <tr>\n",
              "      <th>0</th>\n",
              "      <td>1</td>\n",
              "      <td>Marketing Intern</td>\n",
              "      <td>US, NY, New York</td>\n",
              "      <td>Marketing</td>\n",
              "      <td></td>\n",
              "      <td>We're Food52, and we've created a groundbreaki...</td>\n",
              "      <td>Food52, a fast-growing, James Beard Award-winn...</td>\n",
              "      <td>Experience with content management systems a m...</td>\n",
              "      <td></td>\n",
              "      <td>0</td>\n",
              "      <td>1</td>\n",
              "      <td>0</td>\n",
              "      <td>Other</td>\n",
              "      <td>Internship</td>\n",
              "      <td></td>\n",
              "      <td></td>\n",
              "      <td>Marketing</td>\n",
              "      <td>0</td>\n",
              "    </tr>\n",
              "    <tr>\n",
              "      <th>1</th>\n",
              "      <td>2</td>\n",
              "      <td>Customer Service - Cloud Video Production</td>\n",
              "      <td>NZ, , Auckland</td>\n",
              "      <td>Success</td>\n",
              "      <td></td>\n",
              "      <td>90 Seconds, the worlds Cloud Video Production ...</td>\n",
              "      <td>Organised - Focused - Vibrant - Awesome!Do you...</td>\n",
              "      <td>What we expect from you:Your key responsibilit...</td>\n",
              "      <td>What you will get from usThrough being part of...</td>\n",
              "      <td>0</td>\n",
              "      <td>1</td>\n",
              "      <td>0</td>\n",
              "      <td>Full-time</td>\n",
              "      <td>Not Applicable</td>\n",
              "      <td></td>\n",
              "      <td>Marketing and Advertising</td>\n",
              "      <td>Customer Service</td>\n",
              "      <td>0</td>\n",
              "    </tr>\n",
              "    <tr>\n",
              "      <th>2</th>\n",
              "      <td>3</td>\n",
              "      <td>Commissioning Machinery Assistant (CMA)</td>\n",
              "      <td>US, IA, Wever</td>\n",
              "      <td></td>\n",
              "      <td></td>\n",
              "      <td>Valor Services provides Workforce Solutions th...</td>\n",
              "      <td>Our client, located in Houston, is actively se...</td>\n",
              "      <td>Implement pre-commissioning and commissioning ...</td>\n",
              "      <td></td>\n",
              "      <td>0</td>\n",
              "      <td>1</td>\n",
              "      <td>0</td>\n",
              "      <td></td>\n",
              "      <td></td>\n",
              "      <td></td>\n",
              "      <td></td>\n",
              "      <td></td>\n",
              "      <td>0</td>\n",
              "    </tr>\n",
              "    <tr>\n",
              "      <th>3</th>\n",
              "      <td>4</td>\n",
              "      <td>Account Executive - Washington DC</td>\n",
              "      <td>US, DC, Washington</td>\n",
              "      <td>Sales</td>\n",
              "      <td></td>\n",
              "      <td>Our passion for improving quality of life thro...</td>\n",
              "      <td>THE COMPANY: ESRI – Environmental Systems Rese...</td>\n",
              "      <td>EDUCATION: Bachelor’s or Master’s in GIS, busi...</td>\n",
              "      <td>Our culture is anything but corporate—we have ...</td>\n",
              "      <td>0</td>\n",
              "      <td>1</td>\n",
              "      <td>0</td>\n",
              "      <td>Full-time</td>\n",
              "      <td>Mid-Senior level</td>\n",
              "      <td>Bachelor's Degree</td>\n",
              "      <td>Computer Software</td>\n",
              "      <td>Sales</td>\n",
              "      <td>0</td>\n",
              "    </tr>\n",
              "    <tr>\n",
              "      <th>4</th>\n",
              "      <td>5</td>\n",
              "      <td>Bill Review Manager</td>\n",
              "      <td>US, FL, Fort Worth</td>\n",
              "      <td></td>\n",
              "      <td></td>\n",
              "      <td>SpotSource Solutions LLC is a Global Human Cap...</td>\n",
              "      <td>JOB TITLE: Itemization Review ManagerLOCATION:...</td>\n",
              "      <td>QUALIFICATIONS:RN license in the State of Texa...</td>\n",
              "      <td>Full Benefits Offered</td>\n",
              "      <td>0</td>\n",
              "      <td>1</td>\n",
              "      <td>1</td>\n",
              "      <td>Full-time</td>\n",
              "      <td>Mid-Senior level</td>\n",
              "      <td>Bachelor's Degree</td>\n",
              "      <td>Hospital &amp; Health Care</td>\n",
              "      <td>Health Care Provider</td>\n",
              "      <td>0</td>\n",
              "    </tr>\n",
              "  </tbody>\n",
              "</table>\n",
              "</div>\n",
              "      <button class=\"colab-df-convert\" onclick=\"convertToInteractive('df-286bf072-5f23-4732-ac0f-c33af9a0fa66')\"\n",
              "              title=\"Convert this dataframe to an interactive table.\"\n",
              "              style=\"display:none;\">\n",
              "        \n",
              "  <svg xmlns=\"http://www.w3.org/2000/svg\" height=\"24px\"viewBox=\"0 0 24 24\"\n",
              "       width=\"24px\">\n",
              "    <path d=\"M0 0h24v24H0V0z\" fill=\"none\"/>\n",
              "    <path d=\"M18.56 5.44l.94 2.06.94-2.06 2.06-.94-2.06-.94-.94-2.06-.94 2.06-2.06.94zm-11 1L8.5 8.5l.94-2.06 2.06-.94-2.06-.94L8.5 2.5l-.94 2.06-2.06.94zm10 10l.94 2.06.94-2.06 2.06-.94-2.06-.94-.94-2.06-.94 2.06-2.06.94z\"/><path d=\"M17.41 7.96l-1.37-1.37c-.4-.4-.92-.59-1.43-.59-.52 0-1.04.2-1.43.59L10.3 9.45l-7.72 7.72c-.78.78-.78 2.05 0 2.83L4 21.41c.39.39.9.59 1.41.59.51 0 1.02-.2 1.41-.59l7.78-7.78 2.81-2.81c.8-.78.8-2.07 0-2.86zM5.41 20L4 18.59l7.72-7.72 1.47 1.35L5.41 20z\"/>\n",
              "  </svg>\n",
              "      </button>\n",
              "      \n",
              "  <style>\n",
              "    .colab-df-container {\n",
              "      display:flex;\n",
              "      flex-wrap:wrap;\n",
              "      gap: 12px;\n",
              "    }\n",
              "\n",
              "    .colab-df-convert {\n",
              "      background-color: #E8F0FE;\n",
              "      border: none;\n",
              "      border-radius: 50%;\n",
              "      cursor: pointer;\n",
              "      display: none;\n",
              "      fill: #1967D2;\n",
              "      height: 32px;\n",
              "      padding: 0 0 0 0;\n",
              "      width: 32px;\n",
              "    }\n",
              "\n",
              "    .colab-df-convert:hover {\n",
              "      background-color: #E2EBFA;\n",
              "      box-shadow: 0px 1px 2px rgba(60, 64, 67, 0.3), 0px 1px 3px 1px rgba(60, 64, 67, 0.15);\n",
              "      fill: #174EA6;\n",
              "    }\n",
              "\n",
              "    [theme=dark] .colab-df-convert {\n",
              "      background-color: #3B4455;\n",
              "      fill: #D2E3FC;\n",
              "    }\n",
              "\n",
              "    [theme=dark] .colab-df-convert:hover {\n",
              "      background-color: #434B5C;\n",
              "      box-shadow: 0px 1px 3px 1px rgba(0, 0, 0, 0.15);\n",
              "      filter: drop-shadow(0px 1px 2px rgba(0, 0, 0, 0.3));\n",
              "      fill: #FFFFFF;\n",
              "    }\n",
              "  </style>\n",
              "\n",
              "      <script>\n",
              "        const buttonEl =\n",
              "          document.querySelector('#df-286bf072-5f23-4732-ac0f-c33af9a0fa66 button.colab-df-convert');\n",
              "        buttonEl.style.display =\n",
              "          google.colab.kernel.accessAllowed ? 'block' : 'none';\n",
              "\n",
              "        async function convertToInteractive(key) {\n",
              "          const element = document.querySelector('#df-286bf072-5f23-4732-ac0f-c33af9a0fa66');\n",
              "          const dataTable =\n",
              "            await google.colab.kernel.invokeFunction('convertToInteractive',\n",
              "                                                     [key], {});\n",
              "          if (!dataTable) return;\n",
              "\n",
              "          const docLinkHtml = 'Like what you see? Visit the ' +\n",
              "            '<a target=\"_blank\" href=https://colab.research.google.com/notebooks/data_table.ipynb>data table notebook</a>'\n",
              "            + ' to learn more about interactive tables.';\n",
              "          element.innerHTML = '';\n",
              "          dataTable['output_type'] = 'display_data';\n",
              "          await google.colab.output.renderOutput(dataTable, element);\n",
              "          const docLink = document.createElement('div');\n",
              "          docLink.innerHTML = docLinkHtml;\n",
              "          element.appendChild(docLink);\n",
              "        }\n",
              "      </script>\n",
              "    </div>\n",
              "  </div>\n",
              "  "
            ]
          },
          "metadata": {},
          "execution_count": 7
        }
      ],
      "source": [
        "new_df[:5]"
      ]
    },
    {
      "cell_type": "code",
      "source": [
        "new_df['fraudulent'].value_counts().plot.bar()"
      ],
      "metadata": {
        "id": "B0bRggcWwnIe",
        "outputId": "e1c9cc76-3b95-412b-f4ba-7cb1ce3ce3d5",
        "colab": {
          "base_uri": "https://localhost:8080/",
          "height": 279
        }
      },
      "execution_count": null,
      "outputs": [
        {
          "output_type": "execute_result",
          "data": {
            "text/plain": [
              "<matplotlib.axes._subplots.AxesSubplot at 0x7fd3fabf03d0>"
            ]
          },
          "metadata": {},
          "execution_count": 8
        },
        {
          "output_type": "display_data",
          "data": {
            "text/plain": [
              "<Figure size 432x288 with 1 Axes>"
            ],
            "image/png": "[encoded data removed]"
          },
          "metadata": {
            "needs_background": "light"
          }
        }
      ]
    },
    {
      "cell_type": "markdown",
      "metadata": {
        "id": "15sW_btIsH7Q"
      },
      "source": [
        "## Preprocessing"
      ]
    },
    {
      "cell_type": "markdown",
      "source": [
        "### covert string to word token"
      ],
      "metadata": {
        "id": "mB7PDS_jwyvR"
      }
    },
    {
      "cell_type": "code",
      "execution_count": null,
      "metadata": {
        "colab": {
          "base_uri": "https://localhost:8080/",
          "height": 652
        },
        "id": "JN48DwVxhqxE",
        "outputId": "a6ca6f5a-4b14-4a98-c606-b6b692f61030"
      },
      "outputs": [
        {
          "output_type": "display_data",
          "data": {
            "text/plain": [
              "   job_id                                      title            location  \\\n",
              "0       1                           marketing intern    us  ny  new york   \n",
              "1       2  customer service   cloud video production      nz    auckland   \n",
              "2       3    commissioning machinery assistant  cma        us  ia  wever   \n",
              "3       4          account executive   washington dc  us  dc  washington   \n",
              "4       5                        bill review manager  us  fl  fort worth   \n",
              "\n",
              "  department salary_range                                    company_profile  \\\n",
              "0  marketing               we re food52  and we ve created a groundbreaki...   \n",
              "1    success               90 seconds  the worlds cloud video production ...   \n",
              "2                          valor services provides workforce solutions th...   \n",
              "3      sales               our passion for improving quality of life thro...   \n",
              "4                          spotsource solutions llc is a global human cap...   \n",
              "\n",
              "                                         description  \\\n",
              "0  food52  a fast growing  james beard award winn...   \n",
              "1  organised   focused   vibrant   awesome do you...   \n",
              "2  our client  located in houston  is actively se...   \n",
              "3  the company  esri – environmental systems rese...   \n",
              "4  job title  itemization review managerlocation ...   \n",
              "\n",
              "                                        requirements  \\\n",
              "0  experience with content management systems a m...   \n",
              "1  what we expect from you your key responsibilit...   \n",
              "2  implement pre commissioning and commissioning ...   \n",
              "3  education  bachelor’s or master’s in gis  busi...   \n",
              "4  qualifications rn license in the state of texa...   \n",
              "\n",
              "                                            benefits  telecommuting  \\\n",
              "0                                                                 0   \n",
              "1  what you will get from usthrough being part of...              0   \n",
              "2                                                                 0   \n",
              "3  our culture is anything but corporate—we have ...              0   \n",
              "4                              full benefits offered              0   \n",
              "\n",
              "   has_company_logo  has_questions employment_type required_experience  \\\n",
              "0                 1              0           other          internship   \n",
              "1                 1              0       full time      not applicable   \n",
              "2                 1              0                                       \n",
              "3                 1              0       full time    mid senior level   \n",
              "4                 1              1       full time    mid senior level   \n",
              "\n",
              "  required_education                   industry              function  \\\n",
              "0                                                           marketing   \n",
              "1                     marketing and advertising      customer service   \n",
              "2                                                                       \n",
              "3  bachelor s degree          computer software                 sales   \n",
              "4  bachelor s degree     hospital   health care  health care provider   \n",
              "\n",
              "   fraudulent  \n",
              "0           0  \n",
              "1           0  \n",
              "2           0  \n",
              "3           0  \n",
              "4           0  "
            ],
            "text/html": [
              "\n",
              "  <div id=\"df-65989c5a-1549-4842-8f99-66a6fb75ac01\">\n",
              "    <div class=\"colab-df-container\">\n",
              "      <div>\n",
              "<style scoped>\n",
              "    .dataframe tbody tr th:only-of-type {\n",
              "        vertical-align: middle;\n",
              "    }\n",
              "\n",
              "    .dataframe tbody tr th {\n",
              "        vertical-align: top;\n",
              "    }\n",
              "\n",
              "    .dataframe thead th {\n",
              "        text-align: right;\n",
              "    }\n",
              "</style>\n",
              "<table border=\"1\" class=\"dataframe\">\n",
              "  <thead>\n",
              "    <tr style=\"text-align: right;\">\n",
              "      <th></th>\n",
              "      <th>job_id</th>\n",
              "      <th>title</th>\n",
              "      <th>location</th>\n",
              "      <th>department</th>\n",
              "      <th>salary_range</th>\n",
              "      <th>company_profile</th>\n",
              "      <th>description</th>\n",
              "      <th>requirements</th>\n",
              "      <th>benefits</th>\n",
              "      <th>telecommuting</th>\n",
              "      <th>has_company_logo</th>\n",
              "      <th>has_questions</th>\n",
              "      <th>employment_type</th>\n",
              "      <th>required_experience</th>\n",
              "      <th>required_education</th>\n",
              "      <th>industry</th>\n",
              "      <th>function</th>\n",
              "      <th>fraudulent</th>\n",
              "    </tr>\n",
              "  </thead>\n",
              "  <tbody>\n",
              "    <tr>\n",
              "      <th>0</th>\n",
              "      <td>1</td>\n",
              "      <td>marketing intern</td>\n",
              "      <td>us  ny  new york</td>\n",
              "      <td>marketing</td>\n",
              "      <td></td>\n",
              "      <td>we re food52  and we ve created a groundbreaki...</td>\n",
              "      <td>food52  a fast growing  james beard award winn...</td>\n",
              "      <td>experience with content management systems a m...</td>\n",
              "      <td></td>\n",
              "      <td>0</td>\n",
              "      <td>1</td>\n",
              "      <td>0</td>\n",
              "      <td>other</td>\n",
              "      <td>internship</td>\n",
              "      <td></td>\n",
              "      <td></td>\n",
              "      <td>marketing</td>\n",
              "      <td>0</td>\n",
              "    </tr>\n",
              "    <tr>\n",
              "      <th>1</th>\n",
              "      <td>2</td>\n",
              "      <td>customer service   cloud video production</td>\n",
              "      <td>nz    auckland</td>\n",
              "      <td>success</td>\n",
              "      <td></td>\n",
              "      <td>90 seconds  the worlds cloud video production ...</td>\n",
              "      <td>organised   focused   vibrant   awesome do you...</td>\n",
              "      <td>what we expect from you your key responsibilit...</td>\n",
              "      <td>what you will get from usthrough being part of...</td>\n",
              "      <td>0</td>\n",
              "      <td>1</td>\n",
              "      <td>0</td>\n",
              "      <td>full time</td>\n",
              "      <td>not applicable</td>\n",
              "      <td></td>\n",
              "      <td>marketing and advertising</td>\n",
              "      <td>customer service</td>\n",
              "      <td>0</td>\n",
              "    </tr>\n",
              "    <tr>\n",
              "      <th>2</th>\n",
              "      <td>3</td>\n",
              "      <td>commissioning machinery assistant  cma</td>\n",
              "      <td>us  ia  wever</td>\n",
              "      <td></td>\n",
              "      <td></td>\n",
              "      <td>valor services provides workforce solutions th...</td>\n",
              "      <td>our client  located in houston  is actively se...</td>\n",
              "      <td>implement pre commissioning and commissioning ...</td>\n",
              "      <td></td>\n",
              "      <td>0</td>\n",
              "      <td>1</td>\n",
              "      <td>0</td>\n",
              "      <td></td>\n",
              "      <td></td>\n",
              "      <td></td>\n",
              "      <td></td>\n",
              "      <td></td>\n",
              "      <td>0</td>\n",
              "    </tr>\n",
              "    <tr>\n",
              "      <th>3</th>\n",
              "      <td>4</td>\n",
              "      <td>account executive   washington dc</td>\n",
              "      <td>us  dc  washington</td>\n",
              "      <td>sales</td>\n",
              "      <td></td>\n",
              "      <td>our passion for improving quality of life thro...</td>\n",
              "      <td>the company  esri – environmental systems rese...</td>\n",
              "      <td>education  bachelor’s or master’s in gis  busi...</td>\n",
              "      <td>our culture is anything but corporate—we have ...</td>\n",
              "      <td>0</td>\n",
              "      <td>1</td>\n",
              "      <td>0</td>\n",
              "      <td>full time</td>\n",
              "      <td>mid senior level</td>\n",
              "      <td>bachelor s degree</td>\n",
              "      <td>computer software</td>\n",
              "      <td>sales</td>\n",
              "      <td>0</td>\n",
              "    </tr>\n",
              "    <tr>\n",
              "      <th>4</th>\n",
              "      <td>5</td>\n",
              "      <td>bill review manager</td>\n",
              "      <td>us  fl  fort worth</td>\n",
              "      <td></td>\n",
              "      <td></td>\n",
              "      <td>spotsource solutions llc is a global human cap...</td>\n",
              "      <td>job title  itemization review managerlocation ...</td>\n",
              "      <td>qualifications rn license in the state of texa...</td>\n",
              "      <td>full benefits offered</td>\n",
              "      <td>0</td>\n",
              "      <td>1</td>\n",
              "      <td>1</td>\n",
              "      <td>full time</td>\n",
              "      <td>mid senior level</td>\n",
              "      <td>bachelor s degree</td>\n",
              "      <td>hospital   health care</td>\n",
              "      <td>health care provider</td>\n",
              "      <td>0</td>\n",
              "    </tr>\n",
              "  </tbody>\n",
              "</table>\n",
              "</div>\n",
              "      <button class=\"colab-df-convert\" onclick=\"convertToInteractive('df-65989c5a-1549-4842-8f99-66a6fb75ac01')\"\n",
              "              title=\"Convert this dataframe to an interactive table.\"\n",
              "              style=\"display:none;\">\n",
              "        \n",
              "  <svg xmlns=\"http://www.w3.org/2000/svg\" height=\"24px\"viewBox=\"0 0 24 24\"\n",
              "       width=\"24px\">\n",
              "    <path d=\"M0 0h24v24H0V0z\" fill=\"none\"/>\n",
              "    <path d=\"M18.56 5.44l.94 2.06.94-2.06 2.06-.94-2.06-.94-.94-2.06-.94 2.06-2.06.94zm-11 1L8.5 8.5l.94-2.06 2.06-.94-2.06-.94L8.5 2.5l-.94 2.06-2.06.94zm10 10l.94 2.06.94-2.06 2.06-.94-2.06-.94-.94-2.06-.94 2.06-2.06.94z\"/><path d=\"M17.41 7.96l-1.37-1.37c-.4-.4-.92-.59-1.43-.59-.52 0-1.04.2-1.43.59L10.3 9.45l-7.72 7.72c-.78.78-.78 2.05 0 2.83L4 21.41c.39.39.9.59 1.41.59.51 0 1.02-.2 1.41-.59l7.78-7.78 2.81-2.81c.8-.78.8-2.07 0-2.86zM5.41 20L4 18.59l7.72-7.72 1.47 1.35L5.41 20z\"/>\n",
              "  </svg>\n",
              "      </button>\n",
              "      \n",
              "  <style>\n",
              "    .colab-df-container {\n",
              "      display:flex;\n",
              "      flex-wrap:wrap;\n",
              "      gap: 12px;\n",
              "    }\n",
              "\n",
              "    .colab-df-convert {\n",
              "      background-color: #E8F0FE;\n",
              "      border: none;\n",
              "      border-radius: 50%;\n",
              "      cursor: pointer;\n",
              "      display: none;\n",
              "      fill: #1967D2;\n",
              "      height: 32px;\n",
              "      padding: 0 0 0 0;\n",
              "      width: 32px;\n",
              "    }\n",
              "\n",
              "    .colab-df-convert:hover {\n",
              "      background-color: #E2EBFA;\n",
              "      box-shadow: 0px 1px 2px rgba(60, 64, 67, 0.3), 0px 1px 3px 1px rgba(60, 64, 67, 0.15);\n",
              "      fill: #174EA6;\n",
              "    }\n",
              "\n",
              "    [theme=dark] .colab-df-convert {\n",
              "      background-color: #3B4455;\n",
              "      fill: #D2E3FC;\n",
              "    }\n",
              "\n",
              "    [theme=dark] .colab-df-convert:hover {\n",
              "      background-color: #434B5C;\n",
              "      box-shadow: 0px 1px 3px 1px rgba(0, 0, 0, 0.15);\n",
              "      filter: drop-shadow(0px 1px 2px rgba(0, 0, 0, 0.3));\n",
              "      fill: #FFFFFF;\n",
              "    }\n",
              "  </style>\n",
              "\n",
              "      <script>\n",
              "        const buttonEl =\n",
              "          document.querySelector('#df-65989c5a-1549-4842-8f99-66a6fb75ac01 button.colab-df-convert');\n",
              "        buttonEl.style.display =\n",
              "          google.colab.kernel.accessAllowed ? 'block' : 'none';\n",
              "\n",
              "        async function convertToInteractive(key) {\n",
              "          const element = document.querySelector('#df-65989c5a-1549-4842-8f99-66a6fb75ac01');\n",
              "          const dataTable =\n",
              "            await google.colab.kernel.invokeFunction('convertToInteractive',\n",
              "                                                     [key], {});\n",
              "          if (!dataTable) return;\n",
              "\n",
              "          const docLinkHtml = 'Like what you see? Visit the ' +\n",
              "            '<a target=\"_blank\" href=https://colab.research.google.com/notebooks/data_table.ipynb>data table notebook</a>'\n",
              "            + ' to learn more about interactive tables.';\n",
              "          element.innerHTML = '';\n",
              "          dataTable['output_type'] = 'display_data';\n",
              "          await google.colab.output.renderOutput(dataTable, element);\n",
              "          const docLink = document.createElement('div');\n",
              "          docLink.innerHTML = docLinkHtml;\n",
              "          element.appendChild(docLink);\n",
              "        }\n",
              "      </script>\n",
              "    </div>\n",
              "  </div>\n",
              "  "
            ]
          },
          "metadata": {}
        }
      ],
      "source": [
        "# Convert Everything to lowercase\n",
        "new_df = new_df.applymap(lambda s: s.lower() if type(s) == str else s)\n",
        "display(new_df.head(5))"
      ]
    },
    {
      "cell_type": "code",
      "execution_count": null,
      "metadata": {
        "colab": {
          "base_uri": "https://localhost:8080/",
          "height": 652
        },
        "id": "HMDJhqYdh2Js",
        "outputId": "cc96f0f2-65b6-4729-f0a8-69105a35758d"
      },
      "outputs": [
        {
          "output_type": "display_data",
          "data": {
            "text/plain": [
              "   job_id                                      title            location  \\\n",
              "0       1                           marketing intern    us  ny  new york   \n",
              "1       2  customer service   cloud video production      nz    auckland   \n",
              "2       3    commissioning machinery assistant  cma        us  ia  wever   \n",
              "3       4          account executive   washington dc  us  dc  washington   \n",
              "4       5                        bill review manager  us  fl  fort worth   \n",
              "\n",
              "  department salary_range                                    company_profile  \\\n",
              "0  marketing               we re food52  and we ve created a groundbreaki...   \n",
              "1    success               90 seconds  the worlds cloud video production ...   \n",
              "2                          valor services provides workforce solutions th...   \n",
              "3      sales               our passion for improving quality of life thro...   \n",
              "4                          spotsource solutions llc is a global human cap...   \n",
              "\n",
              "                                         description  \\\n",
              "0  food52  a fast growing  james beard award winn...   \n",
              "1  organised   focused   vibrant   awesome do you...   \n",
              "2  our client  located in houston  is actively se...   \n",
              "3  the company  esri – environmental systems rese...   \n",
              "4  job title  itemization review managerlocation ...   \n",
              "\n",
              "                                        requirements  \\\n",
              "0  experience with content management systems a m...   \n",
              "1  what we expect from you your key responsibilit...   \n",
              "2  implement pre commissioning and commissioning ...   \n",
              "3  education  bachelor’s or master’s in gis  busi...   \n",
              "4  qualifications rn license in the state of texa...   \n",
              "\n",
              "                                            benefits  telecommuting  \\\n",
              "0                                                                 0   \n",
              "1  what you will get from usthrough being part of...              0   \n",
              "2                                                                 0   \n",
              "3  our culture is anything but corporate—we have ...              0   \n",
              "4                              full benefits offered              0   \n",
              "\n",
              "   has_company_logo  has_questions employment_type required_experience  \\\n",
              "0                 1              0           other          internship   \n",
              "1                 1              0       full time      not applicable   \n",
              "2                 1              0                                       \n",
              "3                 1              0       full time    mid senior level   \n",
              "4                 1              1       full time    mid senior level   \n",
              "\n",
              "  required_education                   industry              function  \\\n",
              "0                                                           marketing   \n",
              "1                     marketing and advertising      customer service   \n",
              "2                                                                       \n",
              "3  bachelor s degree          computer software                 sales   \n",
              "4  bachelor s degree     hospital   health care  health care provider   \n",
              "\n",
              "   fraudulent  \n",
              "0           0  \n",
              "1           0  \n",
              "2           0  \n",
              "3           0  \n",
              "4           0  "
            ],
            "text/html": [
              "\n",
              "  <div id=\"df-bd1f1bb6-cc17-492d-92f6-5485625c470d\">\n",
              "    <div class=\"colab-df-container\">\n",
              "      <div>\n",
              "<style scoped>\n",
              "    .dataframe tbody tr th:only-of-type {\n",
              "        vertical-align: middle;\n",
              "    }\n",
              "\n",
              "    .dataframe tbody tr th {\n",
              "        vertical-align: top;\n",
              "    }\n",
              "\n",
              "    .dataframe thead th {\n",
              "        text-align: right;\n",
              "    }\n",
              "</style>\n",
              "<table border=\"1\" class=\"dataframe\">\n",
              "  <thead>\n",
              "    <tr style=\"text-align: right;\">\n",
              "      <th></th>\n",
              "      <th>job_id</th>\n",
              "      <th>title</th>\n",
              "      <th>location</th>\n",
              "      <th>department</th>\n",
              "      <th>salary_range</th>\n",
              "      <th>company_profile</th>\n",
              "      <th>description</th>\n",
              "      <th>requirements</th>\n",
              "      <th>benefits</th>\n",
              "      <th>telecommuting</th>\n",
              "      <th>has_company_logo</th>\n",
              "      <th>has_questions</th>\n",
              "      <th>employment_type</th>\n",
              "      <th>required_experience</th>\n",
              "      <th>required_education</th>\n",
              "      <th>industry</th>\n",
              "      <th>function</th>\n",
              "      <th>fraudulent</th>\n",
              "    </tr>\n",
              "  </thead>\n",
              "  <tbody>\n",
              "    <tr>\n",
              "      <th>0</th>\n",
              "      <td>1</td>\n",
              "      <td>marketing intern</td>\n",
              "      <td>us  ny  new york</td>\n",
              "      <td>marketing</td>\n",
              "      <td></td>\n",
              "      <td>we re food52  and we ve created a groundbreaki...</td>\n",
              "      <td>food52  a fast growing  james beard award winn...</td>\n",
              "      <td>experience with content management systems a m...</td>\n",
              "      <td></td>\n",
              "      <td>0</td>\n",
              "      <td>1</td>\n",
              "      <td>0</td>\n",
              "      <td>other</td>\n",
              "      <td>internship</td>\n",
              "      <td></td>\n",
              "      <td></td>\n",
              "      <td>marketing</td>\n",
              "      <td>0</td>\n",
              "    </tr>\n",
              "    <tr>\n",
              "      <th>1</th>\n",
              "      <td>2</td>\n",
              "      <td>customer service   cloud video production</td>\n",
              "      <td>nz    auckland</td>\n",
              "      <td>success</td>\n",
              "      <td></td>\n",
              "      <td>90 seconds  the worlds cloud video production ...</td>\n",
              "      <td>organised   focused   vibrant   awesome do you...</td>\n",
              "      <td>what we expect from you your key responsibilit...</td>\n",
              "      <td>what you will get from usthrough being part of...</td>\n",
              "      <td>0</td>\n",
              "      <td>1</td>\n",
              "      <td>0</td>\n",
              "      <td>full time</td>\n",
              "      <td>not applicable</td>\n",
              "      <td></td>\n",
              "      <td>marketing and advertising</td>\n",
              "      <td>customer service</td>\n",
              "      <td>0</td>\n",
              "    </tr>\n",
              "    <tr>\n",
              "      <th>2</th>\n",
              "      <td>3</td>\n",
              "      <td>commissioning machinery assistant  cma</td>\n",
              "      <td>us  ia  wever</td>\n",
              "      <td></td>\n",
              "      <td></td>\n",
              "      <td>valor services provides workforce solutions th...</td>\n",
              "      <td>our client  located in houston  is actively se...</td>\n",
              "      <td>implement pre commissioning and commissioning ...</td>\n",
              "      <td></td>\n",
              "      <td>0</td>\n",
              "      <td>1</td>\n",
              "      <td>0</td>\n",
              "      <td></td>\n",
              "      <td></td>\n",
              "      <td></td>\n",
              "      <td></td>\n",
              "      <td></td>\n",
              "      <td>0</td>\n",
              "    </tr>\n",
              "    <tr>\n",
              "      <th>3</th>\n",
              "      <td>4</td>\n",
              "      <td>account executive   washington dc</td>\n",
              "      <td>us  dc  washington</td>\n",
              "      <td>sales</td>\n",
              "      <td></td>\n",
              "      <td>our passion for improving quality of life thro...</td>\n",
              "      <td>the company  esri – environmental systems rese...</td>\n",
              "      <td>education  bachelor’s or master’s in gis  busi...</td>\n",
              "      <td>our culture is anything but corporate—we have ...</td>\n",
              "      <td>0</td>\n",
              "      <td>1</td>\n",
              "      <td>0</td>\n",
              "      <td>full time</td>\n",
              "      <td>mid senior level</td>\n",
              "      <td>bachelor s degree</td>\n",
              "      <td>computer software</td>\n",
              "      <td>sales</td>\n",
              "      <td>0</td>\n",
              "    </tr>\n",
              "    <tr>\n",
              "      <th>4</th>\n",
              "      <td>5</td>\n",
              "      <td>bill review manager</td>\n",
              "      <td>us  fl  fort worth</td>\n",
              "      <td></td>\n",
              "      <td></td>\n",
              "      <td>spotsource solutions llc is a global human cap...</td>\n",
              "      <td>job title  itemization review managerlocation ...</td>\n",
              "      <td>qualifications rn license in the state of texa...</td>\n",
              "      <td>full benefits offered</td>\n",
              "      <td>0</td>\n",
              "      <td>1</td>\n",
              "      <td>1</td>\n",
              "      <td>full time</td>\n",
              "      <td>mid senior level</td>\n",
              "      <td>bachelor s degree</td>\n",
              "      <td>hospital   health care</td>\n",
              "      <td>health care provider</td>\n",
              "      <td>0</td>\n",
              "    </tr>\n",
              "  </tbody>\n",
              "</table>\n",
              "</div>\n",
              "      <button class=\"colab-df-convert\" onclick=\"convertToInteractive('df-bd1f1bb6-cc17-492d-92f6-5485625c470d')\"\n",
              "              title=\"Convert this dataframe to an interactive table.\"\n",
              "              style=\"display:none;\">\n",
              "        \n",
              "  <svg xmlns=\"http://www.w3.org/2000/svg\" height=\"24px\"viewBox=\"0 0 24 24\"\n",
              "       width=\"24px\">\n",
              "    <path d=\"M0 0h24v24H0V0z\" fill=\"none\"/>\n",
              "    <path d=\"M18.56 5.44l.94 2.06.94-2.06 2.06-.94-2.06-.94-.94-2.06-.94 2.06-2.06.94zm-11 1L8.5 8.5l.94-2.06 2.06-.94-2.06-.94L8.5 2.5l-.94 2.06-2.06.94zm10 10l.94 2.06.94-2.06 2.06-.94-2.06-.94-.94-2.06-.94 2.06-2.06.94z\"/><path d=\"M17.41 7.96l-1.37-1.37c-.4-.4-.92-.59-1.43-.59-.52 0-1.04.2-1.43.59L10.3 9.45l-7.72 7.72c-.78.78-.78 2.05 0 2.83L4 21.41c.39.39.9.59 1.41.59.51 0 1.02-.2 1.41-.59l7.78-7.78 2.81-2.81c.8-.78.8-2.07 0-2.86zM5.41 20L4 18.59l7.72-7.72 1.47 1.35L5.41 20z\"/>\n",
              "  </svg>\n",
              "      </button>\n",
              "      \n",
              "  <style>\n",
              "    .colab-df-container {\n",
              "      display:flex;\n",
              "      flex-wrap:wrap;\n",
              "      gap: 12px;\n",
              "    }\n",
              "\n",
              "    .colab-df-convert {\n",
              "      background-color: #E8F0FE;\n",
              "      border: none;\n",
              "      border-radius: 50%;\n",
              "      cursor: pointer;\n",
              "      display: none;\n",
              "      fill: #1967D2;\n",
              "      height: 32px;\n",
              "      padding: 0 0 0 0;\n",
              "      width: 32px;\n",
              "    }\n",
              "\n",
              "    .colab-df-convert:hover {\n",
              "      background-color: #E2EBFA;\n",
              "      box-shadow: 0px 1px 2px rgba(60, 64, 67, 0.3), 0px 1px 3px 1px rgba(60, 64, 67, 0.15);\n",
              "      fill: #174EA6;\n",
              "    }\n",
              "\n",
              "    [theme=dark] .colab-df-convert {\n",
              "      background-color: #3B4455;\n",
              "      fill: #D2E3FC;\n",
              "    }\n",
              "\n",
              "    [theme=dark] .colab-df-convert:hover {\n",
              "      background-color: #434B5C;\n",
              "      box-shadow: 0px 1px 3px 1px rgba(0, 0, 0, 0.15);\n",
              "      filter: drop-shadow(0px 1px 2px rgba(0, 0, 0, 0.3));\n",
              "      fill: #FFFFFF;\n",
              "    }\n",
              "  </style>\n",
              "\n",
              "      <script>\n",
              "        const buttonEl =\n",
              "          document.querySelector('#df-bd1f1bb6-cc17-492d-92f6-5485625c470d button.colab-df-convert');\n",
              "        buttonEl.style.display =\n",
              "          google.colab.kernel.accessAllowed ? 'block' : 'none';\n",
              "\n",
              "        async function convertToInteractive(key) {\n",
              "          const element = document.querySelector('#df-bd1f1bb6-cc17-492d-92f6-5485625c470d');\n",
              "          const dataTable =\n",
              "            await google.colab.kernel.invokeFunction('convertToInteractive',\n",
              "                                                     [key], {});\n",
              "          if (!dataTable) return;\n",
              "\n",
              "          const docLinkHtml = 'Like what you see? Visit the ' +\n",
              "            '<a target=\"_blank\" href=https://colab.research.google.com/notebooks/data_table.ipynb>data table notebook</a>'\n",
              "            + ' to learn more about interactive tables.';\n",
              "          element.innerHTML = '';\n",
              "          dataTable['output_type'] = 'display_data';\n",
              "          await google.colab.output.renderOutput(dataTable, element);\n",
              "          const docLink = document.createElement('div');\n",
              "          docLink.innerHTML = docLinkHtml;\n",
              "          element.appendChild(docLink);\n",
              "        }\n",
              "      </script>\n",
              "    </div>\n",
              "  </div>\n",
              "  "
            ]
          },
          "metadata": {}
        }
      ],
      "source": [
        "# Remove Punctuation\n",
        "punc_list = list(string.punctuation)\n",
        "def remove_punctuation(text, punct_list):\n",
        "    for punc in punct_list:\n",
        "        if punc in text:\n",
        "            text = text.replace(punc, ' ')\n",
        "    return text\n",
        "\n",
        "new_df = new_df.applymap(lambda s: remove_punctuation(s, punc_list) if type(s) == str else s)\n",
        "display(new_df.head(5))"
      ]
    },
    {
      "cell_type": "code",
      "execution_count": null,
      "metadata": {
        "colab": {
          "base_uri": "https://localhost:8080/",
          "height": 600
        },
        "id": "-zl9Z_UEh9Mp",
        "outputId": "e8435556-6167-4f1a-a65d-4010a1fe8ddd"
      },
      "outputs": [
        {
          "output_type": "display_data",
          "data": {
            "text/plain": [
              "   job_id                                          title  \\\n",
              "0       1                            [marketing, intern]   \n",
              "1       2  [customer, service, cloud, video, production]   \n",
              "2       3     [commissioning, machinery, assistant, cma]   \n",
              "3       4           [account, executive, washington, dc]   \n",
              "4       5                        [bill, review, manager]   \n",
              "\n",
              "                location   department salary_range  \\\n",
              "0    [us, ny, new, york]  [marketing]           []   \n",
              "1         [nz, auckland]    [success]           []   \n",
              "2        [us, ia, wever]           []           []   \n",
              "3   [us, dc, washington]      [sales]           []   \n",
              "4  [us, fl, fort, worth]           []           []   \n",
              "\n",
              "                                     company_profile  \\\n",
              "0  [we, re, food52, and, we, ve, created, a, grou...   \n",
              "1  [90, seconds, the, worlds, cloud, video, produ...   \n",
              "2  [valor, services, provides, workforce, solutio...   \n",
              "3  [our, passion, for, improving, quality, of, li...   \n",
              "4  [spotsource, solutions, llc, is, a, global, hu...   \n",
              "\n",
              "                                         description  \\\n",
              "0  [food52, a, fast, growing, james, beard, award...   \n",
              "1  [organised, focused, vibrant, awesome, do, you...   \n",
              "2  [our, client, located, in, houston, is, active...   \n",
              "3  [the, company, esri, –, environmental, systems...   \n",
              "4  [job, title, itemization, review, managerlocat...   \n",
              "\n",
              "                                        requirements  \\\n",
              "0  [experience, with, content, management, system...   \n",
              "1  [what, we, expect, from, you, your, key, respo...   \n",
              "2  [implement, pre, commissioning, and, commissio...   \n",
              "3  [education, bachelor, ’, s, or, master, ’, s, ...   \n",
              "4  [qualifications, rn, license, in, the, state, ...   \n",
              "\n",
              "                                            benefits  telecommuting  \\\n",
              "0                                                 []              0   \n",
              "1  [what, you, will, get, from, usthrough, being,...              0   \n",
              "2                                                 []              0   \n",
              "3  [our, culture, is, anything, but, corporate—we...              0   \n",
              "4                          [full, benefits, offered]              0   \n",
              "\n",
              "   has_company_logo  has_questions employment_type   required_experience  \\\n",
              "0                 1              0         [other]          [internship]   \n",
              "1                 1              0    [full, time]     [not, applicable]   \n",
              "2                 1              0              []                    []   \n",
              "3                 1              0    [full, time]  [mid, senior, level]   \n",
              "4                 1              1    [full, time]  [mid, senior, level]   \n",
              "\n",
              "      required_education                       industry  \\\n",
              "0                     []                             []   \n",
              "1                     []  [marketing, and, advertising]   \n",
              "2                     []                             []   \n",
              "3  [bachelor, s, degree]           [computer, software]   \n",
              "4  [bachelor, s, degree]       [hospital, health, care]   \n",
              "\n",
              "                   function  fraudulent  \n",
              "0               [marketing]           0  \n",
              "1       [customer, service]           0  \n",
              "2                        []           0  \n",
              "3                   [sales]           0  \n",
              "4  [health, care, provider]           0  "
            ],
            "text/html": [
              "\n",
              "  <div id=\"df-65885dd0-d100-47f2-b782-5d247d70e717\">\n",
              "    <div class=\"colab-df-container\">\n",
              "      <div>\n",
              "<style scoped>\n",
              "    .dataframe tbody tr th:only-of-type {\n",
              "        vertical-align: middle;\n",
              "    }\n",
              "\n",
              "    .dataframe tbody tr th {\n",
              "        vertical-align: top;\n",
              "    }\n",
              "\n",
              "    .dataframe thead th {\n",
              "        text-align: right;\n",
              "    }\n",
              "</style>\n",
              "<table border=\"1\" class=\"dataframe\">\n",
              "  <thead>\n",
              "    <tr style=\"text-align: right;\">\n",
              "      <th></th>\n",
              "      <th>job_id</th>\n",
              "      <th>title</th>\n",
              "      <th>location</th>\n",
              "      <th>department</th>\n",
              "      <th>salary_range</th>\n",
              "      <th>company_profile</th>\n",
              "      <th>description</th>\n",
              "      <th>requirements</th>\n",
              "      <th>benefits</th>\n",
              "      <th>telecommuting</th>\n",
              "      <th>has_company_logo</th>\n",
              "      <th>has_questions</th>\n",
              "      <th>employment_type</th>\n",
              "      <th>required_experience</th>\n",
              "      <th>required_education</th>\n",
              "      <th>industry</th>\n",
              "      <th>function</th>\n",
              "      <th>fraudulent</th>\n",
              "    </tr>\n",
              "  </thead>\n",
              "  <tbody>\n",
              "    <tr>\n",
              "      <th>0</th>\n",
              "      <td>1</td>\n",
              "      <td>[marketing, intern]</td>\n",
              "      <td>[us, ny, new, york]</td>\n",
              "      <td>[marketing]</td>\n",
              "      <td>[]</td>\n",
              "      <td>[we, re, food52, and, we, ve, created, a, grou...</td>\n",
              "      <td>[food52, a, fast, growing, james, beard, award...</td>\n",
              "      <td>[experience, with, content, management, system...</td>\n",
              "      <td>[]</td>\n",
              "      <td>0</td>\n",
              "      <td>1</td>\n",
              "      <td>0</td>\n",
              "      <td>[other]</td>\n",
              "      <td>[internship]</td>\n",
              "      <td>[]</td>\n",
              "      <td>[]</td>\n",
              "      <td>[marketing]</td>\n",
              "      <td>0</td>\n",
              "    </tr>\n",
              "    <tr>\n",
              "      <th>1</th>\n",
              "      <td>2</td>\n",
              "      <td>[customer, service, cloud, video, production]</td>\n",
              "      <td>[nz, auckland]</td>\n",
              "      <td>[success]</td>\n",
              "      <td>[]</td>\n",
              "      <td>[90, seconds, the, worlds, cloud, video, produ...</td>\n",
              "      <td>[organised, focused, vibrant, awesome, do, you...</td>\n",
              "      <td>[what, we, expect, from, you, your, key, respo...</td>\n",
              "      <td>[what, you, will, get, from, usthrough, being,...</td>\n",
              "      <td>0</td>\n",
              "      <td>1</td>\n",
              "      <td>0</td>\n",
              "      <td>[full, time]</td>\n",
              "      <td>[not, applicable]</td>\n",
              "      <td>[]</td>\n",
              "      <td>[marketing, and, advertising]</td>\n",
              "      <td>[customer, service]</td>\n",
              "      <td>0</td>\n",
              "    </tr>\n",
              "    <tr>\n",
              "      <th>2</th>\n",
              "      <td>3</td>\n",
              "      <td>[commissioning, machinery, assistant, cma]</td>\n",
              "      <td>[us, ia, wever]</td>\n",
              "      <td>[]</td>\n",
              "      <td>[]</td>\n",
              "      <td>[valor, services, provides, workforce, solutio...</td>\n",
              "      <td>[our, client, located, in, houston, is, active...</td>\n",
              "      <td>[implement, pre, commissioning, and, commissio...</td>\n",
              "      <td>[]</td>\n",
              "      <td>0</td>\n",
              "      <td>1</td>\n",
              "      <td>0</td>\n",
              "      <td>[]</td>\n",
              "      <td>[]</td>\n",
              "      <td>[]</td>\n",
              "      <td>[]</td>\n",
              "      <td>[]</td>\n",
              "      <td>0</td>\n",
              "    </tr>\n",
              "    <tr>\n",
              "      <th>3</th>\n",
              "      <td>4</td>\n",
              "      <td>[account, executive, washington, dc]</td>\n",
              "      <td>[us, dc, washington]</td>\n",
              "      <td>[sales]</td>\n",
              "      <td>[]</td>\n",
              "      <td>[our, passion, for, improving, quality, of, li...</td>\n",
              "      <td>[the, company, esri, –, environmental, systems...</td>\n",
              "      <td>[education, bachelor, ’, s, or, master, ’, s, ...</td>\n",
              "      <td>[our, culture, is, anything, but, corporate—we...</td>\n",
              "      <td>0</td>\n",
              "      <td>1</td>\n",
              "      <td>0</td>\n",
              "      <td>[full, time]</td>\n",
              "      <td>[mid, senior, level]</td>\n",
              "      <td>[bachelor, s, degree]</td>\n",
              "      <td>[computer, software]</td>\n",
              "      <td>[sales]</td>\n",
              "      <td>0</td>\n",
              "    </tr>\n",
              "    <tr>\n",
              "      <th>4</th>\n",
              "      <td>5</td>\n",
              "      <td>[bill, review, manager]</td>\n",
              "      <td>[us, fl, fort, worth]</td>\n",
              "      <td>[]</td>\n",
              "      <td>[]</td>\n",
              "      <td>[spotsource, solutions, llc, is, a, global, hu...</td>\n",
              "      <td>[job, title, itemization, review, managerlocat...</td>\n",
              "      <td>[qualifications, rn, license, in, the, state, ...</td>\n",
              "      <td>[full, benefits, offered]</td>\n",
              "      <td>0</td>\n",
              "      <td>1</td>\n",
              "      <td>1</td>\n",
              "      <td>[full, time]</td>\n",
              "      <td>[mid, senior, level]</td>\n",
              "      <td>[bachelor, s, degree]</td>\n",
              "      <td>[hospital, health, care]</td>\n",
              "      <td>[health, care, provider]</td>\n",
              "      <td>0</td>\n",
              "    </tr>\n",
              "  </tbody>\n",
              "</table>\n",
              "</div>\n",
              "      <button class=\"colab-df-convert\" onclick=\"convertToInteractive('df-65885dd0-d100-47f2-b782-5d247d70e717')\"\n",
              "              title=\"Convert this dataframe to an interactive table.\"\n",
              "              style=\"display:none;\">\n",
              "        \n",
              "  <svg xmlns=\"http://www.w3.org/2000/svg\" height=\"24px\"viewBox=\"0 0 24 24\"\n",
              "       width=\"24px\">\n",
              "    <path d=\"M0 0h24v24H0V0z\" fill=\"none\"/>\n",
              "    <path d=\"M18.56 5.44l.94 2.06.94-2.06 2.06-.94-2.06-.94-.94-2.06-.94 2.06-2.06.94zm-11 1L8.5 8.5l.94-2.06 2.06-.94-2.06-.94L8.5 2.5l-.94 2.06-2.06.94zm10 10l.94 2.06.94-2.06 2.06-.94-2.06-.94-.94-2.06-.94 2.06-2.06.94z\"/><path d=\"M17.41 7.96l-1.37-1.37c-.4-.4-.92-.59-1.43-.59-.52 0-1.04.2-1.43.59L10.3 9.45l-7.72 7.72c-.78.78-.78 2.05 0 2.83L4 21.41c.39.39.9.59 1.41.59.51 0 1.02-.2 1.41-.59l7.78-7.78 2.81-2.81c.8-.78.8-2.07 0-2.86zM5.41 20L4 18.59l7.72-7.72 1.47 1.35L5.41 20z\"/>\n",
              "  </svg>\n",
              "      </button>\n",
              "      \n",
              "  <style>\n",
              "    .colab-df-container {\n",
              "      display:flex;\n",
              "      flex-wrap:wrap;\n",
              "      gap: 12px;\n",
              "    }\n",
              "\n",
              "    .colab-df-convert {\n",
              "      background-color: #E8F0FE;\n",
              "      border: none;\n",
              "      border-radius: 50%;\n",
              "      cursor: pointer;\n",
              "      display: none;\n",
              "      fill: #1967D2;\n",
              "      height: 32px;\n",
              "      padding: 0 0 0 0;\n",
              "      width: 32px;\n",
              "    }\n",
              "\n",
              "    .colab-df-convert:hover {\n",
              "      background-color: #E2EBFA;\n",
              "      box-shadow: 0px 1px 2px rgba(60, 64, 67, 0.3), 0px 1px 3px 1px rgba(60, 64, 67, 0.15);\n",
              "      fill: #174EA6;\n",
              "    }\n",
              "\n",
              "    [theme=dark] .colab-df-convert {\n",
              "      background-color: #3B4455;\n",
              "      fill: #D2E3FC;\n",
              "    }\n",
              "\n",
              "    [theme=dark] .colab-df-convert:hover {\n",
              "      background-color: #434B5C;\n",
              "      box-shadow: 0px 1px 3px 1px rgba(0, 0, 0, 0.15);\n",
              "      filter: drop-shadow(0px 1px 2px rgba(0, 0, 0, 0.3));\n",
              "      fill: #FFFFFF;\n",
              "    }\n",
              "  </style>\n",
              "\n",
              "      <script>\n",
              "        const buttonEl =\n",
              "          document.querySelector('#df-65885dd0-d100-47f2-b782-5d247d70e717 button.colab-df-convert');\n",
              "        buttonEl.style.display =\n",
              "          google.colab.kernel.accessAllowed ? 'block' : 'none';\n",
              "\n",
              "        async function convertToInteractive(key) {\n",
              "          const element = document.querySelector('#df-65885dd0-d100-47f2-b782-5d247d70e717');\n",
              "          const dataTable =\n",
              "            await google.colab.kernel.invokeFunction('convertToInteractive',\n",
              "                                                     [key], {});\n",
              "          if (!dataTable) return;\n",
              "\n",
              "          const docLinkHtml = 'Like what you see? Visit the ' +\n",
              "            '<a target=\"_blank\" href=https://colab.research.google.com/notebooks/data_table.ipynb>data table notebook</a>'\n",
              "            + ' to learn more about interactive tables.';\n",
              "          element.innerHTML = '';\n",
              "          dataTable['output_type'] = 'display_data';\n",
              "          await google.colab.output.renderOutput(dataTable, element);\n",
              "          const docLink = document.createElement('div');\n",
              "          docLink.innerHTML = docLinkHtml;\n",
              "          element.appendChild(docLink);\n",
              "        }\n",
              "      </script>\n",
              "    </div>\n",
              "  </div>\n",
              "  "
            ]
          },
          "metadata": {}
        }
      ],
      "source": [
        "# Tokenize each text column\n",
        "token_df = new_df.copy()\n",
        "for column in new_df.columns:\n",
        "    token_df[column] = new_df[column].apply(lambda s: word_tokenize(s) if type(s) == str else s)\n",
        "display(token_df.head(5))"
      ]
    },
    {
      "cell_type": "markdown",
      "source": [
        "### tokenizer "
      ],
      "metadata": {
        "id": "AILw9JOa5438"
      }
    },
    {
      "cell_type": "code",
      "execution_count": null,
      "metadata": {
        "id": "1I2njQ_SoAMj"
      },
      "outputs": [],
      "source": [
        "from keras.preprocessing.text import Tokenizer\n",
        "from keras.utils import pad_sequences\n",
        "from keras.models import Sequential\n",
        "from keras.layers import Dense, Embedding, LSTM, Conv1D, MaxPool1D\n",
        "from sklearn.model_selection import train_test_split\n",
        "from sklearn.metrics import classification_report, accuracy_score"
      ]
    },
    {
      "cell_type": "code",
      "execution_count": null,
      "metadata": {
        "id": "KJpGeXjnn3Cb"
      },
      "outputs": [],
      "source": [
        "tokenizer = Tokenizer()\n",
        "tokenizer.fit_on_texts(token_df['description'])\n",
        "\n",
        "X = tokenizer.texts_to_sequences(token_df['description'])"
      ]
    },
    {
      "cell_type": "code",
      "execution_count": null,
      "metadata": {
        "colab": {
          "base_uri": "https://localhost:8080/"
        },
        "id": "ujcQnLiTou0k",
        "outputId": "d4ca1f8c-af58-4929-9ed1-9830cc413bcf"
      },
      "outputs": [
        {
          "output_type": "execute_result",
          "data": {
            "text/plain": [
              "[3025, 5, 149, 96, 5426, 7320, 808, 759, 173, 547]"
            ]
          },
          "metadata": {},
          "execution_count": 22
        }
      ],
      "source": [
        "X[0][:10]"
      ]
    },
    {
      "cell_type": "code",
      "execution_count": null,
      "metadata": {
        "colab": {
          "base_uri": "https://localhost:8080/"
        },
        "id": "eMtBEjyCo0UR",
        "outputId": "1d9b04f7-a6d5-4ca8-a0a9-495f0a53d4d5"
      },
      "outputs": [
        {
          "output_type": "stream",
          "name": "stdout",
          "text": [
            "and -> 1\n",
            "the -> 2\n",
            "to -> 3\n",
            "of -> 4\n",
            "a -> 5\n",
            "in -> 6\n",
            "for -> 7\n",
            "with -> 8\n",
            "you -> 9\n",
            "our -> 10\n"
          ]
        }
      ],
      "source": [
        "word_index = tokenizer.word_index\n",
        "for word, num in word_index.items():\n",
        "    print(f\"{word} -> {num}\")\n",
        "    if num == 10:\n",
        "        break    "
      ]
    },
    {
      "cell_type": "code",
      "execution_count": null,
      "metadata": {
        "colab": {
          "base_uri": "https://localhost:8080/"
        },
        "id": "6DH_pb9Co2H7",
        "outputId": "6c736d78-f79c-4f41-cb39-0a816ebdd70e"
      },
      "outputs": [
        {
          "output_type": "display_data",
          "data": {
            "text/plain": [
              "<Figure size 432x288 with 1 Axes>"
            ],
            "image/png": "[encoded data removed]"
          },
          "metadata": {
            "needs_background": "light"
          }
        }
      ],
      "source": [
        "import matplotlib.pyplot as plt\n",
        "plt.hist([len(x) for x in X], bins=500)\n",
        "plt.show()"
      ]
    },
    {
      "cell_type": "code",
      "execution_count": null,
      "metadata": {
        "colab": {
          "base_uri": "https://localhost:8080/"
        },
        "id": "poDO1hGlo5pA",
        "outputId": "a4055dca-0f9c-4407-bc9e-435afd8d3935"
      },
      "outputs": [
        {
          "output_type": "execute_result",
          "data": {
            "text/plain": [
              "17772"
            ]
          },
          "metadata": {},
          "execution_count": 25
        }
      ],
      "source": [
        "import numpy as np\n",
        "nos = np.array([len(x) for x in X])\n",
        "len(nos[nos  < 700])\n"
      ]
    },
    {
      "cell_type": "code",
      "execution_count": null,
      "metadata": {
        "id": "U1op4Orbo9Ez"
      },
      "outputs": [],
      "source": [
        "#Lets keep all descriptions to 700, add padding to descriptions with less than 700 words and truncating long ones\n",
        "maxlen = 700 \n",
        "\n",
        "#Making all descriptions of size maxlen defined above\n",
        "X = pad_sequences(X, maxlen=maxlen)"
      ]
    },
    {
      "cell_type": "code",
      "execution_count": null,
      "metadata": {
        "colab": {
          "base_uri": "https://localhost:8080/"
        },
        "id": "2lrU_nBMpBJY",
        "outputId": "b74548c7-eb91-4808-d6c0-16d60df0326f"
      },
      "outputs": [
        {
          "output_type": "execute_result",
          "data": {
            "text/plain": [
              "700"
            ]
          },
          "metadata": {},
          "execution_count": 27
        }
      ],
      "source": [
        "#all descriptions has 700 words (in numerical form now). If they had less words, they have been padded with 0\n",
        "# 0 is not associated to any word, as mapping of words started from 1\n",
        "# 0 will also be used later, if unknows word is encountered in test set\n",
        "len(X[0])"
      ]
    },
    {
      "cell_type": "code",
      "execution_count": null,
      "metadata": {
        "id": "anrg5N5tpHfj"
      },
      "outputs": [],
      "source": [
        "# Adding 1 because of reserved 0 index\n",
        "# Embedding Layer creates one more vector for \"UNKNOWN\" words, or padded words (0s). This Vector is filled with zeros.\n",
        "# Thus our vocab size inceeases by 1\n",
        "vocab_size = len(tokenizer.word_index) + 1"
      ]
    },
    {
      "cell_type": "code",
      "source": [
        "y = df['fraudulent']"
      ],
      "metadata": {
        "id": "zVJwgGMD-_Vt"
      },
      "execution_count": null,
      "outputs": []
    },
    {
      "cell_type": "markdown",
      "source": [
        "### oversample"
      ],
      "metadata": {
        "id": "h-P0pUyzwvU6"
      }
    },
    {
      "cell_type": "code",
      "source": [
        "from imblearn.over_sampling import RandomOverSampler"
      ],
      "metadata": {
        "id": "SvZkpfoOxPH8"
      },
      "execution_count": null,
      "outputs": []
    },
    {
      "cell_type": "code",
      "source": [
        "oversample = RandomOverSampler(sampling_strategy='minority')"
      ],
      "metadata": {
        "id": "9wM-e7Cnw8cq"
      },
      "execution_count": null,
      "outputs": []
    },
    {
      "cell_type": "code",
      "source": [
        "y.value_counts().plot.bar()"
      ],
      "metadata": {
        "id": "TBez8HEky-4g",
        "outputId": "12257b7f-2522-46ee-a1ec-3161fa7f1ebf",
        "colab": {
          "base_uri": "https://localhost:8080/",
          "height": 279
        }
      },
      "execution_count": null,
      "outputs": [
        {
          "output_type": "execute_result",
          "data": {
            "text/plain": [
              "<matplotlib.axes._subplots.AxesSubplot at 0x7fd38524ab20>"
            ]
          },
          "metadata": {},
          "execution_count": 32
        },
        {
          "output_type": "display_data",
          "data": {
            "text/plain": [
              "<Figure size 432x288 with 1 Axes>"
            ],
            "image/png": "[encoded data removed]"
          },
          "metadata": {
            "needs_background": "light"
          }
        }
      ]
    },
    {
      "cell_type": "code",
      "source": [
        "X_over, y_over = oversample.fit_resample(X, y)"
      ],
      "metadata": {
        "id": "0mODa4qnxQ43"
      },
      "execution_count": null,
      "outputs": []
    },
    {
      "cell_type": "code",
      "source": [
        "y_over.value_counts().plot.bar()"
      ],
      "metadata": {
        "id": "sgL7tOG5yyHh",
        "outputId": "1e971014-2c1f-4540-d3a9-d16f33014bd2",
        "colab": {
          "base_uri": "https://localhost:8080/",
          "height": 279
        }
      },
      "execution_count": null,
      "outputs": [
        {
          "output_type": "execute_result",
          "data": {
            "text/plain": [
              "<matplotlib.axes._subplots.AxesSubplot at 0x7fd3859b9820>"
            ]
          },
          "metadata": {},
          "execution_count": 31
        },
        {
          "output_type": "display_data",
          "data": {
            "text/plain": [
              "<Figure size 432x288 with 1 Axes>"
            ],
            "image/png": "[encoded data removed]"
          },
          "metadata": {
            "needs_background": "light"
          }
        }
      ]
    },
    {
      "cell_type": "code",
      "source": [
        "X_train, X_test, y_train, y_test = train_test_split(X_over, y_over)"
      ],
      "metadata": {
        "id": "qVJFp664_BQg"
      },
      "execution_count": null,
      "outputs": []
    },
    {
      "cell_type": "markdown",
      "source": [
        "## Model Training"
      ],
      "metadata": {
        "id": "ClgnzAl25lfR"
      }
    },
    {
      "cell_type": "markdown",
      "source": [
        "### model with no embedding layer"
      ],
      "metadata": {
        "id": "MHW90M8qA5s8"
      }
    },
    {
      "cell_type": "code",
      "source": [
        "#Defining Neural Network\n",
        "model = Sequential()\n",
        "#Non-trainable embeddidng layer\n",
        "#LSTM \n",
        "model.add(LSTM(units=128,input_shape=(700, 1)))\n",
        "model.add(Dense(1, activation='sigmoid'))\n",
        "model.compile(optimizer='adam', loss='binary_crossentropy', metrics=['acc'])\n"
      ],
      "metadata": {
        "id": "Uf4B9u6b-iIj"
      },
      "execution_count": null,
      "outputs": []
    },
    {
      "cell_type": "code",
      "source": [
        "model.summary()"
      ],
      "metadata": {
        "colab": {
          "base_uri": "https://localhost:8080/"
        },
        "id": "EFOBTX2t-xzK",
        "outputId": "ce532567-747c-42e6-fd07-f69b3d53a2ea"
      },
      "execution_count": null,
      "outputs": [
        {
          "output_type": "stream",
          "name": "stdout",
          "text": [
            "Model: \"sequential\"\n",
            "_________________________________________________________________\n",
            " Layer (type)                Output Shape              Param #   \n",
            "=================================================================\n",
            " lstm (LSTM)                 (None, 128)               66560     \n",
            "                                                                 \n",
            " dense (Dense)               (None, 1)                 129       \n",
            "                                                                 \n",
            "=================================================================\n",
            "Total params: 66,689\n",
            "Trainable params: 66,689\n",
            "Non-trainable params: 0\n",
            "_________________________________________________________________\n"
          ]
        }
      ]
    },
    {
      "cell_type": "code",
      "source": [
        "model.fit(X_train, y_train, validation_split=0.3, epochs=6)"
      ],
      "metadata": {
        "colab": {
          "base_uri": "https://localhost:8080/"
        },
        "id": "r_xfsYuc-zr9",
        "outputId": "1a5d26d9-578d-46ff-df2e-a2c4efee81ec"
      },
      "execution_count": null,
      "outputs": [
        {
          "output_type": "stream",
          "name": "stdout",
          "text": [
            "Epoch 1/6\n",
            "559/559 [==============================] - 26s 35ms/step - loss: 0.6428 - acc: 0.6157 - val_loss: 0.6137 - val_acc: 0.6637\n",
            "Epoch 2/6\n",
            "559/559 [==============================] - 19s 34ms/step - loss: 0.5330 - acc: 0.7335 - val_loss: 0.4929 - val_acc: 0.7611\n",
            "Epoch 3/6\n",
            "559/559 [==============================] - 20s 36ms/step - loss: 0.4421 - acc: 0.7923 - val_loss: 0.3802 - val_acc: 0.8181\n",
            "Epoch 4/6\n",
            "559/559 [==============================] - 19s 33ms/step - loss: 0.3520 - acc: 0.8425 - val_loss: 0.3071 - val_acc: 0.8639\n",
            "Epoch 5/6\n",
            "559/559 [==============================] - 19s 34ms/step - loss: 0.2732 - acc: 0.8838 - val_loss: 0.2598 - val_acc: 0.8915\n",
            "Epoch 6/6\n",
            "559/559 [==============================] - 19s 35ms/step - loss: 0.2253 - acc: 0.9099 - val_loss: 0.2623 - val_acc: 0.8913\n"
          ]
        },
        {
          "output_type": "execute_result",
          "data": {
            "text/plain": [
              "<keras.callbacks.History at 0x7fd3701ac880>"
            ]
          },
          "metadata": {},
          "execution_count": 39
        }
      ]
    },
    {
      "cell_type": "code",
      "source": [
        "y_pred = (model.predict(X_test) >= 0.5).astype(\"int\")"
      ],
      "metadata": {
        "colab": {
          "base_uri": "https://localhost:8080/"
        },
        "id": "Zc6XbQwb-12I",
        "outputId": "64b4951c-32fc-4fee-87a4-d060ffde426d"
      },
      "execution_count": null,
      "outputs": [
        {
          "output_type": "stream",
          "name": "stdout",
          "text": [
            "266/266 [==============================] - 4s 12ms/step\n"
          ]
        }
      ]
    },
    {
      "cell_type": "code",
      "source": [
        "print(classification_report(y_test, y_pred))"
      ],
      "metadata": {
        "colab": {
          "base_uri": "https://localhost:8080/"
        },
        "id": "qwBysA1I-5hS",
        "outputId": "3f68130f-ef6f-4fab-9500-a6e3128c8b64"
      },
      "execution_count": null,
      "outputs": [
        {
          "output_type": "stream",
          "name": "stdout",
          "text": [
            "              precision    recall  f1-score   support\n",
            "\n",
            "           0       0.97      0.81      0.88      4231\n",
            "           1       0.84      0.97      0.90      4276\n",
            "\n",
            "    accuracy                           0.89      8507\n",
            "   macro avg       0.90      0.89      0.89      8507\n",
            "weighted avg       0.90      0.89      0.89      8507\n",
            "\n"
          ]
        }
      ]
    },
    {
      "cell_type": "markdown",
      "source": [
        "### model with word2Vec embedding layer"
      ],
      "metadata": {
        "id": "dbxj69bwBD5X"
      }
    },
    {
      "cell_type": "code",
      "source": [
        "EMBEDDING_DIM = 100"
      ],
      "metadata": {
        "id": "w5PZaepOeKER"
      },
      "execution_count": null,
      "outputs": []
    },
    {
      "cell_type": "markdown",
      "source": [
        "#### word2vec"
      ],
      "metadata": {
        "id": "xyl5l88R6LFb"
      }
    },
    {
      "cell_type": "code",
      "execution_count": null,
      "metadata": {
        "id": "2Miwj-OX6LFc"
      },
      "outputs": [],
      "source": [
        "import gensim"
      ]
    },
    {
      "cell_type": "code",
      "execution_count": null,
      "metadata": {
        "id": "5-YvXYn-6LFd"
      },
      "outputs": [],
      "source": [
        "sentence = token_df['description']"
      ]
    },
    {
      "cell_type": "code",
      "execution_count": null,
      "metadata": {
        "colab": {
          "base_uri": "https://localhost:8080/"
        },
        "outputId": "13c7355b-ffcd-43f9-9559-fbc0ce66943b",
        "id": "NT9wCqIa6LFd"
      },
      "outputs": [
        {
          "output_type": "stream",
          "name": "stdout",
          "text": [
            "<class 'pandas.core.series.Series'>\n",
            "(17880,)\n",
            "0        [food52, a, fast, growing, james, beard, award...\n",
            "1        [organised, focused, vibrant, awesome, do, you...\n",
            "2        [our, client, located, in, houston, is, active...\n",
            "3        [the, company, esri, –, environmental, systems...\n",
            "4        [job, title, itemization, review, managerlocat...\n",
            "                               ...                        \n",
            "17875    [just, in, case, this, is, the, first, time, y...\n",
            "17876    [the, payroll, accountant, will, focus, primar...\n",
            "17877    [experienced, project, cost, control, staff, e...\n",
            "17878    [nemsia, studios, is, looking, for, an, experi...\n",
            "17879    [who, are, we, vend, is, an, award, winning, w...\n",
            "Name: description, Length: 17880, dtype: object\n"
          ]
        }
      ],
      "source": [
        "print(type(sentence))\n",
        "print(sentence.shape)\n",
        "print(sentence)"
      ]
    },
    {
      "cell_type": "code",
      "execution_count": null,
      "metadata": {
        "colab": {
          "base_uri": "https://localhost:8080/"
        },
        "outputId": "9b9ce11c-51ae-4162-8bbd-eb5989caa073",
        "id": "YoFarlOR6LFe"
      },
      "outputs": [
        {
          "output_type": "execute_result",
          "data": {
            "text/plain": [
              "['organised', 'focused', 'vibrant', 'awesome', 'do']"
            ]
          },
          "metadata": {},
          "execution_count": 46
        }
      ],
      "source": [
        "sentence[1][:5]"
      ]
    },
    {
      "cell_type": "code",
      "execution_count": null,
      "metadata": {
        "colab": {
          "base_uri": "https://localhost:8080/"
        },
        "outputId": "4874d82f-5cb5-4ef8-e36b-3140e15661d6",
        "id": "zWZ-zxly6LFf"
      },
      "outputs": [
        {
          "output_type": "execute_result",
          "data": {
            "text/plain": [
              "True"
            ]
          },
          "metadata": {},
          "execution_count": 47
        }
      ],
      "source": [
        "'reproducing' in sentence[0]"
      ]
    },
    {
      "cell_type": "code",
      "execution_count": null,
      "metadata": {
        "id": "Bcel78Bt6LFf"
      },
      "outputs": [],
      "source": [
        "# initialize a model\n",
        "w2v_model = gensim.models.Word2Vec(sentence, size=100, min_count=1)"
      ]
    },
    {
      "cell_type": "code",
      "execution_count": null,
      "metadata": {
        "colab": {
          "base_uri": "https://localhost:8080/"
        },
        "outputId": "ee8dc470-998e-495f-ae95-f5879fee4ef3",
        "id": "2Vfv3pUa6LFg"
      },
      "outputs": [
        {
          "output_type": "stream",
          "name": "stdout",
          "text": [
            "[-0.06625532  0.04524589 -0.03366049  0.01755913  0.04502811 -0.01503113\n",
            "  0.01807251  0.02655526  0.0363437   0.08731454 -0.03499019  0.02292538\n",
            "  0.05309565 -0.05309085 -0.02968935  0.09621846 -0.05545317 -0.04675927\n",
            "  0.00353777 -0.07233127  0.00562891  0.10943453  0.06045988  0.13618515\n",
            "  0.00553672  0.01788815 -0.01238731  0.01973127  0.06087051 -0.10111095\n",
            " -0.02010658  0.04912155 -0.11441392  0.07140998  0.04471433  0.02614341\n",
            " -0.02573266 -0.00221741  0.11200687  0.13781285  0.05415043  0.01711266\n",
            "  0.07677389 -0.05388825  0.04543069  0.00969373 -0.00155271  0.07666709\n",
            "  0.0465457   0.02424619  0.01838778  0.02179661  0.09240932 -0.00903666\n",
            "  0.00017544  0.06650877  0.03642031 -0.00169821  0.02162958 -0.07016738\n",
            " -0.00240001 -0.01771811 -0.03707488  0.10933284  0.02636681  0.11490256\n",
            " -0.04911173 -0.03471068  0.00866102  0.00742512  0.00858525 -0.0943966\n",
            "  0.009151    0.08969795 -0.08739194  0.05771724  0.03733559  0.04338844\n",
            "  0.1017267  -0.03657389  0.10618334 -0.01236116 -0.02427424  0.02442909\n",
            " -0.0371874   0.05754318  0.02124731  0.07096436 -0.01378076  0.06326855\n",
            " -0.08173719  0.03451037  0.06793897 -0.03019727  0.01946693 -0.13331875\n",
            " -0.03718428  0.00723335  0.03422183 -0.0229254 ]\n"
          ]
        }
      ],
      "source": [
        "print(w2v_model.wv[\"reproducing\"])"
      ]
    },
    {
      "cell_type": "code",
      "execution_count": null,
      "metadata": {
        "id": "BiUEDogJ6LFh"
      },
      "outputs": [],
      "source": [
        "def most_similar(w2v_model, words, topn=10):\n",
        "    similar_df = pd.DataFrame()\n",
        "    for word in words:\n",
        "        try:\n",
        "            similar_words = pd.DataFrame(w2v_model.wv.most_similar(word, topn=topn), columns=[word, 'cos'])\n",
        "            similar_df = pd.concat([similar_df, similar_words], axis=1)\n",
        "        except:\n",
        "            print(word, \"not found in Word2Vec model!\")\n",
        "    return similar_df"
      ]
    },
    {
      "cell_type": "code",
      "execution_count": null,
      "metadata": {
        "colab": {
          "base_uri": "https://localhost:8080/"
        },
        "outputId": "ab593671-494d-496f-da40-5b669d788067",
        "id": "Ay6-6o5z6LFh"
      },
      "outputs": [
        {
          "output_type": "execute_result",
          "data": {
            "text/plain": [
              "                      our       cos                      title       cos  \\\n",
              "0                     its  0.674108                         jr  0.621145   \n",
              "1                   their  0.533531     assistantdescriptionan  0.604257   \n",
              "2                     the  0.505009  descriptionadministrative  0.597986   \n",
              "3         presenceworking  0.463249                premiumsact  0.583896   \n",
              "4                  global  0.414039                  paralegal  0.573212   \n",
              "5                 success  0.410773                    2048job  0.563640   \n",
              "6  improvementsevangelize  0.406410            analystlocation  0.555974   \n",
              "7                    your  0.399526                description  0.555558   \n",
              "8                together  0.393802                     escrow  0.553635   \n",
              "9       marketcommunicate  0.392631                    summary  0.551896   \n",
              "\n",
              "              client       cos       company       cos  \n",
              "0           customer  0.669217  organization  0.647618  \n",
              "1            clients  0.615988  organisation  0.619727  \n",
              "2          achieved·  0.537820          firm  0.543810  \n",
              "3          customers  0.494937        agency  0.520409  \n",
              "4          strategic  0.490292    department  0.494056  \n",
              "5        stakeholder  0.478504      industry  0.459654  \n",
              "6  companiesbuilding  0.470133    companytfe  0.448281  \n",
              "7           perfiles  0.465613       startup  0.442648  \n",
              "8       upgradeswork  0.464522         group  0.424358  \n",
              "9            counted  0.450940    networkone  0.423874  "
            ],
            "text/html": [
              "\n",
              "  <div id=\"df-d65d98a4-305e-48e7-85e0-42770380e8dd\">\n",
              "    <div class=\"colab-df-container\">\n",
              "      <div>\n",
              "<style scoped>\n",
              "    .dataframe tbody tr th:only-of-type {\n",
              "        vertical-align: middle;\n",
              "    }\n",
              "\n",
              "    .dataframe tbody tr th {\n",
              "        vertical-align: top;\n",
              "    }\n",
              "\n",
              "    .dataframe thead th {\n",
              "        text-align: right;\n",
              "    }\n",
              "</style>\n",
              "<table border=\"1\" class=\"dataframe\">\n",
              "  <thead>\n",
              "    <tr style=\"text-align: right;\">\n",
              "      <th></th>\n",
              "      <th>our</th>\n",
              "      <th>cos</th>\n",
              "      <th>title</th>\n",
              "      <th>cos</th>\n",
              "      <th>client</th>\n",
              "      <th>cos</th>\n",
              "      <th>company</th>\n",
              "      <th>cos</th>\n",
              "    </tr>\n",
              "  </thead>\n",
              "  <tbody>\n",
              "    <tr>\n",
              "      <th>0</th>\n",
              "      <td>its</td>\n",
              "      <td>0.674108</td>\n",
              "      <td>jr</td>\n",
              "      <td>0.621145</td>\n",
              "      <td>customer</td>\n",
              "      <td>0.669217</td>\n",
              "      <td>organization</td>\n",
              "      <td>0.647618</td>\n",
              "    </tr>\n",
              "    <tr>\n",
              "      <th>1</th>\n",
              "      <td>their</td>\n",
              "      <td>0.533531</td>\n",
              "      <td>assistantdescriptionan</td>\n",
              "      <td>0.604257</td>\n",
              "      <td>clients</td>\n",
              "      <td>0.615988</td>\n",
              "      <td>organisation</td>\n",
              "      <td>0.619727</td>\n",
              "    </tr>\n",
              "    <tr>\n",
              "      <th>2</th>\n",
              "      <td>the</td>\n",
              "      <td>0.505009</td>\n",
              "      <td>descriptionadministrative</td>\n",
              "      <td>0.597986</td>\n",
              "      <td>achieved·</td>\n",
              "      <td>0.537820</td>\n",
              "      <td>firm</td>\n",
              "      <td>0.543810</td>\n",
              "    </tr>\n",
              "    <tr>\n",
              "      <th>3</th>\n",
              "      <td>presenceworking</td>\n",
              "      <td>0.463249</td>\n",
              "      <td>premiumsact</td>\n",
              "      <td>0.583896</td>\n",
              "      <td>customers</td>\n",
              "      <td>0.494937</td>\n",
              "      <td>agency</td>\n",
              "      <td>0.520409</td>\n",
              "    </tr>\n",
              "    <tr>\n",
              "      <th>4</th>\n",
              "      <td>global</td>\n",
              "      <td>0.414039</td>\n",
              "      <td>paralegal</td>\n",
              "      <td>0.573212</td>\n",
              "      <td>strategic</td>\n",
              "      <td>0.490292</td>\n",
              "      <td>department</td>\n",
              "      <td>0.494056</td>\n",
              "    </tr>\n",
              "    <tr>\n",
              "      <th>5</th>\n",
              "      <td>success</td>\n",
              "      <td>0.410773</td>\n",
              "      <td>2048job</td>\n",
              "      <td>0.563640</td>\n",
              "      <td>stakeholder</td>\n",
              "      <td>0.478504</td>\n",
              "      <td>industry</td>\n",
              "      <td>0.459654</td>\n",
              "    </tr>\n",
              "    <tr>\n",
              "      <th>6</th>\n",
              "      <td>improvementsevangelize</td>\n",
              "      <td>0.406410</td>\n",
              "      <td>analystlocation</td>\n",
              "      <td>0.555974</td>\n",
              "      <td>companiesbuilding</td>\n",
              "      <td>0.470133</td>\n",
              "      <td>companytfe</td>\n",
              "      <td>0.448281</td>\n",
              "    </tr>\n",
              "    <tr>\n",
              "      <th>7</th>\n",
              "      <td>your</td>\n",
              "      <td>0.399526</td>\n",
              "      <td>description</td>\n",
              "      <td>0.555558</td>\n",
              "      <td>perfiles</td>\n",
              "      <td>0.465613</td>\n",
              "      <td>startup</td>\n",
              "      <td>0.442648</td>\n",
              "    </tr>\n",
              "    <tr>\n",
              "      <th>8</th>\n",
              "      <td>together</td>\n",
              "      <td>0.393802</td>\n",
              "      <td>escrow</td>\n",
              "      <td>0.553635</td>\n",
              "      <td>upgradeswork</td>\n",
              "      <td>0.464522</td>\n",
              "      <td>group</td>\n",
              "      <td>0.424358</td>\n",
              "    </tr>\n",
              "    <tr>\n",
              "      <th>9</th>\n",
              "      <td>marketcommunicate</td>\n",
              "      <td>0.392631</td>\n",
              "      <td>summary</td>\n",
              "      <td>0.551896</td>\n",
              "      <td>counted</td>\n",
              "      <td>0.450940</td>\n",
              "      <td>networkone</td>\n",
              "      <td>0.423874</td>\n",
              "    </tr>\n",
              "  </tbody>\n",
              "</table>\n",
              "</div>\n",
              "      <button class=\"colab-df-convert\" onclick=\"convertToInteractive('df-d65d98a4-305e-48e7-85e0-42770380e8dd')\"\n",
              "              title=\"Convert this dataframe to an interactive table.\"\n",
              "              style=\"display:none;\">\n",
              "        \n",
              "  <svg xmlns=\"http://www.w3.org/2000/svg\" height=\"24px\"viewBox=\"0 0 24 24\"\n",
              "       width=\"24px\">\n",
              "    <path d=\"M0 0h24v24H0V0z\" fill=\"none\"/>\n",
              "    <path d=\"M18.56 5.44l.94 2.06.94-2.06 2.06-.94-2.06-.94-.94-2.06-.94 2.06-2.06.94zm-11 1L8.5 8.5l.94-2.06 2.06-.94-2.06-.94L8.5 2.5l-.94 2.06-2.06.94zm10 10l.94 2.06.94-2.06 2.06-.94-2.06-.94-.94-2.06-.94 2.06-2.06.94z\"/><path d=\"M17.41 7.96l-1.37-1.37c-.4-.4-.92-.59-1.43-.59-.52 0-1.04.2-1.43.59L10.3 9.45l-7.72 7.72c-.78.78-.78 2.05 0 2.83L4 21.41c.39.39.9.59 1.41.59.51 0 1.02-.2 1.41-.59l7.78-7.78 2.81-2.81c.8-.78.8-2.07 0-2.86zM5.41 20L4 18.59l7.72-7.72 1.47 1.35L5.41 20z\"/>\n",
              "  </svg>\n",
              "      </button>\n",
              "      \n",
              "  <style>\n",
              "    .colab-df-container {\n",
              "      display:flex;\n",
              "      flex-wrap:wrap;\n",
              "      gap: 12px;\n",
              "    }\n",
              "\n",
              "    .colab-df-convert {\n",
              "      background-color: #E8F0FE;\n",
              "      border: none;\n",
              "      border-radius: 50%;\n",
              "      cursor: pointer;\n",
              "      display: none;\n",
              "      fill: #1967D2;\n",
              "      height: 32px;\n",
              "      padding: 0 0 0 0;\n",
              "      width: 32px;\n",
              "    }\n",
              "\n",
              "    .colab-df-convert:hover {\n",
              "      background-color: #E2EBFA;\n",
              "      box-shadow: 0px 1px 2px rgba(60, 64, 67, 0.3), 0px 1px 3px 1px rgba(60, 64, 67, 0.15);\n",
              "      fill: #174EA6;\n",
              "    }\n",
              "\n",
              "    [theme=dark] .colab-df-convert {\n",
              "      background-color: #3B4455;\n",
              "      fill: #D2E3FC;\n",
              "    }\n",
              "\n",
              "    [theme=dark] .colab-df-convert:hover {\n",
              "      background-color: #434B5C;\n",
              "      box-shadow: 0px 1px 3px 1px rgba(0, 0, 0, 0.15);\n",
              "      filter: drop-shadow(0px 1px 2px rgba(0, 0, 0, 0.3));\n",
              "      fill: #FFFFFF;\n",
              "    }\n",
              "  </style>\n",
              "\n",
              "      <script>\n",
              "        const buttonEl =\n",
              "          document.querySelector('#df-d65d98a4-305e-48e7-85e0-42770380e8dd button.colab-df-convert');\n",
              "        buttonEl.style.display =\n",
              "          google.colab.kernel.accessAllowed ? 'block' : 'none';\n",
              "\n",
              "        async function convertToInteractive(key) {\n",
              "          const element = document.querySelector('#df-d65d98a4-305e-48e7-85e0-42770380e8dd');\n",
              "          const dataTable =\n",
              "            await google.colab.kernel.invokeFunction('convertToInteractive',\n",
              "                                                     [key], {});\n",
              "          if (!dataTable) return;\n",
              "\n",
              "          const docLinkHtml = 'Like what you see? Visit the ' +\n",
              "            '<a target=\"_blank\" href=https://colab.research.google.com/notebooks/data_table.ipynb>data table notebook</a>'\n",
              "            + ' to learn more about interactive tables.';\n",
              "          element.innerHTML = '';\n",
              "          dataTable['output_type'] = 'display_data';\n",
              "          await google.colab.output.renderOutput(dataTable, element);\n",
              "          const docLink = document.createElement('div');\n",
              "          docLink.innerHTML = docLinkHtml;\n",
              "          element.appendChild(docLink);\n",
              "        }\n",
              "      </script>\n",
              "    </div>\n",
              "  </div>\n",
              "  "
            ]
          },
          "metadata": {},
          "execution_count": 51
        }
      ],
      "source": [
        "most_similar(w2v_model,['our','title','client','company'])"
      ]
    },
    {
      "cell_type": "markdown",
      "source": [
        "#### create embedding_vectors"
      ],
      "metadata": {
        "id": "xfQKHgMp77ke"
      }
    },
    {
      "cell_type": "code",
      "execution_count": null,
      "metadata": {
        "id": "S6g-8dSwpMdx"
      },
      "outputs": [],
      "source": [
        "# Function to create weight matrix from word2vec gensim model\n",
        "def get_weight_matrix(model, vocab):\n",
        "    # total vocabulary size plus 0 for unknown words\n",
        "    vocab_size = len(vocab) + 1\n",
        "    # define weight matrix dimensions with all 0\n",
        "    weight_matrix = np.zeros((vocab_size, EMBEDDING_DIM))\n",
        "    # step vocab, store vectors using the Tokenizer's integer mapping\n",
        "    for word, i in vocab.items():\n",
        "        weight_matrix[i] = model.wv[word]\n",
        "    return weight_matrix"
      ]
    },
    {
      "cell_type": "code",
      "execution_count": null,
      "metadata": {
        "colab": {
          "base_uri": "https://localhost:8080/"
        },
        "id": "qKf5oMMgpjxb",
        "outputId": "e72aa455-dc0c-4a22-9824-802d9531ab01"
      },
      "outputs": [
        {
          "output_type": "stream",
          "name": "stdout",
          "text": [
            "<class 'dict'>\n",
            "15409\n"
          ]
        }
      ],
      "source": [
        "print(type(word_index))\n",
        "print(word_index[\"reproducing\"])"
      ]
    },
    {
      "cell_type": "code",
      "execution_count": null,
      "metadata": {
        "id": "vdqUrGHKpOaa"
      },
      "outputs": [],
      "source": [
        "#Getting embedding vectors from word2vec and usings it as weights of non-trainable keras embedding layer\n",
        "embedding_vectors = get_weight_matrix(w2v_model, word_index)"
      ]
    },
    {
      "cell_type": "code",
      "execution_count": null,
      "metadata": {
        "colab": {
          "base_uri": "https://localhost:8080/"
        },
        "id": "QRPVMZUcooGP",
        "outputId": "648f934e-e64c-4184-d94b-c58733fa80f8"
      },
      "outputs": [
        {
          "output_type": "execute_result",
          "data": {
            "text/plain": [
              "array([ 0.68162936,  0.7915604 ,  0.22148693, -2.1904106 ,  0.46871662,\n",
              "       -0.6681396 , -0.1115028 ,  1.2353356 ,  0.39056507,  1.6800199 ,\n",
              "       -0.08013184, -0.1183731 ,  0.8423637 ,  0.45448062,  0.22996792,\n",
              "       -0.8708475 ,  0.0461343 , -0.07854148, -0.7116059 ,  1.5691217 ,\n",
              "       -1.7473004 ,  1.6154784 ,  1.2115083 , -0.31688178,  0.1902195 ,\n",
              "       -2.5152345 ,  0.30872804,  2.439953  ,  0.43447894,  1.6609881 ,\n",
              "        0.98227906, -0.75287396, -0.00329624,  0.20104164,  0.6556965 ,\n",
              "        0.28810757,  0.03439233, -0.60846674,  0.4609818 ,  0.4798694 ,\n",
              "        0.3653384 ,  0.1549128 ,  0.95546263, -1.0327297 , -0.04061998,\n",
              "        0.26109025,  1.6393111 ,  0.15592681, -0.17485055, -0.33660522,\n",
              "        0.78651726, -0.23558982,  0.13451265, -0.24725299, -0.34620854,\n",
              "        0.5669992 ,  0.1324819 , -0.7757102 ,  0.7084115 ,  0.04469537,\n",
              "        1.1942395 , -1.8247885 ,  0.05949418, -1.0389054 ,  0.67549604,\n",
              "        0.4502798 ,  2.119836  ,  0.30318207,  0.0350472 ,  0.03588368,\n",
              "       -0.9542566 , -0.7730787 ,  0.7686971 , -0.01481816, -0.3875077 ,\n",
              "        0.46270707, -0.17228879, -0.33255482, -0.39431867,  2.0511277 ,\n",
              "       -0.39992753,  0.6421398 ,  0.1094141 ,  0.9844174 ,  0.23718674,\n",
              "       -0.4691062 , -2.0911796 ,  0.5547879 , -0.8682203 ,  0.89607936,\n",
              "        0.6358689 , -0.03996341,  0.76632947, -1.7925975 , -0.6096276 ,\n",
              "        0.58946097, -0.04530327, -0.6420603 , -0.5026386 ,  0.38755703],\n",
              "      dtype=float32)"
            ]
          },
          "metadata": {},
          "execution_count": 55
        }
      ],
      "source": [
        "w2v_model.wv['and']"
      ]
    },
    {
      "cell_type": "code",
      "execution_count": null,
      "metadata": {
        "colab": {
          "base_uri": "https://localhost:8080/"
        },
        "id": "XVEbzMhZnaey",
        "outputId": "337d77c4-19e2-45d5-f180-609707ceb8e0"
      },
      "outputs": [
        {
          "output_type": "execute_result",
          "data": {
            "text/plain": [
              "array([ 0.68162936,  0.79156041,  0.22148693, -2.19041061,  0.46871662,\n",
              "       -0.66813958, -0.1115028 ,  1.23533559,  0.39056507,  1.68001986,\n",
              "       -0.08013184, -0.1183731 ,  0.84236372,  0.45448062,  0.22996792,\n",
              "       -0.87084752,  0.0461343 , -0.07854148, -0.71160591,  1.56912172,\n",
              "       -1.74730039,  1.6154784 ,  1.21150827, -0.31688178,  0.19021951,\n",
              "       -2.51523447,  0.30872804,  2.43995309,  0.43447894,  1.66098809,\n",
              "        0.98227906, -0.75287396, -0.00329624,  0.20104164,  0.65569651,\n",
              "        0.28810757,  0.03439233, -0.60846674,  0.46098179,  0.4798694 ,\n",
              "        0.36533839,  0.1549128 ,  0.95546263, -1.03272974, -0.04061998,\n",
              "        0.26109025,  1.63931108,  0.15592681, -0.17485055, -0.33660522,\n",
              "        0.78651726, -0.23558982,  0.13451265, -0.24725299, -0.34620854,\n",
              "        0.5669992 ,  0.1324819 , -0.77571023,  0.70841151,  0.04469537,\n",
              "        1.1942395 , -1.82478845,  0.05949418, -1.03890538,  0.67549604,\n",
              "        0.4502798 ,  2.11983609,  0.30318207,  0.0350472 ,  0.03588368,\n",
              "       -0.95425659, -0.77307868,  0.76869708, -0.01481816, -0.38750771,\n",
              "        0.46270707, -0.17228879, -0.33255482, -0.39431867,  2.05112767,\n",
              "       -0.39992753,  0.64213979,  0.1094141 ,  0.98441738,  0.23718674,\n",
              "       -0.4691062 , -2.09117961,  0.55478787, -0.86822033,  0.89607936,\n",
              "        0.63586891, -0.03996341,  0.76632947, -1.79259753, -0.6096276 ,\n",
              "        0.58946097, -0.04530327, -0.64206028, -0.50263858,  0.38755703])"
            ]
          },
          "metadata": {},
          "execution_count": 56
        }
      ],
      "source": [
        "embedding_vectors[1][:100]"
      ]
    },
    {
      "cell_type": "code",
      "source": [
        "embedding_vectors[1].size"
      ],
      "metadata": {
        "colab": {
          "base_uri": "https://localhost:8080/"
        },
        "id": "h7uUZzyH2CQT",
        "outputId": "b4681ff6-95ba-4df8-f53e-fb2789a0d7b1"
      },
      "execution_count": null,
      "outputs": [
        {
          "output_type": "execute_result",
          "data": {
            "text/plain": [
              "100"
            ]
          },
          "metadata": {},
          "execution_count": 57
        }
      ]
    },
    {
      "cell_type": "markdown",
      "source": [
        "#### add embedding into model"
      ],
      "metadata": {
        "id": "g8Rnmk4b8Uj-"
      }
    },
    {
      "cell_type": "code",
      "execution_count": null,
      "metadata": {
        "id": "ybHc2FaQx72k"
      },
      "outputs": [],
      "source": [
        "#Defining Neural Network\n",
        "model = Sequential()\n",
        "#Non-trainable embeddidng layer\n",
        "model.add(Embedding(vocab_size, output_dim=EMBEDDING_DIM, weights=[embedding_vectors], input_length=maxlen, trainable=False))\n",
        "#LSTM \n",
        "model.add(LSTM(units=128))\n",
        "model.add(Dense(1, activation='sigmoid'))\n",
        "model.compile(optimizer='adam', loss='binary_crossentropy', metrics=['acc'])\n"
      ]
    },
    {
      "cell_type": "code",
      "execution_count": null,
      "metadata": {
        "colab": {
          "base_uri": "https://localhost:8080/"
        },
        "id": "XQjZIk2iyFJA",
        "outputId": "593f56cc-799e-4526-a656-dc9ec06a59e9"
      },
      "outputs": [
        {
          "output_type": "stream",
          "name": "stdout",
          "text": [
            "Model: \"sequential_1\"\n",
            "_________________________________________________________________\n",
            " Layer (type)                Output Shape              Param #   \n",
            "=================================================================\n",
            " embedding (Embedding)       (None, 700, 100)          6429900   \n",
            "                                                                 \n",
            " lstm_1 (LSTM)               (None, 128)               117248    \n",
            "                                                                 \n",
            " dense_1 (Dense)             (None, 1)                 129       \n",
            "                                                                 \n",
            "=================================================================\n",
            "Total params: 6,547,277\n",
            "Trainable params: 117,377\n",
            "Non-trainable params: 6,429,900\n",
            "_________________________________________________________________\n"
          ]
        }
      ],
      "source": [
        "model.summary()"
      ]
    },
    {
      "cell_type": "code",
      "execution_count": null,
      "metadata": {
        "colab": {
          "base_uri": "https://localhost:8080/"
        },
        "id": "uBAjmlXByXMF",
        "outputId": "345aefa6-1fbc-45a1-d36d-cd9ac471b64f"
      },
      "outputs": [
        {
          "output_type": "stream",
          "name": "stdout",
          "text": [
            "Epoch 1/6\n",
            "559/559 [==============================] - 23s 38ms/step - loss: 0.3072 - acc: 0.8615 - val_loss: 0.1484 - val_acc: 0.9478\n",
            "Epoch 2/6\n",
            "559/559 [==============================] - 20s 36ms/step - loss: 0.1225 - acc: 0.9596 - val_loss: 0.0779 - val_acc: 0.9730\n",
            "Epoch 3/6\n",
            "559/559 [==============================] - 21s 37ms/step - loss: 0.0375 - acc: 0.9888 - val_loss: 0.0748 - val_acc: 0.9740\n",
            "Epoch 4/6\n",
            "559/559 [==============================] - 20s 36ms/step - loss: 0.0202 - acc: 0.9948 - val_loss: 0.0440 - val_acc: 0.9849\n",
            "Epoch 5/6\n",
            "559/559 [==============================] - 20s 37ms/step - loss: 0.0204 - acc: 0.9937 - val_loss: 0.0275 - val_acc: 0.9931\n",
            "Epoch 6/6\n",
            "559/559 [==============================] - 21s 37ms/step - loss: 0.0102 - acc: 0.9970 - val_loss: 0.0383 - val_acc: 0.9877\n"
          ]
        },
        {
          "output_type": "execute_result",
          "data": {
            "text/plain": [
              "<keras.callbacks.History at 0x7fd31457e6d0>"
            ]
          },
          "metadata": {},
          "execution_count": 60
        }
      ],
      "source": [
        "model.fit(X_train, y_train, validation_split=0.3, epochs=6)"
      ]
    },
    {
      "cell_type": "code",
      "execution_count": null,
      "metadata": {
        "colab": {
          "base_uri": "https://localhost:8080/"
        },
        "id": "wENCZWEXysix",
        "outputId": "aa5e2e10-76ac-4a72-b339-07cdcf96056e"
      },
      "outputs": [
        {
          "output_type": "stream",
          "name": "stdout",
          "text": [
            "266/266 [==============================] - 4s 13ms/step\n"
          ]
        }
      ],
      "source": [
        "y_pred = (model.predict(X_test) >= 0.5).astype(\"int\")"
      ]
    },
    {
      "cell_type": "code",
      "execution_count": null,
      "metadata": {
        "colab": {
          "base_uri": "https://localhost:8080/"
        },
        "id": "nFZW7M7kyuUM",
        "outputId": "8207c5db-65b3-4a22-d0d0-1918b8161c67"
      },
      "outputs": [
        {
          "output_type": "stream",
          "name": "stdout",
          "text": [
            "              precision    recall  f1-score   support\n",
            "\n",
            "           0       1.00      0.97      0.99      4231\n",
            "           1       0.97      1.00      0.99      4276\n",
            "\n",
            "    accuracy                           0.99      8507\n",
            "   macro avg       0.99      0.99      0.99      8507\n",
            "weighted avg       0.99      0.99      0.99      8507\n",
            "\n"
          ]
        }
      ],
      "source": [
        "print(classification_report(y_test, y_pred))"
      ]
    }
  ],
  "metadata": {
    "accelerator": "GPU",
    "colab": {
      "provenance": [],
      "include_colab_link": true
    },
    "gpuClass": "standard",
    "kernelspec": {
      "display_name": "Python 3.9.1 64-bit",
      "language": "python",
      "name": "python3"
    },
    "language_info": {
      "codemirror_mode": {
        "name": "ipython",
        "version": 3
      },
      "file_extension": ".py",
      "mimetype": "text/x-python",
      "name": "python",
      "nbconvert_exporter": "python",
      "pygments_lexer": "ipython3",
      "version": "3.9.1"
    },
    "vscode": {
      "interpreter": {
        "hash": "ad459153494ef8bf9bfb381956f48d86a83e0450934ceb6b8440ac5a2424102d"
      }
    }
  },
  "nbformat": 4,
  "nbformat_minor": 0
}